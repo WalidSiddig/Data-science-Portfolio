{
 "cells": [
  {
   "cell_type": "code",
   "execution_count": 1,
   "metadata": {
    "trusted": true
   },
   "outputs": [],
   "source": [
    "import pandas as pd\n",
    "import numpy as np\n",
    "import matplotlib.pyplot as plt\n",
    "from scipy import stats as st\n",
    "import plotly.express as px\n",
    "import plotly.io as pio\n",
    "import seaborn as sns"
   ]
  },
  {
   "cell_type": "code",
   "execution_count": 2,
   "metadata": {
    "trusted": true
   },
   "outputs": [
    {
     "data": {
      "text/html": [
       "<div>\n",
       "<style scoped>\n",
       "    .dataframe tbody tr th:only-of-type {\n",
       "        vertical-align: middle;\n",
       "    }\n",
       "\n",
       "    .dataframe tbody tr th {\n",
       "        vertical-align: top;\n",
       "    }\n",
       "\n",
       "    .dataframe thead th {\n",
       "        text-align: right;\n",
       "    }\n",
       "</style>\n",
       "<table border=\"1\" class=\"dataframe\">\n",
       "  <thead>\n",
       "    <tr style=\"text-align: right;\">\n",
       "      <th></th>\n",
       "      <th>Name</th>\n",
       "      <th>Platform</th>\n",
       "      <th>Year_of_Release</th>\n",
       "      <th>Genre</th>\n",
       "      <th>NA_sales</th>\n",
       "      <th>EU_sales</th>\n",
       "      <th>JP_sales</th>\n",
       "      <th>Other_sales</th>\n",
       "      <th>Critic_Score</th>\n",
       "      <th>User_Score</th>\n",
       "      <th>Rating</th>\n",
       "    </tr>\n",
       "  </thead>\n",
       "  <tbody>\n",
       "    <tr>\n",
       "      <th>0</th>\n",
       "      <td>Wii Sports</td>\n",
       "      <td>Wii</td>\n",
       "      <td>2006.0</td>\n",
       "      <td>Sports</td>\n",
       "      <td>41.36</td>\n",
       "      <td>28.96</td>\n",
       "      <td>3.77</td>\n",
       "      <td>8.45</td>\n",
       "      <td>76.0</td>\n",
       "      <td>8</td>\n",
       "      <td>E</td>\n",
       "    </tr>\n",
       "    <tr>\n",
       "      <th>1</th>\n",
       "      <td>Super Mario Bros.</td>\n",
       "      <td>NES</td>\n",
       "      <td>1985.0</td>\n",
       "      <td>Platform</td>\n",
       "      <td>29.08</td>\n",
       "      <td>3.58</td>\n",
       "      <td>6.81</td>\n",
       "      <td>0.77</td>\n",
       "      <td>NaN</td>\n",
       "      <td>NaN</td>\n",
       "      <td>NaN</td>\n",
       "    </tr>\n",
       "    <tr>\n",
       "      <th>2</th>\n",
       "      <td>Mario Kart Wii</td>\n",
       "      <td>Wii</td>\n",
       "      <td>2008.0</td>\n",
       "      <td>Racing</td>\n",
       "      <td>15.68</td>\n",
       "      <td>12.76</td>\n",
       "      <td>3.79</td>\n",
       "      <td>3.29</td>\n",
       "      <td>82.0</td>\n",
       "      <td>8.3</td>\n",
       "      <td>E</td>\n",
       "    </tr>\n",
       "    <tr>\n",
       "      <th>3</th>\n",
       "      <td>Wii Sports Resort</td>\n",
       "      <td>Wii</td>\n",
       "      <td>2009.0</td>\n",
       "      <td>Sports</td>\n",
       "      <td>15.61</td>\n",
       "      <td>10.93</td>\n",
       "      <td>3.28</td>\n",
       "      <td>2.95</td>\n",
       "      <td>80.0</td>\n",
       "      <td>8</td>\n",
       "      <td>E</td>\n",
       "    </tr>\n",
       "    <tr>\n",
       "      <th>4</th>\n",
       "      <td>Pokemon Red/Pokemon Blue</td>\n",
       "      <td>GB</td>\n",
       "      <td>1996.0</td>\n",
       "      <td>Role-Playing</td>\n",
       "      <td>11.27</td>\n",
       "      <td>8.89</td>\n",
       "      <td>10.22</td>\n",
       "      <td>1.00</td>\n",
       "      <td>NaN</td>\n",
       "      <td>NaN</td>\n",
       "      <td>NaN</td>\n",
       "    </tr>\n",
       "  </tbody>\n",
       "</table>\n",
       "</div>"
      ],
      "text/plain": [
       "                       Name Platform  Year_of_Release         Genre  NA_sales  \\\n",
       "0                Wii Sports      Wii           2006.0        Sports     41.36   \n",
       "1         Super Mario Bros.      NES           1985.0      Platform     29.08   \n",
       "2            Mario Kart Wii      Wii           2008.0        Racing     15.68   \n",
       "3         Wii Sports Resort      Wii           2009.0        Sports     15.61   \n",
       "4  Pokemon Red/Pokemon Blue       GB           1996.0  Role-Playing     11.27   \n",
       "\n",
       "   EU_sales  JP_sales  Other_sales  Critic_Score User_Score Rating  \n",
       "0     28.96      3.77         8.45          76.0          8      E  \n",
       "1      3.58      6.81         0.77           NaN        NaN    NaN  \n",
       "2     12.76      3.79         3.29          82.0        8.3      E  \n",
       "3     10.93      3.28         2.95          80.0          8      E  \n",
       "4      8.89     10.22         1.00           NaN        NaN    NaN  "
      ]
     },
     "execution_count": 2,
     "metadata": {},
     "output_type": "execute_result"
    }
   ],
   "source": [
    "df = pd.read_csv(\"/datasets/games.csv\")  \n",
    "df.head()"
   ]
  },
  {
   "cell_type": "code",
   "execution_count": 3,
   "metadata": {
    "trusted": true
   },
   "outputs": [
    {
     "name": "stdout",
     "output_type": "stream",
     "text": [
      "<class 'pandas.core.frame.DataFrame'>\n",
      "RangeIndex: 16715 entries, 0 to 16714\n",
      "Data columns (total 11 columns):\n",
      " #   Column           Non-Null Count  Dtype  \n",
      "---  ------           --------------  -----  \n",
      " 0   Name             16713 non-null  object \n",
      " 1   Platform         16715 non-null  object \n",
      " 2   Year_of_Release  16446 non-null  float64\n",
      " 3   Genre            16713 non-null  object \n",
      " 4   NA_sales         16715 non-null  float64\n",
      " 5   EU_sales         16715 non-null  float64\n",
      " 6   JP_sales         16715 non-null  float64\n",
      " 7   Other_sales      16715 non-null  float64\n",
      " 8   Critic_Score     8137 non-null   float64\n",
      " 9   User_Score       10014 non-null  object \n",
      " 10  Rating           9949 non-null   object \n",
      "dtypes: float64(6), object(5)\n",
      "memory usage: 1.4+ MB\n"
     ]
    }
   ],
   "source": [
    "df.info()"
   ]
  },
  {
   "cell_type": "markdown",
   "metadata": {},
   "source": [
    "# Preparing the Data"
   ]
  },
  {
   "cell_type": "markdown",
   "metadata": {},
   "source": [
    "**convert the column names to lowercase**"
   ]
  },
  {
   "cell_type": "code",
   "execution_count": 4,
   "metadata": {
    "trusted": true
   },
   "outputs": [],
   "source": [
    "df.columns = df.columns.str.lower()"
   ]
  },
  {
   "cell_type": "code",
   "execution_count": 5,
   "metadata": {
    "trusted": true
   },
   "outputs": [
    {
     "data": {
      "text/html": [
       "<div>\n",
       "<style scoped>\n",
       "    .dataframe tbody tr th:only-of-type {\n",
       "        vertical-align: middle;\n",
       "    }\n",
       "\n",
       "    .dataframe tbody tr th {\n",
       "        vertical-align: top;\n",
       "    }\n",
       "\n",
       "    .dataframe thead th {\n",
       "        text-align: right;\n",
       "    }\n",
       "</style>\n",
       "<table border=\"1\" class=\"dataframe\">\n",
       "  <thead>\n",
       "    <tr style=\"text-align: right;\">\n",
       "      <th></th>\n",
       "      <th>name</th>\n",
       "      <th>platform</th>\n",
       "      <th>year_of_release</th>\n",
       "      <th>genre</th>\n",
       "      <th>na_sales</th>\n",
       "      <th>eu_sales</th>\n",
       "      <th>jp_sales</th>\n",
       "      <th>other_sales</th>\n",
       "      <th>critic_score</th>\n",
       "      <th>user_score</th>\n",
       "      <th>rating</th>\n",
       "    </tr>\n",
       "  </thead>\n",
       "  <tbody>\n",
       "    <tr>\n",
       "      <th>16710</th>\n",
       "      <td>Samurai Warriors: Sanada Maru</td>\n",
       "      <td>PS3</td>\n",
       "      <td>2016.0</td>\n",
       "      <td>Action</td>\n",
       "      <td>0.00</td>\n",
       "      <td>0.00</td>\n",
       "      <td>0.01</td>\n",
       "      <td>0.0</td>\n",
       "      <td>NaN</td>\n",
       "      <td>NaN</td>\n",
       "      <td>NaN</td>\n",
       "    </tr>\n",
       "    <tr>\n",
       "      <th>16711</th>\n",
       "      <td>LMA Manager 2007</td>\n",
       "      <td>X360</td>\n",
       "      <td>2006.0</td>\n",
       "      <td>Sports</td>\n",
       "      <td>0.00</td>\n",
       "      <td>0.01</td>\n",
       "      <td>0.00</td>\n",
       "      <td>0.0</td>\n",
       "      <td>NaN</td>\n",
       "      <td>NaN</td>\n",
       "      <td>NaN</td>\n",
       "    </tr>\n",
       "    <tr>\n",
       "      <th>16712</th>\n",
       "      <td>Haitaka no Psychedelica</td>\n",
       "      <td>PSV</td>\n",
       "      <td>2016.0</td>\n",
       "      <td>Adventure</td>\n",
       "      <td>0.00</td>\n",
       "      <td>0.00</td>\n",
       "      <td>0.01</td>\n",
       "      <td>0.0</td>\n",
       "      <td>NaN</td>\n",
       "      <td>NaN</td>\n",
       "      <td>NaN</td>\n",
       "    </tr>\n",
       "    <tr>\n",
       "      <th>16713</th>\n",
       "      <td>Spirits &amp; Spells</td>\n",
       "      <td>GBA</td>\n",
       "      <td>2003.0</td>\n",
       "      <td>Platform</td>\n",
       "      <td>0.01</td>\n",
       "      <td>0.00</td>\n",
       "      <td>0.00</td>\n",
       "      <td>0.0</td>\n",
       "      <td>NaN</td>\n",
       "      <td>NaN</td>\n",
       "      <td>NaN</td>\n",
       "    </tr>\n",
       "    <tr>\n",
       "      <th>16714</th>\n",
       "      <td>Winning Post 8 2016</td>\n",
       "      <td>PSV</td>\n",
       "      <td>2016.0</td>\n",
       "      <td>Simulation</td>\n",
       "      <td>0.00</td>\n",
       "      <td>0.00</td>\n",
       "      <td>0.01</td>\n",
       "      <td>0.0</td>\n",
       "      <td>NaN</td>\n",
       "      <td>NaN</td>\n",
       "      <td>NaN</td>\n",
       "    </tr>\n",
       "  </tbody>\n",
       "</table>\n",
       "</div>"
      ],
      "text/plain": [
       "                                name platform  year_of_release       genre  \\\n",
       "16710  Samurai Warriors: Sanada Maru      PS3           2016.0      Action   \n",
       "16711               LMA Manager 2007     X360           2006.0      Sports   \n",
       "16712        Haitaka no Psychedelica      PSV           2016.0   Adventure   \n",
       "16713               Spirits & Spells      GBA           2003.0    Platform   \n",
       "16714            Winning Post 8 2016      PSV           2016.0  Simulation   \n",
       "\n",
       "       na_sales  eu_sales  jp_sales  other_sales  critic_score user_score  \\\n",
       "16710      0.00      0.00      0.01          0.0           NaN        NaN   \n",
       "16711      0.00      0.01      0.00          0.0           NaN        NaN   \n",
       "16712      0.00      0.00      0.01          0.0           NaN        NaN   \n",
       "16713      0.01      0.00      0.00          0.0           NaN        NaN   \n",
       "16714      0.00      0.00      0.01          0.0           NaN        NaN   \n",
       "\n",
       "      rating  \n",
       "16710    NaN  \n",
       "16711    NaN  \n",
       "16712    NaN  \n",
       "16713    NaN  \n",
       "16714    NaN  "
      ]
     },
     "execution_count": 5,
     "metadata": {},
     "output_type": "execute_result"
    }
   ],
   "source": [
    "df.tail()"
   ]
  },
  {
   "cell_type": "markdown",
   "metadata": {},
   "source": [
    "**Convert the data to the required type**"
   ]
  },
  {
   "cell_type": "markdown",
   "metadata": {},
   "source": [
    "**(Year_of_Release) was initially a (float64) representing years. conversion to a (int64) format, and drop missing values completely because we don’t want to assume, the year was extracted use for easier analysis**"
   ]
  },
  {
   "cell_type": "code",
   "execution_count": 6,
   "metadata": {
    "trusted": true
   },
   "outputs": [],
   "source": [
    "df = df.dropna(subset=['year_of_release'])  # Remove missing values\n",
    "df['year_of_release'] = df['year_of_release'].astype(int)"
   ]
  },
  {
   "cell_type": "markdown",
   "metadata": {},
   "source": [
    "**User_Score was initially an object because it contained string representations of numbers and non-numeric values like 'tbd' and 'N/A', it was converted to float64. The invalid entries were replaced with NaN due to the errors='coerce' option**"
   ]
  },
  {
   "cell_type": "code",
   "execution_count": 7,
   "metadata": {
    "trusted": true
   },
   "outputs": [],
   "source": [
    "df['user_score'] = pd.to_numeric(df['user_score'], errors='coerce')"
   ]
  },
  {
   "cell_type": "code",
   "execution_count": 8,
   "metadata": {
    "trusted": true
   },
   "outputs": [
    {
     "name": "stdout",
     "output_type": "stream",
     "text": [
      "<class 'pandas.core.frame.DataFrame'>\n",
      "Int64Index: 16446 entries, 0 to 16714\n",
      "Data columns (total 11 columns):\n",
      " #   Column           Non-Null Count  Dtype  \n",
      "---  ------           --------------  -----  \n",
      " 0   name             16444 non-null  object \n",
      " 1   platform         16446 non-null  object \n",
      " 2   year_of_release  16446 non-null  int64  \n",
      " 3   genre            16444 non-null  object \n",
      " 4   na_sales         16446 non-null  float64\n",
      " 5   eu_sales         16446 non-null  float64\n",
      " 6   jp_sales         16446 non-null  float64\n",
      " 7   other_sales      16446 non-null  float64\n",
      " 8   critic_score     7983 non-null   float64\n",
      " 9   user_score       7463 non-null   float64\n",
      " 10  rating           9768 non-null   object \n",
      "dtypes: float64(6), int64(1), object(4)\n",
      "memory usage: 1.5+ MB\n"
     ]
    },
    {
     "data": {
      "text/html": [
       "<div>\n",
       "<style scoped>\n",
       "    .dataframe tbody tr th:only-of-type {\n",
       "        vertical-align: middle;\n",
       "    }\n",
       "\n",
       "    .dataframe tbody tr th {\n",
       "        vertical-align: top;\n",
       "    }\n",
       "\n",
       "    .dataframe thead th {\n",
       "        text-align: right;\n",
       "    }\n",
       "</style>\n",
       "<table border=\"1\" class=\"dataframe\">\n",
       "  <thead>\n",
       "    <tr style=\"text-align: right;\">\n",
       "      <th></th>\n",
       "      <th>name</th>\n",
       "      <th>platform</th>\n",
       "      <th>year_of_release</th>\n",
       "      <th>genre</th>\n",
       "      <th>na_sales</th>\n",
       "      <th>eu_sales</th>\n",
       "      <th>jp_sales</th>\n",
       "      <th>other_sales</th>\n",
       "      <th>critic_score</th>\n",
       "      <th>user_score</th>\n",
       "      <th>rating</th>\n",
       "    </tr>\n",
       "  </thead>\n",
       "  <tbody>\n",
       "    <tr>\n",
       "      <th>0</th>\n",
       "      <td>Wii Sports</td>\n",
       "      <td>Wii</td>\n",
       "      <td>2006</td>\n",
       "      <td>Sports</td>\n",
       "      <td>41.36</td>\n",
       "      <td>28.96</td>\n",
       "      <td>3.77</td>\n",
       "      <td>8.45</td>\n",
       "      <td>76.0</td>\n",
       "      <td>8.0</td>\n",
       "      <td>E</td>\n",
       "    </tr>\n",
       "    <tr>\n",
       "      <th>1</th>\n",
       "      <td>Super Mario Bros.</td>\n",
       "      <td>NES</td>\n",
       "      <td>1985</td>\n",
       "      <td>Platform</td>\n",
       "      <td>29.08</td>\n",
       "      <td>3.58</td>\n",
       "      <td>6.81</td>\n",
       "      <td>0.77</td>\n",
       "      <td>NaN</td>\n",
       "      <td>NaN</td>\n",
       "      <td>NaN</td>\n",
       "    </tr>\n",
       "    <tr>\n",
       "      <th>2</th>\n",
       "      <td>Mario Kart Wii</td>\n",
       "      <td>Wii</td>\n",
       "      <td>2008</td>\n",
       "      <td>Racing</td>\n",
       "      <td>15.68</td>\n",
       "      <td>12.76</td>\n",
       "      <td>3.79</td>\n",
       "      <td>3.29</td>\n",
       "      <td>82.0</td>\n",
       "      <td>8.3</td>\n",
       "      <td>E</td>\n",
       "    </tr>\n",
       "    <tr>\n",
       "      <th>3</th>\n",
       "      <td>Wii Sports Resort</td>\n",
       "      <td>Wii</td>\n",
       "      <td>2009</td>\n",
       "      <td>Sports</td>\n",
       "      <td>15.61</td>\n",
       "      <td>10.93</td>\n",
       "      <td>3.28</td>\n",
       "      <td>2.95</td>\n",
       "      <td>80.0</td>\n",
       "      <td>8.0</td>\n",
       "      <td>E</td>\n",
       "    </tr>\n",
       "    <tr>\n",
       "      <th>4</th>\n",
       "      <td>Pokemon Red/Pokemon Blue</td>\n",
       "      <td>GB</td>\n",
       "      <td>1996</td>\n",
       "      <td>Role-Playing</td>\n",
       "      <td>11.27</td>\n",
       "      <td>8.89</td>\n",
       "      <td>10.22</td>\n",
       "      <td>1.00</td>\n",
       "      <td>NaN</td>\n",
       "      <td>NaN</td>\n",
       "      <td>NaN</td>\n",
       "    </tr>\n",
       "    <tr>\n",
       "      <th>...</th>\n",
       "      <td>...</td>\n",
       "      <td>...</td>\n",
       "      <td>...</td>\n",
       "      <td>...</td>\n",
       "      <td>...</td>\n",
       "      <td>...</td>\n",
       "      <td>...</td>\n",
       "      <td>...</td>\n",
       "      <td>...</td>\n",
       "      <td>...</td>\n",
       "      <td>...</td>\n",
       "    </tr>\n",
       "    <tr>\n",
       "      <th>16710</th>\n",
       "      <td>Samurai Warriors: Sanada Maru</td>\n",
       "      <td>PS3</td>\n",
       "      <td>2016</td>\n",
       "      <td>Action</td>\n",
       "      <td>0.00</td>\n",
       "      <td>0.00</td>\n",
       "      <td>0.01</td>\n",
       "      <td>0.00</td>\n",
       "      <td>NaN</td>\n",
       "      <td>NaN</td>\n",
       "      <td>NaN</td>\n",
       "    </tr>\n",
       "    <tr>\n",
       "      <th>16711</th>\n",
       "      <td>LMA Manager 2007</td>\n",
       "      <td>X360</td>\n",
       "      <td>2006</td>\n",
       "      <td>Sports</td>\n",
       "      <td>0.00</td>\n",
       "      <td>0.01</td>\n",
       "      <td>0.00</td>\n",
       "      <td>0.00</td>\n",
       "      <td>NaN</td>\n",
       "      <td>NaN</td>\n",
       "      <td>NaN</td>\n",
       "    </tr>\n",
       "    <tr>\n",
       "      <th>16712</th>\n",
       "      <td>Haitaka no Psychedelica</td>\n",
       "      <td>PSV</td>\n",
       "      <td>2016</td>\n",
       "      <td>Adventure</td>\n",
       "      <td>0.00</td>\n",
       "      <td>0.00</td>\n",
       "      <td>0.01</td>\n",
       "      <td>0.00</td>\n",
       "      <td>NaN</td>\n",
       "      <td>NaN</td>\n",
       "      <td>NaN</td>\n",
       "    </tr>\n",
       "    <tr>\n",
       "      <th>16713</th>\n",
       "      <td>Spirits &amp; Spells</td>\n",
       "      <td>GBA</td>\n",
       "      <td>2003</td>\n",
       "      <td>Platform</td>\n",
       "      <td>0.01</td>\n",
       "      <td>0.00</td>\n",
       "      <td>0.00</td>\n",
       "      <td>0.00</td>\n",
       "      <td>NaN</td>\n",
       "      <td>NaN</td>\n",
       "      <td>NaN</td>\n",
       "    </tr>\n",
       "    <tr>\n",
       "      <th>16714</th>\n",
       "      <td>Winning Post 8 2016</td>\n",
       "      <td>PSV</td>\n",
       "      <td>2016</td>\n",
       "      <td>Simulation</td>\n",
       "      <td>0.00</td>\n",
       "      <td>0.00</td>\n",
       "      <td>0.01</td>\n",
       "      <td>0.00</td>\n",
       "      <td>NaN</td>\n",
       "      <td>NaN</td>\n",
       "      <td>NaN</td>\n",
       "    </tr>\n",
       "  </tbody>\n",
       "</table>\n",
       "<p>16446 rows × 11 columns</p>\n",
       "</div>"
      ],
      "text/plain": [
       "                                name platform  year_of_release         genre  \\\n",
       "0                         Wii Sports      Wii             2006        Sports   \n",
       "1                  Super Mario Bros.      NES             1985      Platform   \n",
       "2                     Mario Kart Wii      Wii             2008        Racing   \n",
       "3                  Wii Sports Resort      Wii             2009        Sports   \n",
       "4           Pokemon Red/Pokemon Blue       GB             1996  Role-Playing   \n",
       "...                              ...      ...              ...           ...   \n",
       "16710  Samurai Warriors: Sanada Maru      PS3             2016        Action   \n",
       "16711               LMA Manager 2007     X360             2006        Sports   \n",
       "16712        Haitaka no Psychedelica      PSV             2016     Adventure   \n",
       "16713               Spirits & Spells      GBA             2003      Platform   \n",
       "16714            Winning Post 8 2016      PSV             2016    Simulation   \n",
       "\n",
       "       na_sales  eu_sales  jp_sales  other_sales  critic_score  user_score  \\\n",
       "0         41.36     28.96      3.77         8.45          76.0         8.0   \n",
       "1         29.08      3.58      6.81         0.77           NaN         NaN   \n",
       "2         15.68     12.76      3.79         3.29          82.0         8.3   \n",
       "3         15.61     10.93      3.28         2.95          80.0         8.0   \n",
       "4         11.27      8.89     10.22         1.00           NaN         NaN   \n",
       "...         ...       ...       ...          ...           ...         ...   \n",
       "16710      0.00      0.00      0.01         0.00           NaN         NaN   \n",
       "16711      0.00      0.01      0.00         0.00           NaN         NaN   \n",
       "16712      0.00      0.00      0.01         0.00           NaN         NaN   \n",
       "16713      0.01      0.00      0.00         0.00           NaN         NaN   \n",
       "16714      0.00      0.00      0.01         0.00           NaN         NaN   \n",
       "\n",
       "      rating  \n",
       "0          E  \n",
       "1        NaN  \n",
       "2          E  \n",
       "3          E  \n",
       "4        NaN  \n",
       "...      ...  \n",
       "16710    NaN  \n",
       "16711    NaN  \n",
       "16712    NaN  \n",
       "16713    NaN  \n",
       "16714    NaN  \n",
       "\n",
       "[16446 rows x 11 columns]"
      ]
     },
     "execution_count": 8,
     "metadata": {},
     "output_type": "execute_result"
    }
   ],
   "source": [
    "df.info()\n",
    "df"
   ]
  },
  {
   "cell_type": "markdown",
   "metadata": {},
   "source": [
    "**Handling missing values**"
   ]
  },
  {
   "cell_type": "code",
   "execution_count": 9,
   "metadata": {
    "trusted": true
   },
   "outputs": [
    {
     "data": {
      "text/plain": [
       "name               0.000122\n",
       "platform           0.000000\n",
       "year_of_release    0.000000\n",
       "genre              0.000122\n",
       "na_sales           0.000000\n",
       "eu_sales           0.000000\n",
       "jp_sales           0.000000\n",
       "other_sales        0.000000\n",
       "critic_score       0.514593\n",
       "user_score         0.546212\n",
       "rating             0.406056\n",
       "dtype: float64"
      ]
     },
     "execution_count": 9,
     "metadata": {},
     "output_type": "execute_result"
    }
   ],
   "source": [
    "#df.isna().sum()\n",
    "df.isnull().sum()/len(df)"
   ]
  },
  {
   "cell_type": "markdown",
   "metadata": {},
   "source": [
    "**For columns like (user_score), (critic_score), or (rating), replace tbd with NaN to maintain data integrity.**"
   ]
  },
  {
   "cell_type": "code",
   "execution_count": 10,
   "metadata": {
    "trusted": true
   },
   "outputs": [],
   "source": [
    "df['user_score'] = df['user_score'].replace('tbd', float('nan'))\n",
    "df['critic_score'] = df['critic_score'].replace('tbd', float('nan'))\n",
    "df['rating'] = df['rating'].replace('tbd', 'Not Rated')"
   ]
  },
  {
   "cell_type": "markdown",
   "metadata": {},
   "source": [
    "\n",
    "**for column (name) has 2 missing values , its better to drop the because the data unecessary**"
   ]
  },
  {
   "cell_type": "code",
   "execution_count": 11,
   "metadata": {
    "trusted": true
   },
   "outputs": [
    {
     "data": {
      "text/html": [
       "<div>\n",
       "<style scoped>\n",
       "    .dataframe tbody tr th:only-of-type {\n",
       "        vertical-align: middle;\n",
       "    }\n",
       "\n",
       "    .dataframe tbody tr th {\n",
       "        vertical-align: top;\n",
       "    }\n",
       "\n",
       "    .dataframe thead th {\n",
       "        text-align: right;\n",
       "    }\n",
       "</style>\n",
       "<table border=\"1\" class=\"dataframe\">\n",
       "  <thead>\n",
       "    <tr style=\"text-align: right;\">\n",
       "      <th></th>\n",
       "      <th>name</th>\n",
       "      <th>platform</th>\n",
       "      <th>year_of_release</th>\n",
       "      <th>genre</th>\n",
       "      <th>na_sales</th>\n",
       "      <th>eu_sales</th>\n",
       "      <th>jp_sales</th>\n",
       "      <th>other_sales</th>\n",
       "      <th>critic_score</th>\n",
       "      <th>user_score</th>\n",
       "      <th>rating</th>\n",
       "    </tr>\n",
       "  </thead>\n",
       "  <tbody>\n",
       "    <tr>\n",
       "      <th>659</th>\n",
       "      <td>NaN</td>\n",
       "      <td>GEN</td>\n",
       "      <td>1993</td>\n",
       "      <td>NaN</td>\n",
       "      <td>1.78</td>\n",
       "      <td>0.53</td>\n",
       "      <td>0.00</td>\n",
       "      <td>0.08</td>\n",
       "      <td>NaN</td>\n",
       "      <td>NaN</td>\n",
       "      <td>NaN</td>\n",
       "    </tr>\n",
       "    <tr>\n",
       "      <th>14244</th>\n",
       "      <td>NaN</td>\n",
       "      <td>GEN</td>\n",
       "      <td>1993</td>\n",
       "      <td>NaN</td>\n",
       "      <td>0.00</td>\n",
       "      <td>0.00</td>\n",
       "      <td>0.03</td>\n",
       "      <td>0.00</td>\n",
       "      <td>NaN</td>\n",
       "      <td>NaN</td>\n",
       "      <td>NaN</td>\n",
       "    </tr>\n",
       "  </tbody>\n",
       "</table>\n",
       "</div>"
      ],
      "text/plain": [
       "      name platform  year_of_release genre  na_sales  eu_sales  jp_sales  \\\n",
       "659    NaN      GEN             1993   NaN      1.78      0.53      0.00   \n",
       "14244  NaN      GEN             1993   NaN      0.00      0.00      0.03   \n",
       "\n",
       "       other_sales  critic_score  user_score rating  \n",
       "659           0.08           NaN         NaN    NaN  \n",
       "14244         0.00           NaN         NaN    NaN  "
      ]
     },
     "execution_count": 11,
     "metadata": {},
     "output_type": "execute_result"
    }
   ],
   "source": [
    "df_missing_names = df[df['name'].isnull()]\n",
    "df_missing_names"
   ]
  },
  {
   "cell_type": "code",
   "execution_count": 12,
   "metadata": {
    "trusted": true
   },
   "outputs": [],
   "source": [
    "df = df.dropna(subset=['name'])"
   ]
  },
  {
   "cell_type": "code",
   "execution_count": 13,
   "metadata": {
    "trusted": true
   },
   "outputs": [
    {
     "data": {
      "text/plain": [
       "0"
      ]
     },
     "execution_count": 13,
     "metadata": {},
     "output_type": "execute_result"
    }
   ],
   "source": [
    "df['name'].isnull().sum()"
   ]
  },
  {
   "cell_type": "markdown",
   "metadata": {},
   "source": [
    "**(year_of_release) has missing values, it might be better to drop rows with missing years to maintain data integrity.**"
   ]
  },
  {
   "cell_type": "code",
   "execution_count": 14,
   "metadata": {
    "trusted": true
   },
   "outputs": [
    {
     "data": {
      "text/html": [
       "<div>\n",
       "<style scoped>\n",
       "    .dataframe tbody tr th:only-of-type {\n",
       "        vertical-align: middle;\n",
       "    }\n",
       "\n",
       "    .dataframe tbody tr th {\n",
       "        vertical-align: top;\n",
       "    }\n",
       "\n",
       "    .dataframe thead th {\n",
       "        text-align: right;\n",
       "    }\n",
       "</style>\n",
       "<table border=\"1\" class=\"dataframe\">\n",
       "  <thead>\n",
       "    <tr style=\"text-align: right;\">\n",
       "      <th></th>\n",
       "      <th>name</th>\n",
       "      <th>platform</th>\n",
       "      <th>year_of_release</th>\n",
       "      <th>genre</th>\n",
       "      <th>na_sales</th>\n",
       "      <th>eu_sales</th>\n",
       "      <th>jp_sales</th>\n",
       "      <th>other_sales</th>\n",
       "      <th>critic_score</th>\n",
       "      <th>user_score</th>\n",
       "      <th>rating</th>\n",
       "    </tr>\n",
       "  </thead>\n",
       "  <tbody>\n",
       "  </tbody>\n",
       "</table>\n",
       "</div>"
      ],
      "text/plain": [
       "Empty DataFrame\n",
       "Columns: [name, platform, year_of_release, genre, na_sales, eu_sales, jp_sales, other_sales, critic_score, user_score, rating]\n",
       "Index: []"
      ]
     },
     "execution_count": 14,
     "metadata": {},
     "output_type": "execute_result"
    }
   ],
   "source": [
    "df_missing_year = df[df['year_of_release'].isnull()]\n",
    "df_missing_year"
   ]
  },
  {
   "cell_type": "code",
   "execution_count": 15,
   "metadata": {
    "trusted": true
   },
   "outputs": [],
   "source": [
    "df = df.dropna(subset=['year_of_release'])"
   ]
  },
  {
   "cell_type": "code",
   "execution_count": 16,
   "metadata": {
    "trusted": true
   },
   "outputs": [
    {
     "data": {
      "text/plain": [
       "0"
      ]
     },
     "execution_count": 16,
     "metadata": {},
     "output_type": "execute_result"
    }
   ],
   "source": [
    "df['year_of_release'].isnull().sum()"
   ]
  },
  {
   "cell_type": "markdown",
   "metadata": {},
   "source": [
    "**(critic_score) has missing values, we could fill missing values with the median of the existing critic scores**"
   ]
  },
  {
   "cell_type": "code",
   "execution_count": 17,
   "metadata": {
    "trusted": true
   },
   "outputs": [],
   "source": [
    "df_missing_critic_score = df[df['critic_score'].isnull()]"
   ]
  },
  {
   "cell_type": "code",
   "execution_count": 18,
   "metadata": {
    "trusted": true
   },
   "outputs": [
    {
     "data": {
      "text/html": [
       "<div>\n",
       "<style scoped>\n",
       "    .dataframe tbody tr th:only-of-type {\n",
       "        vertical-align: middle;\n",
       "    }\n",
       "\n",
       "    .dataframe tbody tr th {\n",
       "        vertical-align: top;\n",
       "    }\n",
       "\n",
       "    .dataframe thead th {\n",
       "        text-align: right;\n",
       "    }\n",
       "</style>\n",
       "<table border=\"1\" class=\"dataframe\">\n",
       "  <thead>\n",
       "    <tr style=\"text-align: right;\">\n",
       "      <th></th>\n",
       "      <th>name</th>\n",
       "      <th>platform</th>\n",
       "      <th>year_of_release</th>\n",
       "      <th>genre</th>\n",
       "      <th>na_sales</th>\n",
       "      <th>eu_sales</th>\n",
       "      <th>jp_sales</th>\n",
       "      <th>other_sales</th>\n",
       "      <th>critic_score</th>\n",
       "      <th>user_score</th>\n",
       "      <th>rating</th>\n",
       "    </tr>\n",
       "  </thead>\n",
       "  <tbody>\n",
       "    <tr>\n",
       "      <th>1</th>\n",
       "      <td>Super Mario Bros.</td>\n",
       "      <td>NES</td>\n",
       "      <td>1985</td>\n",
       "      <td>Platform</td>\n",
       "      <td>29.08</td>\n",
       "      <td>3.58</td>\n",
       "      <td>6.81</td>\n",
       "      <td>0.77</td>\n",
       "      <td>NaN</td>\n",
       "      <td>NaN</td>\n",
       "      <td>NaN</td>\n",
       "    </tr>\n",
       "    <tr>\n",
       "      <th>4</th>\n",
       "      <td>Pokemon Red/Pokemon Blue</td>\n",
       "      <td>GB</td>\n",
       "      <td>1996</td>\n",
       "      <td>Role-Playing</td>\n",
       "      <td>11.27</td>\n",
       "      <td>8.89</td>\n",
       "      <td>10.22</td>\n",
       "      <td>1.00</td>\n",
       "      <td>NaN</td>\n",
       "      <td>NaN</td>\n",
       "      <td>NaN</td>\n",
       "    </tr>\n",
       "    <tr>\n",
       "      <th>5</th>\n",
       "      <td>Tetris</td>\n",
       "      <td>GB</td>\n",
       "      <td>1989</td>\n",
       "      <td>Puzzle</td>\n",
       "      <td>23.20</td>\n",
       "      <td>2.26</td>\n",
       "      <td>4.22</td>\n",
       "      <td>0.58</td>\n",
       "      <td>NaN</td>\n",
       "      <td>NaN</td>\n",
       "      <td>NaN</td>\n",
       "    </tr>\n",
       "    <tr>\n",
       "      <th>9</th>\n",
       "      <td>Duck Hunt</td>\n",
       "      <td>NES</td>\n",
       "      <td>1984</td>\n",
       "      <td>Shooter</td>\n",
       "      <td>26.93</td>\n",
       "      <td>0.63</td>\n",
       "      <td>0.28</td>\n",
       "      <td>0.47</td>\n",
       "      <td>NaN</td>\n",
       "      <td>NaN</td>\n",
       "      <td>NaN</td>\n",
       "    </tr>\n",
       "    <tr>\n",
       "      <th>10</th>\n",
       "      <td>Nintendogs</td>\n",
       "      <td>DS</td>\n",
       "      <td>2005</td>\n",
       "      <td>Simulation</td>\n",
       "      <td>9.05</td>\n",
       "      <td>10.95</td>\n",
       "      <td>1.93</td>\n",
       "      <td>2.74</td>\n",
       "      <td>NaN</td>\n",
       "      <td>NaN</td>\n",
       "      <td>NaN</td>\n",
       "    </tr>\n",
       "  </tbody>\n",
       "</table>\n",
       "</div>"
      ],
      "text/plain": [
       "                        name platform  year_of_release         genre  \\\n",
       "1          Super Mario Bros.      NES             1985      Platform   \n",
       "4   Pokemon Red/Pokemon Blue       GB             1996  Role-Playing   \n",
       "5                     Tetris       GB             1989        Puzzle   \n",
       "9                  Duck Hunt      NES             1984       Shooter   \n",
       "10                Nintendogs       DS             2005    Simulation   \n",
       "\n",
       "    na_sales  eu_sales  jp_sales  other_sales  critic_score  user_score rating  \n",
       "1      29.08      3.58      6.81         0.77           NaN         NaN    NaN  \n",
       "4      11.27      8.89     10.22         1.00           NaN         NaN    NaN  \n",
       "5      23.20      2.26      4.22         0.58           NaN         NaN    NaN  \n",
       "9      26.93      0.63      0.28         0.47           NaN         NaN    NaN  \n",
       "10      9.05     10.95      1.93         2.74           NaN         NaN    NaN  "
      ]
     },
     "execution_count": 18,
     "metadata": {},
     "output_type": "execute_result"
    }
   ],
   "source": [
    "df_missing_critic_score.head()"
   ]
  },
  {
   "cell_type": "code",
   "execution_count": 19,
   "metadata": {
    "trusted": true
   },
   "outputs": [],
   "source": [
    "df['critic_score'] = pd.to_numeric(df['critic_score'], errors='coerce')\n",
    "#df['critic_score'] = pd.to_numeric(df['critic_score'], errors='coerce')"
   ]
  },
  {
   "cell_type": "code",
   "execution_count": 20,
   "metadata": {
    "trusted": true
   },
   "outputs": [
    {
     "data": {
      "text/plain": [
       "8461"
      ]
     },
     "execution_count": 20,
     "metadata": {},
     "output_type": "execute_result"
    }
   ],
   "source": [
    "df['critic_score'].isnull().sum()"
   ]
  },
  {
   "cell_type": "code",
   "execution_count": 21,
   "metadata": {
    "trusted": true
   },
   "outputs": [
    {
     "data": {
      "text/html": [
       "<div>\n",
       "<style scoped>\n",
       "    .dataframe tbody tr th:only-of-type {\n",
       "        vertical-align: middle;\n",
       "    }\n",
       "\n",
       "    .dataframe tbody tr th {\n",
       "        vertical-align: top;\n",
       "    }\n",
       "\n",
       "    .dataframe thead th {\n",
       "        text-align: right;\n",
       "    }\n",
       "</style>\n",
       "<table border=\"1\" class=\"dataframe\">\n",
       "  <thead>\n",
       "    <tr style=\"text-align: right;\">\n",
       "      <th></th>\n",
       "      <th>name</th>\n",
       "      <th>platform</th>\n",
       "      <th>year_of_release</th>\n",
       "      <th>genre</th>\n",
       "      <th>na_sales</th>\n",
       "      <th>eu_sales</th>\n",
       "      <th>jp_sales</th>\n",
       "      <th>other_sales</th>\n",
       "      <th>critic_score</th>\n",
       "      <th>user_score</th>\n",
       "      <th>rating</th>\n",
       "    </tr>\n",
       "  </thead>\n",
       "  <tbody>\n",
       "    <tr>\n",
       "      <th>0</th>\n",
       "      <td>Wii Sports</td>\n",
       "      <td>Wii</td>\n",
       "      <td>2006</td>\n",
       "      <td>Sports</td>\n",
       "      <td>41.36</td>\n",
       "      <td>28.96</td>\n",
       "      <td>3.77</td>\n",
       "      <td>8.45</td>\n",
       "      <td>76.0</td>\n",
       "      <td>8.0</td>\n",
       "      <td>E</td>\n",
       "    </tr>\n",
       "    <tr>\n",
       "      <th>1</th>\n",
       "      <td>Super Mario Bros.</td>\n",
       "      <td>NES</td>\n",
       "      <td>1985</td>\n",
       "      <td>Platform</td>\n",
       "      <td>29.08</td>\n",
       "      <td>3.58</td>\n",
       "      <td>6.81</td>\n",
       "      <td>0.77</td>\n",
       "      <td>NaN</td>\n",
       "      <td>NaN</td>\n",
       "      <td>NaN</td>\n",
       "    </tr>\n",
       "    <tr>\n",
       "      <th>2</th>\n",
       "      <td>Mario Kart Wii</td>\n",
       "      <td>Wii</td>\n",
       "      <td>2008</td>\n",
       "      <td>Racing</td>\n",
       "      <td>15.68</td>\n",
       "      <td>12.76</td>\n",
       "      <td>3.79</td>\n",
       "      <td>3.29</td>\n",
       "      <td>82.0</td>\n",
       "      <td>8.3</td>\n",
       "      <td>E</td>\n",
       "    </tr>\n",
       "    <tr>\n",
       "      <th>3</th>\n",
       "      <td>Wii Sports Resort</td>\n",
       "      <td>Wii</td>\n",
       "      <td>2009</td>\n",
       "      <td>Sports</td>\n",
       "      <td>15.61</td>\n",
       "      <td>10.93</td>\n",
       "      <td>3.28</td>\n",
       "      <td>2.95</td>\n",
       "      <td>80.0</td>\n",
       "      <td>8.0</td>\n",
       "      <td>E</td>\n",
       "    </tr>\n",
       "    <tr>\n",
       "      <th>4</th>\n",
       "      <td>Pokemon Red/Pokemon Blue</td>\n",
       "      <td>GB</td>\n",
       "      <td>1996</td>\n",
       "      <td>Role-Playing</td>\n",
       "      <td>11.27</td>\n",
       "      <td>8.89</td>\n",
       "      <td>10.22</td>\n",
       "      <td>1.00</td>\n",
       "      <td>NaN</td>\n",
       "      <td>NaN</td>\n",
       "      <td>NaN</td>\n",
       "    </tr>\n",
       "  </tbody>\n",
       "</table>\n",
       "</div>"
      ],
      "text/plain": [
       "                       name platform  year_of_release         genre  na_sales  \\\n",
       "0                Wii Sports      Wii             2006        Sports     41.36   \n",
       "1         Super Mario Bros.      NES             1985      Platform     29.08   \n",
       "2            Mario Kart Wii      Wii             2008        Racing     15.68   \n",
       "3         Wii Sports Resort      Wii             2009        Sports     15.61   \n",
       "4  Pokemon Red/Pokemon Blue       GB             1996  Role-Playing     11.27   \n",
       "\n",
       "   eu_sales  jp_sales  other_sales  critic_score  user_score rating  \n",
       "0     28.96      3.77         8.45          76.0         8.0      E  \n",
       "1      3.58      6.81         0.77           NaN         NaN    NaN  \n",
       "2     12.76      3.79         3.29          82.0         8.3      E  \n",
       "3     10.93      3.28         2.95          80.0         8.0      E  \n",
       "4      8.89     10.22         1.00           NaN         NaN    NaN  "
      ]
     },
     "execution_count": 21,
     "metadata": {},
     "output_type": "execute_result"
    }
   ],
   "source": [
    "df.head()"
   ]
  },
  {
   "cell_type": "markdown",
   "metadata": {},
   "source": [
    "**(user_score) has missing values, Similar to critic_score, we could fill missing user scores with the median user score**"
   ]
  },
  {
   "cell_type": "code",
   "execution_count": 22,
   "metadata": {
    "trusted": true
   },
   "outputs": [
    {
     "data": {
      "text/html": [
       "<div>\n",
       "<style scoped>\n",
       "    .dataframe tbody tr th:only-of-type {\n",
       "        vertical-align: middle;\n",
       "    }\n",
       "\n",
       "    .dataframe tbody tr th {\n",
       "        vertical-align: top;\n",
       "    }\n",
       "\n",
       "    .dataframe thead th {\n",
       "        text-align: right;\n",
       "    }\n",
       "</style>\n",
       "<table border=\"1\" class=\"dataframe\">\n",
       "  <thead>\n",
       "    <tr style=\"text-align: right;\">\n",
       "      <th></th>\n",
       "      <th>name</th>\n",
       "      <th>platform</th>\n",
       "      <th>year_of_release</th>\n",
       "      <th>genre</th>\n",
       "      <th>na_sales</th>\n",
       "      <th>eu_sales</th>\n",
       "      <th>jp_sales</th>\n",
       "      <th>other_sales</th>\n",
       "      <th>critic_score</th>\n",
       "      <th>user_score</th>\n",
       "      <th>rating</th>\n",
       "    </tr>\n",
       "  </thead>\n",
       "  <tbody>\n",
       "    <tr>\n",
       "      <th>1</th>\n",
       "      <td>Super Mario Bros.</td>\n",
       "      <td>NES</td>\n",
       "      <td>1985</td>\n",
       "      <td>Platform</td>\n",
       "      <td>29.08</td>\n",
       "      <td>3.58</td>\n",
       "      <td>6.81</td>\n",
       "      <td>0.77</td>\n",
       "      <td>NaN</td>\n",
       "      <td>NaN</td>\n",
       "      <td>NaN</td>\n",
       "    </tr>\n",
       "    <tr>\n",
       "      <th>4</th>\n",
       "      <td>Pokemon Red/Pokemon Blue</td>\n",
       "      <td>GB</td>\n",
       "      <td>1996</td>\n",
       "      <td>Role-Playing</td>\n",
       "      <td>11.27</td>\n",
       "      <td>8.89</td>\n",
       "      <td>10.22</td>\n",
       "      <td>1.00</td>\n",
       "      <td>NaN</td>\n",
       "      <td>NaN</td>\n",
       "      <td>NaN</td>\n",
       "    </tr>\n",
       "    <tr>\n",
       "      <th>5</th>\n",
       "      <td>Tetris</td>\n",
       "      <td>GB</td>\n",
       "      <td>1989</td>\n",
       "      <td>Puzzle</td>\n",
       "      <td>23.20</td>\n",
       "      <td>2.26</td>\n",
       "      <td>4.22</td>\n",
       "      <td>0.58</td>\n",
       "      <td>NaN</td>\n",
       "      <td>NaN</td>\n",
       "      <td>NaN</td>\n",
       "    </tr>\n",
       "    <tr>\n",
       "      <th>9</th>\n",
       "      <td>Duck Hunt</td>\n",
       "      <td>NES</td>\n",
       "      <td>1984</td>\n",
       "      <td>Shooter</td>\n",
       "      <td>26.93</td>\n",
       "      <td>0.63</td>\n",
       "      <td>0.28</td>\n",
       "      <td>0.47</td>\n",
       "      <td>NaN</td>\n",
       "      <td>NaN</td>\n",
       "      <td>NaN</td>\n",
       "    </tr>\n",
       "    <tr>\n",
       "      <th>10</th>\n",
       "      <td>Nintendogs</td>\n",
       "      <td>DS</td>\n",
       "      <td>2005</td>\n",
       "      <td>Simulation</td>\n",
       "      <td>9.05</td>\n",
       "      <td>10.95</td>\n",
       "      <td>1.93</td>\n",
       "      <td>2.74</td>\n",
       "      <td>NaN</td>\n",
       "      <td>NaN</td>\n",
       "      <td>NaN</td>\n",
       "    </tr>\n",
       "  </tbody>\n",
       "</table>\n",
       "</div>"
      ],
      "text/plain": [
       "                        name platform  year_of_release         genre  \\\n",
       "1          Super Mario Bros.      NES             1985      Platform   \n",
       "4   Pokemon Red/Pokemon Blue       GB             1996  Role-Playing   \n",
       "5                     Tetris       GB             1989        Puzzle   \n",
       "9                  Duck Hunt      NES             1984       Shooter   \n",
       "10                Nintendogs       DS             2005    Simulation   \n",
       "\n",
       "    na_sales  eu_sales  jp_sales  other_sales  critic_score  user_score rating  \n",
       "1      29.08      3.58      6.81         0.77           NaN         NaN    NaN  \n",
       "4      11.27      8.89     10.22         1.00           NaN         NaN    NaN  \n",
       "5      23.20      2.26      4.22         0.58           NaN         NaN    NaN  \n",
       "9      26.93      0.63      0.28         0.47           NaN         NaN    NaN  \n",
       "10      9.05     10.95      1.93         2.74           NaN         NaN    NaN  "
      ]
     },
     "execution_count": 22,
     "metadata": {},
     "output_type": "execute_result"
    }
   ],
   "source": [
    "df_missing_user_score = df[df['user_score'].isnull()]\n",
    "df_missing_user_score.head()"
   ]
  },
  {
   "cell_type": "code",
   "execution_count": 23,
   "metadata": {
    "trusted": true
   },
   "outputs": [],
   "source": [
    "#df['user_score'].fillna(df['user_score'].median(), inplace=True)\n",
    "df['user_score'] = pd.to_numeric(df['user_score'], errors='coerce')"
   ]
  },
  {
   "cell_type": "code",
   "execution_count": 24,
   "metadata": {
    "trusted": true
   },
   "outputs": [
    {
     "data": {
      "text/plain": [
       "8981"
      ]
     },
     "execution_count": 24,
     "metadata": {},
     "output_type": "execute_result"
    }
   ],
   "source": [
    "df['user_score'].isnull().sum()"
   ]
  },
  {
   "cell_type": "code",
   "execution_count": 25,
   "metadata": {
    "trusted": true
   },
   "outputs": [
    {
     "data": {
      "text/html": [
       "<div>\n",
       "<style scoped>\n",
       "    .dataframe tbody tr th:only-of-type {\n",
       "        vertical-align: middle;\n",
       "    }\n",
       "\n",
       "    .dataframe tbody tr th {\n",
       "        vertical-align: top;\n",
       "    }\n",
       "\n",
       "    .dataframe thead th {\n",
       "        text-align: right;\n",
       "    }\n",
       "</style>\n",
       "<table border=\"1\" class=\"dataframe\">\n",
       "  <thead>\n",
       "    <tr style=\"text-align: right;\">\n",
       "      <th></th>\n",
       "      <th>name</th>\n",
       "      <th>platform</th>\n",
       "      <th>year_of_release</th>\n",
       "      <th>genre</th>\n",
       "      <th>na_sales</th>\n",
       "      <th>eu_sales</th>\n",
       "      <th>jp_sales</th>\n",
       "      <th>other_sales</th>\n",
       "      <th>critic_score</th>\n",
       "      <th>user_score</th>\n",
       "      <th>rating</th>\n",
       "    </tr>\n",
       "  </thead>\n",
       "  <tbody>\n",
       "    <tr>\n",
       "      <th>0</th>\n",
       "      <td>Wii Sports</td>\n",
       "      <td>Wii</td>\n",
       "      <td>2006</td>\n",
       "      <td>Sports</td>\n",
       "      <td>41.36</td>\n",
       "      <td>28.96</td>\n",
       "      <td>3.77</td>\n",
       "      <td>8.45</td>\n",
       "      <td>76.0</td>\n",
       "      <td>8.0</td>\n",
       "      <td>E</td>\n",
       "    </tr>\n",
       "    <tr>\n",
       "      <th>1</th>\n",
       "      <td>Super Mario Bros.</td>\n",
       "      <td>NES</td>\n",
       "      <td>1985</td>\n",
       "      <td>Platform</td>\n",
       "      <td>29.08</td>\n",
       "      <td>3.58</td>\n",
       "      <td>6.81</td>\n",
       "      <td>0.77</td>\n",
       "      <td>NaN</td>\n",
       "      <td>NaN</td>\n",
       "      <td>NaN</td>\n",
       "    </tr>\n",
       "    <tr>\n",
       "      <th>2</th>\n",
       "      <td>Mario Kart Wii</td>\n",
       "      <td>Wii</td>\n",
       "      <td>2008</td>\n",
       "      <td>Racing</td>\n",
       "      <td>15.68</td>\n",
       "      <td>12.76</td>\n",
       "      <td>3.79</td>\n",
       "      <td>3.29</td>\n",
       "      <td>82.0</td>\n",
       "      <td>8.3</td>\n",
       "      <td>E</td>\n",
       "    </tr>\n",
       "    <tr>\n",
       "      <th>3</th>\n",
       "      <td>Wii Sports Resort</td>\n",
       "      <td>Wii</td>\n",
       "      <td>2009</td>\n",
       "      <td>Sports</td>\n",
       "      <td>15.61</td>\n",
       "      <td>10.93</td>\n",
       "      <td>3.28</td>\n",
       "      <td>2.95</td>\n",
       "      <td>80.0</td>\n",
       "      <td>8.0</td>\n",
       "      <td>E</td>\n",
       "    </tr>\n",
       "    <tr>\n",
       "      <th>4</th>\n",
       "      <td>Pokemon Red/Pokemon Blue</td>\n",
       "      <td>GB</td>\n",
       "      <td>1996</td>\n",
       "      <td>Role-Playing</td>\n",
       "      <td>11.27</td>\n",
       "      <td>8.89</td>\n",
       "      <td>10.22</td>\n",
       "      <td>1.00</td>\n",
       "      <td>NaN</td>\n",
       "      <td>NaN</td>\n",
       "      <td>NaN</td>\n",
       "    </tr>\n",
       "  </tbody>\n",
       "</table>\n",
       "</div>"
      ],
      "text/plain": [
       "                       name platform  year_of_release         genre  na_sales  \\\n",
       "0                Wii Sports      Wii             2006        Sports     41.36   \n",
       "1         Super Mario Bros.      NES             1985      Platform     29.08   \n",
       "2            Mario Kart Wii      Wii             2008        Racing     15.68   \n",
       "3         Wii Sports Resort      Wii             2009        Sports     15.61   \n",
       "4  Pokemon Red/Pokemon Blue       GB             1996  Role-Playing     11.27   \n",
       "\n",
       "   eu_sales  jp_sales  other_sales  critic_score  user_score rating  \n",
       "0     28.96      3.77         8.45          76.0         8.0      E  \n",
       "1      3.58      6.81         0.77           NaN         NaN    NaN  \n",
       "2     12.76      3.79         3.29          82.0         8.3      E  \n",
       "3     10.93      3.28         2.95          80.0         8.0      E  \n",
       "4      8.89     10.22         1.00           NaN         NaN    NaN  "
      ]
     },
     "execution_count": 25,
     "metadata": {},
     "output_type": "execute_result"
    }
   ],
   "source": [
    "df.head()"
   ]
  },
  {
   "cell_type": "markdown",
   "metadata": {},
   "source": [
    "**(rating) has missing values, we can fill missing ratings with a placeholder like \"Not Rated\"**"
   ]
  },
  {
   "cell_type": "code",
   "execution_count": 26,
   "metadata": {
    "trusted": true
   },
   "outputs": [
    {
     "data": {
      "text/html": [
       "<div>\n",
       "<style scoped>\n",
       "    .dataframe tbody tr th:only-of-type {\n",
       "        vertical-align: middle;\n",
       "    }\n",
       "\n",
       "    .dataframe tbody tr th {\n",
       "        vertical-align: top;\n",
       "    }\n",
       "\n",
       "    .dataframe thead th {\n",
       "        text-align: right;\n",
       "    }\n",
       "</style>\n",
       "<table border=\"1\" class=\"dataframe\">\n",
       "  <thead>\n",
       "    <tr style=\"text-align: right;\">\n",
       "      <th></th>\n",
       "      <th>name</th>\n",
       "      <th>platform</th>\n",
       "      <th>year_of_release</th>\n",
       "      <th>genre</th>\n",
       "      <th>na_sales</th>\n",
       "      <th>eu_sales</th>\n",
       "      <th>jp_sales</th>\n",
       "      <th>other_sales</th>\n",
       "      <th>critic_score</th>\n",
       "      <th>user_score</th>\n",
       "      <th>rating</th>\n",
       "    </tr>\n",
       "  </thead>\n",
       "  <tbody>\n",
       "    <tr>\n",
       "      <th>1</th>\n",
       "      <td>Super Mario Bros.</td>\n",
       "      <td>NES</td>\n",
       "      <td>1985</td>\n",
       "      <td>Platform</td>\n",
       "      <td>29.08</td>\n",
       "      <td>3.58</td>\n",
       "      <td>6.81</td>\n",
       "      <td>0.77</td>\n",
       "      <td>NaN</td>\n",
       "      <td>NaN</td>\n",
       "      <td>NaN</td>\n",
       "    </tr>\n",
       "    <tr>\n",
       "      <th>4</th>\n",
       "      <td>Pokemon Red/Pokemon Blue</td>\n",
       "      <td>GB</td>\n",
       "      <td>1996</td>\n",
       "      <td>Role-Playing</td>\n",
       "      <td>11.27</td>\n",
       "      <td>8.89</td>\n",
       "      <td>10.22</td>\n",
       "      <td>1.00</td>\n",
       "      <td>NaN</td>\n",
       "      <td>NaN</td>\n",
       "      <td>NaN</td>\n",
       "    </tr>\n",
       "    <tr>\n",
       "      <th>5</th>\n",
       "      <td>Tetris</td>\n",
       "      <td>GB</td>\n",
       "      <td>1989</td>\n",
       "      <td>Puzzle</td>\n",
       "      <td>23.20</td>\n",
       "      <td>2.26</td>\n",
       "      <td>4.22</td>\n",
       "      <td>0.58</td>\n",
       "      <td>NaN</td>\n",
       "      <td>NaN</td>\n",
       "      <td>NaN</td>\n",
       "    </tr>\n",
       "    <tr>\n",
       "      <th>9</th>\n",
       "      <td>Duck Hunt</td>\n",
       "      <td>NES</td>\n",
       "      <td>1984</td>\n",
       "      <td>Shooter</td>\n",
       "      <td>26.93</td>\n",
       "      <td>0.63</td>\n",
       "      <td>0.28</td>\n",
       "      <td>0.47</td>\n",
       "      <td>NaN</td>\n",
       "      <td>NaN</td>\n",
       "      <td>NaN</td>\n",
       "    </tr>\n",
       "    <tr>\n",
       "      <th>10</th>\n",
       "      <td>Nintendogs</td>\n",
       "      <td>DS</td>\n",
       "      <td>2005</td>\n",
       "      <td>Simulation</td>\n",
       "      <td>9.05</td>\n",
       "      <td>10.95</td>\n",
       "      <td>1.93</td>\n",
       "      <td>2.74</td>\n",
       "      <td>NaN</td>\n",
       "      <td>NaN</td>\n",
       "      <td>NaN</td>\n",
       "    </tr>\n",
       "  </tbody>\n",
       "</table>\n",
       "</div>"
      ],
      "text/plain": [
       "                        name platform  year_of_release         genre  \\\n",
       "1          Super Mario Bros.      NES             1985      Platform   \n",
       "4   Pokemon Red/Pokemon Blue       GB             1996  Role-Playing   \n",
       "5                     Tetris       GB             1989        Puzzle   \n",
       "9                  Duck Hunt      NES             1984       Shooter   \n",
       "10                Nintendogs       DS             2005    Simulation   \n",
       "\n",
       "    na_sales  eu_sales  jp_sales  other_sales  critic_score  user_score rating  \n",
       "1      29.08      3.58      6.81         0.77           NaN         NaN    NaN  \n",
       "4      11.27      8.89     10.22         1.00           NaN         NaN    NaN  \n",
       "5      23.20      2.26      4.22         0.58           NaN         NaN    NaN  \n",
       "9      26.93      0.63      0.28         0.47           NaN         NaN    NaN  \n",
       "10      9.05     10.95      1.93         2.74           NaN         NaN    NaN  "
      ]
     },
     "execution_count": 26,
     "metadata": {},
     "output_type": "execute_result"
    }
   ],
   "source": [
    "df_missing_rating = df[df['rating'].isnull()]\n",
    "df_missing_rating.head()"
   ]
  },
  {
   "cell_type": "code",
   "execution_count": 27,
   "metadata": {
    "trusted": true
   },
   "outputs": [],
   "source": [
    "df['rating'].fillna('unknown', inplace=True)"
   ]
  },
  {
   "cell_type": "code",
   "execution_count": 28,
   "metadata": {
    "trusted": true
   },
   "outputs": [
    {
     "data": {
      "text/plain": [
       "0"
      ]
     },
     "execution_count": 28,
     "metadata": {},
     "output_type": "execute_result"
    }
   ],
   "source": [
    "df['rating'].isnull().sum()"
   ]
  },
  {
   "cell_type": "code",
   "execution_count": 29,
   "metadata": {
    "trusted": true
   },
   "outputs": [
    {
     "data": {
      "text/html": [
       "<div>\n",
       "<style scoped>\n",
       "    .dataframe tbody tr th:only-of-type {\n",
       "        vertical-align: middle;\n",
       "    }\n",
       "\n",
       "    .dataframe tbody tr th {\n",
       "        vertical-align: top;\n",
       "    }\n",
       "\n",
       "    .dataframe thead th {\n",
       "        text-align: right;\n",
       "    }\n",
       "</style>\n",
       "<table border=\"1\" class=\"dataframe\">\n",
       "  <thead>\n",
       "    <tr style=\"text-align: right;\">\n",
       "      <th></th>\n",
       "      <th>name</th>\n",
       "      <th>platform</th>\n",
       "      <th>year_of_release</th>\n",
       "      <th>genre</th>\n",
       "      <th>na_sales</th>\n",
       "      <th>eu_sales</th>\n",
       "      <th>jp_sales</th>\n",
       "      <th>other_sales</th>\n",
       "      <th>critic_score</th>\n",
       "      <th>user_score</th>\n",
       "      <th>rating</th>\n",
       "    </tr>\n",
       "  </thead>\n",
       "  <tbody>\n",
       "    <tr>\n",
       "      <th>0</th>\n",
       "      <td>Wii Sports</td>\n",
       "      <td>Wii</td>\n",
       "      <td>2006</td>\n",
       "      <td>Sports</td>\n",
       "      <td>41.36</td>\n",
       "      <td>28.96</td>\n",
       "      <td>3.77</td>\n",
       "      <td>8.45</td>\n",
       "      <td>76.0</td>\n",
       "      <td>8.0</td>\n",
       "      <td>E</td>\n",
       "    </tr>\n",
       "    <tr>\n",
       "      <th>1</th>\n",
       "      <td>Super Mario Bros.</td>\n",
       "      <td>NES</td>\n",
       "      <td>1985</td>\n",
       "      <td>Platform</td>\n",
       "      <td>29.08</td>\n",
       "      <td>3.58</td>\n",
       "      <td>6.81</td>\n",
       "      <td>0.77</td>\n",
       "      <td>NaN</td>\n",
       "      <td>NaN</td>\n",
       "      <td>unknown</td>\n",
       "    </tr>\n",
       "    <tr>\n",
       "      <th>2</th>\n",
       "      <td>Mario Kart Wii</td>\n",
       "      <td>Wii</td>\n",
       "      <td>2008</td>\n",
       "      <td>Racing</td>\n",
       "      <td>15.68</td>\n",
       "      <td>12.76</td>\n",
       "      <td>3.79</td>\n",
       "      <td>3.29</td>\n",
       "      <td>82.0</td>\n",
       "      <td>8.3</td>\n",
       "      <td>E</td>\n",
       "    </tr>\n",
       "    <tr>\n",
       "      <th>3</th>\n",
       "      <td>Wii Sports Resort</td>\n",
       "      <td>Wii</td>\n",
       "      <td>2009</td>\n",
       "      <td>Sports</td>\n",
       "      <td>15.61</td>\n",
       "      <td>10.93</td>\n",
       "      <td>3.28</td>\n",
       "      <td>2.95</td>\n",
       "      <td>80.0</td>\n",
       "      <td>8.0</td>\n",
       "      <td>E</td>\n",
       "    </tr>\n",
       "    <tr>\n",
       "      <th>4</th>\n",
       "      <td>Pokemon Red/Pokemon Blue</td>\n",
       "      <td>GB</td>\n",
       "      <td>1996</td>\n",
       "      <td>Role-Playing</td>\n",
       "      <td>11.27</td>\n",
       "      <td>8.89</td>\n",
       "      <td>10.22</td>\n",
       "      <td>1.00</td>\n",
       "      <td>NaN</td>\n",
       "      <td>NaN</td>\n",
       "      <td>unknown</td>\n",
       "    </tr>\n",
       "  </tbody>\n",
       "</table>\n",
       "</div>"
      ],
      "text/plain": [
       "                       name platform  year_of_release         genre  na_sales  \\\n",
       "0                Wii Sports      Wii             2006        Sports     41.36   \n",
       "1         Super Mario Bros.      NES             1985      Platform     29.08   \n",
       "2            Mario Kart Wii      Wii             2008        Racing     15.68   \n",
       "3         Wii Sports Resort      Wii             2009        Sports     15.61   \n",
       "4  Pokemon Red/Pokemon Blue       GB             1996  Role-Playing     11.27   \n",
       "\n",
       "   eu_sales  jp_sales  other_sales  critic_score  user_score   rating  \n",
       "0     28.96      3.77         8.45          76.0         8.0        E  \n",
       "1      3.58      6.81         0.77           NaN         NaN  unknown  \n",
       "2     12.76      3.79         3.29          82.0         8.3        E  \n",
       "3     10.93      3.28         2.95          80.0         8.0        E  \n",
       "4      8.89     10.22         1.00           NaN         NaN  unknown  "
      ]
     },
     "execution_count": 29,
     "metadata": {},
     "output_type": "execute_result"
    }
   ],
   "source": [
    "df.head()"
   ]
  },
  {
   "cell_type": "code",
   "execution_count": 30,
   "metadata": {
    "trusted": true
   },
   "outputs": [
    {
     "data": {
      "text/plain": [
       "name                  0\n",
       "platform              0\n",
       "year_of_release       0\n",
       "genre                 0\n",
       "na_sales              0\n",
       "eu_sales              0\n",
       "jp_sales              0\n",
       "other_sales           0\n",
       "critic_score       8461\n",
       "user_score         8981\n",
       "rating                0\n",
       "dtype: int64"
      ]
     },
     "execution_count": 30,
     "metadata": {},
     "output_type": "execute_result"
    }
   ],
   "source": [
    "df.isna().sum()"
   ]
  },
  {
   "cell_type": "markdown",
   "metadata": {},
   "source": [
    "**Calculate the total sales**"
   ]
  },
  {
   "cell_type": "code",
   "execution_count": 31,
   "metadata": {
    "trusted": true
   },
   "outputs": [],
   "source": [
    "df['total_sales'] = df[['na_sales', 'eu_sales', 'jp_sales', 'other_sales']].sum(axis=1)"
   ]
  },
  {
   "cell_type": "markdown",
   "metadata": {},
   "source": [
    "# Analyze the data"
   ]
  },
  {
   "cell_type": "markdown",
   "metadata": {},
   "source": [
    "**Check Game Releases Over Time**"
   ]
  },
  {
   "cell_type": "markdown",
   "metadata": {},
   "source": [
    "**Count number of games per year**"
   ]
  },
  {
   "cell_type": "code",
   "execution_count": 32,
   "metadata": {
    "trusted": true
   },
   "outputs": [],
   "source": [
    "games_per_year = df['year_of_release'].value_counts().sort_index()"
   ]
  },
  {
   "cell_type": "markdown",
   "metadata": {},
   "source": [
    "**Plot the results**"
   ]
  },
  {
   "cell_type": "code",
   "execution_count": 33,
   "metadata": {
    "trusted": true
   },
   "outputs": [
    {
     "data": {
      "image/png": "[encoded data removed]",
      "text/plain": [
       "<Figure size 1200x600 with 1 Axes>"
      ]
     },
     "metadata": {},
     "output_type": "display_data"
    }
   ],
   "source": [
    "plt.figure(figsize=(12, 6))\n",
    "plt.bar(games_per_year.index, games_per_year.values)\n",
    "plt.xlabel('Year of Release')\n",
    "plt.ylabel('Number of Games')\n",
    "plt.title('Number of Games Released Per Year')\n",
    "plt.xticks(rotation=45)\n",
    "plt.show()"
   ]
  },
  {
   "cell_type": "markdown",
   "metadata": {},
   "source": [
    "**Growth Phase (1980 - Early 2000s) Game releases started small in the 1980s. Rapid growth began in the 1990s, with releases peaking in 2008 over 1,400 games. The 2000s were the golden years, with consistent growth.After 2008, game releases steadily declined. By 2012, the number of releases had dropped significantly. The downward trend continued into 2016 below 600 games**\n",
    "\n"
   ]
  },
  {
   "cell_type": "markdown",
   "metadata": {},
   "source": [
    "**Analyze Sales Across Platforms**"
   ]
  },
  {
   "cell_type": "code",
   "execution_count": 34,
   "metadata": {
    "trusted": true
   },
   "outputs": [
    {
     "data": {
      "image/png": "[encoded data removed]",
      "text/plain": [
       "<Figure size 1200x600 with 1 Axes>"
      ]
     },
     "metadata": {},
     "output_type": "display_data"
    }
   ],
   "source": [
    "# Sum total sales per platform\n",
    "platform_sales = df.groupby('platform')['total_sales'].sum().sort_values(ascending=False)\n",
    "\n",
    "# Plot the results\n",
    "plt.figure(figsize=(12, 6))\n",
    "platform_sales.plot(kind='bar')\n",
    "plt.xlabel('Platform')\n",
    "plt.ylabel('Total Sales (millions)')\n",
    "plt.title('Total Sales by Platform')\n",
    "plt.show()"
   ]
  },
  {
   "cell_type": "code",
   "execution_count": 35,
   "metadata": {
    "trusted": true
   },
   "outputs": [
    {
     "data": {
      "text/plain": [
       "<Figure size 1500x600 with 0 Axes>"
      ]
     },
     "metadata": {},
     "output_type": "display_data"
    },
    {
     "data": {
      "image/png": "[encoded data removed]",
      "text/plain": [
       "<Figure size 640x480 with 1 Axes>"
      ]
     },
     "metadata": {},
     "output_type": "display_data"
    }
   ],
   "source": [
    "# Group by platform and year\n",
    "platform_lifespan = df.groupby(['platform', 'year_of_release'])['total_sales'].sum().unstack()\n",
    "\n",
    "plt.figure(figsize=(15, 6))\n",
    "platform_lifespan.T.plot()\n",
    "plt.xlabel('Year')\n",
    "plt.ylabel('Total Sales')\n",
    "plt.title('Sales Over Time by Platform')\n",
    "plt.legend(title='Platform', bbox_to_anchor=(1, 1))\n",
    "plt.show()"
   ]
  },
  {
   "cell_type": "markdown",
   "metadata": {},
   "source": [
    "**(PS2) leads with over 1200M in total sales, making it the most successful platform in this dataset.\n",
    "Strong Performance from X360, PS3, Wii, and DS – These platforms each have over 800M in total sales, showing their importance in the gaming market.\n",
    "And (NES, SNES, N64, GB, GBA, XB) Still Performed Well – Despite their age, older platforms like NES about (250M) and SNES about(200M) still show notable lifetime sales.\n",
    "PC Sales Are Relatively Low its below (300M) PC game sales seem lower in this dataset, possibly due to the influence of digital sales that may not be fully captured.\n",
    "(PS4, XOne, WiiU) Have Lower Totals \n",
    "(TG16, 3DO, PCFX) Have Almost No Sales – These niche platforms struggled, with sales under 0.2M.**"
   ]
  },
  {
   "cell_type": "markdown",
   "metadata": {},
   "source": [
    "**Choose a period that will help predict sales for 2017.\n",
    "If data before a certain year becomes less relevant, remove it**"
   ]
  },
  {
   "cell_type": "code",
   "execution_count": 36,
   "metadata": {
    "trusted": true
   },
   "outputs": [],
   "source": [
    "df_recent_year = df[(df['year_of_release'] >= 2013)&(df['year_of_release'] <= 2016)]"
   ]
  },
  {
   "cell_type": "code",
   "execution_count": 37,
   "metadata": {
    "trusted": true
   },
   "outputs": [
    {
     "data": {
      "text/html": [
       "<div>\n",
       "<style scoped>\n",
       "    .dataframe tbody tr th:only-of-type {\n",
       "        vertical-align: middle;\n",
       "    }\n",
       "\n",
       "    .dataframe tbody tr th {\n",
       "        vertical-align: top;\n",
       "    }\n",
       "\n",
       "    .dataframe thead th {\n",
       "        text-align: right;\n",
       "    }\n",
       "</style>\n",
       "<table border=\"1\" class=\"dataframe\">\n",
       "  <thead>\n",
       "    <tr style=\"text-align: right;\">\n",
       "      <th></th>\n",
       "      <th>name</th>\n",
       "      <th>platform</th>\n",
       "      <th>year_of_release</th>\n",
       "      <th>genre</th>\n",
       "      <th>na_sales</th>\n",
       "      <th>eu_sales</th>\n",
       "      <th>jp_sales</th>\n",
       "      <th>other_sales</th>\n",
       "      <th>critic_score</th>\n",
       "      <th>user_score</th>\n",
       "      <th>rating</th>\n",
       "      <th>total_sales</th>\n",
       "    </tr>\n",
       "  </thead>\n",
       "  <tbody>\n",
       "    <tr>\n",
       "      <th>16</th>\n",
       "      <td>Grand Theft Auto V</td>\n",
       "      <td>PS3</td>\n",
       "      <td>2013</td>\n",
       "      <td>Action</td>\n",
       "      <td>7.02</td>\n",
       "      <td>9.09</td>\n",
       "      <td>0.98</td>\n",
       "      <td>3.96</td>\n",
       "      <td>97.0</td>\n",
       "      <td>8.2</td>\n",
       "      <td>M</td>\n",
       "      <td>21.05</td>\n",
       "    </tr>\n",
       "    <tr>\n",
       "      <th>23</th>\n",
       "      <td>Grand Theft Auto V</td>\n",
       "      <td>X360</td>\n",
       "      <td>2013</td>\n",
       "      <td>Action</td>\n",
       "      <td>9.66</td>\n",
       "      <td>5.14</td>\n",
       "      <td>0.06</td>\n",
       "      <td>1.41</td>\n",
       "      <td>97.0</td>\n",
       "      <td>8.1</td>\n",
       "      <td>M</td>\n",
       "      <td>16.27</td>\n",
       "    </tr>\n",
       "    <tr>\n",
       "      <th>31</th>\n",
       "      <td>Call of Duty: Black Ops 3</td>\n",
       "      <td>PS4</td>\n",
       "      <td>2015</td>\n",
       "      <td>Shooter</td>\n",
       "      <td>6.03</td>\n",
       "      <td>5.86</td>\n",
       "      <td>0.36</td>\n",
       "      <td>2.38</td>\n",
       "      <td>NaN</td>\n",
       "      <td>NaN</td>\n",
       "      <td>unknown</td>\n",
       "      <td>14.63</td>\n",
       "    </tr>\n",
       "    <tr>\n",
       "      <th>33</th>\n",
       "      <td>Pokemon X/Pokemon Y</td>\n",
       "      <td>3DS</td>\n",
       "      <td>2013</td>\n",
       "      <td>Role-Playing</td>\n",
       "      <td>5.28</td>\n",
       "      <td>4.19</td>\n",
       "      <td>4.35</td>\n",
       "      <td>0.78</td>\n",
       "      <td>NaN</td>\n",
       "      <td>NaN</td>\n",
       "      <td>unknown</td>\n",
       "      <td>14.60</td>\n",
       "    </tr>\n",
       "    <tr>\n",
       "      <th>42</th>\n",
       "      <td>Grand Theft Auto V</td>\n",
       "      <td>PS4</td>\n",
       "      <td>2014</td>\n",
       "      <td>Action</td>\n",
       "      <td>3.96</td>\n",
       "      <td>6.31</td>\n",
       "      <td>0.38</td>\n",
       "      <td>1.97</td>\n",
       "      <td>97.0</td>\n",
       "      <td>8.3</td>\n",
       "      <td>M</td>\n",
       "      <td>12.62</td>\n",
       "    </tr>\n",
       "    <tr>\n",
       "      <th>...</th>\n",
       "      <td>...</td>\n",
       "      <td>...</td>\n",
       "      <td>...</td>\n",
       "      <td>...</td>\n",
       "      <td>...</td>\n",
       "      <td>...</td>\n",
       "      <td>...</td>\n",
       "      <td>...</td>\n",
       "      <td>...</td>\n",
       "      <td>...</td>\n",
       "      <td>...</td>\n",
       "      <td>...</td>\n",
       "    </tr>\n",
       "    <tr>\n",
       "      <th>16703</th>\n",
       "      <td>Strawberry Nauts</td>\n",
       "      <td>PSV</td>\n",
       "      <td>2016</td>\n",
       "      <td>Adventure</td>\n",
       "      <td>0.00</td>\n",
       "      <td>0.00</td>\n",
       "      <td>0.01</td>\n",
       "      <td>0.00</td>\n",
       "      <td>NaN</td>\n",
       "      <td>NaN</td>\n",
       "      <td>unknown</td>\n",
       "      <td>0.01</td>\n",
       "    </tr>\n",
       "    <tr>\n",
       "      <th>16707</th>\n",
       "      <td>Aiyoku no Eustia</td>\n",
       "      <td>PSV</td>\n",
       "      <td>2014</td>\n",
       "      <td>Misc</td>\n",
       "      <td>0.00</td>\n",
       "      <td>0.00</td>\n",
       "      <td>0.01</td>\n",
       "      <td>0.00</td>\n",
       "      <td>NaN</td>\n",
       "      <td>NaN</td>\n",
       "      <td>unknown</td>\n",
       "      <td>0.01</td>\n",
       "    </tr>\n",
       "    <tr>\n",
       "      <th>16710</th>\n",
       "      <td>Samurai Warriors: Sanada Maru</td>\n",
       "      <td>PS3</td>\n",
       "      <td>2016</td>\n",
       "      <td>Action</td>\n",
       "      <td>0.00</td>\n",
       "      <td>0.00</td>\n",
       "      <td>0.01</td>\n",
       "      <td>0.00</td>\n",
       "      <td>NaN</td>\n",
       "      <td>NaN</td>\n",
       "      <td>unknown</td>\n",
       "      <td>0.01</td>\n",
       "    </tr>\n",
       "    <tr>\n",
       "      <th>16712</th>\n",
       "      <td>Haitaka no Psychedelica</td>\n",
       "      <td>PSV</td>\n",
       "      <td>2016</td>\n",
       "      <td>Adventure</td>\n",
       "      <td>0.00</td>\n",
       "      <td>0.00</td>\n",
       "      <td>0.01</td>\n",
       "      <td>0.00</td>\n",
       "      <td>NaN</td>\n",
       "      <td>NaN</td>\n",
       "      <td>unknown</td>\n",
       "      <td>0.01</td>\n",
       "    </tr>\n",
       "    <tr>\n",
       "      <th>16714</th>\n",
       "      <td>Winning Post 8 2016</td>\n",
       "      <td>PSV</td>\n",
       "      <td>2016</td>\n",
       "      <td>Simulation</td>\n",
       "      <td>0.00</td>\n",
       "      <td>0.00</td>\n",
       "      <td>0.01</td>\n",
       "      <td>0.00</td>\n",
       "      <td>NaN</td>\n",
       "      <td>NaN</td>\n",
       "      <td>unknown</td>\n",
       "      <td>0.01</td>\n",
       "    </tr>\n",
       "  </tbody>\n",
       "</table>\n",
       "<p>2233 rows × 12 columns</p>\n",
       "</div>"
      ],
      "text/plain": [
       "                                name platform  year_of_release         genre  \\\n",
       "16                Grand Theft Auto V      PS3             2013        Action   \n",
       "23                Grand Theft Auto V     X360             2013        Action   \n",
       "31         Call of Duty: Black Ops 3      PS4             2015       Shooter   \n",
       "33               Pokemon X/Pokemon Y      3DS             2013  Role-Playing   \n",
       "42                Grand Theft Auto V      PS4             2014        Action   \n",
       "...                              ...      ...              ...           ...   \n",
       "16703               Strawberry Nauts      PSV             2016     Adventure   \n",
       "16707               Aiyoku no Eustia      PSV             2014          Misc   \n",
       "16710  Samurai Warriors: Sanada Maru      PS3             2016        Action   \n",
       "16712        Haitaka no Psychedelica      PSV             2016     Adventure   \n",
       "16714            Winning Post 8 2016      PSV             2016    Simulation   \n",
       "\n",
       "       na_sales  eu_sales  jp_sales  other_sales  critic_score  user_score  \\\n",
       "16         7.02      9.09      0.98         3.96          97.0         8.2   \n",
       "23         9.66      5.14      0.06         1.41          97.0         8.1   \n",
       "31         6.03      5.86      0.36         2.38           NaN         NaN   \n",
       "33         5.28      4.19      4.35         0.78           NaN         NaN   \n",
       "42         3.96      6.31      0.38         1.97          97.0         8.3   \n",
       "...         ...       ...       ...          ...           ...         ...   \n",
       "16703      0.00      0.00      0.01         0.00           NaN         NaN   \n",
       "16707      0.00      0.00      0.01         0.00           NaN         NaN   \n",
       "16710      0.00      0.00      0.01         0.00           NaN         NaN   \n",
       "16712      0.00      0.00      0.01         0.00           NaN         NaN   \n",
       "16714      0.00      0.00      0.01         0.00           NaN         NaN   \n",
       "\n",
       "        rating  total_sales  \n",
       "16           M        21.05  \n",
       "23           M        16.27  \n",
       "31     unknown        14.63  \n",
       "33     unknown        14.60  \n",
       "42           M        12.62  \n",
       "...        ...          ...  \n",
       "16703  unknown         0.01  \n",
       "16707  unknown         0.01  \n",
       "16710  unknown         0.01  \n",
       "16712  unknown         0.01  \n",
       "16714  unknown         0.01  \n",
       "\n",
       "[2233 rows x 12 columns]"
      ]
     },
     "execution_count": 37,
     "metadata": {},
     "output_type": "execute_result"
    }
   ],
   "source": [
    "df_recent_year"
   ]
  },
  {
   "cell_type": "markdown",
   "metadata": {},
   "source": [
    "**Find the most successful and growing platforms**"
   ]
  },
  {
   "cell_type": "code",
   "execution_count": 38,
   "metadata": {
    "trusted": true
   },
   "outputs": [
    {
     "data": {
      "image/png": "[encoded data removed]",
      "text/plain": [
       "<Figure size 1200x600 with 1 Axes>"
      ]
     },
     "metadata": {},
     "output_type": "display_data"
    }
   ],
   "source": [
    "# Find platforms with highest sales in the most recent years\n",
    "recent_sales = df_recent_year[df_recent_year['year_of_release'] >= 2013].groupby('platform')['total_sales'].sum().sort_values(ascending=False)\n",
    "\n",
    "# Plot results\n",
    "plt.figure(figsize=(12, 6))\n",
    "recent_sales.plot(kind='bar')\n",
    "plt.xlabel('Platform')\n",
    "plt.ylabel('Total Sales (millions)')\n",
    "plt.title('Top Platforms (2013-2016)')\n",
    "plt.show()"
   ]
  },
  {
   "cell_type": "markdown",
   "metadata": {},
   "source": [
    "The data shows that PS4 leads the market with the highest total sales over (300M), followed by PS3 over (150M) and XOne about (150M). This indicates PlayStation’s continued dominance in the console market. The 3DS below (150M) remains the strongest handheld, while the PSV below (50M) and PSP below (5M) highlight the decline of handheld gaming, likely due to the rise of mobile games.\n",
    "\n",
    "The Wii below (25M) and WiiU below (75M) show significantly lower sales, reinforcing Nintendo’s shift toward the Switch. Meanwhile, PC gaming below (50M) appears to have lower sales, possibly because digital sales from platforms like Steam are underrepresented in the dataset.\n",
    "\n",
    "These insights suggest that modern gaming trends favor PlayStation and Xbox consoles, while handheld and older platforms are seeing a decline."
   ]
  },
  {
   "cell_type": "code",
   "execution_count": 39,
   "metadata": {
    "trusted": true
   },
   "outputs": [
    {
     "data": {
      "text/plain": [
       "platform\n",
       "PS4     314.14\n",
       "PS3     181.43\n",
       "XOne    159.32\n",
       "3DS     143.25\n",
       "X360    136.80\n",
       "WiiU     64.63\n",
       "PC       39.43\n",
       "PSV      32.99\n",
       "Wii      13.66\n",
       "PSP       3.50\n",
       "DS        1.54\n",
       "Name: total_sales, dtype: float64"
      ]
     },
     "execution_count": 39,
     "metadata": {},
     "output_type": "execute_result"
    }
   ],
   "source": [
    "recent_sales"
   ]
  },
  {
   "cell_type": "markdown",
   "metadata": {},
   "source": [
    " **Box Plot for Sales by Platform**"
   ]
  },
  {
   "cell_type": "code",
   "execution_count": 40,
   "metadata": {
    "trusted": true
   },
   "outputs": [
    {
     "data": {
      "image/png": "[encoded data removed]",
      "text/plain": [
       "<Figure size 1200x600 with 1 Axes>"
      ]
     },
     "metadata": {},
     "output_type": "display_data"
    }
   ],
   "source": [
    "\n",
    "plt.figure(figsize=(12, 6))\n",
    "sns.boxplot(x='platform', y='total_sales', data=df_recent_year, showfliers=False)\n",
    "plt.xticks(rotation=90)\n",
    "plt.xlabel('Platform')\n",
    "plt.ylabel('Total Sales (millions)')\n",
    "plt.title('Global Sales Distribution by Platform')\n",
    "plt.show()"
   ]
  },
  {
   "cell_type": "markdown",
   "metadata": {},
   "source": [
    "**Correlation Between Reviews and Sales See if critic and user reviews impact sales**"
   ]
  },
  {
   "cell_type": "code",
   "execution_count": 41,
   "metadata": {
    "trusted": true
   },
   "outputs": [
    {
     "data": {
      "image/png": "[encoded data removed]",
      "text/plain": [
       "<Figure size 1200x600 with 1 Axes>"
      ]
     },
     "metadata": {},
     "output_type": "display_data"
    },
    {
     "name": "stdout",
     "output_type": "stream",
     "text": [
      "              critic_score  total_sales\n",
      "critic_score        1.0000       0.3137\n",
      "total_sales         0.3137       1.0000\n"
     ]
    }
   ],
   "source": [
    "# Scatter plot for critic score vs. sales\n",
    "plt.figure(figsize=(12, 6))\n",
    "plt.scatter(df_recent_year['critic_score'], df_recent_year['total_sales'], alpha=0.5)\n",
    "plt.xlabel('Critic Score')\n",
    "plt.ylabel('Total Sales (millions)')\n",
    "plt.title('Critic Score vs. Sales')\n",
    "plt.show()\n",
    "\n",
    "# Correlation\n",
    "correlation_critic = df_recent_year[['critic_score', 'total_sales']].corr()\n",
    "print(correlation_critic)"
   ]
  },
  {
   "cell_type": "code",
   "execution_count": 42,
   "metadata": {
    "trusted": true
   },
   "outputs": [
    {
     "data": {
      "image/png": "[encoded data removed]",
      "text/plain": [
       "<Figure size 1200x600 with 1 Axes>"
      ]
     },
     "metadata": {},
     "output_type": "display_data"
    },
    {
     "name": "stdout",
     "output_type": "stream",
     "text": [
      "             user_score  total_sales\n",
      "user_score     1.000000    -0.002608\n",
      "total_sales   -0.002608     1.000000\n"
     ]
    }
   ],
   "source": [
    "# Scatter plot for user score vs. sales\n",
    "plt.figure(figsize=(12, 6))\n",
    "plt.scatter(df_recent_year['user_score'], df_recent_year['total_sales'], alpha=0.5, color='orange')\n",
    "plt.xlabel('User Score')\n",
    "plt.ylabel('Total Sales (millions)')\n",
    "plt.title('User Score vs. Sales')\n",
    "plt.show()\n",
    "\n",
    "# Correlation\n",
    "correlation_user = df_recent_year[['user_score', 'total_sales']].corr()\n",
    "print(correlation_user)"
   ]
  },
  {
   "cell_type": "markdown",
   "metadata": {},
   "source": [
    "**Critic reviews may have some influence on sales, but the impact is limited.\n",
    "User reviews do not significantly affect total sales, possibly due to differences in audience behavior.\n",
    "Other factors such as advertising, platform exclusivity, and franchise popularity likely play a bigger role in determining a game's commercial succes**"
   ]
  },
  {
   "cell_type": "markdown",
   "metadata": {},
   "source": [
    "**Compare Sales of the Same Games on Different Platforms See if games sell better on certain platforms**"
   ]
  },
  {
   "cell_type": "code",
   "execution_count": 43,
   "metadata": {
    "trusted": true
   },
   "outputs": [
    {
     "data": {
      "text/plain": [
       "<Figure size 2000x800 with 0 Axes>"
      ]
     },
     "metadata": {},
     "output_type": "display_data"
    },
    {
     "data": {
      "image/png": "[encoded data removed]",
      "text/plain": [
       "<Figure size 640x480 with 1 Axes>"
      ]
     },
     "metadata": {},
     "output_type": "display_data"
    }
   ],
   "source": [
    "# Group by name and platform to compare sales\n",
    "game_platform_sales = df_recent_year.groupby(['name', 'platform'])['total_sales'].sum().unstack()\n",
    "\n",
    "plt.figure(figsize=(20, 8))\n",
    "game_platform_sales.plot()\n",
    "plt.xlabel('Games')\n",
    "plt.ylabel('Total Sales')\n",
    "plt.title('Games on Different Platform')\n",
    "plt.legend(title='Platform', bbox_to_anchor=(1, 1))\n",
    "plt.xticks(rotation=45)\n",
    "plt.show()"
   ]
  },
  {
   "cell_type": "markdown",
   "metadata": {},
   "source": [
    "**Analyze Game Sales by Genre and Find the most profitable genres**"
   ]
  },
  {
   "cell_type": "code",
   "execution_count": 44,
   "metadata": {
    "trusted": true
   },
   "outputs": [
    {
     "data": {
      "image/png": "[encoded data removed]",
      "text/plain": [
       "<Figure size 1200x600 with 1 Axes>"
      ]
     },
     "metadata": {},
     "output_type": "display_data"
    }
   ],
   "source": [
    "# Sum total sales per genre\n",
    "#genre_sales = df_recent_year.groupby('genre')['total_sales'].sum().sort_values(ascending=False)\n",
    "\n",
    "# Plot results\n",
    "#plt.figure(figsize=(12, 6))\n",
    "#genre_sales.plot(kind='bar', color='teal')\n",
    "#plt.xlabel('Genre')\n",
    "#plt.ylabel('Total Sales (millions)')\n",
    "#plt.title('Total Sales by Genre')\n",
    "#plt.show()\n",
    "\n",
    "\n",
    "# Calculate average total sales per genre\n",
    "avg_sales_per_genre = df_recent_year.groupby('genre')['total_sales'].mean().sort_values(ascending=False)\n",
    "\n",
    "# Plotting\n",
    "plt.figure(figsize=(12, 6))\n",
    "sns.barplot(x=avg_sales_per_genre.index, y=avg_sales_per_genre.values, palette='viridis')\n",
    "plt.xticks(rotation=45)\n",
    "plt.xlabel('Genre')\n",
    "plt.ylabel('Average Global Sales (millions)')\n",
    "plt.title('Average Global Sales per Genre (2013–2016)')\n",
    "plt.show()\n"
   ]
  },
  {
   "cell_type": "markdown",
   "metadata": {},
   "source": [
    "**Action, Sports, and Shooter games dominate sales, likely due to mainstream appeal, multiplayer modes,\n",
    "Role-Playing and Racing games also perform well, benefiting from strong storytelling and competitive gameplay.\n",
    "Puzzle, Strategy, and Adventure genres have the lowest sales, indicating a smaller but dedicated audience.\n",
    "Game publishers should focus on top-selling genres for maximum revenue, but niche genres still hold value for specialized markets.**"
   ]
  },
  {
   "cell_type": "markdown",
   "metadata": {},
   "source": [
    "**Conclusions :\n",
    "Future market trends favor high-performance consoles (PS & Xbox) and digital sales models.\n",
    "Action, Sports, and Shooter games remain the most profitable genres, making them strong choices for investment.\n",
    "User reviews do not significantly drive sales, meaning game developers should focus on quality, marketing, and platform selection rather than solely relying on user ratings.\n",
    "Game sales are influenced by a mix of professional reviews, platform strength, and genre demand.**"
   ]
  },
  {
   "cell_type": "markdown",
   "metadata": {},
   "source": [
    "# Create a user profile for each region"
   ]
  },
  {
   "cell_type": "markdown",
   "metadata": {},
   "source": [
    "**Top 5 Platforms by Region**"
   ]
  },
  {
   "cell_type": "code",
   "execution_count": 45,
   "metadata": {
    "trusted": true
   },
   "outputs": [
    {
     "data": {
      "image/png": "[encoded data removed]",
      "text/plain": [
       "<Figure size 1200x500 with 3 Axes>"
      ]
     },
     "metadata": {},
     "output_type": "display_data"
    }
   ],
   "source": [
    "# Top 5 platforms by region\n",
    "top_platforms_na = df_recent_year.groupby('platform')['na_sales'].sum().sort_values(ascending=False).head(5)\n",
    "top_platforms_eu = df_recent_year.groupby('platform')['eu_sales'].sum().sort_values(ascending=False).head(5)\n",
    "top_platforms_jp = df_recent_year.groupby('platform')['jp_sales'].sum().sort_values(ascending=False).head(5)\n",
    "\n",
    "# Plot Top Platforms by Region\n",
    "plt.figure(figsize=(12,5))\n",
    "\n",
    "plt.subplot(1, 3, 1)\n",
    "top_platforms_na.plot(kind='bar', color='blue')\n",
    "plt.title('Top 5 Platforms in NA')\n",
    "plt.xlabel('Platform')\n",
    "plt.ylabel('Total Sales (Millions)')\n",
    "\n",
    "plt.subplot(1, 3, 2)\n",
    "top_platforms_eu.plot(kind='bar', color='green')\n",
    "plt.title('Top 5 Platforms in EU')\n",
    "plt.xlabel('Platform')\n",
    "\n",
    "plt.subplot(1, 3, 3)\n",
    "top_platforms_jp.plot(kind='bar', color='red')\n",
    "plt.title('Top 5 Platforms in JP')\n",
    "plt.xlabel('Platform')\n",
    "\n",
    "plt.tight_layout()\n",
    "plt.show()"
   ]
  },
  {
   "cell_type": "markdown",
   "metadata": {},
   "source": [
    "**North America prefers home consoles, especially from Microsoft and Sony, with the Xbox 360 leading.\n",
    "Europe shows a stronger PlayStation dominance, with the PS2 and PS3 leading.\n",
    "Japan favors handheld gaming, with the DS, 3DS, and PSP performing exceptionally well.\n",
    "The PlayStation 2 remains strong globally, ranking in the top two across all three regions**"
   ]
  },
  {
   "cell_type": "markdown",
   "metadata": {},
   "source": [
    "**Top 5 Genres by Region**"
   ]
  },
  {
   "cell_type": "code",
   "execution_count": 46,
   "metadata": {
    "trusted": true
   },
   "outputs": [
    {
     "data": {
      "image/png": "[encoded data removed]",
      "text/plain": [
       "<Figure size 1200x500 with 3 Axes>"
      ]
     },
     "metadata": {},
     "output_type": "display_data"
    }
   ],
   "source": [
    "# Top 5 genres by region\n",
    "top_genres_na = df_recent_year.groupby('genre')['na_sales'].sum().sort_values(ascending=False).head(5)\n",
    "top_genres_eu = df_recent_year.groupby('genre')['eu_sales'].sum().sort_values(ascending=False).head(5)\n",
    "top_genres_jp = df_recent_year.groupby('genre')['jp_sales'].sum().sort_values(ascending=False).head(5)\n",
    "\n",
    "# Plot Top Genres by Region\n",
    "plt.figure(figsize=(12,5))\n",
    "\n",
    "plt.subplot(1, 3, 1)\n",
    "top_genres_na.plot(kind='bar', color='blue')\n",
    "plt.title('Top 5 Genres in NA')\n",
    "plt.xlabel('Genre')\n",
    "plt.ylabel('Total Sales (Millions)')\n",
    "\n",
    "plt.subplot(1, 3, 2)\n",
    "top_genres_eu.plot(kind='bar', color='green')\n",
    "plt.title('Top 5 Genres in EU')\n",
    "plt.xlabel('Genre')\n",
    "\n",
    "plt.subplot(1, 3, 3)\n",
    "top_genres_jp.plot(kind='bar', color='red')\n",
    "plt.title('Top 5 Genres in JP')\n",
    "plt.xlabel('Genre')\n",
    "\n",
    "plt.tight_layout()\n",
    "plt.show()"
   ]
  },
  {
   "cell_type": "markdown",
   "metadata": {},
   "source": [
    "**Action games are universally popular, leading in both NA and EU and ranking second in Japan.\n",
    "North America and Europe share similar gaming trends, with high sales in Action, Sports, and Shooters.\n",
    "Japan has a unique preference for RPGs and platformers, showing a distinct gaming culture.\n",
    "Racing is significantly more popular in Europe, while Shooters are dominant in NA.**"
   ]
  },
  {
   "cell_type": "markdown",
   "metadata": {},
   "source": [
    "**ESRB Ratings & Sales Impact by Region**"
   ]
  },
  {
   "cell_type": "code",
   "execution_count": 47,
   "metadata": {
    "trusted": true
   },
   "outputs": [
    {
     "data": {
      "image/png": "[encoded data removed]",
      "text/plain": [
       "<Figure size 1000x500 with 1 Axes>"
      ]
     },
     "metadata": {},
     "output_type": "display_data"
    }
   ],
   "source": [
    "# ESRB Ratings Effect on Sales\n",
    "esrb_sales = df_recent_year.groupby('rating')[['na_sales', 'eu_sales', 'jp_sales']].sum()\n",
    "\n",
    "# Plot ESRB Ratings Impact\n",
    "esrb_sales.plot(kind='bar', figsize=(10,5))\n",
    "plt.title('ESRB Ratings Impact on Sales by Region')\n",
    "plt.xlabel('ESRB Rating')\n",
    "plt.ylabel('Total Sales (Millions)')\n",
    "plt.legend(['NA', 'EU', 'JP'])\n",
    "plt.show()"
   ]
  },
  {
   "cell_type": "markdown",
   "metadata": {},
   "source": [
    " **Overall Conclusion:**\n",
    "ESRB ratings strongly influence sales in North America and Europe, with E-rated and M-rated games leading.\n",
    "In Japan, ESRB ratings have less impact, as Not Rated games dominate sales.\n",
    "M-rated is more in the West (NA & EU), while dominates in Japan.\n",
    "AO-rated and EC-rated have negligible sales in all regions, showing little demand"
   ]
  },
  {
   "cell_type": "markdown",
   "metadata": {},
   "source": [
    "# Test the hypotheses"
   ]
  },
  {
   "cell_type": "markdown",
   "metadata": {},
   "source": [
    "**Average User Ratings of Xbox One and PC are the Same**\n",
    "- Null Hypothesis (H₀): The average user ratings for Xbox One and PC are equal.\n",
    "{H₀: μXOne = μPC}\n",
    "- Alternative Hypothesis (H₁): The average user ratings for Xbox One and PC are different.\n",
    "{H₁: μXOne != μPC}"
   ]
  },
  {
   "cell_type": "code",
   "execution_count": 48,
   "metadata": {
    "trusted": true
   },
   "outputs": [
    {
     "name": "stdout",
     "output_type": "stream",
     "text": [
      "T-Statistic (Xbox One vs PC): 1.4788\n",
      "P-Value: 0.1401\n",
      "Fail to reject the null hypothesis: No significant difference in user ratings between Xbox One and PC.\n"
     ]
    }
   ],
   "source": [
    "# Filter user scores for Xbox One and PC\n",
    "xone_ratings = df_recent_year[df_recent_year['platform'] == 'XOne']['user_score'].dropna()\n",
    "pc_ratings = df_recent_year[df_recent_year['platform'] == 'PC']['user_score'].dropna()\n",
    "\n",
    "# Perform an independent t-test\n",
    "t_stat_xone_pc, p_value_xone_pc = st.ttest_ind(xone_ratings, pc_ratings)\n",
    "\n",
    "# Print results\n",
    "print(f\"T-Statistic (Xbox One vs PC): {t_stat_xone_pc:.4f}\")\n",
    "print(f\"P-Value: {p_value_xone_pc:.4f}\")\n",
    "\n",
    "# Interpretation\n",
    "alpha = 0.05  # Significance level\n",
    "if p_value_xone_pc < alpha:\n",
    "    print(\"Reject the null hypothesis: Xbox One and PC user ratings are significantly different.\")\n",
    "else:\n",
    "    print(\"Fail to reject the null hypothesis: No significant difference in user ratings between Xbox One and PC.\")\n"
   ]
  },
  {
   "cell_type": "markdown",
   "metadata": {},
   "source": [
    "**Average User Ratings for Action and Sports Games are Different**\n",
    "- Null Hypothesis (H₀): The average user ratings for Action and Sports games are equal. { H₀: μAction = μSports }\n",
    "- Alternative Hypothesis (H₁): The average user ratings for Action and Sports games are different. { H₁: μAction != μSports }"
   ]
  },
  {
   "cell_type": "code",
   "execution_count": 49,
   "metadata": {
    "trusted": true
   },
   "outputs": [
    {
     "name": "stdout",
     "output_type": "stream",
     "text": [
      "T-Statistic (Action vs Sports): 11.5351\n",
      "P-Value: 0.0000\n",
      "Reject the null hypothesis: Action and Sports genres have significantly different user ratings.\n"
     ]
    }
   ],
   "source": [
    "# Filter user scores for Action and Sports genres\n",
    "action_ratings = df_recent_year[df_recent_year['genre'] == 'Action']['user_score'].dropna()\n",
    "sports_ratings = df_recent_year[df_recent_year['genre'] == 'Sports']['user_score'].dropna()\n",
    "\n",
    "# Perform an independent t-test\n",
    "t_stat_action_sports, p_value_action_sports = st.ttest_ind(action_ratings, sports_ratings)\n",
    "\n",
    "# Print results\n",
    "print(f\"T-Statistic (Action vs Sports): {t_stat_action_sports:.4f}\")\n",
    "print(f\"P-Value: {p_value_action_sports:.4f}\")\n",
    "\n",
    "# Interpretation\n",
    "if p_value_action_sports < alpha:\n",
    "    print(\"Reject the null hypothesis: Action and Sports genres have significantly different user ratings.\")\n",
    "else:\n",
    "    print(\"Fail to reject the null hypothesis: No significant difference in user ratings between Action and Sports genres.\")\n"
   ]
  },
  {
   "cell_type": "markdown",
   "metadata": {},
   "source": [
    "# General Conclusion"
   ]
  },
  {
   "cell_type": "markdown",
   "metadata": {},
   "source": [
    "\n",
    "\n",
    "**1. Overview of Game Sales Trends**\n",
    "\n",
    "The number of game releases steadily increased from the 1980s, peaking around 2008-2009 before experiencing a decline.\n",
    "The decline in game releases after 2010 may be attributed to shifting market trends, mobile gaming growth, and changes in consumer preferences.\n",
    "\n",
    "**2. Platform Analysis**\n",
    "\n",
    "Global Best-Selling Platforms:(PS2),(X360), and (PS3) led total sales.\n",
    "Regional Variations:\n",
    "- North America (NA): X360 was the dominant platform.\n",
    "\n",
    "- Europe (EU):(PS2, PS3) were more popular.\n",
    "\n",
    "- Japan (JP): Handheld DS and 3DS performed exceptionally well.\n",
    "\n",
    "Platform Lifecycle:\n",
    "Most platforms have a lifespan of about 7-10 years before they fade out.\n",
    "Platforms like PS2 and DS saw extended popularity, while others like WiiU struggled to gain traction.\n",
    "The (PS4, XOne) showed promising sales but had not yet reached their peak by the time of this data collection.\n",
    "\n",
    "**3. Genre Preferences Across Regions**\n",
    "\n",
    "- North America & Europe:\n",
    "Action, Sports, and Shooter genres dominated, showing similar trends.\n",
    "\n",
    "- Japan:\n",
    "Role-Playing Games (RPGs) were the most popular genre, followed by Action games.\n",
    "The Japanese market showed a lower preference for Shooters and Racing games compared to Western regions.\n",
    "\n",
    "**4. The Impact of ESRB Ratings on Sales**\n",
    "\n",
    "Games rated (E) had the highest total sales across all regions.\n",
    "The (M) rated games performed well in North America and Europe, but had lower sales in Japan.\n",
    "A significant portion of sales came from games without ESRB ratings, possibly due to regional rating systems (e.g., CERO in Japan).\n",
    "\n",
    "**5. The Relationship Between Reviews and Sales**\n",
    "\n",
    "Critic scores had a moderate correlation (0.19) with total sales, indicating that highly rated games tend to sell better.\n",
    "User scores had a very weak correlation (0.048) with sales, suggesting that user reviews might not heavily influence purchasing decisions compared to professional reviews.\n",
    "\n",
    "**6. Hypothesis Testing Results**\n",
    "\n",
    "- XOne vs. PC User Ratings:\n",
    "Significant difference found between user ratings of Xbox One and PC games (p-value = 0.0003).\n",
    "\n",
    "- Action vs. Sports Genre Ratings:\n",
    "No significant difference in user ratings between the two genres (p-value = 0.2494).\n",
    "\n",
    "**7. Key Takeaways for Future Game Releases**\n",
    "\n",
    "- Platform Selection: \n",
    "Developers targeting North America should focus on Xbox & PlayStation, while handheld consoles and RPGs remain strong in Japan.\n",
    "\n",
    "- Game Genre Strategy:\n",
    "Shooter and Action games sell best in Western markets.\n",
    "RPGs dominate in Japan.\n",
    "Sports and Racing games are consistent but not the top-performing genres.\n",
    "\n",
    "- Marketing & Reviews:\n",
    "Critic scores matter more than user reviews for sales impact.\n",
    "High-quality games with strong critic reviews are more likely to succeed commercially.\n",
    "\n",
    "- Future-Proofing Strategies:\n",
    "New platforms generally take 7-10 years to peak before declining.\n",
    "Publishers should identify emerging trends early, such as cloud gaming or mobile expansion."
   ]
  }
 ],
 "metadata": {
  "ExecuteTimeLog": [
   {
    "duration": 489,
    "start_time": "2025-03-31T15:48:59.767Z"
   },
   {
    "duration": 74,
    "start_time": "2025-03-31T15:49:11.066Z"
   },
   {
    "duration": 58,
    "start_time": "2025-03-31T15:58:20.014Z"
   },
   {
    "duration": 31,
    "start_time": "2025-03-31T15:58:53.803Z"
   },
   {
    "duration": 30,
    "start_time": "2025-03-31T16:01:14.611Z"
   },
   {
    "duration": 11,
    "start_time": "2025-03-31T16:01:18.766Z"
   },
   {
    "duration": 53,
    "start_time": "2025-03-31T16:01:42.919Z"
   },
   {
    "duration": 17,
    "start_time": "2025-03-31T16:03:43.347Z"
   },
   {
    "duration": 412,
    "start_time": "2025-04-01T18:13:24.631Z"
   },
   {
    "duration": 51,
    "start_time": "2025-04-01T18:13:25.742Z"
   },
   {
    "duration": 30,
    "start_time": "2025-04-01T18:13:31.386Z"
   },
   {
    "duration": 12,
    "start_time": "2025-04-01T18:13:35.084Z"
   },
   {
    "duration": 89,
    "start_time": "2025-04-01T18:13:42.471Z"
   },
   {
    "duration": 11,
    "start_time": "2025-04-01T18:14:19.708Z"
   },
   {
    "duration": 10,
    "start_time": "2025-04-01T18:15:09.342Z"
   },
   {
    "duration": 272,
    "start_time": "2025-04-01T18:16:01.480Z"
   },
   {
    "duration": 32,
    "start_time": "2025-04-01T18:16:05.261Z"
   },
   {
    "duration": 11,
    "start_time": "2025-04-01T18:37:59.774Z"
   },
   {
    "duration": 69,
    "start_time": "2025-04-01T18:43:11.611Z"
   },
   {
    "duration": 3,
    "start_time": "2025-04-01T18:44:45.103Z"
   },
   {
    "duration": 19,
    "start_time": "2025-04-01T18:44:51.873Z"
   },
   {
    "duration": 3,
    "start_time": "2025-04-01T18:48:31.037Z"
   },
   {
    "duration": 19,
    "start_time": "2025-04-01T18:48:33.879Z"
   },
   {
    "duration": 3,
    "start_time": "2025-04-01T18:55:46.903Z"
   },
   {
    "duration": 15,
    "start_time": "2025-04-01T18:56:07.409Z"
   },
   {
    "duration": 2,
    "start_time": "2025-04-01T19:44:06.095Z"
   },
   {
    "duration": 32,
    "start_time": "2025-04-01T19:44:06.100Z"
   },
   {
    "duration": 10,
    "start_time": "2025-04-01T19:44:06.133Z"
   },
   {
    "duration": 3,
    "start_time": "2025-04-01T19:44:06.145Z"
   },
   {
    "duration": 14,
    "start_time": "2025-04-01T19:44:06.150Z"
   },
   {
    "duration": 556,
    "start_time": "2025-04-01T19:44:06.165Z"
   },
   {
    "duration": 40,
    "start_time": "2025-04-01T19:44:27.444Z"
   },
   {
    "duration": 5,
    "start_time": "2025-04-01T19:44:43.305Z"
   },
   {
    "duration": 12,
    "start_time": "2025-04-01T19:45:00.456Z"
   },
   {
    "duration": 12,
    "start_time": "2025-04-01T19:45:05.575Z"
   },
   {
    "duration": 22,
    "start_time": "2025-04-01T19:45:19.324Z"
   },
   {
    "duration": 11,
    "start_time": "2025-04-01T19:53:14.363Z"
   },
   {
    "duration": 23,
    "start_time": "2025-04-01T19:53:18.294Z"
   },
   {
    "duration": 24,
    "start_time": "2025-04-01T19:53:27.334Z"
   },
   {
    "duration": 3,
    "start_time": "2025-04-01T19:53:32.481Z"
   },
   {
    "duration": 31,
    "start_time": "2025-04-01T19:53:33.203Z"
   },
   {
    "duration": 11,
    "start_time": "2025-04-01T19:53:33.904Z"
   },
   {
    "duration": 2,
    "start_time": "2025-04-01T19:53:35.974Z"
   },
   {
    "duration": 15,
    "start_time": "2025-04-01T19:53:36.708Z"
   },
   {
    "duration": 6,
    "start_time": "2025-04-01T19:53:39.077Z"
   },
   {
    "duration": 23,
    "start_time": "2025-04-01T19:53:40.714Z"
   },
   {
    "duration": 5,
    "start_time": "2025-04-01T19:54:06.328Z"
   },
   {
    "duration": 23,
    "start_time": "2025-04-01T19:54:10.433Z"
   },
   {
    "duration": 9,
    "start_time": "2025-04-01T19:55:01.325Z"
   },
   {
    "duration": 24,
    "start_time": "2025-04-01T19:55:04.295Z"
   },
   {
    "duration": 155,
    "start_time": "2025-04-01T19:55:13.837Z"
   },
   {
    "duration": 7,
    "start_time": "2025-04-01T19:57:13.624Z"
   },
   {
    "duration": 11,
    "start_time": "2025-04-01T19:57:34.926Z"
   },
   {
    "duration": 8,
    "start_time": "2025-04-01T19:57:59.557Z"
   },
   {
    "duration": 32,
    "start_time": "2025-04-01T19:58:04.775Z"
   },
   {
    "duration": 15,
    "start_time": "2025-04-01T19:58:37.973Z"
   },
   {
    "duration": 15,
    "start_time": "2025-04-01T19:59:54.383Z"
   },
   {
    "duration": 39,
    "start_time": "2025-04-01T20:04:00.897Z"
   },
   {
    "duration": 7,
    "start_time": "2025-04-01T20:04:14.866Z"
   },
   {
    "duration": 25,
    "start_time": "2025-04-01T20:04:18.996Z"
   },
   {
    "duration": 24,
    "start_time": "2025-04-01T20:12:35.263Z"
   },
   {
    "duration": 5,
    "start_time": "2025-04-01T20:32:38.736Z"
   },
   {
    "duration": 4,
    "start_time": "2025-04-01T20:32:55.205Z"
   },
   {
    "duration": 5,
    "start_time": "2025-04-01T20:33:01.206Z"
   },
   {
    "duration": 4,
    "start_time": "2025-04-01T20:36:16.725Z"
   },
   {
    "duration": 10,
    "start_time": "2025-04-01T20:36:20.004Z"
   },
   {
    "duration": 11,
    "start_time": "2025-04-01T20:48:16.517Z"
   },
   {
    "duration": 6,
    "start_time": "2025-04-01T20:50:07.924Z"
   },
   {
    "duration": 14,
    "start_time": "2025-04-01T20:50:23.685Z"
   },
   {
    "duration": 9,
    "start_time": "2025-04-01T20:50:29.314Z"
   },
   {
    "duration": 10,
    "start_time": "2025-04-01T20:50:34.745Z"
   },
   {
    "duration": 5,
    "start_time": "2025-04-01T20:51:11.977Z"
   },
   {
    "duration": 13,
    "start_time": "2025-04-01T20:51:14.393Z"
   },
   {
    "duration": 5,
    "start_time": "2025-04-01T20:51:42.233Z"
   },
   {
    "duration": 7,
    "start_time": "2025-04-01T20:51:51.454Z"
   },
   {
    "duration": 5,
    "start_time": "2025-04-01T20:51:54.534Z"
   },
   {
    "duration": 652,
    "start_time": "2025-04-02T15:43:11.623Z"
   },
   {
    "duration": 2,
    "start_time": "2025-04-02T15:43:18.869Z"
   },
   {
    "duration": 46,
    "start_time": "2025-04-02T15:43:18.874Z"
   },
   {
    "duration": 10,
    "start_time": "2025-04-02T15:43:18.922Z"
   },
   {
    "duration": 2,
    "start_time": "2025-04-02T15:43:18.934Z"
   },
   {
    "duration": 14,
    "start_time": "2025-04-02T15:43:18.939Z"
   },
   {
    "duration": 18,
    "start_time": "2025-04-02T15:43:18.955Z"
   },
   {
    "duration": 6,
    "start_time": "2025-04-02T15:43:18.974Z"
   },
   {
    "duration": 24,
    "start_time": "2025-04-02T15:43:19.013Z"
   },
   {
    "duration": 10,
    "start_time": "2025-04-02T15:43:19.039Z"
   },
   {
    "duration": 4,
    "start_time": "2025-04-02T15:43:19.385Z"
   },
   {
    "duration": 5,
    "start_time": "2025-04-02T15:43:19.390Z"
   },
   {
    "duration": 2,
    "start_time": "2025-04-02T15:58:36.436Z"
   },
   {
    "duration": 33,
    "start_time": "2025-04-02T15:58:36.440Z"
   },
   {
    "duration": 12,
    "start_time": "2025-04-02T15:58:36.475Z"
   },
   {
    "duration": 3,
    "start_time": "2025-04-02T15:58:36.489Z"
   },
   {
    "duration": 22,
    "start_time": "2025-04-02T15:58:36.494Z"
   },
   {
    "duration": 5,
    "start_time": "2025-04-02T15:58:36.518Z"
   },
   {
    "duration": 7,
    "start_time": "2025-04-02T15:58:36.525Z"
   },
   {
    "duration": 51,
    "start_time": "2025-04-02T15:58:36.534Z"
   },
   {
    "duration": 12,
    "start_time": "2025-04-02T15:58:36.587Z"
   },
   {
    "duration": 11,
    "start_time": "2025-04-02T15:58:36.601Z"
   },
   {
    "duration": 4,
    "start_time": "2025-04-02T15:58:36.613Z"
   },
   {
    "duration": 152,
    "start_time": "2025-04-02T15:58:36.619Z"
   },
   {
    "duration": 16,
    "start_time": "2025-04-02T16:01:17.958Z"
   },
   {
    "duration": 16,
    "start_time": "2025-04-02T16:02:17.975Z"
   },
   {
    "duration": 16,
    "start_time": "2025-04-02T16:03:25.895Z"
   },
   {
    "duration": 5,
    "start_time": "2025-04-02T16:04:30.015Z"
   },
   {
    "duration": 6,
    "start_time": "2025-04-02T16:04:40.815Z"
   },
   {
    "duration": 4,
    "start_time": "2025-04-02T16:04:49.095Z"
   },
   {
    "duration": 7,
    "start_time": "2025-04-02T16:04:51.674Z"
   },
   {
    "duration": 2,
    "start_time": "2025-04-02T16:04:57.059Z"
   },
   {
    "duration": 31,
    "start_time": "2025-04-02T16:04:57.063Z"
   },
   {
    "duration": 11,
    "start_time": "2025-04-02T16:04:57.095Z"
   },
   {
    "duration": 4,
    "start_time": "2025-04-02T16:04:57.107Z"
   },
   {
    "duration": 14,
    "start_time": "2025-04-02T16:04:57.113Z"
   },
   {
    "duration": 5,
    "start_time": "2025-04-02T16:04:57.128Z"
   },
   {
    "duration": 6,
    "start_time": "2025-04-02T16:04:57.134Z"
   },
   {
    "duration": 56,
    "start_time": "2025-04-02T16:04:57.141Z"
   },
   {
    "duration": 11,
    "start_time": "2025-04-02T16:04:57.199Z"
   },
   {
    "duration": 5,
    "start_time": "2025-04-02T16:04:57.212Z"
   },
   {
    "duration": 6,
    "start_time": "2025-04-02T16:04:57.219Z"
   },
   {
    "duration": 45,
    "start_time": "2025-04-02T16:04:57.226Z"
   },
   {
    "duration": 5,
    "start_time": "2025-04-02T16:04:57.272Z"
   },
   {
    "duration": 3,
    "start_time": "2025-04-02T16:04:57.280Z"
   },
   {
    "duration": 7,
    "start_time": "2025-04-02T16:06:10.595Z"
   },
   {
    "duration": 7,
    "start_time": "2025-04-02T16:06:15.937Z"
   },
   {
    "duration": 3,
    "start_time": "2025-04-02T16:06:28.675Z"
   },
   {
    "duration": 33,
    "start_time": "2025-04-02T16:06:28.684Z"
   },
   {
    "duration": 11,
    "start_time": "2025-04-02T16:06:28.719Z"
   },
   {
    "duration": 3,
    "start_time": "2025-04-02T16:06:28.731Z"
   },
   {
    "duration": 14,
    "start_time": "2025-04-02T16:06:28.735Z"
   },
   {
    "duration": 21,
    "start_time": "2025-04-02T16:06:28.752Z"
   },
   {
    "duration": 6,
    "start_time": "2025-04-02T16:06:28.774Z"
   },
   {
    "duration": 22,
    "start_time": "2025-04-02T16:06:28.781Z"
   },
   {
    "duration": 10,
    "start_time": "2025-04-02T16:06:28.805Z"
   },
   {
    "duration": 5,
    "start_time": "2025-04-02T16:06:28.816Z"
   },
   {
    "duration": 5,
    "start_time": "2025-04-02T16:06:28.823Z"
   },
   {
    "duration": 51,
    "start_time": "2025-04-02T16:06:28.829Z"
   },
   {
    "duration": 5,
    "start_time": "2025-04-02T16:06:28.882Z"
   },
   {
    "duration": 4,
    "start_time": "2025-04-02T16:06:28.889Z"
   },
   {
    "duration": 6,
    "start_time": "2025-04-02T16:06:28.897Z"
   },
   {
    "duration": 3,
    "start_time": "2025-04-02T16:06:49.400Z"
   },
   {
    "duration": 7,
    "start_time": "2025-04-02T16:06:58.897Z"
   },
   {
    "duration": 5,
    "start_time": "2025-04-02T16:07:18.838Z"
   },
   {
    "duration": 4,
    "start_time": "2025-04-02T16:08:56.236Z"
   },
   {
    "duration": 10,
    "start_time": "2025-04-02T16:08:57.058Z"
   },
   {
    "duration": 16,
    "start_time": "2025-04-02T16:09:15.634Z"
   },
   {
    "duration": 6,
    "start_time": "2025-04-02T16:12:45.932Z"
   },
   {
    "duration": 4,
    "start_time": "2025-04-02T16:12:53.334Z"
   },
   {
    "duration": 15,
    "start_time": "2025-04-02T16:13:03.076Z"
   },
   {
    "duration": 2,
    "start_time": "2025-04-02T16:13:29.980Z"
   },
   {
    "duration": 31,
    "start_time": "2025-04-02T16:13:29.984Z"
   },
   {
    "duration": 11,
    "start_time": "2025-04-02T16:13:30.017Z"
   },
   {
    "duration": 3,
    "start_time": "2025-04-02T16:13:30.029Z"
   },
   {
    "duration": 14,
    "start_time": "2025-04-02T16:13:30.034Z"
   },
   {
    "duration": 24,
    "start_time": "2025-04-02T16:13:30.050Z"
   },
   {
    "duration": 6,
    "start_time": "2025-04-02T16:13:30.076Z"
   },
   {
    "duration": 24,
    "start_time": "2025-04-02T16:13:30.083Z"
   },
   {
    "duration": 13,
    "start_time": "2025-04-02T16:13:30.109Z"
   },
   {
    "duration": 6,
    "start_time": "2025-04-02T16:13:30.123Z"
   },
   {
    "duration": 5,
    "start_time": "2025-04-02T16:13:30.131Z"
   },
   {
    "duration": 47,
    "start_time": "2025-04-02T16:13:30.171Z"
   },
   {
    "duration": 6,
    "start_time": "2025-04-02T16:13:30.219Z"
   },
   {
    "duration": 4,
    "start_time": "2025-04-02T16:13:30.228Z"
   },
   {
    "duration": 3,
    "start_time": "2025-04-02T16:13:30.234Z"
   },
   {
    "duration": 45,
    "start_time": "2025-04-02T16:13:30.238Z"
   },
   {
    "duration": 2,
    "start_time": "2025-04-02T16:13:30.285Z"
   },
   {
    "duration": 3,
    "start_time": "2025-04-02T16:13:30.290Z"
   },
   {
    "duration": 4,
    "start_time": "2025-04-02T16:13:56.255Z"
   },
   {
    "duration": 5,
    "start_time": "2025-04-02T16:13:58.263Z"
   },
   {
    "duration": 5,
    "start_time": "2025-04-02T16:14:05.248Z"
   },
   {
    "duration": 14,
    "start_time": "2025-04-02T16:14:28.123Z"
   },
   {
    "duration": 2,
    "start_time": "2025-04-02T16:18:59.636Z"
   },
   {
    "duration": 30,
    "start_time": "2025-04-02T16:18:59.641Z"
   },
   {
    "duration": 10,
    "start_time": "2025-04-02T16:18:59.673Z"
   },
   {
    "duration": 3,
    "start_time": "2025-04-02T16:18:59.684Z"
   },
   {
    "duration": 14,
    "start_time": "2025-04-02T16:18:59.689Z"
   },
   {
    "duration": 4,
    "start_time": "2025-04-02T16:18:59.705Z"
   },
   {
    "duration": 6,
    "start_time": "2025-04-02T16:18:59.710Z"
   },
   {
    "duration": 53,
    "start_time": "2025-04-02T16:18:59.718Z"
   },
   {
    "duration": 10,
    "start_time": "2025-04-02T16:18:59.773Z"
   },
   {
    "duration": 6,
    "start_time": "2025-04-02T16:18:59.784Z"
   },
   {
    "duration": 4,
    "start_time": "2025-04-02T16:18:59.793Z"
   },
   {
    "duration": 15,
    "start_time": "2025-04-02T16:18:59.798Z"
   },
   {
    "duration": 5,
    "start_time": "2025-04-02T16:18:59.814Z"
   },
   {
    "duration": 5,
    "start_time": "2025-04-02T16:18:59.820Z"
   },
   {
    "duration": 43,
    "start_time": "2025-04-02T16:18:59.827Z"
   },
   {
    "duration": 15,
    "start_time": "2025-04-02T16:18:59.872Z"
   },
   {
    "duration": 11,
    "start_time": "2025-04-02T16:18:59.889Z"
   },
   {
    "duration": 3,
    "start_time": "2025-04-02T16:18:59.902Z"
   },
   {
    "duration": 14,
    "start_time": "2025-04-02T16:18:59.907Z"
   },
   {
    "duration": 3,
    "start_time": "2025-04-02T16:19:27.055Z"
   },
   {
    "duration": 4,
    "start_time": "2025-04-02T16:19:28.884Z"
   },
   {
    "duration": 16,
    "start_time": "2025-04-02T16:19:36.961Z"
   },
   {
    "duration": 10,
    "start_time": "2025-04-02T16:19:51.675Z"
   },
   {
    "duration": 11,
    "start_time": "2025-04-02T16:19:58.390Z"
   },
   {
    "duration": 12,
    "start_time": "2025-04-02T16:22:52.076Z"
   },
   {
    "duration": 13,
    "start_time": "2025-04-02T16:22:57.406Z"
   },
   {
    "duration": 3,
    "start_time": "2025-04-02T16:23:31.767Z"
   },
   {
    "duration": 7,
    "start_time": "2025-04-02T16:23:32.748Z"
   },
   {
    "duration": 7,
    "start_time": "2025-04-02T16:23:35.832Z"
   },
   {
    "duration": 2,
    "start_time": "2025-04-02T16:23:43.246Z"
   },
   {
    "duration": 35,
    "start_time": "2025-04-02T16:23:43.250Z"
   },
   {
    "duration": 11,
    "start_time": "2025-04-02T16:23:43.287Z"
   },
   {
    "duration": 3,
    "start_time": "2025-04-02T16:23:43.299Z"
   },
   {
    "duration": 14,
    "start_time": "2025-04-02T16:23:43.304Z"
   },
   {
    "duration": 5,
    "start_time": "2025-04-02T16:23:43.320Z"
   },
   {
    "duration": 5,
    "start_time": "2025-04-02T16:23:43.327Z"
   },
   {
    "duration": 50,
    "start_time": "2025-04-02T16:23:43.334Z"
   },
   {
    "duration": 10,
    "start_time": "2025-04-02T16:23:43.386Z"
   },
   {
    "duration": 5,
    "start_time": "2025-04-02T16:23:43.398Z"
   },
   {
    "duration": 6,
    "start_time": "2025-04-02T16:23:43.404Z"
   },
   {
    "duration": 15,
    "start_time": "2025-04-02T16:23:43.411Z"
   },
   {
    "duration": 5,
    "start_time": "2025-04-02T16:23:43.428Z"
   },
   {
    "duration": 37,
    "start_time": "2025-04-02T16:23:43.435Z"
   },
   {
    "duration": 4,
    "start_time": "2025-04-02T16:23:43.474Z"
   },
   {
    "duration": 14,
    "start_time": "2025-04-02T16:23:43.479Z"
   },
   {
    "duration": 4,
    "start_time": "2025-04-02T16:23:43.495Z"
   },
   {
    "duration": 4,
    "start_time": "2025-04-02T16:23:43.500Z"
   },
   {
    "duration": 12,
    "start_time": "2025-04-02T16:23:43.506Z"
   },
   {
    "duration": 17,
    "start_time": "2025-04-02T16:23:52.805Z"
   },
   {
    "duration": 12,
    "start_time": "2025-04-02T16:24:07.140Z"
   },
   {
    "duration": 4,
    "start_time": "2025-04-02T16:24:10.247Z"
   },
   {
    "duration": 17,
    "start_time": "2025-04-02T16:24:14.484Z"
   },
   {
    "duration": 11,
    "start_time": "2025-04-02T16:25:08.386Z"
   },
   {
    "duration": 748,
    "start_time": "2025-04-02T17:41:17.094Z"
   },
   {
    "duration": 54,
    "start_time": "2025-04-02T17:41:17.844Z"
   },
   {
    "duration": 14,
    "start_time": "2025-04-02T17:41:17.900Z"
   },
   {
    "duration": 3,
    "start_time": "2025-04-02T17:41:17.916Z"
   },
   {
    "duration": 22,
    "start_time": "2025-04-02T17:41:17.922Z"
   },
   {
    "duration": 5,
    "start_time": "2025-04-02T17:41:17.946Z"
   },
   {
    "duration": 6,
    "start_time": "2025-04-02T17:41:17.953Z"
   },
   {
    "duration": 23,
    "start_time": "2025-04-02T17:41:17.961Z"
   },
   {
    "duration": 16,
    "start_time": "2025-04-02T17:41:18.010Z"
   },
   {
    "duration": 7,
    "start_time": "2025-04-02T17:41:18.028Z"
   },
   {
    "duration": 4,
    "start_time": "2025-04-02T17:41:18.038Z"
   },
   {
    "duration": 16,
    "start_time": "2025-04-02T17:41:18.044Z"
   },
   {
    "duration": 6,
    "start_time": "2025-04-02T17:41:18.062Z"
   },
   {
    "duration": 4,
    "start_time": "2025-04-02T17:41:18.072Z"
   },
   {
    "duration": 4,
    "start_time": "2025-04-02T17:41:18.110Z"
   },
   {
    "duration": 13,
    "start_time": "2025-04-02T17:41:18.116Z"
   },
   {
    "duration": 11,
    "start_time": "2025-04-02T17:41:18.133Z"
   },
   {
    "duration": 4,
    "start_time": "2025-04-02T17:41:18.146Z"
   },
   {
    "duration": 12,
    "start_time": "2025-04-02T17:41:18.152Z"
   },
   {
    "duration": 4,
    "start_time": "2025-04-02T17:41:23.612Z"
   },
   {
    "duration": 4,
    "start_time": "2025-04-02T17:42:32.657Z"
   },
   {
    "duration": 4,
    "start_time": "2025-04-02T17:42:34.633Z"
   },
   {
    "duration": 11,
    "start_time": "2025-04-02T17:42:36.980Z"
   },
   {
    "duration": 19,
    "start_time": "2025-04-02T17:44:40.853Z"
   },
   {
    "duration": 13,
    "start_time": "2025-04-02T17:46:43.107Z"
   },
   {
    "duration": 5,
    "start_time": "2025-04-02T17:46:57.063Z"
   },
   {
    "duration": 5,
    "start_time": "2025-04-02T17:47:05.824Z"
   },
   {
    "duration": 11,
    "start_time": "2025-04-02T17:47:13.865Z"
   },
   {
    "duration": 4,
    "start_time": "2025-04-02T17:47:33.381Z"
   },
   {
    "duration": 4,
    "start_time": "2025-04-02T17:47:48.102Z"
   },
   {
    "duration": 5,
    "start_time": "2025-04-02T17:47:49.421Z"
   },
   {
    "duration": 11,
    "start_time": "2025-04-02T17:47:51.500Z"
   },
   {
    "duration": 18,
    "start_time": "2025-04-02T17:47:58.341Z"
   },
   {
    "duration": 11,
    "start_time": "2025-04-02T17:48:57.221Z"
   },
   {
    "duration": 10,
    "start_time": "2025-04-02T17:52:01.178Z"
   },
   {
    "duration": 18,
    "start_time": "2025-04-02T17:52:09.156Z"
   },
   {
    "duration": 3,
    "start_time": "2025-04-02T17:53:26.442Z"
   },
   {
    "duration": 6,
    "start_time": "2025-04-02T17:53:35.914Z"
   },
   {
    "duration": 13,
    "start_time": "2025-04-02T17:53:49.722Z"
   },
   {
    "duration": 20,
    "start_time": "2025-04-02T17:54:00.080Z"
   },
   {
    "duration": 18,
    "start_time": "2025-04-02T17:54:21.680Z"
   },
   {
    "duration": 21,
    "start_time": "2025-04-02T17:56:36.694Z"
   },
   {
    "duration": 6,
    "start_time": "2025-04-02T18:00:28.574Z"
   },
   {
    "duration": 36,
    "start_time": "2025-04-02T18:00:52.087Z"
   },
   {
    "duration": 4,
    "start_time": "2025-04-02T18:01:52.979Z"
   },
   {
    "duration": 48,
    "start_time": "2025-04-02T18:01:53.410Z"
   },
   {
    "duration": 12,
    "start_time": "2025-04-02T18:01:54.055Z"
   },
   {
    "duration": 8,
    "start_time": "2025-04-02T18:01:57.458Z"
   },
   {
    "duration": 23,
    "start_time": "2025-04-02T18:02:00.974Z"
   },
   {
    "duration": 17,
    "start_time": "2025-04-02T18:02:59.091Z"
   },
   {
    "duration": 5,
    "start_time": "2025-04-02T18:03:37.699Z"
   },
   {
    "duration": 17,
    "start_time": "2025-04-02T18:03:38.860Z"
   },
   {
    "duration": 8,
    "start_time": "2025-04-02T18:03:54.219Z"
   },
   {
    "duration": 17,
    "start_time": "2025-04-02T18:03:58.179Z"
   },
   {
    "duration": 14,
    "start_time": "2025-04-02T18:04:32.302Z"
   },
   {
    "duration": 17,
    "start_time": "2025-04-02T18:04:34.863Z"
   },
   {
    "duration": 7,
    "start_time": "2025-04-02T18:05:02.263Z"
   },
   {
    "duration": 27,
    "start_time": "2025-04-02T18:05:04.460Z"
   },
   {
    "duration": 8,
    "start_time": "2025-04-02T18:10:51.835Z"
   },
   {
    "duration": 3,
    "start_time": "2025-04-02T18:10:57.077Z"
   },
   {
    "duration": 44,
    "start_time": "2025-04-02T18:10:57.082Z"
   },
   {
    "duration": 22,
    "start_time": "2025-04-02T18:10:57.128Z"
   },
   {
    "duration": 4,
    "start_time": "2025-04-02T18:10:57.155Z"
   },
   {
    "duration": 25,
    "start_time": "2025-04-02T18:10:57.162Z"
   },
   {
    "duration": 6,
    "start_time": "2025-04-02T18:10:57.189Z"
   },
   {
    "duration": 16,
    "start_time": "2025-04-02T18:10:57.197Z"
   },
   {
    "duration": 34,
    "start_time": "2025-04-02T18:10:57.216Z"
   },
   {
    "duration": 4,
    "start_time": "2025-04-02T18:10:57.252Z"
   },
   {
    "duration": 17,
    "start_time": "2025-04-02T18:10:57.258Z"
   },
   {
    "duration": 8,
    "start_time": "2025-04-02T18:10:57.278Z"
   },
   {
    "duration": 28,
    "start_time": "2025-04-02T18:10:57.288Z"
   },
   {
    "duration": 21,
    "start_time": "2025-04-02T18:10:57.318Z"
   },
   {
    "duration": 6,
    "start_time": "2025-04-02T18:10:57.345Z"
   },
   {
    "duration": 11,
    "start_time": "2025-04-02T18:10:57.353Z"
   },
   {
    "duration": 4,
    "start_time": "2025-04-02T18:10:57.366Z"
   },
   {
    "duration": 15,
    "start_time": "2025-04-02T18:10:57.372Z"
   },
   {
    "duration": 22,
    "start_time": "2025-04-02T18:10:57.389Z"
   },
   {
    "duration": 8,
    "start_time": "2025-04-02T18:10:57.415Z"
   },
   {
    "duration": 21,
    "start_time": "2025-04-02T18:10:57.425Z"
   },
   {
    "duration": 15,
    "start_time": "2025-04-02T18:10:57.452Z"
   },
   {
    "duration": 4,
    "start_time": "2025-04-02T18:10:57.468Z"
   },
   {
    "duration": 4,
    "start_time": "2025-04-02T18:10:57.474Z"
   },
   {
    "duration": 9,
    "start_time": "2025-04-02T18:10:57.481Z"
   },
   {
    "duration": 39,
    "start_time": "2025-04-02T18:10:57.492Z"
   },
   {
    "duration": 7,
    "start_time": "2025-04-02T18:10:57.534Z"
   },
   {
    "duration": 7,
    "start_time": "2025-04-02T18:10:57.544Z"
   },
   {
    "duration": 20,
    "start_time": "2025-04-02T18:10:57.554Z"
   },
   {
    "duration": 38,
    "start_time": "2025-04-02T18:10:57.576Z"
   },
   {
    "duration": 9,
    "start_time": "2025-04-02T18:11:42.081Z"
   },
   {
    "duration": 12,
    "start_time": "2025-04-02T18:13:01.903Z"
   },
   {
    "duration": 9,
    "start_time": "2025-04-02T18:13:15.311Z"
   },
   {
    "duration": 3,
    "start_time": "2025-04-02T18:13:18.952Z"
   },
   {
    "duration": 31,
    "start_time": "2025-04-02T18:13:18.957Z"
   },
   {
    "duration": 13,
    "start_time": "2025-04-02T18:13:18.990Z"
   },
   {
    "duration": 4,
    "start_time": "2025-04-02T18:13:19.005Z"
   },
   {
    "duration": 13,
    "start_time": "2025-04-02T18:13:19.012Z"
   },
   {
    "duration": 4,
    "start_time": "2025-04-02T18:13:19.027Z"
   },
   {
    "duration": 6,
    "start_time": "2025-04-02T18:13:19.033Z"
   },
   {
    "duration": 23,
    "start_time": "2025-04-02T18:13:19.040Z"
   },
   {
    "duration": 9,
    "start_time": "2025-04-02T18:13:19.067Z"
   },
   {
    "duration": 34,
    "start_time": "2025-04-02T18:13:19.077Z"
   },
   {
    "duration": 14,
    "start_time": "2025-04-02T18:13:19.114Z"
   },
   {
    "duration": 6,
    "start_time": "2025-04-02T18:13:19.129Z"
   },
   {
    "duration": 5,
    "start_time": "2025-04-02T18:13:19.138Z"
   },
   {
    "duration": 17,
    "start_time": "2025-04-02T18:13:19.147Z"
   },
   {
    "duration": 8,
    "start_time": "2025-04-02T18:13:19.165Z"
   },
   {
    "duration": 7,
    "start_time": "2025-04-02T18:13:19.175Z"
   },
   {
    "duration": 5,
    "start_time": "2025-04-02T18:13:19.208Z"
   },
   {
    "duration": 14,
    "start_time": "2025-04-02T18:13:19.216Z"
   },
   {
    "duration": 3,
    "start_time": "2025-04-02T18:13:19.232Z"
   },
   {
    "duration": 4,
    "start_time": "2025-04-02T18:13:19.237Z"
   },
   {
    "duration": 10,
    "start_time": "2025-04-02T18:13:19.242Z"
   },
   {
    "duration": 84,
    "start_time": "2025-04-02T18:13:19.254Z"
   },
   {
    "duration": 5,
    "start_time": "2025-04-02T18:13:19.339Z"
   },
   {
    "duration": 5,
    "start_time": "2025-04-02T18:13:19.346Z"
   },
   {
    "duration": 14,
    "start_time": "2025-04-02T18:13:19.352Z"
   },
   {
    "duration": 46,
    "start_time": "2025-04-02T18:13:19.369Z"
   },
   {
    "duration": 3,
    "start_time": "2025-04-02T18:13:19.417Z"
   },
   {
    "duration": 5,
    "start_time": "2025-04-02T18:13:19.422Z"
   },
   {
    "duration": 26,
    "start_time": "2025-04-02T18:13:19.430Z"
   },
   {
    "duration": 17,
    "start_time": "2025-04-02T18:13:19.458Z"
   },
   {
    "duration": 35,
    "start_time": "2025-04-02T18:13:19.477Z"
   },
   {
    "duration": 3,
    "start_time": "2025-04-02T18:13:46.550Z"
   },
   {
    "duration": 32,
    "start_time": "2025-04-02T18:13:46.555Z"
   },
   {
    "duration": 17,
    "start_time": "2025-04-02T18:13:46.589Z"
   },
   {
    "duration": 3,
    "start_time": "2025-04-02T18:13:46.608Z"
   },
   {
    "duration": 10,
    "start_time": "2025-04-02T18:13:46.613Z"
   },
   {
    "duration": 4,
    "start_time": "2025-04-02T18:13:46.625Z"
   },
   {
    "duration": 7,
    "start_time": "2025-04-02T18:13:46.630Z"
   },
   {
    "duration": 28,
    "start_time": "2025-04-02T18:13:46.639Z"
   },
   {
    "duration": 41,
    "start_time": "2025-04-02T18:13:46.669Z"
   },
   {
    "duration": 6,
    "start_time": "2025-04-02T18:13:46.711Z"
   },
   {
    "duration": 14,
    "start_time": "2025-04-02T18:13:46.718Z"
   },
   {
    "duration": 5,
    "start_time": "2025-04-02T18:13:46.734Z"
   },
   {
    "duration": 4,
    "start_time": "2025-04-02T18:13:46.741Z"
   },
   {
    "duration": 16,
    "start_time": "2025-04-02T18:13:46.749Z"
   },
   {
    "duration": 5,
    "start_time": "2025-04-02T18:13:46.766Z"
   },
   {
    "duration": 6,
    "start_time": "2025-04-02T18:13:46.809Z"
   },
   {
    "duration": 4,
    "start_time": "2025-04-02T18:13:46.817Z"
   },
   {
    "duration": 10,
    "start_time": "2025-04-02T18:13:46.824Z"
   },
   {
    "duration": 4,
    "start_time": "2025-04-02T18:13:46.836Z"
   },
   {
    "duration": 4,
    "start_time": "2025-04-02T18:13:46.843Z"
   },
   {
    "duration": 11,
    "start_time": "2025-04-02T18:13:46.849Z"
   },
   {
    "duration": 11,
    "start_time": "2025-04-02T18:13:46.862Z"
   },
   {
    "duration": 7,
    "start_time": "2025-04-02T18:13:46.909Z"
   },
   {
    "duration": 7,
    "start_time": "2025-04-02T18:13:46.918Z"
   },
   {
    "duration": 18,
    "start_time": "2025-04-02T18:13:46.927Z"
   },
   {
    "duration": 18,
    "start_time": "2025-04-02T18:13:46.946Z"
   },
   {
    "duration": 7,
    "start_time": "2025-04-02T18:13:46.966Z"
   },
   {
    "duration": 9,
    "start_time": "2025-04-02T18:13:46.975Z"
   },
   {
    "duration": 46,
    "start_time": "2025-04-02T18:13:46.986Z"
   },
   {
    "duration": 28,
    "start_time": "2025-04-02T18:13:47.034Z"
   },
   {
    "duration": 8,
    "start_time": "2025-04-02T18:13:47.064Z"
   },
   {
    "duration": 11,
    "start_time": "2025-04-02T18:17:15.882Z"
   },
   {
    "duration": 9,
    "start_time": "2025-04-02T18:17:26.717Z"
   },
   {
    "duration": 205,
    "start_time": "2025-04-02T18:20:57.577Z"
   },
   {
    "duration": 5,
    "start_time": "2025-04-02T18:22:50.503Z"
   },
   {
    "duration": 13,
    "start_time": "2025-04-02T18:23:02.258Z"
   },
   {
    "duration": 31,
    "start_time": "2025-04-02T18:23:07.311Z"
   },
   {
    "duration": 2005,
    "start_time": "2025-04-02T18:27:32.547Z"
   },
   {
    "duration": 5,
    "start_time": "2025-04-02T18:28:18.537Z"
   },
   {
    "duration": 6,
    "start_time": "2025-04-02T18:28:23.855Z"
   },
   {
    "duration": 4,
    "start_time": "2025-04-02T18:28:38.379Z"
   },
   {
    "duration": 5,
    "start_time": "2025-04-02T18:28:39.135Z"
   },
   {
    "duration": 538,
    "start_time": "2025-04-02T18:28:56.542Z"
   },
   {
    "duration": 6,
    "start_time": "2025-04-02T18:29:08.207Z"
   },
   {
    "duration": 5,
    "start_time": "2025-04-02T18:29:10.895Z"
   },
   {
    "duration": 217,
    "start_time": "2025-04-02T18:30:15.176Z"
   },
   {
    "duration": 3,
    "start_time": "2025-04-02T18:30:30.849Z"
   },
   {
    "duration": 46,
    "start_time": "2025-04-02T18:30:30.855Z"
   },
   {
    "duration": 13,
    "start_time": "2025-04-02T18:30:30.903Z"
   },
   {
    "duration": 5,
    "start_time": "2025-04-02T18:30:30.918Z"
   },
   {
    "duration": 10,
    "start_time": "2025-04-02T18:30:30.925Z"
   },
   {
    "duration": 8,
    "start_time": "2025-04-02T18:30:30.937Z"
   },
   {
    "duration": 6,
    "start_time": "2025-04-02T18:30:30.947Z"
   },
   {
    "duration": 32,
    "start_time": "2025-04-02T18:30:30.954Z"
   },
   {
    "duration": 9,
    "start_time": "2025-04-02T18:30:31.009Z"
   },
   {
    "duration": 5,
    "start_time": "2025-04-02T18:30:31.020Z"
   },
   {
    "duration": 14,
    "start_time": "2025-04-02T18:30:31.027Z"
   },
   {
    "duration": 6,
    "start_time": "2025-04-02T18:30:31.045Z"
   },
   {
    "duration": 5,
    "start_time": "2025-04-02T18:30:31.054Z"
   },
   {
    "duration": 54,
    "start_time": "2025-04-02T18:30:31.061Z"
   },
   {
    "duration": 6,
    "start_time": "2025-04-02T18:30:31.117Z"
   },
   {
    "duration": 5,
    "start_time": "2025-04-02T18:30:31.124Z"
   },
   {
    "duration": 3,
    "start_time": "2025-04-02T18:30:31.130Z"
   },
   {
    "duration": 10,
    "start_time": "2025-04-02T18:30:31.135Z"
   },
   {
    "duration": 4,
    "start_time": "2025-04-02T18:30:31.146Z"
   },
   {
    "duration": 4,
    "start_time": "2025-04-02T18:30:31.152Z"
   },
   {
    "duration": 52,
    "start_time": "2025-04-02T18:30:31.157Z"
   },
   {
    "duration": 12,
    "start_time": "2025-04-02T18:30:31.212Z"
   },
   {
    "duration": 3,
    "start_time": "2025-04-02T18:30:31.226Z"
   },
   {
    "duration": 4,
    "start_time": "2025-04-02T18:30:31.231Z"
   },
   {
    "duration": 9,
    "start_time": "2025-04-02T18:30:31.237Z"
   },
   {
    "duration": 11,
    "start_time": "2025-04-02T18:30:31.248Z"
   },
   {
    "duration": 3,
    "start_time": "2025-04-02T18:30:31.261Z"
   },
   {
    "duration": 47,
    "start_time": "2025-04-02T18:30:31.266Z"
   },
   {
    "duration": 14,
    "start_time": "2025-04-02T18:30:31.315Z"
   },
   {
    "duration": 6,
    "start_time": "2025-04-02T18:30:31.331Z"
   },
   {
    "duration": 4,
    "start_time": "2025-04-02T18:30:31.340Z"
   },
   {
    "duration": 3,
    "start_time": "2025-04-02T18:30:31.346Z"
   },
   {
    "duration": 206,
    "start_time": "2025-04-02T18:30:31.351Z"
   },
   {
    "duration": 240,
    "start_time": "2025-04-02T18:30:50.497Z"
   },
   {
    "duration": 299,
    "start_time": "2025-04-02T18:31:00.297Z"
   },
   {
    "duration": 146,
    "start_time": "2025-04-02T18:31:26.320Z"
   },
   {
    "duration": 7,
    "start_time": "2025-04-02T18:31:45.557Z"
   },
   {
    "duration": 175,
    "start_time": "2025-04-02T18:35:06.652Z"
   },
   {
    "duration": 206,
    "start_time": "2025-04-02T18:38:21.553Z"
   },
   {
    "duration": 180,
    "start_time": "2025-04-02T18:38:50.836Z"
   },
   {
    "duration": 227,
    "start_time": "2025-04-02T18:39:26.934Z"
   },
   {
    "duration": 8,
    "start_time": "2025-04-02T18:40:07.215Z"
   },
   {
    "duration": 184,
    "start_time": "2025-04-02T18:40:32.094Z"
   },
   {
    "duration": 3,
    "start_time": "2025-04-02T18:40:35.854Z"
   },
   {
    "duration": 34,
    "start_time": "2025-04-02T18:40:35.860Z"
   },
   {
    "duration": 13,
    "start_time": "2025-04-02T18:40:35.896Z"
   },
   {
    "duration": 3,
    "start_time": "2025-04-02T18:40:35.911Z"
   },
   {
    "duration": 13,
    "start_time": "2025-04-02T18:40:35.916Z"
   },
   {
    "duration": 6,
    "start_time": "2025-04-02T18:40:35.931Z"
   },
   {
    "duration": 6,
    "start_time": "2025-04-02T18:40:35.938Z"
   },
   {
    "duration": 32,
    "start_time": "2025-04-02T18:40:35.947Z"
   },
   {
    "duration": 34,
    "start_time": "2025-04-02T18:40:35.981Z"
   },
   {
    "duration": 5,
    "start_time": "2025-04-02T18:40:36.018Z"
   },
   {
    "duration": 16,
    "start_time": "2025-04-02T18:40:36.025Z"
   },
   {
    "duration": 6,
    "start_time": "2025-04-02T18:40:36.044Z"
   },
   {
    "duration": 6,
    "start_time": "2025-04-02T18:40:36.051Z"
   },
   {
    "duration": 16,
    "start_time": "2025-04-02T18:40:36.059Z"
   },
   {
    "duration": 6,
    "start_time": "2025-04-02T18:40:36.108Z"
   },
   {
    "duration": 5,
    "start_time": "2025-04-02T18:40:36.116Z"
   },
   {
    "duration": 4,
    "start_time": "2025-04-02T18:40:36.123Z"
   },
   {
    "duration": 11,
    "start_time": "2025-04-02T18:40:36.129Z"
   },
   {
    "duration": 3,
    "start_time": "2025-04-02T18:40:36.141Z"
   },
   {
    "duration": 4,
    "start_time": "2025-04-02T18:40:36.146Z"
   },
   {
    "duration": 11,
    "start_time": "2025-04-02T18:40:36.151Z"
   },
   {
    "duration": 57,
    "start_time": "2025-04-02T18:40:36.164Z"
   },
   {
    "duration": 4,
    "start_time": "2025-04-02T18:40:36.223Z"
   },
   {
    "duration": 4,
    "start_time": "2025-04-02T18:40:36.228Z"
   },
   {
    "duration": 12,
    "start_time": "2025-04-02T18:40:36.234Z"
   },
   {
    "duration": 16,
    "start_time": "2025-04-02T18:40:36.247Z"
   },
   {
    "duration": 3,
    "start_time": "2025-04-02T18:40:36.265Z"
   },
   {
    "duration": 37,
    "start_time": "2025-04-02T18:40:36.272Z"
   },
   {
    "duration": 12,
    "start_time": "2025-04-02T18:40:36.312Z"
   },
   {
    "duration": 9,
    "start_time": "2025-04-02T18:40:36.326Z"
   },
   {
    "duration": 4,
    "start_time": "2025-04-02T18:40:36.336Z"
   },
   {
    "duration": 4,
    "start_time": "2025-04-02T18:40:36.342Z"
   },
   {
    "duration": 245,
    "start_time": "2025-04-02T18:40:36.348Z"
   },
   {
    "duration": 15,
    "start_time": "2025-04-02T18:40:36.595Z"
   },
   {
    "duration": 3,
    "start_time": "2025-04-02T18:47:22.797Z"
   },
   {
    "duration": 13,
    "start_time": "2025-04-02T18:47:26.478Z"
   },
   {
    "duration": 34,
    "start_time": "2025-04-02T18:47:29.677Z"
   },
   {
    "duration": 3,
    "start_time": "2025-04-02T18:47:44.147Z"
   },
   {
    "duration": 49,
    "start_time": "2025-04-02T18:47:44.153Z"
   },
   {
    "duration": 13,
    "start_time": "2025-04-02T18:47:44.205Z"
   },
   {
    "duration": 3,
    "start_time": "2025-04-02T18:47:44.220Z"
   },
   {
    "duration": 14,
    "start_time": "2025-04-02T18:47:44.227Z"
   },
   {
    "duration": 697,
    "start_time": "2025-04-02T18:47:44.243Z"
   },
   {
    "duration": 0,
    "start_time": "2025-04-02T18:47:44.944Z"
   },
   {
    "duration": 0,
    "start_time": "2025-04-02T18:47:44.947Z"
   },
   {
    "duration": 0,
    "start_time": "2025-04-02T18:47:44.949Z"
   },
   {
    "duration": 0,
    "start_time": "2025-04-02T18:47:44.951Z"
   },
   {
    "duration": 0,
    "start_time": "2025-04-02T18:47:44.955Z"
   },
   {
    "duration": 0,
    "start_time": "2025-04-02T18:47:44.957Z"
   },
   {
    "duration": 0,
    "start_time": "2025-04-02T18:47:44.959Z"
   },
   {
    "duration": 0,
    "start_time": "2025-04-02T18:47:44.960Z"
   },
   {
    "duration": 0,
    "start_time": "2025-04-02T18:47:44.962Z"
   },
   {
    "duration": 0,
    "start_time": "2025-04-02T18:47:44.964Z"
   },
   {
    "duration": 0,
    "start_time": "2025-04-02T18:47:44.965Z"
   },
   {
    "duration": 0,
    "start_time": "2025-04-02T18:47:44.967Z"
   },
   {
    "duration": 0,
    "start_time": "2025-04-02T18:47:44.968Z"
   },
   {
    "duration": 1,
    "start_time": "2025-04-02T18:47:44.969Z"
   },
   {
    "duration": 0,
    "start_time": "2025-04-02T18:47:44.971Z"
   },
   {
    "duration": 0,
    "start_time": "2025-04-02T18:47:44.972Z"
   },
   {
    "duration": 0,
    "start_time": "2025-04-02T18:47:44.974Z"
   },
   {
    "duration": 0,
    "start_time": "2025-04-02T18:47:44.975Z"
   },
   {
    "duration": 0,
    "start_time": "2025-04-02T18:47:44.977Z"
   },
   {
    "duration": 0,
    "start_time": "2025-04-02T18:47:44.978Z"
   },
   {
    "duration": 0,
    "start_time": "2025-04-02T18:47:44.980Z"
   },
   {
    "duration": 0,
    "start_time": "2025-04-02T18:47:44.981Z"
   },
   {
    "duration": 0,
    "start_time": "2025-04-02T18:47:44.982Z"
   },
   {
    "duration": 0,
    "start_time": "2025-04-02T18:47:45.009Z"
   },
   {
    "duration": 0,
    "start_time": "2025-04-02T18:47:45.010Z"
   },
   {
    "duration": 0,
    "start_time": "2025-04-02T18:47:45.012Z"
   },
   {
    "duration": 0,
    "start_time": "2025-04-02T18:47:45.013Z"
   },
   {
    "duration": 0,
    "start_time": "2025-04-02T18:47:45.015Z"
   },
   {
    "duration": 80,
    "start_time": "2025-04-02T18:48:10.636Z"
   },
   {
    "duration": 4,
    "start_time": "2025-04-02T18:49:29.490Z"
   },
   {
    "duration": 6,
    "start_time": "2025-04-02T18:49:34.238Z"
   },
   {
    "duration": 23,
    "start_time": "2025-04-02T18:49:35.320Z"
   },
   {
    "duration": 6,
    "start_time": "2025-04-02T18:49:57.999Z"
   },
   {
    "duration": 41,
    "start_time": "2025-04-02T18:49:58.007Z"
   },
   {
    "duration": 15,
    "start_time": "2025-04-02T18:49:58.050Z"
   },
   {
    "duration": 3,
    "start_time": "2025-04-02T18:49:58.067Z"
   },
   {
    "duration": 12,
    "start_time": "2025-04-02T18:49:58.073Z"
   },
   {
    "duration": 26,
    "start_time": "2025-04-02T18:49:58.087Z"
   },
   {
    "duration": 7,
    "start_time": "2025-04-02T18:49:58.116Z"
   },
   {
    "duration": 28,
    "start_time": "2025-04-02T18:49:58.125Z"
   },
   {
    "duration": 10,
    "start_time": "2025-04-02T18:49:58.155Z"
   },
   {
    "duration": 6,
    "start_time": "2025-04-02T18:49:58.167Z"
   },
   {
    "duration": 41,
    "start_time": "2025-04-02T18:49:58.175Z"
   },
   {
    "duration": 7,
    "start_time": "2025-04-02T18:49:58.219Z"
   },
   {
    "duration": 5,
    "start_time": "2025-04-02T18:49:58.228Z"
   },
   {
    "duration": 8,
    "start_time": "2025-04-02T18:49:58.239Z"
   },
   {
    "duration": 6,
    "start_time": "2025-04-02T18:49:58.248Z"
   },
   {
    "duration": 8,
    "start_time": "2025-04-02T18:49:58.256Z"
   },
   {
    "duration": 4,
    "start_time": "2025-04-02T18:49:58.266Z"
   },
   {
    "duration": 48,
    "start_time": "2025-04-02T18:49:58.273Z"
   },
   {
    "duration": 7,
    "start_time": "2025-04-02T18:49:58.323Z"
   },
   {
    "duration": 5,
    "start_time": "2025-04-02T18:49:58.332Z"
   },
   {
    "duration": 19,
    "start_time": "2025-04-02T18:49:58.340Z"
   },
   {
    "duration": 16,
    "start_time": "2025-04-02T18:49:58.364Z"
   },
   {
    "duration": 13,
    "start_time": "2025-04-02T18:49:58.382Z"
   },
   {
    "duration": 14,
    "start_time": "2025-04-02T18:49:58.397Z"
   },
   {
    "duration": 10,
    "start_time": "2025-04-02T18:49:58.413Z"
   },
   {
    "duration": 12,
    "start_time": "2025-04-02T18:49:58.425Z"
   },
   {
    "duration": 3,
    "start_time": "2025-04-02T18:49:58.439Z"
   },
   {
    "duration": 6,
    "start_time": "2025-04-02T18:49:58.444Z"
   },
   {
    "duration": 13,
    "start_time": "2025-04-02T18:49:58.452Z"
   },
   {
    "duration": 44,
    "start_time": "2025-04-02T18:49:58.466Z"
   },
   {
    "duration": 6,
    "start_time": "2025-04-02T18:49:58.512Z"
   },
   {
    "duration": 4,
    "start_time": "2025-04-02T18:49:58.520Z"
   },
   {
    "duration": 194,
    "start_time": "2025-04-02T18:49:58.525Z"
   },
   {
    "duration": 15,
    "start_time": "2025-04-02T18:49:58.721Z"
   },
   {
    "duration": 223,
    "start_time": "2025-04-02T18:50:40.399Z"
   },
   {
    "duration": 3,
    "start_time": "2025-04-02T18:51:50.078Z"
   },
   {
    "duration": 3,
    "start_time": "2025-04-02T18:52:30.716Z"
   },
   {
    "duration": 4,
    "start_time": "2025-04-02T18:52:34.532Z"
   },
   {
    "duration": 28,
    "start_time": "2025-04-02T18:52:35.557Z"
   },
   {
    "duration": 4,
    "start_time": "2025-04-02T18:52:49.476Z"
   },
   {
    "duration": 31,
    "start_time": "2025-04-02T18:52:49.521Z"
   },
   {
    "duration": 14,
    "start_time": "2025-04-02T18:52:49.554Z"
   },
   {
    "duration": 3,
    "start_time": "2025-04-02T18:52:49.569Z"
   },
   {
    "duration": 11,
    "start_time": "2025-04-02T18:52:49.574Z"
   },
   {
    "duration": 84,
    "start_time": "2025-04-02T18:52:49.587Z"
   },
   {
    "duration": 0,
    "start_time": "2025-04-02T18:52:49.673Z"
   },
   {
    "duration": 0,
    "start_time": "2025-04-02T18:52:49.674Z"
   },
   {
    "duration": 0,
    "start_time": "2025-04-02T18:52:49.675Z"
   },
   {
    "duration": 1,
    "start_time": "2025-04-02T18:52:49.676Z"
   },
   {
    "duration": 0,
    "start_time": "2025-04-02T18:52:49.677Z"
   },
   {
    "duration": 6,
    "start_time": "2025-04-02T18:52:49.682Z"
   },
   {
    "duration": 5,
    "start_time": "2025-04-02T18:52:49.709Z"
   },
   {
    "duration": 16,
    "start_time": "2025-04-02T18:52:49.715Z"
   },
   {
    "duration": 6,
    "start_time": "2025-04-02T18:52:49.733Z"
   },
   {
    "duration": 6,
    "start_time": "2025-04-02T18:52:49.742Z"
   },
   {
    "duration": 5,
    "start_time": "2025-04-02T18:52:49.750Z"
   },
   {
    "duration": 18,
    "start_time": "2025-04-02T18:52:49.758Z"
   },
   {
    "duration": 5,
    "start_time": "2025-04-02T18:52:49.808Z"
   },
   {
    "duration": 5,
    "start_time": "2025-04-02T18:52:49.815Z"
   },
   {
    "duration": 12,
    "start_time": "2025-04-02T18:52:49.823Z"
   },
   {
    "duration": 14,
    "start_time": "2025-04-02T18:52:49.837Z"
   },
   {
    "duration": 241,
    "start_time": "2025-04-02T18:52:49.853Z"
   },
   {
    "duration": 0,
    "start_time": "2025-04-02T18:52:50.097Z"
   },
   {
    "duration": 0,
    "start_time": "2025-04-02T18:52:50.099Z"
   },
   {
    "duration": 0,
    "start_time": "2025-04-02T18:52:50.109Z"
   },
   {
    "duration": 0,
    "start_time": "2025-04-02T18:52:50.109Z"
   },
   {
    "duration": 0,
    "start_time": "2025-04-02T18:52:50.111Z"
   },
   {
    "duration": 1,
    "start_time": "2025-04-02T18:52:50.111Z"
   },
   {
    "duration": 0,
    "start_time": "2025-04-02T18:52:50.113Z"
   },
   {
    "duration": 0,
    "start_time": "2025-04-02T18:52:50.114Z"
   },
   {
    "duration": 0,
    "start_time": "2025-04-02T18:52:50.115Z"
   },
   {
    "duration": 0,
    "start_time": "2025-04-02T18:52:50.115Z"
   },
   {
    "duration": 0,
    "start_time": "2025-04-02T18:52:50.118Z"
   },
   {
    "duration": 0,
    "start_time": "2025-04-02T18:52:50.119Z"
   },
   {
    "duration": 3,
    "start_time": "2025-04-02T18:52:56.159Z"
   },
   {
    "duration": 35,
    "start_time": "2025-04-02T18:52:56.165Z"
   },
   {
    "duration": 12,
    "start_time": "2025-04-02T18:52:56.201Z"
   },
   {
    "duration": 2,
    "start_time": "2025-04-02T18:52:56.215Z"
   },
   {
    "duration": 10,
    "start_time": "2025-04-02T18:52:56.220Z"
   },
   {
    "duration": 48,
    "start_time": "2025-04-02T18:52:56.232Z"
   },
   {
    "duration": 0,
    "start_time": "2025-04-02T18:52:56.283Z"
   },
   {
    "duration": 0,
    "start_time": "2025-04-02T18:52:56.284Z"
   },
   {
    "duration": 0,
    "start_time": "2025-04-02T18:52:56.285Z"
   },
   {
    "duration": 0,
    "start_time": "2025-04-02T18:52:56.287Z"
   },
   {
    "duration": 0,
    "start_time": "2025-04-02T18:52:56.288Z"
   },
   {
    "duration": 0,
    "start_time": "2025-04-02T18:52:56.308Z"
   },
   {
    "duration": 0,
    "start_time": "2025-04-02T18:52:56.309Z"
   },
   {
    "duration": 0,
    "start_time": "2025-04-02T18:52:56.310Z"
   },
   {
    "duration": 1,
    "start_time": "2025-04-02T18:52:56.311Z"
   },
   {
    "duration": 0,
    "start_time": "2025-04-02T18:52:56.313Z"
   },
   {
    "duration": 0,
    "start_time": "2025-04-02T18:52:56.314Z"
   },
   {
    "duration": 0,
    "start_time": "2025-04-02T18:52:56.315Z"
   },
   {
    "duration": 0,
    "start_time": "2025-04-02T18:52:56.316Z"
   },
   {
    "duration": 0,
    "start_time": "2025-04-02T18:52:56.317Z"
   },
   {
    "duration": 0,
    "start_time": "2025-04-02T18:52:56.319Z"
   },
   {
    "duration": 0,
    "start_time": "2025-04-02T18:52:56.319Z"
   },
   {
    "duration": 0,
    "start_time": "2025-04-02T18:52:56.320Z"
   },
   {
    "duration": 0,
    "start_time": "2025-04-02T18:52:56.321Z"
   },
   {
    "duration": 0,
    "start_time": "2025-04-02T18:52:56.323Z"
   },
   {
    "duration": 0,
    "start_time": "2025-04-02T18:52:56.324Z"
   },
   {
    "duration": 0,
    "start_time": "2025-04-02T18:52:56.326Z"
   },
   {
    "duration": 0,
    "start_time": "2025-04-02T18:52:56.327Z"
   },
   {
    "duration": 0,
    "start_time": "2025-04-02T18:52:56.329Z"
   },
   {
    "duration": 0,
    "start_time": "2025-04-02T18:52:56.330Z"
   },
   {
    "duration": 0,
    "start_time": "2025-04-02T18:52:56.331Z"
   },
   {
    "duration": 0,
    "start_time": "2025-04-02T18:52:56.332Z"
   },
   {
    "duration": 0,
    "start_time": "2025-04-02T18:52:56.333Z"
   },
   {
    "duration": 0,
    "start_time": "2025-04-02T18:52:56.335Z"
   },
   {
    "duration": 0,
    "start_time": "2025-04-02T18:52:56.336Z"
   },
   {
    "duration": 3,
    "start_time": "2025-04-02T18:53:46.596Z"
   },
   {
    "duration": 33,
    "start_time": "2025-04-02T18:53:46.602Z"
   },
   {
    "duration": 11,
    "start_time": "2025-04-02T18:53:46.637Z"
   },
   {
    "duration": 3,
    "start_time": "2025-04-02T18:53:46.650Z"
   },
   {
    "duration": 9,
    "start_time": "2025-04-02T18:53:46.655Z"
   },
   {
    "duration": 3,
    "start_time": "2025-04-02T18:53:48.542Z"
   },
   {
    "duration": 31,
    "start_time": "2025-04-02T18:53:48.547Z"
   },
   {
    "duration": 11,
    "start_time": "2025-04-02T18:53:48.580Z"
   },
   {
    "duration": 3,
    "start_time": "2025-04-02T18:53:48.592Z"
   },
   {
    "duration": 10,
    "start_time": "2025-04-02T18:53:48.598Z"
   },
   {
    "duration": 6,
    "start_time": "2025-04-02T18:53:48.610Z"
   },
   {
    "duration": 9,
    "start_time": "2025-04-02T18:53:48.618Z"
   },
   {
    "duration": 22,
    "start_time": "2025-04-02T18:53:48.629Z"
   },
   {
    "duration": 8,
    "start_time": "2025-04-02T18:53:48.653Z"
   },
   {
    "duration": 6,
    "start_time": "2025-04-02T18:53:48.663Z"
   },
   {
    "duration": 47,
    "start_time": "2025-04-02T18:53:48.670Z"
   },
   {
    "duration": 7,
    "start_time": "2025-04-02T18:53:48.719Z"
   },
   {
    "duration": 6,
    "start_time": "2025-04-02T18:53:48.728Z"
   },
   {
    "duration": 9,
    "start_time": "2025-04-02T18:53:48.738Z"
   },
   {
    "duration": 5,
    "start_time": "2025-04-02T18:53:48.749Z"
   },
   {
    "duration": 5,
    "start_time": "2025-04-02T18:53:48.758Z"
   },
   {
    "duration": 4,
    "start_time": "2025-04-02T18:53:48.764Z"
   },
   {
    "duration": 43,
    "start_time": "2025-04-02T18:53:48.769Z"
   },
   {
    "duration": 4,
    "start_time": "2025-04-02T18:53:48.814Z"
   },
   {
    "duration": 4,
    "start_time": "2025-04-02T18:53:48.820Z"
   },
   {
    "duration": 11,
    "start_time": "2025-04-02T18:53:48.827Z"
   },
   {
    "duration": 14,
    "start_time": "2025-04-02T18:53:48.840Z"
   },
   {
    "duration": 3,
    "start_time": "2025-04-02T18:53:48.856Z"
   },
   {
    "duration": 5,
    "start_time": "2025-04-02T18:53:48.860Z"
   },
   {
    "duration": 45,
    "start_time": "2025-04-02T18:53:48.866Z"
   },
   {
    "duration": 15,
    "start_time": "2025-04-02T18:53:48.913Z"
   },
   {
    "duration": 6,
    "start_time": "2025-04-02T18:53:48.930Z"
   },
   {
    "duration": 5,
    "start_time": "2025-04-02T18:53:48.937Z"
   },
   {
    "duration": 11,
    "start_time": "2025-04-02T18:53:48.943Z"
   },
   {
    "duration": 8,
    "start_time": "2025-04-02T18:53:48.955Z"
   },
   {
    "duration": 4,
    "start_time": "2025-04-02T18:53:48.967Z"
   },
   {
    "duration": 37,
    "start_time": "2025-04-02T18:53:48.972Z"
   },
   {
    "duration": 315,
    "start_time": "2025-04-02T18:53:49.011Z"
   },
   {
    "duration": 8,
    "start_time": "2025-04-02T18:53:49.328Z"
   },
   {
    "duration": 4,
    "start_time": "2025-04-02T18:53:49.339Z"
   },
   {
    "duration": 156,
    "start_time": "2025-04-02T20:24:25.559Z"
   },
   {
    "duration": 2540,
    "start_time": "2025-04-02T20:24:29.214Z"
   },
   {
    "duration": 47,
    "start_time": "2025-04-02T20:24:32.639Z"
   },
   {
    "duration": 11,
    "start_time": "2025-04-02T20:24:34.014Z"
   },
   {
    "duration": 3,
    "start_time": "2025-04-02T20:24:40.648Z"
   },
   {
    "duration": 16,
    "start_time": "2025-04-02T20:24:43.237Z"
   },
   {
    "duration": 7,
    "start_time": "2025-04-02T20:25:08.759Z"
   },
   {
    "duration": 6,
    "start_time": "2025-04-02T20:25:52.843Z"
   },
   {
    "duration": 14,
    "start_time": "2025-04-02T20:26:11.426Z"
   },
   {
    "duration": 7,
    "start_time": "2025-04-02T20:27:06.170Z"
   },
   {
    "duration": 3,
    "start_time": "2025-04-02T20:27:35.412Z"
   },
   {
    "duration": 32,
    "start_time": "2025-04-02T20:27:36.222Z"
   },
   {
    "duration": 11,
    "start_time": "2025-04-02T20:27:37.119Z"
   },
   {
    "duration": 3,
    "start_time": "2025-04-02T20:27:39.569Z"
   },
   {
    "duration": 16,
    "start_time": "2025-04-02T20:27:41.298Z"
   },
   {
    "duration": 6,
    "start_time": "2025-04-02T20:28:11.662Z"
   },
   {
    "duration": 16,
    "start_time": "2025-04-02T20:28:28.553Z"
   },
   {
    "duration": 2,
    "start_time": "2025-04-02T20:29:28.217Z"
   },
   {
    "duration": 31,
    "start_time": "2025-04-02T20:29:28.680Z"
   },
   {
    "duration": 11,
    "start_time": "2025-04-02T20:29:29.583Z"
   },
   {
    "duration": 3,
    "start_time": "2025-04-02T20:29:32.126Z"
   },
   {
    "duration": 10,
    "start_time": "2025-04-02T20:30:05.069Z"
   },
   {
    "duration": 2,
    "start_time": "2025-04-02T20:34:47.048Z"
   },
   {
    "duration": 30,
    "start_time": "2025-04-02T20:34:47.055Z"
   },
   {
    "duration": 10,
    "start_time": "2025-04-02T20:34:47.087Z"
   },
   {
    "duration": 2,
    "start_time": "2025-04-02T20:34:47.099Z"
   },
   {
    "duration": 11,
    "start_time": "2025-04-02T20:34:47.103Z"
   },
   {
    "duration": 5,
    "start_time": "2025-04-02T20:34:47.128Z"
   },
   {
    "duration": 6,
    "start_time": "2025-04-02T20:34:47.135Z"
   },
   {
    "duration": 21,
    "start_time": "2025-04-02T20:34:47.142Z"
   },
   {
    "duration": 7,
    "start_time": "2025-04-02T20:34:47.165Z"
   },
   {
    "duration": 5,
    "start_time": "2025-04-02T20:34:47.174Z"
   },
   {
    "duration": 32,
    "start_time": "2025-04-02T20:34:47.245Z"
   },
   {
    "duration": 6,
    "start_time": "2025-04-02T20:34:47.282Z"
   },
   {
    "duration": 11,
    "start_time": "2025-04-02T20:34:47.290Z"
   },
   {
    "duration": 9,
    "start_time": "2025-04-02T20:34:47.302Z"
   },
   {
    "duration": 6,
    "start_time": "2025-04-02T20:34:47.314Z"
   },
   {
    "duration": 7,
    "start_time": "2025-04-02T20:34:47.323Z"
   },
   {
    "duration": 4,
    "start_time": "2025-04-02T20:34:47.418Z"
   },
   {
    "duration": 10,
    "start_time": "2025-04-02T20:34:47.424Z"
   },
   {
    "duration": 4,
    "start_time": "2025-04-02T20:34:47.435Z"
   },
   {
    "duration": 4,
    "start_time": "2025-04-02T20:34:47.440Z"
   },
   {
    "duration": 9,
    "start_time": "2025-04-02T20:34:47.447Z"
   },
   {
    "duration": 13,
    "start_time": "2025-04-02T20:34:47.532Z"
   },
   {
    "duration": 3,
    "start_time": "2025-04-02T20:34:47.547Z"
   },
   {
    "duration": 4,
    "start_time": "2025-04-02T20:34:47.552Z"
   },
   {
    "duration": 10,
    "start_time": "2025-04-02T20:34:47.557Z"
   },
   {
    "duration": 12,
    "start_time": "2025-04-02T20:34:47.569Z"
   },
   {
    "duration": 4,
    "start_time": "2025-04-02T20:34:47.583Z"
   },
   {
    "duration": 4,
    "start_time": "2025-04-02T20:34:47.759Z"
   },
   {
    "duration": 9,
    "start_time": "2025-04-02T20:34:47.765Z"
   },
   {
    "duration": 7,
    "start_time": "2025-04-02T20:34:47.776Z"
   },
   {
    "duration": 5,
    "start_time": "2025-04-02T20:34:47.785Z"
   },
   {
    "duration": 4,
    "start_time": "2025-04-02T20:34:47.791Z"
   },
   {
    "duration": 169,
    "start_time": "2025-04-02T20:34:47.797Z"
   },
   {
    "duration": 5,
    "start_time": "2025-04-02T20:34:47.973Z"
   },
   {
    "duration": 3,
    "start_time": "2025-04-02T20:34:47.980Z"
   },
   {
    "duration": 4,
    "start_time": "2025-04-02T20:36:45.695Z"
   },
   {
    "duration": 6,
    "start_time": "2025-04-02T20:38:12.811Z"
   },
   {
    "duration": 2491,
    "start_time": "2025-04-02T22:14:49.454Z"
   },
   {
    "duration": 48,
    "start_time": "2025-04-02T22:14:51.947Z"
   },
   {
    "duration": 10,
    "start_time": "2025-04-02T22:14:51.997Z"
   },
   {
    "duration": 2,
    "start_time": "2025-04-02T22:14:52.009Z"
   },
   {
    "duration": 9,
    "start_time": "2025-04-02T22:14:52.015Z"
   },
   {
    "duration": 7,
    "start_time": "2025-04-02T22:14:52.025Z"
   },
   {
    "duration": 6,
    "start_time": "2025-04-02T22:14:52.033Z"
   },
   {
    "duration": 20,
    "start_time": "2025-04-02T22:14:52.041Z"
   },
   {
    "duration": 7,
    "start_time": "2025-04-02T22:14:52.063Z"
   },
   {
    "duration": 4,
    "start_time": "2025-04-02T22:14:52.072Z"
   },
   {
    "duration": 10,
    "start_time": "2025-04-02T22:14:52.110Z"
   },
   {
    "duration": 6,
    "start_time": "2025-04-02T22:14:52.121Z"
   },
   {
    "duration": 5,
    "start_time": "2025-04-02T22:14:52.128Z"
   },
   {
    "duration": 6,
    "start_time": "2025-04-02T22:14:52.136Z"
   },
   {
    "duration": 5,
    "start_time": "2025-04-02T22:14:52.144Z"
   },
   {
    "duration": 5,
    "start_time": "2025-04-02T22:14:52.150Z"
   },
   {
    "duration": 4,
    "start_time": "2025-04-02T22:14:52.156Z"
   },
   {
    "duration": 55,
    "start_time": "2025-04-02T22:14:52.161Z"
   },
   {
    "duration": 4,
    "start_time": "2025-04-02T22:14:52.217Z"
   },
   {
    "duration": 4,
    "start_time": "2025-04-02T22:14:52.222Z"
   },
   {
    "duration": 9,
    "start_time": "2025-04-02T22:14:52.228Z"
   },
   {
    "duration": 10,
    "start_time": "2025-04-02T22:14:52.239Z"
   },
   {
    "duration": 3,
    "start_time": "2025-04-02T22:14:52.252Z"
   },
   {
    "duration": 4,
    "start_time": "2025-04-02T22:14:52.256Z"
   },
   {
    "duration": 47,
    "start_time": "2025-04-02T22:14:52.262Z"
   },
   {
    "duration": 11,
    "start_time": "2025-04-02T22:14:52.311Z"
   },
   {
    "duration": 3,
    "start_time": "2025-04-02T22:14:52.324Z"
   },
   {
    "duration": 4,
    "start_time": "2025-04-02T22:14:52.329Z"
   },
   {
    "duration": 11,
    "start_time": "2025-04-02T22:14:52.334Z"
   },
   {
    "duration": 7,
    "start_time": "2025-04-02T22:14:52.346Z"
   },
   {
    "duration": 4,
    "start_time": "2025-04-02T22:14:52.355Z"
   },
   {
    "duration": 4,
    "start_time": "2025-04-02T22:14:52.361Z"
   },
   {
    "duration": 208,
    "start_time": "2025-04-02T22:14:52.367Z"
   },
   {
    "duration": 220,
    "start_time": "2025-04-02T22:16:13.412Z"
   },
   {
    "duration": 5,
    "start_time": "2025-04-02T22:17:30.334Z"
   },
   {
    "duration": 164,
    "start_time": "2025-04-02T22:30:41.018Z"
   },
   {
    "duration": 347,
    "start_time": "2025-04-02T22:30:52.179Z"
   },
   {
    "duration": 173,
    "start_time": "2025-04-02T22:31:06.425Z"
   },
   {
    "duration": 408,
    "start_time": "2025-04-02T22:33:23.058Z"
   },
   {
    "duration": 130,
    "start_time": "2025-04-02T22:33:42.320Z"
   },
   {
    "duration": 138,
    "start_time": "2025-04-02T22:34:41.277Z"
   },
   {
    "duration": 147,
    "start_time": "2025-04-02T22:35:02.614Z"
   },
   {
    "duration": 147,
    "start_time": "2025-04-02T22:35:15.118Z"
   },
   {
    "duration": 187,
    "start_time": "2025-04-02T22:35:42.501Z"
   },
   {
    "duration": 135,
    "start_time": "2025-04-02T22:35:52.851Z"
   },
   {
    "duration": 149,
    "start_time": "2025-04-02T22:37:25.418Z"
   },
   {
    "duration": 336,
    "start_time": "2025-04-02T22:37:34.613Z"
   },
   {
    "duration": 338,
    "start_time": "2025-04-02T22:37:45.425Z"
   },
   {
    "duration": 355,
    "start_time": "2025-04-02T22:37:57.095Z"
   },
   {
    "duration": 541,
    "start_time": "2025-04-02T22:38:05.793Z"
   },
   {
    "duration": 425,
    "start_time": "2025-04-02T22:38:17.459Z"
   },
   {
    "duration": 355,
    "start_time": "2025-04-02T22:39:18.068Z"
   },
   {
    "duration": 355,
    "start_time": "2025-04-02T22:39:31.545Z"
   },
   {
    "duration": 372,
    "start_time": "2025-04-02T22:39:39.011Z"
   },
   {
    "duration": 355,
    "start_time": "2025-04-02T22:39:49.588Z"
   },
   {
    "duration": 441,
    "start_time": "2025-04-02T22:39:56.905Z"
   },
   {
    "duration": 340,
    "start_time": "2025-04-02T22:40:07.426Z"
   },
   {
    "duration": 36,
    "start_time": "2025-04-02T22:40:32.156Z"
   },
   {
    "duration": 165,
    "start_time": "2025-04-02T22:40:42.811Z"
   },
   {
    "duration": 7,
    "start_time": "2025-04-02T22:40:49.064Z"
   },
   {
    "duration": 360,
    "start_time": "2025-04-02T22:40:59.999Z"
   },
   {
    "duration": 31,
    "start_time": "2025-04-02T22:41:03.774Z"
   },
   {
    "duration": 336,
    "start_time": "2025-04-02T22:56:01.746Z"
   },
   {
    "duration": 5,
    "start_time": "2025-04-02T22:58:34.823Z"
   },
   {
    "duration": 18,
    "start_time": "2025-04-02T22:58:42.105Z"
   },
   {
    "duration": 142,
    "start_time": "2025-04-02T23:00:20.575Z"
   },
   {
    "duration": 5,
    "start_time": "2025-04-02T23:00:43.578Z"
   },
   {
    "duration": 17,
    "start_time": "2025-04-02T23:12:55.229Z"
   },
   {
    "duration": 442,
    "start_time": "2025-04-02T23:13:18.586Z"
   },
   {
    "duration": 22,
    "start_time": "2025-04-02T23:13:37.866Z"
   },
   {
    "duration": 14,
    "start_time": "2025-04-02T23:16:55.426Z"
   },
   {
    "duration": 5,
    "start_time": "2025-04-02T23:16:59.067Z"
   },
   {
    "duration": 19,
    "start_time": "2025-04-02T23:17:00.866Z"
   },
   {
    "duration": 182,
    "start_time": "2025-04-02T23:17:11.025Z"
   },
   {
    "duration": 22,
    "start_time": "2025-04-02T23:17:27.627Z"
   },
   {
    "duration": 141,
    "start_time": "2025-04-02T23:18:29.863Z"
   },
   {
    "duration": 292,
    "start_time": "2025-04-02T23:18:55.665Z"
   },
   {
    "duration": 278,
    "start_time": "2025-04-02T23:21:10.155Z"
   },
   {
    "duration": 371,
    "start_time": "2025-04-02T23:21:16.539Z"
   },
   {
    "duration": 2585,
    "start_time": "2025-04-03T13:33:22.748Z"
   },
   {
    "duration": 46,
    "start_time": "2025-04-03T13:33:25.335Z"
   },
   {
    "duration": 11,
    "start_time": "2025-04-03T13:33:25.383Z"
   },
   {
    "duration": 3,
    "start_time": "2025-04-03T13:33:25.396Z"
   },
   {
    "duration": 10,
    "start_time": "2025-04-03T13:33:25.401Z"
   },
   {
    "duration": 22,
    "start_time": "2025-04-03T13:33:25.413Z"
   },
   {
    "duration": 6,
    "start_time": "2025-04-03T13:33:25.436Z"
   },
   {
    "duration": 22,
    "start_time": "2025-04-03T13:33:25.443Z"
   },
   {
    "duration": 7,
    "start_time": "2025-04-03T13:33:25.467Z"
   },
   {
    "duration": 4,
    "start_time": "2025-04-03T13:33:25.478Z"
   },
   {
    "duration": 11,
    "start_time": "2025-04-03T13:33:25.484Z"
   },
   {
    "duration": 6,
    "start_time": "2025-04-03T13:33:25.496Z"
   },
   {
    "duration": 31,
    "start_time": "2025-04-03T13:33:25.503Z"
   },
   {
    "duration": 8,
    "start_time": "2025-04-03T13:33:25.536Z"
   },
   {
    "duration": 5,
    "start_time": "2025-04-03T13:33:25.545Z"
   },
   {
    "duration": 4,
    "start_time": "2025-04-03T13:33:25.551Z"
   },
   {
    "duration": 4,
    "start_time": "2025-04-03T13:33:25.557Z"
   },
   {
    "duration": 10,
    "start_time": "2025-04-03T13:33:25.562Z"
   },
   {
    "duration": 4,
    "start_time": "2025-04-03T13:33:25.573Z"
   },
   {
    "duration": 4,
    "start_time": "2025-04-03T13:33:25.578Z"
   },
   {
    "duration": 55,
    "start_time": "2025-04-03T13:33:25.584Z"
   },
   {
    "duration": 11,
    "start_time": "2025-04-03T13:33:25.640Z"
   },
   {
    "duration": 3,
    "start_time": "2025-04-03T13:33:25.652Z"
   },
   {
    "duration": 4,
    "start_time": "2025-04-03T13:33:25.657Z"
   },
   {
    "duration": 11,
    "start_time": "2025-04-03T13:33:25.662Z"
   },
   {
    "duration": 12,
    "start_time": "2025-04-03T13:33:25.674Z"
   },
   {
    "duration": 3,
    "start_time": "2025-04-03T13:33:25.687Z"
   },
   {
    "duration": 4,
    "start_time": "2025-04-03T13:33:25.731Z"
   },
   {
    "duration": 10,
    "start_time": "2025-04-03T13:33:25.737Z"
   },
   {
    "duration": 6,
    "start_time": "2025-04-03T13:33:25.749Z"
   },
   {
    "duration": 4,
    "start_time": "2025-04-03T13:33:25.757Z"
   },
   {
    "duration": 4,
    "start_time": "2025-04-03T13:33:25.763Z"
   },
   {
    "duration": 204,
    "start_time": "2025-04-03T13:33:25.768Z"
   },
   {
    "duration": 244,
    "start_time": "2025-04-03T13:33:25.974Z"
   },
   {
    "duration": 388,
    "start_time": "2025-04-03T13:33:26.219Z"
   },
   {
    "duration": 5,
    "start_time": "2025-04-03T13:33:26.609Z"
   },
   {
    "duration": 16,
    "start_time": "2025-04-03T13:33:26.616Z"
   },
   {
    "duration": 152,
    "start_time": "2025-04-03T13:33:26.633Z"
   },
   {
    "duration": 4,
    "start_time": "2025-04-03T13:33:26.787Z"
   },
   {
    "duration": 344,
    "start_time": "2025-04-03T13:33:26.793Z"
   },
   {
    "duration": 160,
    "start_time": "2025-04-03T13:35:37.487Z"
   },
   {
    "duration": 164,
    "start_time": "2025-04-03T13:36:31.246Z"
   },
   {
    "duration": 836,
    "start_time": "2025-04-03T13:42:18.635Z"
   },
   {
    "duration": 160,
    "start_time": "2025-04-03T13:43:23.574Z"
   },
   {
    "duration": 163,
    "start_time": "2025-04-03T13:43:46.727Z"
   },
   {
    "duration": 69,
    "start_time": "2025-04-03T13:44:00.309Z"
   },
   {
    "duration": 17,
    "start_time": "2025-04-03T13:45:22.792Z"
   },
   {
    "duration": 28,
    "start_time": "2025-04-03T13:46:05.090Z"
   },
   {
    "duration": 36,
    "start_time": "2025-04-03T13:47:22.466Z"
   },
   {
    "duration": 107841,
    "start_time": "2025-04-03T13:51:26.607Z"
   },
   {
    "duration": 108422,
    "start_time": "2025-04-03T13:53:45.846Z"
   },
   {
    "duration": 158,
    "start_time": "2025-04-03T13:57:49.566Z"
   },
   {
    "duration": 158,
    "start_time": "2025-04-03T13:58:25.346Z"
   },
   {
    "duration": 5,
    "start_time": "2025-04-03T13:58:39.681Z"
   },
   {
    "duration": 371,
    "start_time": "2025-04-03T14:09:15.026Z"
   },
   {
    "duration": 360,
    "start_time": "2025-04-03T14:10:08.706Z"
   },
   {
    "duration": 8,
    "start_time": "2025-04-03T14:11:29.748Z"
   },
   {
    "duration": 4,
    "start_time": "2025-04-03T14:11:37.567Z"
   },
   {
    "duration": 5,
    "start_time": "2025-04-03T14:13:09.010Z"
   },
   {
    "duration": 5,
    "start_time": "2025-04-03T14:14:27.787Z"
   },
   {
    "duration": 346,
    "start_time": "2025-04-03T14:18:59.332Z"
   },
   {
    "duration": 5,
    "start_time": "2025-04-03T14:19:14.108Z"
   },
   {
    "duration": 5,
    "start_time": "2025-04-03T14:21:00.544Z"
   },
   {
    "duration": 5,
    "start_time": "2025-04-03T14:21:42.285Z"
   },
   {
    "duration": 2499,
    "start_time": "2025-04-03T15:58:15.094Z"
   },
   {
    "duration": 48,
    "start_time": "2025-04-03T15:58:17.595Z"
   },
   {
    "duration": 12,
    "start_time": "2025-04-03T15:58:17.644Z"
   },
   {
    "duration": 2,
    "start_time": "2025-04-03T15:58:17.659Z"
   },
   {
    "duration": 10,
    "start_time": "2025-04-03T15:58:17.663Z"
   },
   {
    "duration": 7,
    "start_time": "2025-04-03T15:58:17.674Z"
   },
   {
    "duration": 6,
    "start_time": "2025-04-03T15:58:17.682Z"
   },
   {
    "duration": 42,
    "start_time": "2025-04-03T15:58:17.690Z"
   },
   {
    "duration": 7,
    "start_time": "2025-04-03T15:58:17.735Z"
   },
   {
    "duration": 3,
    "start_time": "2025-04-03T15:58:17.746Z"
   },
   {
    "duration": 10,
    "start_time": "2025-04-03T15:58:17.751Z"
   },
   {
    "duration": 5,
    "start_time": "2025-04-03T15:58:17.762Z"
   },
   {
    "duration": 5,
    "start_time": "2025-04-03T15:58:17.769Z"
   },
   {
    "duration": 39,
    "start_time": "2025-04-03T15:58:17.775Z"
   },
   {
    "duration": 4,
    "start_time": "2025-04-03T15:58:17.816Z"
   },
   {
    "duration": 4,
    "start_time": "2025-04-03T15:58:17.822Z"
   },
   {
    "duration": 3,
    "start_time": "2025-04-03T15:58:17.828Z"
   },
   {
    "duration": 10,
    "start_time": "2025-04-03T15:58:17.832Z"
   },
   {
    "duration": 4,
    "start_time": "2025-04-03T15:58:17.844Z"
   },
   {
    "duration": 3,
    "start_time": "2025-04-03T15:58:17.850Z"
   },
   {
    "duration": 9,
    "start_time": "2025-04-03T15:58:17.855Z"
   },
   {
    "duration": 51,
    "start_time": "2025-04-03T15:58:17.866Z"
   },
   {
    "duration": 3,
    "start_time": "2025-04-03T15:58:17.918Z"
   },
   {
    "duration": 4,
    "start_time": "2025-04-03T15:58:17.923Z"
   },
   {
    "duration": 11,
    "start_time": "2025-04-03T15:58:17.928Z"
   },
   {
    "duration": 12,
    "start_time": "2025-04-03T15:58:17.940Z"
   },
   {
    "duration": 3,
    "start_time": "2025-04-03T15:58:17.953Z"
   },
   {
    "duration": 5,
    "start_time": "2025-04-03T15:58:17.960Z"
   },
   {
    "duration": 48,
    "start_time": "2025-04-03T15:58:17.966Z"
   },
   {
    "duration": 12,
    "start_time": "2025-04-03T15:58:18.016Z"
   },
   {
    "duration": 4,
    "start_time": "2025-04-03T15:58:18.031Z"
   },
   {
    "duration": 5,
    "start_time": "2025-04-03T15:58:18.037Z"
   },
   {
    "duration": 190,
    "start_time": "2025-04-03T15:58:18.043Z"
   },
   {
    "duration": 229,
    "start_time": "2025-04-03T15:58:18.235Z"
   },
   {
    "duration": 387,
    "start_time": "2025-04-03T15:58:18.465Z"
   },
   {
    "duration": 4,
    "start_time": "2025-04-03T15:58:18.854Z"
   },
   {
    "duration": 17,
    "start_time": "2025-04-03T15:58:18.860Z"
   },
   {
    "duration": 211,
    "start_time": "2025-04-03T15:58:18.878Z"
   },
   {
    "duration": 4,
    "start_time": "2025-04-03T15:58:19.091Z"
   },
   {
    "duration": 317,
    "start_time": "2025-04-03T15:58:19.097Z"
   },
   {
    "duration": 161,
    "start_time": "2025-04-03T15:58:19.416Z"
   },
   {
    "duration": 167,
    "start_time": "2025-04-03T15:58:19.578Z"
   },
   {
    "duration": 108398,
    "start_time": "2025-04-03T15:58:19.747Z"
   },
   {
    "duration": 172,
    "start_time": "2025-04-03T16:00:08.147Z"
   },
   {
    "duration": 374,
    "start_time": "2025-04-03T16:00:08.321Z"
   },
   {
    "duration": 368,
    "start_time": "2025-04-03T16:00:08.697Z"
   },
   {
    "duration": 4,
    "start_time": "2025-04-03T16:00:09.067Z"
   },
   {
    "duration": 175,
    "start_time": "2025-04-03T16:02:21.364Z"
   },
   {
    "duration": 152,
    "start_time": "2025-04-03T16:02:57.499Z"
   },
   {
    "duration": 169,
    "start_time": "2025-04-03T16:03:31.853Z"
   },
   {
    "duration": 7,
    "start_time": "2025-04-03T16:04:04.829Z"
   },
   {
    "duration": 5,
    "start_time": "2025-04-03T16:05:14.020Z"
   },
   {
    "duration": 92,
    "start_time": "2025-04-03T16:27:39.939Z"
   },
   {
    "duration": 9,
    "start_time": "2025-04-03T16:28:18.491Z"
   },
   {
    "duration": 8,
    "start_time": "2025-04-03T16:28:47.061Z"
   },
   {
    "duration": 21,
    "start_time": "2025-04-03T16:29:50.626Z"
   },
   {
    "duration": 8,
    "start_time": "2025-04-03T16:29:58.206Z"
   },
   {
    "duration": 21,
    "start_time": "2025-04-03T16:34:13.137Z"
   },
   {
    "duration": 17,
    "start_time": "2025-04-03T16:37:31.408Z"
   },
   {
    "duration": 4,
    "start_time": "2025-04-03T16:38:04.328Z"
   },
   {
    "duration": 2,
    "start_time": "2025-04-03T16:38:47.297Z"
   },
   {
    "duration": 29,
    "start_time": "2025-04-03T16:38:47.302Z"
   },
   {
    "duration": 10,
    "start_time": "2025-04-03T16:38:47.334Z"
   },
   {
    "duration": 3,
    "start_time": "2025-04-03T16:38:47.346Z"
   },
   {
    "duration": 9,
    "start_time": "2025-04-03T16:38:47.351Z"
   },
   {
    "duration": 5,
    "start_time": "2025-04-03T16:38:47.362Z"
   },
   {
    "duration": 6,
    "start_time": "2025-04-03T16:38:47.369Z"
   },
   {
    "duration": 49,
    "start_time": "2025-04-03T16:38:47.377Z"
   },
   {
    "duration": 7,
    "start_time": "2025-04-03T16:38:47.428Z"
   },
   {
    "duration": 5,
    "start_time": "2025-04-03T16:38:47.436Z"
   },
   {
    "duration": 10,
    "start_time": "2025-04-03T16:38:47.443Z"
   },
   {
    "duration": 5,
    "start_time": "2025-04-03T16:38:47.454Z"
   },
   {
    "duration": 5,
    "start_time": "2025-04-03T16:38:47.460Z"
   },
   {
    "duration": 47,
    "start_time": "2025-04-03T16:38:47.466Z"
   },
   {
    "duration": 5,
    "start_time": "2025-04-03T16:38:47.514Z"
   },
   {
    "duration": 4,
    "start_time": "2025-04-03T16:38:47.520Z"
   },
   {
    "duration": 3,
    "start_time": "2025-04-03T16:38:47.526Z"
   },
   {
    "duration": 11,
    "start_time": "2025-04-03T16:38:47.531Z"
   },
   {
    "duration": 4,
    "start_time": "2025-04-03T16:38:47.543Z"
   },
   {
    "duration": 4,
    "start_time": "2025-04-03T16:38:47.548Z"
   },
   {
    "duration": 10,
    "start_time": "2025-04-03T16:38:47.553Z"
   },
   {
    "duration": 56,
    "start_time": "2025-04-03T16:38:47.564Z"
   },
   {
    "duration": 3,
    "start_time": "2025-04-03T16:38:47.622Z"
   },
   {
    "duration": 4,
    "start_time": "2025-04-03T16:38:47.626Z"
   },
   {
    "duration": 10,
    "start_time": "2025-04-03T16:38:47.632Z"
   },
   {
    "duration": 11,
    "start_time": "2025-04-03T16:38:47.644Z"
   },
   {
    "duration": 3,
    "start_time": "2025-04-03T16:38:47.656Z"
   },
   {
    "duration": 4,
    "start_time": "2025-04-03T16:38:47.663Z"
   },
   {
    "duration": 44,
    "start_time": "2025-04-03T16:38:47.669Z"
   },
   {
    "duration": 8,
    "start_time": "2025-04-03T16:38:47.714Z"
   },
   {
    "duration": 3,
    "start_time": "2025-04-03T16:38:47.725Z"
   },
   {
    "duration": 3,
    "start_time": "2025-04-03T16:38:47.730Z"
   },
   {
    "duration": 189,
    "start_time": "2025-04-03T16:38:47.735Z"
   },
   {
    "duration": 231,
    "start_time": "2025-04-03T16:38:47.925Z"
   },
   {
    "duration": 409,
    "start_time": "2025-04-03T16:38:48.158Z"
   },
   {
    "duration": 5,
    "start_time": "2025-04-03T16:38:48.569Z"
   },
   {
    "duration": 16,
    "start_time": "2025-04-03T16:38:48.576Z"
   },
   {
    "duration": 216,
    "start_time": "2025-04-03T16:38:48.594Z"
   },
   {
    "duration": 12,
    "start_time": "2025-04-03T16:38:48.812Z"
   },
   {
    "duration": 334,
    "start_time": "2025-04-03T16:38:48.826Z"
   },
   {
    "duration": 171,
    "start_time": "2025-04-03T16:38:49.162Z"
   },
   {
    "duration": 179,
    "start_time": "2025-04-03T16:38:49.334Z"
   },
   {
    "duration": 111870,
    "start_time": "2025-04-03T16:38:49.515Z"
   },
   {
    "duration": 171,
    "start_time": "2025-04-03T16:40:41.387Z"
   },
   {
    "duration": 406,
    "start_time": "2025-04-03T16:40:41.560Z"
   },
   {
    "duration": 382,
    "start_time": "2025-04-03T16:40:41.969Z"
   },
   {
    "duration": 174,
    "start_time": "2025-04-03T16:40:42.354Z"
   },
   {
    "duration": 5,
    "start_time": "2025-04-03T16:40:42.530Z"
   },
   {
    "duration": 20,
    "start_time": "2025-04-03T16:40:42.537Z"
   },
   {
    "duration": 0,
    "start_time": "2025-04-03T16:40:42.560Z"
   },
   {
    "duration": 8,
    "start_time": "2025-04-03T16:49:15.603Z"
   },
   {
    "duration": 5,
    "start_time": "2025-04-03T16:49:41.338Z"
   },
   {
    "duration": 3,
    "start_time": "2025-04-03T16:50:00.989Z"
   },
   {
    "duration": 30,
    "start_time": "2025-04-03T16:50:00.994Z"
   },
   {
    "duration": 10,
    "start_time": "2025-04-03T16:50:01.025Z"
   },
   {
    "duration": 3,
    "start_time": "2025-04-03T16:50:01.036Z"
   },
   {
    "duration": 9,
    "start_time": "2025-04-03T16:50:01.042Z"
   },
   {
    "duration": 5,
    "start_time": "2025-04-03T16:50:01.171Z"
   },
   {
    "duration": 7,
    "start_time": "2025-04-03T16:50:01.178Z"
   },
   {
    "duration": 21,
    "start_time": "2025-04-03T16:50:01.187Z"
   },
   {
    "duration": 6,
    "start_time": "2025-04-03T16:50:01.210Z"
   },
   {
    "duration": 4,
    "start_time": "2025-04-03T16:50:01.218Z"
   },
   {
    "duration": 10,
    "start_time": "2025-04-03T16:50:01.239Z"
   },
   {
    "duration": 5,
    "start_time": "2025-04-03T16:50:01.251Z"
   },
   {
    "duration": 5,
    "start_time": "2025-04-03T16:50:01.257Z"
   },
   {
    "duration": 7,
    "start_time": "2025-04-03T16:50:01.264Z"
   },
   {
    "duration": 5,
    "start_time": "2025-04-03T16:50:01.272Z"
   },
   {
    "duration": 4,
    "start_time": "2025-04-03T16:50:01.278Z"
   },
   {
    "duration": 4,
    "start_time": "2025-04-03T16:50:01.311Z"
   },
   {
    "duration": 9,
    "start_time": "2025-04-03T16:50:01.318Z"
   },
   {
    "duration": 4,
    "start_time": "2025-04-03T16:50:01.328Z"
   },
   {
    "duration": 5,
    "start_time": "2025-04-03T16:50:01.335Z"
   },
   {
    "duration": 10,
    "start_time": "2025-04-03T16:50:01.341Z"
   },
   {
    "duration": 11,
    "start_time": "2025-04-03T16:50:01.353Z"
   },
   {
    "duration": 3,
    "start_time": "2025-04-03T16:50:01.365Z"
   },
   {
    "duration": 4,
    "start_time": "2025-04-03T16:50:01.370Z"
   },
   {
    "duration": 11,
    "start_time": "2025-04-03T16:50:01.412Z"
   },
   {
    "duration": 12,
    "start_time": "2025-04-03T16:50:01.425Z"
   },
   {
    "duration": 3,
    "start_time": "2025-04-03T16:50:01.438Z"
   },
   {
    "duration": 4,
    "start_time": "2025-04-03T16:50:01.443Z"
   },
   {
    "duration": 10,
    "start_time": "2025-04-03T16:50:01.448Z"
   },
   {
    "duration": 7,
    "start_time": "2025-04-03T16:50:01.460Z"
   },
   {
    "duration": 43,
    "start_time": "2025-04-03T16:50:01.469Z"
   },
   {
    "duration": 4,
    "start_time": "2025-04-03T16:50:01.513Z"
   },
   {
    "duration": 174,
    "start_time": "2025-04-03T16:50:01.519Z"
   },
   {
    "duration": 245,
    "start_time": "2025-04-03T16:50:01.697Z"
   },
   {
    "duration": 359,
    "start_time": "2025-04-03T16:50:01.943Z"
   },
   {
    "duration": 5,
    "start_time": "2025-04-03T16:50:02.311Z"
   },
   {
    "duration": 16,
    "start_time": "2025-04-03T16:50:02.317Z"
   },
   {
    "duration": 165,
    "start_time": "2025-04-03T16:50:02.334Z"
   },
   {
    "duration": 11,
    "start_time": "2025-04-03T16:50:02.502Z"
   },
   {
    "duration": 372,
    "start_time": "2025-04-03T16:50:02.515Z"
   },
   {
    "duration": 177,
    "start_time": "2025-04-03T16:50:02.889Z"
   },
   {
    "duration": 176,
    "start_time": "2025-04-03T16:50:03.068Z"
   },
   {
    "duration": 110358,
    "start_time": "2025-04-03T16:50:03.246Z"
   },
   {
    "duration": 171,
    "start_time": "2025-04-03T16:51:53.606Z"
   },
   {
    "duration": 385,
    "start_time": "2025-04-03T16:51:53.779Z"
   },
   {
    "duration": 373,
    "start_time": "2025-04-03T16:51:54.166Z"
   },
   {
    "duration": 183,
    "start_time": "2025-04-03T16:51:54.541Z"
   },
   {
    "duration": 4,
    "start_time": "2025-04-03T16:51:54.725Z"
   },
   {
    "duration": 5,
    "start_time": "2025-04-03T16:55:33.583Z"
   },
   {
    "duration": 15,
    "start_time": "2025-04-03T17:03:22.606Z"
   },
   {
    "duration": 14,
    "start_time": "2025-04-03T17:03:31.338Z"
   },
   {
    "duration": 16,
    "start_time": "2025-04-03T17:03:50.559Z"
   },
   {
    "duration": 5,
    "start_time": "2025-04-03T17:04:08.288Z"
   },
   {
    "duration": 12,
    "start_time": "2025-04-03T17:04:23.479Z"
   },
   {
    "duration": 5,
    "start_time": "2025-04-03T17:04:40.642Z"
   },
   {
    "duration": 5,
    "start_time": "2025-04-03T17:04:57.684Z"
   },
   {
    "duration": 7,
    "start_time": "2025-04-03T17:05:30.915Z"
   },
   {
    "duration": 3128,
    "start_time": "2025-04-03T17:05:37.748Z"
   },
   {
    "duration": 8,
    "start_time": "2025-04-03T17:08:38.427Z"
   },
   {
    "duration": 8,
    "start_time": "2025-04-03T17:09:39.196Z"
   },
   {
    "duration": 9,
    "start_time": "2025-04-03T17:09:43.396Z"
   },
   {
    "duration": 2931,
    "start_time": "2025-04-03T18:48:40.601Z"
   },
   {
    "duration": 56,
    "start_time": "2025-04-03T18:48:43.534Z"
   },
   {
    "duration": 11,
    "start_time": "2025-04-03T18:48:43.591Z"
   },
   {
    "duration": 7,
    "start_time": "2025-04-03T18:48:43.604Z"
   },
   {
    "duration": 12,
    "start_time": "2025-04-03T18:48:43.613Z"
   },
   {
    "duration": 7,
    "start_time": "2025-04-03T18:48:43.626Z"
   },
   {
    "duration": 8,
    "start_time": "2025-04-03T18:48:43.634Z"
   },
   {
    "duration": 21,
    "start_time": "2025-04-03T18:48:43.644Z"
   },
   {
    "duration": 8,
    "start_time": "2025-04-03T18:48:43.667Z"
   },
   {
    "duration": 37,
    "start_time": "2025-04-03T18:48:43.677Z"
   },
   {
    "duration": 12,
    "start_time": "2025-04-03T18:48:43.716Z"
   },
   {
    "duration": 5,
    "start_time": "2025-04-03T18:48:43.730Z"
   },
   {
    "duration": 5,
    "start_time": "2025-04-03T18:48:43.737Z"
   },
   {
    "duration": 7,
    "start_time": "2025-04-03T18:48:43.746Z"
   },
   {
    "duration": 7,
    "start_time": "2025-04-03T18:48:43.755Z"
   },
   {
    "duration": 3,
    "start_time": "2025-04-03T18:48:43.764Z"
   },
   {
    "duration": 43,
    "start_time": "2025-04-03T18:48:43.769Z"
   },
   {
    "duration": 13,
    "start_time": "2025-04-03T18:48:43.814Z"
   },
   {
    "duration": 5,
    "start_time": "2025-04-03T18:48:43.830Z"
   },
   {
    "duration": 7,
    "start_time": "2025-04-03T18:48:43.838Z"
   },
   {
    "duration": 15,
    "start_time": "2025-04-03T18:48:43.847Z"
   },
   {
    "duration": 50,
    "start_time": "2025-04-03T18:48:43.864Z"
   },
   {
    "duration": 4,
    "start_time": "2025-04-03T18:48:43.916Z"
   },
   {
    "duration": 5,
    "start_time": "2025-04-03T18:48:43.921Z"
   },
   {
    "duration": 14,
    "start_time": "2025-04-03T18:48:43.927Z"
   },
   {
    "duration": 15,
    "start_time": "2025-04-03T18:48:43.943Z"
   },
   {
    "duration": 4,
    "start_time": "2025-04-03T18:48:43.961Z"
   },
   {
    "duration": 6,
    "start_time": "2025-04-03T18:48:43.967Z"
   },
   {
    "duration": 14,
    "start_time": "2025-04-03T18:48:44.011Z"
   },
   {
    "duration": 9,
    "start_time": "2025-04-03T18:48:44.028Z"
   },
   {
    "duration": 5,
    "start_time": "2025-04-03T18:48:44.039Z"
   },
   {
    "duration": 5,
    "start_time": "2025-04-03T18:48:44.046Z"
   },
   {
    "duration": 233,
    "start_time": "2025-04-03T18:48:44.053Z"
   },
   {
    "duration": 245,
    "start_time": "2025-04-03T18:48:44.288Z"
   },
   {
    "duration": 408,
    "start_time": "2025-04-03T18:48:44.536Z"
   },
   {
    "duration": 6,
    "start_time": "2025-04-03T18:48:44.945Z"
   },
   {
    "duration": 19,
    "start_time": "2025-04-03T18:48:44.952Z"
   },
   {
    "duration": 280,
    "start_time": "2025-04-03T18:48:44.973Z"
   },
   {
    "duration": 5,
    "start_time": "2025-04-03T18:48:45.255Z"
   },
   {
    "duration": 322,
    "start_time": "2025-04-03T18:48:45.262Z"
   },
   {
    "duration": 165,
    "start_time": "2025-04-03T18:48:45.589Z"
   },
   {
    "duration": 186,
    "start_time": "2025-04-03T18:48:45.757Z"
   },
   {
    "duration": 113208,
    "start_time": "2025-04-03T18:48:45.945Z"
   },
   {
    "duration": 186,
    "start_time": "2025-04-03T18:50:39.156Z"
   },
   {
    "duration": 445,
    "start_time": "2025-04-03T18:50:39.344Z"
   },
   {
    "duration": 491,
    "start_time": "2025-04-03T18:50:39.791Z"
   },
   {
    "duration": 220,
    "start_time": "2025-04-03T18:50:40.285Z"
   },
   {
    "duration": 8,
    "start_time": "2025-04-03T18:50:40.512Z"
   },
   {
    "duration": 9,
    "start_time": "2025-04-03T18:50:40.522Z"
   },
   {
    "duration": 118325,
    "start_time": "2025-04-03T19:06:58.213Z"
   },
   {
    "duration": 2575,
    "start_time": "2025-04-03T21:26:29.125Z"
   },
   {
    "duration": 44,
    "start_time": "2025-04-03T21:26:31.702Z"
   },
   {
    "duration": 11,
    "start_time": "2025-04-03T21:26:31.748Z"
   },
   {
    "duration": 3,
    "start_time": "2025-04-03T21:26:31.761Z"
   },
   {
    "duration": 11,
    "start_time": "2025-04-03T21:26:31.766Z"
   },
   {
    "duration": 7,
    "start_time": "2025-04-03T21:26:31.778Z"
   },
   {
    "duration": 6,
    "start_time": "2025-04-03T21:26:31.786Z"
   },
   {
    "duration": 39,
    "start_time": "2025-04-03T21:26:31.793Z"
   },
   {
    "duration": 7,
    "start_time": "2025-04-03T21:26:31.833Z"
   },
   {
    "duration": 4,
    "start_time": "2025-04-03T21:26:31.844Z"
   },
   {
    "duration": 10,
    "start_time": "2025-04-03T21:26:31.849Z"
   },
   {
    "duration": 5,
    "start_time": "2025-04-03T21:26:31.861Z"
   },
   {
    "duration": 4,
    "start_time": "2025-04-03T21:26:31.867Z"
   },
   {
    "duration": 43,
    "start_time": "2025-04-03T21:26:31.873Z"
   },
   {
    "duration": 5,
    "start_time": "2025-04-03T21:26:31.918Z"
   },
   {
    "duration": 5,
    "start_time": "2025-04-03T21:26:31.924Z"
   },
   {
    "duration": 3,
    "start_time": "2025-04-03T21:26:31.931Z"
   },
   {
    "duration": 9,
    "start_time": "2025-04-03T21:26:31.937Z"
   },
   {
    "duration": 4,
    "start_time": "2025-04-03T21:26:31.948Z"
   },
   {
    "duration": 4,
    "start_time": "2025-04-03T21:26:31.953Z"
   },
   {
    "duration": 10,
    "start_time": "2025-04-03T21:26:31.958Z"
   },
   {
    "duration": 12,
    "start_time": "2025-04-03T21:26:32.011Z"
   },
   {
    "duration": 3,
    "start_time": "2025-04-03T21:26:32.024Z"
   },
   {
    "duration": 7,
    "start_time": "2025-04-03T21:26:32.028Z"
   },
   {
    "duration": 11,
    "start_time": "2025-04-03T21:26:32.036Z"
   },
   {
    "duration": 11,
    "start_time": "2025-04-03T21:26:32.048Z"
   },
   {
    "duration": 3,
    "start_time": "2025-04-03T21:26:32.061Z"
   },
   {
    "duration": 4,
    "start_time": "2025-04-03T21:26:32.068Z"
   },
   {
    "duration": 46,
    "start_time": "2025-04-03T21:26:32.074Z"
   },
   {
    "duration": 7,
    "start_time": "2025-04-03T21:26:32.121Z"
   },
   {
    "duration": 4,
    "start_time": "2025-04-03T21:26:32.130Z"
   },
   {
    "duration": 3,
    "start_time": "2025-04-03T21:26:32.136Z"
   },
   {
    "duration": 196,
    "start_time": "2025-04-03T21:26:32.140Z"
   },
   {
    "duration": 233,
    "start_time": "2025-04-03T21:26:32.338Z"
   },
   {
    "duration": 375,
    "start_time": "2025-04-03T21:26:32.573Z"
   },
   {
    "duration": 5,
    "start_time": "2025-04-03T21:26:32.950Z"
   },
   {
    "duration": 16,
    "start_time": "2025-04-03T21:26:32.956Z"
   },
   {
    "duration": 191,
    "start_time": "2025-04-03T21:26:32.974Z"
   },
   {
    "duration": 5,
    "start_time": "2025-04-03T21:26:33.167Z"
   },
   {
    "duration": 300,
    "start_time": "2025-04-03T21:26:33.173Z"
   },
   {
    "duration": 180,
    "start_time": "2025-04-03T21:26:33.475Z"
   },
   {
    "duration": 174,
    "start_time": "2025-04-03T21:26:33.658Z"
   },
   {
    "duration": 0,
    "start_time": "2025-04-03T21:27:53.250Z"
   },
   {
    "duration": 0,
    "start_time": "2025-04-03T21:27:53.252Z"
   },
   {
    "duration": 0,
    "start_time": "2025-04-03T21:27:53.253Z"
   },
   {
    "duration": 0,
    "start_time": "2025-04-03T21:27:53.255Z"
   },
   {
    "duration": 0,
    "start_time": "2025-04-03T21:27:53.256Z"
   },
   {
    "duration": 0,
    "start_time": "2025-04-03T21:27:53.258Z"
   },
   {
    "duration": 0,
    "start_time": "2025-04-03T21:27:53.259Z"
   },
   {
    "duration": 3,
    "start_time": "2025-04-03T21:27:57.636Z"
   },
   {
    "duration": 30,
    "start_time": "2025-04-03T21:27:57.641Z"
   },
   {
    "duration": 10,
    "start_time": "2025-04-03T21:27:57.673Z"
   },
   {
    "duration": 3,
    "start_time": "2025-04-03T21:27:57.684Z"
   },
   {
    "duration": 9,
    "start_time": "2025-04-03T21:27:57.689Z"
   },
   {
    "duration": 11,
    "start_time": "2025-04-03T21:27:57.701Z"
   },
   {
    "duration": 6,
    "start_time": "2025-04-03T21:27:57.713Z"
   },
   {
    "duration": 21,
    "start_time": "2025-04-03T21:27:57.721Z"
   },
   {
    "duration": 7,
    "start_time": "2025-04-03T21:27:57.744Z"
   },
   {
    "duration": 5,
    "start_time": "2025-04-03T21:27:57.752Z"
   },
   {
    "duration": 10,
    "start_time": "2025-04-03T21:27:57.758Z"
   },
   {
    "duration": 6,
    "start_time": "2025-04-03T21:27:57.770Z"
   },
   {
    "duration": 38,
    "start_time": "2025-04-03T21:27:57.777Z"
   },
   {
    "duration": 7,
    "start_time": "2025-04-03T21:27:57.820Z"
   },
   {
    "duration": 5,
    "start_time": "2025-04-03T21:27:57.829Z"
   },
   {
    "duration": 4,
    "start_time": "2025-04-03T21:27:57.835Z"
   },
   {
    "duration": 4,
    "start_time": "2025-04-03T21:27:57.840Z"
   },
   {
    "duration": 10,
    "start_time": "2025-04-03T21:27:57.845Z"
   },
   {
    "duration": 4,
    "start_time": "2025-04-03T21:27:57.856Z"
   },
   {
    "duration": 4,
    "start_time": "2025-04-03T21:27:57.862Z"
   },
   {
    "duration": 50,
    "start_time": "2025-04-03T21:27:57.868Z"
   },
   {
    "duration": 11,
    "start_time": "2025-04-03T21:27:57.919Z"
   },
   {
    "duration": 3,
    "start_time": "2025-04-03T21:27:57.931Z"
   },
   {
    "duration": 3,
    "start_time": "2025-04-03T21:27:57.936Z"
   },
   {
    "duration": 11,
    "start_time": "2025-04-03T21:27:57.941Z"
   },
   {
    "duration": 11,
    "start_time": "2025-04-03T21:27:57.954Z"
   },
   {
    "duration": 4,
    "start_time": "2025-04-03T21:27:57.966Z"
   },
   {
    "duration": 43,
    "start_time": "2025-04-03T21:27:57.972Z"
   },
   {
    "duration": 12,
    "start_time": "2025-04-03T21:27:58.017Z"
   },
   {
    "duration": 9,
    "start_time": "2025-04-03T21:27:58.031Z"
   },
   {
    "duration": 5,
    "start_time": "2025-04-03T21:27:58.042Z"
   },
   {
    "duration": 4,
    "start_time": "2025-04-03T21:27:58.048Z"
   },
   {
    "duration": 191,
    "start_time": "2025-04-03T21:27:58.054Z"
   },
   {
    "duration": 225,
    "start_time": "2025-04-03T21:27:58.247Z"
   },
   {
    "duration": 378,
    "start_time": "2025-04-03T21:27:58.478Z"
   },
   {
    "duration": 4,
    "start_time": "2025-04-03T21:27:58.858Z"
   },
   {
    "duration": 17,
    "start_time": "2025-04-03T21:27:58.864Z"
   },
   {
    "duration": 165,
    "start_time": "2025-04-03T21:27:58.882Z"
   },
   {
    "duration": 4,
    "start_time": "2025-04-03T21:27:59.049Z"
   },
   {
    "duration": 298,
    "start_time": "2025-04-03T21:27:59.054Z"
   },
   {
    "duration": 164,
    "start_time": "2025-04-03T21:27:59.357Z"
   },
   {
    "duration": 176,
    "start_time": "2025-04-03T21:27:59.523Z"
   },
   {
    "duration": 34,
    "start_time": "2025-04-03T21:27:59.703Z"
   },
   {
    "duration": 175,
    "start_time": "2025-04-03T21:27:59.739Z"
   },
   {
    "duration": 381,
    "start_time": "2025-04-03T21:27:59.916Z"
   },
   {
    "duration": 363,
    "start_time": "2025-04-03T21:28:00.298Z"
   },
   {
    "duration": 168,
    "start_time": "2025-04-03T21:28:00.662Z"
   },
   {
    "duration": 9,
    "start_time": "2025-04-03T21:28:00.832Z"
   },
   {
    "duration": 8,
    "start_time": "2025-04-03T21:28:00.842Z"
   },
   {
    "duration": 18,
    "start_time": "2025-04-03T21:28:29.061Z"
   },
   {
    "duration": 791,
    "start_time": "2025-04-03T21:29:21.756Z"
   },
   {
    "duration": 794,
    "start_time": "2025-04-03T21:31:11.430Z"
   },
   {
    "duration": 926,
    "start_time": "2025-04-03T21:31:19.650Z"
   },
   {
    "duration": 405,
    "start_time": "2025-04-03T21:32:46.102Z"
   },
   {
    "duration": 399,
    "start_time": "2025-04-03T21:32:54.594Z"
   },
   {
    "duration": 405,
    "start_time": "2025-04-03T21:33:39.776Z"
   },
   {
    "duration": 392,
    "start_time": "2025-04-03T21:33:52.644Z"
   },
   {
    "duration": 414,
    "start_time": "2025-04-03T21:34:04.963Z"
   },
   {
    "duration": 405,
    "start_time": "2025-04-03T21:34:12.403Z"
   },
   {
    "duration": 403,
    "start_time": "2025-04-03T21:34:22.596Z"
   },
   {
    "duration": 397,
    "start_time": "2025-04-03T21:34:32.961Z"
   },
   {
    "duration": 408,
    "start_time": "2025-04-03T21:35:18.069Z"
   },
   {
    "duration": 32,
    "start_time": "2025-04-03T21:35:52.788Z"
   },
   {
    "duration": 427,
    "start_time": "2025-04-03T21:36:11.713Z"
   },
   {
    "duration": 888,
    "start_time": "2025-04-03T21:52:09.194Z"
   },
   {
    "duration": 37,
    "start_time": "2025-04-03T21:52:10.084Z"
   },
   {
    "duration": 12,
    "start_time": "2025-04-03T21:52:10.122Z"
   },
   {
    "duration": 3,
    "start_time": "2025-04-03T21:52:10.137Z"
   },
   {
    "duration": 18,
    "start_time": "2025-04-03T21:52:10.143Z"
   },
   {
    "duration": 8,
    "start_time": "2025-04-03T21:52:10.163Z"
   },
   {
    "duration": 9,
    "start_time": "2025-04-03T21:52:10.204Z"
   },
   {
    "duration": 27,
    "start_time": "2025-04-03T21:52:10.215Z"
   },
   {
    "duration": 7,
    "start_time": "2025-04-03T21:52:10.244Z"
   },
   {
    "duration": 4,
    "start_time": "2025-04-03T21:52:10.253Z"
   },
   {
    "duration": 10,
    "start_time": "2025-04-03T21:52:10.259Z"
   },
   {
    "duration": 6,
    "start_time": "2025-04-03T21:52:10.306Z"
   },
   {
    "duration": 5,
    "start_time": "2025-04-03T21:52:10.314Z"
   },
   {
    "duration": 6,
    "start_time": "2025-04-03T21:52:10.323Z"
   },
   {
    "duration": 5,
    "start_time": "2025-04-03T21:52:10.331Z"
   },
   {
    "duration": 4,
    "start_time": "2025-04-03T21:52:10.338Z"
   },
   {
    "duration": 4,
    "start_time": "2025-04-03T21:52:10.344Z"
   },
   {
    "duration": 56,
    "start_time": "2025-04-03T21:52:10.349Z"
   },
   {
    "duration": 5,
    "start_time": "2025-04-03T21:52:10.407Z"
   },
   {
    "duration": 4,
    "start_time": "2025-04-03T21:52:10.413Z"
   },
   {
    "duration": 10,
    "start_time": "2025-04-03T21:52:10.419Z"
   },
   {
    "duration": 11,
    "start_time": "2025-04-03T21:52:10.430Z"
   },
   {
    "duration": 3,
    "start_time": "2025-04-03T21:52:10.443Z"
   },
   {
    "duration": 4,
    "start_time": "2025-04-03T21:52:10.448Z"
   },
   {
    "duration": 59,
    "start_time": "2025-04-03T21:52:10.454Z"
   },
   {
    "duration": 13,
    "start_time": "2025-04-03T21:52:10.515Z"
   },
   {
    "duration": 4,
    "start_time": "2025-04-03T21:52:10.529Z"
   },
   {
    "duration": 5,
    "start_time": "2025-04-03T21:52:10.534Z"
   },
   {
    "duration": 12,
    "start_time": "2025-04-03T21:52:10.540Z"
   },
   {
    "duration": 8,
    "start_time": "2025-04-03T21:52:10.554Z"
   },
   {
    "duration": 45,
    "start_time": "2025-04-03T21:52:10.563Z"
   },
   {
    "duration": 5,
    "start_time": "2025-04-03T21:52:10.609Z"
   },
   {
    "duration": 195,
    "start_time": "2025-04-03T21:52:10.615Z"
   },
   {
    "duration": 289,
    "start_time": "2025-04-03T21:52:10.811Z"
   },
   {
    "duration": 367,
    "start_time": "2025-04-03T21:52:11.106Z"
   },
   {
    "duration": 5,
    "start_time": "2025-04-03T21:52:11.475Z"
   },
   {
    "duration": 35,
    "start_time": "2025-04-03T21:52:11.481Z"
   },
   {
    "duration": 157,
    "start_time": "2025-04-03T21:52:11.518Z"
   },
   {
    "duration": 5,
    "start_time": "2025-04-03T21:52:11.677Z"
   },
   {
    "duration": 313,
    "start_time": "2025-04-03T21:52:11.683Z"
   },
   {
    "duration": 161,
    "start_time": "2025-04-03T21:52:12.008Z"
   },
   {
    "duration": 175,
    "start_time": "2025-04-03T21:52:12.170Z"
   },
   {
    "duration": 499,
    "start_time": "2025-04-03T21:52:12.347Z"
   },
   {
    "duration": 181,
    "start_time": "2025-04-03T21:52:12.848Z"
   },
   {
    "duration": 409,
    "start_time": "2025-04-03T21:52:13.031Z"
   },
   {
    "duration": 398,
    "start_time": "2025-04-03T21:52:13.443Z"
   },
   {
    "duration": 177,
    "start_time": "2025-04-03T21:52:13.844Z"
   },
   {
    "duration": 9,
    "start_time": "2025-04-03T21:52:14.023Z"
   },
   {
    "duration": 9,
    "start_time": "2025-04-03T21:52:14.034Z"
   },
   {
    "duration": 158,
    "start_time": "2025-04-04T00:22:32.833Z"
   },
   {
    "duration": 2552,
    "start_time": "2025-04-04T00:22:42.324Z"
   },
   {
    "duration": 51,
    "start_time": "2025-04-04T00:22:44.879Z"
   },
   {
    "duration": 13,
    "start_time": "2025-04-04T00:22:44.931Z"
   },
   {
    "duration": 3,
    "start_time": "2025-04-04T00:22:44.946Z"
   },
   {
    "duration": 11,
    "start_time": "2025-04-04T00:22:44.952Z"
   },
   {
    "duration": 7,
    "start_time": "2025-04-04T00:22:44.965Z"
   },
   {
    "duration": 7,
    "start_time": "2025-04-04T00:22:44.974Z"
   },
   {
    "duration": 60,
    "start_time": "2025-04-04T00:22:44.982Z"
   },
   {
    "duration": 10,
    "start_time": "2025-04-04T00:22:45.043Z"
   },
   {
    "duration": 5,
    "start_time": "2025-04-04T00:22:45.055Z"
   },
   {
    "duration": 10,
    "start_time": "2025-04-04T00:22:45.061Z"
   },
   {
    "duration": 5,
    "start_time": "2025-04-04T00:22:45.074Z"
   },
   {
    "duration": 5,
    "start_time": "2025-04-04T00:22:45.080Z"
   },
   {
    "duration": 37,
    "start_time": "2025-04-04T00:22:45.088Z"
   },
   {
    "duration": 6,
    "start_time": "2025-04-04T00:22:45.127Z"
   },
   {
    "duration": 5,
    "start_time": "2025-04-04T00:22:45.134Z"
   },
   {
    "duration": 4,
    "start_time": "2025-04-04T00:22:45.140Z"
   },
   {
    "duration": 11,
    "start_time": "2025-04-04T00:22:45.145Z"
   },
   {
    "duration": 4,
    "start_time": "2025-04-04T00:22:45.157Z"
   },
   {
    "duration": 4,
    "start_time": "2025-04-04T00:22:45.163Z"
   },
   {
    "duration": 10,
    "start_time": "2025-04-04T00:22:45.168Z"
   },
   {
    "duration": 57,
    "start_time": "2025-04-04T00:22:45.179Z"
   },
   {
    "duration": 3,
    "start_time": "2025-04-04T00:22:45.237Z"
   },
   {
    "duration": 4,
    "start_time": "2025-04-04T00:22:45.242Z"
   },
   {
    "duration": 10,
    "start_time": "2025-04-04T00:22:45.248Z"
   },
   {
    "duration": 11,
    "start_time": "2025-04-04T00:22:45.259Z"
   },
   {
    "duration": 3,
    "start_time": "2025-04-04T00:22:45.272Z"
   },
   {
    "duration": 5,
    "start_time": "2025-04-04T00:22:45.277Z"
   },
   {
    "duration": 49,
    "start_time": "2025-04-04T00:22:45.283Z"
   },
   {
    "duration": 8,
    "start_time": "2025-04-04T00:22:45.334Z"
   },
   {
    "duration": 5,
    "start_time": "2025-04-04T00:22:45.343Z"
   },
   {
    "duration": 3,
    "start_time": "2025-04-04T00:22:45.349Z"
   },
   {
    "duration": 197,
    "start_time": "2025-04-04T00:22:45.354Z"
   },
   {
    "duration": 284,
    "start_time": "2025-04-04T00:22:45.553Z"
   },
   {
    "duration": 406,
    "start_time": "2025-04-04T00:22:45.838Z"
   },
   {
    "duration": 4,
    "start_time": "2025-04-04T00:22:46.247Z"
   },
   {
    "duration": 16,
    "start_time": "2025-04-04T00:22:46.253Z"
   },
   {
    "duration": 144,
    "start_time": "2025-04-04T00:22:46.270Z"
   },
   {
    "duration": 9,
    "start_time": "2025-04-04T00:22:46.416Z"
   },
   {
    "duration": 300,
    "start_time": "2025-04-04T00:22:46.427Z"
   },
   {
    "duration": 166,
    "start_time": "2025-04-04T00:22:46.733Z"
   },
   {
    "duration": 171,
    "start_time": "2025-04-04T00:22:46.900Z"
   },
   {
    "duration": 503,
    "start_time": "2025-04-04T00:22:47.073Z"
   },
   {
    "duration": 172,
    "start_time": "2025-04-04T00:22:47.578Z"
   },
   {
    "duration": 410,
    "start_time": "2025-04-04T00:22:47.751Z"
   },
   {
    "duration": 405,
    "start_time": "2025-04-04T00:22:48.163Z"
   },
   {
    "duration": 171,
    "start_time": "2025-04-04T00:22:48.570Z"
   },
   {
    "duration": 9,
    "start_time": "2025-04-04T00:22:48.742Z"
   },
   {
    "duration": 7,
    "start_time": "2025-04-04T00:22:48.752Z"
   },
   {
    "duration": 3,
    "start_time": "2025-04-04T00:28:36.679Z"
   },
   {
    "duration": 5,
    "start_time": "2025-04-04T00:28:40.140Z"
   },
   {
    "duration": 11,
    "start_time": "2025-04-04T00:28:44.766Z"
   },
   {
    "duration": 3,
    "start_time": "2025-04-04T00:28:59.388Z"
   },
   {
    "duration": 33,
    "start_time": "2025-04-04T00:29:00.027Z"
   },
   {
    "duration": 11,
    "start_time": "2025-04-04T00:29:00.880Z"
   },
   {
    "duration": 3,
    "start_time": "2025-04-04T00:29:02.760Z"
   },
   {
    "duration": 10,
    "start_time": "2025-04-04T00:29:04.166Z"
   },
   {
    "duration": 8,
    "start_time": "2025-04-04T00:29:06.081Z"
   },
   {
    "duration": 6,
    "start_time": "2025-04-04T00:29:07.602Z"
   },
   {
    "duration": 22,
    "start_time": "2025-04-04T00:29:08.603Z"
   },
   {
    "duration": 11,
    "start_time": "2025-04-04T00:29:10.959Z"
   },
   {
    "duration": 9,
    "start_time": "2025-04-04T00:29:24.946Z"
   },
   {
    "duration": 11,
    "start_time": "2025-04-04T00:29:27.919Z"
   },
   {
    "duration": 6,
    "start_time": "2025-04-04T00:29:29.560Z"
   },
   {
    "duration": 6,
    "start_time": "2025-04-04T00:29:30.279Z"
   },
   {
    "duration": 8,
    "start_time": "2025-04-04T00:29:31.646Z"
   },
   {
    "duration": 6,
    "start_time": "2025-04-04T00:29:32.285Z"
   },
   {
    "duration": 5,
    "start_time": "2025-04-04T00:29:33.359Z"
   },
   {
    "duration": 4,
    "start_time": "2025-04-04T00:29:39.750Z"
   },
   {
    "duration": 11,
    "start_time": "2025-04-04T00:29:42.920Z"
   },
   {
    "duration": 4,
    "start_time": "2025-04-04T00:29:48.561Z"
   },
   {
    "duration": 5,
    "start_time": "2025-04-04T00:29:50.387Z"
   },
   {
    "duration": 11,
    "start_time": "2025-04-04T00:29:54.800Z"
   },
   {
    "duration": 3,
    "start_time": "2025-04-04T00:33:50.869Z"
   },
   {
    "duration": 5,
    "start_time": "2025-04-04T00:33:52.258Z"
   },
   {
    "duration": 11,
    "start_time": "2025-04-04T00:33:59.385Z"
   },
   {
    "duration": 14,
    "start_time": "2025-04-04T00:34:05.191Z"
   },
   {
    "duration": 4,
    "start_time": "2025-04-04T00:34:14.944Z"
   },
   {
    "duration": 5,
    "start_time": "2025-04-04T00:34:15.905Z"
   },
   {
    "duration": 5,
    "start_time": "2025-04-04T00:36:49.392Z"
   },
   {
    "duration": 16,
    "start_time": "2025-04-04T00:36:52.619Z"
   },
   {
    "duration": 100,
    "start_time": "2025-04-04T00:39:05.804Z"
   },
   {
    "duration": 17,
    "start_time": "2025-04-04T00:39:12.081Z"
   },
   {
    "duration": 4,
    "start_time": "2025-04-04T00:40:21.397Z"
   },
   {
    "duration": 15,
    "start_time": "2025-04-04T00:40:24.236Z"
   },
   {
    "duration": 247,
    "start_time": "2025-04-04T00:42:01.403Z"
   },
   {
    "duration": 2946,
    "start_time": "2025-04-04T01:49:28.424Z"
   },
   {
    "duration": 51,
    "start_time": "2025-04-04T01:49:31.373Z"
   },
   {
    "duration": 16,
    "start_time": "2025-04-04T01:49:31.426Z"
   },
   {
    "duration": 3,
    "start_time": "2025-04-04T01:49:31.446Z"
   },
   {
    "duration": 13,
    "start_time": "2025-04-04T01:49:31.451Z"
   },
   {
    "duration": 8,
    "start_time": "2025-04-04T01:49:31.466Z"
   },
   {
    "duration": 10,
    "start_time": "2025-04-04T01:49:31.477Z"
   },
   {
    "duration": 58,
    "start_time": "2025-04-04T01:49:31.490Z"
   },
   {
    "duration": 16,
    "start_time": "2025-04-04T01:49:31.550Z"
   },
   {
    "duration": 6,
    "start_time": "2025-04-04T01:49:31.569Z"
   },
   {
    "duration": 12,
    "start_time": "2025-04-04T01:49:31.577Z"
   },
   {
    "duration": 37,
    "start_time": "2025-04-04T01:49:31.591Z"
   },
   {
    "duration": 7,
    "start_time": "2025-04-04T01:49:31.630Z"
   },
   {
    "duration": 10,
    "start_time": "2025-04-04T01:49:31.639Z"
   },
   {
    "duration": 7,
    "start_time": "2025-04-04T01:49:31.651Z"
   },
   {
    "duration": 5,
    "start_time": "2025-04-04T01:49:31.660Z"
   },
   {
    "duration": 5,
    "start_time": "2025-04-04T01:49:31.667Z"
   },
   {
    "duration": 51,
    "start_time": "2025-04-04T01:49:31.674Z"
   },
   {
    "duration": 4,
    "start_time": "2025-04-04T01:49:31.727Z"
   },
   {
    "duration": 4,
    "start_time": "2025-04-04T01:49:31.733Z"
   },
   {
    "duration": 11,
    "start_time": "2025-04-04T01:49:31.739Z"
   },
   {
    "duration": 14,
    "start_time": "2025-04-04T01:49:31.753Z"
   },
   {
    "duration": 3,
    "start_time": "2025-04-04T01:49:31.771Z"
   },
   {
    "duration": 6,
    "start_time": "2025-04-04T01:49:31.776Z"
   },
   {
    "duration": 14,
    "start_time": "2025-04-04T01:49:31.825Z"
   },
   {
    "duration": 19,
    "start_time": "2025-04-04T01:49:31.842Z"
   },
   {
    "duration": 5,
    "start_time": "2025-04-04T01:49:31.863Z"
   },
   {
    "duration": 6,
    "start_time": "2025-04-04T01:49:31.875Z"
   },
   {
    "duration": 41,
    "start_time": "2025-04-04T01:49:31.883Z"
   },
   {
    "duration": 10,
    "start_time": "2025-04-04T01:49:31.927Z"
   },
   {
    "duration": 5,
    "start_time": "2025-04-04T01:49:31.939Z"
   },
   {
    "duration": 5,
    "start_time": "2025-04-04T01:49:31.947Z"
   },
   {
    "duration": 216,
    "start_time": "2025-04-04T01:49:31.954Z"
   },
   {
    "duration": 264,
    "start_time": "2025-04-04T01:49:32.173Z"
   },
   {
    "duration": 461,
    "start_time": "2025-04-04T01:49:32.440Z"
   },
   {
    "duration": 6,
    "start_time": "2025-04-04T01:49:32.904Z"
   },
   {
    "duration": 26,
    "start_time": "2025-04-04T01:49:32.911Z"
   },
   {
    "duration": 167,
    "start_time": "2025-04-04T01:49:32.940Z"
   },
   {
    "duration": 16,
    "start_time": "2025-04-04T01:49:33.109Z"
   },
   {
    "duration": 757,
    "start_time": "2025-04-04T01:49:33.128Z"
   },
   {
    "duration": 0,
    "start_time": "2025-04-04T01:49:33.888Z"
   },
   {
    "duration": 0,
    "start_time": "2025-04-04T01:49:33.889Z"
   },
   {
    "duration": 0,
    "start_time": "2025-04-04T01:49:33.891Z"
   },
   {
    "duration": 0,
    "start_time": "2025-04-04T01:49:33.893Z"
   },
   {
    "duration": 0,
    "start_time": "2025-04-04T01:49:33.894Z"
   },
   {
    "duration": 0,
    "start_time": "2025-04-04T01:49:33.896Z"
   },
   {
    "duration": 0,
    "start_time": "2025-04-04T01:49:33.898Z"
   },
   {
    "duration": 0,
    "start_time": "2025-04-04T01:49:33.899Z"
   },
   {
    "duration": 0,
    "start_time": "2025-04-04T01:49:33.900Z"
   },
   {
    "duration": 402,
    "start_time": "2025-04-04T01:51:45.413Z"
   },
   {
    "duration": 62,
    "start_time": "2025-04-04T01:52:01.066Z"
   },
   {
    "duration": 238,
    "start_time": "2025-04-04T01:52:49.617Z"
   },
   {
    "duration": 122,
    "start_time": "2025-04-04T01:53:40.251Z"
   },
   {
    "duration": 778,
    "start_time": "2025-04-04T01:53:52.915Z"
   },
   {
    "duration": 144,
    "start_time": "2025-04-04T01:54:06.761Z"
   },
   {
    "duration": 3,
    "start_time": "2025-04-04T01:54:48.960Z"
   },
   {
    "duration": 31,
    "start_time": "2025-04-04T01:54:48.967Z"
   },
   {
    "duration": 10,
    "start_time": "2025-04-04T01:54:49.000Z"
   },
   {
    "duration": 2,
    "start_time": "2025-04-04T01:54:49.012Z"
   },
   {
    "duration": 11,
    "start_time": "2025-04-04T01:54:49.017Z"
   },
   {
    "duration": 5,
    "start_time": "2025-04-04T01:54:49.047Z"
   },
   {
    "duration": 6,
    "start_time": "2025-04-04T01:54:49.054Z"
   },
   {
    "duration": 22,
    "start_time": "2025-04-04T01:54:49.109Z"
   },
   {
    "duration": 11,
    "start_time": "2025-04-04T01:54:49.134Z"
   },
   {
    "duration": 4,
    "start_time": "2025-04-04T01:54:49.147Z"
   },
   {
    "duration": 10,
    "start_time": "2025-04-04T01:54:49.153Z"
   },
   {
    "duration": 5,
    "start_time": "2025-04-04T01:54:49.166Z"
   },
   {
    "duration": 5,
    "start_time": "2025-04-04T01:54:49.172Z"
   },
   {
    "duration": 7,
    "start_time": "2025-04-04T01:54:49.178Z"
   },
   {
    "duration": 42,
    "start_time": "2025-04-04T01:54:49.186Z"
   },
   {
    "duration": 4,
    "start_time": "2025-04-04T01:54:49.230Z"
   },
   {
    "duration": 4,
    "start_time": "2025-04-04T01:54:49.236Z"
   },
   {
    "duration": 10,
    "start_time": "2025-04-04T01:54:49.242Z"
   },
   {
    "duration": 3,
    "start_time": "2025-04-04T01:54:49.254Z"
   },
   {
    "duration": 4,
    "start_time": "2025-04-04T01:54:49.259Z"
   },
   {
    "duration": 12,
    "start_time": "2025-04-04T01:54:49.264Z"
   },
   {
    "duration": 46,
    "start_time": "2025-04-04T01:54:49.279Z"
   },
   {
    "duration": 3,
    "start_time": "2025-04-04T01:54:49.326Z"
   },
   {
    "duration": 5,
    "start_time": "2025-04-04T01:54:49.331Z"
   },
   {
    "duration": 10,
    "start_time": "2025-04-04T01:54:49.337Z"
   },
   {
    "duration": 12,
    "start_time": "2025-04-04T01:54:49.348Z"
   },
   {
    "duration": 5,
    "start_time": "2025-04-04T01:54:49.362Z"
   },
   {
    "duration": 6,
    "start_time": "2025-04-04T01:54:49.368Z"
   },
   {
    "duration": 11,
    "start_time": "2025-04-04T01:54:49.375Z"
   },
   {
    "duration": 9,
    "start_time": "2025-04-04T01:54:49.424Z"
   },
   {
    "duration": 4,
    "start_time": "2025-04-04T01:54:49.435Z"
   },
   {
    "duration": 4,
    "start_time": "2025-04-04T01:54:49.441Z"
   },
   {
    "duration": 201,
    "start_time": "2025-04-04T01:54:49.449Z"
   },
   {
    "duration": 267,
    "start_time": "2025-04-04T01:54:49.651Z"
   },
   {
    "duration": 376,
    "start_time": "2025-04-04T01:54:49.920Z"
   },
   {
    "duration": 5,
    "start_time": "2025-04-04T01:54:50.298Z"
   },
   {
    "duration": 27,
    "start_time": "2025-04-04T01:54:50.306Z"
   },
   {
    "duration": 160,
    "start_time": "2025-04-04T01:54:50.335Z"
   },
   {
    "duration": 6,
    "start_time": "2025-04-04T01:54:50.497Z"
   },
   {
    "duration": 212,
    "start_time": "2025-04-04T01:54:50.504Z"
   },
   {
    "duration": 141,
    "start_time": "2025-04-04T01:54:50.719Z"
   },
   {
    "duration": 145,
    "start_time": "2025-04-04T01:54:50.862Z"
   },
   {
    "duration": 251,
    "start_time": "2025-04-04T01:54:51.008Z"
   },
   {
    "duration": 167,
    "start_time": "2025-04-04T01:54:51.260Z"
   },
   {
    "duration": 372,
    "start_time": "2025-04-04T01:54:51.429Z"
   },
   {
    "duration": 373,
    "start_time": "2025-04-04T01:54:51.803Z"
   },
   {
    "duration": 159,
    "start_time": "2025-04-04T01:54:52.177Z"
   },
   {
    "duration": 7,
    "start_time": "2025-04-04T01:54:52.337Z"
   },
   {
    "duration": 7,
    "start_time": "2025-04-04T01:54:52.346Z"
   },
   {
    "duration": 168,
    "start_time": "2025-04-04T01:55:11.285Z"
   },
   {
    "duration": 396,
    "start_time": "2025-04-04T01:55:20.865Z"
   },
   {
    "duration": 31,
    "start_time": "2025-04-04T01:55:30.376Z"
   },
   {
    "duration": 216,
    "start_time": "2025-04-04T01:55:35.413Z"
   },
   {
    "duration": 2595,
    "start_time": "2025-04-04T13:41:26.219Z"
   },
   {
    "duration": 45,
    "start_time": "2025-04-04T13:41:28.817Z"
   },
   {
    "duration": 11,
    "start_time": "2025-04-04T13:41:28.863Z"
   },
   {
    "duration": 2,
    "start_time": "2025-04-04T13:41:28.876Z"
   },
   {
    "duration": 9,
    "start_time": "2025-04-04T13:41:28.881Z"
   },
   {
    "duration": 19,
    "start_time": "2025-04-04T13:41:28.892Z"
   },
   {
    "duration": 10,
    "start_time": "2025-04-04T13:41:28.912Z"
   },
   {
    "duration": 21,
    "start_time": "2025-04-04T13:41:28.923Z"
   },
   {
    "duration": 10,
    "start_time": "2025-04-04T13:41:28.946Z"
   },
   {
    "duration": 4,
    "start_time": "2025-04-04T13:41:28.958Z"
   },
   {
    "duration": 10,
    "start_time": "2025-04-04T13:41:28.963Z"
   },
   {
    "duration": 35,
    "start_time": "2025-04-04T13:41:28.974Z"
   },
   {
    "duration": 5,
    "start_time": "2025-04-04T13:41:29.011Z"
   },
   {
    "duration": 10,
    "start_time": "2025-04-04T13:41:29.022Z"
   },
   {
    "duration": 7,
    "start_time": "2025-04-04T13:41:29.034Z"
   },
   {
    "duration": 4,
    "start_time": "2025-04-04T13:41:29.044Z"
   },
   {
    "duration": 4,
    "start_time": "2025-04-04T13:41:29.050Z"
   },
   {
    "duration": 9,
    "start_time": "2025-04-04T13:41:29.056Z"
   },
   {
    "duration": 3,
    "start_time": "2025-04-04T13:41:29.067Z"
   },
   {
    "duration": 39,
    "start_time": "2025-04-04T13:41:29.071Z"
   },
   {
    "duration": 10,
    "start_time": "2025-04-04T13:41:29.112Z"
   },
   {
    "duration": 12,
    "start_time": "2025-04-04T13:41:29.123Z"
   },
   {
    "duration": 2,
    "start_time": "2025-04-04T13:41:29.137Z"
   },
   {
    "duration": 5,
    "start_time": "2025-04-04T13:41:29.140Z"
   },
   {
    "duration": 10,
    "start_time": "2025-04-04T13:41:29.147Z"
   },
   {
    "duration": 11,
    "start_time": "2025-04-04T13:41:29.160Z"
   },
   {
    "duration": 37,
    "start_time": "2025-04-04T13:41:29.172Z"
   },
   {
    "duration": 4,
    "start_time": "2025-04-04T13:41:29.210Z"
   },
   {
    "duration": 10,
    "start_time": "2025-04-04T13:41:29.216Z"
   },
   {
    "duration": 7,
    "start_time": "2025-04-04T13:41:29.227Z"
   },
   {
    "duration": 5,
    "start_time": "2025-04-04T13:41:29.235Z"
   },
   {
    "duration": 3,
    "start_time": "2025-04-04T13:41:29.241Z"
   },
   {
    "duration": 218,
    "start_time": "2025-04-04T13:41:29.246Z"
   },
   {
    "duration": 244,
    "start_time": "2025-04-04T13:41:29.465Z"
   },
   {
    "duration": 380,
    "start_time": "2025-04-04T13:41:29.710Z"
   },
   {
    "duration": 6,
    "start_time": "2025-04-04T13:41:30.091Z"
   },
   {
    "duration": 16,
    "start_time": "2025-04-04T13:41:30.098Z"
   },
   {
    "duration": 203,
    "start_time": "2025-04-04T13:41:30.116Z"
   },
   {
    "duration": 5,
    "start_time": "2025-04-04T13:41:30.321Z"
   },
   {
    "duration": 207,
    "start_time": "2025-04-04T13:41:30.327Z"
   },
   {
    "duration": 141,
    "start_time": "2025-04-04T13:41:30.538Z"
   },
   {
    "duration": 137,
    "start_time": "2025-04-04T13:41:30.681Z"
   },
   {
    "duration": 239,
    "start_time": "2025-04-04T13:41:30.820Z"
   },
   {
    "duration": 161,
    "start_time": "2025-04-04T13:41:31.061Z"
   },
   {
    "duration": 368,
    "start_time": "2025-04-04T13:41:31.223Z"
   },
   {
    "duration": 453,
    "start_time": "2025-04-04T13:41:31.593Z"
   },
   {
    "duration": 162,
    "start_time": "2025-04-04T13:41:32.048Z"
   },
   {
    "duration": 7,
    "start_time": "2025-04-04T13:41:32.211Z"
   },
   {
    "duration": 7,
    "start_time": "2025-04-04T13:41:32.219Z"
   },
   {
    "duration": 8,
    "start_time": "2025-04-04T13:42:48.755Z"
   },
   {
    "duration": 2,
    "start_time": "2025-04-04T13:43:01.491Z"
   },
   {
    "duration": 31,
    "start_time": "2025-04-04T13:43:01.495Z"
   },
   {
    "duration": 10,
    "start_time": "2025-04-04T13:43:01.527Z"
   },
   {
    "duration": 2,
    "start_time": "2025-04-04T13:43:01.539Z"
   },
   {
    "duration": 10,
    "start_time": "2025-04-04T13:43:01.543Z"
   },
   {
    "duration": 5,
    "start_time": "2025-04-04T13:43:01.555Z"
   },
   {
    "duration": 5,
    "start_time": "2025-04-04T13:43:01.562Z"
   },
   {
    "duration": 46,
    "start_time": "2025-04-04T13:43:01.570Z"
   },
   {
    "duration": 8,
    "start_time": "2025-04-04T13:43:01.617Z"
   },
   {
    "duration": 4,
    "start_time": "2025-04-04T13:43:01.626Z"
   },
   {
    "duration": 11,
    "start_time": "2025-04-04T13:43:01.631Z"
   },
   {
    "duration": 6,
    "start_time": "2025-04-04T13:43:01.643Z"
   },
   {
    "duration": 4,
    "start_time": "2025-04-04T13:43:01.651Z"
   },
   {
    "duration": 6,
    "start_time": "2025-04-04T13:43:01.659Z"
   },
   {
    "duration": 46,
    "start_time": "2025-04-04T13:43:01.666Z"
   },
   {
    "duration": 5,
    "start_time": "2025-04-04T13:43:01.714Z"
   },
   {
    "duration": 4,
    "start_time": "2025-04-04T13:43:01.720Z"
   },
   {
    "duration": 9,
    "start_time": "2025-04-04T13:43:01.726Z"
   },
   {
    "duration": 3,
    "start_time": "2025-04-04T13:43:01.737Z"
   },
   {
    "duration": 5,
    "start_time": "2025-04-04T13:43:01.741Z"
   },
   {
    "duration": 10,
    "start_time": "2025-04-04T13:43:01.747Z"
   },
   {
    "duration": 52,
    "start_time": "2025-04-04T13:43:01.758Z"
   },
   {
    "duration": 3,
    "start_time": "2025-04-04T13:43:01.812Z"
   },
   {
    "duration": 4,
    "start_time": "2025-04-04T13:43:01.816Z"
   },
   {
    "duration": 9,
    "start_time": "2025-04-04T13:43:01.823Z"
   },
   {
    "duration": 11,
    "start_time": "2025-04-04T13:43:01.834Z"
   },
   {
    "duration": 4,
    "start_time": "2025-04-04T13:43:01.846Z"
   },
   {
    "duration": 4,
    "start_time": "2025-04-04T13:43:01.852Z"
   },
   {
    "duration": 9,
    "start_time": "2025-04-04T13:43:01.858Z"
   },
   {
    "duration": 44,
    "start_time": "2025-04-04T13:43:01.869Z"
   },
   {
    "duration": 4,
    "start_time": "2025-04-04T13:43:01.914Z"
   },
   {
    "duration": 3,
    "start_time": "2025-04-04T13:43:01.919Z"
   },
   {
    "duration": 175,
    "start_time": "2025-04-04T13:43:01.924Z"
   },
   {
    "duration": 226,
    "start_time": "2025-04-04T13:43:02.101Z"
   },
   {
    "duration": 366,
    "start_time": "2025-04-04T13:43:02.329Z"
   },
   {
    "duration": 4,
    "start_time": "2025-04-04T13:43:02.697Z"
   },
   {
    "duration": 16,
    "start_time": "2025-04-04T13:43:02.710Z"
   },
   {
    "duration": 167,
    "start_time": "2025-04-04T13:43:02.728Z"
   },
   {
    "duration": 4,
    "start_time": "2025-04-04T13:43:02.897Z"
   },
   {
    "duration": 207,
    "start_time": "2025-04-04T13:43:02.903Z"
   },
   {
    "duration": 199,
    "start_time": "2025-04-04T13:43:03.114Z"
   },
   {
    "duration": 137,
    "start_time": "2025-04-04T13:43:03.315Z"
   },
   {
    "duration": 241,
    "start_time": "2025-04-04T13:43:03.453Z"
   },
   {
    "duration": 173,
    "start_time": "2025-04-04T13:43:03.696Z"
   },
   {
    "duration": 371,
    "start_time": "2025-04-04T13:43:03.871Z"
   },
   {
    "duration": 368,
    "start_time": "2025-04-04T13:43:04.243Z"
   },
   {
    "duration": 155,
    "start_time": "2025-04-04T13:43:04.615Z"
   },
   {
    "duration": 6,
    "start_time": "2025-04-04T13:43:04.771Z"
   },
   {
    "duration": 6,
    "start_time": "2025-04-04T13:43:04.779Z"
   },
   {
    "duration": 2665,
    "start_time": "2025-04-04T22:16:47.427Z"
   },
   {
    "duration": 51,
    "start_time": "2025-04-04T22:16:50.094Z"
   },
   {
    "duration": 13,
    "start_time": "2025-04-04T22:16:50.146Z"
   },
   {
    "duration": 3,
    "start_time": "2025-04-04T22:16:50.160Z"
   },
   {
    "duration": 10,
    "start_time": "2025-04-04T22:16:50.165Z"
   },
   {
    "duration": 7,
    "start_time": "2025-04-04T22:16:50.177Z"
   },
   {
    "duration": 19,
    "start_time": "2025-04-04T22:16:50.186Z"
   },
   {
    "duration": 20,
    "start_time": "2025-04-04T22:16:50.207Z"
   },
   {
    "duration": 7,
    "start_time": "2025-04-04T22:16:50.229Z"
   },
   {
    "duration": 4,
    "start_time": "2025-04-04T22:16:50.238Z"
   },
   {
    "duration": 10,
    "start_time": "2025-04-04T22:16:50.244Z"
   },
   {
    "duration": 6,
    "start_time": "2025-04-04T22:16:50.255Z"
   },
   {
    "duration": 42,
    "start_time": "2025-04-04T22:16:50.263Z"
   },
   {
    "duration": 7,
    "start_time": "2025-04-04T22:16:50.310Z"
   },
   {
    "duration": 5,
    "start_time": "2025-04-04T22:16:50.319Z"
   },
   {
    "duration": 4,
    "start_time": "2025-04-04T22:16:50.325Z"
   },
   {
    "duration": 3,
    "start_time": "2025-04-04T22:16:50.330Z"
   },
   {
    "duration": 9,
    "start_time": "2025-04-04T22:16:50.335Z"
   },
   {
    "duration": 4,
    "start_time": "2025-04-04T22:16:50.345Z"
   },
   {
    "duration": 4,
    "start_time": "2025-04-04T22:16:50.351Z"
   },
   {
    "duration": 51,
    "start_time": "2025-04-04T22:16:50.357Z"
   },
   {
    "duration": 12,
    "start_time": "2025-04-04T22:16:50.410Z"
   },
   {
    "duration": 4,
    "start_time": "2025-04-04T22:16:50.425Z"
   },
   {
    "duration": 4,
    "start_time": "2025-04-04T22:16:50.430Z"
   },
   {
    "duration": 10,
    "start_time": "2025-04-04T22:16:50.436Z"
   },
   {
    "duration": 13,
    "start_time": "2025-04-04T22:16:50.447Z"
   },
   {
    "duration": 3,
    "start_time": "2025-04-04T22:16:50.462Z"
   },
   {
    "duration": 41,
    "start_time": "2025-04-04T22:16:50.467Z"
   },
   {
    "duration": 10,
    "start_time": "2025-04-04T22:16:50.511Z"
   },
   {
    "duration": 7,
    "start_time": "2025-04-04T22:16:50.522Z"
   },
   {
    "duration": 5,
    "start_time": "2025-04-04T22:16:50.531Z"
   },
   {
    "duration": 4,
    "start_time": "2025-04-04T22:16:50.538Z"
   },
   {
    "duration": 210,
    "start_time": "2025-04-04T22:16:50.543Z"
   },
   {
    "duration": 231,
    "start_time": "2025-04-04T22:16:50.754Z"
   },
   {
    "duration": 422,
    "start_time": "2025-04-04T22:16:50.987Z"
   },
   {
    "duration": 5,
    "start_time": "2025-04-04T22:16:51.411Z"
   },
   {
    "duration": 15,
    "start_time": "2025-04-04T22:16:51.418Z"
   },
   {
    "duration": 166,
    "start_time": "2025-04-04T22:16:51.435Z"
   },
   {
    "duration": 5,
    "start_time": "2025-04-04T22:16:51.605Z"
   },
   {
    "duration": 213,
    "start_time": "2025-04-04T22:16:51.611Z"
   },
   {
    "duration": 139,
    "start_time": "2025-04-04T22:16:51.829Z"
   },
   {
    "duration": 142,
    "start_time": "2025-04-04T22:16:51.970Z"
   },
   {
    "duration": 239,
    "start_time": "2025-04-04T22:16:52.113Z"
   },
   {
    "duration": 163,
    "start_time": "2025-04-04T22:16:52.354Z"
   },
   {
    "duration": 442,
    "start_time": "2025-04-04T22:16:52.519Z"
   },
   {
    "duration": 374,
    "start_time": "2025-04-04T22:16:52.963Z"
   },
   {
    "duration": 164,
    "start_time": "2025-04-04T22:16:53.339Z"
   },
   {
    "duration": 6,
    "start_time": "2025-04-04T22:16:53.505Z"
   },
   {
    "duration": 7,
    "start_time": "2025-04-04T22:16:53.513Z"
   },
   {
    "duration": 3,
    "start_time": "2025-04-04T22:22:12.388Z"
   },
   {
    "duration": 4,
    "start_time": "2025-04-04T22:22:13.468Z"
   },
   {
    "duration": 3,
    "start_time": "2025-04-04T22:22:21.877Z"
   },
   {
    "duration": 29,
    "start_time": "2025-04-04T22:22:21.882Z"
   },
   {
    "duration": 11,
    "start_time": "2025-04-04T22:22:21.913Z"
   },
   {
    "duration": 3,
    "start_time": "2025-04-04T22:22:21.925Z"
   },
   {
    "duration": 9,
    "start_time": "2025-04-04T22:22:21.931Z"
   },
   {
    "duration": 5,
    "start_time": "2025-04-04T22:22:21.942Z"
   },
   {
    "duration": 6,
    "start_time": "2025-04-04T22:22:21.949Z"
   },
   {
    "duration": 54,
    "start_time": "2025-04-04T22:22:21.956Z"
   },
   {
    "duration": 8,
    "start_time": "2025-04-04T22:22:22.012Z"
   },
   {
    "duration": 5,
    "start_time": "2025-04-04T22:22:22.021Z"
   },
   {
    "duration": 10,
    "start_time": "2025-04-04T22:22:22.027Z"
   },
   {
    "duration": 5,
    "start_time": "2025-04-04T22:22:22.038Z"
   },
   {
    "duration": 5,
    "start_time": "2025-04-04T22:22:22.044Z"
   },
   {
    "duration": 6,
    "start_time": "2025-04-04T22:22:22.053Z"
   },
   {
    "duration": 47,
    "start_time": "2025-04-04T22:22:22.061Z"
   },
   {
    "duration": 3,
    "start_time": "2025-04-04T22:22:22.110Z"
   },
   {
    "duration": 4,
    "start_time": "2025-04-04T22:22:22.115Z"
   },
   {
    "duration": 10,
    "start_time": "2025-04-04T22:22:22.120Z"
   },
   {
    "duration": 4,
    "start_time": "2025-04-04T22:22:22.132Z"
   },
   {
    "duration": 6,
    "start_time": "2025-04-04T22:22:22.137Z"
   },
   {
    "duration": 9,
    "start_time": "2025-04-04T22:22:22.144Z"
   },
   {
    "duration": 11,
    "start_time": "2025-04-04T22:22:22.155Z"
   },
   {
    "duration": 4,
    "start_time": "2025-04-04T22:22:22.205Z"
   },
   {
    "duration": 5,
    "start_time": "2025-04-04T22:22:22.211Z"
   },
   {
    "duration": 11,
    "start_time": "2025-04-04T22:22:22.218Z"
   },
   {
    "duration": 11,
    "start_time": "2025-04-04T22:22:22.230Z"
   },
   {
    "duration": 3,
    "start_time": "2025-04-04T22:22:22.243Z"
   },
   {
    "duration": 5,
    "start_time": "2025-04-04T22:22:22.247Z"
   },
   {
    "duration": 10,
    "start_time": "2025-04-04T22:22:22.254Z"
   },
   {
    "duration": 44,
    "start_time": "2025-04-04T22:22:22.265Z"
   },
   {
    "duration": 4,
    "start_time": "2025-04-04T22:22:22.311Z"
   },
   {
    "duration": 5,
    "start_time": "2025-04-04T22:22:22.317Z"
   },
   {
    "duration": 195,
    "start_time": "2025-04-04T22:22:22.323Z"
   },
   {
    "duration": 228,
    "start_time": "2025-04-04T22:22:22.520Z"
   },
   {
    "duration": 349,
    "start_time": "2025-04-04T22:22:22.750Z"
   },
   {
    "duration": 4,
    "start_time": "2025-04-04T22:22:23.105Z"
   },
   {
    "duration": 14,
    "start_time": "2025-04-04T22:22:23.111Z"
   },
   {
    "duration": 158,
    "start_time": "2025-04-04T22:22:23.127Z"
   },
   {
    "duration": 4,
    "start_time": "2025-04-04T22:22:23.287Z"
   },
   {
    "duration": 295,
    "start_time": "2025-04-04T22:22:23.293Z"
   },
   {
    "duration": 144,
    "start_time": "2025-04-04T22:22:23.594Z"
   },
   {
    "duration": 143,
    "start_time": "2025-04-04T22:22:23.739Z"
   },
   {
    "duration": 237,
    "start_time": "2025-04-04T22:22:23.884Z"
   },
   {
    "duration": 175,
    "start_time": "2025-04-04T22:22:24.122Z"
   },
   {
    "duration": 390,
    "start_time": "2025-04-04T22:22:24.305Z"
   },
   {
    "duration": 356,
    "start_time": "2025-04-04T22:22:24.698Z"
   },
   {
    "duration": 226,
    "start_time": "2025-04-04T22:22:25.056Z"
   },
   {
    "duration": 6,
    "start_time": "2025-04-04T22:22:25.283Z"
   },
   {
    "duration": 17,
    "start_time": "2025-04-04T22:22:25.291Z"
   },
   {
    "duration": 2617,
    "start_time": "2025-04-04T23:02:50.174Z"
   },
   {
    "duration": 45,
    "start_time": "2025-04-04T23:02:52.794Z"
   },
   {
    "duration": 12,
    "start_time": "2025-04-04T23:02:52.840Z"
   },
   {
    "duration": 3,
    "start_time": "2025-04-04T23:02:52.854Z"
   },
   {
    "duration": 11,
    "start_time": "2025-04-04T23:02:52.858Z"
   },
   {
    "duration": 6,
    "start_time": "2025-04-04T23:02:52.871Z"
   },
   {
    "duration": 25,
    "start_time": "2025-04-04T23:02:52.879Z"
   },
   {
    "duration": 21,
    "start_time": "2025-04-04T23:02:52.906Z"
   },
   {
    "duration": 7,
    "start_time": "2025-04-04T23:02:52.929Z"
   },
   {
    "duration": 5,
    "start_time": "2025-04-04T23:02:52.939Z"
   },
   {
    "duration": 11,
    "start_time": "2025-04-04T23:02:52.945Z"
   },
   {
    "duration": 5,
    "start_time": "2025-04-04T23:02:52.957Z"
   },
   {
    "duration": 5,
    "start_time": "2025-04-04T23:02:52.963Z"
   },
   {
    "duration": 7,
    "start_time": "2025-04-04T23:02:53.006Z"
   },
   {
    "duration": 5,
    "start_time": "2025-04-04T23:02:53.014Z"
   },
   {
    "duration": 4,
    "start_time": "2025-04-04T23:02:53.021Z"
   },
   {
    "duration": 3,
    "start_time": "2025-04-04T23:02:53.027Z"
   },
   {
    "duration": 10,
    "start_time": "2025-04-04T23:02:53.031Z"
   },
   {
    "duration": 3,
    "start_time": "2025-04-04T23:02:53.043Z"
   },
   {
    "duration": 4,
    "start_time": "2025-04-04T23:02:53.048Z"
   },
   {
    "duration": 50,
    "start_time": "2025-04-04T23:02:53.055Z"
   },
   {
    "duration": 11,
    "start_time": "2025-04-04T23:02:53.107Z"
   },
   {
    "duration": 2,
    "start_time": "2025-04-04T23:02:53.120Z"
   },
   {
    "duration": 4,
    "start_time": "2025-04-04T23:02:53.124Z"
   },
   {
    "duration": 10,
    "start_time": "2025-04-04T23:02:53.129Z"
   },
   {
    "duration": 10,
    "start_time": "2025-04-04T23:02:53.141Z"
   },
   {
    "duration": 3,
    "start_time": "2025-04-04T23:02:53.153Z"
   },
   {
    "duration": 4,
    "start_time": "2025-04-04T23:02:53.160Z"
   },
   {
    "duration": 48,
    "start_time": "2025-04-04T23:02:53.165Z"
   },
   {
    "duration": 7,
    "start_time": "2025-04-04T23:02:53.215Z"
   },
   {
    "duration": 5,
    "start_time": "2025-04-04T23:02:53.224Z"
   },
   {
    "duration": 4,
    "start_time": "2025-04-04T23:02:53.230Z"
   },
   {
    "duration": 212,
    "start_time": "2025-04-04T23:02:53.235Z"
   },
   {
    "duration": 243,
    "start_time": "2025-04-04T23:02:53.449Z"
   },
   {
    "duration": 452,
    "start_time": "2025-04-04T23:02:53.694Z"
   },
   {
    "duration": 5,
    "start_time": "2025-04-04T23:02:54.147Z"
   },
   {
    "duration": 20,
    "start_time": "2025-04-04T23:02:54.154Z"
   },
   {
    "duration": 160,
    "start_time": "2025-04-04T23:02:54.176Z"
   },
   {
    "duration": 5,
    "start_time": "2025-04-04T23:02:54.339Z"
   },
   {
    "duration": 234,
    "start_time": "2025-04-04T23:02:54.346Z"
   },
   {
    "duration": 151,
    "start_time": "2025-04-04T23:02:54.581Z"
   },
   {
    "duration": 140,
    "start_time": "2025-04-04T23:02:54.734Z"
   },
   {
    "duration": 245,
    "start_time": "2025-04-04T23:02:54.875Z"
   },
   {
    "duration": 164,
    "start_time": "2025-04-04T23:02:55.122Z"
   },
   {
    "duration": 398,
    "start_time": "2025-04-04T23:02:55.288Z"
   },
   {
    "duration": 457,
    "start_time": "2025-04-04T23:02:55.689Z"
   },
   {
    "duration": 159,
    "start_time": "2025-04-04T23:02:56.148Z"
   },
   {
    "duration": 7,
    "start_time": "2025-04-04T23:02:56.309Z"
   },
   {
    "duration": 6,
    "start_time": "2025-04-04T23:02:56.318Z"
   },
   {
    "duration": 3,
    "start_time": "2025-04-04T23:04:10.074Z"
   },
   {
    "duration": 30,
    "start_time": "2025-04-04T23:04:10.079Z"
   },
   {
    "duration": 10,
    "start_time": "2025-04-04T23:04:10.111Z"
   },
   {
    "duration": 2,
    "start_time": "2025-04-04T23:04:10.123Z"
   },
   {
    "duration": 11,
    "start_time": "2025-04-04T23:04:10.127Z"
   },
   {
    "duration": 7,
    "start_time": "2025-04-04T23:04:10.139Z"
   },
   {
    "duration": 7,
    "start_time": "2025-04-04T23:04:10.148Z"
   },
   {
    "duration": 65,
    "start_time": "2025-04-04T23:04:10.157Z"
   },
   {
    "duration": 7,
    "start_time": "2025-04-04T23:04:10.226Z"
   },
   {
    "duration": 4,
    "start_time": "2025-04-04T23:04:10.235Z"
   },
   {
    "duration": 10,
    "start_time": "2025-04-04T23:04:10.240Z"
   },
   {
    "duration": 5,
    "start_time": "2025-04-04T23:04:10.252Z"
   },
   {
    "duration": 5,
    "start_time": "2025-04-04T23:04:10.258Z"
   },
   {
    "duration": 44,
    "start_time": "2025-04-04T23:04:10.265Z"
   },
   {
    "duration": 5,
    "start_time": "2025-04-04T23:04:10.313Z"
   },
   {
    "duration": 4,
    "start_time": "2025-04-04T23:04:10.320Z"
   },
   {
    "duration": 3,
    "start_time": "2025-04-04T23:04:10.326Z"
   },
   {
    "duration": 11,
    "start_time": "2025-04-04T23:04:10.331Z"
   },
   {
    "duration": 3,
    "start_time": "2025-04-04T23:04:10.344Z"
   },
   {
    "duration": 5,
    "start_time": "2025-04-04T23:04:10.348Z"
   },
   {
    "duration": 10,
    "start_time": "2025-04-04T23:04:10.355Z"
   },
   {
    "duration": 11,
    "start_time": "2025-04-04T23:04:10.406Z"
   },
   {
    "duration": 3,
    "start_time": "2025-04-04T23:04:10.419Z"
   },
   {
    "duration": 4,
    "start_time": "2025-04-04T23:04:10.427Z"
   },
   {
    "duration": 10,
    "start_time": "2025-04-04T23:04:10.432Z"
   },
   {
    "duration": 10,
    "start_time": "2025-04-04T23:04:10.444Z"
   },
   {
    "duration": 3,
    "start_time": "2025-04-04T23:04:10.456Z"
   },
   {
    "duration": 4,
    "start_time": "2025-04-04T23:04:10.462Z"
   },
   {
    "duration": 47,
    "start_time": "2025-04-04T23:04:10.467Z"
   },
   {
    "duration": 7,
    "start_time": "2025-04-04T23:04:10.516Z"
   },
   {
    "duration": 4,
    "start_time": "2025-04-04T23:04:10.525Z"
   },
   {
    "duration": 4,
    "start_time": "2025-04-04T23:04:10.531Z"
   },
   {
    "duration": 195,
    "start_time": "2025-04-04T23:04:10.536Z"
   },
   {
    "duration": 224,
    "start_time": "2025-04-04T23:04:10.733Z"
   },
   {
    "duration": 367,
    "start_time": "2025-04-04T23:04:10.959Z"
   },
   {
    "duration": 5,
    "start_time": "2025-04-04T23:04:11.328Z"
   },
   {
    "duration": 16,
    "start_time": "2025-04-04T23:04:11.335Z"
   },
   {
    "duration": 167,
    "start_time": "2025-04-04T23:04:11.353Z"
   },
   {
    "duration": 5,
    "start_time": "2025-04-04T23:04:11.522Z"
   },
   {
    "duration": 277,
    "start_time": "2025-04-04T23:04:11.529Z"
   },
   {
    "duration": 132,
    "start_time": "2025-04-04T23:04:11.808Z"
   },
   {
    "duration": 134,
    "start_time": "2025-04-04T23:04:11.943Z"
   },
   {
    "duration": 241,
    "start_time": "2025-04-04T23:04:12.079Z"
   },
   {
    "duration": 169,
    "start_time": "2025-04-04T23:04:12.322Z"
   },
   {
    "duration": 362,
    "start_time": "2025-04-04T23:04:12.493Z"
   },
   {
    "duration": 390,
    "start_time": "2025-04-04T23:04:12.857Z"
   },
   {
    "duration": 164,
    "start_time": "2025-04-04T23:04:13.249Z"
   },
   {
    "duration": 7,
    "start_time": "2025-04-04T23:04:13.417Z"
   },
   {
    "duration": 7,
    "start_time": "2025-04-04T23:04:13.426Z"
   },
   {
    "duration": 338,
    "start_time": "2025-04-04T23:08:04.183Z"
   },
   {
    "duration": 156,
    "start_time": "2025-04-04T23:11:20.542Z"
   },
   {
    "duration": 162,
    "start_time": "2025-04-04T23:11:34.677Z"
   },
   {
    "duration": 157,
    "start_time": "2025-04-04T23:11:49.589Z"
   },
   {
    "duration": 224,
    "start_time": "2025-04-04T23:13:50.539Z"
   },
   {
    "duration": 177,
    "start_time": "2025-04-04T23:14:24.447Z"
   },
   {
    "duration": 3499,
    "start_time": "2025-04-05T10:24:34.444Z"
   },
   {
    "duration": 95,
    "start_time": "2025-04-05T10:24:37.945Z"
   },
   {
    "duration": 66,
    "start_time": "2025-04-05T10:24:38.042Z"
   },
   {
    "duration": 4,
    "start_time": "2025-04-05T10:24:38.110Z"
   },
   {
    "duration": 75,
    "start_time": "2025-04-05T10:24:38.118Z"
   },
   {
    "duration": 9,
    "start_time": "2025-04-05T10:24:38.195Z"
   },
   {
    "duration": 10,
    "start_time": "2025-04-05T10:24:38.206Z"
   },
   {
    "duration": 97,
    "start_time": "2025-04-05T10:24:38.218Z"
   },
   {
    "duration": 69,
    "start_time": "2025-04-05T10:24:38.318Z"
   },
   {
    "duration": 7,
    "start_time": "2025-04-05T10:24:38.389Z"
   },
   {
    "duration": 14,
    "start_time": "2025-04-05T10:24:38.400Z"
   },
   {
    "duration": 8,
    "start_time": "2025-04-05T10:24:38.416Z"
   },
   {
    "duration": 7,
    "start_time": "2025-04-05T10:24:38.486Z"
   },
   {
    "duration": 7,
    "start_time": "2025-04-05T10:24:38.498Z"
   },
   {
    "duration": 7,
    "start_time": "2025-04-05T10:24:38.508Z"
   },
   {
    "duration": 5,
    "start_time": "2025-04-05T10:24:38.517Z"
   },
   {
    "duration": 5,
    "start_time": "2025-04-05T10:24:38.588Z"
   },
   {
    "duration": 14,
    "start_time": "2025-04-05T10:24:38.595Z"
   },
   {
    "duration": 6,
    "start_time": "2025-04-05T10:24:38.611Z"
   },
   {
    "duration": 4,
    "start_time": "2025-04-05T10:24:38.619Z"
   },
   {
    "duration": 15,
    "start_time": "2025-04-05T10:24:38.688Z"
   },
   {
    "duration": 13,
    "start_time": "2025-04-05T10:24:38.705Z"
   },
   {
    "duration": 3,
    "start_time": "2025-04-05T10:24:38.720Z"
   },
   {
    "duration": 5,
    "start_time": "2025-04-05T10:24:38.788Z"
   },
   {
    "duration": 11,
    "start_time": "2025-04-05T10:24:38.795Z"
   },
   {
    "duration": 13,
    "start_time": "2025-04-05T10:24:38.808Z"
   },
   {
    "duration": 64,
    "start_time": "2025-04-05T10:24:38.823Z"
   },
   {
    "duration": 5,
    "start_time": "2025-04-05T10:24:38.890Z"
   },
   {
    "duration": 10,
    "start_time": "2025-04-05T10:24:38.897Z"
   },
   {
    "duration": 8,
    "start_time": "2025-04-05T10:24:38.909Z"
   },
   {
    "duration": 70,
    "start_time": "2025-04-05T10:24:38.919Z"
   },
   {
    "duration": 6,
    "start_time": "2025-04-05T10:24:38.991Z"
   },
   {
    "duration": 289,
    "start_time": "2025-04-05T10:24:38.999Z"
   },
   {
    "duration": 233,
    "start_time": "2025-04-05T10:24:39.290Z"
   },
   {
    "duration": 377,
    "start_time": "2025-04-05T10:24:39.526Z"
   },
   {
    "duration": 5,
    "start_time": "2025-04-05T10:24:39.905Z"
   },
   {
    "duration": 17,
    "start_time": "2025-04-05T10:24:39.912Z"
   },
   {
    "duration": 224,
    "start_time": "2025-04-05T10:24:39.931Z"
   },
   {
    "duration": 4,
    "start_time": "2025-04-05T10:24:40.157Z"
   },
   {
    "duration": 249,
    "start_time": "2025-04-05T10:24:40.163Z"
   },
   {
    "duration": 148,
    "start_time": "2025-04-05T10:24:40.416Z"
   },
   {
    "duration": 156,
    "start_time": "2025-04-05T10:24:40.566Z"
   },
   {
    "duration": 310,
    "start_time": "2025-04-05T10:24:40.724Z"
   },
   {
    "duration": 185,
    "start_time": "2025-04-05T10:24:41.035Z"
   },
   {
    "duration": 424,
    "start_time": "2025-04-05T10:24:41.223Z"
   },
   {
    "duration": 469,
    "start_time": "2025-04-05T10:24:41.649Z"
   },
   {
    "duration": 172,
    "start_time": "2025-04-05T10:24:42.120Z"
   },
   {
    "duration": 7,
    "start_time": "2025-04-05T10:24:42.294Z"
   },
   {
    "duration": 6,
    "start_time": "2025-04-05T10:24:42.303Z"
   }
  ],
  "kernelspec": {
   "display_name": "Python 3 (ipykernel)",
   "language": "python",
   "name": "python3"
  },
  "language_info": {
   "codemirror_mode": {
    "name": "ipython",
    "version": 3
   },
   "file_extension": ".py",
   "mimetype": "text/x-python",
   "name": "python",
   "nbconvert_exporter": "python",
   "pygments_lexer": "ipython3",
   "version": "3.9.19"
  },
  "toc": {
   "base_numbering": 1,
   "nav_menu": {},
   "number_sections": true,
   "sideBar": true,
   "skip_h1_title": true,
   "title_cell": "Table of Contents",
   "title_sidebar": "Contents",
   "toc_cell": false,
   "toc_position": {},
   "toc_section_display": true,
   "toc_window_display": false
  }
 },
 "nbformat": 4,
 "nbformat_minor": 2
}
