{
 "cells": [
  {
   "cell_type": "markdown",
   "id": "a1262df4",
   "metadata": {},
   "source": [
    "## Introduction <a id='intro'></a>\n",
    "In this project, you will work with data from the entertainment industry. You will study a dataset with records on movies and shows. The research will focus on the \"Golden Age\" of television, which began in 1999 with the release of *The Sopranos* and is still ongoing.\n",
    "\n",
    "The aim of this project is to investigate how the number of votes a title receives impacts its ratings. The assumption is that highly-rated shows (we will focus on TV shows, ignoring movies) released during the \"Golden Age\" of television also have the most votes.\n",
    "\n",
    "### Stages \n",
    "Data on movies and shows is stored in the `/datasets/movies_and_shows.csv` file. There is no information about the quality of the data, so you will need to explore it before doing the analysis.\n",
    "\n",
    "First, you'll evaluate the quality of the data and see whether its issues are significant. Then, during data preprocessing, you will try to account for the most critical problems.\n",
    " \n",
    "Your project will consist of three stages:\n",
    " 1. Data overview\n",
    " 2. Data preprocessing\n",
    " 3. Data analysis"
   ]
  },
  {
   "cell_type": "markdown",
   "id": "ac0593ac",
   "metadata": {},
   "source": [
    "## Stage 1. Data overview <a id='data_review'></a>\n",
    "\n",
    "Open and explore the data."
   ]
  },
  {
   "cell_type": "markdown",
   "id": "e86ed00e",
   "metadata": {},
   "source": [
    "You'll need `pandas`, so import it."
   ]
  },
  {
   "cell_type": "code",
   "execution_count": 1,
   "id": "1727d3f8",
   "metadata": {
    "trusted": false
   },
   "outputs": [],
   "source": [
    "# importing pandas\n",
    "import pandas as pd \n"
   ]
  },
  {
   "cell_type": "markdown",
   "id": "9821beeb",
   "metadata": {},
   "source": [
    "Read the `movies_and_shows.csv` file from the `datasets` folder and save it in the `df` variable:"
   ]
  },
  {
   "cell_type": "code",
   "execution_count": 2,
   "id": "fc5a1402",
   "metadata": {
    "trusted": false
   },
   "outputs": [],
   "source": [
    "# reading the files and storing them to df\n",
    "df = pd.read_csv('/datasets/movies_and_shows.csv')"
   ]
  },
  {
   "cell_type": "markdown",
   "id": "1cd0a96d",
   "metadata": {},
   "source": [
    "Print the first 10 table rows:"
   ]
  },
  {
   "cell_type": "code",
   "execution_count": 3,
   "id": "acd92001",
   "metadata": {
    "trusted": false
   },
   "outputs": [
    {
     "data": {
      "text/html": [
       "<div>\n",
       "<style scoped>\n",
       "    .dataframe tbody tr th:only-of-type {\n",
       "        vertical-align: middle;\n",
       "    }\n",
       "\n",
       "    .dataframe tbody tr th {\n",
       "        vertical-align: top;\n",
       "    }\n",
       "\n",
       "    .dataframe thead th {\n",
       "        text-align: right;\n",
       "    }\n",
       "</style>\n",
       "<table border=\"1\" class=\"dataframe\">\n",
       "  <thead>\n",
       "    <tr style=\"text-align: right;\">\n",
       "      <th></th>\n",
       "      <th>name</th>\n",
       "      <th>Character</th>\n",
       "      <th>r0le</th>\n",
       "      <th>TITLE</th>\n",
       "      <th>Type</th>\n",
       "      <th>release Year</th>\n",
       "      <th>genres</th>\n",
       "      <th>imdb sc0re</th>\n",
       "      <th>imdb v0tes</th>\n",
       "    </tr>\n",
       "  </thead>\n",
       "  <tbody>\n",
       "    <tr>\n",
       "      <th>0</th>\n",
       "      <td>Robert De Niro</td>\n",
       "      <td>Travis Bickle</td>\n",
       "      <td>ACTOR</td>\n",
       "      <td>Taxi Driver</td>\n",
       "      <td>MOVIE</td>\n",
       "      <td>1976</td>\n",
       "      <td>['drama', 'crime']</td>\n",
       "      <td>8.2</td>\n",
       "      <td>808582.0</td>\n",
       "    </tr>\n",
       "    <tr>\n",
       "      <th>1</th>\n",
       "      <td>Jodie Foster</td>\n",
       "      <td>Iris Steensma</td>\n",
       "      <td>ACTOR</td>\n",
       "      <td>Taxi Driver</td>\n",
       "      <td>MOVIE</td>\n",
       "      <td>1976</td>\n",
       "      <td>['drama', 'crime']</td>\n",
       "      <td>8.2</td>\n",
       "      <td>808582.0</td>\n",
       "    </tr>\n",
       "    <tr>\n",
       "      <th>2</th>\n",
       "      <td>Albert Brooks</td>\n",
       "      <td>Tom</td>\n",
       "      <td>ACTOR</td>\n",
       "      <td>Taxi Driver</td>\n",
       "      <td>MOVIE</td>\n",
       "      <td>1976</td>\n",
       "      <td>['drama', 'crime']</td>\n",
       "      <td>8.2</td>\n",
       "      <td>808582.0</td>\n",
       "    </tr>\n",
       "    <tr>\n",
       "      <th>3</th>\n",
       "      <td>Harvey Keitel</td>\n",
       "      <td>Matthew 'Sport' Higgins</td>\n",
       "      <td>ACTOR</td>\n",
       "      <td>Taxi Driver</td>\n",
       "      <td>MOVIE</td>\n",
       "      <td>1976</td>\n",
       "      <td>['drama', 'crime']</td>\n",
       "      <td>8.2</td>\n",
       "      <td>808582.0</td>\n",
       "    </tr>\n",
       "    <tr>\n",
       "      <th>4</th>\n",
       "      <td>Cybill Shepherd</td>\n",
       "      <td>Betsy</td>\n",
       "      <td>ACTOR</td>\n",
       "      <td>Taxi Driver</td>\n",
       "      <td>MOVIE</td>\n",
       "      <td>1976</td>\n",
       "      <td>['drama', 'crime']</td>\n",
       "      <td>8.2</td>\n",
       "      <td>808582.0</td>\n",
       "    </tr>\n",
       "    <tr>\n",
       "      <th>5</th>\n",
       "      <td>Peter Boyle</td>\n",
       "      <td>Wizard</td>\n",
       "      <td>ACTOR</td>\n",
       "      <td>Taxi Driver</td>\n",
       "      <td>MOVIE</td>\n",
       "      <td>1976</td>\n",
       "      <td>['drama', 'crime']</td>\n",
       "      <td>8.2</td>\n",
       "      <td>808582.0</td>\n",
       "    </tr>\n",
       "    <tr>\n",
       "      <th>6</th>\n",
       "      <td>Leonard Harris</td>\n",
       "      <td>Senator Charles Palantine</td>\n",
       "      <td>ACTOR</td>\n",
       "      <td>Taxi Driver</td>\n",
       "      <td>MOVIE</td>\n",
       "      <td>1976</td>\n",
       "      <td>['drama', 'crime']</td>\n",
       "      <td>8.2</td>\n",
       "      <td>808582.0</td>\n",
       "    </tr>\n",
       "    <tr>\n",
       "      <th>7</th>\n",
       "      <td>Diahnne Abbott</td>\n",
       "      <td>Concession Girl</td>\n",
       "      <td>ACTOR</td>\n",
       "      <td>Taxi Driver</td>\n",
       "      <td>MOVIE</td>\n",
       "      <td>1976</td>\n",
       "      <td>['drama', 'crime']</td>\n",
       "      <td>8.2</td>\n",
       "      <td>808582.0</td>\n",
       "    </tr>\n",
       "    <tr>\n",
       "      <th>8</th>\n",
       "      <td>Gino Ardito</td>\n",
       "      <td>Policeman at Rally</td>\n",
       "      <td>ACTOR</td>\n",
       "      <td>Taxi Driver</td>\n",
       "      <td>MOVIE</td>\n",
       "      <td>1976</td>\n",
       "      <td>['drama', 'crime']</td>\n",
       "      <td>8.2</td>\n",
       "      <td>808582.0</td>\n",
       "    </tr>\n",
       "    <tr>\n",
       "      <th>9</th>\n",
       "      <td>Martin Scorsese</td>\n",
       "      <td>Passenger Watching Silhouette</td>\n",
       "      <td>ACTOR</td>\n",
       "      <td>Taxi Driver</td>\n",
       "      <td>MOVIE</td>\n",
       "      <td>1976</td>\n",
       "      <td>['drama', 'crime']</td>\n",
       "      <td>8.2</td>\n",
       "      <td>808582.0</td>\n",
       "    </tr>\n",
       "  </tbody>\n",
       "</table>\n",
       "</div>"
      ],
      "text/plain": [
       "              name                      Character   r0le        TITLE   Type  \\\n",
       "0   Robert De Niro                  Travis Bickle  ACTOR  Taxi Driver  MOVIE   \n",
       "1     Jodie Foster                  Iris Steensma  ACTOR  Taxi Driver  MOVIE   \n",
       "2    Albert Brooks                            Tom  ACTOR  Taxi Driver  MOVIE   \n",
       "3    Harvey Keitel        Matthew 'Sport' Higgins  ACTOR  Taxi Driver  MOVIE   \n",
       "4  Cybill Shepherd                          Betsy  ACTOR  Taxi Driver  MOVIE   \n",
       "5      Peter Boyle                         Wizard  ACTOR  Taxi Driver  MOVIE   \n",
       "6   Leonard Harris      Senator Charles Palantine  ACTOR  Taxi Driver  MOVIE   \n",
       "7   Diahnne Abbott                Concession Girl  ACTOR  Taxi Driver  MOVIE   \n",
       "8      Gino Ardito             Policeman at Rally  ACTOR  Taxi Driver  MOVIE   \n",
       "9  Martin Scorsese  Passenger Watching Silhouette  ACTOR  Taxi Driver  MOVIE   \n",
       "\n",
       "   release Year              genres  imdb sc0re  imdb v0tes  \n",
       "0          1976  ['drama', 'crime']         8.2    808582.0  \n",
       "1          1976  ['drama', 'crime']         8.2    808582.0  \n",
       "2          1976  ['drama', 'crime']         8.2    808582.0  \n",
       "3          1976  ['drama', 'crime']         8.2    808582.0  \n",
       "4          1976  ['drama', 'crime']         8.2    808582.0  \n",
       "5          1976  ['drama', 'crime']         8.2    808582.0  \n",
       "6          1976  ['drama', 'crime']         8.2    808582.0  \n",
       "7          1976  ['drama', 'crime']         8.2    808582.0  \n",
       "8          1976  ['drama', 'crime']         8.2    808582.0  \n",
       "9          1976  ['drama', 'crime']         8.2    808582.0  "
      ]
     },
     "execution_count": 3,
     "metadata": {},
     "output_type": "execute_result"
    }
   ],
   "source": [
    "# obtaining the first 10 rows from the df table\n",
    "# hint: you can use head() and tail() in Jupyter Notebook without wrapping them into print()\n",
    "\n",
    "df.head(10)"
   ]
  },
  {
   "cell_type": "markdown",
   "id": "e579aa91",
   "metadata": {},
   "source": [
    "Obtain the general information about the table with one command:"
   ]
  },
  {
   "cell_type": "code",
   "execution_count": 4,
   "id": "7bf66d2a",
   "metadata": {
    "trusted": false
   },
   "outputs": [
    {
     "name": "stdout",
     "output_type": "stream",
     "text": [
      "<class 'pandas.core.frame.DataFrame'>\n",
      "RangeIndex: 85579 entries, 0 to 85578\n",
      "Data columns (total 9 columns):\n",
      " #   Column        Non-Null Count  Dtype  \n",
      "---  ------        --------------  -----  \n",
      " 0      name       85579 non-null  object \n",
      " 1   Character     85579 non-null  object \n",
      " 2   r0le          85579 non-null  object \n",
      " 3   TITLE         85578 non-null  object \n",
      " 4     Type        85579 non-null  object \n",
      " 5   release Year  85579 non-null  int64  \n",
      " 6   genres        85579 non-null  object \n",
      " 7   imdb sc0re    80970 non-null  float64\n",
      " 8   imdb v0tes    80853 non-null  float64\n",
      "dtypes: float64(2), int64(1), object(6)\n",
      "memory usage: 5.9+ MB\n"
     ]
    }
   ],
   "source": [
    "# obtaining general information about the data in df\n",
    "df.info()"
   ]
  },
  {
   "cell_type": "markdown",
   "id": "e91f62a7",
   "metadata": {},
   "source": [
    "The table contains nine columns. The majority store the same data type: object. The only exceptions are `'release Year'` (int64 type), `'imdb sc0re'` (float64 type) and `'imdb v0tes'` (float64 type). Scores and votes will be used in our analysis, so it's important to verify that they are present in the dataframe in the appropriate numeric format. Three columns (`'TITLE'`, `'imdb sc0re'` and `'imdb v0tes'`) have missing values.\n",
    "\n",
    "According to the documentation:\n",
    "- `'name'` — actor/director's name and last name\n",
    "- `'Character'` — character played (for actors)\n",
    "- `'r0le '` — the person's contribution to the title (it can be in the capacity of either actor or director)\n",
    "- `'TITLE '` — title of the movie (show)\n",
    "- `'  Type'` — show or movie\n",
    "- `'release Year'` — year when movie (show) was released\n",
    "- `'genres'` — list of genres under which the movie (show) falls\n",
    "- `'imdb sc0re'` — score on IMDb\n",
    "- `'imdb v0tes'` — votes on IMDb\n",
    "\n",
    "We can see three issues with the column names:\n",
    "1. Some names are uppercase, while others are lowercase.\n",
    "2. There are names containing whitespace.\n",
    "3. A few column names have digit '0' instead of letter 'o'. \n"
   ]
  },
  {
   "cell_type": "markdown",
   "id": "4355de7b",
   "metadata": {},
   "source": [
    "### Conclusions <a id='data_review_conclusions'></a> \n",
    "\n",
    "Each row in the table stores data about a movie or show. The columns can be divided into two categories: the first is about the roles held by different people who worked on the movie or show (role, name of the actor or director, and character if the row is about an actor); the second category is information about the movie or show itself (title, release year, genre, imdb figures).\n",
    "\n",
    "It's clear that there is sufficient data to do the analysis and evaluate our assumption. However, to move forward, we need to preprocess the data."
   ]
  },
  {
   "cell_type": "markdown",
   "id": "c5dc9111",
   "metadata": {},
   "source": [
    "## Stage 2. Data preprocessing <a id='data_preprocessing'></a>\n",
    "Correct the formatting in the column headers and deal with the missing values. Then, check whether there are duplicates in the data."
   ]
  },
  {
   "cell_type": "code",
   "execution_count": 5,
   "id": "9c850d13",
   "metadata": {
    "trusted": false
   },
   "outputs": [
    {
     "name": "stdout",
     "output_type": "stream",
     "text": [
      "\n",
      "Missing values in the dataset:\n",
      "\n",
      "   name            0\n",
      "Character          0\n",
      "r0le               0\n",
      "TITLE              1\n",
      "  Type             0\n",
      "release Year       0\n",
      "genres             0\n",
      "imdb sc0re      4609\n",
      "imdb v0tes      4726\n",
      "dtype: int64\n",
      "\n",
      "Duplicates values in the dataset:\n",
      "\n",
      "0        False\n",
      "1        False\n",
      "2        False\n",
      "3        False\n",
      "4        False\n",
      "         ...  \n",
      "85574    False\n",
      "85575    False\n",
      "85576    False\n",
      "85577     True\n",
      "85578    False\n",
      "Length: 85579, dtype: bool\n"
     ]
    }
   ],
   "source": [
    "# the list of column names in the df table\n",
    "#duplicates = df.duplicated()\n",
    "print(\"\\nMissing values in the dataset:\\n\")\n",
    "print(df.isnull().sum())\n",
    "#df= df.loc[0:].fillna('No info')\n",
    "print(\"\\nDuplicates values in the dataset:\\n\")\n",
    "print(df.duplicated())\n"
   ]
  },
  {
   "cell_type": "markdown",
   "id": "5f966df9",
   "metadata": {},
   "source": [
    "Change the column names according to the rules of good style:\n",
    "* If the name has several words, use snake_case\n",
    "* All characters must be lowercase\n",
    "* Remove whitespace\n",
    "* Replace zero with letter 'o'"
   ]
  },
  {
   "cell_type": "code",
   "execution_count": 6,
   "id": "23a1dc11",
   "metadata": {
    "trusted": false
   },
   "outputs": [],
   "source": [
    "# renaming columns\n",
    "\n",
    "df = df.rename(\n",
    "    columns = {'Character':'character',\n",
    "               '   name':'name',\n",
    "               'r0le':'role',\n",
    "               'TITLE':'title',\n",
    "               '  Type':'type',\n",
    "               'release Year':'release_year',\n",
    "               'imdb sc0re':'imdb_score',\n",
    "               'imdb v0tes':'imdb_votes'    }\n",
    ")\n",
    "        "
   ]
  },
  {
   "cell_type": "markdown",
   "id": "464fbd04",
   "metadata": {},
   "source": [
    "Check the result. Print the names of the columns once more:"
   ]
  },
  {
   "cell_type": "code",
   "execution_count": 7,
   "id": "0eb6527f",
   "metadata": {
    "trusted": false
   },
   "outputs": [
    {
     "name": "stdout",
     "output_type": "stream",
     "text": [
      "\n",
      "Updated column names:\n",
      "Index(['name', 'character', 'role', 'title', 'type', 'release_year', 'genres',\n",
      "       'imdb_score', 'imdb_votes'],\n",
      "      dtype='object')\n"
     ]
    }
   ],
   "source": [
    "# checking result: the list of column names\n",
    "print(\"\\nUpdated column names:\")\n",
    "print(df.columns)"
   ]
  },
  {
   "cell_type": "markdown",
   "id": "14d9c319",
   "metadata": {},
   "source": [
    "### Missing values <a id='missing_values'></a>\n",
    "First, find the number of missing values in the table. To do so, combine two `pandas` methods:"
   ]
  },
  {
   "cell_type": "code",
   "execution_count": 8,
   "id": "21c427f2",
   "metadata": {
    "trusted": false
   },
   "outputs": [
    {
     "name": "stdout",
     "output_type": "stream",
     "text": [
      "\n",
      "Missing values before handling:\n",
      "\n",
      "name               0\n",
      "character          0\n",
      "role               0\n",
      "title              1\n",
      "type               0\n",
      "release_year       0\n",
      "genres             0\n",
      "imdb_score      4609\n",
      "imdb_votes      4726\n",
      "dtype: int64\n"
     ]
    }
   ],
   "source": [
    "# calculating missing values\n",
    "print(\"\\nMissing values before handling:\\n\")\n",
    "print(df.isna().sum())"
   ]
  },
  {
   "cell_type": "markdown",
   "id": "c8272df3",
   "metadata": {},
   "source": [
    "We identified missing values in several columns. While the missing value in `'title'` isn't critical, missing values in `'imdb_score'` and `'imdb_votes'` affect around 6% of the data, which could impact our analysis. To ensure data integrity, we'll drop all rows with missing values."
   ]
  },
  {
   "cell_type": "code",
   "execution_count": 9,
   "id": "599d5550",
   "metadata": {
    "trusted": false
   },
   "outputs": [],
   "source": [
    "# dropping rows where columns with scores, and votes have missing values\n",
    "df = df.dropna(axis='rows')"
   ]
  },
  {
   "cell_type": "markdown",
   "id": "2156887f",
   "metadata": {},
   "source": [
    "Make sure the table doesn't contain any more missing values. Count the missing values again."
   ]
  },
  {
   "cell_type": "code",
   "execution_count": 10,
   "id": "55c0b0ce",
   "metadata": {
    "trusted": false
   },
   "outputs": [
    {
     "name": "stdout",
     "output_type": "stream",
     "text": [
      "\n",
      "Missing values after handling:\n",
      "\n",
      "name            0\n",
      "character       0\n",
      "role            0\n",
      "title           0\n",
      "type            0\n",
      "release_year    0\n",
      "genres          0\n",
      "imdb_score      0\n",
      "imdb_votes      0\n",
      "dtype: int64\n"
     ]
    }
   ],
   "source": [
    "# counting missing values\n",
    "print(\"\\nMissing values after handling:\\n\")\n",
    "print(df.isnull().sum())"
   ]
  },
  {
   "cell_type": "markdown",
   "id": "a7dc7aa0",
   "metadata": {},
   "source": [
    "### Duplicates <a id='duplicates'></a>\n",
    "Find the number of duplicate rows in the table using one command:"
   ]
  },
  {
   "cell_type": "code",
   "execution_count": 11,
   "id": "9227df01",
   "metadata": {
    "trusted": false
   },
   "outputs": [
    {
     "name": "stdout",
     "output_type": "stream",
     "text": [
      "\n",
      "Number of duplicate rows:\n",
      "\n",
      "6994\n"
     ]
    }
   ],
   "source": [
    "# counting duplicate rows\n",
    "print(\"\\nNumber of duplicate rows:\\n\")\n",
    "print(df.duplicated().sum())"
   ]
  },
  {
   "cell_type": "markdown",
   "id": "5f6eb0fc",
   "metadata": {},
   "source": [
    "Review the duplicate rows to determine if removing them would distort our dataset."
   ]
  },
  {
   "cell_type": "code",
   "execution_count": 12,
   "id": "bcf32fcb",
   "metadata": {
    "trusted": false
   },
   "outputs": [
    {
     "name": "stdout",
     "output_type": "stream",
     "text": [
      "\n",
      "Table with duplicate rows (including original rows):\n",
      "                      name                 character   role    title   type  \\\n",
      "85569       Jessica Cediel           Liliana Navarro  ACTOR  Lokillo  MOVIE   \n",
      "85570  Javier Gardeaz?­bal  Agust??n \"Peluca\" Ort??z  ACTOR  Lokillo  MOVIE   \n",
      "85571        Carla Giraldo            Valery Reinoso  ACTOR  Lokillo  MOVIE   \n",
      "85572  Ana Mar??a S?­nchez                   Lourdes  ACTOR  Lokillo  MOVIE   \n",
      "85577         Isabel Gaona                    Cacica  ACTOR  Lokillo  MOVIE   \n",
      "\n",
      "       release_year      genres  imdb_score  imdb_votes  \n",
      "85569          2021  ['comedy']         3.8        68.0  \n",
      "85570          2021  ['comedy']         3.8        68.0  \n",
      "85571          2021  ['comedy']         3.8        68.0  \n",
      "85572          2021  ['comedy']         3.8        68.0  \n",
      "85577          2021  ['comedy']         3.8        68.0  \n"
     ]
    }
   ],
   "source": [
    "# Produce table with duplicates (with original rows included) and review last 5 rows\n",
    "duplicates_table = df[df.duplicated()]\n",
    "print(\"\\nTable with duplicate rows (including original rows):\")\n",
    "print(duplicates_table.tail())"
   ]
  },
  {
   "cell_type": "markdown",
   "id": "a1ed6640",
   "metadata": {},
   "source": [
    "There are two clear duplicates in the printed rows. We can safely remove them.\n",
    "Call the `pandas` method for getting rid of duplicate rows:"
   ]
  },
  {
   "cell_type": "code",
   "execution_count": 13,
   "id": "724d5bc8",
   "metadata": {
    "trusted": false
   },
   "outputs": [],
   "source": [
    "# removing duplicate rows\n",
    "df = df.drop_duplicates()"
   ]
  },
  {
   "cell_type": "markdown",
   "id": "fc8c77ba",
   "metadata": {},
   "source": [
    "Check for duplicate rows once more to make sure you have removed all of them:"
   ]
  },
  {
   "cell_type": "code",
   "execution_count": 14,
   "id": "8091a9bc",
   "metadata": {
    "trusted": false
   },
   "outputs": [
    {
     "name": "stdout",
     "output_type": "stream",
     "text": [
      "\n",
      "Number of duplicate rows after removal:\n",
      "\n",
      "0\n"
     ]
    }
   ],
   "source": [
    "# checking for duplicates\n",
    "print(\"\\nNumber of duplicate rows after removal:\\n\")\n",
    "print(df.duplicated().sum())"
   ]
  },
  {
   "cell_type": "markdown",
   "id": "1d802b07",
   "metadata": {},
   "source": [
    "Now get rid of implicit duplicates in the `'type'` column. For example, the string `'SHOW'` can be written in different ways. These kinds of errors will also affect the result."
   ]
  },
  {
   "cell_type": "markdown",
   "id": "d5f987ed",
   "metadata": {},
   "source": [
    "Print a list of unique `'type'` names, sorted in alphabetical order. To do so:\n",
    "* Retrieve the intended dataframe column \n",
    "* Apply a sorting method to it\n",
    "* For the sorted column, call the method that will return all unique column values"
   ]
  },
  {
   "cell_type": "code",
   "execution_count": 15,
   "id": "3d7b0ac5",
   "metadata": {
    "trusted": false
   },
   "outputs": [
    {
     "name": "stdout",
     "output_type": "stream",
     "text": [
      "\n",
      "Unique values in 'type' column before cleaning:\n",
      "['MOVIE', 'SHOW', 'movies', 'shows', 'the movie', 'tv', 'tv series', 'tv show', 'tv shows']\n"
     ]
    }
   ],
   "source": [
    "# viewing unique type names\n",
    "print(\"\\nUnique values in 'type' column before cleaning:\")\n",
    "print(sorted(df['type'].unique()))"
   ]
  },
  {
   "cell_type": "markdown",
   "id": "ac6e8b18",
   "metadata": {},
   "source": [
    "Look through the list to find implicit duplicates of `'show'` (`'movie'` duplicates will be ignored since the assumption is about shows). These could be names written incorrectly or alternative names of the same genre.\n",
    "\n",
    "You will see the following implicit duplicates:\n",
    "* `'shows'`\n",
    "* `'SHOW'`\n",
    "* `'tv show'`\n",
    "* `'tv shows'`\n",
    "* `'tv series'`\n",
    "* `'tv'`\n",
    "\n",
    "To get rid of them, declare the function `replace_wrong_show()` with two parameters: \n",
    "* `wrong_shows_list=` — the list of duplicates\n",
    "* `correct_show=` — the string with the correct value\n",
    "\n",
    "The function should correct the names in the `'type'` column from the `df` table (i.e., replace each value from the `wrong_shows_list` list with the value in `correct_show`)."
   ]
  },
  {
   "cell_type": "code",
   "execution_count": 16,
   "id": "bff944f9",
   "metadata": {
    "trusted": false
   },
   "outputs": [],
   "source": [
    "# function for replacing implicit duplicates\n",
    "def replace_wrong_show(wrong_shows_list, correct_show):\n",
    "    df['type'] = df['type'].replace(wrong_shows_list, correct_show)\n",
    "    "
   ]
  },
  {
   "cell_type": "markdown",
   "id": "d02d13a6",
   "metadata": {},
   "source": [
    "Call `replace_wrong_show()` and pass it arguments so that it clears implicit duplicates and replaces them with `SHOW`:"
   ]
  },
  {
   "cell_type": "code",
   "execution_count": 17,
   "id": "a2217e53",
   "metadata": {
    "trusted": false
   },
   "outputs": [],
   "source": [
    "# removing implicit duplicates\n",
    "replace_wrong_show(['shows','SHOW','tv show','tv shows','tv series','tv'] , 'SHOW' )"
   ]
  },
  {
   "cell_type": "markdown",
   "id": "318b09f7",
   "metadata": {},
   "source": [
    "Make sure the duplicate names are removed. Print the list of unique values from the `'type'` column:"
   ]
  },
  {
   "cell_type": "code",
   "execution_count": 18,
   "id": "25d49d73",
   "metadata": {
    "trusted": false
   },
   "outputs": [
    {
     "name": "stdout",
     "output_type": "stream",
     "text": [
      "\n",
      "Unique values in 'type' column after cleaning:\n",
      "['MOVIE', 'SHOW', 'movies', 'the movie']\n"
     ]
    }
   ],
   "source": [
    "# viewing unique genre names\n",
    "print(\"\\nUnique values in 'type' column after cleaning:\")\n",
    "print(sorted(df['type'].unique()))"
   ]
  },
  {
   "cell_type": "markdown",
   "id": "18b2049e",
   "metadata": {},
   "source": [
    "### Conclusions <a id='data_preprocessing_conclusions'></a>\n",
    "We detected three issues with the data:\n",
    "\n",
    "- Incorrect header styles\n",
    "- Missing values\n",
    "- Duplicate rows and implicit duplicates\n",
    "\n",
    "The headers have been cleaned up to make processing the table simpler.\n",
    "\n",
    "All rows with missing values have been removed. \n",
    "\n",
    "The absence of duplicates will make the results more precise and easier to understand.\n",
    "\n",
    "Now we can move on to our analysis of the prepared data."
   ]
  },
  {
   "cell_type": "markdown",
   "id": "1aa0f1b1",
   "metadata": {},
   "source": [
    "## Stage 3. Data analysis <a id='hypotheses'></a>"
   ]
  },
  {
   "cell_type": "markdown",
   "id": "f8fb6a0e",
   "metadata": {},
   "source": [
    "Based on the previous project stages, you can now define how the assumption will be checked. Calculate the average amount of votes for each score (this data is available in the `imdb_score` and `imdb_votes` columns), and then check how these averages relate to each other. If the averages for shows with the highest scores are bigger than those for shows with lower scores, the assumption appears to be true.\n",
    "\n",
    "Based on this, complete the following steps:\n",
    "\n",
    "- Filter the dataframe to only include shows released in 1999 or later.\n",
    "- Group scores into buckets by rounding the values of the appropriate column (a set of 1-10 integers will help us make the outcome of our calculations more evident without damaging the quality of our research).\n",
    "- Identify outliers among scores based on their number of votes, and exclude scores with few votes.\n",
    "- Calculate the average votes for each score and check whether the assumption matches the results."
   ]
  },
  {
   "cell_type": "markdown",
   "id": "0ea2cb51",
   "metadata": {},
   "source": [
    "To filter the dataframe and only include shows released in 1999 or later, you will take two steps. First, keep only titles published in 1999 or later in our dataframe. Then, filter the table to only contain shows (movies will be removed)."
   ]
  },
  {
   "cell_type": "code",
   "execution_count": 19,
   "id": "6a704aa1",
   "metadata": {
    "trusted": false
   },
   "outputs": [],
   "source": [
    "# using conditional indexing modify df so it has only titles released after 1999 (with 1999 included)\n",
    "# give the slice of dataframe new name\n",
    "df = df[(df['release_year'] >= 1999)]"
   ]
  },
  {
   "cell_type": "code",
   "execution_count": 20,
   "id": "128dc6a9",
   "metadata": {
    "scrolled": true,
    "trusted": false
   },
   "outputs": [],
   "source": [
    "# repeat conditional indexing so df has only shows (movies are removed as result)\n",
    "df = df[(df['type'] == 'SHOW')]\n"
   ]
  },
  {
   "cell_type": "markdown",
   "id": "9648040c",
   "metadata": {},
   "source": [
    "The scores that are to be grouped should be rounded. For instance, titles with scores like 7.8, 8.1, and 8.3 will all be placed in the same bucket with a score of 8."
   ]
  },
  {
   "cell_type": "code",
   "execution_count": 21,
   "id": "54bbd5c0",
   "metadata": {
    "trusted": false
   },
   "outputs": [
    {
     "data": {
      "text/html": [
       "<div>\n",
       "<style scoped>\n",
       "    .dataframe tbody tr th:only-of-type {\n",
       "        vertical-align: middle;\n",
       "    }\n",
       "\n",
       "    .dataframe tbody tr th {\n",
       "        vertical-align: top;\n",
       "    }\n",
       "\n",
       "    .dataframe thead th {\n",
       "        text-align: right;\n",
       "    }\n",
       "</style>\n",
       "<table border=\"1\" class=\"dataframe\">\n",
       "  <thead>\n",
       "    <tr style=\"text-align: right;\">\n",
       "      <th></th>\n",
       "      <th>name</th>\n",
       "      <th>character</th>\n",
       "      <th>role</th>\n",
       "      <th>title</th>\n",
       "      <th>type</th>\n",
       "      <th>release_year</th>\n",
       "      <th>genres</th>\n",
       "      <th>imdb_score</th>\n",
       "      <th>imdb_votes</th>\n",
       "      <th>scores</th>\n",
       "    </tr>\n",
       "  </thead>\n",
       "  <tbody>\n",
       "    <tr>\n",
       "      <th>85433</th>\n",
       "      <td>Maneerat Kam-Uan</td>\n",
       "      <td>Ae</td>\n",
       "      <td>ACTOR</td>\n",
       "      <td>Let's Eat</td>\n",
       "      <td>SHOW</td>\n",
       "      <td>2021</td>\n",
       "      <td>['drama', 'comedy']</td>\n",
       "      <td>8.2</td>\n",
       "      <td>5.0</td>\n",
       "      <td>8.0</td>\n",
       "    </tr>\n",
       "    <tr>\n",
       "      <th>85434</th>\n",
       "      <td>Rudklao Amratisha</td>\n",
       "      <td>unknown</td>\n",
       "      <td>ACTOR</td>\n",
       "      <td>Let's Eat</td>\n",
       "      <td>SHOW</td>\n",
       "      <td>2021</td>\n",
       "      <td>['drama', 'comedy']</td>\n",
       "      <td>8.2</td>\n",
       "      <td>5.0</td>\n",
       "      <td>8.0</td>\n",
       "    </tr>\n",
       "    <tr>\n",
       "      <th>85435</th>\n",
       "      <td>Jaturong Mokjok</td>\n",
       "      <td>unknown</td>\n",
       "      <td>ACTOR</td>\n",
       "      <td>Let's Eat</td>\n",
       "      <td>SHOW</td>\n",
       "      <td>2021</td>\n",
       "      <td>['drama', 'comedy']</td>\n",
       "      <td>8.2</td>\n",
       "      <td>5.0</td>\n",
       "      <td>8.0</td>\n",
       "    </tr>\n",
       "    <tr>\n",
       "      <th>85436</th>\n",
       "      <td>Pisamai Wilaisak</td>\n",
       "      <td>unknown</td>\n",
       "      <td>ACTOR</td>\n",
       "      <td>Let's Eat</td>\n",
       "      <td>SHOW</td>\n",
       "      <td>2021</td>\n",
       "      <td>['drama', 'comedy']</td>\n",
       "      <td>8.2</td>\n",
       "      <td>5.0</td>\n",
       "      <td>8.0</td>\n",
       "    </tr>\n",
       "    <tr>\n",
       "      <th>85437</th>\n",
       "      <td>Sarawut Wichiensarn</td>\n",
       "      <td>unknown</td>\n",
       "      <td>DIRECTOR</td>\n",
       "      <td>Let's Eat</td>\n",
       "      <td>SHOW</td>\n",
       "      <td>2021</td>\n",
       "      <td>['drama', 'comedy']</td>\n",
       "      <td>8.2</td>\n",
       "      <td>5.0</td>\n",
       "      <td>8.0</td>\n",
       "    </tr>\n",
       "  </tbody>\n",
       "</table>\n",
       "</div>"
      ],
      "text/plain": [
       "                      name character      role      title  type  release_year  \\\n",
       "85433     Maneerat Kam-Uan        Ae     ACTOR  Let's Eat  SHOW          2021   \n",
       "85434    Rudklao Amratisha   unknown     ACTOR  Let's Eat  SHOW          2021   \n",
       "85435      Jaturong Mokjok   unknown     ACTOR  Let's Eat  SHOW          2021   \n",
       "85436     Pisamai Wilaisak   unknown     ACTOR  Let's Eat  SHOW          2021   \n",
       "85437  Sarawut Wichiensarn   unknown  DIRECTOR  Let's Eat  SHOW          2021   \n",
       "\n",
       "                    genres  imdb_score  imdb_votes  scores  \n",
       "85433  ['drama', 'comedy']         8.2         5.0     8.0  \n",
       "85434  ['drama', 'comedy']         8.2         5.0     8.0  \n",
       "85435  ['drama', 'comedy']         8.2         5.0     8.0  \n",
       "85436  ['drama', 'comedy']         8.2         5.0     8.0  \n",
       "85437  ['drama', 'comedy']         8.2         5.0     8.0  "
      ]
     },
     "execution_count": 21,
     "metadata": {},
     "output_type": "execute_result"
    }
   ],
   "source": [
    "# rounding column with scores\n",
    "df['scores'] = df['imdb_score'].round()\n",
    "#checking the outcome with tail()\n",
    "df.tail()"
   ]
  },
  {
   "cell_type": "markdown",
   "id": "36dbd00a",
   "metadata": {},
   "source": [
    "It is now time to identify outliers based on the number of votes."
   ]
  },
  {
   "cell_type": "code",
   "execution_count": 22,
   "id": "b8b55e95",
   "metadata": {
    "trusted": false
   },
   "outputs": [
    {
     "name": "stdout",
     "output_type": "stream",
     "text": [
      "\n",
      "Unique values count for each score group:\n",
      "\n",
      "        name  character  role  title  type  release_year  genres  imdb_score  \\\n",
      "scores                                                                         \n",
      "2.0       24         18     2      5     1             4       5           4   \n",
      "3.0       27         27     2      4     1             3       4           3   \n",
      "4.0      174        108     2     30     1            13      19          10   \n",
      "5.0      581        419     2     94     1            12      68           8   \n",
      "6.0     2365       1896     2    347     1            19     212          11   \n",
      "7.0     4342       3813     2    593     1            24     304           9   \n",
      "8.0     4194       4028     2    539     1            23     329          11   \n",
      "9.0      542        498     2     65     1            20      50           8   \n",
      "10.0       8          8     1      1     1             1       1           1   \n",
      "\n",
      "        imdb_votes  \n",
      "scores              \n",
      "2.0              5  \n",
      "3.0              4  \n",
      "4.0             30  \n",
      "5.0             91  \n",
      "6.0            329  \n",
      "7.0            568  \n",
      "8.0            527  \n",
      "9.0             65  \n",
      "10.0             1  \n"
     ]
    }
   ],
   "source": [
    "# Use groupby() for scores and count all unique values in each group, print the result\n",
    "unique_scores = df.groupby('scores').nunique()\n",
    "print(\"\\nUnique values count for each score group:\\n\")\n",
    "print(unique_scores)"
   ]
  },
  {
   "cell_type": "markdown",
   "id": "1ba6daae",
   "metadata": {},
   "source": [
    "Based on the aggregation performed, it is evident that scores 2 (24 voted shows), 3 (27 voted shows), and 10 (only 8 voted shows) are outliers. There isn't enough data for these scores for the average number of votes to be meaningful."
   ]
  },
  {
   "cell_type": "markdown",
   "id": "bd468c46",
   "metadata": {},
   "source": [
    "To obtain the mean numbers of votes for the selected scores (we identified a range of 4-9 as acceptable), use conditional filtering and grouping."
   ]
  },
  {
   "cell_type": "code",
   "execution_count": 23,
   "id": "d1867e0e",
   "metadata": {
    "trusted": false
   },
   "outputs": [
    {
     "name": "stdout",
     "output_type": "stream",
     "text": [
      "\n",
      "Mean number of votes for scores in the range 4-9:\n",
      "\n",
      "   scores     imdb_votes\n",
      "0     4.0    5277.583333\n",
      "1     5.0    3143.942568\n",
      "2     6.0    3481.717322\n",
      "3     7.0    8727.068211\n",
      "4     8.0   30299.460967\n",
      "5     9.0  126904.109515\n"
     ]
    }
   ],
   "source": [
    "# filter dataframe using two conditions (scores to be in the range 4-9)\n",
    "filtered_scores = df[(df['scores'] >= 4) & (df['scores'] <= 9)]\n",
    "\n",
    "# group scores and corresponding average number of votes, reset index and print the result\n",
    "                                       \n",
    "df_votes = filtered_scores.groupby('scores')['imdb_votes'].mean().reset_index()\n",
    "                                       \n",
    "print(\"\\nMean number of votes for scores in the range 4-9:\\n\")\n",
    "print(df_votes)"
   ]
  },
  {
   "cell_type": "markdown",
   "id": "96a66d14",
   "metadata": {},
   "source": [
    "Now for the final step! Round the column with the averages, rename both columns, and print the dataframe in descending order."
   ]
  },
  {
   "cell_type": "code",
   "execution_count": 24,
   "id": "5999051b",
   "metadata": {
    "trusted": false
   },
   "outputs": [
    {
     "name": "stdout",
     "output_type": "stream",
     "text": [
      "\n",
      "Scores and their average votes:\n",
      "\n",
      "   range in 4-9  ave_votes\n",
      "5           9.0   126904.0\n",
      "4           8.0    30299.0\n",
      "3           7.0     8727.0\n",
      "0           4.0     5278.0\n",
      "2           6.0     3482.0\n",
      "1           5.0     3144.0\n"
     ]
    }
   ],
   "source": [
    "# round column with averages\n",
    "df_votes['imdb_votes'] = df_votes['imdb_votes'].round()\n",
    "# rename columns\n",
    "df_votes = df_votes.rename(columns={'imdb_votes': 'ave_votes','scores':'range in 4-9'})\n",
    "# print dataframe in descending order\n",
    "df_votes = df_votes.sort_values(by='ave_votes', ascending=False)\n",
    "print(\"\\nScores and their average votes:\\n\")\n",
    "print(df_votes)"
   ]
  },
  {
   "cell_type": "markdown",
   "id": "af07386d",
   "metadata": {},
   "source": [
    "The assumption macthes the analysis: the shows with the top 3 scores have the most amounts of votes."
   ]
  },
  {
   "cell_type": "markdown",
   "id": "84e29a37",
   "metadata": {},
   "source": [
    "## Conclusion <a id='hypotheses'></a>"
   ]
  },
  {
   "cell_type": "markdown",
   "id": "984766a3",
   "metadata": {},
   "source": [
    "The research done confirms that highly-rated shows released during the \"Golden Age\" of television also have the most votes. While shows with score 4 have more votes than ones with scores 5 and 6, the top three (scores 7-9) have the largest number. The data studied represents around 94% of the original set, so we can be confident in our findings."
   ]
  }
 ],
 "metadata": {
  "ExecuteTimeLog": [
   {
    "duration": 9,
    "start_time": "2024-11-16T02:54:58.627Z"
   },
   {
    "duration": 304,
    "start_time": "2024-11-16T02:55:12.266Z"
   },
   {
    "duration": 4,
    "start_time": "2024-11-16T02:57:23.542Z"
   },
   {
    "duration": 174,
    "start_time": "2024-11-16T02:58:01.147Z"
   },
   {
    "duration": 9,
    "start_time": "2024-11-16T02:58:34.337Z"
   },
   {
    "duration": 164,
    "start_time": "2024-11-16T19:00:14.624Z"
   },
   {
    "duration": 11,
    "start_time": "2024-11-16T19:01:31.169Z"
   },
   {
    "duration": 466,
    "start_time": "2024-11-16T19:01:50.292Z"
   },
   {
    "duration": 175,
    "start_time": "2024-11-16T19:02:17.833Z"
   },
   {
    "duration": 120,
    "start_time": "2024-11-16T19:02:51.307Z"
   },
   {
    "duration": 126,
    "start_time": "2024-11-16T19:07:13.061Z"
   },
   {
    "duration": 506,
    "start_time": "2024-11-16T19:15:23.885Z"
   },
   {
    "duration": 1045,
    "start_time": "2024-11-18T17:10:21.123Z"
   },
   {
    "duration": 4,
    "start_time": "2024-11-18T17:40:37.699Z"
   },
   {
    "duration": 5,
    "start_time": "2024-11-18T17:42:54.099Z"
   },
   {
    "duration": 5,
    "start_time": "2024-11-18T17:43:06.700Z"
   },
   {
    "duration": 10,
    "start_time": "2024-11-18T17:56:29.320Z"
   },
   {
    "duration": 50,
    "start_time": "2024-11-18T17:57:41.620Z"
   },
   {
    "duration": 155,
    "start_time": "2024-11-18T20:37:18.652Z"
   },
   {
    "duration": 11,
    "start_time": "2024-11-18T20:39:26.921Z"
   },
   {
    "duration": 12,
    "start_time": "2024-11-18T20:40:05.991Z"
   },
   {
    "duration": 470,
    "start_time": "2024-11-18T20:41:08.781Z"
   },
   {
    "duration": 133,
    "start_time": "2024-11-18T20:41:16.967Z"
   },
   {
    "duration": 19,
    "start_time": "2024-11-18T20:47:59.337Z"
   },
   {
    "duration": 419,
    "start_time": "2024-11-18T20:56:51.658Z"
   },
   {
    "duration": 442,
    "start_time": "2024-11-18T20:57:34.051Z"
   },
   {
    "duration": 53,
    "start_time": "2024-11-18T20:58:12.380Z"
   },
   {
    "duration": 55,
    "start_time": "2024-11-18T20:58:39.570Z"
   },
   {
    "duration": 67,
    "start_time": "2024-11-18T20:59:08.300Z"
   },
   {
    "duration": 76,
    "start_time": "2024-11-18T20:59:34.527Z"
   },
   {
    "duration": 57,
    "start_time": "2024-11-18T21:01:00.972Z"
   },
   {
    "duration": 53,
    "start_time": "2024-11-18T21:01:25.091Z"
   },
   {
    "duration": 60,
    "start_time": "2024-11-18T21:01:49.890Z"
   },
   {
    "duration": 56,
    "start_time": "2024-11-18T21:02:05.045Z"
   },
   {
    "duration": 58,
    "start_time": "2024-11-18T21:02:27.896Z"
   },
   {
    "duration": 51,
    "start_time": "2024-11-18T21:02:49.569Z"
   },
   {
    "duration": 99,
    "start_time": "2024-11-18T21:05:21.471Z"
   },
   {
    "duration": 158,
    "start_time": "2024-11-20T14:23:07.844Z"
   },
   {
    "duration": 266,
    "start_time": "2024-11-20T14:23:35.794Z"
   },
   {
    "duration": 138,
    "start_time": "2024-11-20T14:23:37.970Z"
   },
   {
    "duration": 125,
    "start_time": "2024-11-20T14:23:43.000Z"
   },
   {
    "duration": 129,
    "start_time": "2024-11-20T14:23:46.355Z"
   },
   {
    "duration": 99,
    "start_time": "2024-11-20T14:23:51.625Z"
   },
   {
    "duration": 8,
    "start_time": "2024-11-20T14:23:59.162Z"
   },
   {
    "duration": 11,
    "start_time": "2024-11-20T14:24:06.442Z"
   },
   {
    "duration": 35,
    "start_time": "2024-11-20T14:24:13.844Z"
   },
   {
    "duration": 373,
    "start_time": "2024-11-20T14:24:34.357Z"
   },
   {
    "duration": 7,
    "start_time": "2024-11-20T14:24:50.142Z"
   },
   {
    "duration": 7,
    "start_time": "2024-11-20T14:25:47.351Z"
   },
   {
    "duration": 6,
    "start_time": "2024-11-20T14:25:50.629Z"
   },
   {
    "duration": 10,
    "start_time": "2024-11-20T14:26:19.907Z"
   },
   {
    "duration": 7,
    "start_time": "2024-11-20T14:27:12.950Z"
   },
   {
    "duration": 6,
    "start_time": "2024-11-20T14:27:17.374Z"
   },
   {
    "duration": 8,
    "start_time": "2024-11-20T14:27:24.881Z"
   },
   {
    "duration": 6,
    "start_time": "2024-11-20T14:27:26.923Z"
   },
   {
    "duration": 8,
    "start_time": "2024-11-20T14:27:54.688Z"
   },
   {
    "duration": 6,
    "start_time": "2024-11-20T14:27:57.958Z"
   },
   {
    "duration": 8,
    "start_time": "2024-11-20T14:28:04.834Z"
   },
   {
    "duration": 6,
    "start_time": "2024-11-20T14:28:06.476Z"
   },
   {
    "duration": 8,
    "start_time": "2024-11-20T14:28:12.556Z"
   },
   {
    "duration": 6,
    "start_time": "2024-11-20T14:28:14.547Z"
   },
   {
    "duration": 7,
    "start_time": "2024-11-20T14:28:24.037Z"
   },
   {
    "duration": 7,
    "start_time": "2024-11-20T14:28:26.508Z"
   },
   {
    "duration": 115,
    "start_time": "2024-11-20T14:30:11.625Z"
   },
   {
    "duration": 2,
    "start_time": "2024-11-20T14:31:00.509Z"
   },
   {
    "duration": 113,
    "start_time": "2024-11-20T14:31:02.099Z"
   },
   {
    "duration": 119,
    "start_time": "2024-11-20T14:31:04.718Z"
   },
   {
    "duration": 117,
    "start_time": "2024-11-20T14:31:16.637Z"
   },
   {
    "duration": 137,
    "start_time": "2024-11-20T14:31:29.609Z"
   },
   {
    "duration": 8,
    "start_time": "2024-11-20T14:31:33.859Z"
   },
   {
    "duration": 5,
    "start_time": "2024-11-20T14:31:38.465Z"
   },
   {
    "duration": 10,
    "start_time": "2024-11-20T14:31:53.984Z"
   },
   {
    "duration": 8,
    "start_time": "2024-11-20T14:32:07.216Z"
   },
   {
    "duration": 10,
    "start_time": "2024-11-20T14:32:15.138Z"
   },
   {
    "duration": 9,
    "start_time": "2024-11-20T14:32:20.995Z"
   },
   {
    "duration": 9,
    "start_time": "2024-11-20T14:32:22.877Z"
   },
   {
    "duration": 9,
    "start_time": "2024-11-20T14:32:36.023Z"
   },
   {
    "duration": 10,
    "start_time": "2024-11-20T14:32:38.548Z"
   },
   {
    "duration": 9,
    "start_time": "2024-11-20T14:33:00.061Z"
   },
   {
    "duration": 12,
    "start_time": "2024-11-20T14:33:02.512Z"
   },
   {
    "duration": 9,
    "start_time": "2024-11-20T14:33:12.998Z"
   },
   {
    "duration": 10,
    "start_time": "2024-11-20T14:33:16.658Z"
   },
   {
    "duration": 8,
    "start_time": "2024-11-20T14:33:26.469Z"
   },
   {
    "duration": 10,
    "start_time": "2024-11-20T14:33:28.678Z"
   },
   {
    "duration": 9,
    "start_time": "2024-11-20T14:33:42.033Z"
   },
   {
    "duration": 10,
    "start_time": "2024-11-20T14:33:44.241Z"
   },
   {
    "duration": 9,
    "start_time": "2024-11-20T14:33:50.074Z"
   },
   {
    "duration": 11,
    "start_time": "2024-11-20T14:33:53.066Z"
   },
   {
    "duration": 9,
    "start_time": "2024-11-20T14:33:56.989Z"
   },
   {
    "duration": 7,
    "start_time": "2024-11-20T14:34:09.259Z"
   },
   {
    "duration": 9,
    "start_time": "2024-11-20T14:34:11.914Z"
   },
   {
    "duration": 11,
    "start_time": "2024-11-20T14:34:16.371Z"
   },
   {
    "duration": 9,
    "start_time": "2024-11-20T14:34:20.469Z"
   },
   {
    "duration": 105,
    "start_time": "2024-11-20T14:34:36.626Z"
   },
   {
    "duration": 8,
    "start_time": "2024-11-20T14:34:41.347Z"
   },
   {
    "duration": 9,
    "start_time": "2024-11-20T14:34:45.940Z"
   },
   {
    "duration": 8,
    "start_time": "2024-11-20T14:34:53.140Z"
   },
   {
    "duration": 9,
    "start_time": "2024-11-20T14:34:57.496Z"
   },
   {
    "duration": 102,
    "start_time": "2024-11-20T14:35:09.491Z"
   },
   {
    "duration": 8,
    "start_time": "2024-11-20T14:35:12.939Z"
   },
   {
    "duration": 9,
    "start_time": "2024-11-20T14:35:15.023Z"
   },
   {
    "duration": 107,
    "start_time": "2024-11-20T14:35:37.518Z"
   },
   {
    "duration": 3,
    "start_time": "2024-11-20T14:35:50.180Z"
   },
   {
    "duration": 112,
    "start_time": "2024-11-20T14:35:52.675Z"
   },
   {
    "duration": 119,
    "start_time": "2024-11-20T14:35:54.058Z"
   },
   {
    "duration": 116,
    "start_time": "2024-11-20T14:35:58.139Z"
   },
   {
    "duration": 105,
    "start_time": "2024-11-20T14:36:02.210Z"
   },
   {
    "duration": 9,
    "start_time": "2024-11-20T14:36:07.213Z"
   },
   {
    "duration": 11,
    "start_time": "2024-11-20T14:36:09.562Z"
   },
   {
    "duration": 23,
    "start_time": "2024-11-20T14:36:49.423Z"
   },
   {
    "duration": 13,
    "start_time": "2024-11-20T14:38:36.923Z"
   },
   {
    "duration": 2,
    "start_time": "2024-11-20T14:39:00.301Z"
   },
   {
    "duration": 116,
    "start_time": "2024-11-20T14:39:04.891Z"
   },
   {
    "duration": 122,
    "start_time": "2024-11-20T14:39:08.400Z"
   },
   {
    "duration": 119,
    "start_time": "2024-11-20T14:39:11.033Z"
   },
   {
    "duration": 96,
    "start_time": "2024-11-20T14:39:16.698Z"
   },
   {
    "duration": 8,
    "start_time": "2024-11-20T14:39:19.173Z"
   },
   {
    "duration": 9,
    "start_time": "2024-11-20T14:39:23.469Z"
   },
   {
    "duration": 13,
    "start_time": "2024-11-20T14:39:28.271Z"
   },
   {
    "duration": 154,
    "start_time": "2024-11-20T21:30:16.709Z"
   },
   {
    "duration": 300,
    "start_time": "2024-11-20T21:30:30.424Z"
   },
   {
    "duration": 134,
    "start_time": "2024-11-20T21:30:43.415Z"
   },
   {
    "duration": 124,
    "start_time": "2024-11-20T21:30:45.347Z"
   },
   {
    "duration": 125,
    "start_time": "2024-11-20T21:30:47.465Z"
   },
   {
    "duration": 108,
    "start_time": "2024-11-20T21:30:51.107Z"
   },
   {
    "duration": 9,
    "start_time": "2024-11-20T21:30:53.473Z"
   },
   {
    "duration": 9,
    "start_time": "2024-11-20T21:30:55.865Z"
   },
   {
    "duration": 22,
    "start_time": "2024-11-20T21:30:58.844Z"
   },
   {
    "duration": 64,
    "start_time": "2024-11-20T21:35:47.669Z"
   },
   {
    "duration": 95,
    "start_time": "2024-11-20T21:38:15.485Z"
   },
   {
    "duration": 118,
    "start_time": "2024-11-20T21:38:30.625Z"
   },
   {
    "duration": 115,
    "start_time": "2024-11-20T21:38:36.029Z"
   },
   {
    "duration": 93,
    "start_time": "2024-11-20T21:38:43.368Z"
   },
   {
    "duration": 116,
    "start_time": "2024-11-20T21:39:08.116Z"
   },
   {
    "duration": 279,
    "start_time": "2024-11-21T16:23:37.864Z"
   },
   {
    "duration": 138,
    "start_time": "2024-11-21T16:23:40.556Z"
   },
   {
    "duration": 14,
    "start_time": "2024-11-21T16:23:43.025Z"
   },
   {
    "duration": 23,
    "start_time": "2024-11-21T16:23:54.509Z"
   },
   {
    "duration": 57,
    "start_time": "2024-11-21T16:26:29.505Z"
   },
   {
    "duration": 5,
    "start_time": "2024-11-21T16:28:07.068Z"
   },
   {
    "duration": 3,
    "start_time": "2024-11-21T16:29:36.836Z"
   },
   {
    "duration": 19,
    "start_time": "2024-11-21T16:29:56.345Z"
   },
   {
    "duration": 19,
    "start_time": "2024-11-21T16:30:26.670Z"
   },
   {
    "duration": 29,
    "start_time": "2024-11-21T16:38:36.792Z"
   },
   {
    "duration": 17,
    "start_time": "2024-11-21T16:38:58.698Z"
   },
   {
    "duration": 39,
    "start_time": "2024-11-21T16:42:27.584Z"
   },
   {
    "duration": 44,
    "start_time": "2024-11-21T16:49:27.423Z"
   },
   {
    "duration": 43,
    "start_time": "2024-11-21T16:50:03.030Z"
   },
   {
    "duration": 60,
    "start_time": "2024-11-21T17:08:04.693Z"
   },
   {
    "duration": 575,
    "start_time": "2024-11-21T17:10:42.716Z"
   },
   {
    "duration": 68,
    "start_time": "2024-11-21T17:11:36.407Z"
   },
   {
    "duration": 43,
    "start_time": "2024-11-21T17:12:22.996Z"
   },
   {
    "duration": 67,
    "start_time": "2024-11-21T17:12:41.527Z"
   },
   {
    "duration": 71,
    "start_time": "2024-11-21T17:15:25.609Z"
   },
   {
    "duration": 42,
    "start_time": "2024-11-21T17:16:34.108Z"
   },
   {
    "duration": 69,
    "start_time": "2024-11-21T17:16:49.145Z"
   },
   {
    "duration": 41,
    "start_time": "2024-11-21T17:16:51.947Z"
   },
   {
    "duration": 6,
    "start_time": "2024-11-21T17:18:53.894Z"
   },
   {
    "duration": 5,
    "start_time": "2024-11-21T17:22:50.743Z"
   },
   {
    "duration": 2,
    "start_time": "2024-11-21T17:24:15.216Z"
   },
   {
    "duration": 14,
    "start_time": "2024-11-21T17:25:47.559Z"
   },
   {
    "duration": 17,
    "start_time": "2024-11-21T17:26:05.528Z"
   },
   {
    "duration": 3,
    "start_time": "2024-11-21T17:27:07.192Z"
   },
   {
    "duration": 15,
    "start_time": "2024-11-21T17:27:09.849Z"
   },
   {
    "duration": 3,
    "start_time": "2024-11-21T17:29:18.291Z"
   },
   {
    "duration": 120,
    "start_time": "2024-11-21T17:29:20.192Z"
   },
   {
    "duration": 9,
    "start_time": "2024-11-21T17:29:22.392Z"
   },
   {
    "duration": 30,
    "start_time": "2024-11-21T17:29:28.341Z"
   },
   {
    "duration": 58,
    "start_time": "2024-11-21T17:29:33.024Z"
   },
   {
    "duration": 8,
    "start_time": "2024-11-21T17:29:36.551Z"
   },
   {
    "duration": 3,
    "start_time": "2024-11-21T17:29:39.630Z"
   },
   {
    "duration": 20,
    "start_time": "2024-11-21T17:29:44.095Z"
   },
   {
    "duration": 25,
    "start_time": "2024-11-21T17:29:49.272Z"
   },
   {
    "duration": 25,
    "start_time": "2024-11-21T17:29:52.520Z"
   },
   {
    "duration": 40,
    "start_time": "2024-11-21T17:29:55.316Z"
   },
   {
    "duration": 43,
    "start_time": "2024-11-21T17:29:58.443Z"
   },
   {
    "duration": 61,
    "start_time": "2024-11-21T17:30:01.427Z"
   },
   {
    "duration": 41,
    "start_time": "2024-11-21T17:30:03.487Z"
   },
   {
    "duration": 5,
    "start_time": "2024-11-21T17:30:06.865Z"
   },
   {
    "duration": 3,
    "start_time": "2024-11-21T17:30:09.459Z"
   },
   {
    "duration": 19,
    "start_time": "2024-11-21T17:30:11.329Z"
   },
   {
    "duration": 6,
    "start_time": "2024-11-21T17:30:48.170Z"
   },
   {
    "duration": 8,
    "start_time": "2024-11-21T17:31:35.531Z"
   },
   {
    "duration": 5,
    "start_time": "2024-11-21T17:31:53.884Z"
   },
   {
    "duration": 3,
    "start_time": "2024-11-21T17:33:01.975Z"
   },
   {
    "duration": 3,
    "start_time": "2024-11-21T17:33:25.636Z"
   },
   {
    "duration": 115,
    "start_time": "2024-11-21T17:33:25.644Z"
   },
   {
    "duration": 19,
    "start_time": "2024-11-21T17:33:25.761Z"
   },
   {
    "duration": 24,
    "start_time": "2024-11-21T17:33:25.782Z"
   },
   {
    "duration": 97,
    "start_time": "2024-11-21T17:33:25.808Z"
   },
   {
    "duration": 6,
    "start_time": "2024-11-21T17:33:25.907Z"
   },
   {
    "duration": 3,
    "start_time": "2024-11-21T17:33:25.915Z"
   },
   {
    "duration": 26,
    "start_time": "2024-11-21T17:33:25.920Z"
   },
   {
    "duration": 47,
    "start_time": "2024-11-21T17:33:25.948Z"
   },
   {
    "duration": 21,
    "start_time": "2024-11-21T17:33:25.996Z"
   },
   {
    "duration": 76,
    "start_time": "2024-11-21T17:33:26.023Z"
   },
   {
    "duration": 61,
    "start_time": "2024-11-21T17:33:26.101Z"
   },
   {
    "duration": 74,
    "start_time": "2024-11-21T17:33:26.164Z"
   },
   {
    "duration": 57,
    "start_time": "2024-11-21T17:33:26.239Z"
   },
   {
    "duration": 6,
    "start_time": "2024-11-21T17:33:26.298Z"
   },
   {
    "duration": 2,
    "start_time": "2024-11-21T17:33:26.306Z"
   },
   {
    "duration": 2,
    "start_time": "2024-11-21T17:33:35.950Z"
   },
   {
    "duration": 110,
    "start_time": "2024-11-21T17:33:37.314Z"
   },
   {
    "duration": 12,
    "start_time": "2024-11-21T17:33:39.071Z"
   },
   {
    "duration": 31,
    "start_time": "2024-11-21T17:33:41.213Z"
   },
   {
    "duration": 71,
    "start_time": "2024-11-21T17:33:44.789Z"
   },
   {
    "duration": 7,
    "start_time": "2024-11-21T17:33:46.894Z"
   },
   {
    "duration": 3,
    "start_time": "2024-11-21T17:33:48.734Z"
   },
   {
    "duration": 20,
    "start_time": "2024-11-21T17:33:50.731Z"
   },
   {
    "duration": 24,
    "start_time": "2024-11-21T17:33:53.041Z"
   },
   {
    "duration": 24,
    "start_time": "2024-11-21T17:33:54.908Z"
   },
   {
    "duration": 41,
    "start_time": "2024-11-21T17:33:56.531Z"
   },
   {
    "duration": 68,
    "start_time": "2024-11-21T17:33:58.087Z"
   },
   {
    "duration": 55,
    "start_time": "2024-11-21T17:34:00.295Z"
   },
   {
    "duration": 41,
    "start_time": "2024-11-21T17:34:01.661Z"
   },
   {
    "duration": 6,
    "start_time": "2024-11-21T17:34:16.475Z"
   },
   {
    "duration": 6,
    "start_time": "2024-11-21T17:34:51.467Z"
   },
   {
    "duration": 3,
    "start_time": "2024-11-21T17:35:03.874Z"
   },
   {
    "duration": 14,
    "start_time": "2024-11-21T17:35:07.940Z"
   },
   {
    "duration": 6,
    "start_time": "2024-11-21T17:35:36.669Z"
   },
   {
    "duration": 305,
    "start_time": "2024-11-21T23:35:01.068Z"
   },
   {
    "duration": 139,
    "start_time": "2024-11-21T23:35:02.408Z"
   },
   {
    "duration": 14,
    "start_time": "2024-11-21T23:35:03.699Z"
   },
   {
    "duration": 25,
    "start_time": "2024-11-21T23:35:05.308Z"
   },
   {
    "duration": 59,
    "start_time": "2024-11-21T23:35:08.356Z"
   },
   {
    "duration": 5,
    "start_time": "2024-11-21T23:35:11.239Z"
   },
   {
    "duration": 3,
    "start_time": "2024-11-21T23:35:13.075Z"
   },
   {
    "duration": 19,
    "start_time": "2024-11-21T23:35:15.057Z"
   },
   {
    "duration": 27,
    "start_time": "2024-11-21T23:35:16.968Z"
   },
   {
    "duration": 18,
    "start_time": "2024-11-21T23:35:19.045Z"
   },
   {
    "duration": 42,
    "start_time": "2024-11-21T23:35:22.668Z"
   },
   {
    "duration": 45,
    "start_time": "2024-11-21T23:35:39.347Z"
   },
   {
    "duration": 48,
    "start_time": "2024-11-21T23:35:44.241Z"
   },
   {
    "duration": 44,
    "start_time": "2024-11-21T23:35:46.272Z"
   },
   {
    "duration": 6,
    "start_time": "2024-11-21T23:35:50.075Z"
   },
   {
    "duration": 3,
    "start_time": "2024-11-21T23:35:52.416Z"
   },
   {
    "duration": 15,
    "start_time": "2024-11-21T23:36:02.758Z"
   },
   {
    "duration": 6,
    "start_time": "2024-11-21T23:36:05.264Z"
   },
   {
    "duration": 86,
    "start_time": "2024-11-21T23:39:06.521Z"
   },
   {
    "duration": 10,
    "start_time": "2024-11-21T23:39:20.503Z"
   },
   {
    "duration": 6,
    "start_time": "2024-11-21T23:41:05.933Z"
   },
   {
    "duration": 6,
    "start_time": "2024-11-21T23:41:07.515Z"
   },
   {
    "duration": 10,
    "start_time": "2024-11-21T23:42:41.279Z"
   },
   {
    "duration": 6,
    "start_time": "2024-11-21T23:43:05.386Z"
   },
   {
    "duration": 324,
    "start_time": "2024-11-22T19:04:50.098Z"
   },
   {
    "duration": 174,
    "start_time": "2024-11-22T19:04:51.384Z"
   },
   {
    "duration": 15,
    "start_time": "2024-11-22T19:04:52.482Z"
   },
   {
    "duration": 23,
    "start_time": "2024-11-22T19:04:54.507Z"
   },
   {
    "duration": 57,
    "start_time": "2024-11-22T19:04:58.495Z"
   },
   {
    "duration": 5,
    "start_time": "2024-11-22T19:05:00.346Z"
   },
   {
    "duration": 3,
    "start_time": "2024-11-22T19:05:02.096Z"
   },
   {
    "duration": 19,
    "start_time": "2024-11-22T19:05:03.715Z"
   },
   {
    "duration": 27,
    "start_time": "2024-11-22T19:05:05.191Z"
   },
   {
    "duration": 18,
    "start_time": "2024-11-22T19:05:07.426Z"
   },
   {
    "duration": 39,
    "start_time": "2024-11-22T19:05:09.026Z"
   },
   {
    "duration": 44,
    "start_time": "2024-11-22T19:05:10.727Z"
   },
   {
    "duration": 60,
    "start_time": "2024-11-22T19:05:13.037Z"
   },
   {
    "duration": 47,
    "start_time": "2024-11-22T19:05:15.478Z"
   },
   {
    "duration": 13,
    "start_time": "2024-11-22T19:05:17.869Z"
   },
   {
    "duration": 3,
    "start_time": "2024-11-22T19:05:19.730Z"
   },
   {
    "duration": 14,
    "start_time": "2024-11-22T19:05:21.195Z"
   },
   {
    "duration": 16,
    "start_time": "2024-11-22T19:05:22.882Z"
   },
   {
    "duration": 8,
    "start_time": "2024-11-22T19:05:30.220Z"
   },
   {
    "duration": 13,
    "start_time": "2024-11-22T19:05:31.480Z"
   },
   {
    "duration": 10,
    "start_time": "2024-11-22T19:05:38.827Z"
   },
   {
    "duration": 11,
    "start_time": "2024-11-22T19:10:17.907Z"
   },
   {
    "duration": 31,
    "start_time": "2024-11-22T19:10:38.567Z"
   },
   {
    "duration": 22,
    "start_time": "2024-11-22T19:13:59.096Z"
   },
   {
    "duration": 5,
    "start_time": "2024-11-22T19:14:28.209Z"
   },
   {
    "duration": 127,
    "start_time": "2024-11-22T19:14:35.795Z"
   },
   {
    "duration": 33,
    "start_time": "2024-11-22T19:14:37.176Z"
   },
   {
    "duration": 21,
    "start_time": "2024-11-22T19:14:38.647Z"
   },
   {
    "duration": 63,
    "start_time": "2024-11-22T19:14:41.047Z"
   },
   {
    "duration": 5,
    "start_time": "2024-11-22T19:14:42.237Z"
   },
   {
    "duration": 3,
    "start_time": "2024-11-22T19:14:43.407Z"
   },
   {
    "duration": 19,
    "start_time": "2024-11-22T19:14:44.550Z"
   },
   {
    "duration": 34,
    "start_time": "2024-11-22T19:14:45.775Z"
   },
   {
    "duration": 17,
    "start_time": "2024-11-22T19:14:46.907Z"
   },
   {
    "duration": 39,
    "start_time": "2024-11-22T19:14:48.108Z"
   },
   {
    "duration": 62,
    "start_time": "2024-11-22T19:14:49.366Z"
   },
   {
    "duration": 60,
    "start_time": "2024-11-22T19:14:50.750Z"
   },
   {
    "duration": 60,
    "start_time": "2024-11-22T19:14:52.069Z"
   },
   {
    "duration": 5,
    "start_time": "2024-11-22T19:14:54.346Z"
   },
   {
    "duration": 2,
    "start_time": "2024-11-22T19:14:55.854Z"
   },
   {
    "duration": 14,
    "start_time": "2024-11-22T19:14:58.594Z"
   },
   {
    "duration": 6,
    "start_time": "2024-11-22T19:15:01.932Z"
   },
   {
    "duration": 9,
    "start_time": "2024-11-22T19:15:07.647Z"
   },
   {
    "duration": 8,
    "start_time": "2024-11-22T19:15:07.657Z"
   },
   {
    "duration": 12,
    "start_time": "2024-11-22T19:15:12.291Z"
   },
   {
    "duration": 20,
    "start_time": "2024-11-22T19:15:15.906Z"
   },
   {
    "duration": 8,
    "start_time": "2024-11-22T19:27:22.386Z"
   },
   {
    "duration": 8,
    "start_time": "2024-11-22T19:27:57.596Z"
   },
   {
    "duration": 6,
    "start_time": "2024-11-22T19:29:32.413Z"
   },
   {
    "duration": 572,
    "start_time": "2024-11-22T19:29:38.526Z"
   },
   {
    "duration": 2,
    "start_time": "2024-11-22T19:30:05.193Z"
   },
   {
    "duration": 111,
    "start_time": "2024-11-22T19:30:07.953Z"
   },
   {
    "duration": 10,
    "start_time": "2024-11-22T19:30:09.007Z"
   },
   {
    "duration": 22,
    "start_time": "2024-11-22T19:30:10.313Z"
   },
   {
    "duration": 55,
    "start_time": "2024-11-22T19:30:12.927Z"
   },
   {
    "duration": 9,
    "start_time": "2024-11-22T19:30:14.862Z"
   },
   {
    "duration": 3,
    "start_time": "2024-11-22T19:30:16.109Z"
   },
   {
    "duration": 19,
    "start_time": "2024-11-22T19:30:17.548Z"
   },
   {
    "duration": 25,
    "start_time": "2024-11-22T19:30:19.189Z"
   },
   {
    "duration": 18,
    "start_time": "2024-11-22T19:30:22.292Z"
   },
   {
    "duration": 43,
    "start_time": "2024-11-22T19:30:24.472Z"
   },
   {
    "duration": 42,
    "start_time": "2024-11-22T19:30:26.450Z"
   },
   {
    "duration": 42,
    "start_time": "2024-11-22T19:30:28.335Z"
   },
   {
    "duration": 36,
    "start_time": "2024-11-22T19:30:29.727Z"
   },
   {
    "duration": 5,
    "start_time": "2024-11-22T19:30:31.908Z"
   },
   {
    "duration": 2,
    "start_time": "2024-11-22T19:30:34.886Z"
   },
   {
    "duration": 15,
    "start_time": "2024-11-22T19:30:36.565Z"
   },
   {
    "duration": 5,
    "start_time": "2024-11-22T19:30:38.507Z"
   },
   {
    "duration": 9,
    "start_time": "2024-11-22T19:30:47.906Z"
   },
   {
    "duration": 9,
    "start_time": "2024-11-22T19:30:49.049Z"
   },
   {
    "duration": 10,
    "start_time": "2024-11-22T19:30:56.166Z"
   },
   {
    "duration": 19,
    "start_time": "2024-11-22T19:30:59.049Z"
   },
   {
    "duration": 69,
    "start_time": "2024-11-22T19:31:05.217Z"
   },
   {
    "duration": 3,
    "start_time": "2024-11-22T19:32:11.516Z"
   },
   {
    "duration": 5,
    "start_time": "2024-11-22T19:32:54.971Z"
   },
   {
    "duration": 2,
    "start_time": "2024-11-22T19:33:36.908Z"
   },
   {
    "duration": 115,
    "start_time": "2024-11-22T19:33:38.131Z"
   },
   {
    "duration": 9,
    "start_time": "2024-11-22T19:33:39.466Z"
   },
   {
    "duration": 30,
    "start_time": "2024-11-22T19:33:40.840Z"
   },
   {
    "duration": 55,
    "start_time": "2024-11-22T19:33:43.651Z"
   },
   {
    "duration": 5,
    "start_time": "2024-11-22T19:33:45.060Z"
   },
   {
    "duration": 3,
    "start_time": "2024-11-22T19:33:46.410Z"
   },
   {
    "duration": 26,
    "start_time": "2024-11-22T19:33:47.661Z"
   },
   {
    "duration": 34,
    "start_time": "2024-11-22T19:33:49.095Z"
   },
   {
    "duration": 26,
    "start_time": "2024-11-22T19:33:50.382Z"
   },
   {
    "duration": 43,
    "start_time": "2024-11-22T19:33:53.370Z"
   },
   {
    "duration": 54,
    "start_time": "2024-11-22T19:33:54.853Z"
   },
   {
    "duration": 67,
    "start_time": "2024-11-22T19:33:56.621Z"
   },
   {
    "duration": 58,
    "start_time": "2024-11-22T19:33:58.058Z"
   },
   {
    "duration": 5,
    "start_time": "2024-11-22T19:34:00.179Z"
   },
   {
    "duration": 3,
    "start_time": "2024-11-22T19:34:01.461Z"
   },
   {
    "duration": 14,
    "start_time": "2024-11-22T19:34:02.775Z"
   },
   {
    "duration": 7,
    "start_time": "2024-11-22T19:34:04.027Z"
   },
   {
    "duration": 11,
    "start_time": "2024-11-22T19:34:06.967Z"
   },
   {
    "duration": 8,
    "start_time": "2024-11-22T19:34:07.926Z"
   },
   {
    "duration": 14,
    "start_time": "2024-11-22T19:34:09.594Z"
   },
   {
    "duration": 22,
    "start_time": "2024-11-22T19:34:12.248Z"
   },
   {
    "duration": 4,
    "start_time": "2024-11-22T19:34:15.391Z"
   },
   {
    "duration": 3,
    "start_time": "2024-11-22T19:34:35.570Z"
   },
   {
    "duration": 5,
    "start_time": "2024-11-22T19:34:58.755Z"
   },
   {
    "duration": 3,
    "start_time": "2024-11-22T19:36:01.156Z"
   },
   {
    "duration": 4,
    "start_time": "2024-11-22T19:38:14.668Z"
   },
   {
    "duration": 317,
    "start_time": "2024-11-22T21:45:05.175Z"
   },
   {
    "duration": 143,
    "start_time": "2024-11-22T21:45:06.209Z"
   },
   {
    "duration": 14,
    "start_time": "2024-11-22T21:45:06.947Z"
   },
   {
    "duration": 24,
    "start_time": "2024-11-22T21:45:07.623Z"
   },
   {
    "duration": 56,
    "start_time": "2024-11-22T21:45:09.151Z"
   },
   {
    "duration": 5,
    "start_time": "2024-11-22T21:45:09.915Z"
   },
   {
    "duration": 3,
    "start_time": "2024-11-22T21:45:10.695Z"
   },
   {
    "duration": 18,
    "start_time": "2024-11-22T21:45:11.632Z"
   },
   {
    "duration": 25,
    "start_time": "2024-11-22T21:45:12.588Z"
   },
   {
    "duration": 18,
    "start_time": "2024-11-22T21:45:13.605Z"
   },
   {
    "duration": 38,
    "start_time": "2024-11-22T21:45:14.666Z"
   },
   {
    "duration": 42,
    "start_time": "2024-11-22T21:45:15.650Z"
   },
   {
    "duration": 42,
    "start_time": "2024-11-22T21:45:16.629Z"
   },
   {
    "duration": 38,
    "start_time": "2024-11-22T21:45:17.615Z"
   },
   {
    "duration": 5,
    "start_time": "2024-11-22T21:45:19.304Z"
   },
   {
    "duration": 2,
    "start_time": "2024-11-22T21:45:20.293Z"
   },
   {
    "duration": 14,
    "start_time": "2024-11-22T21:45:21.279Z"
   },
   {
    "duration": 6,
    "start_time": "2024-11-22T21:45:22.339Z"
   },
   {
    "duration": 10,
    "start_time": "2024-11-22T21:45:25.785Z"
   },
   {
    "duration": 9,
    "start_time": "2024-11-22T21:45:26.595Z"
   },
   {
    "duration": 12,
    "start_time": "2024-11-22T21:45:29.136Z"
   },
   {
    "duration": 20,
    "start_time": "2024-11-22T21:45:33.725Z"
   },
   {
    "duration": 5,
    "start_time": "2024-11-22T21:45:37.576Z"
   },
   {
    "duration": 3,
    "start_time": "2024-11-22T21:45:44.263Z"
   },
   {
    "duration": 4,
    "start_time": "2024-11-22T21:47:29.164Z"
   },
   {
    "duration": 3,
    "start_time": "2024-11-22T21:47:43.665Z"
   },
   {
    "duration": 8,
    "start_time": "2024-11-22T21:50:47.597Z"
   },
   {
    "duration": 9,
    "start_time": "2024-11-22T21:53:48.435Z"
   },
   {
    "duration": 9,
    "start_time": "2024-11-22T21:54:01.659Z"
   },
   {
    "duration": 2,
    "start_time": "2024-11-22T21:54:24.853Z"
   },
   {
    "duration": 110,
    "start_time": "2024-11-22T21:54:26.064Z"
   },
   {
    "duration": 10,
    "start_time": "2024-11-22T21:54:27.128Z"
   },
   {
    "duration": 21,
    "start_time": "2024-11-22T21:54:27.879Z"
   },
   {
    "duration": 62,
    "start_time": "2024-11-22T21:54:29.412Z"
   },
   {
    "duration": 6,
    "start_time": "2024-11-22T21:54:30.450Z"
   },
   {
    "duration": 4,
    "start_time": "2024-11-22T21:54:31.534Z"
   },
   {
    "duration": 17,
    "start_time": "2024-11-22T21:54:32.594Z"
   },
   {
    "duration": 24,
    "start_time": "2024-11-22T21:54:33.723Z"
   },
   {
    "duration": 18,
    "start_time": "2024-11-22T21:54:34.624Z"
   },
   {
    "duration": 38,
    "start_time": "2024-11-22T21:54:35.865Z"
   },
   {
    "duration": 43,
    "start_time": "2024-11-22T21:54:36.953Z"
   },
   {
    "duration": 41,
    "start_time": "2024-11-22T21:54:38.194Z"
   },
   {
    "duration": 35,
    "start_time": "2024-11-22T21:54:39.254Z"
   },
   {
    "duration": 6,
    "start_time": "2024-11-22T21:54:40.773Z"
   },
   {
    "duration": 2,
    "start_time": "2024-11-22T21:54:41.656Z"
   },
   {
    "duration": 14,
    "start_time": "2024-11-22T21:54:42.605Z"
   },
   {
    "duration": 5,
    "start_time": "2024-11-22T21:54:43.615Z"
   },
   {
    "duration": 9,
    "start_time": "2024-11-22T21:54:46.215Z"
   },
   {
    "duration": 9,
    "start_time": "2024-11-22T21:54:46.733Z"
   },
   {
    "duration": 11,
    "start_time": "2024-11-22T21:54:48.103Z"
   },
   {
    "duration": 20,
    "start_time": "2024-11-22T21:54:49.502Z"
   },
   {
    "duration": 8,
    "start_time": "2024-11-22T21:54:57.263Z"
   },
   {
    "duration": 94,
    "start_time": "2024-11-22T22:00:41.486Z"
   },
   {
    "duration": 2,
    "start_time": "2024-11-22T22:00:56.792Z"
   },
   {
    "duration": 112,
    "start_time": "2024-11-22T22:00:57.630Z"
   },
   {
    "duration": 10,
    "start_time": "2024-11-22T22:00:58.723Z"
   },
   {
    "duration": 23,
    "start_time": "2024-11-22T22:00:59.118Z"
   },
   {
    "duration": 56,
    "start_time": "2024-11-22T22:01:01.533Z"
   },
   {
    "duration": 5,
    "start_time": "2024-11-22T22:01:03.764Z"
   },
   {
    "duration": 3,
    "start_time": "2024-11-22T22:01:04.649Z"
   },
   {
    "duration": 18,
    "start_time": "2024-11-22T22:01:05.644Z"
   },
   {
    "duration": 23,
    "start_time": "2024-11-22T22:01:07.124Z"
   },
   {
    "duration": 17,
    "start_time": "2024-11-22T22:01:08.147Z"
   },
   {
    "duration": 38,
    "start_time": "2024-11-22T22:01:09.122Z"
   },
   {
    "duration": 41,
    "start_time": "2024-11-22T22:01:10.086Z"
   },
   {
    "duration": 41,
    "start_time": "2024-11-22T22:01:11.153Z"
   },
   {
    "duration": 36,
    "start_time": "2024-11-22T22:01:12.117Z"
   },
   {
    "duration": 5,
    "start_time": "2024-11-22T22:01:14.019Z"
   },
   {
    "duration": 2,
    "start_time": "2024-11-22T22:01:15.312Z"
   },
   {
    "duration": 13,
    "start_time": "2024-11-22T22:01:16.509Z"
   },
   {
    "duration": 6,
    "start_time": "2024-11-22T22:01:17.672Z"
   },
   {
    "duration": 8,
    "start_time": "2024-11-22T22:01:20.574Z"
   },
   {
    "duration": 10,
    "start_time": "2024-11-22T22:01:21.554Z"
   },
   {
    "duration": 12,
    "start_time": "2024-11-22T22:01:23.094Z"
   },
   {
    "duration": 19,
    "start_time": "2024-11-22T22:01:24.975Z"
   },
   {
    "duration": 7,
    "start_time": "2024-11-22T22:01:28.167Z"
   },
   {
    "duration": 14,
    "start_time": "2024-11-22T22:01:30.590Z"
   },
   {
    "duration": 465,
    "start_time": "2024-11-22T22:08:57.880Z"
   },
   {
    "duration": 45,
    "start_time": "2024-11-22T22:09:21.788Z"
   },
   {
    "duration": 2,
    "start_time": "2024-11-22T22:19:59.750Z"
   },
   {
    "duration": 113,
    "start_time": "2024-11-22T22:20:03.734Z"
   },
   {
    "duration": 10,
    "start_time": "2024-11-22T22:20:05.844Z"
   },
   {
    "duration": 23,
    "start_time": "2024-11-22T22:20:07.584Z"
   },
   {
    "duration": 60,
    "start_time": "2024-11-22T22:20:10.599Z"
   },
   {
    "duration": 15,
    "start_time": "2024-11-22T22:20:12.182Z"
   },
   {
    "duration": 3,
    "start_time": "2024-11-22T22:20:13.493Z"
   },
   {
    "duration": 25,
    "start_time": "2024-11-22T22:20:14.968Z"
   },
   {
    "duration": 41,
    "start_time": "2024-11-22T22:20:16.331Z"
   },
   {
    "duration": 19,
    "start_time": "2024-11-22T22:20:17.533Z"
   },
   {
    "duration": 39,
    "start_time": "2024-11-22T22:20:18.769Z"
   },
   {
    "duration": 59,
    "start_time": "2024-11-22T22:20:20.094Z"
   },
   {
    "duration": 62,
    "start_time": "2024-11-22T22:20:21.372Z"
   },
   {
    "duration": 36,
    "start_time": "2024-11-22T22:20:22.568Z"
   },
   {
    "duration": 5,
    "start_time": "2024-11-22T22:20:24.525Z"
   },
   {
    "duration": 3,
    "start_time": "2024-11-22T22:20:26.139Z"
   },
   {
    "duration": 14,
    "start_time": "2024-11-22T22:20:27.570Z"
   },
   {
    "duration": 5,
    "start_time": "2024-11-22T22:20:28.966Z"
   },
   {
    "duration": 8,
    "start_time": "2024-11-22T22:20:33.143Z"
   },
   {
    "duration": 9,
    "start_time": "2024-11-22T22:20:34.616Z"
   },
   {
    "duration": 11,
    "start_time": "2024-11-22T22:20:36.715Z"
   },
   {
    "duration": 21,
    "start_time": "2024-11-22T22:20:42.146Z"
   },
   {
    "duration": 38,
    "start_time": "2024-11-22T22:20:45.381Z"
   },
   {
    "duration": 20,
    "start_time": "2024-11-22T22:22:35.645Z"
   },
   {
    "duration": 39,
    "start_time": "2024-11-22T22:22:40.329Z"
   },
   {
    "duration": 38,
    "start_time": "2024-11-22T22:23:08.086Z"
   },
   {
    "duration": 38,
    "start_time": "2024-11-22T22:23:33.141Z"
   },
   {
    "duration": 9,
    "start_time": "2024-11-22T22:23:57.578Z"
   },
   {
    "duration": 9,
    "start_time": "2024-11-22T22:24:15.362Z"
   },
   {
    "duration": 5,
    "start_time": "2024-11-22T22:24:46.903Z"
   },
   {
    "duration": 315,
    "start_time": "2024-11-22T22:45:36.918Z"
   },
   {
    "duration": 143,
    "start_time": "2024-11-22T22:45:37.235Z"
   },
   {
    "duration": 13,
    "start_time": "2024-11-22T22:45:37.380Z"
   },
   {
    "duration": 22,
    "start_time": "2024-11-22T22:45:37.395Z"
   },
   {
    "duration": 68,
    "start_time": "2024-11-22T22:45:37.419Z"
   },
   {
    "duration": 7,
    "start_time": "2024-11-22T22:45:37.488Z"
   },
   {
    "duration": 3,
    "start_time": "2024-11-22T22:45:37.497Z"
   },
   {
    "duration": 18,
    "start_time": "2024-11-22T22:45:37.502Z"
   },
   {
    "duration": 51,
    "start_time": "2024-11-22T22:45:37.521Z"
   },
   {
    "duration": 16,
    "start_time": "2024-11-22T22:45:37.575Z"
   },
   {
    "duration": 38,
    "start_time": "2024-11-22T22:45:37.593Z"
   },
   {
    "duration": 62,
    "start_time": "2024-11-22T22:45:37.633Z"
   },
   {
    "duration": 42,
    "start_time": "2024-11-22T22:45:37.697Z"
   },
   {
    "duration": 47,
    "start_time": "2024-11-22T22:45:37.740Z"
   },
   {
    "duration": 4,
    "start_time": "2024-11-22T22:45:37.790Z"
   },
   {
    "duration": 3,
    "start_time": "2024-11-22T22:45:37.796Z"
   },
   {
    "duration": 15,
    "start_time": "2024-11-22T22:45:37.801Z"
   },
   {
    "duration": 5,
    "start_time": "2024-11-22T22:45:37.817Z"
   },
   {
    "duration": 8,
    "start_time": "2024-11-22T22:45:37.823Z"
   },
   {
    "duration": 37,
    "start_time": "2024-11-22T22:45:37.834Z"
   },
   {
    "duration": 10,
    "start_time": "2024-11-22T22:45:37.873Z"
   },
   {
    "duration": 19,
    "start_time": "2024-11-22T22:45:37.885Z"
   },
   {
    "duration": 7,
    "start_time": "2024-11-22T22:45:37.905Z"
   },
   {
    "duration": 6,
    "start_time": "2024-11-22T22:45:37.914Z"
   }
  ],
  "kernelspec": {
   "display_name": "Python 3 (ipykernel)",
   "language": "python",
   "name": "python3"
  },
  "language_info": {
   "codemirror_mode": {
    "name": "ipython",
    "version": 3
   },
   "file_extension": ".py",
   "mimetype": "text/x-python",
   "name": "python",
   "nbconvert_exporter": "python",
   "pygments_lexer": "ipython3",
   "version": "3.9.19"
  },
  "toc": {
   "base_numbering": 1,
   "nav_menu": {},
   "number_sections": true,
   "sideBar": true,
   "skip_h1_title": true,
   "title_cell": "Table of Contents",
   "title_sidebar": "Contents",
   "toc_cell": false,
   "toc_position": {},
   "toc_section_display": true,
   "toc_window_display": false
  }
 },
 "nbformat": 4,
 "nbformat_minor": 5
}
