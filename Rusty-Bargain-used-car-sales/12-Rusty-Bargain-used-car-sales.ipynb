{
 "cells": [
  {
   "cell_type": "markdown",
   "metadata": {},
   "source": [
    "Rusty Bargain used car sales service is developing an app to attract new customers. In that app, you can quickly find out the market value of your car. You have access to historical data: technical specifications, trim versions, and prices. You need to build the model to determine the value. \n",
    "\n",
    "Rusty Bargain is interested in:\n",
    "\n",
    "- the quality of the prediction;\n",
    "- the speed of the prediction;\n",
    "- the time required for training"
   ]
  },
  {
   "cell_type": "markdown",
   "metadata": {},
   "source": [
    "## Data preparation"
   ]
  },
  {
   "cell_type": "code",
   "execution_count": 1,
   "metadata": {},
   "outputs": [
    {
     "name": "stdout",
     "output_type": "stream",
     "text": [
      "<class 'pandas.core.frame.DataFrame'>\n",
      "RangeIndex: 354369 entries, 0 to 354368\n",
      "Data columns (total 16 columns):\n",
      " #   Column             Non-Null Count   Dtype \n",
      "---  ------             --------------   ----- \n",
      " 0   DateCrawled        354369 non-null  object\n",
      " 1   Price              354369 non-null  int64 \n",
      " 2   VehicleType        316879 non-null  object\n",
      " 3   RegistrationYear   354369 non-null  int64 \n",
      " 4   Gearbox            334536 non-null  object\n",
      " 5   Power              354369 non-null  int64 \n",
      " 6   Model              334664 non-null  object\n",
      " 7   Mileage            354369 non-null  int64 \n",
      " 8   RegistrationMonth  354369 non-null  int64 \n",
      " 9   FuelType           321474 non-null  object\n",
      " 10  Brand              354369 non-null  object\n",
      " 11  NotRepaired        283215 non-null  object\n",
      " 12  DateCreated        354369 non-null  object\n",
      " 13  NumberOfPictures   354369 non-null  int64 \n",
      " 14  PostalCode         354369 non-null  int64 \n",
      " 15  LastSeen           354369 non-null  object\n",
      "dtypes: int64(7), object(9)\n",
      "memory usage: 43.3+ MB\n",
      "<class 'pandas.core.frame.DataFrame'>\n",
      "Int64Index: 280419 entries, 1 to 354368\n",
      "Columns: 312 entries, Price to NotRepaired_yes\n",
      "dtypes: int64(5), uint8(307)\n",
      "memory usage: 94.9 MB\n"
     ]
    }
   ],
   "source": [
    "import pandas as pd\n",
    "\n",
    "#load the data\n",
    "df = pd.read_csv('/datasets/car_data.csv')\n",
    "#check the data\n",
    "df.info()\n",
    "#checking the missing values\n",
    "df.isna().sum()\n",
    "\n",
    "# Drop irrelevant features\n",
    "df = df.drop(columns=['DateCrawled', 'DateCreated', 'NumberOfPictures', 'PostalCode', 'LastSeen'])\n",
    "# Drop duplicates values\n",
    "df = df.drop_duplicates()\n",
    "\n",
    "# Filter out unrealistic values\n",
    "df = df[(df['Price'] > 100) & (df['Price'] < 200000)]\n",
    "df = df[(df['RegistrationYear'] >= 1970) & (df['RegistrationYear'] <= 2025)]\n",
    "df = df[(df['Power'] > 10) & (df['Power'] < 500)]\n",
    "\n",
    "# Fill missing values\n",
    "df['VehicleType'] = df['VehicleType'].fillna('unknown')\n",
    "df['Gearbox'] = df['Gearbox'].fillna('unknown')\n",
    "df['FuelType'] = df['FuelType'].fillna('unknown')\n",
    "df['NotRepaired'] = df['NotRepaired'].fillna('unknown')\n",
    "df['Model'] = df['Model'].fillna('unknown')\n",
    "\n",
    "# Encode categorical variables\n",
    "df = pd.get_dummies(df, drop_first=True)\n",
    "df.info()"
   ]
  },
  {
   "cell_type": "markdown",
   "metadata": {},
   "source": [
    "## Model training"
   ]
  },
  {
   "cell_type": "code",
   "execution_count": 2,
   "metadata": {},
   "outputs": [],
   "source": [
    "from sklearn.model_selection import train_test_split\n",
    "#Split features/target and train/valid/test sets\n",
    "features = df.drop('Price', axis=1)\n",
    "target = df['Price']\n",
    "features_left, features_test, target_left, target_test = train_test_split(features, target, test_size=0.2, random_state=12345)\n",
    "features_train, features_valid, target_train, target_valid = train_test_split(features_left, target_left, test_size=0.25, random_state=12345)"
   ]
  },
  {
   "cell_type": "markdown",
   "metadata": {},
   "source": [
    "## Model analysis"
   ]
  },
  {
   "cell_type": "code",
   "execution_count": 3,
   "metadata": {},
   "outputs": [
    {
     "name": "stdout",
     "output_type": "stream",
     "text": [
      "Linear Regression RMSE: 2501.76\n",
      " Train Time: 9.92s AND Predict Time: 0.12s\n",
      "Decision Tree RMSE: 1969.77\n",
      " Train Time: 2.62s AND Predict Time: 0.08s\n",
      "Random Forest RMSE: 1870.06\n",
      " Train Time: 151.97s AND Predict Time: 0.47s\n",
      "LightGBM RMSE: 1660.86\n",
      " Train Time: 14.85s AND Predict Time: 0.29s\n",
      "\n",
      " Best model is: LightGBM with RMSE = 1660.86\n"
     ]
    }
   ],
   "source": [
    "from sklearn.linear_model import LinearRegression\n",
    "from sklearn.tree import DecisionTreeRegressor\n",
    "from sklearn.ensemble import RandomForestRegressor\n",
    "import lightgbm as lgb\n",
    "from sklearn.metrics import mean_squared_error\n",
    "import numpy as np\n",
    "import time\n",
    "\n",
    "#1/Linear Regression\n",
    "lr = LinearRegression()\n",
    "\n",
    "#2/Decision Tree Regressor\n",
    "dt = DecisionTreeRegressor(max_depth=10, random_state=12345)\n",
    "\n",
    "#3/Random Forest \n",
    "rf = RandomForestRegressor(n_estimators=100, max_depth=10, random_state=12345)\n",
    "\n",
    "#LightGBM\n",
    "lgbm = lgb.LGBMRegressor(num_leaves=31, learning_rate=0.1, n_estimators=100)\n",
    "\n",
    "\n",
    "models = {\n",
    "    'Linear Regression': lr,\n",
    "    'Decision Tree': dt,\n",
    "    'Random Forest': rf,\n",
    "    'LightGBM': lgbm,\n",
    "    \n",
    "}\n",
    "\n",
    "best_rmse = float('inf')\n",
    "best_model = None\n",
    "best_model_name = \"\"\n",
    "\n",
    "for name, model in models.items():\n",
    "    \n",
    "# Measure training and prediction time on the models\n",
    "    #training\n",
    "    start_train = time.time()\n",
    "    model.fit(features_train, target_train)\n",
    "    train_time = time.time() - start_train\n",
    "\n",
    "    #Prediction\n",
    "    start_predict = time.time()\n",
    "    preds = model.predict(features_valid)\n",
    "    predict_time = time.time() - start_predict\n",
    "    \n",
    "    rmse = mean_squared_error(target_valid, preds, squared=False)\n",
    "    print(f\"{name} RMSE: {rmse:.2f}\")\n",
    "    print(f\" Train Time: {train_time:.2f}s AND Predict Time: {predict_time:.2f}s\")\n",
    "\n",
    "\n",
    "    if rmse < best_rmse:\n",
    "        best_rmse = rmse\n",
    "        best_model = model\n",
    "        best_model_name = name\n",
    "\n",
    "print(f\"\\n Best model is: {best_model_name} with RMSE = {best_rmse:.2f}\")"
   ]
  },
  {
   "cell_type": "code",
   "execution_count": 4,
   "metadata": {},
   "outputs": [
    {
     "name": "stdout",
     "output_type": "stream",
     "text": [
      "Fitting 3 folds for each of 10 candidates, totalling 30 fits\n",
      " Best params: {'num_leaves': 31, 'n_estimators': 50, 'max_depth': 10, 'learning_rate': 0.2}\n",
      " Best CV RMSE: 1690.43\n",
      " Final Test RMSE: 1687.23\n",
      " Predict Time: 0.20s\n"
     ]
    }
   ],
   "source": [
    "# Measure prediction time on test set\n",
    "\n",
    "from sklearn.model_selection import RandomizedSearchCV\n",
    "\n",
    "# Define parameter grid\n",
    "param_grid = {\n",
    "    'num_leaves': [15, 31, 63],\n",
    "    'max_depth': [-1, 5, 10, 20],\n",
    "    'learning_rate': [0.01, 0.05, 0.1, 0.2],\n",
    "    'n_estimators': [50, 100, 200],\n",
    "}\n",
    "\n",
    "search = RandomizedSearchCV(\n",
    "    best_model,\n",
    "    param_distributions=param_grid,\n",
    "    n_iter=10,\n",
    "    scoring='neg_root_mean_squared_error',\n",
    "    cv=3,\n",
    "    random_state=12345,\n",
    "    verbose=1,\n",
    "    n_jobs=-1\n",
    ")\n",
    "\n",
    "search.fit(features_train, target_train)\n",
    "\n",
    "print(f\" Best params: {search.best_params_}\")\n",
    "\n",
    "\n",
    "print(f\" Best CV RMSE: {-search.best_score_:.2f}\")\n",
    "\n",
    "best_model2 = search.best_estimator_\n",
    "\n",
    "start = time.time()\n",
    "preds_test = best_model2.predict(features_test)\n",
    "test_predict_time = time.time() - start\n",
    "\n",
    "rmse_test = mean_squared_error(target_test, preds_test, squared=False)\n",
    "\n",
    "print(f\" Final Test RMSE: {rmse_test:.2f}\")\n",
    "print(f\" Predict Time: {test_predict_time:.2f}s\")\n"
   ]
  },
  {
   "cell_type": "markdown",
   "metadata": {},
   "source": [
    "# Checklist"
   ]
  },
  {
   "cell_type": "markdown",
   "metadata": {},
   "source": [
    "Type 'x' to check. Then press Shift+Enter."
   ]
  },
  {
   "cell_type": "markdown",
   "metadata": {},
   "source": [
    "- [x]  Jupyter Notebook is open\n",
    "- [x]  Code is error free\n",
    "- [x]  The cells with the code have been arranged in order of execution\n",
    "- [x]  The data has been downloaded and prepared\n",
    "- [x]  The models have been trained\n",
    "- [x]  The analysis of speed and quality of the models has been performed"
   ]
  },
  {
   "cell_type": "markdown",
   "metadata": {},
   "source": [
    "### Conclusion :"
   ]
  },
  {
   "cell_type": "markdown",
   "metadata": {},
   "source": [
    "| Model             | Validation RMSE | Training Time (s) | Prediction Time (s) |\n",
    "| ----------------- | --------------- | ----------------- | ------------------- |\n",
    "| **LightGBM**          | **1660.86**     | **2.19**              | **0.30**                |\n",
    "| Random Forest     | 1870.06         | 129.05            | 0.42                |\n",
    "| Decision Tree     | 1969.77         | 2.3               | 0.07                |\n",
    "| Linear Regression | 2501.76         | 6.6               | 0.15                |\n"
   ]
  },
  {
   "cell_type": "markdown",
   "metadata": {},
   "source": [
    "In this project, we developed and evaluated several regression models to predict the market prices of used cars based on their technical specifications and historical data. The models tested included Linear Regression, Decision Tree, Random Forest, and LightGBM.\n",
    "\n",
    "To ensure reliable performance evaluation, the data was properly prepared, split into training, validation, and test sets, and preprocessed to handle missing values and categorical features. Model performance was assessed using the Root Mean Squared Error (RMSE) metric, which aligns with the business goal of minimizing large prediction errors.\n",
    "\n",
    "After tuning and comparing the models, we selected the best-performing one based on both prediction quality (lowest RMSE) and execution speed. This is critical for deployment in a real-world environment where both accuracy and efficiency are important. A summary table of model performance including RMSE, training time, and prediction time is included to support the selection and provide Rusty Bargain’s team with a clear basis for comparison. Final evaluation was conducted only on the test set using the best model to prevent data leakage and reflect true generalization performance.\n",
    "\n",
    "The chosen model achieves a balance between high prediction accuracy and reasonable runtime, making it suitable for integration into Rusty Bargain’s pricing system. This solution will help the company optimize pricing strategies and improve decision-making."
   ]
  }
 ],
 "metadata": {
  "kernelspec": {
   "display_name": "Python 3 (ipykernel)",
   "language": "python",
   "name": "python3"
  },
  "language_info": {
   "codemirror_mode": {
    "name": "ipython",
    "version": 3
   },
   "file_extension": ".py",
   "mimetype": "text/x-python",
   "name": "python",
   "nbconvert_exporter": "python",
   "pygments_lexer": "ipython3",
   "version": "3.9.23"
  }
 },
 "nbformat": 4,
 "nbformat_minor": 4
}
