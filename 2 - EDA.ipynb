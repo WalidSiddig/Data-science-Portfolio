{
 "cells": [
  {
   "cell_type": "markdown",
   "id": "882ce72b",
   "metadata": {},
   "source": [
    "The primary goal of this project is to analyze customer behavior and purchasing patterns from the Instacart dataset. By understanding when and what customers buy, as well as how they interact with the platform, the study aimed to generate actionable insights to improve operational efficiency, optimize marketing strategies, and enhance the overall shopping experience."
   ]
  },
  {
   "cell_type": "markdown",
   "id": "806cc736",
   "metadata": {},
   "source": [
    " Main Steps\n",
    "Data Preprocessing\n",
    "Objective: Clean the raw data to make it usable for analysis.\n",
    "Actions Taken: Fixed data types, handled missing values, and removed duplicates.\n",
    "Outcome: A clean dataset ready for exploration and deeper analysis.\n",
    "Exploratory Data Analysis (EDA)\n",
    "Objective: Identify patterns and trends in customer behavior.\n",
    "Actions Taken:\n",
    "Analyzed shopping patterns by time (hour of day, day of the week).\n",
    "Studied the frequency of reorders and the types of products customers buy.\n",
    "Investigated order sizes and distribution of products in carts.\n",
    "Outcome: A comprehensive understanding of customer purchasing habits.\n",
    "Insights and Recommendations\n",
    "Objective: Translate findings into actionable business strategies.\n",
    "Actions Taken: Identified peak shopping times, top products, and customer preferences for reorders.\n",
    "Outcome: Proposed strategies for improving operations, customer satisfaction, and sales."
   ]
  },
  {
   "cell_type": "code",
   "execution_count": 1,
   "id": "fbf1adab",
   "metadata": {
    "trusted": false
   },
   "outputs": [],
   "source": [
    "import pandas as pd"
   ]
  },
  {
   "cell_type": "code",
   "execution_count": 2,
   "id": "ad36396d",
   "metadata": {
    "trusted": false
   },
   "outputs": [],
   "source": [
    "from matplotlib import pyplot as plt"
   ]
  },
  {
   "cell_type": "code",
   "execution_count": 3,
   "id": "ad6a1efa",
   "metadata": {
    "trusted": false
   },
   "outputs": [],
   "source": [
    "orders_df = pd.read_csv(\"/datasets/instacart_orders.csv\",sep=';')"
   ]
  },
  {
   "cell_type": "code",
   "execution_count": 4,
   "id": "5130e05e",
   "metadata": {
    "trusted": false
   },
   "outputs": [],
   "source": [
    "products_df = pd.read_csv('/datasets/products.csv',sep=';')"
   ]
  },
  {
   "cell_type": "code",
   "execution_count": 5,
   "id": "d8370c05",
   "metadata": {
    "trusted": false
   },
   "outputs": [],
   "source": [
    "order_products_df = pd.read_csv('/datasets/order_products.csv',sep=';')"
   ]
  },
  {
   "cell_type": "code",
   "execution_count": 6,
   "id": "59e2090f",
   "metadata": {
    "trusted": false
   },
   "outputs": [],
   "source": [
    "aisles_df = pd.read_csv('/datasets/aisles.csv',sep=';')"
   ]
  },
  {
   "cell_type": "code",
   "execution_count": 7,
   "id": "6fc81694",
   "metadata": {
    "trusted": false
   },
   "outputs": [],
   "source": [
    "departments_df = pd.read_csv('/datasets/departments.csv',sep=';')"
   ]
  },
  {
   "cell_type": "markdown",
   "id": "07357848-dc64-4156-9cc3-01ff4365226d",
   "metadata": {},
   "source": [
    "## Find and remove duplicate values (and describe why you make your choices)"
   ]
  },
  {
   "cell_type": "markdown",
   "id": "f179f0a9",
   "metadata": {},
   "source": [
    "### `orders` data frame"
   ]
  },
  {
   "cell_type": "code",
   "execution_count": 8,
   "id": "0d44de5d",
   "metadata": {
    "trusted": false
   },
   "outputs": [
    {
     "name": "stdout",
     "output_type": "stream",
     "text": [
      "how many duplicate values for all orders placed Wednesday at 2:00 AM?  15 duplicate values\n"
     ]
    }
   ],
   "source": [
    "# Check for all orders placed Wednesday at 2:00 AM\n",
    "#print(orders_df[(orders_df['order_dow']== 3) & (orders_df['order_hour_of_day']== 2)].duplicated())\n",
    "filtered_data = orders_df[(orders_df['order_dow'] == 3) & (orders_df['order_hour_of_day'] == 2)].duplicated()\n",
    "print('how many duplicate values for all orders placed Wednesday at 2:00 AM? ',filtered_data.sum(),'duplicate values')"
   ]
  },
  {
   "cell_type": "code",
   "execution_count": 9,
   "id": "b99297a5-405a-463d-8535-9adc3da4ad74",
   "metadata": {
    "trusted": false
   },
   "outputs": [
    {
     "name": "stdout",
     "output_type": "stream",
     "text": [
      "15\n",
      "        order_id  user_id  order_number  order_dow  order_hour_of_day  \\\n",
      "145574    794638    50898            24          3                  2   \n",
      "223105   2160484   107525            16          3                  2   \n",
      "230807   1918001   188546            14          3                  2   \n",
      "266232   1782114   106752             1          3                  2   \n",
      "273805   1112182   202304            84          3                  2   \n",
      "284038   2845099    31189            11          3                  2   \n",
      "311713   1021560    53767             3          3                  2   \n",
      "321100    408114    68324             4          3                  2   \n",
      "323900   1919531   191501            32          3                  2   \n",
      "345917   2232988    82565             1          3                  2   \n",
      "371905    391768    57671            19          3                  2   \n",
      "394347    467134    63189            21          3                  2   \n",
      "411408   1286742   183220            48          3                  2   \n",
      "415163   2282673    86751            49          3                  2   \n",
      "441599   2125197    14050            48          3                  2   \n",
      "\n",
      "        days_since_prior_order  \n",
      "145574                     2.0  \n",
      "223105                    30.0  \n",
      "230807                    16.0  \n",
      "266232                     NaN  \n",
      "273805                     6.0  \n",
      "284038                     7.0  \n",
      "311713                     9.0  \n",
      "321100                    18.0  \n",
      "323900                     7.0  \n",
      "345917                     NaN  \n",
      "371905                    10.0  \n",
      "394347                     2.0  \n",
      "411408                     4.0  \n",
      "415163                     2.0  \n",
      "441599                     3.0  \n",
      "order_id                  22748225.0\n",
      "user_id                    1488252.0\n",
      "order_number                   375.0\n",
      "order_dow                       45.0\n",
      "order_hour_of_day               30.0\n",
      "days_since_prior_order         116.0\n",
      "dtype: float64\n"
     ]
    }
   ],
   "source": [
    "# Check for duplicated orders\n",
    "print(orders_df.duplicated().sum())\n",
    "duplicated_order_df = orders_df[orders_df.duplicated()]\n",
    "print(duplicated_order_df)\n",
    "print(duplicated_order_df.sum())"
   ]
  },
  {
   "cell_type": "code",
   "execution_count": 10,
   "id": "480563c7",
   "metadata": {
    "trusted": false
   },
   "outputs": [],
   "source": [
    "# Remove duplicate orders\n",
    "orders_df.drop_duplicates(inplace=True)"
   ]
  },
  {
   "cell_type": "code",
   "execution_count": 11,
   "id": "0b2396a2",
   "metadata": {
    "trusted": false
   },
   "outputs": [
    {
     "name": "stdout",
     "output_type": "stream",
     "text": [
      "0\n"
     ]
    }
   ],
   "source": [
    "# Double check for duplicate rows\n",
    "print(orders_df.duplicated().all().sum())"
   ]
  },
  {
   "cell_type": "code",
   "execution_count": 12,
   "id": "f6113ef1",
   "metadata": {
    "trusted": false
   },
   "outputs": [
    {
     "name": "stdout",
     "output_type": "stream",
     "text": [
      "order_id                  0.0\n",
      "user_id                   0.0\n",
      "order_number              0.0\n",
      "order_dow                 0.0\n",
      "order_hour_of_day         0.0\n",
      "days_since_prior_order    0.0\n",
      "dtype: float64\n"
     ]
    }
   ],
   "source": [
    "# Double check for duplicate order IDs only\n",
    "duplicated_order_id = orders_df[orders_df['order_id'].duplicated()]\n",
    "print(duplicated_order_id.sum())\n",
    "\n",
    "#on the order_id column shows no duplicated values "
   ]
  },
  {
   "cell_type": "markdown",
   "id": "45e6bc46",
   "metadata": {},
   "source": [
    "### `products` data frame"
   ]
  },
  {
   "cell_type": "code",
   "execution_count": 13,
   "id": "5f526b5b-8175-46fa-a0fd-441767d50e64",
   "metadata": {
    "trusted": false
   },
   "outputs": [
    {
     "name": "stdout",
     "output_type": "stream",
     "text": [
      "0\n",
      "\n",
      "product_id       0.0\n",
      "product_name     0.0\n",
      "aisle_id         0.0\n",
      "department_id    0.0\n",
      "dtype: float64\n"
     ]
    }
   ],
   "source": [
    "# Check for fully duplicate rows\n",
    "print(products_df.duplicated().sum())\n",
    "print()\n",
    "duplicate_product_df= products_df[products_df.duplicated()]\n",
    "print(duplicate_product_df.sum())\n"
   ]
  },
  {
   "cell_type": "code",
   "execution_count": 14,
   "id": "88daa4f4",
   "metadata": {
    "trusted": false
   },
   "outputs": [
    {
     "name": "stdout",
     "output_type": "stream",
     "text": [
      "0\n"
     ]
    }
   ],
   "source": [
    "# Check for just duplicate product IDs\n",
    "print(products_df['product_id'].duplicated().sum())"
   ]
  },
  {
   "cell_type": "code",
   "execution_count": 15,
   "id": "c773f0bf",
   "metadata": {
    "scrolled": true,
    "trusted": false
   },
   "outputs": [
    {
     "name": "stdout",
     "output_type": "stream",
     "text": [
      "0                           Chocolate Sandwich Cookies\n",
      "1                                     All-Seasons Salt\n",
      "2                 Robust Golden Unsweetened Oolong Tea\n",
      "3    Smart Ones Classic Favorites Mini Rigatoni Wit...\n",
      "4                            Green Chile Anytime Sauce\n",
      "Name: product_name, dtype: object\n",
      "1465\n"
     ]
    }
   ],
   "source": [
    "# Check for just duplicate product names (convert names to lowercase to compare better)\n",
    "print(products_df['product_name'].head())\n",
    "products_df['product_name']= products_df['product_name'].str.lower()\n",
    "duplicate_product_name= products_df['product_name'].duplicated(keep=False)\n",
    "\n",
    "print(duplicate_product_name.sum())\n",
    "products_df['product_name'].drop_duplicates(inplace=True)\n"
   ]
  },
  {
   "cell_type": "code",
   "execution_count": 16,
   "id": "01efd02e",
   "metadata": {
    "trusted": false
   },
   "outputs": [
    {
     "name": "stdout",
     "output_type": "stream",
     "text": [
      "207\n"
     ]
    }
   ],
   "source": [
    "# Check for duplicate product names that aren't missing\n",
    "duplicates_not_missing = products_df[~products_df['product_name'].isna() & duplicate_product_name]\n",
    "#print(duplicates_not_missing.shape[0])\n",
    "#print(duplicates_not_missing.count())\n",
    "print(duplicates_not_missing['product_name'].count())"
   ]
  },
  {
   "cell_type": "markdown",
   "id": "60f30db1",
   "metadata": {},
   "source": [
    "### `departments` data frame"
   ]
  },
  {
   "cell_type": "code",
   "execution_count": 17,
   "id": "fb410ad4-0fbf-4b80-bb09-23fdea79afe3",
   "metadata": {
    "trusted": false
   },
   "outputs": [
    {
     "data": {
      "text/html": [
       "<div>\n",
       "<style scoped>\n",
       "    .dataframe tbody tr th:only-of-type {\n",
       "        vertical-align: middle;\n",
       "    }\n",
       "\n",
       "    .dataframe tbody tr th {\n",
       "        vertical-align: top;\n",
       "    }\n",
       "\n",
       "    .dataframe thead th {\n",
       "        text-align: right;\n",
       "    }\n",
       "</style>\n",
       "<table border=\"1\" class=\"dataframe\">\n",
       "  <thead>\n",
       "    <tr style=\"text-align: right;\">\n",
       "      <th></th>\n",
       "      <th>department_id</th>\n",
       "      <th>department</th>\n",
       "    </tr>\n",
       "  </thead>\n",
       "  <tbody>\n",
       "    <tr>\n",
       "      <th>0</th>\n",
       "      <td>1</td>\n",
       "      <td>frozen</td>\n",
       "    </tr>\n",
       "    <tr>\n",
       "      <th>1</th>\n",
       "      <td>2</td>\n",
       "      <td>other</td>\n",
       "    </tr>\n",
       "    <tr>\n",
       "      <th>2</th>\n",
       "      <td>3</td>\n",
       "      <td>bakery</td>\n",
       "    </tr>\n",
       "    <tr>\n",
       "      <th>3</th>\n",
       "      <td>4</td>\n",
       "      <td>produce</td>\n",
       "    </tr>\n",
       "    <tr>\n",
       "      <th>4</th>\n",
       "      <td>5</td>\n",
       "      <td>alcohol</td>\n",
       "    </tr>\n",
       "  </tbody>\n",
       "</table>\n",
       "</div>"
      ],
      "text/plain": [
       "   department_id department\n",
       "0              1     frozen\n",
       "1              2      other\n",
       "2              3     bakery\n",
       "3              4    produce\n",
       "4              5    alcohol"
      ]
     },
     "execution_count": 17,
     "metadata": {},
     "output_type": "execute_result"
    }
   ],
   "source": [
    "departments_df.head()"
   ]
  },
  {
   "cell_type": "code",
   "execution_count": 18,
   "id": "332b12bb",
   "metadata": {
    "trusted": false
   },
   "outputs": [
    {
     "name": "stdout",
     "output_type": "stream",
     "text": [
      "<class 'pandas.core.frame.DataFrame'>\n",
      "RangeIndex: 21 entries, 0 to 20\n",
      "Data columns (total 2 columns):\n",
      " #   Column         Non-Null Count  Dtype \n",
      "---  ------         --------------  ----- \n",
      " 0   department_id  21 non-null     int64 \n",
      " 1   department     21 non-null     object\n",
      "dtypes: int64(1), object(1)\n",
      "memory usage: 464.0+ bytes\n"
     ]
    }
   ],
   "source": [
    "departments_df.info()"
   ]
  },
  {
   "cell_type": "markdown",
   "id": "889349c1",
   "metadata": {},
   "source": [
    "### `aisles` data frame"
   ]
  },
  {
   "cell_type": "code",
   "execution_count": 19,
   "id": "9da89fb9-4679-40f5-ad0d-c34df753a3f8",
   "metadata": {
    "trusted": false
   },
   "outputs": [
    {
     "data": {
      "text/html": [
       "<div>\n",
       "<style scoped>\n",
       "    .dataframe tbody tr th:only-of-type {\n",
       "        vertical-align: middle;\n",
       "    }\n",
       "\n",
       "    .dataframe tbody tr th {\n",
       "        vertical-align: top;\n",
       "    }\n",
       "\n",
       "    .dataframe thead th {\n",
       "        text-align: right;\n",
       "    }\n",
       "</style>\n",
       "<table border=\"1\" class=\"dataframe\">\n",
       "  <thead>\n",
       "    <tr style=\"text-align: right;\">\n",
       "      <th></th>\n",
       "      <th>aisle_id</th>\n",
       "      <th>aisle</th>\n",
       "    </tr>\n",
       "  </thead>\n",
       "  <tbody>\n",
       "    <tr>\n",
       "      <th>0</th>\n",
       "      <td>1</td>\n",
       "      <td>prepared soups salads</td>\n",
       "    </tr>\n",
       "    <tr>\n",
       "      <th>1</th>\n",
       "      <td>2</td>\n",
       "      <td>specialty cheeses</td>\n",
       "    </tr>\n",
       "    <tr>\n",
       "      <th>2</th>\n",
       "      <td>3</td>\n",
       "      <td>energy granola bars</td>\n",
       "    </tr>\n",
       "    <tr>\n",
       "      <th>3</th>\n",
       "      <td>4</td>\n",
       "      <td>instant foods</td>\n",
       "    </tr>\n",
       "    <tr>\n",
       "      <th>4</th>\n",
       "      <td>5</td>\n",
       "      <td>marinades meat preparation</td>\n",
       "    </tr>\n",
       "  </tbody>\n",
       "</table>\n",
       "</div>"
      ],
      "text/plain": [
       "   aisle_id                       aisle\n",
       "0         1       prepared soups salads\n",
       "1         2           specialty cheeses\n",
       "2         3         energy granola bars\n",
       "3         4               instant foods\n",
       "4         5  marinades meat preparation"
      ]
     },
     "execution_count": 19,
     "metadata": {},
     "output_type": "execute_result"
    }
   ],
   "source": [
    "aisles_df.head()"
   ]
  },
  {
   "cell_type": "code",
   "execution_count": 20,
   "id": "da7c2822",
   "metadata": {
    "trusted": false
   },
   "outputs": [
    {
     "name": "stdout",
     "output_type": "stream",
     "text": [
      "<class 'pandas.core.frame.DataFrame'>\n",
      "RangeIndex: 134 entries, 0 to 133\n",
      "Data columns (total 2 columns):\n",
      " #   Column    Non-Null Count  Dtype \n",
      "---  ------    --------------  ----- \n",
      " 0   aisle_id  134 non-null    int64 \n",
      " 1   aisle     134 non-null    object\n",
      "dtypes: int64(1), object(1)\n",
      "memory usage: 2.2+ KB\n"
     ]
    }
   ],
   "source": [
    "aisles_df.info()"
   ]
  },
  {
   "cell_type": "markdown",
   "id": "274cd06a",
   "metadata": {},
   "source": [
    "### `order_products` data frame"
   ]
  },
  {
   "cell_type": "code",
   "execution_count": 21,
   "id": "52326689-84a8-4b8f-a881-7c68780f62c9",
   "metadata": {
    "trusted": false
   },
   "outputs": [
    {
     "name": "stdout",
     "output_type": "stream",
     "text": [
      "<class 'pandas.core.frame.DataFrame'>\n",
      "RangeIndex: 4545007 entries, 0 to 4545006\n",
      "Data columns (total 4 columns):\n",
      " #   Column             Dtype  \n",
      "---  ------             -----  \n",
      " 0   order_id           int64  \n",
      " 1   product_id         int64  \n",
      " 2   add_to_cart_order  float64\n",
      " 3   reordered          int64  \n",
      "dtypes: float64(1), int64(3)\n",
      "memory usage: 138.7 MB\n"
     ]
    },
    {
     "data": {
      "text/plain": [
       "0"
      ]
     },
     "execution_count": 21,
     "metadata": {},
     "output_type": "execute_result"
    }
   ],
   "source": [
    "# Check for fullly duplicate rows\n",
    "order_products_df.info()\n",
    "order_products_df.duplicated().sum()"
   ]
  },
  {
   "cell_type": "code",
   "execution_count": 22,
   "id": "7b861391",
   "metadata": {
    "trusted": false
   },
   "outputs": [
    {
     "name": "stdout",
     "output_type": "stream",
     "text": [
      "0\n"
     ]
    }
   ],
   "source": [
    "# Double check for any other tricky duplicates\n",
    "op_df_duplicated = order_products_df.duplicated(keep=False)\n",
    "print(op_df_duplicated.sum())"
   ]
  },
  {
   "cell_type": "markdown",
   "id": "1e46de76",
   "metadata": {},
   "source": [
    "## Find and remove missing values\n"
   ]
  },
  {
   "cell_type": "markdown",
   "id": "c0aebd78",
   "metadata": {},
   "source": [
    "### `products` data frame"
   ]
  },
  {
   "cell_type": "code",
   "execution_count": 23,
   "id": "fe4a8b0f",
   "metadata": {
    "trusted": false
   },
   "outputs": [
    {
     "name": "stdout",
     "output_type": "stream",
     "text": [
      "<class 'pandas.core.frame.DataFrame'>\n",
      "RangeIndex: 49694 entries, 0 to 49693\n",
      "Data columns (total 4 columns):\n",
      " #   Column         Non-Null Count  Dtype \n",
      "---  ------         --------------  ----- \n",
      " 0   product_id     49694 non-null  int64 \n",
      " 1   product_name   48436 non-null  object\n",
      " 2   aisle_id       49694 non-null  int64 \n",
      " 3   department_id  49694 non-null  int64 \n",
      "dtypes: int64(3), object(1)\n",
      "memory usage: 1.5+ MB\n"
     ]
    }
   ],
   "source": [
    "products_df.info()\n",
    "#the 'product_name' Column has 48436 less then 49694 so it means there are 58 missing "
   ]
  },
  {
   "cell_type": "code",
   "execution_count": 24,
   "id": "e96167bc",
   "metadata": {
    "trusted": false
   },
   "outputs": [
    {
     "name": "stdout",
     "output_type": "stream",
     "text": [
      "Are all of the missing product names associated with aisle ID 100? True\n"
     ]
    }
   ],
   "source": [
    "# Are all of the missing product names associated with aisle ID 100?\n",
    "\n",
    "missing_product_names = products_df[products_df['product_name'].isna()]\n",
    "all_missing_in_aisle = (missing_product_names['aisle_id'] == 100).all()\n",
    "print('Are all of the missing product names associated with aisle ID 100?',all_missing_in_aisle)\n",
    "\n",
    "#YES all the missing value in the proudct names are associated with aisle ID 100"
   ]
  },
  {
   "cell_type": "code",
   "execution_count": 25,
   "id": "8fd0a541",
   "metadata": {
    "trusted": false
   },
   "outputs": [
    {
     "name": "stdout",
     "output_type": "stream",
     "text": [
      "Are all of the missing product names associated with department ID 21? True\n"
     ]
    }
   ],
   "source": [
    "# Are all of the missing product names associated with department ID 21?\n",
    "all_missing_in_dept_21 = (missing_product_names['department_id'] == 21).all()\n",
    "print('Are all of the missing product names associated with department ID 21?',all_missing_in_dept_21)\n",
    "#YES all the missing value in the proudct names are associated with aisle ID 100 and department ID 21 "
   ]
  },
  {
   "cell_type": "code",
   "execution_count": 26,
   "id": "325c3464",
   "metadata": {
    "trusted": false
   },
   "outputs": [
    {
     "name": "stdout",
     "output_type": "stream",
     "text": [
      "       product_id product_name  aisle_id  department_id\n",
      "3421         3422          NaN       100             21\n",
      "24408       24409          NaN       100             21\n",
      "21504       21505          NaN       100             21\n",
      "24737       24738          NaN       100             21\n",
      "11083       11084          NaN       100             21\n",
      "...           ...          ...       ...            ...\n",
      "46292       46293          NaN       100             21\n",
      "31979       31980          NaN       100             21\n",
      "43070       43071          NaN       100             21\n",
      "26919       26920          NaN       100             21\n",
      "20372       20373          NaN       100             21\n",
      "\n",
      "[100 rows x 4 columns]\n"
     ]
    }
   ],
   "source": [
    "# What is this ailse and department?\n",
    "print(products_df[products_df['product_name'].isnull()].sample(100))\n",
    "#all the missing value in the proudct names are associated with aisle 100 and department 21 "
   ]
  },
  {
   "cell_type": "code",
   "execution_count": 27,
   "id": "6b295120",
   "metadata": {
    "trusted": false
   },
   "outputs": [
    {
     "name": "stdout",
     "output_type": "stream",
     "text": [
      "       product_id product_name  aisle_id  department_id\n",
      "27113       27114       Unkown       100             21\n",
      "12717       12718       Unkown       100             21\n",
      "47306       47307       Unkown       100             21\n",
      "7528         7529       Unkown       100             21\n",
      "35512       35513       Unkown       100             21\n",
      "...           ...          ...       ...            ...\n",
      "4506         4507       Unkown       100             21\n",
      "21250       21251       Unkown       100             21\n",
      "12987       12988       Unkown       100             21\n",
      "43476       43477       Unkown       100             21\n",
      "37855       37856       Unkown       100             21\n",
      "\n",
      "[100 rows x 4 columns]\n"
     ]
    }
   ],
   "source": [
    "# Fill missing product names with 'Unknown'\n",
    "products_df.fillna('Unkown', inplace=True)\n",
    "print(products_df[products_df['aisle_id'] == 100].sample(100))"
   ]
  },
  {
   "cell_type": "markdown",
   "id": "7eb45c86",
   "metadata": {},
   "source": [
    "### `orders` data frame"
   ]
  },
  {
   "cell_type": "code",
   "execution_count": 28,
   "id": "93e41d96",
   "metadata": {
    "trusted": false
   },
   "outputs": [
    {
     "data": {
      "text/plain": [
       "order_id                      0\n",
       "user_id                       0\n",
       "order_number                  0\n",
       "order_dow                     0\n",
       "order_hour_of_day             0\n",
       "days_since_prior_order    28817\n",
       "dtype: int64"
      ]
     },
     "execution_count": 28,
     "metadata": {},
     "output_type": "execute_result"
    }
   ],
   "source": [
    "orders_df.isnull().sum()"
   ]
  },
  {
   "cell_type": "code",
   "execution_count": 29,
   "id": "166e5a86",
   "metadata": {
    "trusted": false
   },
   "outputs": [
    {
     "name": "stdout",
     "output_type": "stream",
     "text": [
      "Are there any missing values where it's not a customer's first order? False\n"
     ]
    }
   ],
   "source": [
    "# Identify missing values in the 'days_since_prior_order' column\n",
    "missing_values = orders_df[orders_df['days_since_prior_order'].isnull()]\n",
    "\n",
    "# Check if there are any missing values where it's not a customer's first order\n",
    "not_cust_1order = (missing_values['order_number'] != 1).any()\n",
    "\n",
    "print('Are there any missing values where it\\'s not a customer\\'s first order?', not_cust_1order)\n",
    "\n",
    "# Replace missing values with 0 only if it corresponds to the first order\n",
    "orders_df['days_since_prior_order'] = orders_df['days_since_prior_order'].fillna(0)\n",
    "\n",
    "\n",
    "#it shows days_since_prior_order has 450135 which is less than 478952, that is tell us we 28817 missing values\n",
    "#and missing values is asoccied only with customer's first order"
   ]
  },
  {
   "cell_type": "markdown",
   "id": "69dc9ca4",
   "metadata": {},
   "source": [
    "### `order_products` data frame"
   ]
  },
  {
   "cell_type": "code",
   "execution_count": 30,
   "id": "b8240253",
   "metadata": {
    "trusted": false
   },
   "outputs": [
    {
     "name": "stdout",
     "output_type": "stream",
     "text": [
      "           order_id    product_id  add_to_cart_order     reordered\n",
      "count  4.545007e+06  4.545007e+06       4.544171e+06  4.545007e+06\n",
      "mean   1.711166e+06  2.558084e+04       8.351669e+00  5.905025e-01\n",
      "std    9.850955e+05  1.409552e+04       7.080368e+00  4.917411e-01\n",
      "min    4.000000e+00  1.000000e+00       1.000000e+00  0.000000e+00\n",
      "25%    8.608170e+05  1.353500e+04       3.000000e+00  0.000000e+00\n",
      "50%    1.711530e+06  2.527200e+04       6.000000e+00  1.000000e+00\n",
      "75%    2.561311e+06  3.793500e+04       1.100000e+01  1.000000e+00\n",
      "max    3.421079e+06  4.969400e+04       6.400000e+01  1.000000e+00\n"
     ]
    },
    {
     "data": {
      "text/html": [
       "<div>\n",
       "<style scoped>\n",
       "    .dataframe tbody tr th:only-of-type {\n",
       "        vertical-align: middle;\n",
       "    }\n",
       "\n",
       "    .dataframe tbody tr th {\n",
       "        vertical-align: top;\n",
       "    }\n",
       "\n",
       "    .dataframe thead th {\n",
       "        text-align: right;\n",
       "    }\n",
       "</style>\n",
       "<table border=\"1\" class=\"dataframe\">\n",
       "  <thead>\n",
       "    <tr style=\"text-align: right;\">\n",
       "      <th></th>\n",
       "      <th>order_id</th>\n",
       "      <th>product_id</th>\n",
       "      <th>add_to_cart_order</th>\n",
       "      <th>reordered</th>\n",
       "    </tr>\n",
       "  </thead>\n",
       "  <tbody>\n",
       "    <tr>\n",
       "      <th>0</th>\n",
       "      <td>False</td>\n",
       "      <td>False</td>\n",
       "      <td>False</td>\n",
       "      <td>False</td>\n",
       "    </tr>\n",
       "    <tr>\n",
       "      <th>1</th>\n",
       "      <td>False</td>\n",
       "      <td>False</td>\n",
       "      <td>False</td>\n",
       "      <td>False</td>\n",
       "    </tr>\n",
       "    <tr>\n",
       "      <th>2</th>\n",
       "      <td>False</td>\n",
       "      <td>False</td>\n",
       "      <td>False</td>\n",
       "      <td>False</td>\n",
       "    </tr>\n",
       "    <tr>\n",
       "      <th>3</th>\n",
       "      <td>False</td>\n",
       "      <td>False</td>\n",
       "      <td>False</td>\n",
       "      <td>False</td>\n",
       "    </tr>\n",
       "    <tr>\n",
       "      <th>4</th>\n",
       "      <td>False</td>\n",
       "      <td>False</td>\n",
       "      <td>False</td>\n",
       "      <td>False</td>\n",
       "    </tr>\n",
       "    <tr>\n",
       "      <th>...</th>\n",
       "      <td>...</td>\n",
       "      <td>...</td>\n",
       "      <td>...</td>\n",
       "      <td>...</td>\n",
       "    </tr>\n",
       "    <tr>\n",
       "      <th>4545002</th>\n",
       "      <td>False</td>\n",
       "      <td>False</td>\n",
       "      <td>False</td>\n",
       "      <td>False</td>\n",
       "    </tr>\n",
       "    <tr>\n",
       "      <th>4545003</th>\n",
       "      <td>False</td>\n",
       "      <td>False</td>\n",
       "      <td>False</td>\n",
       "      <td>False</td>\n",
       "    </tr>\n",
       "    <tr>\n",
       "      <th>4545004</th>\n",
       "      <td>False</td>\n",
       "      <td>False</td>\n",
       "      <td>False</td>\n",
       "      <td>False</td>\n",
       "    </tr>\n",
       "    <tr>\n",
       "      <th>4545005</th>\n",
       "      <td>False</td>\n",
       "      <td>False</td>\n",
       "      <td>False</td>\n",
       "      <td>False</td>\n",
       "    </tr>\n",
       "    <tr>\n",
       "      <th>4545006</th>\n",
       "      <td>False</td>\n",
       "      <td>False</td>\n",
       "      <td>False</td>\n",
       "      <td>False</td>\n",
       "    </tr>\n",
       "  </tbody>\n",
       "</table>\n",
       "<p>4545007 rows × 4 columns</p>\n",
       "</div>"
      ],
      "text/plain": [
       "         order_id  product_id  add_to_cart_order  reordered\n",
       "0           False       False              False      False\n",
       "1           False       False              False      False\n",
       "2           False       False              False      False\n",
       "3           False       False              False      False\n",
       "4           False       False              False      False\n",
       "...           ...         ...                ...        ...\n",
       "4545002     False       False              False      False\n",
       "4545003     False       False              False      False\n",
       "4545004     False       False              False      False\n",
       "4545005     False       False              False      False\n",
       "4545006     False       False              False      False\n",
       "\n",
       "[4545007 rows x 4 columns]"
      ]
     },
     "execution_count": 30,
     "metadata": {},
     "output_type": "execute_result"
    }
   ],
   "source": [
    "print(order_products_df.describe())\n",
    "\n",
    "#order_products_df.info()\n",
    "#order_products_df.head()\n",
    "order_products_df.isnull()"
   ]
  },
  {
   "cell_type": "code",
   "execution_count": 31,
   "id": "9a78e5ee",
   "metadata": {
    "trusted": false
   },
   "outputs": [
    {
     "name": "stdout",
     "output_type": "stream",
     "text": [
      "The MAX values :\n",
      " \n",
      " order_id             3421079.0\n",
      "product_id             49694.0\n",
      "add_to_cart_order         64.0\n",
      "reordered                  1.0\n",
      "dtype: float64\n",
      "\n",
      " The MIN values :\n",
      " \n",
      " order_id             4.0\n",
      "product_id           1.0\n",
      "add_to_cart_order    1.0\n",
      "reordered            0.0\n",
      "dtype: float64\n"
     ]
    }
   ],
   "source": [
    "# What are the min and max values in this column?\n",
    "print('The MAX values :\\n \\n',order_products_df.max())\n",
    "\n",
    "print('\\n The MIN values :\\n \\n',order_products_df.min())"
   ]
  },
  {
   "cell_type": "code",
   "execution_count": 32,
   "id": "ab9d0c2b",
   "metadata": {
    "trusted": false
   },
   "outputs": [
    {
     "name": "stdout",
     "output_type": "stream",
     "text": [
      "[2449164 1968313 2926893 1717990 1959075  844733   61355  936852  264710\n",
      " 1564093  129627  293169 2849370 1386261 3308010  903110 2136777 3347453\n",
      " 1888628  165801 2094761 1038146 2997021  813364 2256933  171934 2409109\n",
      " 1730767 1169835  733526  404157 3125735  747668 1800005 1961723  871281\n",
      "  388234 1648217 1477139  102236 1021563 1832957 2721963  678116 1220886\n",
      " 1673227 2999801 1633337 2470674 2625444 1677118 2479011 3383594 1183255\n",
      " 1713430 2652650 1598369 1916118  854647 1302315  888470  180546 2621907\n",
      " 1308785 2729254    9310 2170451 2979697 1625713 1529171]\n"
     ]
    }
   ],
   "source": [
    "# Save all order IDs with at least one missing value in 'add_to_cart_order'\n",
    "missing_values_ids = order_products_df[order_products_df['add_to_cart_order'].isna()]['order_id'].unique()\n",
    "print(missing_values_ids)"
   ]
  },
  {
   "cell_type": "code",
   "execution_count": 33,
   "id": "54c31695",
   "metadata": {
    "trusted": false
   },
   "outputs": [
    {
     "data": {
      "text/plain": [
       "order_id\n",
       "9310        65\n",
       "747668      65\n",
       "1598369     65\n",
       "1677118     65\n",
       "2170451     65\n",
       "          ... \n",
       "1959075     98\n",
       "171934     104\n",
       "2136777    108\n",
       "3308010    115\n",
       "61355      127\n",
       "Length: 70, dtype: int64"
      ]
     },
     "execution_count": 33,
     "metadata": {},
     "output_type": "execute_result"
    }
   ],
   "source": [
    "# Do all orders with missing values have more than 64 products?\n",
    "\n",
    "order_products_df[order_products_df['order_id'].isin(missing_values_ids)].groupby('order_id').size().sort_values()"
   ]
  },
  {
   "cell_type": "code",
   "execution_count": 34,
   "id": "7a987d08",
   "metadata": {
    "trusted": false
   },
   "outputs": [
    {
     "name": "stdout",
     "output_type": "stream",
     "text": [
      "   order_id  product_id  add_to_cart_order  reordered\n",
      "0   2141543       11440                 17          0\n",
      "1    567889        1560                  1          1\n",
      "2   2261212       26683                  1          1\n",
      "3    491251        8670                 35          1\n",
      "4   2571142        1940                  5          1\n"
     ]
    }
   ],
   "source": [
    "# Replace missing values with 999 and convert column to integer type\n",
    "order_products_df['add_to_cart_order'] = order_products_df['add_to_cart_order'].fillna(0)\n",
    "order_products_df['add_to_cart_order'] = order_products_df['add_to_cart_order'].astype('Int64', errors='ignore')\n",
    "print(order_products_df.head())"
   ]
  },
  {
   "cell_type": "markdown",
   "id": "turkish-kidney",
   "metadata": {},
   "source": [
    "# [A] Easy (must complete all to pass)"
   ]
  },
  {
   "cell_type": "markdown",
   "id": "short-capability",
   "metadata": {},
   "source": [
    "### [A1] Verify that the `'order_hour_of_day'` and `'order_dow'` values in the `orders` tables are sensible (i.e. `'order_hour_of_day'` ranges from 0 to 23 and `'order_dow'` ranges from 0 to 6)"
   ]
  },
  {
   "cell_type": "code",
   "execution_count": 35,
   "id": "growing-fruit",
   "metadata": {
    "trusted": false
   },
   "outputs": [
    {
     "name": "stdout",
     "output_type": "stream",
     "text": [
      "True\n"
     ]
    }
   ],
   "source": [
    "Verify_orders_hours = (orders_df['order_hour_of_day'].between(0, 23).all())\n",
    "print(Verify_orders_hours)"
   ]
  },
  {
   "cell_type": "code",
   "execution_count": 36,
   "id": "accessory-malaysia",
   "metadata": {
    "trusted": false
   },
   "outputs": [
    {
     "name": "stdout",
     "output_type": "stream",
     "text": [
      "True\n"
     ]
    }
   ],
   "source": [
    "Verify_orders_days = (orders_df['order_dow'].between(0, 6).all())\n",
    "print(Verify_orders_days)"
   ]
  },
  {
   "cell_type": "markdown",
   "id": "a6743a70",
   "metadata": {},
   "source": [
    "### [A2] What time of day do people shop for groceries?"
   ]
  },
  {
   "cell_type": "code",
   "execution_count": 37,
   "id": "0ce6de3b",
   "metadata": {
    "trusted": false
   },
   "outputs": [
    {
     "data": {
      "image/png": "[encoded data removed]",
      "text/plain": [
       "<Figure size 1000x600 with 1 Axes>"
      ]
     },
     "metadata": {},
     "output_type": "display_data"
    }
   ],
   "source": [
    "order_counts_by_hour = orders_df['order_hour_of_day'].value_counts().sort_index()\n",
    "plt.figure(figsize=(10, 6))\n",
    "order_counts_by_hour.plot(kind='bar')\n",
    "plt.title('Orders by Hour of Day')\n",
    "plt.xlabel('Hour of Day')\n",
    "plt.ylabel('Number of Orders')\n",
    "plt.xticks(rotation=0)\n",
    "plt.show()"
   ]
  },
  {
   "cell_type": "markdown",
   "id": "cb49936e",
   "metadata": {},
   "source": [
    " Understanding customer behavior in terms of shopping time allows businesses to enhance operational efficiency and customer satisfaction. Peak activity during the early morning from 5AM and early afternoon to midnight highlights when businesses should focus their resources, while addressing off-peak trends could provide opportunities to attract more customers during quieter hours."
   ]
  },
  {
   "cell_type": "markdown",
   "id": "documented-command",
   "metadata": {},
   "source": [
    "### [A3] What day of the week do people shop for groceries?"
   ]
  },
  {
   "cell_type": "code",
   "execution_count": 38,
   "id": "chief-digit",
   "metadata": {
    "trusted": false
   },
   "outputs": [
    {
     "data": {
      "image/png": "[encoded data removed]",
      "text/plain": [
       "<Figure size 500x500 with 1 Axes>"
      ]
     },
     "metadata": {},
     "output_type": "display_data"
    }
   ],
   "source": [
    "order_counts_by_days = orders_df['order_dow'].value_counts().sort_index()\n",
    "plt.figure(figsize=(5, 5))\n",
    "order_counts_by_days.plot(kind='bar')\n",
    "plt.title('Orders by Day of the Week')\n",
    "plt.xlabel('Day of the Week')\n",
    "plt.ylabel('Number of Orders')\n",
    "plt.xticks(rotation=0)\n",
    "plt.show()"
   ]
  },
  {
   "cell_type": "markdown",
   "id": "cutting-concert",
   "metadata": {},
   "source": [
    "### [A4] How long do people wait until placing another order?"
   ]
  },
  {
   "cell_type": "code",
   "execution_count": 39,
   "id": "c231f523",
   "metadata": {
    "trusted": false
   },
   "outputs": [
    {
     "name": "stdout",
     "output_type": "stream",
     "text": [
      "How long do people wait until placing another order?\n",
      " (number of days )\n",
      " [30.  9.  2. 10. 17. 15. 22.  4.  8.  3. 12. 11.  7.  1.  5.  6. 14.  0.\n",
      " 20. 16. 24. 23. 27. 13. 28. 21. 25. 19. 18. 29. 26.]\n"
     ]
    }
   ],
   "source": [
    "print('How long do people wait until placing another order?\\n (number of days )\\n',orders_df['days_since_prior_order'].unique())\n",
    "\n",
    "days_counts = orders_df['days_since_prior_order'].value_counts().sort_index()\n"
   ]
  },
  {
   "cell_type": "code",
   "execution_count": 40,
   "id": "exciting-fantasy",
   "metadata": {
    "trusted": false
   },
   "outputs": [
    {
     "data": {
      "image/png": "[encoded data removed]",
      "text/plain": [
       "<Figure size 1200x600 with 1 Axes>"
      ]
     },
     "metadata": {},
     "output_type": "display_data"
    }
   ],
   "source": [
    "# Plot the results\n",
    "plt.figure(figsize=(12, 6))\n",
    "days_counts.plot(kind='bar', color='lightcoral', edgecolor='black')\n",
    "plt.title('Number of Orders by Days Since Prior Order', fontsize=16)\n",
    "plt.xlabel('Days Since Prior Order', fontsize=14)\n",
    "plt.ylabel('Number of Orders', fontsize=14)\n",
    "plt.xticks(rotation=0)\n",
    "plt.grid(axis='y', linestyle='--', alpha=0.7)\n",
    "plt.show()"
   ]
  },
  {
   "cell_type": "raw",
   "id": "7c9df9a7",
   "metadata": {},
   "source": []
  },
  {
   "cell_type": "markdown",
   "id": "tight-staff",
   "metadata": {},
   "source": [
    "# [B] Medium (must complete all to pass)"
   ]
  },
  {
   "cell_type": "markdown",
   "id": "packed-classic",
   "metadata": {},
   "source": [
    "### [B1] Is there a difference in `'order_hour_of_day'` distributions on Wednesdays and Saturdays? Plot the histograms for both days and describe the differences that you see."
   ]
  },
  {
   "cell_type": "code",
   "execution_count": 41,
   "id": "d89b8403",
   "metadata": {
    "trusted": false
   },
   "outputs": [
    {
     "data": {
      "image/png": "[encoded data removed]",
      "text/plain": [
       "<Figure size 1200x600 with 1 Axes>"
      ]
     },
     "metadata": {},
     "output_type": "display_data"
    }
   ],
   "source": [
    "# Filter data for Wednesdays and Saturdays\n",
    "wednesday_orders = orders_df[orders_df['order_dow'] == 3]['order_hour_of_day']\n",
    "saturday_orders = orders_df[orders_df['order_dow'] == 6]['order_hour_of_day']\n",
    "\n",
    "# Plot the histograms\n",
    "plt.figure(figsize=(12, 6))\n",
    "plt.hist(wednesday_orders, bins=24, alpha=0.5, label='Wednesdays', color='blue',edgecolor='black', density=True)\n",
    "plt.hist(saturday_orders, bins=24, alpha=0.5, label='Saturdays', color='orange', edgecolor='black', density=True)\n",
    "\n",
    "# Add titles and labels\n",
    "plt.title('Order Hour of Day Distributions: Wednesdays vs. Saturdays')\n",
    "plt.xlabel('Hour of Day')\n",
    "plt.ylabel('Density')\n",
    "plt.legend()\n",
    "plt.grid(axis='y', linestyle='--', alpha=0.7)\n",
    "plt.show()"
   ]
  },
  {
   "cell_type": "markdown",
   "id": "e3891143",
   "metadata": {},
   "source": [
    "### [B2] What's the distribution for the number of orders per customer?"
   ]
  },
  {
   "cell_type": "code",
   "execution_count": 42,
   "id": "d8c26c23",
   "metadata": {
    "trusted": false
   },
   "outputs": [],
   "source": [
    "orders_per_customer = orders_df.groupby('user_id')['order_id'].nunique()"
   ]
  },
  {
   "cell_type": "code",
   "execution_count": 43,
   "id": "00e69a66",
   "metadata": {
    "trusted": false
   },
   "outputs": [
    {
     "data": {
      "image/png": "[encoded data removed]",
      "text/plain": [
       "<Figure size 1000x600 with 1 Axes>"
      ]
     },
     "metadata": {},
     "output_type": "display_data"
    }
   ],
   "source": [
    "plt.figure(figsize=(10, 6))\n",
    "plt.hist(orders_per_customer, bins=30, edgecolor='black', color='darkred')\n",
    "plt.title('Distribution of Orders Per Customer')\n",
    "plt.xlabel('Number of Orders')\n",
    "plt.ylabel('Number of Customers')\n",
    "plt.grid(axis='y', linestyle='--')\n",
    "plt.show()\n",
    "\n"
   ]
  },
  {
   "cell_type": "markdown",
   "id": "54a0319c",
   "metadata": {},
   "source": [
    "### [B3] What are the top 20 popular products (display their id and name)?"
   ]
  },
  {
   "cell_type": "code",
   "execution_count": 44,
   "id": "exterior-arizona",
   "metadata": {
    "scrolled": true,
    "trusted": false
   },
   "outputs": [],
   "source": [
    "merged_df = order_products_df.merge(products_df, on=\"product_id\")"
   ]
  },
  {
   "cell_type": "code",
   "execution_count": 45,
   "id": "universal-facial",
   "metadata": {
    "trusted": false
   },
   "outputs": [],
   "source": [
    "top_products = (\n",
    "    merged_df.groupby([\"product_id\", \"product_name\"]).size().sort_values(ascending=False)\n",
    ")"
   ]
  },
  {
   "cell_type": "code",
   "execution_count": 46,
   "id": "bbcdd20b",
   "metadata": {
    "trusted": false
   },
   "outputs": [
    {
     "data": {
      "text/plain": [
       "product_id  product_name            \n",
       "24852       banana                      66050\n",
       "13176       bag of organic bananas      53297\n",
       "21137       organic strawberries        37039\n",
       "21903       organic baby spinach        33971\n",
       "47209       organic hass avocado        29773\n",
       "47766       organic avocado             24689\n",
       "47626       large lemon                 21495\n",
       "16797       strawberries                20018\n",
       "26209       limes                       19690\n",
       "27845       organic whole milk          19600\n",
       "27966       organic raspberries         19197\n",
       "22935       organic yellow onion        15898\n",
       "24964       organic garlic              15292\n",
       "45007       organic zucchini            14584\n",
       "39275       organic blueberries         13879\n",
       "49683       cucumber kirby              13675\n",
       "28204       organic fuji apple          12544\n",
       "5876        organic lemon               12232\n",
       "8277        apple honeycrisp organic    11993\n",
       "40706       organic grape tomatoes      11781\n",
       "dtype: int64"
      ]
     },
     "execution_count": 46,
     "metadata": {},
     "output_type": "execute_result"
    }
   ],
   "source": [
    "\n",
    "top_products.head(20)"
   ]
  },
  {
   "cell_type": "markdown",
   "id": "gross-theme",
   "metadata": {},
   "source": [
    "# [C] Hard (must complete at least two to pass)"
   ]
  },
  {
   "cell_type": "markdown",
   "id": "romantic-deposit",
   "metadata": {},
   "source": [
    "### [C1] How many items do people typically buy in one order? What does the distribution look like?"
   ]
  },
  {
   "cell_type": "code",
   "execution_count": 47,
   "id": "virtual-punch",
   "metadata": {
    "trusted": false
   },
   "outputs": [],
   "source": [
    "items_per_order = order_products_df.groupby(\"order_id\").size()\n"
   ]
  },
  {
   "cell_type": "code",
   "execution_count": 48,
   "id": "sensitive-breathing",
   "metadata": {
    "trusted": false
   },
   "outputs": [
    {
     "data": {
      "image/png": "[encoded data removed]",
      "text/plain": [
       "<Figure size 1000x600 with 1 Axes>"
      ]
     },
     "metadata": {},
     "output_type": "display_data"
    }
   ],
   "source": [
    "plt.figure(figsize=(10, 6))\n",
    "items_per_order.plot(kind='hist', bins=30, title='Items per Order',edgecolor='k',alpha=0.7)\n",
    "plt.xlabel('Number of Items')\n",
    "plt.ylabel('Frequency')\n",
    "plt.grid(True)\n",
    "plt.show()"
   ]
  },
  {
   "cell_type": "code",
   "execution_count": 49,
   "id": "completed-frank",
   "metadata": {
    "trusted": false
   },
   "outputs": [
    {
     "name": "stdout",
     "output_type": "stream",
     "text": [
      "Average number of items per order: 10.098983215049127\n",
      "Median number of items per order: 8.0\n"
     ]
    }
   ],
   "source": [
    "mean_items = items_per_order.mean()\n",
    "median_items = items_per_order.median()\n",
    "\n",
    "print('Average number of items per order:',mean_items)\n",
    "print('Median number of items per order:',median_items)"
   ]
  },
  {
   "cell_type": "markdown",
   "id": "5e6b5537",
   "metadata": {},
   "source": [
    "### [C2] What are the top 20 items that are reordered most frequently (display their names and product IDs)?"
   ]
  },
  {
   "cell_type": "code",
   "execution_count": 50,
   "id": "9374e55a",
   "metadata": {
    "trusted": false
   },
   "outputs": [],
   "source": [
    "reorder_products = order_products_df[order_products_df[\"reordered\"] == 1]\n",
    "reorder_products.head(10)\n",
    "reorder_counts = reorder_products.groupby('product_id').size()"
   ]
  },
  {
   "cell_type": "code",
   "execution_count": 51,
   "id": "possible-change",
   "metadata": {
    "scrolled": true,
    "trusted": false
   },
   "outputs": [],
   "source": [
    "# Sort and get top 20\n",
    "top_20_reordered = reorder_counts.nlargest(20).reset_index(name='count')"
   ]
  },
  {
   "cell_type": "code",
   "execution_count": 52,
   "id": "professional-surfing",
   "metadata": {
    "scrolled": true,
    "trusted": false
   },
   "outputs": [],
   "source": [
    "# Merge with product names\n",
    "top_20_reordered = top_20_reordered.merge(products_df, on='product_id')[['product_id', 'product_name', 'count']]"
   ]
  },
  {
   "cell_type": "code",
   "execution_count": 53,
   "id": "48dd3658",
   "metadata": {
    "trusted": false
   },
   "outputs": [
    {
     "name": "stdout",
     "output_type": "stream",
     "text": [
      "    product_id              product_name  count\n",
      "0        24852                    banana  55763\n",
      "1        13176    bag of organic bananas  44450\n",
      "2        21137      organic strawberries  28639\n",
      "3        21903      organic baby spinach  26233\n",
      "4        47209      organic hass avocado  23629\n",
      "5        47766           organic avocado  18743\n",
      "6        27845        organic whole milk  16251\n",
      "7        47626               large lemon  15044\n",
      "8        27966       organic raspberries  14748\n",
      "9        16797              strawberries  13945\n",
      "10       26209                     limes  13327\n",
      "11       22935      organic yellow onion  11145\n",
      "12       24964            organic garlic  10411\n",
      "13       45007          organic zucchini  10076\n",
      "14       49683            cucumber kirby   9538\n",
      "15       28204        organic fuji apple   8989\n",
      "16        8277  apple honeycrisp organic   8836\n",
      "17       39275       organic blueberries   8799\n",
      "18        5876             organic lemon   8412\n",
      "19       49235       organic half & half   8389\n"
     ]
    }
   ],
   "source": [
    "# Display the results\n",
    "print(top_20_reordered)"
   ]
  },
  {
   "cell_type": "markdown",
   "id": "9d312b14",
   "metadata": {},
   "source": [
    "### [C3] For each product, what proportion of its orders are reorders?"
   ]
  },
  {
   "cell_type": "code",
   "execution_count": 54,
   "id": "8ae9f4b1",
   "metadata": {
    "trusted": false
   },
   "outputs": [
    {
     "name": "stdout",
     "output_type": "stream",
     "text": [
      "Index(['order_id', 'product_id', 'add_to_cart_order', 'reordered'], dtype='object')\n",
      "       product_id                                       product_name  \\\n",
      "0               1                         chocolate sandwich cookies   \n",
      "1               2                                   all-seasons salt   \n",
      "2               3               robust golden unsweetened oolong tea   \n",
      "3               4  smart ones classic favorites mini rigatoni wit...   \n",
      "4               7                     pure coconut water with orange   \n",
      "...           ...                                                ...   \n",
      "45568       49690                      high performance energy drink   \n",
      "45569       49691                      original pancake & waffle mix   \n",
      "45570       49692    organic instant oatmeal light maple brown sugar   \n",
      "45571       49693                             spring water body wash   \n",
      "45572       49694                            burrito- steak & cheese   \n",
      "\n",
      "       reorder_proportion  \n",
      "0                0.564286  \n",
      "1                0.000000  \n",
      "2                0.738095  \n",
      "3                0.510204  \n",
      "4                0.500000  \n",
      "...                   ...  \n",
      "45568            0.800000  \n",
      "45569            0.430556  \n",
      "45570            0.416667  \n",
      "45571            0.440000  \n",
      "45572            0.333333  \n",
      "\n",
      "[45573 rows x 3 columns]\n"
     ]
    }
   ],
   "source": [
    "# Check the column names\n",
    "print(order_products_df.columns)\n",
    "\n",
    "# Calculate total orders and reorders for each product\n",
    "order_counts = order_products_df.groupby('product_id')['reordered'].agg(total_orders='size', reorders='sum').reset_index()\n",
    "\n",
    "# Calculate the proportion of reorders\n",
    "order_counts['reorder_proportion'] = order_counts['reorders'] / order_counts['total_orders']\n",
    "\n",
    "# Merge with product names\n",
    "order_counts = order_counts.merge(products_df, on='product_id', how='left')\n",
    "\n",
    "# Display the product_id, product_name, and reorder_proportion\n",
    "print(order_counts[['product_id', 'product_name', 'reorder_proportion']])"
   ]
  },
  {
   "cell_type": "markdown",
   "id": "subject-boxing",
   "metadata": {},
   "source": [
    "### [C4] For each customer, what proportion of their products ordered are reorders?"
   ]
  },
  {
   "cell_type": "code",
   "execution_count": 55,
   "id": "medical-couple",
   "metadata": {
    "scrolled": true,
    "trusted": false
   },
   "outputs": [],
   "source": [
    "merged_df = pd.merge(order_products_df, orders_df, on='order_id')\n",
    "total_products = merged_df.groupby('user_id').size()\n",
    "reordered_products = merged_df[merged_df['reordered'] == 1].groupby('user_id').size()"
   ]
  },
  {
   "cell_type": "code",
   "execution_count": 56,
   "id": "8892e4b4",
   "metadata": {
    "trusted": false
   },
   "outputs": [
    {
     "name": "stdout",
     "output_type": "stream",
     "text": [
      "user_id\n",
      "2    0.038462\n",
      "4    0.000000\n",
      "5    0.666667\n",
      "6    0.000000\n",
      "7    0.928571\n",
      "dtype: float64\n"
     ]
    }
   ],
   "source": [
    "proportion_reordered = (reordered_products / total_products).fillna(0)\n",
    "print(proportion_reordered.head())"
   ]
  },
  {
   "cell_type": "markdown",
   "id": "92d35137",
   "metadata": {},
   "source": [
    "### [C5] What are the top 20 items that people put in their carts first? "
   ]
  },
  {
   "cell_type": "code",
   "execution_count": 57,
   "id": "0ae57274",
   "metadata": {
    "scrolled": true,
    "trusted": false
   },
   "outputs": [],
   "source": [
    "cart_grouped = order_products_df.groupby('product_id')['add_to_cart_order'].sum().reset_index()\n"
   ]
  },
  {
   "cell_type": "code",
   "execution_count": 58,
   "id": "forty-netherlands",
   "metadata": {
    "scrolled": true,
    "trusted": false
   },
   "outputs": [],
   "source": [
    "cart_grouped_sorted = cart_grouped.sort_values(by='add_to_cart_order', ascending=False).reset_index(drop=True)\n",
    "cart_grouped_sorted['in_carts_first'] = range(1, len(cart_grouped_sorted)+1)"
   ]
  },
  {
   "cell_type": "code",
   "execution_count": 59,
   "id": "08e41ec2",
   "metadata": {
    "trusted": false
   },
   "outputs": [
    {
     "name": "stdout",
     "output_type": "stream",
     "text": [
      "         order_id  product_id  add_to_cart_order  reordered  in_carts_first\n",
      "0         2141543       11440                 17          0             518\n",
      "1          567889        1560                  1          1            6712\n",
      "2         2261212       26683                  1          1            2262\n",
      "3          491251        8670                 35          1             240\n",
      "4         2571142        1940                  5          1             286\n",
      "...           ...         ...                ...        ...             ...\n",
      "4545002    577211       15290                 12          1              68\n",
      "4545003   1219554       21914                  9          0            1668\n",
      "4545004    692640       47766                  4          1               8\n",
      "4545005    319435         691                  8          1            1604\n",
      "4545006   1398151       28733                  9          0            2026\n",
      "\n",
      "[4545007 rows x 5 columns]\n"
     ]
    }
   ],
   "source": [
    "cart_merged = order_products_df.merge(cart_grouped_sorted[['product_id', 'in_carts_first']], on='product_id', how='left')\n",
    "print(cart_merged)"
   ]
  },
  {
   "cell_type": "markdown",
   "id": "0286af7a",
   "metadata": {},
   "source": [
    "This analysis provides a comprehensive understanding of customer behavior and actionable recommendations for Instacart to improve operational efficiency, enhance marketing strategies, and boost customer satisfaction. Future work could include analyzing customer segmentation to further refine these strategies"
   ]
  }
 ],
 "metadata": {
  "ExecuteTimeLog": [
   {
    "duration": 158,
    "start_time": "2024-12-23T18:06:45.353Z"
   },
   {
    "duration": 330,
    "start_time": "2024-12-23T18:06:57.607Z"
   },
   {
    "duration": 46,
    "start_time": "2024-12-23T18:06:58.183Z"
   },
   {
    "duration": 3,
    "start_time": "2024-12-23T18:07:58.203Z"
   },
   {
    "duration": 17,
    "start_time": "2024-12-23T18:07:58.911Z"
   },
   {
    "duration": 2,
    "start_time": "2024-12-23T18:09:17.804Z"
   },
   {
    "duration": 18,
    "start_time": "2024-12-23T18:09:18.543Z"
   },
   {
    "duration": 273,
    "start_time": "2024-12-23T18:10:34.068Z"
   },
   {
    "duration": 14,
    "start_time": "2024-12-23T18:11:32.372Z"
   },
   {
    "duration": 2,
    "start_time": "2024-12-23T18:11:51.383Z"
   },
   {
    "duration": 239,
    "start_time": "2024-12-23T18:11:52.882Z"
   },
   {
    "duration": 54,
    "start_time": "2024-12-23T18:11:53.495Z"
   },
   {
    "duration": 1888,
    "start_time": "2024-12-23T18:11:54.099Z"
   },
   {
    "duration": 6,
    "start_time": "2024-12-23T18:11:55.990Z"
   },
   {
    "duration": 5,
    "start_time": "2024-12-23T18:11:55.997Z"
   },
   {
    "duration": 11,
    "start_time": "2024-12-23T18:12:00.152Z"
   },
   {
    "duration": 183,
    "start_time": "2024-12-23T18:13:03.431Z"
   },
   {
    "duration": 23,
    "start_time": "2024-12-23T18:41:33.390Z"
   },
   {
    "duration": 5,
    "start_time": "2024-12-23T18:42:45.800Z"
   },
   {
    "duration": 160,
    "start_time": "2024-12-23T19:45:54.727Z"
   },
   {
    "duration": 276,
    "start_time": "2024-12-23T19:45:59.467Z"
   },
   {
    "duration": 286,
    "start_time": "2024-12-23T19:46:00.125Z"
   },
   {
    "duration": 52,
    "start_time": "2024-12-23T19:46:00.796Z"
   },
   {
    "duration": 1985,
    "start_time": "2024-12-23T19:46:01.623Z"
   },
   {
    "duration": 7,
    "start_time": "2024-12-23T19:46:03.610Z"
   },
   {
    "duration": 7,
    "start_time": "2024-12-23T19:46:03.619Z"
   },
   {
    "duration": 5,
    "start_time": "2024-12-23T19:46:03.755Z"
   },
   {
    "duration": 175,
    "start_time": "2024-12-23T19:46:06.360Z"
   },
   {
    "duration": 408,
    "start_time": "2024-12-23T19:46:07.883Z"
   },
   {
    "duration": 41,
    "start_time": "2024-12-23T19:49:20.352Z"
   },
   {
    "duration": 41,
    "start_time": "2024-12-23T19:51:07.019Z"
   },
   {
    "duration": 40,
    "start_time": "2024-12-23T19:51:14.628Z"
   },
   {
    "duration": 2,
    "start_time": "2024-12-23T19:51:17.911Z"
   },
   {
    "duration": 244,
    "start_time": "2024-12-23T19:51:18.439Z"
   },
   {
    "duration": 31,
    "start_time": "2024-12-23T19:51:18.991Z"
   },
   {
    "duration": 1829,
    "start_time": "2024-12-23T19:51:19.620Z"
   },
   {
    "duration": 6,
    "start_time": "2024-12-23T19:51:21.451Z"
   },
   {
    "duration": 7,
    "start_time": "2024-12-23T19:51:21.459Z"
   },
   {
    "duration": 4,
    "start_time": "2024-12-23T19:51:21.973Z"
   },
   {
    "duration": 201,
    "start_time": "2024-12-23T19:51:24.349Z"
   },
   {
    "duration": 41,
    "start_time": "2024-12-23T19:51:25.583Z"
   },
   {
    "duration": 42,
    "start_time": "2024-12-23T19:53:08.243Z"
   },
   {
    "duration": 41,
    "start_time": "2024-12-23T19:53:36.259Z"
   },
   {
    "duration": 38,
    "start_time": "2024-12-23T19:53:39.296Z"
   },
   {
    "duration": 40,
    "start_time": "2024-12-23T19:55:19.847Z"
   },
   {
    "duration": 324,
    "start_time": "2024-12-24T11:28:38.551Z"
   },
   {
    "duration": 285,
    "start_time": "2024-12-24T11:28:39.187Z"
   },
   {
    "duration": 51,
    "start_time": "2024-12-24T11:28:40.259Z"
   },
   {
    "duration": 2059,
    "start_time": "2024-12-24T11:28:41.632Z"
   },
   {
    "duration": 7,
    "start_time": "2024-12-24T11:28:43.694Z"
   },
   {
    "duration": 7,
    "start_time": "2024-12-24T11:28:43.703Z"
   },
   {
    "duration": 5,
    "start_time": "2024-12-24T11:28:44.652Z"
   },
   {
    "duration": 170,
    "start_time": "2024-12-24T11:28:52.215Z"
   },
   {
    "duration": 537,
    "start_time": "2024-12-24T11:29:05.168Z"
   },
   {
    "duration": 38,
    "start_time": "2024-12-24T11:30:46.297Z"
   },
   {
    "duration": 2,
    "start_time": "2024-12-24T11:39:45.685Z"
   },
   {
    "duration": 121,
    "start_time": "2024-12-24T11:39:46.418Z"
   },
   {
    "duration": 34,
    "start_time": "2024-12-24T11:39:47.045Z"
   },
   {
    "duration": 1993,
    "start_time": "2024-12-24T11:39:47.685Z"
   },
   {
    "duration": 7,
    "start_time": "2024-12-24T11:39:49.681Z"
   },
   {
    "duration": 7,
    "start_time": "2024-12-24T11:39:49.689Z"
   },
   {
    "duration": 7,
    "start_time": "2024-12-24T11:39:50.237Z"
   },
   {
    "duration": 5,
    "start_time": "2024-12-24T11:39:58.266Z"
   },
   {
    "duration": 93,
    "start_time": "2024-12-24T11:40:16.322Z"
   },
   {
    "duration": 12,
    "start_time": "2024-12-24T11:40:22.606Z"
   },
   {
    "duration": 5,
    "start_time": "2024-12-24T11:41:50.296Z"
   },
   {
    "duration": 6,
    "start_time": "2024-12-24T11:41:55.208Z"
   },
   {
    "duration": 7,
    "start_time": "2024-12-24T11:42:20.408Z"
   },
   {
    "duration": 102,
    "start_time": "2024-12-24T11:45:32.935Z"
   },
   {
    "duration": 82,
    "start_time": "2024-12-24T11:46:09.900Z"
   },
   {
    "duration": 22,
    "start_time": "2024-12-24T11:48:00.472Z"
   },
   {
    "duration": 92,
    "start_time": "2024-12-24T11:48:15.855Z"
   },
   {
    "duration": 87,
    "start_time": "2024-12-24T11:48:23.455Z"
   },
   {
    "duration": 94,
    "start_time": "2024-12-24T11:48:50.646Z"
   },
   {
    "duration": 2,
    "start_time": "2024-12-24T11:48:58.685Z"
   },
   {
    "duration": 119,
    "start_time": "2024-12-24T11:48:59.776Z"
   },
   {
    "duration": 32,
    "start_time": "2024-12-24T11:49:00.626Z"
   },
   {
    "duration": 1885,
    "start_time": "2024-12-24T11:49:02.045Z"
   },
   {
    "duration": 6,
    "start_time": "2024-12-24T11:49:05.115Z"
   },
   {
    "duration": 5,
    "start_time": "2024-12-24T11:49:06.306Z"
   },
   {
    "duration": 5,
    "start_time": "2024-12-24T11:49:08.833Z"
   },
   {
    "duration": 72,
    "start_time": "2024-12-24T11:49:16.375Z"
   },
   {
    "duration": 70,
    "start_time": "2024-12-24T11:49:25.784Z"
   },
   {
    "duration": 74,
    "start_time": "2024-12-24T11:49:38.935Z"
   },
   {
    "duration": 2,
    "start_time": "2024-12-24T11:58:17.167Z"
   },
   {
    "duration": 98,
    "start_time": "2024-12-24T11:58:17.706Z"
   },
   {
    "duration": 29,
    "start_time": "2024-12-24T11:58:18.291Z"
   },
   {
    "duration": 1835,
    "start_time": "2024-12-24T11:58:18.872Z"
   },
   {
    "duration": 5,
    "start_time": "2024-12-24T11:58:20.710Z"
   },
   {
    "duration": 16,
    "start_time": "2024-12-24T11:58:20.716Z"
   },
   {
    "duration": 5,
    "start_time": "2024-12-24T11:58:20.734Z"
   },
   {
    "duration": 7,
    "start_time": "2024-12-24T11:58:33.674Z"
   },
   {
    "duration": 146,
    "start_time": "2024-12-24T11:58:47.609Z"
   },
   {
    "duration": 145,
    "start_time": "2024-12-24T11:59:46.287Z"
   },
   {
    "duration": 78,
    "start_time": "2024-12-24T12:00:59.309Z"
   },
   {
    "duration": 151,
    "start_time": "2024-12-24T12:01:09.766Z"
   },
   {
    "duration": 72,
    "start_time": "2024-12-24T12:01:20.650Z"
   },
   {
    "duration": 27,
    "start_time": "2024-12-24T12:03:39.943Z"
   },
   {
    "duration": 25,
    "start_time": "2024-12-24T12:04:10.664Z"
   },
   {
    "duration": 25,
    "start_time": "2024-12-24T12:06:06.355Z"
   },
   {
    "duration": 256,
    "start_time": "2024-12-24T12:06:27.151Z"
   },
   {
    "duration": 23,
    "start_time": "2024-12-24T12:06:44.735Z"
   },
   {
    "duration": 24,
    "start_time": "2024-12-24T12:07:14.395Z"
   },
   {
    "duration": 4,
    "start_time": "2024-12-24T12:09:50.335Z"
   },
   {
    "duration": 33,
    "start_time": "2024-12-24T12:10:06.539Z"
   },
   {
    "duration": 4,
    "start_time": "2024-12-24T12:10:12.115Z"
   },
   {
    "duration": 14,
    "start_time": "2024-12-24T12:12:27.417Z"
   },
   {
    "duration": 18,
    "start_time": "2024-12-24T12:15:36.466Z"
   },
   {
    "duration": 4,
    "start_time": "2024-12-24T12:16:29.584Z"
   },
   {
    "duration": 5,
    "start_time": "2024-12-24T12:17:38.103Z"
   },
   {
    "duration": 4,
    "start_time": "2024-12-24T12:18:01.985Z"
   },
   {
    "duration": 5,
    "start_time": "2024-12-24T12:22:05.464Z"
   },
   {
    "duration": 75,
    "start_time": "2024-12-24T12:22:13.226Z"
   },
   {
    "duration": 14,
    "start_time": "2024-12-24T12:22:19.215Z"
   },
   {
    "duration": 5,
    "start_time": "2024-12-24T12:23:32.585Z"
   },
   {
    "duration": 137,
    "start_time": "2024-12-24T12:23:38.103Z"
   },
   {
    "duration": 89,
    "start_time": "2024-12-24T12:25:17.475Z"
   },
   {
    "duration": 26,
    "start_time": "2024-12-24T12:25:45.124Z"
   },
   {
    "duration": 2,
    "start_time": "2024-12-24T12:26:29.047Z"
   },
   {
    "duration": 101,
    "start_time": "2024-12-24T12:26:29.866Z"
   },
   {
    "duration": 31,
    "start_time": "2024-12-24T12:26:30.976Z"
   },
   {
    "duration": 1898,
    "start_time": "2024-12-24T12:26:31.829Z"
   },
   {
    "duration": 6,
    "start_time": "2024-12-24T12:26:35.685Z"
   },
   {
    "duration": 6,
    "start_time": "2024-12-24T12:26:37.095Z"
   },
   {
    "duration": 5,
    "start_time": "2024-12-24T12:26:37.995Z"
   },
   {
    "duration": 6,
    "start_time": "2024-12-24T12:26:40.292Z"
   },
   {
    "duration": 137,
    "start_time": "2024-12-24T12:26:40.936Z"
   },
   {
    "duration": 78,
    "start_time": "2024-12-24T12:26:41.445Z"
   },
   {
    "duration": 85,
    "start_time": "2024-12-24T12:26:42.095Z"
   },
   {
    "duration": 26,
    "start_time": "2024-12-24T12:26:42.713Z"
   },
   {
    "duration": 19,
    "start_time": "2024-12-24T12:26:46.725Z"
   },
   {
    "duration": 3,
    "start_time": "2024-12-24T12:26:48.303Z"
   },
   {
    "duration": 16,
    "start_time": "2024-12-24T12:26:49.263Z"
   },
   {
    "duration": 18,
    "start_time": "2024-12-24T12:28:51.468Z"
   },
   {
    "duration": 17,
    "start_time": "2024-12-24T12:29:04.461Z"
   },
   {
    "duration": 73,
    "start_time": "2024-12-24T12:34:35.582Z"
   },
   {
    "duration": 74,
    "start_time": "2024-12-24T12:34:46.177Z"
   },
   {
    "duration": 75,
    "start_time": "2024-12-24T12:34:53.105Z"
   },
   {
    "duration": 13,
    "start_time": "2024-12-24T12:41:32.885Z"
   },
   {
    "duration": 10,
    "start_time": "2024-12-24T12:42:17.507Z"
   },
   {
    "duration": 10,
    "start_time": "2024-12-24T12:43:04.026Z"
   },
   {
    "duration": 11,
    "start_time": "2024-12-24T12:43:56.005Z"
   },
   {
    "duration": 19,
    "start_time": "2024-12-24T12:45:14.006Z"
   },
   {
    "duration": 4,
    "start_time": "2024-12-24T12:45:33.095Z"
   },
   {
    "duration": 3,
    "start_time": "2024-12-24T12:45:41.715Z"
   },
   {
    "duration": 21,
    "start_time": "2024-12-24T12:50:17.003Z"
   },
   {
    "duration": 6,
    "start_time": "2024-12-24T12:50:51.766Z"
   },
   {
    "duration": 7,
    "start_time": "2024-12-24T12:53:13.701Z"
   },
   {
    "duration": 7,
    "start_time": "2024-12-24T12:54:48.314Z"
   },
   {
    "duration": 8,
    "start_time": "2024-12-24T12:55:52.825Z"
   },
   {
    "duration": 8,
    "start_time": "2024-12-24T12:56:52.355Z"
   },
   {
    "duration": 9,
    "start_time": "2024-12-24T12:57:14.624Z"
   },
   {
    "duration": 158,
    "start_time": "2024-12-24T14:20:12.191Z"
   },
   {
    "duration": 332,
    "start_time": "2024-12-24T14:20:18.732Z"
   },
   {
    "duration": 150,
    "start_time": "2024-12-24T14:20:20.624Z"
   },
   {
    "duration": 64,
    "start_time": "2024-12-24T14:20:21.251Z"
   },
   {
    "duration": 1968,
    "start_time": "2024-12-24T14:20:22.491Z"
   },
   {
    "duration": 9,
    "start_time": "2024-12-24T14:20:24.461Z"
   },
   {
    "duration": 8,
    "start_time": "2024-12-24T14:20:24.471Z"
   },
   {
    "duration": 6,
    "start_time": "2024-12-24T14:20:24.863Z"
   },
   {
    "duration": 9,
    "start_time": "2024-12-24T14:20:37.827Z"
   },
   {
    "duration": 193,
    "start_time": "2024-12-24T14:20:39.476Z"
   },
   {
    "duration": 104,
    "start_time": "2024-12-24T14:20:45.245Z"
   },
   {
    "duration": 89,
    "start_time": "2024-12-24T14:20:54.545Z"
   },
   {
    "duration": 33,
    "start_time": "2024-12-24T14:21:09.120Z"
   },
   {
    "duration": 23,
    "start_time": "2024-12-24T14:21:18.483Z"
   },
   {
    "duration": 4,
    "start_time": "2024-12-24T14:21:36.181Z"
   },
   {
    "duration": 22,
    "start_time": "2024-12-24T14:21:38.945Z"
   },
   {
    "duration": 9,
    "start_time": "2024-12-24T14:21:48.851Z"
   },
   {
    "duration": 8,
    "start_time": "2024-12-24T14:22:18.215Z"
   },
   {
    "duration": 7,
    "start_time": "2024-12-24T14:22:43.083Z"
   },
   {
    "duration": 6,
    "start_time": "2024-12-24T14:22:53.979Z"
   },
   {
    "duration": 7,
    "start_time": "2024-12-24T14:23:23.110Z"
   },
   {
    "duration": 7,
    "start_time": "2024-12-24T14:23:32.295Z"
   },
   {
    "duration": 4,
    "start_time": "2024-12-24T14:25:30.169Z"
   },
   {
    "duration": 6,
    "start_time": "2024-12-24T14:25:45.832Z"
   },
   {
    "duration": 4,
    "start_time": "2024-12-24T14:26:09.001Z"
   },
   {
    "duration": 5,
    "start_time": "2024-12-24T14:26:29.711Z"
   },
   {
    "duration": 9,
    "start_time": "2024-12-24T14:27:14.965Z"
   },
   {
    "duration": 9,
    "start_time": "2024-12-24T14:27:31.482Z"
   },
   {
    "duration": 6,
    "start_time": "2024-12-24T14:28:12.449Z"
   },
   {
    "duration": 7,
    "start_time": "2024-12-24T14:28:32.161Z"
   },
   {
    "duration": 9,
    "start_time": "2024-12-24T14:28:44.562Z"
   },
   {
    "duration": 8,
    "start_time": "2024-12-24T14:29:00.049Z"
   },
   {
    "duration": 6,
    "start_time": "2024-12-24T14:29:08.552Z"
   },
   {
    "duration": 779,
    "start_time": "2024-12-24T14:29:57.430Z"
   },
   {
    "duration": 8,
    "start_time": "2024-12-24T14:30:16.784Z"
   },
   {
    "duration": 7,
    "start_time": "2024-12-24T14:30:21.645Z"
   },
   {
    "duration": 7,
    "start_time": "2024-12-24T14:30:35.095Z"
   },
   {
    "duration": 827,
    "start_time": "2024-12-24T14:31:48.677Z"
   },
   {
    "duration": 810,
    "start_time": "2024-12-24T14:32:12.172Z"
   },
   {
    "duration": 945,
    "start_time": "2024-12-24T14:32:59.833Z"
   },
   {
    "duration": 924,
    "start_time": "2024-12-24T14:33:31.460Z"
   },
   {
    "duration": 36,
    "start_time": "2024-12-24T14:33:50.060Z"
   },
   {
    "duration": 12,
    "start_time": "2024-12-24T14:35:01.579Z"
   },
   {
    "duration": 3,
    "start_time": "2024-12-24T14:35:16.331Z"
   },
   {
    "duration": 112,
    "start_time": "2024-12-24T14:35:16.734Z"
   },
   {
    "duration": 32,
    "start_time": "2024-12-24T14:35:17.070Z"
   },
   {
    "duration": 690,
    "start_time": "2024-12-24T14:35:17.739Z"
   },
   {
    "duration": 6,
    "start_time": "2024-12-24T14:35:18.431Z"
   },
   {
    "duration": 6,
    "start_time": "2024-12-24T14:35:18.755Z"
   },
   {
    "duration": 4,
    "start_time": "2024-12-24T14:35:19.315Z"
   },
   {
    "duration": 6,
    "start_time": "2024-12-24T14:35:21.200Z"
   },
   {
    "duration": 152,
    "start_time": "2024-12-24T14:35:21.810Z"
   },
   {
    "duration": 83,
    "start_time": "2024-12-24T14:35:22.355Z"
   },
   {
    "duration": 85,
    "start_time": "2024-12-24T14:35:23.055Z"
   },
   {
    "duration": 25,
    "start_time": "2024-12-24T14:35:23.704Z"
   },
   {
    "duration": 22,
    "start_time": "2024-12-24T14:35:25.444Z"
   },
   {
    "duration": 3,
    "start_time": "2024-12-24T14:35:26.023Z"
   },
   {
    "duration": 21,
    "start_time": "2024-12-24T14:35:26.605Z"
   },
   {
    "duration": 7,
    "start_time": "2024-12-24T14:35:27.202Z"
   },
   {
    "duration": 6,
    "start_time": "2024-12-24T14:35:31.739Z"
   },
   {
    "duration": 8,
    "start_time": "2024-12-24T14:35:32.695Z"
   },
   {
    "duration": 7,
    "start_time": "2024-12-24T14:35:35.774Z"
   },
   {
    "duration": 8,
    "start_time": "2024-12-24T14:35:36.919Z"
   },
   {
    "duration": 795,
    "start_time": "2024-12-24T14:35:43.754Z"
   },
   {
    "duration": 12,
    "start_time": "2024-12-24T14:35:45.960Z"
   },
   {
    "duration": 12,
    "start_time": "2024-12-24T14:36:14.974Z"
   },
   {
    "duration": 11,
    "start_time": "2024-12-24T14:36:24.224Z"
   },
   {
    "duration": 5,
    "start_time": "2024-12-24T14:38:09.141Z"
   },
   {
    "duration": 11,
    "start_time": "2024-12-24T14:38:14.437Z"
   },
   {
    "duration": 12,
    "start_time": "2024-12-24T14:38:23.965Z"
   },
   {
    "duration": 11,
    "start_time": "2024-12-24T14:38:38.027Z"
   },
   {
    "duration": 804,
    "start_time": "2024-12-24T14:39:09.000Z"
   },
   {
    "duration": 284,
    "start_time": "2024-12-24T15:08:47.180Z"
   },
   {
    "duration": 165,
    "start_time": "2024-12-24T15:08:49.032Z"
   },
   {
    "duration": 57,
    "start_time": "2024-12-24T15:08:51.901Z"
   },
   {
    "duration": 809,
    "start_time": "2024-12-24T15:08:53.025Z"
   },
   {
    "duration": 7,
    "start_time": "2024-12-24T15:08:54.386Z"
   },
   {
    "duration": 7,
    "start_time": "2024-12-24T15:08:55.631Z"
   },
   {
    "duration": 6,
    "start_time": "2024-12-24T15:08:56.764Z"
   },
   {
    "duration": 10,
    "start_time": "2024-12-24T15:09:14.760Z"
   },
   {
    "duration": 186,
    "start_time": "2024-12-24T15:09:19.913Z"
   },
   {
    "duration": 103,
    "start_time": "2024-12-24T15:10:08.514Z"
   },
   {
    "duration": 88,
    "start_time": "2024-12-24T15:10:35.022Z"
   },
   {
    "duration": 29,
    "start_time": "2024-12-24T15:10:37.592Z"
   },
   {
    "duration": 20,
    "start_time": "2024-12-24T15:10:46.802Z"
   },
   {
    "duration": 3,
    "start_time": "2024-12-24T15:11:04.863Z"
   },
   {
    "duration": 21,
    "start_time": "2024-12-24T15:11:06.111Z"
   },
   {
    "duration": 6,
    "start_time": "2024-12-24T15:11:20.836Z"
   },
   {
    "duration": 8,
    "start_time": "2024-12-24T15:11:42.055Z"
   },
   {
    "duration": 11,
    "start_time": "2024-12-24T15:11:54.981Z"
   },
   {
    "duration": 5,
    "start_time": "2024-12-24T15:14:22.305Z"
   },
   {
    "duration": 9,
    "start_time": "2024-12-24T15:14:24.412Z"
   },
   {
    "duration": 810,
    "start_time": "2024-12-24T15:14:33.338Z"
   },
   {
    "duration": 889,
    "start_time": "2024-12-24T15:14:38.962Z"
   },
   {
    "duration": 11,
    "start_time": "2024-12-24T15:15:57.475Z"
   },
   {
    "duration": 85,
    "start_time": "2024-12-24T15:16:41.413Z"
   },
   {
    "duration": 11,
    "start_time": "2024-12-24T15:16:56.290Z"
   },
   {
    "duration": 10,
    "start_time": "2024-12-24T15:17:03.402Z"
   },
   {
    "duration": 9,
    "start_time": "2024-12-24T15:17:12.169Z"
   },
   {
    "duration": 6,
    "start_time": "2024-12-24T15:20:39.701Z"
   },
   {
    "duration": 8,
    "start_time": "2024-12-24T15:20:52.126Z"
   },
   {
    "duration": 7,
    "start_time": "2024-12-24T15:22:06.714Z"
   },
   {
    "duration": 6,
    "start_time": "2024-12-24T15:22:31.363Z"
   },
   {
    "duration": 6,
    "start_time": "2024-12-24T15:22:50.800Z"
   },
   {
    "duration": 103,
    "start_time": "2024-12-24T15:23:23.274Z"
   },
   {
    "duration": 5,
    "start_time": "2024-12-24T15:23:30.647Z"
   },
   {
    "duration": 6,
    "start_time": "2024-12-24T15:23:39.103Z"
   },
   {
    "duration": 6,
    "start_time": "2024-12-24T15:23:46.096Z"
   },
   {
    "duration": 6,
    "start_time": "2024-12-24T15:23:52.532Z"
   },
   {
    "duration": 7,
    "start_time": "2024-12-24T15:24:03.821Z"
   },
   {
    "duration": 6,
    "start_time": "2024-12-24T15:25:11.050Z"
   },
   {
    "duration": 16,
    "start_time": "2024-12-24T15:25:21.804Z"
   },
   {
    "duration": 10,
    "start_time": "2024-12-24T15:25:47.382Z"
   },
   {
    "duration": 7,
    "start_time": "2024-12-24T15:26:09.826Z"
   },
   {
    "duration": 7,
    "start_time": "2024-12-24T15:26:26.900Z"
   },
   {
    "duration": 8,
    "start_time": "2024-12-24T15:26:41.400Z"
   },
   {
    "duration": 8,
    "start_time": "2024-12-24T15:26:49.713Z"
   },
   {
    "duration": 7,
    "start_time": "2024-12-24T15:27:11.051Z"
   },
   {
    "duration": 7,
    "start_time": "2024-12-24T15:30:14.399Z"
   },
   {
    "duration": 8,
    "start_time": "2024-12-24T15:30:27.472Z"
   },
   {
    "duration": 8,
    "start_time": "2024-12-24T15:30:50.535Z"
   },
   {
    "duration": 8,
    "start_time": "2024-12-24T15:30:59.637Z"
   },
   {
    "duration": 7,
    "start_time": "2024-12-24T15:33:18.293Z"
   },
   {
    "duration": 8,
    "start_time": "2024-12-24T15:33:23.813Z"
   },
   {
    "duration": 9,
    "start_time": "2024-12-24T15:34:05.382Z"
   },
   {
    "duration": 9,
    "start_time": "2024-12-24T15:34:16.513Z"
   },
   {
    "duration": 8,
    "start_time": "2024-12-24T15:36:58.845Z"
   },
   {
    "duration": 6,
    "start_time": "2024-12-24T15:38:36.594Z"
   },
   {
    "duration": 6,
    "start_time": "2024-12-24T15:38:56.912Z"
   },
   {
    "duration": 6,
    "start_time": "2024-12-24T15:39:21.328Z"
   },
   {
    "duration": 7,
    "start_time": "2024-12-24T15:39:31.560Z"
   },
   {
    "duration": 6,
    "start_time": "2024-12-24T15:39:39.464Z"
   },
   {
    "duration": 6,
    "start_time": "2024-12-24T15:39:42.762Z"
   },
   {
    "duration": 6,
    "start_time": "2024-12-24T15:39:45.800Z"
   },
   {
    "duration": 5,
    "start_time": "2024-12-24T15:39:48.670Z"
   },
   {
    "duration": 6,
    "start_time": "2024-12-24T15:40:23.034Z"
   },
   {
    "duration": 8,
    "start_time": "2024-12-24T15:40:46.622Z"
   },
   {
    "duration": 8,
    "start_time": "2024-12-24T15:40:51.503Z"
   },
   {
    "duration": 8,
    "start_time": "2024-12-24T15:40:56.232Z"
   },
   {
    "duration": 7,
    "start_time": "2024-12-24T15:41:09.437Z"
   },
   {
    "duration": 8,
    "start_time": "2024-12-24T15:41:54.062Z"
   },
   {
    "duration": 4,
    "start_time": "2024-12-24T15:45:37.752Z"
   },
   {
    "duration": 9,
    "start_time": "2024-12-24T15:46:42.299Z"
   },
   {
    "duration": 10,
    "start_time": "2024-12-24T15:46:52.475Z"
   },
   {
    "duration": 10,
    "start_time": "2024-12-24T15:47:21.794Z"
   },
   {
    "duration": 7,
    "start_time": "2024-12-24T15:54:40.439Z"
   },
   {
    "duration": 12,
    "start_time": "2024-12-24T15:54:58.990Z"
   },
   {
    "duration": 15,
    "start_time": "2024-12-24T15:55:05.168Z"
   },
   {
    "duration": 9,
    "start_time": "2024-12-24T15:56:29.862Z"
   },
   {
    "duration": 375,
    "start_time": "2024-12-24T16:02:19.721Z"
   },
   {
    "duration": 9,
    "start_time": "2024-12-24T16:02:42.619Z"
   },
   {
    "duration": 9,
    "start_time": "2024-12-24T16:03:35.682Z"
   },
   {
    "duration": 13,
    "start_time": "2024-12-24T16:03:42.582Z"
   },
   {
    "duration": 8,
    "start_time": "2024-12-24T16:06:37.982Z"
   },
   {
    "duration": 275,
    "start_time": "2024-12-24T16:09:33.622Z"
   },
   {
    "duration": 6,
    "start_time": "2024-12-24T16:09:44.724Z"
   },
   {
    "duration": 3,
    "start_time": "2024-12-24T16:10:44.571Z"
   },
   {
    "duration": 4,
    "start_time": "2024-12-24T16:10:52.590Z"
   },
   {
    "duration": 4,
    "start_time": "2024-12-24T16:11:11.719Z"
   },
   {
    "duration": 3,
    "start_time": "2024-12-24T16:11:25.026Z"
   },
   {
    "duration": 18,
    "start_time": "2024-12-24T16:11:40.606Z"
   },
   {
    "duration": 13,
    "start_time": "2024-12-24T16:12:11.977Z"
   },
   {
    "duration": 13,
    "start_time": "2024-12-24T16:12:25.071Z"
   },
   {
    "duration": 12,
    "start_time": "2024-12-24T16:12:37.851Z"
   },
   {
    "duration": 13,
    "start_time": "2024-12-24T16:12:43.507Z"
   },
   {
    "duration": 13,
    "start_time": "2024-12-24T16:12:48.392Z"
   },
   {
    "duration": 7,
    "start_time": "2024-12-24T16:15:30.715Z"
   },
   {
    "duration": 12,
    "start_time": "2024-12-24T16:17:07.832Z"
   },
   {
    "duration": 10,
    "start_time": "2024-12-24T16:17:24.561Z"
   },
   {
    "duration": 488,
    "start_time": "2024-12-24T16:18:11.079Z"
   },
   {
    "duration": 278,
    "start_time": "2024-12-26T19:40:17.264Z"
   },
   {
    "duration": 154,
    "start_time": "2024-12-26T19:40:18.110Z"
   },
   {
    "duration": 54,
    "start_time": "2024-12-26T19:40:18.994Z"
   },
   {
    "duration": 800,
    "start_time": "2024-12-26T19:40:19.757Z"
   },
   {
    "duration": 6,
    "start_time": "2024-12-26T19:40:20.559Z"
   },
   {
    "duration": 6,
    "start_time": "2024-12-26T19:40:21.144Z"
   },
   {
    "duration": 7,
    "start_time": "2024-12-26T19:40:22.407Z"
   },
   {
    "duration": 9,
    "start_time": "2024-12-26T19:40:27.776Z"
   },
   {
    "duration": 187,
    "start_time": "2024-12-26T19:40:31.484Z"
   },
   {
    "duration": 197,
    "start_time": "2024-12-26T19:41:01.294Z"
   },
   {
    "duration": 196,
    "start_time": "2024-12-26T19:41:20.902Z"
   },
   {
    "duration": 178,
    "start_time": "2024-12-26T19:51:02.168Z"
   },
   {
    "duration": 21,
    "start_time": "2024-12-26T19:51:09.373Z"
   },
   {
    "duration": 3,
    "start_time": "2024-12-26T19:51:11.248Z"
   },
   {
    "duration": 21,
    "start_time": "2024-12-26T19:51:12.368Z"
   },
   {
    "duration": 7,
    "start_time": "2024-12-26T19:51:13.467Z"
   },
   {
    "duration": 9,
    "start_time": "2024-12-26T19:51:23.832Z"
   },
   {
    "duration": 5,
    "start_time": "2024-12-26T19:59:40.121Z"
   },
   {
    "duration": 9,
    "start_time": "2024-12-26T19:59:43.715Z"
   },
   {
    "duration": 6,
    "start_time": "2024-12-26T19:59:56.671Z"
   },
   {
    "duration": 8,
    "start_time": "2024-12-26T20:00:15.331Z"
   },
   {
    "duration": 802,
    "start_time": "2024-12-26T20:00:19.250Z"
   },
   {
    "duration": 11,
    "start_time": "2024-12-26T20:00:36.883Z"
   },
   {
    "duration": 14,
    "start_time": "2024-12-26T20:05:17.180Z"
   },
   {
    "duration": 2,
    "start_time": "2024-12-26T20:05:33.288Z"
   },
   {
    "duration": 137,
    "start_time": "2024-12-26T20:05:33.828Z"
   },
   {
    "duration": 33,
    "start_time": "2024-12-26T20:05:34.208Z"
   },
   {
    "duration": 725,
    "start_time": "2024-12-26T20:05:34.430Z"
   },
   {
    "duration": 5,
    "start_time": "2024-12-26T20:05:35.159Z"
   },
   {
    "duration": 5,
    "start_time": "2024-12-26T20:05:35.166Z"
   },
   {
    "duration": 15,
    "start_time": "2024-12-26T20:05:35.172Z"
   },
   {
    "duration": 7,
    "start_time": "2024-12-26T20:05:35.748Z"
   },
   {
    "duration": 172,
    "start_time": "2024-12-26T20:05:35.988Z"
   },
   {
    "duration": 96,
    "start_time": "2024-12-26T20:05:36.227Z"
   },
   {
    "duration": 87,
    "start_time": "2024-12-26T20:05:36.483Z"
   },
   {
    "duration": 29,
    "start_time": "2024-12-26T20:05:36.798Z"
   },
   {
    "duration": 19,
    "start_time": "2024-12-26T20:05:37.668Z"
   },
   {
    "duration": 5,
    "start_time": "2024-12-26T20:05:38.004Z"
   },
   {
    "duration": 21,
    "start_time": "2024-12-26T20:05:38.517Z"
   },
   {
    "duration": 7,
    "start_time": "2024-12-26T20:05:39.390Z"
   },
   {
    "duration": 7,
    "start_time": "2024-12-26T20:05:41.066Z"
   },
   {
    "duration": 9,
    "start_time": "2024-12-26T20:05:41.508Z"
   },
   {
    "duration": 8,
    "start_time": "2024-12-26T20:05:43.394Z"
   },
   {
    "duration": 12,
    "start_time": "2024-12-26T20:05:44.231Z"
   },
   {
    "duration": 770,
    "start_time": "2024-12-26T20:05:46.310Z"
   },
   {
    "duration": 880,
    "start_time": "2024-12-26T20:05:47.082Z"
   },
   {
    "duration": 10,
    "start_time": "2024-12-26T20:05:49.469Z"
   },
   {
    "duration": 11,
    "start_time": "2024-12-26T20:05:51.220Z"
   },
   {
    "duration": 18,
    "start_time": "2024-12-26T20:09:53.796Z"
   },
   {
    "duration": 16,
    "start_time": "2024-12-26T20:10:00.440Z"
   },
   {
    "duration": 16,
    "start_time": "2024-12-26T20:10:22.792Z"
   },
   {
    "duration": 300,
    "start_time": "2024-12-28T02:17:46.302Z"
   },
   {
    "duration": 160,
    "start_time": "2024-12-28T02:17:46.875Z"
   },
   {
    "duration": 57,
    "start_time": "2024-12-28T02:17:47.483Z"
   },
   {
    "duration": 774,
    "start_time": "2024-12-28T02:17:48.193Z"
   },
   {
    "duration": 9,
    "start_time": "2024-12-28T02:17:48.969Z"
   },
   {
    "duration": 7,
    "start_time": "2024-12-28T02:17:49.342Z"
   },
   {
    "duration": 6,
    "start_time": "2024-12-28T02:17:50.106Z"
   },
   {
    "duration": 10,
    "start_time": "2024-12-28T02:17:53.725Z"
   },
   {
    "duration": 196,
    "start_time": "2024-12-28T02:17:56.138Z"
   },
   {
    "duration": 108,
    "start_time": "2024-12-28T02:18:00.997Z"
   },
   {
    "duration": 88,
    "start_time": "2024-12-28T02:18:03.808Z"
   },
   {
    "duration": 30,
    "start_time": "2024-12-28T02:18:04.869Z"
   },
   {
    "duration": 21,
    "start_time": "2024-12-28T02:18:07.641Z"
   },
   {
    "duration": 3,
    "start_time": "2024-12-28T02:18:20.514Z"
   },
   {
    "duration": 20,
    "start_time": "2024-12-28T02:18:21.273Z"
   },
   {
    "duration": 6,
    "start_time": "2024-12-28T02:18:22.736Z"
   },
   {
    "duration": 9,
    "start_time": "2024-12-28T02:18:25.809Z"
   },
   {
    "duration": 8,
    "start_time": "2024-12-28T02:18:26.654Z"
   },
   {
    "duration": 7,
    "start_time": "2024-12-28T02:18:29.418Z"
   },
   {
    "duration": 9,
    "start_time": "2024-12-28T02:18:30.247Z"
   },
   {
    "duration": 736,
    "start_time": "2024-12-28T02:18:33.588Z"
   },
   {
    "duration": 826,
    "start_time": "2024-12-28T02:18:34.770Z"
   },
   {
    "duration": 10,
    "start_time": "2024-12-28T02:18:38.161Z"
   },
   {
    "duration": 174,
    "start_time": "2024-12-28T02:18:39.074Z"
   },
   {
    "duration": 8,
    "start_time": "2024-12-28T02:18:40.350Z"
   },
   {
    "duration": 10,
    "start_time": "2024-12-28T02:18:42.271Z"
   },
   {
    "duration": 11,
    "start_time": "2024-12-28T02:18:43.347Z"
   },
   {
    "duration": 10,
    "start_time": "2024-12-28T02:18:46.135Z"
   },
   {
    "duration": 19,
    "start_time": "2024-12-28T02:18:47.329Z"
   },
   {
    "duration": 4,
    "start_time": "2024-12-28T02:44:14.380Z"
   },
   {
    "duration": 18,
    "start_time": "2024-12-28T02:44:30.982Z"
   },
   {
    "duration": 6,
    "start_time": "2024-12-28T02:50:58.550Z"
   },
   {
    "duration": 6,
    "start_time": "2024-12-28T02:53:53.245Z"
   },
   {
    "duration": 5,
    "start_time": "2024-12-28T02:54:00.510Z"
   },
   {
    "duration": 5,
    "start_time": "2024-12-28T02:55:23.079Z"
   },
   {
    "duration": 4,
    "start_time": "2024-12-28T02:55:27.121Z"
   },
   {
    "duration": 3,
    "start_time": "2024-12-28T02:55:55.448Z"
   },
   {
    "duration": 11,
    "start_time": "2024-12-28T02:56:47.082Z"
   },
   {
    "duration": 10,
    "start_time": "2024-12-28T02:56:53.635Z"
   },
   {
    "duration": 8,
    "start_time": "2024-12-28T03:04:14.013Z"
   },
   {
    "duration": 499,
    "start_time": "2024-12-28T03:04:55.655Z"
   },
   {
    "duration": 493,
    "start_time": "2024-12-28T03:05:16.649Z"
   },
   {
    "duration": 498,
    "start_time": "2024-12-28T03:08:52.766Z"
   },
   {
    "duration": 497,
    "start_time": "2024-12-28T03:08:59.022Z"
   },
   {
    "duration": 27,
    "start_time": "2024-12-28T03:09:54.833Z"
   },
   {
    "duration": 53,
    "start_time": "2024-12-28T03:10:10.982Z"
   },
   {
    "duration": 50,
    "start_time": "2024-12-28T03:10:54.813Z"
   },
   {
    "duration": 52,
    "start_time": "2024-12-28T03:11:07.218Z"
   },
   {
    "duration": 52,
    "start_time": "2024-12-28T03:11:15.862Z"
   },
   {
    "duration": 53,
    "start_time": "2024-12-28T03:11:52.558Z"
   },
   {
    "duration": 53,
    "start_time": "2024-12-28T03:13:00.984Z"
   },
   {
    "duration": 50,
    "start_time": "2024-12-28T03:13:10.467Z"
   },
   {
    "duration": 5,
    "start_time": "2024-12-28T03:13:28.929Z"
   },
   {
    "duration": 53,
    "start_time": "2024-12-28T03:13:36.770Z"
   },
   {
    "duration": 50,
    "start_time": "2024-12-28T03:13:56.882Z"
   },
   {
    "duration": 50,
    "start_time": "2024-12-28T03:14:28.262Z"
   },
   {
    "duration": 51,
    "start_time": "2024-12-28T03:14:51.906Z"
   },
   {
    "duration": 50,
    "start_time": "2024-12-28T03:15:02.951Z"
   },
   {
    "duration": 506,
    "start_time": "2024-12-28T03:16:48.762Z"
   },
   {
    "duration": 491,
    "start_time": "2024-12-28T03:50:14.552Z"
   },
   {
    "duration": 367,
    "start_time": "2024-12-28T19:10:18.109Z"
   },
   {
    "duration": 205,
    "start_time": "2024-12-28T19:10:18.935Z"
   },
   {
    "duration": 57,
    "start_time": "2024-12-28T19:10:20.218Z"
   },
   {
    "duration": 897,
    "start_time": "2024-12-28T19:10:21.015Z"
   },
   {
    "duration": 8,
    "start_time": "2024-12-28T19:10:22.855Z"
   },
   {
    "duration": 9,
    "start_time": "2024-12-28T19:10:23.918Z"
   },
   {
    "duration": 8,
    "start_time": "2024-12-28T19:10:24.879Z"
   },
   {
    "duration": 12,
    "start_time": "2024-12-28T19:10:31.083Z"
   },
   {
    "duration": 196,
    "start_time": "2024-12-28T19:10:32.358Z"
   },
   {
    "duration": 104,
    "start_time": "2024-12-28T19:10:33.819Z"
   },
   {
    "duration": 114,
    "start_time": "2024-12-28T19:10:35.836Z"
   },
   {
    "duration": 32,
    "start_time": "2024-12-28T19:10:37.239Z"
   },
   {
    "duration": 22,
    "start_time": "2024-12-28T19:10:48.176Z"
   },
   {
    "duration": 3,
    "start_time": "2024-12-28T19:11:02.904Z"
   },
   {
    "duration": 327,
    "start_time": "2024-12-30T17:50:27.178Z"
   },
   {
    "duration": 150,
    "start_time": "2024-12-30T17:50:27.825Z"
   },
   {
    "duration": 57,
    "start_time": "2024-12-30T17:50:28.518Z"
   },
   {
    "duration": 796,
    "start_time": "2024-12-30T17:50:29.522Z"
   },
   {
    "duration": 6,
    "start_time": "2024-12-30T17:50:31.145Z"
   },
   {
    "duration": 6,
    "start_time": "2024-12-30T17:50:32.275Z"
   },
   {
    "duration": 5,
    "start_time": "2024-12-30T17:50:33.096Z"
   },
   {
    "duration": 8,
    "start_time": "2024-12-30T17:50:36.210Z"
   },
   {
    "duration": 194,
    "start_time": "2024-12-30T17:50:37.029Z"
   },
   {
    "duration": 135,
    "start_time": "2024-12-30T17:50:38.431Z"
   },
   {
    "duration": 96,
    "start_time": "2024-12-30T17:50:39.443Z"
   },
   {
    "duration": 27,
    "start_time": "2024-12-30T17:50:40.280Z"
   },
   {
    "duration": 21,
    "start_time": "2024-12-30T17:50:42.961Z"
   },
   {
    "duration": 3,
    "start_time": "2024-12-30T17:50:43.759Z"
   },
   {
    "duration": 20,
    "start_time": "2024-12-30T17:50:44.654Z"
   },
   {
    "duration": 6,
    "start_time": "2024-12-30T17:50:45.506Z"
   },
   {
    "duration": 9,
    "start_time": "2024-12-30T17:50:47.989Z"
   },
   {
    "duration": 8,
    "start_time": "2024-12-30T17:50:48.834Z"
   },
   {
    "duration": 6,
    "start_time": "2024-12-30T17:50:51.104Z"
   },
   {
    "duration": 8,
    "start_time": "2024-12-30T17:50:51.978Z"
   },
   {
    "duration": 727,
    "start_time": "2024-12-30T17:50:54.443Z"
   },
   {
    "duration": 837,
    "start_time": "2024-12-30T17:50:56.378Z"
   },
   {
    "duration": 9,
    "start_time": "2024-12-30T17:50:59.822Z"
   },
   {
    "duration": 6,
    "start_time": "2024-12-30T17:51:00.658Z"
   },
   {
    "duration": 4,
    "start_time": "2024-12-30T17:51:06.406Z"
   },
   {
    "duration": 9,
    "start_time": "2024-12-30T17:51:09.792Z"
   },
   {
    "duration": 9,
    "start_time": "2024-12-30T17:51:10.919Z"
   },
   {
    "duration": 10,
    "start_time": "2024-12-30T17:51:53.427Z"
   },
   {
    "duration": 7,
    "start_time": "2024-12-30T17:52:08.039Z"
   },
   {
    "duration": 502,
    "start_time": "2024-12-30T17:52:14.438Z"
   },
   {
    "duration": 51,
    "start_time": "2024-12-30T17:52:17.607Z"
   },
   {
    "duration": 3,
    "start_time": "2024-12-30T17:52:19.187Z"
   },
   {
    "duration": 6,
    "start_time": "2024-12-30T17:57:16.122Z"
   },
   {
    "duration": 3,
    "start_time": "2024-12-30T17:57:27.240Z"
   },
   {
    "duration": 13,
    "start_time": "2024-12-30T17:57:34.202Z"
   },
   {
    "duration": 173,
    "start_time": "2024-12-30T17:57:52.795Z"
   },
   {
    "duration": 17,
    "start_time": "2024-12-30T17:59:04.090Z"
   },
   {
    "duration": 7,
    "start_time": "2024-12-30T17:59:17.349Z"
   },
   {
    "duration": 16,
    "start_time": "2024-12-30T17:59:32.310Z"
   },
   {
    "duration": 7,
    "start_time": "2024-12-30T17:59:38.126Z"
   },
   {
    "duration": 3,
    "start_time": "2024-12-30T18:00:55.227Z"
   },
   {
    "duration": 6,
    "start_time": "2024-12-30T18:01:00.203Z"
   },
   {
    "duration": 63,
    "start_time": "2024-12-30T18:20:50.431Z"
   },
   {
    "duration": 35,
    "start_time": "2024-12-30T18:27:20.911Z"
   },
   {
    "duration": 30,
    "start_time": "2024-12-30T18:28:02.959Z"
   },
   {
    "duration": 14,
    "start_time": "2024-12-30T18:35:37.659Z"
   },
   {
    "duration": 11,
    "start_time": "2024-12-30T18:36:50.635Z"
   },
   {
    "duration": 11,
    "start_time": "2024-12-30T18:37:06.784Z"
   },
   {
    "duration": 11,
    "start_time": "2024-12-30T18:37:19.075Z"
   },
   {
    "duration": 12,
    "start_time": "2024-12-30T18:37:24.410Z"
   },
   {
    "duration": 13,
    "start_time": "2024-12-30T18:39:43.594Z"
   },
   {
    "duration": 5,
    "start_time": "2024-12-30T18:39:48.816Z"
   },
   {
    "duration": 6,
    "start_time": "2024-12-30T18:40:44.591Z"
   },
   {
    "duration": 4,
    "start_time": "2024-12-30T18:40:50.868Z"
   },
   {
    "duration": 5,
    "start_time": "2024-12-30T18:41:06.642Z"
   },
   {
    "duration": 4,
    "start_time": "2024-12-30T18:41:09.362Z"
   },
   {
    "duration": 4,
    "start_time": "2024-12-30T18:44:33.224Z"
   },
   {
    "duration": 4,
    "start_time": "2024-12-30T18:44:48.209Z"
   },
   {
    "duration": 4,
    "start_time": "2024-12-30T18:44:53.271Z"
   },
   {
    "duration": 3,
    "start_time": "2024-12-30T18:44:57.260Z"
   },
   {
    "duration": 300,
    "start_time": "2024-12-30T18:48:09.971Z"
   },
   {
    "duration": 5,
    "start_time": "2024-12-30T18:48:22.550Z"
   },
   {
    "duration": 5,
    "start_time": "2024-12-30T18:49:02.510Z"
   },
   {
    "duration": 5,
    "start_time": "2024-12-30T18:49:11.695Z"
   },
   {
    "duration": 5,
    "start_time": "2024-12-30T18:49:17.399Z"
   },
   {
    "duration": 4,
    "start_time": "2024-12-30T18:50:58.372Z"
   },
   {
    "duration": 8,
    "start_time": "2024-12-30T18:57:59.800Z"
   },
   {
    "duration": 7,
    "start_time": "2024-12-30T19:02:15.051Z"
   },
   {
    "duration": 2,
    "start_time": "2024-12-30T19:13:18.691Z"
   },
   {
    "duration": 1824,
    "start_time": "2024-12-30T19:13:19.495Z"
   },
   {
    "duration": 123,
    "start_time": "2024-12-30T19:13:22.285Z"
   },
   {
    "duration": 33,
    "start_time": "2024-12-30T19:13:22.886Z"
   },
   {
    "duration": 695,
    "start_time": "2024-12-30T19:13:23.542Z"
   },
   {
    "duration": 6,
    "start_time": "2024-12-30T19:13:24.240Z"
   },
   {
    "duration": 6,
    "start_time": "2024-12-30T19:13:24.881Z"
   },
   {
    "duration": 8,
    "start_time": "2024-12-30T19:13:26.939Z"
   },
   {
    "duration": 145,
    "start_time": "2024-12-30T19:13:28.087Z"
   },
   {
    "duration": 80,
    "start_time": "2024-12-30T19:13:29.666Z"
   },
   {
    "duration": 81,
    "start_time": "2024-12-30T19:13:30.563Z"
   },
   {
    "duration": 26,
    "start_time": "2024-12-30T19:13:31.376Z"
   },
   {
    "duration": 19,
    "start_time": "2024-12-30T19:13:33.316Z"
   },
   {
    "duration": 3,
    "start_time": "2024-12-30T19:13:34.001Z"
   },
   {
    "duration": 20,
    "start_time": "2024-12-30T19:13:34.827Z"
   },
   {
    "duration": 7,
    "start_time": "2024-12-30T19:13:36.234Z"
   },
   {
    "duration": 6,
    "start_time": "2024-12-30T19:13:38.499Z"
   },
   {
    "duration": 9,
    "start_time": "2024-12-30T19:13:39.546Z"
   },
   {
    "duration": 6,
    "start_time": "2024-12-30T19:13:41.647Z"
   },
   {
    "duration": 9,
    "start_time": "2024-12-30T19:13:42.305Z"
   },
   {
    "duration": 757,
    "start_time": "2024-12-30T19:13:44.121Z"
   },
   {
    "duration": 820,
    "start_time": "2024-12-30T19:13:45.163Z"
   },
   {
    "duration": 10,
    "start_time": "2024-12-30T19:13:47.920Z"
   },
   {
    "duration": 6,
    "start_time": "2024-12-30T19:13:48.563Z"
   },
   {
    "duration": 4,
    "start_time": "2024-12-30T19:13:49.216Z"
   },
   {
    "duration": 9,
    "start_time": "2024-12-30T19:15:31.773Z"
   },
   {
    "duration": 9,
    "start_time": "2024-12-30T19:15:34.250Z"
   },
   {
    "duration": 15,
    "start_time": "2024-12-30T19:15:37.162Z"
   },
   {
    "duration": 7,
    "start_time": "2024-12-30T19:15:37.835Z"
   },
   {
    "duration": 496,
    "start_time": "2024-12-30T19:15:39.930Z"
   },
   {
    "duration": 48,
    "start_time": "2024-12-30T19:15:40.544Z"
   },
   {
    "duration": 13,
    "start_time": "2024-12-30T19:15:42.030Z"
   },
   {
    "duration": 64,
    "start_time": "2024-12-30T19:15:42.691Z"
   },
   {
    "duration": 33,
    "start_time": "2024-12-30T19:15:43.320Z"
   },
   {
    "duration": 5,
    "start_time": "2024-12-30T19:23:32.534Z"
   },
   {
    "duration": 23,
    "start_time": "2024-12-30T19:23:39.329Z"
   },
   {
    "duration": 615,
    "start_time": "2024-12-30T19:26:02.756Z"
   },
   {
    "duration": 114,
    "start_time": "2024-12-30T19:26:17.160Z"
   },
   {
    "duration": 5,
    "start_time": "2024-12-30T19:26:44.110Z"
   },
   {
    "duration": 105,
    "start_time": "2024-12-30T19:26:49.351Z"
   },
   {
    "duration": 106,
    "start_time": "2024-12-30T19:27:17.718Z"
   },
   {
    "duration": 112,
    "start_time": "2024-12-30T19:29:15.363Z"
   },
   {
    "duration": 107,
    "start_time": "2024-12-30T19:29:27.305Z"
   },
   {
    "duration": 2,
    "start_time": "2024-12-30T19:29:43.143Z"
   },
   {
    "duration": 3,
    "start_time": "2024-12-30T19:29:44.036Z"
   },
   {
    "duration": 107,
    "start_time": "2024-12-30T19:29:44.957Z"
   },
   {
    "duration": 32,
    "start_time": "2024-12-30T19:29:45.727Z"
   },
   {
    "duration": 700,
    "start_time": "2024-12-30T19:29:46.394Z"
   },
   {
    "duration": 6,
    "start_time": "2024-12-30T19:29:47.219Z"
   },
   {
    "duration": 6,
    "start_time": "2024-12-30T19:29:47.962Z"
   },
   {
    "duration": 7,
    "start_time": "2024-12-30T19:29:50.491Z"
   },
   {
    "duration": 136,
    "start_time": "2024-12-30T19:29:51.352Z"
   },
   {
    "duration": 76,
    "start_time": "2024-12-30T19:29:52.531Z"
   },
   {
    "duration": 76,
    "start_time": "2024-12-30T19:29:53.267Z"
   },
   {
    "duration": 22,
    "start_time": "2024-12-30T19:29:54.117Z"
   },
   {
    "duration": 23,
    "start_time": "2024-12-30T19:29:56.867Z"
   },
   {
    "duration": 4,
    "start_time": "2024-12-30T19:29:57.692Z"
   },
   {
    "duration": 20,
    "start_time": "2024-12-30T19:29:58.471Z"
   },
   {
    "duration": 6,
    "start_time": "2024-12-30T19:29:59.359Z"
   },
   {
    "duration": 5,
    "start_time": "2024-12-30T19:30:01.388Z"
   },
   {
    "duration": 8,
    "start_time": "2024-12-30T19:30:02.024Z"
   },
   {
    "duration": 6,
    "start_time": "2024-12-30T19:30:04.168Z"
   },
   {
    "duration": 8,
    "start_time": "2024-12-30T19:30:04.890Z"
   },
   {
    "duration": 720,
    "start_time": "2024-12-30T19:30:07.014Z"
   },
   {
    "duration": 799,
    "start_time": "2024-12-30T19:30:07.840Z"
   },
   {
    "duration": 10,
    "start_time": "2024-12-30T19:30:11.743Z"
   },
   {
    "duration": 6,
    "start_time": "2024-12-30T19:30:12.727Z"
   },
   {
    "duration": 4,
    "start_time": "2024-12-30T19:30:14.754Z"
   },
   {
    "duration": 9,
    "start_time": "2024-12-30T19:30:16.087Z"
   },
   {
    "duration": 9,
    "start_time": "2024-12-30T19:30:17.235Z"
   },
   {
    "duration": 11,
    "start_time": "2024-12-30T19:30:20.408Z"
   },
   {
    "duration": 7,
    "start_time": "2024-12-30T19:30:23.743Z"
   },
   {
    "duration": 505,
    "start_time": "2024-12-30T19:30:26.702Z"
   },
   {
    "duration": 49,
    "start_time": "2024-12-30T19:30:28.834Z"
   },
   {
    "duration": 13,
    "start_time": "2024-12-30T19:30:30.506Z"
   },
   {
    "duration": 63,
    "start_time": "2024-12-30T19:30:32.479Z"
   },
   {
    "duration": 38,
    "start_time": "2024-12-30T19:30:34.002Z"
   },
   {
    "duration": 107,
    "start_time": "2024-12-30T19:30:37.907Z"
   },
   {
    "duration": 110,
    "start_time": "2024-12-30T19:33:09.171Z"
   },
   {
    "duration": 321,
    "start_time": "2024-12-30T19:33:23.896Z"
   },
   {
    "duration": 1960,
    "start_time": "2024-12-30T19:39:02.967Z"
   },
   {
    "duration": 3,
    "start_time": "2024-12-30T19:41:26.654Z"
   },
   {
    "duration": 3,
    "start_time": "2024-12-30T19:41:27.224Z"
   },
   {
    "duration": 115,
    "start_time": "2024-12-30T19:41:27.851Z"
   },
   {
    "duration": 31,
    "start_time": "2024-12-30T19:41:28.258Z"
   },
   {
    "duration": 682,
    "start_time": "2024-12-30T19:41:28.771Z"
   },
   {
    "duration": 16,
    "start_time": "2024-12-30T19:41:29.455Z"
   },
   {
    "duration": 5,
    "start_time": "2024-12-30T19:41:29.685Z"
   },
   {
    "duration": 7,
    "start_time": "2024-12-30T19:41:31.099Z"
   },
   {
    "duration": 139,
    "start_time": "2024-12-30T19:41:31.683Z"
   },
   {
    "duration": 78,
    "start_time": "2024-12-30T19:41:32.212Z"
   },
   {
    "duration": 81,
    "start_time": "2024-12-30T19:41:32.812Z"
   },
   {
    "duration": 26,
    "start_time": "2024-12-30T19:41:33.331Z"
   },
   {
    "duration": 20,
    "start_time": "2024-12-30T19:41:35.097Z"
   },
   {
    "duration": 4,
    "start_time": "2024-12-30T19:41:35.628Z"
   },
   {
    "duration": 21,
    "start_time": "2024-12-30T19:41:36.131Z"
   },
   {
    "duration": 6,
    "start_time": "2024-12-30T19:41:36.558Z"
   },
   {
    "duration": 8,
    "start_time": "2024-12-30T19:41:37.869Z"
   },
   {
    "duration": 8,
    "start_time": "2024-12-30T19:41:38.426Z"
   },
   {
    "duration": 6,
    "start_time": "2024-12-30T19:41:39.894Z"
   },
   {
    "duration": 9,
    "start_time": "2024-12-30T19:41:40.484Z"
   },
   {
    "duration": 744,
    "start_time": "2024-12-30T19:41:42.094Z"
   },
   {
    "duration": 830,
    "start_time": "2024-12-30T19:41:42.840Z"
   },
   {
    "duration": 11,
    "start_time": "2024-12-30T19:41:44.315Z"
   },
   {
    "duration": 7,
    "start_time": "2024-12-30T19:41:44.847Z"
   },
   {
    "duration": 3,
    "start_time": "2024-12-30T19:41:45.173Z"
   },
   {
    "duration": 9,
    "start_time": "2024-12-30T19:41:45.511Z"
   },
   {
    "duration": 9,
    "start_time": "2024-12-30T19:41:45.928Z"
   },
   {
    "duration": 10,
    "start_time": "2024-12-30T19:41:47.413Z"
   },
   {
    "duration": 7,
    "start_time": "2024-12-30T19:41:48.019Z"
   },
   {
    "duration": 501,
    "start_time": "2024-12-30T19:41:49.659Z"
   },
   {
    "duration": 48,
    "start_time": "2024-12-30T19:41:50.253Z"
   },
   {
    "duration": 12,
    "start_time": "2024-12-30T19:41:51.072Z"
   },
   {
    "duration": 63,
    "start_time": "2024-12-30T19:41:51.787Z"
   },
   {
    "duration": 36,
    "start_time": "2024-12-30T19:41:52.423Z"
   },
   {
    "duration": 1521,
    "start_time": "2024-12-30T19:41:55.755Z"
   },
   {
    "duration": 5,
    "start_time": "2024-12-30T19:44:23.694Z"
   },
   {
    "duration": 1504,
    "start_time": "2024-12-30T19:44:29.988Z"
   },
   {
    "duration": 1521,
    "start_time": "2024-12-30T19:45:43.511Z"
   },
   {
    "duration": 4,
    "start_time": "2024-12-30T19:50:10.951Z"
   },
   {
    "duration": 4,
    "start_time": "2024-12-30T19:50:47.901Z"
   },
   {
    "duration": 17,
    "start_time": "2024-12-30T19:51:17.778Z"
   },
   {
    "duration": 186,
    "start_time": "2024-12-30T19:51:48.895Z"
   },
   {
    "duration": 1344,
    "start_time": "2024-12-30T19:52:58.001Z"
   },
   {
    "duration": 346,
    "start_time": "2024-12-31T01:32:57.819Z"
   },
   {
    "duration": 2005,
    "start_time": "2024-12-31T01:32:58.831Z"
   },
   {
    "duration": 156,
    "start_time": "2024-12-31T01:33:01.732Z"
   },
   {
    "duration": 56,
    "start_time": "2024-12-31T01:33:02.711Z"
   },
   {
    "duration": 832,
    "start_time": "2024-12-31T01:33:03.495Z"
   },
   {
    "duration": 9,
    "start_time": "2024-12-31T01:33:04.415Z"
   },
   {
    "duration": 10,
    "start_time": "2024-12-31T01:33:05.045Z"
   },
   {
    "duration": 18,
    "start_time": "2024-12-31T01:33:07.799Z"
   },
   {
    "duration": 203,
    "start_time": "2024-12-31T01:33:08.615Z"
   },
   {
    "duration": 110,
    "start_time": "2024-12-31T01:33:09.172Z"
   },
   {
    "duration": 95,
    "start_time": "2024-12-31T01:33:10.051Z"
   },
   {
    "duration": 32,
    "start_time": "2024-12-31T01:33:10.835Z"
   },
   {
    "duration": 22,
    "start_time": "2024-12-31T01:33:12.984Z"
   },
   {
    "duration": 4,
    "start_time": "2024-12-31T01:33:13.741Z"
   },
   {
    "duration": 24,
    "start_time": "2024-12-31T01:33:14.305Z"
   },
   {
    "duration": 7,
    "start_time": "2024-12-31T01:33:14.977Z"
   },
   {
    "duration": 9,
    "start_time": "2024-12-31T01:33:16.913Z"
   },
   {
    "duration": 12,
    "start_time": "2024-12-31T01:33:17.626Z"
   },
   {
    "duration": 6,
    "start_time": "2024-12-31T01:33:19.596Z"
   },
   {
    "duration": 12,
    "start_time": "2024-12-31T01:33:20.326Z"
   },
   {
    "duration": 871,
    "start_time": "2024-12-31T01:33:22.308Z"
   },
   {
    "duration": 964,
    "start_time": "2024-12-31T01:33:23.182Z"
   },
   {
    "duration": 12,
    "start_time": "2024-12-31T01:33:25.476Z"
   },
   {
    "duration": 6,
    "start_time": "2024-12-31T01:33:26.135Z"
   },
   {
    "duration": 4,
    "start_time": "2024-12-31T01:33:27.063Z"
   },
   {
    "duration": 12,
    "start_time": "2024-12-31T01:33:28.508Z"
   },
   {
    "duration": 11,
    "start_time": "2024-12-31T01:33:30.091Z"
   },
   {
    "duration": 12,
    "start_time": "2024-12-31T01:33:32.871Z"
   },
   {
    "duration": 8,
    "start_time": "2024-12-31T01:33:33.708Z"
   },
   {
    "duration": 514,
    "start_time": "2024-12-31T01:33:40.375Z"
   },
   {
    "duration": 73,
    "start_time": "2024-12-31T01:33:42.559Z"
   },
   {
    "duration": 14,
    "start_time": "2024-12-31T01:33:43.499Z"
   },
   {
    "duration": 76,
    "start_time": "2024-12-31T01:33:44.552Z"
   },
   {
    "duration": 46,
    "start_time": "2024-12-31T01:33:45.699Z"
   },
   {
    "duration": 2354,
    "start_time": "2024-12-31T01:33:52.808Z"
   },
   {
    "duration": 5,
    "start_time": "2024-12-31T01:35:39.467Z"
   },
   {
    "duration": 143,
    "start_time": "2024-12-31T01:41:20.051Z"
   },
   {
    "duration": 133,
    "start_time": "2024-12-31T01:41:51.884Z"
   },
   {
    "duration": 123,
    "start_time": "2024-12-31T01:42:09.235Z"
   },
   {
    "duration": 149,
    "start_time": "2024-12-31T01:42:17.232Z"
   },
   {
    "duration": 113,
    "start_time": "2024-12-31T01:47:15.895Z"
   },
   {
    "duration": 204,
    "start_time": "2024-12-31T01:47:49.956Z"
   },
   {
    "duration": 14,
    "start_time": "2024-12-31T01:50:57.229Z"
   },
   {
    "duration": 208,
    "start_time": "2024-12-31T01:50:57.969Z"
   },
   {
    "duration": 118,
    "start_time": "2024-12-31T01:51:01.980Z"
   },
   {
    "duration": 2,
    "start_time": "2024-12-31T01:51:09.565Z"
   },
   {
    "duration": 199,
    "start_time": "2024-12-31T01:51:48.612Z"
   },
   {
    "duration": 190,
    "start_time": "2024-12-31T01:53:34.960Z"
   },
   {
    "duration": 196,
    "start_time": "2024-12-31T01:57:06.334Z"
   },
   {
    "duration": 195,
    "start_time": "2024-12-31T01:57:18.203Z"
   },
   {
    "duration": 305,
    "start_time": "2025-01-02T18:15:34.425Z"
   },
   {
    "duration": 1854,
    "start_time": "2025-01-02T18:15:35.738Z"
   },
   {
    "duration": 164,
    "start_time": "2025-01-02T18:15:37.594Z"
   },
   {
    "duration": 57,
    "start_time": "2025-01-02T18:15:37.760Z"
   },
   {
    "duration": 834,
    "start_time": "2025-01-02T18:15:37.819Z"
   },
   {
    "duration": 7,
    "start_time": "2025-01-02T18:15:38.656Z"
   },
   {
    "duration": 8,
    "start_time": "2025-01-02T18:15:38.855Z"
   },
   {
    "duration": 8,
    "start_time": "2025-01-02T18:15:40.432Z"
   },
   {
    "duration": 199,
    "start_time": "2025-01-02T18:15:41.071Z"
   },
   {
    "duration": 113,
    "start_time": "2025-01-02T18:15:41.667Z"
   },
   {
    "duration": 89,
    "start_time": "2025-01-02T18:15:42.572Z"
   },
   {
    "duration": 30,
    "start_time": "2025-01-02T18:15:43.283Z"
   },
   {
    "duration": 21,
    "start_time": "2025-01-02T18:15:45.531Z"
   },
   {
    "duration": 3,
    "start_time": "2025-01-02T18:15:46.125Z"
   },
   {
    "duration": 21,
    "start_time": "2025-01-02T18:15:46.707Z"
   },
   {
    "duration": 5,
    "start_time": "2025-01-02T18:15:47.299Z"
   },
   {
    "duration": 8,
    "start_time": "2025-01-02T18:15:48.899Z"
   },
   {
    "duration": 8,
    "start_time": "2025-01-02T18:15:49.475Z"
   },
   {
    "duration": 6,
    "start_time": "2025-01-02T18:15:51.174Z"
   },
   {
    "duration": 9,
    "start_time": "2025-01-02T18:15:51.763Z"
   },
   {
    "duration": 779,
    "start_time": "2025-01-02T18:15:53.511Z"
   },
   {
    "duration": 882,
    "start_time": "2025-01-02T18:15:54.471Z"
   },
   {
    "duration": 11,
    "start_time": "2025-01-02T18:15:56.544Z"
   },
   {
    "duration": 6,
    "start_time": "2025-01-02T18:15:57.252Z"
   },
   {
    "duration": 4,
    "start_time": "2025-01-02T18:15:57.823Z"
   },
   {
    "duration": 8,
    "start_time": "2025-01-02T18:15:58.788Z"
   },
   {
    "duration": 10,
    "start_time": "2025-01-02T18:16:00.979Z"
   },
   {
    "duration": 10,
    "start_time": "2025-01-02T18:16:04.572Z"
   },
   {
    "duration": 7,
    "start_time": "2025-01-02T18:16:05.800Z"
   },
   {
    "duration": 515,
    "start_time": "2025-01-02T18:16:08.121Z"
   },
   {
    "duration": 52,
    "start_time": "2025-01-02T18:16:08.928Z"
   },
   {
    "duration": 13,
    "start_time": "2025-01-02T18:16:09.476Z"
   },
   {
    "duration": 63,
    "start_time": "2025-01-02T18:16:10.124Z"
   },
   {
    "duration": 38,
    "start_time": "2025-01-02T18:16:10.688Z"
   },
   {
    "duration": 4,
    "start_time": "2025-01-02T18:16:13.640Z"
   },
   {
    "duration": 4,
    "start_time": "2025-01-02T18:16:14.434Z"
   },
   {
    "duration": 209,
    "start_time": "2025-01-02T18:16:20.388Z"
   },
   {
    "duration": 165,
    "start_time": "2025-01-02T18:16:26.244Z"
   },
   {
    "duration": 7,
    "start_time": "2025-01-02T18:16:32.613Z"
   },
   {
    "duration": 192,
    "start_time": "2025-01-02T18:16:51.595Z"
   },
   {
    "duration": 187,
    "start_time": "2025-01-02T19:17:13.243Z"
   },
   {
    "duration": 11,
    "start_time": "2025-01-02T19:17:20.708Z"
   },
   {
    "duration": 39,
    "start_time": "2025-01-02T19:18:17.475Z"
   },
   {
    "duration": 199,
    "start_time": "2025-01-02T19:18:19.911Z"
   },
   {
    "duration": 332,
    "start_time": "2025-01-02T20:16:28.823Z"
   },
   {
    "duration": 1808,
    "start_time": "2025-01-02T20:16:30.128Z"
   },
   {
    "duration": 148,
    "start_time": "2025-01-02T20:16:31.938Z"
   },
   {
    "duration": 51,
    "start_time": "2025-01-02T20:16:32.968Z"
   },
   {
    "duration": 775,
    "start_time": "2025-01-02T20:16:33.487Z"
   },
   {
    "duration": 6,
    "start_time": "2025-01-02T20:16:34.264Z"
   },
   {
    "duration": 6,
    "start_time": "2025-01-02T20:16:34.496Z"
   },
   {
    "duration": 9,
    "start_time": "2025-01-02T20:16:36.065Z"
   },
   {
    "duration": 192,
    "start_time": "2025-01-02T20:16:36.632Z"
   },
   {
    "duration": 114,
    "start_time": "2025-01-02T20:16:37.127Z"
   },
   {
    "duration": 88,
    "start_time": "2025-01-02T20:16:37.599Z"
   },
   {
    "duration": 28,
    "start_time": "2025-01-02T20:16:38.168Z"
   },
   {
    "duration": 22,
    "start_time": "2025-01-02T20:16:40.208Z"
   },
   {
    "duration": 3,
    "start_time": "2025-01-02T20:16:40.785Z"
   },
   {
    "duration": 21,
    "start_time": "2025-01-02T20:16:41.555Z"
   },
   {
    "duration": 6,
    "start_time": "2025-01-02T20:16:42.259Z"
   },
   {
    "duration": 7,
    "start_time": "2025-01-02T20:16:44.376Z"
   },
   {
    "duration": 9,
    "start_time": "2025-01-02T20:16:45.015Z"
   },
   {
    "duration": 6,
    "start_time": "2025-01-02T20:16:47.259Z"
   },
   {
    "duration": 9,
    "start_time": "2025-01-02T20:16:48.219Z"
   },
   {
    "duration": 756,
    "start_time": "2025-01-02T20:16:50.471Z"
   },
   {
    "duration": 848,
    "start_time": "2025-01-02T20:16:51.472Z"
   },
   {
    "duration": 9,
    "start_time": "2025-01-02T20:16:54.879Z"
   },
   {
    "duration": 6,
    "start_time": "2025-01-02T20:16:56.388Z"
   },
   {
    "duration": 6,
    "start_time": "2025-01-02T20:16:57.285Z"
   },
   {
    "duration": 9,
    "start_time": "2025-01-02T20:16:58.193Z"
   },
   {
    "duration": 9,
    "start_time": "2025-01-02T20:16:59.027Z"
   },
   {
    "duration": 10,
    "start_time": "2025-01-02T20:17:01.387Z"
   },
   {
    "duration": 7,
    "start_time": "2025-01-02T20:17:02.012Z"
   },
   {
    "duration": 496,
    "start_time": "2025-01-02T20:17:03.923Z"
   },
   {
    "duration": 48,
    "start_time": "2025-01-02T20:17:05.671Z"
   },
   {
    "duration": 12,
    "start_time": "2025-01-02T20:17:06.824Z"
   },
   {
    "duration": 63,
    "start_time": "2025-01-02T20:17:08.235Z"
   },
   {
    "duration": 36,
    "start_time": "2025-01-02T20:17:10.023Z"
   },
   {
    "duration": 4,
    "start_time": "2025-01-02T20:17:14.938Z"
   },
   {
    "duration": 6,
    "start_time": "2025-01-02T20:17:15.667Z"
   },
   {
    "duration": 213,
    "start_time": "2025-01-02T20:17:17.287Z"
   },
   {
    "duration": 111,
    "start_time": "2025-01-02T20:17:19.240Z"
   },
   {
    "duration": 7,
    "start_time": "2025-01-02T20:17:20.823Z"
   },
   {
    "duration": 193,
    "start_time": "2025-01-02T20:17:24.932Z"
   },
   {
    "duration": 40,
    "start_time": "2025-01-02T20:17:31.918Z"
   },
   {
    "duration": 238,
    "start_time": "2025-01-02T20:17:33.392Z"
   },
   {
    "duration": 198,
    "start_time": "2025-01-02T20:17:41.255Z"
   },
   {
    "duration": 85,
    "start_time": "2025-01-02T20:19:35.799Z"
   },
   {
    "duration": 6,
    "start_time": "2025-01-02T20:19:36.399Z"
   },
   {
    "duration": 361,
    "start_time": "2025-01-02T20:19:37.216Z"
   },
   {
    "duration": 648,
    "start_time": "2025-01-02T20:42:36.133Z"
   },
   {
    "duration": 19,
    "start_time": "2025-01-02T20:43:17.715Z"
   },
   {
    "duration": 6,
    "start_time": "2025-01-02T20:43:28.732Z"
   },
   {
    "duration": 234,
    "start_time": "2025-01-02T20:43:31.939Z"
   },
   {
    "duration": 18,
    "start_time": "2025-01-02T20:53:57.475Z"
   },
   {
    "duration": 13,
    "start_time": "2025-01-02T20:53:58.300Z"
   },
   {
    "duration": 2,
    "start_time": "2025-01-02T21:15:28.978Z"
   },
   {
    "duration": 3,
    "start_time": "2025-01-02T21:58:19.587Z"
   },
   {
    "duration": 2,
    "start_time": "2025-01-02T21:58:20.401Z"
   },
   {
    "duration": 109,
    "start_time": "2025-01-02T21:58:21.095Z"
   },
   {
    "duration": 34,
    "start_time": "2025-01-02T21:58:21.684Z"
   },
   {
    "duration": 684,
    "start_time": "2025-01-02T21:58:22.231Z"
   },
   {
    "duration": 6,
    "start_time": "2025-01-02T21:58:22.917Z"
   },
   {
    "duration": 7,
    "start_time": "2025-01-02T21:58:23.736Z"
   },
   {
    "duration": 8,
    "start_time": "2025-01-02T21:58:26.043Z"
   },
   {
    "duration": 162,
    "start_time": "2025-01-02T21:58:27.297Z"
   },
   {
    "duration": 76,
    "start_time": "2025-01-02T21:58:28.812Z"
   },
   {
    "duration": 70,
    "start_time": "2025-01-02T21:58:29.932Z"
   },
   {
    "duration": 27,
    "start_time": "2025-01-02T21:58:30.948Z"
   },
   {
    "duration": 28,
    "start_time": "2025-01-02T21:58:33.408Z"
   },
   {
    "duration": 3,
    "start_time": "2025-01-02T21:58:34.200Z"
   },
   {
    "duration": 32,
    "start_time": "2025-01-02T21:58:35.149Z"
   },
   {
    "duration": 9,
    "start_time": "2025-01-02T21:58:36.296Z"
   },
   {
    "duration": 6,
    "start_time": "2025-01-02T21:58:39.329Z"
   },
   {
    "duration": 8,
    "start_time": "2025-01-02T21:58:40.289Z"
   },
   {
    "duration": 7,
    "start_time": "2025-01-02T21:58:43.056Z"
   },
   {
    "duration": 9,
    "start_time": "2025-01-02T21:58:43.764Z"
   },
   {
    "duration": 765,
    "start_time": "2025-01-02T21:58:45.783Z"
   },
   {
    "duration": 911,
    "start_time": "2025-01-02T21:58:46.873Z"
   },
   {
    "duration": 12,
    "start_time": "2025-01-02T22:02:09.884Z"
   },
   {
    "duration": 9,
    "start_time": "2025-01-02T22:02:10.775Z"
   },
   {
    "duration": 4,
    "start_time": "2025-01-02T22:02:11.669Z"
   },
   {
    "duration": 12,
    "start_time": "2025-01-02T22:02:13.289Z"
   },
   {
    "duration": 12,
    "start_time": "2025-01-02T22:02:14.435Z"
   },
   {
    "duration": 11,
    "start_time": "2025-01-02T22:02:17.124Z"
   },
   {
    "duration": 8,
    "start_time": "2025-01-02T22:02:17.801Z"
   },
   {
    "duration": 506,
    "start_time": "2025-01-02T22:02:20.487Z"
   },
   {
    "duration": 52,
    "start_time": "2025-01-02T22:02:22.197Z"
   },
   {
    "duration": 13,
    "start_time": "2025-01-02T22:02:23.244Z"
   },
   {
    "duration": 62,
    "start_time": "2025-01-02T22:02:27.883Z"
   },
   {
    "duration": 38,
    "start_time": "2025-01-02T22:02:29.776Z"
   },
   {
    "duration": 4,
    "start_time": "2025-01-02T22:02:34.084Z"
   },
   {
    "duration": 4,
    "start_time": "2025-01-02T22:02:35.198Z"
   },
   {
    "duration": 204,
    "start_time": "2025-01-02T22:02:37.224Z"
   },
   {
    "duration": 111,
    "start_time": "2025-01-02T22:02:42.805Z"
   },
   {
    "duration": 7,
    "start_time": "2025-01-02T22:02:45.221Z"
   },
   {
    "duration": 210,
    "start_time": "2025-01-02T22:02:49.652Z"
   },
   {
    "duration": 107,
    "start_time": "2025-01-02T22:02:54.855Z"
   },
   {
    "duration": 147,
    "start_time": "2025-01-02T22:02:55.936Z"
   },
   {
    "duration": 203,
    "start_time": "2025-01-02T22:03:23.999Z"
   },
   {
    "duration": 143,
    "start_time": "2025-01-02T22:03:45.240Z"
   },
   {
    "duration": 141,
    "start_time": "2025-01-02T22:04:20.230Z"
   },
   {
    "duration": 141,
    "start_time": "2025-01-02T22:04:44.441Z"
   },
   {
    "duration": 358,
    "start_time": "2025-01-04T02:25:55.322Z"
   },
   {
    "duration": 1900,
    "start_time": "2025-01-04T02:25:56.510Z"
   },
   {
    "duration": 159,
    "start_time": "2025-01-04T02:25:59.250Z"
   },
   {
    "duration": 54,
    "start_time": "2025-01-04T02:26:00.038Z"
   },
   {
    "duration": 794,
    "start_time": "2025-01-04T02:26:00.818Z"
   },
   {
    "duration": 8,
    "start_time": "2025-01-04T02:26:01.651Z"
   },
   {
    "duration": 9,
    "start_time": "2025-01-04T02:26:02.656Z"
   },
   {
    "duration": 9,
    "start_time": "2025-01-04T02:26:14.861Z"
   },
   {
    "duration": 195,
    "start_time": "2025-01-04T02:26:20.910Z"
   },
   {
    "duration": 116,
    "start_time": "2025-01-04T02:26:35.158Z"
   },
   {
    "duration": 88,
    "start_time": "2025-01-04T02:26:37.947Z"
   },
   {
    "duration": 31,
    "start_time": "2025-01-04T02:26:39.579Z"
   },
   {
    "duration": 22,
    "start_time": "2025-01-04T02:26:45.838Z"
   },
   {
    "duration": 3,
    "start_time": "2025-01-04T02:26:46.871Z"
   },
   {
    "duration": 21,
    "start_time": "2025-01-04T02:26:54.391Z"
   },
   {
    "duration": 6,
    "start_time": "2025-01-04T02:30:30.514Z"
   },
   {
    "duration": 8,
    "start_time": "2025-01-04T02:30:49.566Z"
   },
   {
    "duration": 10,
    "start_time": "2025-01-04T02:30:50.161Z"
   },
   {
    "duration": 6,
    "start_time": "2025-01-04T02:30:51.532Z"
   },
   {
    "duration": 9,
    "start_time": "2025-01-04T02:30:51.885Z"
   },
   {
    "duration": 930,
    "start_time": "2025-01-04T02:30:53.690Z"
   },
   {
    "duration": 935,
    "start_time": "2025-01-04T02:30:54.886Z"
   },
   {
    "duration": 14,
    "start_time": "2025-01-04T02:30:57.806Z"
   },
   {
    "duration": 6,
    "start_time": "2025-01-04T02:30:58.442Z"
   },
   {
    "duration": 4,
    "start_time": "2025-01-04T02:31:00.902Z"
   },
   {
    "duration": 9,
    "start_time": "2025-01-04T02:31:02.770Z"
   },
   {
    "duration": 9,
    "start_time": "2025-01-04T02:31:04.419Z"
   },
   {
    "duration": 10,
    "start_time": "2025-01-04T02:31:08.047Z"
   },
   {
    "duration": 6,
    "start_time": "2025-01-04T02:31:08.752Z"
   },
   {
    "duration": 519,
    "start_time": "2025-01-04T02:31:11.014Z"
   },
   {
    "duration": 51,
    "start_time": "2025-01-04T02:31:11.930Z"
   },
   {
    "duration": 12,
    "start_time": "2025-01-04T02:31:13.010Z"
   },
   {
    "duration": 62,
    "start_time": "2025-01-04T02:31:13.902Z"
   },
   {
    "duration": 39,
    "start_time": "2025-01-04T02:31:15.072Z"
   },
   {
    "duration": 5,
    "start_time": "2025-01-04T02:31:18.158Z"
   },
   {
    "duration": 6,
    "start_time": "2025-01-04T02:31:18.850Z"
   },
   {
    "duration": 201,
    "start_time": "2025-01-04T02:31:21.122Z"
   },
   {
    "duration": 152,
    "start_time": "2025-01-04T02:31:24.875Z"
   },
   {
    "duration": 7,
    "start_time": "2025-01-04T02:31:30.179Z"
   },
   {
    "duration": 94,
    "start_time": "2025-01-04T02:33:35.419Z"
   },
   {
    "duration": 10,
    "start_time": "2025-01-04T02:34:01.039Z"
   },
   {
    "duration": 9,
    "start_time": "2025-01-04T02:34:21.019Z"
   },
   {
    "duration": 33,
    "start_time": "2025-01-04T02:41:04.854Z"
   },
   {
    "duration": 60,
    "start_time": "2025-01-04T02:41:16.790Z"
   },
   {
    "duration": 32,
    "start_time": "2025-01-04T02:41:35.768Z"
   },
   {
    "duration": 465,
    "start_time": "2025-01-04T02:41:39.995Z"
   },
   {
    "duration": 27,
    "start_time": "2025-01-04T02:41:41.842Z"
   },
   {
    "duration": 5,
    "start_time": "2025-01-04T02:41:42.479Z"
   },
   {
    "duration": 7,
    "start_time": "2025-01-04T02:41:42.966Z"
   },
   {
    "duration": 49,
    "start_time": "2025-01-04T02:41:43.307Z"
   },
   {
    "duration": 5,
    "start_time": "2025-01-04T02:41:50.202Z"
   },
   {
    "duration": 4,
    "start_time": "2025-01-04T02:41:51.045Z"
   },
   {
    "duration": 195,
    "start_time": "2025-01-04T02:41:52.226Z"
   },
   {
    "duration": 119,
    "start_time": "2025-01-04T02:41:55.160Z"
   },
   {
    "duration": 8,
    "start_time": "2025-01-04T02:41:58.582Z"
   },
   {
    "duration": 201,
    "start_time": "2025-01-04T02:42:17.982Z"
   },
   {
    "duration": 119,
    "start_time": "2025-01-04T02:42:22.418Z"
   },
   {
    "duration": 145,
    "start_time": "2025-01-04T02:42:23.366Z"
   },
   {
    "duration": 16,
    "start_time": "2025-01-04T02:42:26.181Z"
   },
   {
    "duration": 15,
    "start_time": "2025-01-04T02:42:26.854Z"
   },
   {
    "duration": 648593,
    "start_time": "2025-01-04T02:53:07.707Z"
   },
   {
    "duration": 6,
    "start_time": "2025-01-04T03:06:23.743Z"
   },
   {
    "duration": 522,
    "start_time": "2025-01-04T03:06:36.294Z"
   },
   {
    "duration": 7,
    "start_time": "2025-01-04T03:06:51.834Z"
   },
   {
    "duration": 9,
    "start_time": "2025-01-04T03:08:24.615Z"
   },
   {
    "duration": 7,
    "start_time": "2025-01-04T03:08:56.147Z"
   },
   {
    "duration": 236,
    "start_time": "2025-01-04T03:11:43.778Z"
   },
   {
    "duration": 243,
    "start_time": "2025-01-04T03:11:56.243Z"
   },
   {
    "duration": 238,
    "start_time": "2025-01-04T03:12:36.291Z"
   },
   {
    "duration": 259,
    "start_time": "2025-01-04T03:13:01.570Z"
   },
   {
    "duration": 14,
    "start_time": "2025-01-04T03:13:28.957Z"
   },
   {
    "duration": 15,
    "start_time": "2025-01-04T03:13:37.252Z"
   },
   {
    "duration": 241,
    "start_time": "2025-01-04T03:13:42.335Z"
   },
   {
    "duration": 138,
    "start_time": "2025-01-04T03:13:45.805Z"
   },
   {
    "duration": 124,
    "start_time": "2025-01-04T03:13:50.933Z"
   },
   {
    "duration": 115,
    "start_time": "2025-01-04T03:14:21.022Z"
   },
   {
    "duration": 33,
    "start_time": "2025-01-04T03:14:35.058Z"
   },
   {
    "duration": 30,
    "start_time": "2025-01-04T03:14:48.670Z"
   },
   {
    "duration": 34,
    "start_time": "2025-01-04T03:15:00.287Z"
   },
   {
    "duration": 26,
    "start_time": "2025-01-04T03:15:10.234Z"
   },
   {
    "duration": 4,
    "start_time": "2025-01-04T03:15:17.329Z"
   },
   {
    "duration": 25,
    "start_time": "2025-01-04T03:15:21.211Z"
   },
   {
    "duration": 42,
    "start_time": "2025-01-04T03:18:54.358Z"
   },
   {
    "duration": 41,
    "start_time": "2025-01-04T03:19:04.108Z"
   },
   {
    "duration": 38,
    "start_time": "2025-01-04T03:19:16.845Z"
   },
   {
    "duration": 41,
    "start_time": "2025-01-04T03:19:27.510Z"
   },
   {
    "duration": 40,
    "start_time": "2025-01-04T03:19:40.966Z"
   },
   {
    "duration": 10,
    "start_time": "2025-01-04T03:19:50.947Z"
   },
   {
    "duration": 13,
    "start_time": "2025-01-04T03:20:49.804Z"
   },
   {
    "duration": 11,
    "start_time": "2025-01-04T03:21:17.564Z"
   },
   {
    "duration": 10,
    "start_time": "2025-01-04T03:21:24.922Z"
   },
   {
    "duration": 6,
    "start_time": "2025-01-04T03:21:28.409Z"
   },
   {
    "duration": 10,
    "start_time": "2025-01-04T03:21:29.251Z"
   },
   {
    "duration": 6,
    "start_time": "2025-01-04T03:21:31.107Z"
   },
   {
    "duration": 11,
    "start_time": "2025-01-04T03:21:31.739Z"
   },
   {
    "duration": 819,
    "start_time": "2025-01-04T03:21:33.878Z"
   },
   {
    "duration": 881,
    "start_time": "2025-01-04T03:21:35.374Z"
   },
   {
    "duration": 13,
    "start_time": "2025-01-04T03:21:39.134Z"
   },
   {
    "duration": 8,
    "start_time": "2025-01-04T03:24:24.932Z"
   },
   {
    "duration": 4,
    "start_time": "2025-01-04T03:24:27.063Z"
   },
   {
    "duration": 242,
    "start_time": "2025-01-04T03:24:28.979Z"
   },
   {
    "duration": 12,
    "start_time": "2025-01-04T03:24:29.884Z"
   },
   {
    "duration": 48,
    "start_time": "2025-01-04T03:24:46.019Z"
   },
   {
    "duration": 12,
    "start_time": "2025-01-04T03:25:01.411Z"
   },
   {
    "duration": 8,
    "start_time": "2025-01-04T03:25:59.860Z"
   },
   {
    "duration": 59,
    "start_time": "2025-01-04T03:26:49.920Z"
   },
   {
    "duration": 32,
    "start_time": "2025-01-04T03:26:53.335Z"
   },
   {
    "duration": 3,
    "start_time": "2025-01-04T03:58:44.681Z"
   },
   {
    "duration": 3,
    "start_time": "2025-01-04T03:58:46.454Z"
   },
   {
    "duration": 130,
    "start_time": "2025-01-04T03:58:48.548Z"
   },
   {
    "duration": 41,
    "start_time": "2025-01-04T03:58:49.162Z"
   },
   {
    "duration": 723,
    "start_time": "2025-01-04T03:58:49.771Z"
   },
   {
    "duration": 11,
    "start_time": "2025-01-04T03:58:50.499Z"
   },
   {
    "duration": 7,
    "start_time": "2025-01-04T03:58:50.774Z"
   },
   {
    "duration": 7,
    "start_time": "2025-01-04T03:58:52.422Z"
   },
   {
    "duration": 164,
    "start_time": "2025-01-04T03:58:53.166Z"
   },
   {
    "duration": 89,
    "start_time": "2025-01-04T03:58:53.711Z"
   },
   {
    "duration": 78,
    "start_time": "2025-01-04T03:58:54.211Z"
   },
   {
    "duration": 30,
    "start_time": "2025-01-04T03:58:54.594Z"
   },
   {
    "duration": 33,
    "start_time": "2025-01-04T03:58:55.611Z"
   },
   {
    "duration": 5,
    "start_time": "2025-01-04T03:58:55.895Z"
   },
   {
    "duration": 39,
    "start_time": "2025-01-04T03:58:56.230Z"
   },
   {
    "duration": 9,
    "start_time": "2025-01-04T03:58:56.545Z"
   },
   {
    "duration": 6,
    "start_time": "2025-01-04T03:58:57.442Z"
   },
   {
    "duration": 10,
    "start_time": "2025-01-04T03:58:57.684Z"
   },
   {
    "duration": 6,
    "start_time": "2025-01-04T03:58:58.558Z"
   },
   {
    "duration": 12,
    "start_time": "2025-01-04T03:58:58.831Z"
   },
   {
    "duration": 839,
    "start_time": "2025-01-04T03:58:59.698Z"
   },
   {
    "duration": 970,
    "start_time": "2025-01-04T03:59:00.539Z"
   },
   {
    "duration": 14,
    "start_time": "2025-01-04T03:59:02.396Z"
   },
   {
    "duration": 9,
    "start_time": "2025-01-04T03:59:02.975Z"
   },
   {
    "duration": 3,
    "start_time": "2025-01-04T03:59:07.430Z"
   },
   {
    "duration": 12,
    "start_time": "2025-01-04T03:59:08.590Z"
   },
   {
    "duration": 13,
    "start_time": "2025-01-04T03:59:09.994Z"
   },
   {
    "duration": 7,
    "start_time": "2025-01-04T03:59:14.144Z"
   },
   {
    "duration": 11,
    "start_time": "2025-01-04T03:59:20.790Z"
   },
   {
    "duration": 8,
    "start_time": "2025-01-04T03:59:28.086Z"
   },
   {
    "duration": 7,
    "start_time": "2025-01-04T03:59:39.338Z"
   },
   {
    "duration": 524,
    "start_time": "2025-01-04T04:00:14.390Z"
   },
   {
    "duration": 54,
    "start_time": "2025-01-04T04:00:15.922Z"
   },
   {
    "duration": 15,
    "start_time": "2025-01-04T04:00:17.681Z"
   },
   {
    "duration": 63,
    "start_time": "2025-01-04T04:00:19.428Z"
   },
   {
    "duration": 39,
    "start_time": "2025-01-04T04:00:20.878Z"
   },
   {
    "duration": 7,
    "start_time": "2025-01-04T04:00:28.137Z"
   },
   {
    "duration": 5,
    "start_time": "2025-01-04T04:00:28.851Z"
   },
   {
    "duration": 193,
    "start_time": "2025-01-04T04:00:31.007Z"
   },
   {
    "duration": 115,
    "start_time": "2025-01-04T04:00:34.098Z"
   },
   {
    "duration": 7,
    "start_time": "2025-01-04T04:00:39.050Z"
   },
   {
    "duration": 227,
    "start_time": "2025-01-04T04:03:21.242Z"
   },
   {
    "duration": 230,
    "start_time": "2025-01-04T04:05:33.506Z"
   },
   {
    "duration": 241,
    "start_time": "2025-01-04T04:05:41.790Z"
   },
   {
    "duration": 234,
    "start_time": "2025-01-04T04:05:51.891Z"
   },
   {
    "duration": 13,
    "start_time": "2025-01-04T04:06:35.922Z"
   },
   {
    "duration": 228,
    "start_time": "2025-01-04T04:06:41.042Z"
   },
   {
    "duration": 197,
    "start_time": "2025-01-04T04:06:53.606Z"
   },
   {
    "duration": 106,
    "start_time": "2025-01-04T04:07:29.474Z"
   },
   {
    "duration": 148,
    "start_time": "2025-01-04T04:07:30.743Z"
   },
   {
    "duration": 14,
    "start_time": "2025-01-04T04:27:58.349Z"
   },
   {
    "duration": 1111,
    "start_time": "2025-01-04T04:29:11.977Z"
   },
   {
    "duration": 1190,
    "start_time": "2025-01-04T04:30:35.950Z"
   },
   {
    "duration": 1148,
    "start_time": "2025-01-04T04:30:50.413Z"
   },
   {
    "duration": 1222,
    "start_time": "2025-01-04T04:31:06.577Z"
   },
   {
    "duration": 211,
    "start_time": "2025-01-04T04:31:59.476Z"
   },
   {
    "duration": 4,
    "start_time": "2025-01-04T04:47:57.764Z"
   },
   {
    "duration": 35,
    "start_time": "2025-01-04T04:47:57.773Z"
   },
   {
    "duration": 131,
    "start_time": "2025-01-04T04:47:57.819Z"
   },
   {
    "duration": 36,
    "start_time": "2025-01-04T04:47:57.954Z"
   },
   {
    "duration": 715,
    "start_time": "2025-01-04T04:47:57.991Z"
   },
   {
    "duration": 9,
    "start_time": "2025-01-04T04:47:58.708Z"
   },
   {
    "duration": 6,
    "start_time": "2025-01-04T04:47:58.719Z"
   },
   {
    "duration": 2,
    "start_time": "2025-01-04T04:55:45.142Z"
   },
   {
    "duration": 3,
    "start_time": "2025-01-04T04:55:46.494Z"
   },
   {
    "duration": 100,
    "start_time": "2025-01-04T04:55:47.053Z"
   },
   {
    "duration": 34,
    "start_time": "2025-01-04T04:55:47.536Z"
   },
   {
    "duration": 681,
    "start_time": "2025-01-04T04:55:48.057Z"
   },
   {
    "duration": 6,
    "start_time": "2025-01-04T04:55:48.740Z"
   },
   {
    "duration": 6,
    "start_time": "2025-01-04T04:55:49.078Z"
   },
   {
    "duration": 7,
    "start_time": "2025-01-04T04:55:50.070Z"
   },
   {
    "duration": 147,
    "start_time": "2025-01-04T04:55:50.398Z"
   },
   {
    "duration": 86,
    "start_time": "2025-01-04T04:55:50.725Z"
   },
   {
    "duration": 72,
    "start_time": "2025-01-04T04:55:51.077Z"
   },
   {
    "duration": 29,
    "start_time": "2025-01-04T04:55:51.406Z"
   },
   {
    "duration": 30,
    "start_time": "2025-01-04T04:55:52.189Z"
   },
   {
    "duration": 4,
    "start_time": "2025-01-04T04:55:52.490Z"
   },
   {
    "duration": 34,
    "start_time": "2025-01-04T04:55:52.758Z"
   },
   {
    "duration": 9,
    "start_time": "2025-01-04T04:55:53.089Z"
   },
   {
    "duration": 7,
    "start_time": "2025-01-04T04:55:53.841Z"
   },
   {
    "duration": 9,
    "start_time": "2025-01-04T04:55:54.088Z"
   },
   {
    "duration": 6,
    "start_time": "2025-01-04T04:55:54.860Z"
   },
   {
    "duration": 10,
    "start_time": "2025-01-04T04:55:55.093Z"
   },
   {
    "duration": 792,
    "start_time": "2025-01-04T04:55:55.833Z"
   },
   {
    "duration": 883,
    "start_time": "2025-01-04T04:55:56.627Z"
   },
   {
    "duration": 15,
    "start_time": "2025-01-04T04:55:57.512Z"
   },
   {
    "duration": 9,
    "start_time": "2025-01-04T04:55:57.529Z"
   },
   {
    "duration": 4,
    "start_time": "2025-01-04T04:55:57.540Z"
   },
   {
    "duration": 12,
    "start_time": "2025-01-04T04:55:57.792Z"
   },
   {
    "duration": 12,
    "start_time": "2025-01-04T04:55:57.993Z"
   },
   {
    "duration": 8,
    "start_time": "2025-01-04T04:55:58.739Z"
   },
   {
    "duration": 10,
    "start_time": "2025-01-04T04:55:58.957Z"
   },
   {
    "duration": 514,
    "start_time": "2025-01-04T04:55:59.661Z"
   },
   {
    "duration": 66,
    "start_time": "2025-01-04T04:56:00.178Z"
   },
   {
    "duration": 13,
    "start_time": "2025-01-04T04:56:00.246Z"
   },
   {
    "duration": 64,
    "start_time": "2025-01-04T04:56:00.364Z"
   },
   {
    "duration": 41,
    "start_time": "2025-01-04T04:56:00.605Z"
   },
   {
    "duration": 4,
    "start_time": "2025-01-04T04:56:04.335Z"
   },
   {
    "duration": 4,
    "start_time": "2025-01-04T04:56:04.978Z"
   },
   {
    "duration": 192,
    "start_time": "2025-01-04T04:56:06.433Z"
   },
   {
    "duration": 116,
    "start_time": "2025-01-04T04:56:08.788Z"
   },
   {
    "duration": 12,
    "start_time": "2025-01-04T04:56:11.060Z"
   },
   {
    "duration": 17,
    "start_time": "2025-01-04T04:56:21.750Z"
   },
   {
    "duration": 228,
    "start_time": "2025-01-04T04:56:23.353Z"
   },
   {
    "duration": 229,
    "start_time": "2025-01-04T04:56:27.171Z"
   },
   {
    "duration": 115,
    "start_time": "2025-01-04T04:56:39.814Z"
   },
   {
    "duration": 145,
    "start_time": "2025-01-04T04:56:41.633Z"
   },
   {
    "duration": 697,
    "start_time": "2025-01-04T04:57:35.143Z"
   },
   {
    "duration": 495,
    "start_time": "2025-01-04T04:57:37.178Z"
   },
   {
    "duration": 6,
    "start_time": "2025-01-04T04:57:38.258Z"
   },
   {
    "duration": 7,
    "start_time": "2025-01-04T05:01:28.973Z"
   },
   {
    "duration": 247,
    "start_time": "2025-01-04T05:04:14.482Z"
   },
   {
    "duration": 248,
    "start_time": "2025-01-04T05:04:15.634Z"
   },
   {
    "duration": 13,
    "start_time": "2025-01-04T05:05:18.606Z"
   },
   {
    "duration": 278,
    "start_time": "2025-01-04T05:08:40.879Z"
   },
   {
    "duration": 151,
    "start_time": "2025-01-04T05:08:42.230Z"
   },
   {
    "duration": 257,
    "start_time": "2025-01-04T05:09:13.199Z"
   },
   {
    "duration": 150,
    "start_time": "2025-01-04T05:09:29.566Z"
   },
   {
    "duration": 250,
    "start_time": "2025-01-04T05:09:59.998Z"
   },
   {
    "duration": 255,
    "start_time": "2025-01-04T05:10:12.126Z"
   },
   {
    "duration": 175,
    "start_time": "2025-01-04T05:10:32.726Z"
   },
   {
    "duration": 168,
    "start_time": "2025-01-04T05:10:42.089Z"
   },
   {
    "duration": 871,
    "start_time": "2025-01-04T05:12:15.413Z"
   },
   {
    "duration": 145,
    "start_time": "2025-01-04T05:12:31.747Z"
   },
   {
    "duration": 114,
    "start_time": "2025-01-04T05:14:42.873Z"
   },
   {
    "duration": 39,
    "start_time": "2025-01-04T05:14:44.381Z"
   },
   {
    "duration": 26,
    "start_time": "2025-01-04T05:15:17.666Z"
   },
   {
    "duration": 144,
    "start_time": "2025-01-04T05:15:38.001Z"
   },
   {
    "duration": 177,
    "start_time": "2025-01-04T05:20:08.594Z"
   },
   {
    "duration": 174,
    "start_time": "2025-01-04T05:20:15.569Z"
   },
   {
    "duration": 535,
    "start_time": "2025-01-04T05:20:41.618Z"
   },
   {
    "duration": 179,
    "start_time": "2025-01-04T05:21:02.547Z"
   },
   {
    "duration": 274,
    "start_time": "2025-01-04T05:21:38.053Z"
   },
   {
    "duration": 181,
    "start_time": "2025-01-04T05:21:39.269Z"
   },
   {
    "duration": 10,
    "start_time": "2025-01-04T05:22:50.730Z"
   },
   {
    "duration": 114,
    "start_time": "2025-01-04T05:25:00.796Z"
   },
   {
    "duration": 72,
    "start_time": "2025-01-04T05:25:56.377Z"
   },
   {
    "duration": 102,
    "start_time": "2025-01-04T05:26:55.698Z"
   },
   {
    "duration": 5,
    "start_time": "2025-01-04T05:27:30.665Z"
   },
   {
    "duration": 12,
    "start_time": "2025-01-04T05:27:31.260Z"
   },
   {
    "duration": 5,
    "start_time": "2025-01-04T05:27:32.081Z"
   },
   {
    "duration": 3,
    "start_time": "2025-01-04T05:32:19.132Z"
   },
   {
    "duration": 18,
    "start_time": "2025-01-04T05:37:57.057Z"
   },
   {
    "duration": 4,
    "start_time": "2025-01-04T05:38:25.822Z"
   },
   {
    "duration": 111,
    "start_time": "2025-01-04T05:47:15.038Z"
   },
   {
    "duration": 124,
    "start_time": "2025-01-04T05:48:07.274Z"
   },
   {
    "duration": 14,
    "start_time": "2025-01-04T05:49:26.134Z"
   },
   {
    "duration": 13,
    "start_time": "2025-01-04T05:49:36.669Z"
   },
   {
    "duration": 645,
    "start_time": "2025-01-04T05:49:43.276Z"
   },
   {
    "duration": 972,
    "start_time": "2025-01-04T05:50:22.437Z"
   },
   {
    "duration": 12,
    "start_time": "2025-01-04T05:50:52.482Z"
   },
   {
    "duration": 23,
    "start_time": "2025-01-04T05:53:51.613Z"
   },
   {
    "duration": 14,
    "start_time": "2025-01-04T05:54:25.098Z"
   },
   {
    "duration": 114,
    "start_time": "2025-01-04T05:54:40.565Z"
   },
   {
    "duration": 117,
    "start_time": "2025-01-04T06:01:37.366Z"
   },
   {
    "duration": 6,
    "start_time": "2025-01-04T06:01:38.248Z"
   },
   {
    "duration": 4,
    "start_time": "2025-01-04T06:01:45.506Z"
   },
   {
    "duration": 11,
    "start_time": "2025-01-04T06:01:59.519Z"
   },
   {
    "duration": 15,
    "start_time": "2025-01-04T06:02:00.733Z"
   },
   {
    "duration": 426,
    "start_time": "2025-01-04T06:02:18.074Z"
   },
   {
    "duration": 313,
    "start_time": "2025-01-04T07:39:03.350Z"
   },
   {
    "duration": 129,
    "start_time": "2025-01-04T07:39:03.665Z"
   },
   {
    "duration": 162,
    "start_time": "2025-01-04T07:39:03.796Z"
   },
   {
    "duration": 37,
    "start_time": "2025-01-04T07:39:03.961Z"
   },
   {
    "duration": 715,
    "start_time": "2025-01-04T07:39:04.008Z"
   },
   {
    "duration": 5,
    "start_time": "2025-01-04T07:39:04.725Z"
   },
   {
    "duration": 6,
    "start_time": "2025-01-04T07:39:04.732Z"
   },
   {
    "duration": 8,
    "start_time": "2025-01-04T07:39:04.739Z"
   },
   {
    "duration": 211,
    "start_time": "2025-01-04T07:39:04.749Z"
   },
   {
    "duration": 111,
    "start_time": "2025-01-04T07:39:04.962Z"
   },
   {
    "duration": 97,
    "start_time": "2025-01-04T07:39:05.075Z"
   },
   {
    "duration": 34,
    "start_time": "2025-01-04T07:39:05.175Z"
   },
   {
    "duration": 21,
    "start_time": "2025-01-04T07:39:05.211Z"
   },
   {
    "duration": 3,
    "start_time": "2025-01-04T07:39:05.236Z"
   },
   {
    "duration": 22,
    "start_time": "2025-01-04T07:39:05.241Z"
   },
   {
    "duration": 7,
    "start_time": "2025-01-04T07:39:05.264Z"
   },
   {
    "duration": 37,
    "start_time": "2025-01-04T07:39:05.273Z"
   },
   {
    "duration": 9,
    "start_time": "2025-01-04T07:39:05.311Z"
   },
   {
    "duration": 6,
    "start_time": "2025-01-04T07:39:05.321Z"
   },
   {
    "duration": 7,
    "start_time": "2025-01-04T07:39:05.328Z"
   },
   {
    "duration": 799,
    "start_time": "2025-01-04T07:39:05.337Z"
   },
   {
    "duration": 859,
    "start_time": "2025-01-04T07:39:06.138Z"
   },
   {
    "duration": 17,
    "start_time": "2025-01-04T07:39:06.999Z"
   },
   {
    "duration": 6,
    "start_time": "2025-01-04T07:39:07.018Z"
   },
   {
    "duration": 8,
    "start_time": "2025-01-04T07:39:07.026Z"
   },
   {
    "duration": 7,
    "start_time": "2025-01-04T07:39:07.036Z"
   },
   {
    "duration": 8,
    "start_time": "2025-01-04T07:39:07.045Z"
   },
   {
    "duration": 6,
    "start_time": "2025-01-04T07:39:07.055Z"
   },
   {
    "duration": 9,
    "start_time": "2025-01-04T07:39:07.063Z"
   },
   {
    "duration": 524,
    "start_time": "2025-01-04T07:39:07.108Z"
   },
   {
    "duration": 51,
    "start_time": "2025-01-04T07:39:07.634Z"
   },
   {
    "duration": 26,
    "start_time": "2025-01-04T07:39:07.687Z"
   },
   {
    "duration": 64,
    "start_time": "2025-01-04T07:39:07.715Z"
   },
   {
    "duration": 53,
    "start_time": "2025-01-04T07:39:07.783Z"
   },
   {
    "duration": 5,
    "start_time": "2025-01-04T07:39:07.838Z"
   },
   {
    "duration": 5,
    "start_time": "2025-01-04T07:39:07.844Z"
   },
   {
    "duration": 223,
    "start_time": "2025-01-04T07:39:07.850Z"
   },
   {
    "duration": 121,
    "start_time": "2025-01-04T07:39:08.074Z"
   },
   {
    "duration": 19,
    "start_time": "2025-01-04T07:39:08.198Z"
   },
   {
    "duration": 231,
    "start_time": "2025-01-04T07:39:08.218Z"
   },
   {
    "duration": 210,
    "start_time": "2025-01-04T07:39:08.454Z"
   },
   {
    "duration": 126,
    "start_time": "2025-01-04T07:39:08.666Z"
   },
   {
    "duration": 150,
    "start_time": "2025-01-04T07:39:08.794Z"
   },
   {
    "duration": 701,
    "start_time": "2025-01-04T07:39:08.946Z"
   },
   {
    "duration": 451,
    "start_time": "2025-01-04T07:39:09.649Z"
   },
   {
    "duration": 10,
    "start_time": "2025-01-04T07:39:10.102Z"
   },
   {
    "duration": 287,
    "start_time": "2025-01-04T07:39:10.113Z"
   },
   {
    "duration": 183,
    "start_time": "2025-01-04T07:39:10.402Z"
   },
   {
    "duration": 11,
    "start_time": "2025-01-04T07:39:10.588Z"
   },
   {
    "duration": 175,
    "start_time": "2025-01-04T07:39:10.609Z"
   },
   {
    "duration": 4,
    "start_time": "2025-01-04T07:39:10.786Z"
   },
   {
    "duration": 18,
    "start_time": "2025-01-04T07:39:10.791Z"
   },
   {
    "duration": 4,
    "start_time": "2025-01-04T07:39:10.810Z"
   },
   {
    "duration": 153,
    "start_time": "2025-01-04T07:39:10.816Z"
   },
   {
    "duration": 987,
    "start_time": "2025-01-04T07:39:10.971Z"
   },
   {
    "duration": 13,
    "start_time": "2025-01-04T07:39:11.960Z"
   },
   {
    "duration": 106,
    "start_time": "2025-01-04T07:39:11.975Z"
   },
   {
    "duration": 11,
    "start_time": "2025-01-04T07:39:12.082Z"
   },
   {
    "duration": 391,
    "start_time": "2025-01-04T07:39:12.094Z"
   },
   {
    "duration": 174,
    "start_time": "2025-01-05T19:29:45.596Z"
   },
   {
    "duration": 317,
    "start_time": "2025-01-05T19:30:03.019Z"
   },
   {
    "duration": 1843,
    "start_time": "2025-01-05T19:30:03.338Z"
   },
   {
    "duration": 161,
    "start_time": "2025-01-05T19:30:05.184Z"
   },
   {
    "duration": 54,
    "start_time": "2025-01-05T19:30:05.347Z"
   },
   {
    "duration": 770,
    "start_time": "2025-01-05T19:30:05.403Z"
   },
   {
    "duration": 7,
    "start_time": "2025-01-05T19:30:06.175Z"
   },
   {
    "duration": 7,
    "start_time": "2025-01-05T19:30:06.183Z"
   },
   {
    "duration": 9,
    "start_time": "2025-01-05T19:30:06.191Z"
   },
   {
    "duration": 212,
    "start_time": "2025-01-05T19:30:06.202Z"
   },
   {
    "duration": 114,
    "start_time": "2025-01-05T19:30:06.416Z"
   },
   {
    "duration": 106,
    "start_time": "2025-01-05T19:30:06.532Z"
   },
   {
    "duration": 39,
    "start_time": "2025-01-05T19:30:06.639Z"
   },
   {
    "duration": 22,
    "start_time": "2025-01-05T19:30:06.680Z"
   },
   {
    "duration": 3,
    "start_time": "2025-01-05T19:30:06.704Z"
   },
   {
    "duration": 22,
    "start_time": "2025-01-05T19:30:06.709Z"
   },
   {
    "duration": 6,
    "start_time": "2025-01-05T19:30:06.732Z"
   },
   {
    "duration": 36,
    "start_time": "2025-01-05T19:30:06.740Z"
   },
   {
    "duration": 9,
    "start_time": "2025-01-05T19:30:06.778Z"
   },
   {
    "duration": 6,
    "start_time": "2025-01-05T19:30:06.789Z"
   },
   {
    "duration": 7,
    "start_time": "2025-01-05T19:30:06.797Z"
   },
   {
    "duration": 812,
    "start_time": "2025-01-05T19:30:06.806Z"
   },
   {
    "duration": 851,
    "start_time": "2025-01-05T19:30:07.619Z"
   },
   {
    "duration": 9,
    "start_time": "2025-01-05T19:30:08.472Z"
   },
   {
    "duration": 6,
    "start_time": "2025-01-05T19:30:08.483Z"
   },
   {
    "duration": 3,
    "start_time": "2025-01-05T19:30:08.491Z"
   },
   {
    "duration": 7,
    "start_time": "2025-01-05T19:30:08.496Z"
   },
   {
    "duration": 8,
    "start_time": "2025-01-05T19:30:08.505Z"
   },
   {
    "duration": 6,
    "start_time": "2025-01-05T19:30:08.517Z"
   },
   {
    "duration": 46,
    "start_time": "2025-01-05T19:30:08.525Z"
   },
   {
    "duration": 505,
    "start_time": "2025-01-05T19:30:08.573Z"
   },
   {
    "duration": 49,
    "start_time": "2025-01-05T19:30:09.080Z"
   },
   {
    "duration": 13,
    "start_time": "2025-01-05T19:30:09.131Z"
   },
   {
    "duration": 83,
    "start_time": "2025-01-05T19:30:09.146Z"
   },
   {
    "duration": 59,
    "start_time": "2025-01-05T19:30:09.231Z"
   },
   {
    "duration": 4,
    "start_time": "2025-01-05T19:30:09.292Z"
   },
   {
    "duration": 4,
    "start_time": "2025-01-05T19:30:09.298Z"
   },
   {
    "duration": 214,
    "start_time": "2025-01-05T19:30:09.303Z"
   },
   {
    "duration": 154,
    "start_time": "2025-01-05T19:30:09.519Z"
   },
   {
    "duration": 11,
    "start_time": "2025-01-05T19:30:09.675Z"
   },
   {
    "duration": 238,
    "start_time": "2025-01-05T19:30:09.688Z"
   },
   {
    "duration": 202,
    "start_time": "2025-01-05T19:30:09.928Z"
   },
   {
    "duration": 124,
    "start_time": "2025-01-05T19:30:10.132Z"
   },
   {
    "duration": 149,
    "start_time": "2025-01-05T19:30:10.258Z"
   },
   {
    "duration": 650,
    "start_time": "2025-01-05T19:30:10.408Z"
   },
   {
    "duration": 450,
    "start_time": "2025-01-05T19:30:11.060Z"
   },
   {
    "duration": 5,
    "start_time": "2025-01-05T19:30:11.512Z"
   },
   {
    "duration": 266,
    "start_time": "2025-01-05T19:30:11.519Z"
   },
   {
    "duration": 182,
    "start_time": "2025-01-05T19:30:11.786Z"
   },
   {
    "duration": 11,
    "start_time": "2025-01-05T19:30:11.969Z"
   },
   {
    "duration": 135,
    "start_time": "2025-01-05T19:30:11.981Z"
   },
   {
    "duration": 4,
    "start_time": "2025-01-05T19:30:12.118Z"
   },
   {
    "duration": 8,
    "start_time": "2025-01-05T19:30:12.124Z"
   },
   {
    "duration": 4,
    "start_time": "2025-01-05T19:30:12.134Z"
   },
   {
    "duration": 167,
    "start_time": "2025-01-05T19:30:12.140Z"
   },
   {
    "duration": 1095,
    "start_time": "2025-01-05T19:30:12.308Z"
   },
   {
    "duration": 10,
    "start_time": "2025-01-05T19:30:13.405Z"
   },
   {
    "duration": 116,
    "start_time": "2025-01-05T19:30:13.417Z"
   },
   {
    "duration": 10,
    "start_time": "2025-01-05T19:30:13.535Z"
   },
   {
    "duration": 458,
    "start_time": "2025-01-05T19:30:13.547Z"
   },
   {
    "duration": 38,
    "start_time": "2025-01-05T19:30:38.141Z"
   },
   {
    "duration": 186,
    "start_time": "2025-01-05T19:35:35.178Z"
   },
   {
    "duration": 221,
    "start_time": "2025-01-05T19:55:01.464Z"
   },
   {
    "duration": 39,
    "start_time": "2025-01-05T19:55:44.598Z"
   },
   {
    "duration": 381,
    "start_time": "2025-01-05T19:55:55.381Z"
   },
   {
    "duration": 46,
    "start_time": "2025-01-05T19:56:02.965Z"
   },
   {
    "duration": 38,
    "start_time": "2025-01-05T19:56:37.408Z"
   },
   {
    "duration": 34,
    "start_time": "2025-01-05T19:56:57.935Z"
   },
   {
    "duration": 35,
    "start_time": "2025-01-05T19:57:05.745Z"
   },
   {
    "duration": 313,
    "start_time": "2025-01-05T23:02:31.176Z"
   },
   {
    "duration": 2237,
    "start_time": "2025-01-05T23:02:31.491Z"
   },
   {
    "duration": 139,
    "start_time": "2025-01-05T23:02:33.730Z"
   },
   {
    "duration": 50,
    "start_time": "2025-01-05T23:02:33.870Z"
   },
   {
    "duration": 799,
    "start_time": "2025-01-05T23:02:33.929Z"
   },
   {
    "duration": 5,
    "start_time": "2025-01-05T23:02:34.734Z"
   },
   {
    "duration": 5,
    "start_time": "2025-01-05T23:02:34.741Z"
   },
   {
    "duration": 8,
    "start_time": "2025-01-05T23:02:34.747Z"
   },
   {
    "duration": 222,
    "start_time": "2025-01-05T23:02:34.756Z"
   },
   {
    "duration": 113,
    "start_time": "2025-01-05T23:02:34.980Z"
   },
   {
    "duration": 91,
    "start_time": "2025-01-05T23:02:35.095Z"
   },
   {
    "duration": 49,
    "start_time": "2025-01-05T23:02:35.188Z"
   },
   {
    "duration": 22,
    "start_time": "2025-01-05T23:02:35.239Z"
   },
   {
    "duration": 3,
    "start_time": "2025-01-05T23:02:35.264Z"
   },
   {
    "duration": 21,
    "start_time": "2025-01-05T23:02:35.269Z"
   },
   {
    "duration": 38,
    "start_time": "2025-01-05T23:02:35.292Z"
   },
   {
    "duration": 7,
    "start_time": "2025-01-05T23:02:35.332Z"
   },
   {
    "duration": 9,
    "start_time": "2025-01-05T23:02:35.341Z"
   },
   {
    "duration": 5,
    "start_time": "2025-01-05T23:02:35.351Z"
   },
   {
    "duration": 7,
    "start_time": "2025-01-05T23:02:35.358Z"
   },
   {
    "duration": 876,
    "start_time": "2025-01-05T23:02:35.367Z"
   },
   {
    "duration": 1006,
    "start_time": "2025-01-05T23:02:36.245Z"
   },
   {
    "duration": 9,
    "start_time": "2025-01-05T23:02:37.253Z"
   },
   {
    "duration": 5,
    "start_time": "2025-01-05T23:02:37.264Z"
   },
   {
    "duration": 3,
    "start_time": "2025-01-05T23:02:37.271Z"
   },
   {
    "duration": 7,
    "start_time": "2025-01-05T23:02:37.276Z"
   },
   {
    "duration": 36,
    "start_time": "2025-01-05T23:02:37.284Z"
   },
   {
    "duration": 14,
    "start_time": "2025-01-05T23:02:37.322Z"
   },
   {
    "duration": 9,
    "start_time": "2025-01-05T23:02:37.338Z"
   },
   {
    "duration": 539,
    "start_time": "2025-01-05T23:02:37.349Z"
   },
   {
    "duration": 60,
    "start_time": "2025-01-05T23:02:37.890Z"
   },
   {
    "duration": 12,
    "start_time": "2025-01-05T23:02:37.952Z"
   },
   {
    "duration": 95,
    "start_time": "2025-01-05T23:02:37.966Z"
   },
   {
    "duration": 62,
    "start_time": "2025-01-05T23:02:38.063Z"
   },
   {
    "duration": 4,
    "start_time": "2025-01-05T23:02:38.131Z"
   },
   {
    "duration": 3,
    "start_time": "2025-01-05T23:02:38.139Z"
   },
   {
    "duration": 290,
    "start_time": "2025-01-05T23:02:38.144Z"
   },
   {
    "duration": 125,
    "start_time": "2025-01-05T23:02:38.436Z"
   },
   {
    "duration": 12,
    "start_time": "2025-01-05T23:02:38.562Z"
   },
   {
    "duration": 231,
    "start_time": "2025-01-05T23:02:38.575Z"
   },
   {
    "duration": 249,
    "start_time": "2025-01-05T23:02:38.812Z"
   },
   {
    "duration": 126,
    "start_time": "2025-01-05T23:02:39.063Z"
   },
   {
    "duration": 184,
    "start_time": "2025-01-05T23:02:39.190Z"
   },
   {
    "duration": 727,
    "start_time": "2025-01-05T23:02:39.376Z"
   },
   {
    "duration": 528,
    "start_time": "2025-01-05T23:02:40.104Z"
   },
   {
    "duration": 5,
    "start_time": "2025-01-05T23:02:40.634Z"
   },
   {
    "duration": 287,
    "start_time": "2025-01-05T23:02:40.641Z"
   },
   {
    "duration": 202,
    "start_time": "2025-01-05T23:02:40.934Z"
   },
   {
    "duration": 11,
    "start_time": "2025-01-05T23:02:41.139Z"
   },
   {
    "duration": 145,
    "start_time": "2025-01-05T23:02:41.152Z"
   },
   {
    "duration": 9,
    "start_time": "2025-01-05T23:02:41.299Z"
   },
   {
    "duration": 24,
    "start_time": "2025-01-05T23:02:41.309Z"
   },
   {
    "duration": 5,
    "start_time": "2025-01-05T23:02:41.335Z"
   },
   {
    "duration": 160,
    "start_time": "2025-01-05T23:02:41.342Z"
   },
   {
    "duration": 1312,
    "start_time": "2025-01-05T23:02:41.504Z"
   },
   {
    "duration": 16,
    "start_time": "2025-01-05T23:02:42.822Z"
   },
   {
    "duration": 110,
    "start_time": "2025-01-05T23:02:42.840Z"
   },
   {
    "duration": 11,
    "start_time": "2025-01-05T23:02:42.951Z"
   },
   {
    "duration": 552,
    "start_time": "2025-01-05T23:02:42.964Z"
   }
  ],
  "kernelspec": {
   "display_name": "Python 3 (ipykernel)",
   "language": "python",
   "name": "python3"
  },
  "language_info": {
   "codemirror_mode": {
    "name": "ipython",
    "version": 3
   },
   "file_extension": ".py",
   "mimetype": "text/x-python",
   "name": "python",
   "nbconvert_exporter": "python",
   "pygments_lexer": "ipython3",
   "version": "3.9.19"
  },
  "toc": {
   "base_numbering": 1,
   "nav_menu": {},
   "number_sections": true,
   "sideBar": true,
   "skip_h1_title": true,
   "title_cell": "Table of Contents",
   "title_sidebar": "Contents",
   "toc_cell": false,
   "toc_position": {
    "height": "calc(100% - 180px)",
    "left": "10px",
    "top": "150px",
    "width": "612.391px"
   },
   "toc_section_display": true,
   "toc_window_display": true
  },
  "vscode": {
   "interpreter": {
    "hash": "01a7be9ec63e704a62cefc5fe7a4756944464ee731be31632bdf42a4cb4688cf"
   }
  }
 },
 "nbformat": 4,
 "nbformat_minor": 5
}
