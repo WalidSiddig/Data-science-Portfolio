{
 "cells": [
  {
   "cell_type": "markdown",
   "metadata": {},
   "source": [
    "# Project Goal:"
   ]
  },
  {
   "cell_type": "markdown",
   "metadata": {},
   "source": [
    "**Develop a classification model to recommend whether a Megaline user should switch to the \"Smart\" or \"Ultra\" plan based on their monthly usage behavior. The target accuracy was ≥ 0.75**"
   ]
  },
  {
   "cell_type": "code",
   "execution_count": 13,
   "metadata": {
    "trusted": true
   },
   "outputs": [],
   "source": [
    "# Importing necessary libraries\n",
    "import pandas as pd\n",
    "from sklearn.model_selection import train_test_split\n",
    "from sklearn.tree import DecisionTreeClassifier\n",
    "from sklearn.ensemble import RandomForestClassifier\n",
    "from sklearn.linear_model import LogisticRegression\n",
    "from sklearn.metrics import accuracy_score\n",
    "from sklearn.metrics import classification_report, confusion_matrix\n",
    "from sklearn.dummy import DummyClassifier"
   ]
  },
  {
   "cell_type": "markdown",
   "metadata": {},
   "source": [
    "**Load the dataset**"
   ]
  },
  {
   "cell_type": "code",
   "execution_count": 14,
   "metadata": {
    "trusted": true
   },
   "outputs": [],
   "source": [
    "df = pd.read_csv('/datasets/users_behavior.csv')"
   ]
  },
  {
   "cell_type": "markdown",
   "metadata": {},
   "source": [
    "**Data checks**"
   ]
  },
  {
   "cell_type": "code",
   "execution_count": 15,
   "metadata": {
    "trusted": true
   },
   "outputs": [
    {
     "name": "stdout",
     "output_type": "stream",
     "text": [
      "   calls  minutes  messages   mb_used  is_ultra\n",
      "0   40.0   311.90      83.0  19915.42         0\n",
      "1   85.0   516.75      56.0  22696.96         0\n",
      "2   77.0   467.66      86.0  21060.45         0\n",
      "3  106.0   745.53      81.0   8437.39         1\n",
      "4   66.0   418.74       1.0  14502.75         0\n",
      "<class 'pandas.core.frame.DataFrame'>\n",
      "RangeIndex: 3214 entries, 0 to 3213\n",
      "Data columns (total 5 columns):\n",
      " #   Column    Non-Null Count  Dtype  \n",
      "---  ------    --------------  -----  \n",
      " 0   calls     3214 non-null   float64\n",
      " 1   minutes   3214 non-null   float64\n",
      " 2   messages  3214 non-null   float64\n",
      " 3   mb_used   3214 non-null   float64\n",
      " 4   is_ultra  3214 non-null   int64  \n",
      "dtypes: float64(4), int64(1)\n",
      "memory usage: 125.7 KB\n",
      "None\n",
      "             calls      minutes     messages       mb_used     is_ultra\n",
      "count  3214.000000  3214.000000  3214.000000   3214.000000  3214.000000\n",
      "mean     63.038892   438.208787    38.281269  17207.673836     0.306472\n",
      "std      33.236368   234.569872    36.148326   7570.968246     0.461100\n",
      "min       0.000000     0.000000     0.000000      0.000000     0.000000\n",
      "25%      40.000000   274.575000     9.000000  12491.902500     0.000000\n",
      "50%      62.000000   430.600000    30.000000  16943.235000     0.000000\n",
      "75%      82.000000   571.927500    57.000000  21424.700000     1.000000\n",
      "max     244.000000  1632.060000   224.000000  49745.730000     1.000000\n"
     ]
    }
   ],
   "source": [
    "# Display the first 5 rows\n",
    "print(df.head())\n",
    "# Show data types and missing values\n",
    "print(df.info())\n",
    "# Summary statistics\n",
    "print(df.describe())"
   ]
  },
  {
   "cell_type": "markdown",
   "metadata": {},
   "source": [
    "**Split the dataset:**"
   ]
  },
  {
   "cell_type": "code",
   "execution_count": 16,
   "metadata": {
    "trusted": true
   },
   "outputs": [],
   "source": [
    "#Split Use 60% for training, 20% for validation, and 20% for testing.\n",
    "df_train, df_left = train_test_split(df, test_size=0.40, random_state=12345)\n",
    "df_valid, df_test = train_test_split(df_left, test_size=0.5, random_state=12345)"
   ]
  },
  {
   "cell_type": "code",
   "execution_count": 17,
   "metadata": {
    "trusted": true
   },
   "outputs": [],
   "source": [
    "# Separate features and target for each subset\n",
    "features_train = df_train.drop(['is_ultra'],axis=1)\n",
    "target_train = df_train['is_ultra']\n",
    "\n",
    "features_valid = df_valid.drop(['is_ultra'],axis=1)\n",
    "target_valid = df_valid['is_ultra']\n",
    "\n",
    "features_test = df_test.drop(['is_ultra'],axis=1)\n",
    "target_test = df_test['is_ultra']"
   ]
  },
  {
   "cell_type": "markdown",
   "metadata": {},
   "source": [
    "**Train and evaluate each model with different max_depth values**"
   ]
  },
  {
   "cell_type": "code",
   "execution_count": 18,
   "metadata": {
    "trusted": true
   },
   "outputs": [
    {
     "name": "stdout",
     "output_type": "stream",
     "text": [
      "Accuracy of the Decision Tree best model: 0.7838\n"
     ]
    }
   ],
   "source": [
    "# Decision Tree\n",
    "dt_best_result = 0\n",
    "dt_best_model = None\n",
    "for depth in range(1, 11):\n",
    "    model = DecisionTreeClassifier(max_depth=depth, class_weight='balanced', random_state=12345)\n",
    "    model.fit(features_train, target_train)\n",
    "    preds = model.predict(features_valid)\n",
    "    dt_accuracy = accuracy_score(target_valid, preds)\n",
    "    if dt_accuracy > dt_best_result:\n",
    "        dt_best_result = dt_accuracy\n",
    "        dt_best_model = model\n",
    "print(f\"Accuracy of the Decision Tree best model: {dt_best_result:.4f}\")"
   ]
  },
  {
   "cell_type": "code",
   "execution_count": 19,
   "metadata": {
    "trusted": true
   },
   "outputs": [
    {
     "name": "stdout",
     "output_type": "stream",
     "text": [
      "Accuracy of the Random Forest best model: 0.7885\n"
     ]
    }
   ],
   "source": [
    "# Random Forest\n",
    "rf_best_result = 0\n",
    "rf_best_model = None\n",
    "for depth in range(1, 11):\n",
    "    model = RandomForestClassifier(max_depth=depth, class_weight='balanced', random_state=12345)\n",
    "    model.fit(features_train, target_train)\n",
    "    preds = model.predict(features_valid)\n",
    "    rf_accuracy = accuracy_score(target_valid, preds)\n",
    "    if rf_accuracy > rf_best_result:\n",
    "        rf_best_result = rf_accuracy\n",
    "        rf_best_model = model\n",
    "print(f\"Accuracy of the Random Forest best model: {rf_best_result:.4f}\")"
   ]
  },
  {
   "cell_type": "code",
   "execution_count": 20,
   "metadata": {
    "trusted": true
   },
   "outputs": [
    {
     "name": "stdout",
     "output_type": "stream",
     "text": [
      "Accuracy of the Logistic Regression model: 0.6174\n"
     ]
    }
   ],
   "source": [
    "# Logistic Regression\n",
    "lr_best_result = 0\n",
    "best_c = None\n",
    "lr_best_model = None\n",
    "for c in [0.01, 0.1, 1, 10, 100]:\n",
    "    model = LogisticRegression(C=c, max_iter=1000, class_weight='balanced', random_state=12345)\n",
    "    model.fit(features_train, target_train)\n",
    "    predictions = model.predict(features_valid)\n",
    "    lr_accuracy = accuracy_score(target_valid, predictions)   \n",
    "    if lr_accuracy > lr_best_result:\n",
    "        lr_best_result = lr_accuracy\n",
    "        lr_best_model = model\n",
    "print(f\"Accuracy of the Logistic Regression model: {lr_best_result:.4f}\")"
   ]
  },
  {
   "cell_type": "markdown",
   "metadata": {},
   "source": [
    "**Investigate the quality of different models and Select the best model based on validation accuracy**"
   ]
  },
  {
   "cell_type": "code",
   "execution_count": 21,
   "metadata": {
    "trusted": true
   },
   "outputs": [
    {
     "name": "stdout",
     "output_type": "stream",
     "text": [
      "Selected Model: Random Forest\n"
     ]
    }
   ],
   "source": [
    "# Compare the best results from each model\n",
    "if rf_best_result >= dt_best_result and rf_best_result >= lr_best_result:\n",
    "    final_model = rf_best_model\n",
    "    print(\"Selected Model: Random Forest\")\n",
    "elif dt_best_result >= rf_best_result and dt_best_result >= lr_best_result:\n",
    "    final_model = dt_best_model\n",
    "    print(\"Selected Model: Decision Tree\")\n",
    "else:\n",
    "    final_model = lr_best_model\n",
    "    print(\"Selected Model: Logistic Regression\")"
   ]
  },
  {
   "cell_type": "markdown",
   "metadata": {},
   "source": [
    "**Evaluate the selected best model on the test set**"
   ]
  },
  {
   "cell_type": "code",
   "execution_count": 22,
   "metadata": {
    "trusted": true
   },
   "outputs": [
    {
     "name": "stdout",
     "output_type": "stream",
     "text": [
      "Test Accuracy: 0.7962674961119751\n",
      "Classification Report:\n",
      "              precision    recall  f1-score   support\n",
      "\n",
      "           0       0.82      0.90      0.86       440\n",
      "           1       0.72      0.58      0.64       203\n",
      "\n",
      "    accuracy                           0.80       643\n",
      "   macro avg       0.77      0.74      0.75       643\n",
      "weighted avg       0.79      0.80      0.79       643\n",
      "\n",
      "Confusion Matrix:\n",
      "[[394  46]\n",
      " [ 85 118]]\n",
      "Baseline accuracy (most frequent strategy): 0.6842923794712286\n"
     ]
    }
   ],
   "source": [
    "# Evaluate on test set\n",
    "final_test_pred = final_model.predict(features_test)\n",
    "print(\"Test Accuracy:\", accuracy_score(target_test, final_test_pred))\n",
    "print(\"Classification Report:\")\n",
    "print(classification_report(target_test, final_test_pred))\n",
    "print(\"Confusion Matrix:\")\n",
    "print(confusion_matrix(target_test, final_test_pred))\n",
    "\n",
    "\n",
    "# Baseline model for comparison\n",
    "from sklearn.dummy import DummyClassifier\n",
    "dummy = DummyClassifier(strategy=\"most_frequent\", random_state=12345)\n",
    "dummy.fit(features_train, target_train)\n",
    "baseline_accuracy = dummy.score(features_test, target_test)\n",
    "print(\"Baseline accuracy (most frequent strategy):\", baseline_accuracy)"
   ]
  },
  {
   "cell_type": "markdown",
   "metadata": {},
   "source": [
    "# Conclusion:"
   ]
  },
  {
   "cell_type": "markdown",
   "metadata": {},
   "source": [
    "**The final Random Forest model meets the project requirement of ≥ 0.75 accuracy.\n",
    "It outperforms a baseline model and was improved further by handling class imbalance.\n",
    "The modeling pipeline includes proper data splitting, hyperparameter tuning, model comparison, and evaluation, ensuring a strong and justifiable solution.**"
   ]
  }
 ],
 "metadata": {
  "ExecuteTimeLog": [
   {
    "duration": 1166,
    "start_time": "2025-04-30T18:22:54.260Z"
   },
   {
    "duration": 57,
    "start_time": "2025-04-30T18:23:17.990Z"
   },
   {
    "duration": 456,
    "start_time": "2025-04-30T18:24:43.909Z"
   },
   {
    "duration": 17,
    "start_time": "2025-04-30T18:25:13.406Z"
   },
   {
    "duration": 18,
    "start_time": "2025-04-30T18:25:17.789Z"
   },
   {
    "duration": 836,
    "start_time": "2025-04-30T23:27:07.791Z"
   },
   {
    "duration": 14,
    "start_time": "2025-04-30T23:27:08.629Z"
   },
   {
    "duration": 830,
    "start_time": "2025-05-01T14:30:08.016Z"
   },
   {
    "duration": 15,
    "start_time": "2025-05-01T14:30:08.848Z"
   },
   {
    "duration": 854,
    "start_time": "2025-05-01T14:30:08.865Z"
   },
   {
    "duration": 0,
    "start_time": "2025-05-01T14:30:09.721Z"
   },
   {
    "duration": 4,
    "start_time": "2025-05-01T14:30:33.818Z"
   },
   {
    "duration": 5,
    "start_time": "2025-05-01T14:30:44.209Z"
   },
   {
    "duration": 68,
    "start_time": "2025-05-01T14:32:07.179Z"
   },
   {
    "duration": 457,
    "start_time": "2025-05-01T14:32:41.655Z"
   },
   {
    "duration": 3,
    "start_time": "2025-05-01T14:33:07.552Z"
   },
   {
    "duration": 9,
    "start_time": "2025-05-01T14:33:07.556Z"
   },
   {
    "duration": 3,
    "start_time": "2025-05-01T14:33:07.567Z"
   },
   {
    "duration": 4,
    "start_time": "2025-05-01T14:33:07.572Z"
   },
   {
    "duration": 447,
    "start_time": "2025-05-01T14:33:07.578Z"
   },
   {
    "duration": 19,
    "start_time": "2025-05-01T14:33:50.812Z"
   },
   {
    "duration": 5,
    "start_time": "2025-05-01T14:34:54.912Z"
   },
   {
    "duration": 22,
    "start_time": "2025-05-01T14:37:42.927Z"
   },
   {
    "duration": 5,
    "start_time": "2025-05-01T14:38:50.342Z"
   },
   {
    "duration": 3,
    "start_time": "2025-05-01T14:39:05.778Z"
   },
   {
    "duration": 7,
    "start_time": "2025-05-01T14:39:05.801Z"
   },
   {
    "duration": 20,
    "start_time": "2025-05-01T14:39:05.810Z"
   },
   {
    "duration": 3,
    "start_time": "2025-05-01T14:39:05.832Z"
   },
   {
    "duration": 4,
    "start_time": "2025-05-01T14:39:05.836Z"
   },
   {
    "duration": 397,
    "start_time": "2025-05-01T14:39:05.842Z"
   },
   {
    "duration": 82,
    "start_time": "2025-05-01T14:39:06.241Z"
   },
   {
    "duration": 4,
    "start_time": "2025-05-01T14:39:06.324Z"
   },
   {
    "duration": 822,
    "start_time": "2025-05-01T16:30:01.739Z"
   },
   {
    "duration": 12,
    "start_time": "2025-05-01T16:30:02.563Z"
   },
   {
    "duration": 21,
    "start_time": "2025-05-01T16:30:02.576Z"
   },
   {
    "duration": 5,
    "start_time": "2025-05-01T16:30:02.599Z"
   },
   {
    "duration": 18,
    "start_time": "2025-05-01T16:30:02.606Z"
   },
   {
    "duration": 323,
    "start_time": "2025-05-01T16:30:02.626Z"
   },
   {
    "duration": 55,
    "start_time": "2025-05-01T16:30:02.950Z"
   },
   {
    "duration": 2,
    "start_time": "2025-05-01T16:30:03.006Z"
   },
   {
    "duration": 3,
    "start_time": "2025-05-01T16:39:24.419Z"
   },
   {
    "duration": 8,
    "start_time": "2025-05-01T16:39:24.428Z"
   },
   {
    "duration": 22,
    "start_time": "2025-05-01T16:39:24.439Z"
   },
   {
    "duration": 6,
    "start_time": "2025-05-01T16:39:24.463Z"
   },
   {
    "duration": 5,
    "start_time": "2025-05-01T16:39:24.471Z"
   },
   {
    "duration": 396,
    "start_time": "2025-05-01T16:39:24.479Z"
   },
   {
    "duration": 0,
    "start_time": "2025-05-01T16:39:24.877Z"
   },
   {
    "duration": 781,
    "start_time": "2025-05-02T13:28:31.087Z"
   },
   {
    "duration": 18,
    "start_time": "2025-05-02T13:28:31.870Z"
   },
   {
    "duration": 21,
    "start_time": "2025-05-02T13:28:31.889Z"
   },
   {
    "duration": 4,
    "start_time": "2025-05-02T13:28:31.912Z"
   },
   {
    "duration": 5,
    "start_time": "2025-05-02T13:28:31.919Z"
   },
   {
    "duration": 66,
    "start_time": "2025-05-02T13:28:31.925Z"
   },
   {
    "duration": 1807,
    "start_time": "2025-05-02T13:28:31.993Z"
   },
   {
    "duration": 265,
    "start_time": "2025-05-02T13:28:33.802Z"
   },
   {
    "duration": 18,
    "start_time": "2025-05-02T13:29:41.645Z"
   },
   {
    "duration": 56,
    "start_time": "2025-05-02T13:29:53.968Z"
   },
   {
    "duration": 1804,
    "start_time": "2025-05-02T13:30:36.227Z"
   },
   {
    "duration": 54,
    "start_time": "2025-05-02T13:31:07.085Z"
   },
   {
    "duration": 57,
    "start_time": "2025-05-02T13:36:46.875Z"
   },
   {
    "duration": 54,
    "start_time": "2025-05-02T13:36:57.360Z"
   },
   {
    "duration": 60,
    "start_time": "2025-05-02T13:37:09.898Z"
   },
   {
    "duration": 54,
    "start_time": "2025-05-02T13:37:23.975Z"
   },
   {
    "duration": 1753,
    "start_time": "2025-05-02T13:40:03.308Z"
   },
   {
    "duration": 1825,
    "start_time": "2025-05-02T13:40:29.251Z"
   },
   {
    "duration": 3,
    "start_time": "2025-05-02T13:43:09.439Z"
   },
   {
    "duration": 9,
    "start_time": "2025-05-02T13:43:09.444Z"
   },
   {
    "duration": 20,
    "start_time": "2025-05-02T13:43:09.454Z"
   },
   {
    "duration": 4,
    "start_time": "2025-05-02T13:43:09.475Z"
   },
   {
    "duration": 5,
    "start_time": "2025-05-02T13:43:09.481Z"
   },
   {
    "duration": 79,
    "start_time": "2025-05-02T13:43:09.487Z"
   },
   {
    "duration": 1786,
    "start_time": "2025-05-02T13:43:09.568Z"
   },
   {
    "duration": 19,
    "start_time": "2025-05-02T13:43:11.356Z"
   },
   {
    "duration": 17,
    "start_time": "2025-05-02T13:53:35.237Z"
   },
   {
    "duration": 17,
    "start_time": "2025-05-02T13:53:56.957Z"
   },
   {
    "duration": 76,
    "start_time": "2025-05-02T14:19:43.415Z"
   },
   {
    "duration": 84,
    "start_time": "2025-05-02T14:22:40.037Z"
   },
   {
    "duration": 754,
    "start_time": "2025-05-03T00:24:50.820Z"
   },
   {
    "duration": 15,
    "start_time": "2025-05-03T00:24:51.576Z"
   },
   {
    "duration": 21,
    "start_time": "2025-05-03T00:24:51.592Z"
   },
   {
    "duration": 5,
    "start_time": "2025-05-03T00:24:51.614Z"
   },
   {
    "duration": 5,
    "start_time": "2025-05-03T00:24:51.623Z"
   },
   {
    "duration": 65,
    "start_time": "2025-05-03T00:24:51.630Z"
   },
   {
    "duration": 1793,
    "start_time": "2025-05-03T00:24:51.696Z"
   },
   {
    "duration": 87,
    "start_time": "2025-05-03T00:24:53.491Z"
   },
   {
    "duration": 816,
    "start_time": "2025-05-04T23:09:30.443Z"
   },
   {
    "duration": 16,
    "start_time": "2025-05-04T23:09:31.263Z"
   },
   {
    "duration": 21,
    "start_time": "2025-05-04T23:09:31.280Z"
   },
   {
    "duration": 5,
    "start_time": "2025-05-04T23:09:31.303Z"
   },
   {
    "duration": 5,
    "start_time": "2025-05-04T23:09:31.310Z"
   },
   {
    "duration": 72,
    "start_time": "2025-05-04T23:09:31.316Z"
   },
   {
    "duration": 1794,
    "start_time": "2025-05-04T23:09:31.390Z"
   },
   {
    "duration": 84,
    "start_time": "2025-05-04T23:09:33.186Z"
   },
   {
    "duration": 218,
    "start_time": "2025-05-04T23:09:33.272Z"
   },
   {
    "duration": 14,
    "start_time": "2025-05-04T23:10:19.703Z"
   },
   {
    "duration": 1767,
    "start_time": "2025-05-04T23:19:47.966Z"
   },
   {
    "duration": 3,
    "start_time": "2025-05-04T23:19:53.054Z"
   },
   {
    "duration": 8,
    "start_time": "2025-05-04T23:19:53.060Z"
   },
   {
    "duration": 21,
    "start_time": "2025-05-04T23:19:53.069Z"
   },
   {
    "duration": 5,
    "start_time": "2025-05-04T23:19:53.091Z"
   },
   {
    "duration": 5,
    "start_time": "2025-05-04T23:19:53.098Z"
   },
   {
    "duration": 72,
    "start_time": "2025-05-04T23:19:53.104Z"
   },
   {
    "duration": 1783,
    "start_time": "2025-05-04T23:19:53.177Z"
   },
   {
    "duration": 83,
    "start_time": "2025-05-04T23:19:54.962Z"
   },
   {
    "duration": 13,
    "start_time": "2025-05-04T23:19:55.047Z"
   },
   {
    "duration": 3,
    "start_time": "2025-05-04T23:25:58.096Z"
   },
   {
    "duration": 9,
    "start_time": "2025-05-04T23:25:58.101Z"
   },
   {
    "duration": 20,
    "start_time": "2025-05-04T23:25:58.112Z"
   },
   {
    "duration": 6,
    "start_time": "2025-05-04T23:25:58.134Z"
   },
   {
    "duration": 4,
    "start_time": "2025-05-04T23:25:58.143Z"
   },
   {
    "duration": 54,
    "start_time": "2025-05-04T23:25:58.149Z"
   },
   {
    "duration": 1861,
    "start_time": "2025-05-04T23:25:58.205Z"
   },
   {
    "duration": 87,
    "start_time": "2025-05-04T23:26:00.068Z"
   },
   {
    "duration": 15,
    "start_time": "2025-05-04T23:26:00.157Z"
   },
   {
    "duration": 16,
    "start_time": "2025-05-04T23:29:12.030Z"
   },
   {
    "duration": 3,
    "start_time": "2025-05-04T23:30:36.165Z"
   },
   {
    "duration": 9,
    "start_time": "2025-05-04T23:30:36.170Z"
   },
   {
    "duration": 20,
    "start_time": "2025-05-04T23:30:36.180Z"
   },
   {
    "duration": 4,
    "start_time": "2025-05-04T23:30:36.202Z"
   },
   {
    "duration": 5,
    "start_time": "2025-05-04T23:30:36.208Z"
   },
   {
    "duration": 57,
    "start_time": "2025-05-04T23:30:36.215Z"
   },
   {
    "duration": 1784,
    "start_time": "2025-05-04T23:30:36.274Z"
   },
   {
    "duration": 86,
    "start_time": "2025-05-04T23:30:38.059Z"
   },
   {
    "duration": 6,
    "start_time": "2025-05-04T23:30:38.147Z"
   },
   {
    "duration": 15,
    "start_time": "2025-05-04T23:30:38.156Z"
   },
   {
    "duration": 15,
    "start_time": "2025-05-04T23:31:13.853Z"
   },
   {
    "duration": 10,
    "start_time": "2025-05-04T23:51:21.603Z"
   },
   {
    "duration": 775,
    "start_time": "2025-05-05T00:03:28.181Z"
   },
   {
    "duration": 13,
    "start_time": "2025-05-05T00:03:28.959Z"
   },
   {
    "duration": 25,
    "start_time": "2025-05-05T00:03:28.975Z"
   },
   {
    "duration": 5,
    "start_time": "2025-05-05T00:03:29.001Z"
   },
   {
    "duration": 5,
    "start_time": "2025-05-05T00:03:29.009Z"
   },
   {
    "duration": 72,
    "start_time": "2025-05-05T00:03:29.016Z"
   },
   {
    "duration": 1814,
    "start_time": "2025-05-05T00:03:29.090Z"
   },
   {
    "duration": 90,
    "start_time": "2025-05-05T00:03:30.906Z"
   },
   {
    "duration": 3,
    "start_time": "2025-05-05T00:03:30.998Z"
   },
   {
    "duration": 16,
    "start_time": "2025-05-05T00:03:31.002Z"
   },
   {
    "duration": 3,
    "start_time": "2025-05-05T00:18:37.806Z"
   },
   {
    "duration": 9,
    "start_time": "2025-05-05T00:18:37.812Z"
   },
   {
    "duration": 21,
    "start_time": "2025-05-05T00:18:37.822Z"
   },
   {
    "duration": 4,
    "start_time": "2025-05-05T00:18:37.846Z"
   },
   {
    "duration": 5,
    "start_time": "2025-05-05T00:18:37.851Z"
   },
   {
    "duration": 55,
    "start_time": "2025-05-05T00:18:37.858Z"
   },
   {
    "duration": 1793,
    "start_time": "2025-05-05T00:18:37.915Z"
   },
   {
    "duration": 84,
    "start_time": "2025-05-05T00:18:39.711Z"
   },
   {
    "duration": 4,
    "start_time": "2025-05-05T00:18:39.797Z"
   },
   {
    "duration": 14,
    "start_time": "2025-05-05T00:18:39.804Z"
   },
   {
    "duration": 809,
    "start_time": "2025-05-05T03:24:40.855Z"
   },
   {
    "duration": 11,
    "start_time": "2025-05-05T03:24:41.666Z"
   },
   {
    "duration": 21,
    "start_time": "2025-05-05T03:24:41.679Z"
   },
   {
    "duration": 5,
    "start_time": "2025-05-05T03:24:41.701Z"
   },
   {
    "duration": 4,
    "start_time": "2025-05-05T03:24:41.708Z"
   },
   {
    "duration": 79,
    "start_time": "2025-05-05T03:24:41.714Z"
   },
   {
    "duration": 1772,
    "start_time": "2025-05-05T03:24:41.795Z"
   },
   {
    "duration": 85,
    "start_time": "2025-05-05T03:24:43.569Z"
   },
   {
    "duration": 3,
    "start_time": "2025-05-05T03:24:43.656Z"
   },
   {
    "duration": 16,
    "start_time": "2025-05-05T03:24:43.661Z"
   },
   {
    "duration": 17,
    "start_time": "2025-05-05T03:24:57.335Z"
   },
   {
    "duration": 17,
    "start_time": "2025-05-05T03:34:32.136Z"
   },
   {
    "duration": 3,
    "start_time": "2025-05-05T03:47:13.037Z"
   },
   {
    "duration": 10,
    "start_time": "2025-05-05T03:47:13.042Z"
   },
   {
    "duration": 20,
    "start_time": "2025-05-05T03:47:13.053Z"
   },
   {
    "duration": 5,
    "start_time": "2025-05-05T03:47:13.075Z"
   },
   {
    "duration": 6,
    "start_time": "2025-05-05T03:47:13.081Z"
   },
   {
    "duration": 80,
    "start_time": "2025-05-05T03:47:13.088Z"
   },
   {
    "duration": 1768,
    "start_time": "2025-05-05T03:47:13.170Z"
   },
   {
    "duration": 65,
    "start_time": "2025-05-05T03:47:14.942Z"
   },
   {
    "duration": 3,
    "start_time": "2025-05-05T03:47:15.009Z"
   },
   {
    "duration": 31,
    "start_time": "2025-05-05T03:47:15.014Z"
   }
  ],
  "kernelspec": {
   "display_name": "Python 3 (ipykernel)",
   "language": "python",
   "name": "python3"
  },
  "language_info": {
   "codemirror_mode": {
    "name": "ipython",
    "version": 3
   },
   "file_extension": ".py",
   "mimetype": "text/x-python",
   "name": "python",
   "nbconvert_exporter": "python",
   "pygments_lexer": "ipython3",
   "version": "3.9.19"
  },
  "toc": {
   "base_numbering": 1,
   "nav_menu": {},
   "number_sections": true,
   "sideBar": true,
   "skip_h1_title": true,
   "title_cell": "Table of Contents",
   "title_sidebar": "Contents",
   "toc_cell": false,
   "toc_position": {},
   "toc_section_display": true,
   "toc_window_display": false
  }
 },
 "nbformat": 4,
 "nbformat_minor": 2
}
