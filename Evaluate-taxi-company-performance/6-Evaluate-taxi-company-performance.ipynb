{
 "cells": [
  {
   "cell_type": "markdown",
   "metadata": {},
   "source": [
    "# Project Overview"
   ]
  },
  {
   "cell_type": "markdown",
   "metadata": {},
   "source": [
    "**Goal:**\n",
    "\n",
    "The goal of this project is to analyze taxi service data in Chicago to uncover insights about ride patterns, evaluate taxi company performance, and test specific hypotheses related to ride durations. This analysis will help identify trends in ride frequency, popular locations, and potential factors influencing ride durations — such as weather conditions.\n",
    "\n",
    "**Steps in the Project:**\n",
    "\n",
    "**1- Data Preprocessing**\n",
    "- Load and inspect datasets.\n",
    "- Clean and prepare the data for analysis (handle missing values, convert data types, format strings, etc.).\n",
    "\n",
    "**2- Exploratory Data Analysis (EDA)**\n",
    "- Analyze taxi companies and ride counts.\n",
    "- Identify top dropoff neighborhoods.\n",
    "- Visualize ride distributions and company performance.\n",
    "\n",
    "**3- Hypothesis Testing**\n",
    "- Test whether ride durations from the Loop to O’Hare International Airport differ significantly on rainy Saturdays compared to non-rainy Saturdays.\n",
    "- Use statistical testing (independent t-test) to confirm findings.\n",
    "\n",
    "**Available Data:**\n",
    "\n",
    "- /datasets/project_sql_result_01.csv: Taxi companies and number of rides.\n",
    "- /datasets/project_sql_result_04.csv: Neighborhoods and average number of drop-offs.\n",
    "- /datasets/project_sql_result_07.csv: Loop to O’Hare ride data with timestamps, durations, and weather conditions."
   ]
  },
  {
   "cell_type": "code",
   "execution_count": 1,
   "metadata": {
    "trusted": true
   },
   "outputs": [],
   "source": [
    "import pandas as pd\n",
    "import re\n",
    "import matplotlib.pyplot as plt\n",
    "import seaborn as sns\n",
    "from scipy import stats as st"
   ]
  },
  {
   "cell_type": "markdown",
   "metadata": {},
   "source": [
    "# Exploratory data analysis \n"
   ]
  },
  {
   "cell_type": "code",
   "execution_count": 2,
   "metadata": {
    "trusted": true
   },
   "outputs": [],
   "source": [
    "#Load the datasets\n",
    "companies = pd.read_csv('/datasets/project_sql_result_01.csv')\n",
    "locations = pd.read_csv('/datasets/project_sql_result_04.csv')\n",
    "rides = pd.read_csv('/datasets/project_sql_result_07.csv')"
   ]
  },
  {
   "cell_type": "code",
   "execution_count": 3,
   "metadata": {
    "trusted": true
   },
   "outputs": [
    {
     "data": {
      "text/html": [
       "<div>\n",
       "<style scoped>\n",
       "    .dataframe tbody tr th:only-of-type {\n",
       "        vertical-align: middle;\n",
       "    }\n",
       "\n",
       "    .dataframe tbody tr th {\n",
       "        vertical-align: top;\n",
       "    }\n",
       "\n",
       "    .dataframe thead th {\n",
       "        text-align: right;\n",
       "    }\n",
       "</style>\n",
       "<table border=\"1\" class=\"dataframe\">\n",
       "  <thead>\n",
       "    <tr style=\"text-align: right;\">\n",
       "      <th></th>\n",
       "      <th>company_name</th>\n",
       "      <th>trips_amount</th>\n",
       "    </tr>\n",
       "  </thead>\n",
       "  <tbody>\n",
       "    <tr>\n",
       "      <th>59</th>\n",
       "      <td>4053 - 40193 Adwar H. Nikola</td>\n",
       "      <td>7</td>\n",
       "    </tr>\n",
       "    <tr>\n",
       "      <th>60</th>\n",
       "      <td>2733 - 74600 Benny Jona</td>\n",
       "      <td>7</td>\n",
       "    </tr>\n",
       "    <tr>\n",
       "      <th>61</th>\n",
       "      <td>5874 - 73628 Sergey Cab Corp.</td>\n",
       "      <td>5</td>\n",
       "    </tr>\n",
       "    <tr>\n",
       "      <th>62</th>\n",
       "      <td>2241 - 44667 - Felman Corp</td>\n",
       "      <td>3</td>\n",
       "    </tr>\n",
       "    <tr>\n",
       "      <th>63</th>\n",
       "      <td>3556 - 36214 RC Andrews Cab</td>\n",
       "      <td>2</td>\n",
       "    </tr>\n",
       "  </tbody>\n",
       "</table>\n",
       "</div>"
      ],
      "text/plain": [
       "                     company_name  trips_amount\n",
       "59   4053 - 40193 Adwar H. Nikola             7\n",
       "60        2733 - 74600 Benny Jona             7\n",
       "61  5874 - 73628 Sergey Cab Corp.             5\n",
       "62     2241 - 44667 - Felman Corp             3\n",
       "63    3556 - 36214 RC Andrews Cab             2"
      ]
     },
     "execution_count": 3,
     "metadata": {},
     "output_type": "execute_result"
    }
   ],
   "source": [
    "companies.tail()"
   ]
  },
  {
   "cell_type": "code",
   "execution_count": 4,
   "metadata": {
    "trusted": true
   },
   "outputs": [
    {
     "data": {
      "text/html": [
       "<div>\n",
       "<style scoped>\n",
       "    .dataframe tbody tr th:only-of-type {\n",
       "        vertical-align: middle;\n",
       "    }\n",
       "\n",
       "    .dataframe tbody tr th {\n",
       "        vertical-align: top;\n",
       "    }\n",
       "\n",
       "    .dataframe thead th {\n",
       "        text-align: right;\n",
       "    }\n",
       "</style>\n",
       "<table border=\"1\" class=\"dataframe\">\n",
       "  <thead>\n",
       "    <tr style=\"text-align: right;\">\n",
       "      <th></th>\n",
       "      <th>dropoff_location_name</th>\n",
       "      <th>average_trips</th>\n",
       "    </tr>\n",
       "  </thead>\n",
       "  <tbody>\n",
       "    <tr>\n",
       "      <th>0</th>\n",
       "      <td>Loop</td>\n",
       "      <td>10727.466667</td>\n",
       "    </tr>\n",
       "    <tr>\n",
       "      <th>1</th>\n",
       "      <td>River North</td>\n",
       "      <td>9523.666667</td>\n",
       "    </tr>\n",
       "    <tr>\n",
       "      <th>2</th>\n",
       "      <td>Streeterville</td>\n",
       "      <td>6664.666667</td>\n",
       "    </tr>\n",
       "    <tr>\n",
       "      <th>3</th>\n",
       "      <td>West Loop</td>\n",
       "      <td>5163.666667</td>\n",
       "    </tr>\n",
       "    <tr>\n",
       "      <th>4</th>\n",
       "      <td>O'Hare</td>\n",
       "      <td>2546.900000</td>\n",
       "    </tr>\n",
       "  </tbody>\n",
       "</table>\n",
       "</div>"
      ],
      "text/plain": [
       "  dropoff_location_name  average_trips\n",
       "0                  Loop   10727.466667\n",
       "1           River North    9523.666667\n",
       "2         Streeterville    6664.666667\n",
       "3             West Loop    5163.666667\n",
       "4                O'Hare    2546.900000"
      ]
     },
     "execution_count": 4,
     "metadata": {},
     "output_type": "execute_result"
    }
   ],
   "source": [
    "locations.head()"
   ]
  },
  {
   "cell_type": "markdown",
   "metadata": {},
   "source": [
    "**Cleaning the data on both DF**"
   ]
  },
  {
   "cell_type": "code",
   "execution_count": 5,
   "metadata": {
    "trusted": true
   },
   "outputs": [],
   "source": [
    "# Function to clean company names\n",
    "def clean_company_name(name):\n",
    "    # Remove any leading numbers and dashes\n",
    "    names = re.sub(r'^[\\s\\d-]+|[\\s\\d-]+$', '', name)\n",
    "    cleaned_name = re.sub(r'^\\d+\\s*-\\s*', '', names)\n",
    "    \n",
    "    return cleaned_name.strip()\n",
    "\n",
    "# Apply the function\n",
    "companies['company_name'] = companies['company_name'].apply(clean_company_name)\n",
    "\n",
    "#Round average_trips \n",
    "locations['average_trips'] = locations['average_trips'].round(1)\n",
    "#convert average_trips to int\n",
    "locations['average_trips'] = locations['average_trips'].astype(int)"
   ]
  },
  {
   "cell_type": "code",
   "execution_count": 6,
   "metadata": {
    "trusted": true
   },
   "outputs": [
    {
     "data": {
      "text/html": [
       "<div>\n",
       "<style scoped>\n",
       "    .dataframe tbody tr th:only-of-type {\n",
       "        vertical-align: middle;\n",
       "    }\n",
       "\n",
       "    .dataframe tbody tr th {\n",
       "        vertical-align: top;\n",
       "    }\n",
       "\n",
       "    .dataframe thead th {\n",
       "        text-align: right;\n",
       "    }\n",
       "</style>\n",
       "<table border=\"1\" class=\"dataframe\">\n",
       "  <thead>\n",
       "    <tr style=\"text-align: right;\">\n",
       "      <th></th>\n",
       "      <th>company_name</th>\n",
       "      <th>trips_amount</th>\n",
       "    </tr>\n",
       "  </thead>\n",
       "  <tbody>\n",
       "    <tr>\n",
       "      <th>59</th>\n",
       "      <td>Adwar H. Nikola</td>\n",
       "      <td>7</td>\n",
       "    </tr>\n",
       "    <tr>\n",
       "      <th>60</th>\n",
       "      <td>Benny Jona</td>\n",
       "      <td>7</td>\n",
       "    </tr>\n",
       "    <tr>\n",
       "      <th>61</th>\n",
       "      <td>Sergey Cab Corp.</td>\n",
       "      <td>5</td>\n",
       "    </tr>\n",
       "    <tr>\n",
       "      <th>62</th>\n",
       "      <td>Felman Corp</td>\n",
       "      <td>3</td>\n",
       "    </tr>\n",
       "    <tr>\n",
       "      <th>63</th>\n",
       "      <td>RC Andrews Cab</td>\n",
       "      <td>2</td>\n",
       "    </tr>\n",
       "  </tbody>\n",
       "</table>\n",
       "</div>"
      ],
      "text/plain": [
       "        company_name  trips_amount\n",
       "59   Adwar H. Nikola             7\n",
       "60        Benny Jona             7\n",
       "61  Sergey Cab Corp.             5\n",
       "62       Felman Corp             3\n",
       "63    RC Andrews Cab             2"
      ]
     },
     "execution_count": 6,
     "metadata": {},
     "output_type": "execute_result"
    }
   ],
   "source": [
    "companies.tail()"
   ]
  },
  {
   "cell_type": "code",
   "execution_count": 7,
   "metadata": {
    "trusted": true
   },
   "outputs": [
    {
     "data": {
      "text/html": [
       "<div>\n",
       "<style scoped>\n",
       "    .dataframe tbody tr th:only-of-type {\n",
       "        vertical-align: middle;\n",
       "    }\n",
       "\n",
       "    .dataframe tbody tr th {\n",
       "        vertical-align: top;\n",
       "    }\n",
       "\n",
       "    .dataframe thead th {\n",
       "        text-align: right;\n",
       "    }\n",
       "</style>\n",
       "<table border=\"1\" class=\"dataframe\">\n",
       "  <thead>\n",
       "    <tr style=\"text-align: right;\">\n",
       "      <th></th>\n",
       "      <th>dropoff_location_name</th>\n",
       "      <th>average_trips</th>\n",
       "    </tr>\n",
       "  </thead>\n",
       "  <tbody>\n",
       "    <tr>\n",
       "      <th>0</th>\n",
       "      <td>Loop</td>\n",
       "      <td>10727</td>\n",
       "    </tr>\n",
       "    <tr>\n",
       "      <th>1</th>\n",
       "      <td>River North</td>\n",
       "      <td>9523</td>\n",
       "    </tr>\n",
       "    <tr>\n",
       "      <th>2</th>\n",
       "      <td>Streeterville</td>\n",
       "      <td>6664</td>\n",
       "    </tr>\n",
       "    <tr>\n",
       "      <th>3</th>\n",
       "      <td>West Loop</td>\n",
       "      <td>5163</td>\n",
       "    </tr>\n",
       "    <tr>\n",
       "      <th>4</th>\n",
       "      <td>O'Hare</td>\n",
       "      <td>2546</td>\n",
       "    </tr>\n",
       "  </tbody>\n",
       "</table>\n",
       "</div>"
      ],
      "text/plain": [
       "  dropoff_location_name  average_trips\n",
       "0                  Loop          10727\n",
       "1           River North           9523\n",
       "2         Streeterville           6664\n",
       "3             West Loop           5163\n",
       "4                O'Hare           2546"
      ]
     },
     "execution_count": 7,
     "metadata": {},
     "output_type": "execute_result"
    }
   ],
   "source": [
    "locations.head()"
   ]
  },
  {
   "cell_type": "code",
   "execution_count": 8,
   "metadata": {
    "trusted": true
   },
   "outputs": [],
   "source": [
    "#identify the top 10 locations in terms of drop-offs\n",
    "top_locations = locations.sort_values(by='average_trips', ascending=False).head(10)\n",
    "##identify the top 10 companies in terms of trips amount\n",
    "top_companies = companies.sort_values(by='trips_amount', ascending=False).head(10)"
   ]
  },
  {
   "cell_type": "code",
   "execution_count": 9,
   "metadata": {
    "trusted": true
   },
   "outputs": [
    {
     "data": {
      "text/html": [
       "<div>\n",
       "<style scoped>\n",
       "    .dataframe tbody tr th:only-of-type {\n",
       "        vertical-align: middle;\n",
       "    }\n",
       "\n",
       "    .dataframe tbody tr th {\n",
       "        vertical-align: top;\n",
       "    }\n",
       "\n",
       "    .dataframe thead th {\n",
       "        text-align: right;\n",
       "    }\n",
       "</style>\n",
       "<table border=\"1\" class=\"dataframe\">\n",
       "  <thead>\n",
       "    <tr style=\"text-align: right;\">\n",
       "      <th></th>\n",
       "      <th>dropoff_location_name</th>\n",
       "      <th>average_trips</th>\n",
       "    </tr>\n",
       "  </thead>\n",
       "  <tbody>\n",
       "    <tr>\n",
       "      <th>0</th>\n",
       "      <td>Loop</td>\n",
       "      <td>10727</td>\n",
       "    </tr>\n",
       "    <tr>\n",
       "      <th>1</th>\n",
       "      <td>River North</td>\n",
       "      <td>9523</td>\n",
       "    </tr>\n",
       "    <tr>\n",
       "      <th>2</th>\n",
       "      <td>Streeterville</td>\n",
       "      <td>6664</td>\n",
       "    </tr>\n",
       "    <tr>\n",
       "      <th>3</th>\n",
       "      <td>West Loop</td>\n",
       "      <td>5163</td>\n",
       "    </tr>\n",
       "    <tr>\n",
       "      <th>4</th>\n",
       "      <td>O'Hare</td>\n",
       "      <td>2546</td>\n",
       "    </tr>\n",
       "    <tr>\n",
       "      <th>5</th>\n",
       "      <td>Lake View</td>\n",
       "      <td>2421</td>\n",
       "    </tr>\n",
       "    <tr>\n",
       "      <th>6</th>\n",
       "      <td>Grant Park</td>\n",
       "      <td>2068</td>\n",
       "    </tr>\n",
       "    <tr>\n",
       "      <th>7</th>\n",
       "      <td>Museum Campus</td>\n",
       "      <td>1510</td>\n",
       "    </tr>\n",
       "    <tr>\n",
       "      <th>8</th>\n",
       "      <td>Gold Coast</td>\n",
       "      <td>1364</td>\n",
       "    </tr>\n",
       "    <tr>\n",
       "      <th>9</th>\n",
       "      <td>Sheffield &amp; DePaul</td>\n",
       "      <td>1259</td>\n",
       "    </tr>\n",
       "  </tbody>\n",
       "</table>\n",
       "</div>"
      ],
      "text/plain": [
       "  dropoff_location_name  average_trips\n",
       "0                  Loop          10727\n",
       "1           River North           9523\n",
       "2         Streeterville           6664\n",
       "3             West Loop           5163\n",
       "4                O'Hare           2546\n",
       "5             Lake View           2421\n",
       "6            Grant Park           2068\n",
       "7         Museum Campus           1510\n",
       "8            Gold Coast           1364\n",
       "9    Sheffield & DePaul           1259"
      ]
     },
     "execution_count": 9,
     "metadata": {},
     "output_type": "execute_result"
    }
   ],
   "source": [
    "top_locations"
   ]
  },
  {
   "cell_type": "code",
   "execution_count": 10,
   "metadata": {
    "trusted": true
   },
   "outputs": [
    {
     "data": {
      "image/png": "[encoded data removed]",
      "text/plain": [
       "<Figure size 1200x600 with 1 Axes>"
      ]
     },
     "metadata": {},
     "output_type": "display_data"
    }
   ],
   "source": [
    "#Plot Taxi Companies vs. Number of Rides\n",
    "plt.figure(figsize=(12, 6))\n",
    "sns.barplot(data=top_companies, x='trips_amount', y='company_name')\n",
    "plt.title('Top 10 Taxi Companies by Number of Rides')\n",
    "plt.xlabel('Number of Rides')\n",
    "plt.ylabel('Taxi Company')\n",
    "plt.tight_layout()\n",
    "plt.xticks(rotation=45)\n",
    "plt.show()"
   ]
  },
  {
   "cell_type": "markdown",
   "metadata": {},
   "source": [
    "**Conclusion:**\n",
    "\n",
    "- Flash Cab is the leading taxi company by a significant margin, providing nearly 20,000 rides.\n",
    "- Taxi Affiliation Services and Medallion Leasing follow behind but still show strong numbers, with over 10,000 rides each.\n",
    "- The bottom of the top 10 includes companies like Blue Ribbon Taxi Association Inc. and Star North Management LLC, with ride counts just under 8,000.\n",
    "\n",
    "**Explanation:**\n",
    "\n",
    "- The taxi industry in this dataset is dominated by a few key players, with a steep drop after the top 1.\n",
    "- This may indicate brand dominance, stronger dispatch systems, or better fleet sizes for the top companies.\n",
    "- Flash Cab’s leading position might be due to strategic positioning, better customer service, or wider coverage in high-demand areas."
   ]
  },
  {
   "cell_type": "code",
   "execution_count": 11,
   "metadata": {
    "trusted": true
   },
   "outputs": [
    {
     "data": {
      "image/png": "[encoded data removed]",
      "text/plain": [
       "<Figure size 1200x600 with 1 Axes>"
      ]
     },
     "metadata": {},
     "output_type": "display_data"
    }
   ],
   "source": [
    "# Plot Top 10 Neighborhoods by Dropoffs\n",
    "plt.figure(figsize=(12, 6))\n",
    "sns.barplot(data=top_locations, x='average_trips', y='dropoff_location_name',palette='Blues_d')\n",
    "plt.title('Top 10 Neighborhoods by Average Dropoffs', fontsize=14)\n",
    "plt.xlabel('Average Number of Dropoffs')\n",
    "plt.ylabel('Neighborhood')\n",
    "plt.xticks(rotation=45)\n",
    "plt.show()"
   ]
  },
  {
   "cell_type": "markdown",
   "metadata": {},
   "source": [
    "**Conclusion:**\n",
    "\n",
    "- The Loop is the most frequently visited neighborhood, with an average of over 10,000 drop-offs, followed by River North and Streeterville.\n",
    "- These areas are known commercial and business hubs, explaining the high taxi traffic.\n",
    "- Neighborhoods like Gold Coast, Museum Campus, and Sheffield & DePaul make the lower end of the top 10, with 1,000–2,000 average drop-offs.\n",
    "\n",
    "**Explanation:**\n",
    "\n",
    "- The results highlight the central role of downtown areas in taxi demand. Areas like the Loop likely attract tourists, businesspeople, and locals alike.\n",
    "- Airports (O'Hare) and residential/entertainment areas (Lake View, West Loop) also appear frequently, indicating balanced demand across commercial and lifestyle zones.\n",
    "- The steep decline after the top 4 neighborhoods suggests concentration of activity in specific zones, useful for fleet optimization or marketing strategies."
   ]
  },
  {
   "cell_type": "markdown",
   "metadata": {},
   "source": [
    "# Testing hypotheses"
   ]
  },
  {
   "cell_type": "markdown",
   "metadata": {},
   "source": [
    "**The goal to Test the hypothesis of The average duration of rides from the Loop to O'Hare International Airport changes on rainy Saturdays**"
   ]
  },
  {
   "cell_type": "markdown",
   "metadata": {},
   "source": [
    "**Average duration of rides of rainy Saturdays and Non-rainy Saturdays the Same**\n",
    "- Null Hypothesis (H₀): The average duration of rides for Rainy and Non-Rainy Saturdays are equal.\n",
    "{H₀: μRainy = μNon-Rainy}\n",
    "- Alternative Hypothesis (H₁): The average duration of rides for Rainy and Non-Rainy Saturdays are different.\n",
    "{H₁: μRainy != μNon-Rainy}"
   ]
  },
  {
   "cell_type": "markdown",
   "metadata": {},
   "source": [
    "**Cleaning the data on DF**"
   ]
  },
  {
   "cell_type": "code",
   "execution_count": 12,
   "metadata": {
    "trusted": true
   },
   "outputs": [
    {
     "data": {
      "text/html": [
       "<div>\n",
       "<style scoped>\n",
       "    .dataframe tbody tr th:only-of-type {\n",
       "        vertical-align: middle;\n",
       "    }\n",
       "\n",
       "    .dataframe tbody tr th {\n",
       "        vertical-align: top;\n",
       "    }\n",
       "\n",
       "    .dataframe thead th {\n",
       "        text-align: right;\n",
       "    }\n",
       "</style>\n",
       "<table border=\"1\" class=\"dataframe\">\n",
       "  <thead>\n",
       "    <tr style=\"text-align: right;\">\n",
       "      <th></th>\n",
       "      <th>start_ts</th>\n",
       "      <th>weather_conditions</th>\n",
       "      <th>duration_seconds</th>\n",
       "    </tr>\n",
       "  </thead>\n",
       "  <tbody>\n",
       "    <tr>\n",
       "      <th>62</th>\n",
       "      <td>2017-11-11 06:00:00</td>\n",
       "      <td>Good</td>\n",
       "      <td>1260.0</td>\n",
       "    </tr>\n",
       "    <tr>\n",
       "      <th>74</th>\n",
       "      <td>2017-11-11 08:00:00</td>\n",
       "      <td>Good</td>\n",
       "      <td>1380.0</td>\n",
       "    </tr>\n",
       "    <tr>\n",
       "      <th>76</th>\n",
       "      <td>2017-11-04 09:00:00</td>\n",
       "      <td>Good</td>\n",
       "      <td>1380.0</td>\n",
       "    </tr>\n",
       "    <tr>\n",
       "      <th>117</th>\n",
       "      <td>2017-11-11 07:00:00</td>\n",
       "      <td>Good</td>\n",
       "      <td>1380.0</td>\n",
       "    </tr>\n",
       "    <tr>\n",
       "      <th>119</th>\n",
       "      <td>2017-11-04 14:00:00</td>\n",
       "      <td>Good</td>\n",
       "      <td>3300.0</td>\n",
       "    </tr>\n",
       "    <tr>\n",
       "      <th>...</th>\n",
       "      <td>...</td>\n",
       "      <td>...</td>\n",
       "      <td>...</td>\n",
       "    </tr>\n",
       "    <tr>\n",
       "      <th>1054</th>\n",
       "      <td>2017-11-11 07:00:00</td>\n",
       "      <td>Good</td>\n",
       "      <td>1380.0</td>\n",
       "    </tr>\n",
       "    <tr>\n",
       "      <th>1058</th>\n",
       "      <td>2017-11-25 12:00:00</td>\n",
       "      <td>Good</td>\n",
       "      <td>1440.0</td>\n",
       "    </tr>\n",
       "    <tr>\n",
       "      <th>1062</th>\n",
       "      <td>2017-11-11 06:00:00</td>\n",
       "      <td>Good</td>\n",
       "      <td>1500.0</td>\n",
       "    </tr>\n",
       "    <tr>\n",
       "      <th>1065</th>\n",
       "      <td>2017-11-11 13:00:00</td>\n",
       "      <td>Good</td>\n",
       "      <td>2100.0</td>\n",
       "    </tr>\n",
       "    <tr>\n",
       "      <th>1066</th>\n",
       "      <td>2017-11-11 08:00:00</td>\n",
       "      <td>Good</td>\n",
       "      <td>1380.0</td>\n",
       "    </tr>\n",
       "  </tbody>\n",
       "</table>\n",
       "<p>197 rows × 3 columns</p>\n",
       "</div>"
      ],
      "text/plain": [
       "                 start_ts weather_conditions  duration_seconds\n",
       "62    2017-11-11 06:00:00               Good            1260.0\n",
       "74    2017-11-11 08:00:00               Good            1380.0\n",
       "76    2017-11-04 09:00:00               Good            1380.0\n",
       "117   2017-11-11 07:00:00               Good            1380.0\n",
       "119   2017-11-04 14:00:00               Good            3300.0\n",
       "...                   ...                ...               ...\n",
       "1054  2017-11-11 07:00:00               Good            1380.0\n",
       "1058  2017-11-25 12:00:00               Good            1440.0\n",
       "1062  2017-11-11 06:00:00               Good            1500.0\n",
       "1065  2017-11-11 13:00:00               Good            2100.0\n",
       "1066  2017-11-11 08:00:00               Good            1380.0\n",
       "\n",
       "[197 rows x 3 columns]"
      ]
     },
     "execution_count": 12,
     "metadata": {},
     "output_type": "execute_result"
    }
   ],
   "source": [
    "#check the duplicate \n",
    "rides_dup = rides[rides.duplicated()]\n",
    "rides_dup"
   ]
  },
  {
   "cell_type": "code",
   "execution_count": 13,
   "metadata": {
    "trusted": true
   },
   "outputs": [],
   "source": [
    "#drop duplicates\n",
    "rides.drop_duplicates(inplace=True)"
   ]
  },
  {
   "cell_type": "code",
   "execution_count": 14,
   "metadata": {
    "trusted": true
   },
   "outputs": [
    {
     "data": {
      "text/plain": [
       "start_ts              0\n",
       "weather_conditions    0\n",
       "duration_seconds      0\n",
       "dtype: int64"
      ]
     },
     "execution_count": 14,
     "metadata": {},
     "output_type": "execute_result"
    }
   ],
   "source": [
    "#check for missing values \n",
    "rides.isnull().sum()"
   ]
  },
  {
   "cell_type": "code",
   "execution_count": 15,
   "metadata": {
    "trusted": true
   },
   "outputs": [
    {
     "name": "stdout",
     "output_type": "stream",
     "text": [
      "                start_ts weather_conditions  duration_seconds\n",
      "79   2017-11-11 15:00:00               Good            4800.0\n",
      "276  2017-11-18 12:00:00                Bad            4980.0\n",
      "354  2017-11-25 11:00:00               Good            7440.0\n",
      "583  2017-11-11 16:00:00               Good            4980.0\n",
      "619  2017-11-25 14:00:00               Good            6420.0\n",
      "646  2017-11-11 13:00:00               Good            4380.0\n"
     ]
    }
   ],
   "source": [
    "#check the outliers by Statistical Approach to Detect Outliers\n",
    "Q1 = rides['duration_seconds'].quantile(0.25)\n",
    "Q3 = rides['duration_seconds'].quantile(0.75)\n",
    "IQR = Q3 - Q1\n",
    "\n",
    "lower_bound = Q1 - 1.5 * IQR\n",
    "upper_bound = Q3 + 1.5 * IQR\n",
    "\n",
    "outliers = rides[(rides['duration_seconds'] < lower_bound) | (rides['duration_seconds'] > upper_bound)]\n",
    "print(outliers)"
   ]
  },
  {
   "cell_type": "code",
   "execution_count": 16,
   "metadata": {
    "trusted": true
   },
   "outputs": [],
   "source": [
    "#Remove the outliers \n",
    "rides_cleaned = rides[(rides['duration_seconds'] >= lower_bound) & (rides['duration_seconds'] <= upper_bound)]"
   ]
  },
  {
   "cell_type": "markdown",
   "metadata": {},
   "source": [
    "**We are comparing ride durations on rainy Saturdays vs. non-rainy Saturdays, so we will form two groups:\n",
    "Rides on rainy Saturdays & Rides on non-rainy Saturdays**"
   ]
  },
  {
   "cell_type": "code",
   "execution_count": 17,
   "metadata": {
    "trusted": true
   },
   "outputs": [],
   "source": [
    "# Filter the ride durations rainy Saturdays & Rides on non-rainy Saturdays\n",
    "rainy = rides[rides['weather_conditions'] == 'Bad']\n",
    "non_rainy = rides[rides['weather_conditions'] == 'Good'] "
   ]
  },
  {
   "cell_type": "code",
   "execution_count": 18,
   "metadata": {
    "trusted": true
   },
   "outputs": [],
   "source": [
    "#Perform an independent t-test\n",
    "t_stat_rainy, p_value_non_rainy = st.ttest_ind(rainy['duration_seconds'],non_rainy['duration_seconds'])"
   ]
  },
  {
   "cell_type": "code",
   "execution_count": 19,
   "metadata": {
    "trusted": true
   },
   "outputs": [
    {
     "name": "stdout",
     "output_type": "stream",
     "text": [
      "T-Statistic (Rainy vs Non-Rainy): 5.4280\n",
      "P-Value: 0.0000\n",
      "Reject the null hypothesis: there IS a significant difference.\n"
     ]
    }
   ],
   "source": [
    "# Print results\n",
    "print(f\"T-Statistic (Rainy vs Non-Rainy): {t_stat_rainy:.4f}\")\n",
    "print(f\"P-Value: {p_value_non_rainy:.4f}\")\n",
    "\n",
    "# Interpretation\n",
    "alpha = 0.05  # Significance level\n",
    "if p_value_non_rainy < alpha:\n",
    "    print(\"Reject the null hypothesis: there IS a significant difference.\")\n",
    "else:\n",
    "    print(\"Fail to reject the null hypothesis: NO significant difference.\")\n"
   ]
  },
  {
   "cell_type": "markdown",
   "metadata": {},
   "source": [
    "# **Conclusion**"
   ]
  },
  {
   "cell_type": "markdown",
   "metadata": {},
   "source": [
    "\n",
    "**Business Conclusions & Strategic Roadmap for Zuber in Chicago**\n",
    "\n",
    "1. Focus on High-Demand Neighborhoods\n",
    "\n",
    "Top-performing neighborhoods like Loop, River North, Streeterville, and West Loop consistently show the highest number of drop-offs.\n",
    "Action: Prioritize driver deployment and promotions in these areas to maximize ride frequency and reduce idle time.\n",
    "\n",
    "2.  Monitor and Benchmark Taxi Companies\n",
    "\n",
    "A small number of companies dominate the market with the highest ride volumes.\n",
    "Action: Zuber should benchmark these top companies’ pricing, response time, and service quality to identify competitive gaps and improvement areas.\n",
    "\n",
    "3. Tailor Services to Weather Conditions\n",
    "\n",
    "Hypothesis testing revealed that ride durations significantly increase on rainy Saturdays, especially for airport trips.\n",
    "Action: Use weather forecasting to optimize dispatching, adjust pricing dynamically, and communicate ETA changes more transparently to users.\n",
    "\n",
    "4. Improve Service to Underserved Neighborhoods\n",
    "\n",
    "Many areas (e.g., Riverdale, Hegewisch, Burnside) have low ride volumes, which may be due to insufficient service availability.\n",
    "Action: Explore demand patterns in these zones and assess the feasibility of expanding services or introducing shared ride options to increase coverage efficiently.\n",
    "\n",
    "5. Use Data-Driven Dispatching and Incentives\n",
    "\n",
    "With the insights from trip volumes and durations, Zuber can implement smart dispatching algorithms and offer driver incentives to align supply with demand hotspots.\n",
    "Action: Leverage machine learning to predict ride demand based on time, day, and weather, ensuring operational efficiency.\n",
    "\n",
    "6. Airport Route Optimization\n",
    "\n",
    "O’Hare rides have a unique profile: longer average duration and sensitivity to weather conditions.\n",
    "Action: Provide specialized services for airport runs—flat rates, luxury rides, and real-time ETA tracking—to stand out in this high-value route.\n",
    "\n",
    "\n",
    "**Conclusion:**\n",
    "By leveraging data analytics, Zuber can strategically optimize its operations, improve rider satisfaction, and gain a stronger foothold in the competitive Chicago taxi market. Prioritizing high-yield zones, refining operations under varying conditions, and expanding underserved markets are key to long-term growth and brand loyalty."
   ]
  }
 ],
 "metadata": {
  "ExecuteTimeLog": [
   {
    "duration": 337,
    "start_time": "2025-04-19T20:30:15.915Z"
   },
   {
    "duration": 9,
    "start_time": "2025-04-19T20:30:58.831Z"
   },
   {
    "duration": 11,
    "start_time": "2025-04-19T20:31:21.962Z"
   },
   {
    "duration": 11,
    "start_time": "2025-04-19T20:33:05.644Z"
   },
   {
    "duration": 10,
    "start_time": "2025-04-19T20:33:07.431Z"
   },
   {
    "duration": 8,
    "start_time": "2025-04-19T20:33:17.002Z"
   },
   {
    "duration": 214,
    "start_time": "2025-04-19T20:37:05.936Z"
   },
   {
    "duration": 4,
    "start_time": "2025-04-19T20:37:12.669Z"
   },
   {
    "duration": 9,
    "start_time": "2025-04-19T20:37:13.158Z"
   },
   {
    "duration": 8,
    "start_time": "2025-04-19T20:37:13.768Z"
   },
   {
    "duration": 12,
    "start_time": "2025-04-19T20:37:17.311Z"
   },
   {
    "duration": 14,
    "start_time": "2025-04-19T20:37:36.210Z"
   },
   {
    "duration": 8,
    "start_time": "2025-04-19T20:38:29.878Z"
   },
   {
    "duration": 11,
    "start_time": "2025-04-19T20:38:35.230Z"
   },
   {
    "duration": 9,
    "start_time": "2025-04-19T20:38:49.278Z"
   },
   {
    "duration": 8,
    "start_time": "2025-04-19T20:43:38.767Z"
   },
   {
    "duration": 8,
    "start_time": "2025-04-19T20:47:11.177Z"
   },
   {
    "duration": 339,
    "start_time": "2025-04-19T22:42:25.309Z"
   },
   {
    "duration": 16,
    "start_time": "2025-04-19T22:42:25.651Z"
   },
   {
    "duration": 17,
    "start_time": "2025-04-19T22:42:25.670Z"
   },
   {
    "duration": 9,
    "start_time": "2025-04-19T22:42:25.689Z"
   },
   {
    "duration": 285,
    "start_time": "2025-04-19T22:42:25.701Z"
   },
   {
    "duration": 3,
    "start_time": "2025-04-19T22:44:35.651Z"
   },
   {
    "duration": 9,
    "start_time": "2025-04-19T22:44:35.656Z"
   },
   {
    "duration": 7,
    "start_time": "2025-04-19T22:44:35.667Z"
   },
   {
    "duration": 7,
    "start_time": "2025-04-19T22:44:35.676Z"
   },
   {
    "duration": 4,
    "start_time": "2025-04-19T22:44:35.686Z"
   },
   {
    "duration": 4,
    "start_time": "2025-04-19T22:44:49.698Z"
   },
   {
    "duration": 7,
    "start_time": "2025-04-19T22:45:11.124Z"
   },
   {
    "duration": 9,
    "start_time": "2025-04-19T22:45:30.221Z"
   },
   {
    "duration": 8,
    "start_time": "2025-04-19T22:45:39.116Z"
   },
   {
    "duration": 7,
    "start_time": "2025-04-19T22:45:46.213Z"
   },
   {
    "duration": 7,
    "start_time": "2025-04-19T22:46:32.899Z"
   },
   {
    "duration": 6,
    "start_time": "2025-04-19T22:47:57.424Z"
   },
   {
    "duration": 7,
    "start_time": "2025-04-19T22:49:11.803Z"
   },
   {
    "duration": 5,
    "start_time": "2025-04-19T22:52:10.828Z"
   },
   {
    "duration": 8,
    "start_time": "2025-04-19T22:52:14.058Z"
   },
   {
    "duration": 4,
    "start_time": "2025-04-19T22:52:41.541Z"
   },
   {
    "duration": 8,
    "start_time": "2025-04-19T22:52:45.976Z"
   },
   {
    "duration": 3,
    "start_time": "2025-04-19T22:52:58.075Z"
   },
   {
    "duration": 9,
    "start_time": "2025-04-19T22:52:58.082Z"
   },
   {
    "duration": 7,
    "start_time": "2025-04-19T22:52:58.093Z"
   },
   {
    "duration": 8,
    "start_time": "2025-04-19T22:52:58.102Z"
   },
   {
    "duration": 4,
    "start_time": "2025-04-19T22:52:58.111Z"
   },
   {
    "duration": 8,
    "start_time": "2025-04-19T22:52:58.119Z"
   },
   {
    "duration": 5,
    "start_time": "2025-04-19T22:53:28.809Z"
   },
   {
    "duration": 8,
    "start_time": "2025-04-19T22:53:43.392Z"
   },
   {
    "duration": 2,
    "start_time": "2025-04-19T22:58:02.572Z"
   },
   {
    "duration": 9,
    "start_time": "2025-04-19T22:58:02.590Z"
   },
   {
    "duration": 7,
    "start_time": "2025-04-19T22:58:02.600Z"
   },
   {
    "duration": 7,
    "start_time": "2025-04-19T22:58:02.609Z"
   },
   {
    "duration": 4,
    "start_time": "2025-04-19T22:58:02.618Z"
   },
   {
    "duration": 7,
    "start_time": "2025-04-19T22:58:02.631Z"
   },
   {
    "duration": 2,
    "start_time": "2025-04-19T22:59:23.295Z"
   },
   {
    "duration": 8,
    "start_time": "2025-04-19T22:59:23.300Z"
   },
   {
    "duration": 7,
    "start_time": "2025-04-19T22:59:23.310Z"
   },
   {
    "duration": 8,
    "start_time": "2025-04-19T22:59:23.318Z"
   },
   {
    "duration": 4,
    "start_time": "2025-04-19T22:59:23.328Z"
   },
   {
    "duration": 8,
    "start_time": "2025-04-19T22:59:23.334Z"
   },
   {
    "duration": 2,
    "start_time": "2025-04-19T23:00:25.759Z"
   },
   {
    "duration": 27,
    "start_time": "2025-04-19T23:00:25.763Z"
   },
   {
    "duration": 8,
    "start_time": "2025-04-19T23:00:25.793Z"
   },
   {
    "duration": 8,
    "start_time": "2025-04-19T23:00:25.803Z"
   },
   {
    "duration": 4,
    "start_time": "2025-04-19T23:00:25.814Z"
   },
   {
    "duration": 8,
    "start_time": "2025-04-19T23:00:25.820Z"
   },
   {
    "duration": 2,
    "start_time": "2025-04-19T23:00:52.981Z"
   },
   {
    "duration": 8,
    "start_time": "2025-04-19T23:00:52.987Z"
   },
   {
    "duration": 8,
    "start_time": "2025-04-19T23:00:52.996Z"
   },
   {
    "duration": 8,
    "start_time": "2025-04-19T23:00:53.005Z"
   },
   {
    "duration": 5,
    "start_time": "2025-04-19T23:00:53.014Z"
   },
   {
    "duration": 8,
    "start_time": "2025-04-19T23:00:53.020Z"
   },
   {
    "duration": 2,
    "start_time": "2025-04-19T23:04:02.175Z"
   },
   {
    "duration": 9,
    "start_time": "2025-04-19T23:04:02.179Z"
   },
   {
    "duration": 9,
    "start_time": "2025-04-19T23:04:02.190Z"
   },
   {
    "duration": 8,
    "start_time": "2025-04-19T23:04:02.200Z"
   },
   {
    "duration": 5,
    "start_time": "2025-04-19T23:04:02.210Z"
   },
   {
    "duration": 7,
    "start_time": "2025-04-19T23:04:02.216Z"
   },
   {
    "duration": 3,
    "start_time": "2025-04-19T23:05:06.245Z"
   },
   {
    "duration": 9,
    "start_time": "2025-04-19T23:05:06.250Z"
   },
   {
    "duration": 7,
    "start_time": "2025-04-19T23:05:06.261Z"
   },
   {
    "duration": 9,
    "start_time": "2025-04-19T23:05:06.269Z"
   },
   {
    "duration": 5,
    "start_time": "2025-04-19T23:05:06.290Z"
   },
   {
    "duration": 8,
    "start_time": "2025-04-19T23:05:06.297Z"
   },
   {
    "duration": 3,
    "start_time": "2025-04-19T23:06:21.829Z"
   },
   {
    "duration": 8,
    "start_time": "2025-04-19T23:06:21.834Z"
   },
   {
    "duration": 7,
    "start_time": "2025-04-19T23:06:21.844Z"
   },
   {
    "duration": 8,
    "start_time": "2025-04-19T23:06:21.853Z"
   },
   {
    "duration": 5,
    "start_time": "2025-04-19T23:06:21.863Z"
   },
   {
    "duration": 8,
    "start_time": "2025-04-19T23:06:21.870Z"
   },
   {
    "duration": 2,
    "start_time": "2025-04-19T23:06:53.556Z"
   },
   {
    "duration": 10,
    "start_time": "2025-04-19T23:06:53.561Z"
   },
   {
    "duration": 7,
    "start_time": "2025-04-19T23:06:53.573Z"
   },
   {
    "duration": 8,
    "start_time": "2025-04-19T23:06:53.581Z"
   },
   {
    "duration": 5,
    "start_time": "2025-04-19T23:06:53.591Z"
   },
   {
    "duration": 8,
    "start_time": "2025-04-19T23:06:53.597Z"
   },
   {
    "duration": 3,
    "start_time": "2025-04-19T23:07:00.084Z"
   },
   {
    "duration": 9,
    "start_time": "2025-04-19T23:07:00.089Z"
   },
   {
    "duration": 7,
    "start_time": "2025-04-19T23:07:00.099Z"
   },
   {
    "duration": 8,
    "start_time": "2025-04-19T23:07:00.108Z"
   },
   {
    "duration": 4,
    "start_time": "2025-04-19T23:07:00.118Z"
   },
   {
    "duration": 8,
    "start_time": "2025-04-19T23:07:00.123Z"
   },
   {
    "duration": 2,
    "start_time": "2025-04-19T23:31:41.737Z"
   },
   {
    "duration": 12,
    "start_time": "2025-04-19T23:31:41.742Z"
   },
   {
    "duration": 10,
    "start_time": "2025-04-19T23:31:41.756Z"
   },
   {
    "duration": 10,
    "start_time": "2025-04-19T23:31:41.769Z"
   },
   {
    "duration": 30,
    "start_time": "2025-04-19T23:31:41.781Z"
   },
   {
    "duration": 0,
    "start_time": "2025-04-19T23:31:41.813Z"
   },
   {
    "duration": 3,
    "start_time": "2025-04-19T23:32:17.729Z"
   },
   {
    "duration": 9,
    "start_time": "2025-04-19T23:32:17.734Z"
   },
   {
    "duration": 10,
    "start_time": "2025-04-19T23:32:17.745Z"
   },
   {
    "duration": 10,
    "start_time": "2025-04-19T23:32:17.756Z"
   },
   {
    "duration": 5,
    "start_time": "2025-04-19T23:32:17.769Z"
   },
   {
    "duration": 8,
    "start_time": "2025-04-19T23:32:17.776Z"
   },
   {
    "duration": 3,
    "start_time": "2025-04-19T23:33:28.796Z"
   },
   {
    "duration": 9,
    "start_time": "2025-04-19T23:33:28.801Z"
   },
   {
    "duration": 7,
    "start_time": "2025-04-19T23:33:28.811Z"
   },
   {
    "duration": 8,
    "start_time": "2025-04-19T23:33:28.820Z"
   },
   {
    "duration": 4,
    "start_time": "2025-04-19T23:33:28.876Z"
   },
   {
    "duration": 8,
    "start_time": "2025-04-19T23:33:28.882Z"
   },
   {
    "duration": 7,
    "start_time": "2025-04-19T23:33:56.530Z"
   },
   {
    "duration": 3,
    "start_time": "2025-04-19T23:36:49.315Z"
   },
   {
    "duration": 10,
    "start_time": "2025-04-19T23:36:49.320Z"
   },
   {
    "duration": 8,
    "start_time": "2025-04-19T23:36:49.331Z"
   },
   {
    "duration": 8,
    "start_time": "2025-04-19T23:36:49.341Z"
   },
   {
    "duration": 4,
    "start_time": "2025-04-19T23:36:49.372Z"
   },
   {
    "duration": 8,
    "start_time": "2025-04-19T23:36:49.378Z"
   },
   {
    "duration": 2,
    "start_time": "2025-04-19T23:36:56.234Z"
   },
   {
    "duration": 9,
    "start_time": "2025-04-19T23:36:56.239Z"
   },
   {
    "duration": 7,
    "start_time": "2025-04-19T23:36:56.250Z"
   },
   {
    "duration": 8,
    "start_time": "2025-04-19T23:36:56.259Z"
   },
   {
    "duration": 4,
    "start_time": "2025-04-19T23:36:56.269Z"
   },
   {
    "duration": 8,
    "start_time": "2025-04-19T23:36:56.275Z"
   },
   {
    "duration": 3,
    "start_time": "2025-04-19T23:41:10.400Z"
   },
   {
    "duration": 92,
    "start_time": "2025-04-19T23:41:10.409Z"
   },
   {
    "duration": 12,
    "start_time": "2025-04-19T23:41:10.503Z"
   },
   {
    "duration": 7,
    "start_time": "2025-04-19T23:41:10.517Z"
   },
   {
    "duration": 4,
    "start_time": "2025-04-19T23:41:10.527Z"
   },
   {
    "duration": 9,
    "start_time": "2025-04-19T23:41:10.532Z"
   },
   {
    "duration": 3,
    "start_time": "2025-04-20T00:01:12.577Z"
   },
   {
    "duration": 9,
    "start_time": "2025-04-20T00:01:12.582Z"
   },
   {
    "duration": 8,
    "start_time": "2025-04-20T00:01:12.593Z"
   },
   {
    "duration": 7,
    "start_time": "2025-04-20T00:01:12.603Z"
   },
   {
    "duration": 5,
    "start_time": "2025-04-20T00:01:12.612Z"
   },
   {
    "duration": 6,
    "start_time": "2025-04-20T00:01:12.618Z"
   },
   {
    "duration": 8,
    "start_time": "2025-04-20T00:01:19.795Z"
   },
   {
    "duration": 5,
    "start_time": "2025-04-20T00:01:38.327Z"
   },
   {
    "duration": 8,
    "start_time": "2025-04-20T00:02:16.329Z"
   },
   {
    "duration": 3,
    "start_time": "2025-04-20T00:03:30.285Z"
   },
   {
    "duration": 9,
    "start_time": "2025-04-20T00:03:30.290Z"
   },
   {
    "duration": 9,
    "start_time": "2025-04-20T00:03:30.300Z"
   },
   {
    "duration": 8,
    "start_time": "2025-04-20T00:03:30.311Z"
   },
   {
    "duration": 4,
    "start_time": "2025-04-20T00:03:30.321Z"
   },
   {
    "duration": 9,
    "start_time": "2025-04-20T00:03:30.326Z"
   },
   {
    "duration": 2,
    "start_time": "2025-04-20T00:03:42.516Z"
   },
   {
    "duration": 8,
    "start_time": "2025-04-20T00:03:42.522Z"
   },
   {
    "duration": 8,
    "start_time": "2025-04-20T00:03:42.532Z"
   },
   {
    "duration": 8,
    "start_time": "2025-04-20T00:03:42.542Z"
   },
   {
    "duration": 3,
    "start_time": "2025-04-20T00:03:42.552Z"
   },
   {
    "duration": 8,
    "start_time": "2025-04-20T00:03:42.557Z"
   },
   {
    "duration": 12,
    "start_time": "2025-04-20T00:03:57.686Z"
   },
   {
    "duration": 8,
    "start_time": "2025-04-20T00:04:21.475Z"
   },
   {
    "duration": 15,
    "start_time": "2025-04-20T00:07:59.657Z"
   },
   {
    "duration": 7,
    "start_time": "2025-04-20T00:08:12.968Z"
   },
   {
    "duration": 3,
    "start_time": "2025-04-20T00:08:22.998Z"
   },
   {
    "duration": 11,
    "start_time": "2025-04-20T00:08:26.652Z"
   },
   {
    "duration": 4,
    "start_time": "2025-04-20T00:09:02.874Z"
   },
   {
    "duration": 8,
    "start_time": "2025-04-20T00:09:05.154Z"
   },
   {
    "duration": 9,
    "start_time": "2025-04-20T00:09:28.246Z"
   },
   {
    "duration": 2,
    "start_time": "2025-04-20T00:13:16.841Z"
   },
   {
    "duration": 8,
    "start_time": "2025-04-20T00:13:16.851Z"
   },
   {
    "duration": 6,
    "start_time": "2025-04-20T00:13:16.861Z"
   },
   {
    "duration": 8,
    "start_time": "2025-04-20T00:13:16.869Z"
   },
   {
    "duration": 4,
    "start_time": "2025-04-20T00:13:16.879Z"
   },
   {
    "duration": 8,
    "start_time": "2025-04-20T00:13:16.885Z"
   },
   {
    "duration": 2,
    "start_time": "2025-04-20T00:13:23.237Z"
   },
   {
    "duration": 8,
    "start_time": "2025-04-20T00:13:23.243Z"
   },
   {
    "duration": 6,
    "start_time": "2025-04-20T00:13:23.252Z"
   },
   {
    "duration": 7,
    "start_time": "2025-04-20T00:13:23.262Z"
   },
   {
    "duration": 4,
    "start_time": "2025-04-20T00:13:23.271Z"
   },
   {
    "duration": 9,
    "start_time": "2025-04-20T00:13:23.277Z"
   },
   {
    "duration": 2,
    "start_time": "2025-04-20T00:13:34.735Z"
   },
   {
    "duration": 53,
    "start_time": "2025-04-20T00:13:34.741Z"
   },
   {
    "duration": 7,
    "start_time": "2025-04-20T00:13:34.796Z"
   },
   {
    "duration": 9,
    "start_time": "2025-04-20T00:13:34.805Z"
   },
   {
    "duration": 5,
    "start_time": "2025-04-20T00:13:34.816Z"
   },
   {
    "duration": 10,
    "start_time": "2025-04-20T00:13:34.824Z"
   },
   {
    "duration": 288,
    "start_time": "2025-04-20T01:57:53.677Z"
   },
   {
    "duration": 13,
    "start_time": "2025-04-20T01:57:53.967Z"
   },
   {
    "duration": 10,
    "start_time": "2025-04-20T01:57:53.982Z"
   },
   {
    "duration": 186,
    "start_time": "2025-04-20T01:57:53.994Z"
   },
   {
    "duration": 0,
    "start_time": "2025-04-20T01:57:54.182Z"
   },
   {
    "duration": 3,
    "start_time": "2025-04-20T01:58:17.253Z"
   },
   {
    "duration": 8,
    "start_time": "2025-04-20T01:58:17.264Z"
   },
   {
    "duration": 5,
    "start_time": "2025-04-20T01:58:17.274Z"
   },
   {
    "duration": 6,
    "start_time": "2025-04-20T01:58:17.281Z"
   },
   {
    "duration": 5,
    "start_time": "2025-04-20T01:58:17.290Z"
   },
   {
    "duration": 5,
    "start_time": "2025-04-20T01:58:44.317Z"
   },
   {
    "duration": 6,
    "start_time": "2025-04-20T01:58:47.681Z"
   },
   {
    "duration": 22,
    "start_time": "2025-04-20T02:02:24.505Z"
   },
   {
    "duration": 3,
    "start_time": "2025-04-20T02:16:00.803Z"
   },
   {
    "duration": 6,
    "start_time": "2025-04-20T02:16:06.934Z"
   },
   {
    "duration": 3,
    "start_time": "2025-04-20T02:16:20.511Z"
   },
   {
    "duration": 7,
    "start_time": "2025-04-20T02:16:24.205Z"
   },
   {
    "duration": 2238,
    "start_time": "2025-04-20T02:27:24.049Z"
   },
   {
    "duration": 12,
    "start_time": "2025-04-20T02:27:26.289Z"
   },
   {
    "duration": 6,
    "start_time": "2025-04-20T02:27:26.302Z"
   },
   {
    "duration": 5,
    "start_time": "2025-04-20T02:27:26.311Z"
   },
   {
    "duration": 4,
    "start_time": "2025-04-20T02:27:26.318Z"
   },
   {
    "duration": 8,
    "start_time": "2025-04-20T02:27:26.325Z"
   },
   {
    "duration": 6,
    "start_time": "2025-04-20T02:27:26.334Z"
   },
   {
    "duration": 3,
    "start_time": "2025-04-20T02:27:26.342Z"
   },
   {
    "duration": 8,
    "start_time": "2025-04-20T02:27:26.346Z"
   },
   {
    "duration": 58,
    "start_time": "2025-04-20T02:45:38.223Z"
   },
   {
    "duration": 247,
    "start_time": "2025-04-20T02:45:55.274Z"
   },
   {
    "duration": 46,
    "start_time": "2025-04-20T02:46:47.453Z"
   },
   {
    "duration": 43,
    "start_time": "2025-04-20T02:47:31.379Z"
   },
   {
    "duration": 298,
    "start_time": "2025-04-20T02:49:02.099Z"
   },
   {
    "duration": 61,
    "start_time": "2025-04-20T02:53:16.307Z"
   },
   {
    "duration": 1168,
    "start_time": "2025-04-20T02:53:43.302Z"
   },
   {
    "duration": 1266,
    "start_time": "2025-04-20T02:54:14.833Z"
   },
   {
    "duration": 1440,
    "start_time": "2025-04-20T02:54:36.952Z"
   },
   {
    "duration": 18,
    "start_time": "2025-04-20T02:55:07.007Z"
   },
   {
    "duration": 19,
    "start_time": "2025-04-20T02:55:39.911Z"
   },
   {
    "duration": 1176,
    "start_time": "2025-04-20T02:57:33.015Z"
   },
   {
    "duration": 1279,
    "start_time": "2025-04-20T02:57:45.410Z"
   },
   {
    "duration": 1174,
    "start_time": "2025-04-20T02:58:54.702Z"
   },
   {
    "duration": 17,
    "start_time": "2025-04-20T03:19:09.229Z"
   },
   {
    "duration": 17,
    "start_time": "2025-04-20T03:19:33.561Z"
   },
   {
    "duration": 5,
    "start_time": "2025-04-20T03:19:38.854Z"
   },
   {
    "duration": 303,
    "start_time": "2025-04-20T03:19:42.062Z"
   },
   {
    "duration": 279,
    "start_time": "2025-04-20T03:21:49.675Z"
   },
   {
    "duration": 154,
    "start_time": "2025-04-20T03:22:11.724Z"
   },
   {
    "duration": 294,
    "start_time": "2025-04-20T03:22:27.555Z"
   },
   {
    "duration": 152,
    "start_time": "2025-04-20T03:22:43.838Z"
   },
   {
    "duration": 169,
    "start_time": "2025-04-20T03:23:00.417Z"
   },
   {
    "duration": 8,
    "start_time": "2025-04-20T03:23:43.802Z"
   },
   {
    "duration": 158,
    "start_time": "2025-04-20T03:23:49.913Z"
   },
   {
    "duration": 348,
    "start_time": "2025-04-20T03:24:09.172Z"
   },
   {
    "duration": 156,
    "start_time": "2025-04-20T03:24:15.134Z"
   },
   {
    "duration": 5,
    "start_time": "2025-04-20T03:28:05.375Z"
   },
   {
    "duration": 9,
    "start_time": "2025-04-20T03:28:22.699Z"
   },
   {
    "duration": 2,
    "start_time": "2025-04-20T03:28:26.517Z"
   },
   {
    "duration": 8,
    "start_time": "2025-04-20T03:28:26.523Z"
   },
   {
    "duration": 5,
    "start_time": "2025-04-20T03:28:26.533Z"
   },
   {
    "duration": 5,
    "start_time": "2025-04-20T03:28:26.540Z"
   },
   {
    "duration": 5,
    "start_time": "2025-04-20T03:28:26.547Z"
   },
   {
    "duration": 6,
    "start_time": "2025-04-20T03:28:26.554Z"
   },
   {
    "duration": 6,
    "start_time": "2025-04-20T03:28:26.566Z"
   },
   {
    "duration": 3,
    "start_time": "2025-04-20T03:28:26.580Z"
   },
   {
    "duration": 8,
    "start_time": "2025-04-20T03:28:26.585Z"
   },
   {
    "duration": 291,
    "start_time": "2025-04-20T03:28:26.595Z"
   },
   {
    "duration": 166,
    "start_time": "2025-04-20T03:28:26.889Z"
   },
   {
    "duration": 3,
    "start_time": "2025-04-20T03:37:13.882Z"
   },
   {
    "duration": 396,
    "start_time": "2025-04-20T03:37:13.893Z"
   },
   {
    "duration": 0,
    "start_time": "2025-04-20T03:37:14.291Z"
   },
   {
    "duration": 0,
    "start_time": "2025-04-20T03:37:14.292Z"
   },
   {
    "duration": 0,
    "start_time": "2025-04-20T03:37:14.293Z"
   },
   {
    "duration": 0,
    "start_time": "2025-04-20T03:37:14.294Z"
   },
   {
    "duration": 0,
    "start_time": "2025-04-20T03:37:14.295Z"
   },
   {
    "duration": 0,
    "start_time": "2025-04-20T03:37:14.296Z"
   },
   {
    "duration": 0,
    "start_time": "2025-04-20T03:37:14.297Z"
   },
   {
    "duration": 0,
    "start_time": "2025-04-20T03:37:14.298Z"
   },
   {
    "duration": 0,
    "start_time": "2025-04-20T03:37:14.299Z"
   },
   {
    "duration": 13,
    "start_time": "2025-04-20T03:37:36.298Z"
   },
   {
    "duration": 2,
    "start_time": "2025-04-20T03:37:41.220Z"
   },
   {
    "duration": 11,
    "start_time": "2025-04-20T03:37:41.224Z"
   },
   {
    "duration": 6,
    "start_time": "2025-04-20T03:37:41.236Z"
   },
   {
    "duration": 6,
    "start_time": "2025-04-20T03:37:41.244Z"
   },
   {
    "duration": 4,
    "start_time": "2025-04-20T03:37:41.252Z"
   },
   {
    "duration": 6,
    "start_time": "2025-04-20T03:37:41.259Z"
   },
   {
    "duration": 6,
    "start_time": "2025-04-20T03:37:41.266Z"
   },
   {
    "duration": 4,
    "start_time": "2025-04-20T03:37:41.273Z"
   },
   {
    "duration": 8,
    "start_time": "2025-04-20T03:37:41.286Z"
   },
   {
    "duration": 281,
    "start_time": "2025-04-20T03:37:41.296Z"
   },
   {
    "duration": 169,
    "start_time": "2025-04-20T03:37:41.580Z"
   },
   {
    "duration": 11,
    "start_time": "2025-04-20T03:38:02.933Z"
   },
   {
    "duration": 9,
    "start_time": "2025-04-20T03:53:25.357Z"
   },
   {
    "duration": 11,
    "start_time": "2025-04-20T03:56:15.943Z"
   },
   {
    "duration": 3,
    "start_time": "2025-04-20T03:57:59.564Z"
   },
   {
    "duration": 13,
    "start_time": "2025-04-20T03:57:59.595Z"
   },
   {
    "duration": 6,
    "start_time": "2025-04-20T03:57:59.610Z"
   },
   {
    "duration": 6,
    "start_time": "2025-04-20T03:57:59.618Z"
   },
   {
    "duration": 4,
    "start_time": "2025-04-20T03:57:59.647Z"
   },
   {
    "duration": 6,
    "start_time": "2025-04-20T03:57:59.653Z"
   },
   {
    "duration": 6,
    "start_time": "2025-04-20T03:57:59.674Z"
   },
   {
    "duration": 4,
    "start_time": "2025-04-20T03:57:59.697Z"
   },
   {
    "duration": 6,
    "start_time": "2025-04-20T03:57:59.705Z"
   },
   {
    "duration": 263,
    "start_time": "2025-04-20T03:57:59.730Z"
   },
   {
    "duration": 164,
    "start_time": "2025-04-20T03:57:59.996Z"
   },
   {
    "duration": 11,
    "start_time": "2025-04-20T03:58:00.161Z"
   },
   {
    "duration": 7,
    "start_time": "2025-04-20T03:58:21.927Z"
   },
   {
    "duration": 14,
    "start_time": "2025-04-20T04:00:52.517Z"
   },
   {
    "duration": 4,
    "start_time": "2025-04-20T04:01:02.295Z"
   },
   {
    "duration": 7,
    "start_time": "2025-04-20T04:01:49.062Z"
   },
   {
    "duration": 11,
    "start_time": "2025-04-20T04:02:03.804Z"
   },
   {
    "duration": 12,
    "start_time": "2025-04-20T04:04:22.811Z"
   },
   {
    "duration": 3,
    "start_time": "2025-04-20T04:04:39.436Z"
   },
   {
    "duration": 11,
    "start_time": "2025-04-20T04:04:39.442Z"
   },
   {
    "duration": 5,
    "start_time": "2025-04-20T04:04:39.455Z"
   },
   {
    "duration": 7,
    "start_time": "2025-04-20T04:04:39.462Z"
   },
   {
    "duration": 4,
    "start_time": "2025-04-20T04:04:39.473Z"
   },
   {
    "duration": 5,
    "start_time": "2025-04-20T04:04:39.480Z"
   },
   {
    "duration": 5,
    "start_time": "2025-04-20T04:04:39.504Z"
   },
   {
    "duration": 3,
    "start_time": "2025-04-20T04:04:39.512Z"
   },
   {
    "duration": 7,
    "start_time": "2025-04-20T04:04:39.527Z"
   },
   {
    "duration": 296,
    "start_time": "2025-04-20T04:04:39.538Z"
   },
   {
    "duration": 163,
    "start_time": "2025-04-20T04:04:39.837Z"
   },
   {
    "duration": 6,
    "start_time": "2025-04-20T04:04:40.002Z"
   },
   {
    "duration": 5,
    "start_time": "2025-04-20T04:04:40.011Z"
   },
   {
    "duration": 12,
    "start_time": "2025-04-20T04:04:40.017Z"
   },
   {
    "duration": 13,
    "start_time": "2025-04-20T04:04:52.023Z"
   },
   {
    "duration": 3,
    "start_time": "2025-04-20T04:06:10.265Z"
   },
   {
    "duration": 24,
    "start_time": "2025-04-20T04:06:10.272Z"
   },
   {
    "duration": 6,
    "start_time": "2025-04-20T04:06:10.297Z"
   },
   {
    "duration": 6,
    "start_time": "2025-04-20T04:06:10.305Z"
   },
   {
    "duration": 4,
    "start_time": "2025-04-20T04:06:10.314Z"
   },
   {
    "duration": 6,
    "start_time": "2025-04-20T04:06:10.320Z"
   },
   {
    "duration": 6,
    "start_time": "2025-04-20T04:06:10.327Z"
   },
   {
    "duration": 4,
    "start_time": "2025-04-20T04:06:10.335Z"
   },
   {
    "duration": 5,
    "start_time": "2025-04-20T04:06:10.380Z"
   },
   {
    "duration": 313,
    "start_time": "2025-04-20T04:06:10.387Z"
   },
   {
    "duration": 169,
    "start_time": "2025-04-20T04:06:10.702Z"
   },
   {
    "duration": 14,
    "start_time": "2025-04-20T04:06:10.872Z"
   },
   {
    "duration": 4,
    "start_time": "2025-04-20T04:06:10.888Z"
   },
   {
    "duration": 12,
    "start_time": "2025-04-20T04:06:10.894Z"
   },
   {
    "duration": 3,
    "start_time": "2025-04-20T04:06:39.201Z"
   },
   {
    "duration": 8,
    "start_time": "2025-04-20T04:06:43.433Z"
   },
   {
    "duration": 2503,
    "start_time": "2025-04-20T05:40:58.595Z"
   },
   {
    "duration": 18,
    "start_time": "2025-04-20T05:41:01.100Z"
   },
   {
    "duration": 8,
    "start_time": "2025-04-20T05:41:01.119Z"
   },
   {
    "duration": 5,
    "start_time": "2025-04-20T05:41:01.129Z"
   },
   {
    "duration": 5,
    "start_time": "2025-04-20T05:41:01.136Z"
   },
   {
    "duration": 6,
    "start_time": "2025-04-20T05:41:01.142Z"
   },
   {
    "duration": 23,
    "start_time": "2025-04-20T05:41:01.149Z"
   },
   {
    "duration": 4,
    "start_time": "2025-04-20T05:41:01.174Z"
   },
   {
    "duration": 7,
    "start_time": "2025-04-20T05:41:01.179Z"
   },
   {
    "duration": 300,
    "start_time": "2025-04-20T05:41:01.188Z"
   },
   {
    "duration": 176,
    "start_time": "2025-04-20T05:41:01.490Z"
   },
   {
    "duration": 6,
    "start_time": "2025-04-20T05:41:01.668Z"
   },
   {
    "duration": 5,
    "start_time": "2025-04-20T05:41:01.677Z"
   },
   {
    "duration": 0,
    "start_time": "2025-04-20T05:41:01.683Z"
   },
   {
    "duration": 0,
    "start_time": "2025-04-20T05:41:01.685Z"
   },
   {
    "duration": 0,
    "start_time": "2025-04-20T05:41:01.686Z"
   },
   {
    "duration": 2,
    "start_time": "2025-04-20T05:41:28.415Z"
   },
   {
    "duration": 11,
    "start_time": "2025-04-20T05:41:28.420Z"
   },
   {
    "duration": 5,
    "start_time": "2025-04-20T05:41:28.458Z"
   },
   {
    "duration": 6,
    "start_time": "2025-04-20T05:41:28.465Z"
   },
   {
    "duration": 5,
    "start_time": "2025-04-20T05:41:28.472Z"
   },
   {
    "duration": 5,
    "start_time": "2025-04-20T05:41:28.479Z"
   },
   {
    "duration": 6,
    "start_time": "2025-04-20T05:41:28.487Z"
   },
   {
    "duration": 4,
    "start_time": "2025-04-20T05:41:28.494Z"
   },
   {
    "duration": 6,
    "start_time": "2025-04-20T05:41:28.500Z"
   },
   {
    "duration": 339,
    "start_time": "2025-04-20T05:41:28.507Z"
   },
   {
    "duration": 173,
    "start_time": "2025-04-20T05:41:28.848Z"
   },
   {
    "duration": 6,
    "start_time": "2025-04-20T05:41:29.023Z"
   },
   {
    "duration": 5,
    "start_time": "2025-04-20T05:41:29.031Z"
   },
   {
    "duration": 0,
    "start_time": "2025-04-20T05:41:29.037Z"
   },
   {
    "duration": 0,
    "start_time": "2025-04-20T05:41:29.039Z"
   },
   {
    "duration": 0,
    "start_time": "2025-04-20T05:41:29.040Z"
   },
   {
    "duration": 2,
    "start_time": "2025-04-20T05:42:26.316Z"
   },
   {
    "duration": 16,
    "start_time": "2025-04-20T05:42:26.331Z"
   },
   {
    "duration": 5,
    "start_time": "2025-04-20T05:42:26.349Z"
   },
   {
    "duration": 5,
    "start_time": "2025-04-20T05:42:26.356Z"
   },
   {
    "duration": 4,
    "start_time": "2025-04-20T05:42:26.363Z"
   },
   {
    "duration": 6,
    "start_time": "2025-04-20T05:42:26.369Z"
   },
   {
    "duration": 6,
    "start_time": "2025-04-20T05:42:26.376Z"
   },
   {
    "duration": 3,
    "start_time": "2025-04-20T05:42:26.384Z"
   },
   {
    "duration": 7,
    "start_time": "2025-04-20T05:42:26.388Z"
   },
   {
    "duration": 373,
    "start_time": "2025-04-20T05:42:26.397Z"
   },
   {
    "duration": 169,
    "start_time": "2025-04-20T05:42:26.772Z"
   },
   {
    "duration": 7,
    "start_time": "2025-04-20T05:42:26.943Z"
   },
   {
    "duration": 18,
    "start_time": "2025-04-20T05:42:26.952Z"
   },
   {
    "duration": 3,
    "start_time": "2025-04-20T05:42:26.973Z"
   },
   {
    "duration": 4,
    "start_time": "2025-04-20T05:42:26.978Z"
   },
   {
    "duration": 6,
    "start_time": "2025-04-20T05:42:57.127Z"
   },
   {
    "duration": 9,
    "start_time": "2025-04-20T05:43:08.337Z"
   },
   {
    "duration": 9,
    "start_time": "2025-04-20T05:43:19.749Z"
   },
   {
    "duration": 216,
    "start_time": "2025-04-20T05:46:14.398Z"
   },
   {
    "duration": 2,
    "start_time": "2025-04-20T05:46:20.052Z"
   },
   {
    "duration": 11,
    "start_time": "2025-04-20T05:46:20.056Z"
   },
   {
    "duration": 5,
    "start_time": "2025-04-20T05:46:20.069Z"
   },
   {
    "duration": 6,
    "start_time": "2025-04-20T05:46:20.076Z"
   },
   {
    "duration": 4,
    "start_time": "2025-04-20T05:46:20.084Z"
   },
   {
    "duration": 6,
    "start_time": "2025-04-20T05:46:20.090Z"
   },
   {
    "duration": 7,
    "start_time": "2025-04-20T05:46:20.097Z"
   },
   {
    "duration": 3,
    "start_time": "2025-04-20T05:46:20.105Z"
   },
   {
    "duration": 6,
    "start_time": "2025-04-20T05:46:20.110Z"
   },
   {
    "duration": 289,
    "start_time": "2025-04-20T05:46:20.368Z"
   },
   {
    "duration": 170,
    "start_time": "2025-04-20T05:46:20.659Z"
   },
   {
    "duration": 7,
    "start_time": "2025-04-20T05:46:20.831Z"
   },
   {
    "duration": 2,
    "start_time": "2025-04-20T05:46:20.840Z"
   },
   {
    "duration": 3,
    "start_time": "2025-04-20T05:46:20.844Z"
   },
   {
    "duration": 21,
    "start_time": "2025-04-20T05:46:20.849Z"
   },
   {
    "duration": 4,
    "start_time": "2025-04-20T05:46:20.872Z"
   },
   {
    "duration": 13,
    "start_time": "2025-04-20T05:53:34.038Z"
   },
   {
    "duration": 13,
    "start_time": "2025-04-20T05:54:02.395Z"
   },
   {
    "duration": 0,
    "start_time": "2025-04-20T05:54:02.410Z"
   },
   {
    "duration": 0,
    "start_time": "2025-04-20T05:54:02.411Z"
   },
   {
    "duration": 0,
    "start_time": "2025-04-20T05:54:02.413Z"
   },
   {
    "duration": 0,
    "start_time": "2025-04-20T05:54:02.414Z"
   },
   {
    "duration": 0,
    "start_time": "2025-04-20T05:54:02.415Z"
   },
   {
    "duration": 0,
    "start_time": "2025-04-20T05:54:02.416Z"
   },
   {
    "duration": 0,
    "start_time": "2025-04-20T05:54:02.418Z"
   },
   {
    "duration": 0,
    "start_time": "2025-04-20T05:54:02.419Z"
   },
   {
    "duration": 303,
    "start_time": "2025-04-20T05:54:02.434Z"
   },
   {
    "duration": 168,
    "start_time": "2025-04-20T05:54:02.739Z"
   },
   {
    "duration": 7,
    "start_time": "2025-04-20T05:54:02.909Z"
   },
   {
    "duration": 3,
    "start_time": "2025-04-20T05:54:02.918Z"
   },
   {
    "duration": 4,
    "start_time": "2025-04-20T05:54:02.924Z"
   },
   {
    "duration": 110,
    "start_time": "2025-04-20T05:54:02.929Z"
   },
   {
    "duration": 0,
    "start_time": "2025-04-20T05:54:03.041Z"
   },
   {
    "duration": 3,
    "start_time": "2025-04-20T05:55:22.225Z"
   },
   {
    "duration": 12,
    "start_time": "2025-04-20T05:55:22.230Z"
   },
   {
    "duration": 5,
    "start_time": "2025-04-20T05:55:22.244Z"
   },
   {
    "duration": 5,
    "start_time": "2025-04-20T05:55:22.251Z"
   },
   {
    "duration": 4,
    "start_time": "2025-04-20T05:55:22.260Z"
   },
   {
    "duration": 6,
    "start_time": "2025-04-20T05:55:22.266Z"
   },
   {
    "duration": 5,
    "start_time": "2025-04-20T05:55:22.273Z"
   },
   {
    "duration": 4,
    "start_time": "2025-04-20T05:55:22.280Z"
   },
   {
    "duration": 6,
    "start_time": "2025-04-20T05:55:22.286Z"
   },
   {
    "duration": 275,
    "start_time": "2025-04-20T05:55:22.310Z"
   },
   {
    "duration": 165,
    "start_time": "2025-04-20T05:55:22.588Z"
   },
   {
    "duration": 7,
    "start_time": "2025-04-20T05:55:22.755Z"
   },
   {
    "duration": 7,
    "start_time": "2025-04-20T05:55:22.764Z"
   },
   {
    "duration": 4,
    "start_time": "2025-04-20T05:55:22.773Z"
   },
   {
    "duration": 293,
    "start_time": "2025-04-20T05:55:22.778Z"
   },
   {
    "duration": 0,
    "start_time": "2025-04-20T05:55:23.072Z"
   },
   {
    "duration": 0,
    "start_time": "2025-04-20T05:55:23.074Z"
   },
   {
    "duration": 41,
    "start_time": "2025-04-20T05:56:16.020Z"
   },
   {
    "duration": 8,
    "start_time": "2025-04-20T05:56:43.053Z"
   },
   {
    "duration": 7,
    "start_time": "2025-04-20T05:57:07.721Z"
   },
   {
    "duration": 8,
    "start_time": "2025-04-20T05:59:12.070Z"
   },
   {
    "duration": 6,
    "start_time": "2025-04-20T06:02:52.670Z"
   },
   {
    "duration": 3,
    "start_time": "2025-04-20T06:03:27.970Z"
   },
   {
    "duration": 4,
    "start_time": "2025-04-20T06:03:51.679Z"
   },
   {
    "duration": 2,
    "start_time": "2025-04-20T06:05:15.801Z"
   },
   {
    "duration": 11,
    "start_time": "2025-04-20T06:05:15.806Z"
   },
   {
    "duration": 6,
    "start_time": "2025-04-20T06:05:15.818Z"
   },
   {
    "duration": 6,
    "start_time": "2025-04-20T06:05:15.826Z"
   },
   {
    "duration": 5,
    "start_time": "2025-04-20T06:05:15.834Z"
   },
   {
    "duration": 6,
    "start_time": "2025-04-20T06:05:15.841Z"
   },
   {
    "duration": 6,
    "start_time": "2025-04-20T06:05:15.848Z"
   },
   {
    "duration": 4,
    "start_time": "2025-04-20T06:05:15.856Z"
   },
   {
    "duration": 12,
    "start_time": "2025-04-20T06:05:15.863Z"
   },
   {
    "duration": 286,
    "start_time": "2025-04-20T06:05:15.878Z"
   },
   {
    "duration": 272,
    "start_time": "2025-04-20T06:05:16.171Z"
   },
   {
    "duration": 7,
    "start_time": "2025-04-20T06:05:16.445Z"
   },
   {
    "duration": 17,
    "start_time": "2025-04-20T06:05:16.453Z"
   },
   {
    "duration": 4,
    "start_time": "2025-04-20T06:05:16.472Z"
   },
   {
    "duration": 5,
    "start_time": "2025-04-20T06:05:16.478Z"
   },
   {
    "duration": 4,
    "start_time": "2025-04-20T06:05:16.484Z"
   },
   {
    "duration": 17,
    "start_time": "2025-04-20T06:05:16.490Z"
   },
   {
    "duration": 3,
    "start_time": "2025-04-20T06:05:37.530Z"
   },
   {
    "duration": 3,
    "start_time": "2025-04-20T06:06:14.304Z"
   },
   {
    "duration": 3,
    "start_time": "2025-04-20T06:06:18.014Z"
   },
   {
    "duration": 12,
    "start_time": "2025-04-20T06:06:18.019Z"
   },
   {
    "duration": 6,
    "start_time": "2025-04-20T06:06:18.032Z"
   },
   {
    "duration": 6,
    "start_time": "2025-04-20T06:06:18.040Z"
   },
   {
    "duration": 4,
    "start_time": "2025-04-20T06:06:18.048Z"
   },
   {
    "duration": 7,
    "start_time": "2025-04-20T06:06:18.054Z"
   },
   {
    "duration": 6,
    "start_time": "2025-04-20T06:06:18.063Z"
   },
   {
    "duration": 4,
    "start_time": "2025-04-20T06:06:18.071Z"
   },
   {
    "duration": 7,
    "start_time": "2025-04-20T06:06:18.077Z"
   },
   {
    "duration": 285,
    "start_time": "2025-04-20T06:06:18.086Z"
   },
   {
    "duration": 170,
    "start_time": "2025-04-20T06:06:18.374Z"
   },
   {
    "duration": 7,
    "start_time": "2025-04-20T06:06:18.546Z"
   },
   {
    "duration": 16,
    "start_time": "2025-04-20T06:06:18.555Z"
   },
   {
    "duration": 3,
    "start_time": "2025-04-20T06:06:18.572Z"
   },
   {
    "duration": 4,
    "start_time": "2025-04-20T06:06:18.576Z"
   },
   {
    "duration": 3,
    "start_time": "2025-04-20T06:06:20.270Z"
   },
   {
    "duration": 11,
    "start_time": "2025-04-20T06:06:20.275Z"
   },
   {
    "duration": 5,
    "start_time": "2025-04-20T06:06:20.288Z"
   },
   {
    "duration": 7,
    "start_time": "2025-04-20T06:06:20.294Z"
   },
   {
    "duration": 5,
    "start_time": "2025-04-20T06:06:20.304Z"
   },
   {
    "duration": 6,
    "start_time": "2025-04-20T06:06:20.311Z"
   },
   {
    "duration": 7,
    "start_time": "2025-04-20T06:06:20.318Z"
   },
   {
    "duration": 5,
    "start_time": "2025-04-20T06:06:20.326Z"
   },
   {
    "duration": 42,
    "start_time": "2025-04-20T06:06:20.333Z"
   },
   {
    "duration": 292,
    "start_time": "2025-04-20T06:06:20.378Z"
   },
   {
    "duration": 170,
    "start_time": "2025-04-20T06:06:20.672Z"
   },
   {
    "duration": 6,
    "start_time": "2025-04-20T06:06:20.844Z"
   },
   {
    "duration": 4,
    "start_time": "2025-04-20T06:06:20.852Z"
   },
   {
    "duration": 4,
    "start_time": "2025-04-20T06:06:20.871Z"
   },
   {
    "duration": 3,
    "start_time": "2025-04-20T06:06:20.877Z"
   },
   {
    "duration": 4,
    "start_time": "2025-04-20T06:06:20.881Z"
   },
   {
    "duration": 15,
    "start_time": "2025-04-20T06:06:20.886Z"
   },
   {
    "duration": 4,
    "start_time": "2025-04-20T06:06:38.482Z"
   },
   {
    "duration": 4,
    "start_time": "2025-04-20T06:08:38.755Z"
   },
   {
    "duration": 3,
    "start_time": "2025-04-20T06:09:58.828Z"
   },
   {
    "duration": 3,
    "start_time": "2025-04-20T06:12:33.116Z"
   },
   {
    "duration": 3,
    "start_time": "2025-04-20T06:22:30.663Z"
   },
   {
    "duration": 13,
    "start_time": "2025-04-20T06:22:30.668Z"
   },
   {
    "duration": 6,
    "start_time": "2025-04-20T06:22:30.682Z"
   },
   {
    "duration": 5,
    "start_time": "2025-04-20T06:22:30.690Z"
   },
   {
    "duration": 4,
    "start_time": "2025-04-20T06:22:30.698Z"
   },
   {
    "duration": 7,
    "start_time": "2025-04-20T06:22:30.704Z"
   },
   {
    "duration": 6,
    "start_time": "2025-04-20T06:22:30.712Z"
   },
   {
    "duration": 3,
    "start_time": "2025-04-20T06:22:30.720Z"
   },
   {
    "duration": 7,
    "start_time": "2025-04-20T06:22:30.725Z"
   },
   {
    "duration": 329,
    "start_time": "2025-04-20T06:22:30.733Z"
   },
   {
    "duration": 167,
    "start_time": "2025-04-20T06:22:31.070Z"
   },
   {
    "duration": 6,
    "start_time": "2025-04-20T06:22:31.239Z"
   },
   {
    "duration": 4,
    "start_time": "2025-04-20T06:22:31.249Z"
   },
   {
    "duration": 3,
    "start_time": "2025-04-20T06:22:31.269Z"
   },
   {
    "duration": 4,
    "start_time": "2025-04-20T06:22:31.274Z"
   },
   {
    "duration": 3,
    "start_time": "2025-04-20T06:23:16.234Z"
   },
   {
    "duration": 2526,
    "start_time": "2025-04-20T06:54:52.729Z"
   },
   {
    "duration": 24,
    "start_time": "2025-04-20T06:54:55.258Z"
   },
   {
    "duration": 9,
    "start_time": "2025-04-20T06:54:55.283Z"
   },
   {
    "duration": 5,
    "start_time": "2025-04-20T06:54:55.294Z"
   },
   {
    "duration": 4,
    "start_time": "2025-04-20T06:54:55.301Z"
   },
   {
    "duration": 10,
    "start_time": "2025-04-20T06:54:55.306Z"
   },
   {
    "duration": 6,
    "start_time": "2025-04-20T06:54:55.318Z"
   },
   {
    "duration": 3,
    "start_time": "2025-04-20T06:54:55.326Z"
   },
   {
    "duration": 6,
    "start_time": "2025-04-20T06:54:55.331Z"
   },
   {
    "duration": 372,
    "start_time": "2025-04-20T06:54:55.340Z"
   },
   {
    "duration": 165,
    "start_time": "2025-04-20T06:54:55.714Z"
   },
   {
    "duration": 6,
    "start_time": "2025-04-20T06:54:55.881Z"
   },
   {
    "duration": 4,
    "start_time": "2025-04-20T06:54:55.889Z"
   },
   {
    "duration": 18,
    "start_time": "2025-04-20T06:54:55.894Z"
   },
   {
    "duration": 3,
    "start_time": "2025-04-20T06:54:55.914Z"
   },
   {
    "duration": 3,
    "start_time": "2025-04-20T06:57:45.116Z"
   },
   {
    "duration": 3,
    "start_time": "2025-04-20T06:57:49.512Z"
   },
   {
    "duration": 157,
    "start_time": "2025-04-20T09:19:19.214Z"
   },
   {
    "duration": 2509,
    "start_time": "2025-04-20T09:22:28.094Z"
   },
   {
    "duration": 21,
    "start_time": "2025-04-20T09:22:30.606Z"
   },
   {
    "duration": 9,
    "start_time": "2025-04-20T09:22:30.628Z"
   },
   {
    "duration": 5,
    "start_time": "2025-04-20T09:22:30.639Z"
   },
   {
    "duration": 4,
    "start_time": "2025-04-20T09:22:30.647Z"
   },
   {
    "duration": 6,
    "start_time": "2025-04-20T09:22:30.653Z"
   },
   {
    "duration": 6,
    "start_time": "2025-04-20T09:22:30.671Z"
   },
   {
    "duration": 4,
    "start_time": "2025-04-20T09:22:30.678Z"
   },
   {
    "duration": 7,
    "start_time": "2025-04-20T09:22:30.684Z"
   },
   {
    "duration": 353,
    "start_time": "2025-04-20T09:22:30.692Z"
   },
   {
    "duration": 169,
    "start_time": "2025-04-20T09:22:31.047Z"
   },
   {
    "duration": 9,
    "start_time": "2025-04-20T09:22:31.218Z"
   },
   {
    "duration": 4,
    "start_time": "2025-04-20T09:22:31.229Z"
   },
   {
    "duration": 4,
    "start_time": "2025-04-20T09:22:31.235Z"
   },
   {
    "duration": 5,
    "start_time": "2025-04-20T09:22:31.240Z"
   },
   {
    "duration": 2,
    "start_time": "2025-04-20T09:26:52.096Z"
   },
   {
    "duration": 14,
    "start_time": "2025-04-20T09:26:52.100Z"
   },
   {
    "duration": 5,
    "start_time": "2025-04-20T09:26:52.115Z"
   },
   {
    "duration": 6,
    "start_time": "2025-04-20T09:26:52.122Z"
   },
   {
    "duration": 6,
    "start_time": "2025-04-20T09:26:52.130Z"
   },
   {
    "duration": 6,
    "start_time": "2025-04-20T09:26:52.138Z"
   },
   {
    "duration": 5,
    "start_time": "2025-04-20T09:26:52.146Z"
   },
   {
    "duration": 4,
    "start_time": "2025-04-20T09:26:52.152Z"
   },
   {
    "duration": 14,
    "start_time": "2025-04-20T09:26:52.158Z"
   },
   {
    "duration": 297,
    "start_time": "2025-04-20T09:26:52.174Z"
   },
   {
    "duration": 159,
    "start_time": "2025-04-20T09:26:52.472Z"
   },
   {
    "duration": 10,
    "start_time": "2025-04-20T09:26:52.634Z"
   },
   {
    "duration": 3,
    "start_time": "2025-04-20T09:26:52.646Z"
   },
   {
    "duration": 4,
    "start_time": "2025-04-20T09:26:52.669Z"
   },
   {
    "duration": 5,
    "start_time": "2025-04-20T09:26:52.674Z"
   },
   {
    "duration": 6,
    "start_time": "2025-04-20T09:28:27.089Z"
   },
   {
    "duration": 6,
    "start_time": "2025-04-20T09:28:35.937Z"
   },
   {
    "duration": 4,
    "start_time": "2025-04-20T09:28:57.317Z"
   },
   {
    "duration": 6,
    "start_time": "2025-04-20T09:29:08.534Z"
   },
   {
    "duration": 6,
    "start_time": "2025-04-20T09:29:11.401Z"
   },
   {
    "duration": 10,
    "start_time": "2025-04-20T09:30:52.745Z"
   },
   {
    "duration": 5,
    "start_time": "2025-04-20T09:32:24.054Z"
   },
   {
    "duration": 107,
    "start_time": "2025-04-20T09:35:52.170Z"
   },
   {
    "duration": 156,
    "start_time": "2025-04-20T15:58:07.604Z"
   },
   {
    "duration": 2494,
    "start_time": "2025-04-20T15:58:13.324Z"
   },
   {
    "duration": 21,
    "start_time": "2025-04-20T15:58:15.823Z"
   },
   {
    "duration": 8,
    "start_time": "2025-04-20T15:58:15.845Z"
   },
   {
    "duration": 6,
    "start_time": "2025-04-20T15:58:15.854Z"
   },
   {
    "duration": 5,
    "start_time": "2025-04-20T15:58:15.862Z"
   },
   {
    "duration": 6,
    "start_time": "2025-04-20T15:58:15.868Z"
   },
   {
    "duration": 5,
    "start_time": "2025-04-20T15:58:15.876Z"
   },
   {
    "duration": 4,
    "start_time": "2025-04-20T15:58:15.882Z"
   },
   {
    "duration": 5,
    "start_time": "2025-04-20T15:58:15.889Z"
   },
   {
    "duration": 340,
    "start_time": "2025-04-20T15:58:15.895Z"
   },
   {
    "duration": 167,
    "start_time": "2025-04-20T15:58:16.237Z"
   },
   {
    "duration": 19,
    "start_time": "2025-04-20T15:58:16.406Z"
   },
   {
    "duration": 2,
    "start_time": "2025-04-20T15:58:16.426Z"
   },
   {
    "duration": 9,
    "start_time": "2025-04-20T15:58:16.431Z"
   },
   {
    "duration": 4,
    "start_time": "2025-04-20T15:58:16.442Z"
   },
   {
    "duration": 3,
    "start_time": "2025-04-20T15:58:16.447Z"
   },
   {
    "duration": 4,
    "start_time": "2025-04-20T15:58:16.452Z"
   },
   {
    "duration": 6,
    "start_time": "2025-04-20T15:59:33.378Z"
   },
   {
    "duration": 8,
    "start_time": "2025-04-20T16:00:15.782Z"
   },
   {
    "duration": 5,
    "start_time": "2025-04-20T16:00:25.612Z"
   },
   {
    "duration": 3,
    "start_time": "2025-04-20T16:01:57.394Z"
   },
   {
    "duration": 12,
    "start_time": "2025-04-20T16:01:57.400Z"
   },
   {
    "duration": 5,
    "start_time": "2025-04-20T16:01:57.413Z"
   },
   {
    "duration": 6,
    "start_time": "2025-04-20T16:01:57.420Z"
   },
   {
    "duration": 4,
    "start_time": "2025-04-20T16:01:57.429Z"
   },
   {
    "duration": 7,
    "start_time": "2025-04-20T16:01:57.435Z"
   },
   {
    "duration": 6,
    "start_time": "2025-04-20T16:01:57.444Z"
   },
   {
    "duration": 3,
    "start_time": "2025-04-20T16:01:57.452Z"
   },
   {
    "duration": 5,
    "start_time": "2025-04-20T16:01:57.457Z"
   },
   {
    "duration": 327,
    "start_time": "2025-04-20T16:01:57.464Z"
   },
   {
    "duration": 220,
    "start_time": "2025-04-20T16:01:57.793Z"
   },
   {
    "duration": 14,
    "start_time": "2025-04-20T16:01:58.014Z"
   },
   {
    "duration": 4,
    "start_time": "2025-04-20T16:01:58.030Z"
   },
   {
    "duration": 5,
    "start_time": "2025-04-20T16:01:58.038Z"
   },
   {
    "duration": 10,
    "start_time": "2025-04-20T16:01:58.044Z"
   },
   {
    "duration": 3,
    "start_time": "2025-04-20T16:01:58.055Z"
   },
   {
    "duration": 4,
    "start_time": "2025-04-20T16:01:58.060Z"
   },
   {
    "duration": 4,
    "start_time": "2025-04-20T16:01:58.066Z"
   },
   {
    "duration": 4,
    "start_time": "2025-04-20T16:01:58.071Z"
   },
   {
    "duration": 3,
    "start_time": "2025-04-20T16:18:17.478Z"
   },
   {
    "duration": 16,
    "start_time": "2025-04-20T16:18:17.483Z"
   },
   {
    "duration": 6,
    "start_time": "2025-04-20T16:18:17.500Z"
   },
   {
    "duration": 5,
    "start_time": "2025-04-20T16:18:17.508Z"
   },
   {
    "duration": 5,
    "start_time": "2025-04-20T16:18:17.515Z"
   },
   {
    "duration": 7,
    "start_time": "2025-04-20T16:18:17.521Z"
   },
   {
    "duration": 5,
    "start_time": "2025-04-20T16:18:17.529Z"
   },
   {
    "duration": 3,
    "start_time": "2025-04-20T16:18:17.536Z"
   },
   {
    "duration": 8,
    "start_time": "2025-04-20T16:18:17.541Z"
   },
   {
    "duration": 320,
    "start_time": "2025-04-20T16:18:17.552Z"
   },
   {
    "duration": 171,
    "start_time": "2025-04-20T16:18:17.874Z"
   },
   {
    "duration": 11,
    "start_time": "2025-04-20T16:18:18.047Z"
   },
   {
    "duration": 5,
    "start_time": "2025-04-20T16:18:18.059Z"
   },
   {
    "duration": 5,
    "start_time": "2025-04-20T16:18:18.067Z"
   },
   {
    "duration": 7,
    "start_time": "2025-04-20T16:18:18.073Z"
   },
   {
    "duration": 3,
    "start_time": "2025-04-20T16:18:18.082Z"
   },
   {
    "duration": 40,
    "start_time": "2025-04-20T16:18:18.087Z"
   },
   {
    "duration": 3,
    "start_time": "2025-04-20T16:18:18.129Z"
   },
   {
    "duration": 4,
    "start_time": "2025-04-20T16:18:18.133Z"
   },
   {
    "duration": 3,
    "start_time": "2025-04-20T16:20:49.743Z"
   },
   {
    "duration": 12,
    "start_time": "2025-04-20T16:20:49.748Z"
   },
   {
    "duration": 6,
    "start_time": "2025-04-20T16:20:49.762Z"
   },
   {
    "duration": 5,
    "start_time": "2025-04-20T16:20:49.771Z"
   },
   {
    "duration": 4,
    "start_time": "2025-04-20T16:20:49.778Z"
   },
   {
    "duration": 5,
    "start_time": "2025-04-20T16:20:49.784Z"
   },
   {
    "duration": 5,
    "start_time": "2025-04-20T16:20:49.791Z"
   },
   {
    "duration": 4,
    "start_time": "2025-04-20T16:20:49.797Z"
   },
   {
    "duration": 24,
    "start_time": "2025-04-20T16:20:49.802Z"
   },
   {
    "duration": 302,
    "start_time": "2025-04-20T16:20:49.829Z"
   },
   {
    "duration": 165,
    "start_time": "2025-04-20T16:20:50.135Z"
   },
   {
    "duration": 10,
    "start_time": "2025-04-20T16:20:50.302Z"
   },
   {
    "duration": 5,
    "start_time": "2025-04-20T16:20:50.323Z"
   },
   {
    "duration": 5,
    "start_time": "2025-04-20T16:20:50.329Z"
   },
   {
    "duration": 7,
    "start_time": "2025-04-20T16:20:50.336Z"
   },
   {
    "duration": 4,
    "start_time": "2025-04-20T16:20:50.345Z"
   },
   {
    "duration": 4,
    "start_time": "2025-04-20T16:20:50.350Z"
   },
   {
    "duration": 4,
    "start_time": "2025-04-20T16:20:50.356Z"
   },
   {
    "duration": 4,
    "start_time": "2025-04-20T16:20:50.361Z"
   },
   {
    "duration": 2492,
    "start_time": "2025-04-20T17:25:58.740Z"
   },
   {
    "duration": 22,
    "start_time": "2025-04-20T17:26:01.234Z"
   },
   {
    "duration": 10,
    "start_time": "2025-04-20T17:26:01.258Z"
   },
   {
    "duration": 6,
    "start_time": "2025-04-20T17:26:01.271Z"
   },
   {
    "duration": 5,
    "start_time": "2025-04-20T17:26:01.279Z"
   },
   {
    "duration": 19,
    "start_time": "2025-04-20T17:26:01.286Z"
   },
   {
    "duration": 5,
    "start_time": "2025-04-20T17:26:01.307Z"
   },
   {
    "duration": 4,
    "start_time": "2025-04-20T17:26:01.313Z"
   },
   {
    "duration": 6,
    "start_time": "2025-04-20T17:26:01.318Z"
   },
   {
    "duration": 319,
    "start_time": "2025-04-20T17:26:01.327Z"
   },
   {
    "duration": 178,
    "start_time": "2025-04-20T17:26:01.648Z"
   },
   {
    "duration": 10,
    "start_time": "2025-04-20T17:26:01.829Z"
   },
   {
    "duration": 5,
    "start_time": "2025-04-20T17:26:01.840Z"
   },
   {
    "duration": 4,
    "start_time": "2025-04-20T17:26:01.846Z"
   },
   {
    "duration": 8,
    "start_time": "2025-04-20T17:26:01.852Z"
   },
   {
    "duration": 3,
    "start_time": "2025-04-20T17:26:01.862Z"
   },
   {
    "duration": 4,
    "start_time": "2025-04-20T17:26:01.867Z"
   },
   {
    "duration": 36,
    "start_time": "2025-04-20T17:26:01.872Z"
   },
   {
    "duration": 4,
    "start_time": "2025-04-20T17:26:01.909Z"
   }
  ],
  "kernelspec": {
   "display_name": "Python 3 (ipykernel)",
   "language": "python",
   "name": "python3"
  },
  "language_info": {
   "codemirror_mode": {
    "name": "ipython",
    "version": 3
   },
   "file_extension": ".py",
   "mimetype": "text/x-python",
   "name": "python",
   "nbconvert_exporter": "python",
   "pygments_lexer": "ipython3",
   "version": "3.9.19"
  },
  "toc": {
   "base_numbering": 1,
   "nav_menu": {},
   "number_sections": true,
   "sideBar": true,
   "skip_h1_title": true,
   "title_cell": "Table of Contents",
   "title_sidebar": "Contents",
   "toc_cell": false,
   "toc_position": {},
   "toc_section_display": true,
   "toc_window_display": false
  }
 },
 "nbformat": 4,
 "nbformat_minor": 2
}
