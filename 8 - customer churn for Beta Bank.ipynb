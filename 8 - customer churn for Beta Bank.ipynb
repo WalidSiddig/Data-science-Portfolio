{
 "cells": [
  {
   "cell_type": "markdown",
   "metadata": {},
   "source": [
    "### Project Goal :"
   ]
  },
  {
   "cell_type": "markdown",
   "metadata": {},
   "source": [
    "The goal of this project is to develop a machine learning model to predict customer churn for Beta Bank. By analyzing customer behavior and account features, the bank aims to identify clients who are likely to terminate their contracts in the near future.\n",
    "\n",
    "Successfully predicting churn will enable the bank to take proactive steps to retain at-risk customers, thereby reducing attrition and improving customer lifetime value.\n",
    "\n",
    "To consider the model successful, it must achieve an **F1 score of at least 0.59** on the test set. We will also evaluate performance using the **AUC-ROC** metric to assess the model’s ability to distinguish between churned and retained customers."
   ]
  },
  {
   "cell_type": "code",
   "execution_count": 41,
   "metadata": {},
   "outputs": [],
   "source": [
    "#Import Libraries\n",
    "import pandas as pd\n",
    "import numpy as np\n",
    "from sklearn.model_selection import train_test_split\n",
    "from sklearn.preprocessing import StandardScaler\n",
    "from sklearn.metrics import f1_score, roc_auc_score, classification_report\n",
    "from sklearn.ensemble import RandomForestClassifier\n",
    "from sklearn.linear_model import LogisticRegression\n",
    "from sklearn.tree import DecisionTreeClassifier\n",
    "import seaborn as sns\n",
    "import matplotlib.pyplot as plt"
   ]
  },
  {
   "cell_type": "code",
   "execution_count": 42,
   "metadata": {},
   "outputs": [
    {
     "data": {
      "text/html": [
       "<div>\n",
       "<style scoped>\n",
       "    .dataframe tbody tr th:only-of-type {\n",
       "        vertical-align: middle;\n",
       "    }\n",
       "\n",
       "    .dataframe tbody tr th {\n",
       "        vertical-align: top;\n",
       "    }\n",
       "\n",
       "    .dataframe thead th {\n",
       "        text-align: right;\n",
       "    }\n",
       "</style>\n",
       "<table border=\"1\" class=\"dataframe\">\n",
       "  <thead>\n",
       "    <tr style=\"text-align: right;\">\n",
       "      <th></th>\n",
       "      <th>RowNumber</th>\n",
       "      <th>CustomerId</th>\n",
       "      <th>Surname</th>\n",
       "      <th>CreditScore</th>\n",
       "      <th>Geography</th>\n",
       "      <th>Gender</th>\n",
       "      <th>Age</th>\n",
       "      <th>Tenure</th>\n",
       "      <th>Balance</th>\n",
       "      <th>NumOfProducts</th>\n",
       "      <th>HasCrCard</th>\n",
       "      <th>IsActiveMember</th>\n",
       "      <th>EstimatedSalary</th>\n",
       "      <th>Exited</th>\n",
       "    </tr>\n",
       "  </thead>\n",
       "  <tbody>\n",
       "    <tr>\n",
       "      <th>0</th>\n",
       "      <td>1</td>\n",
       "      <td>15634602</td>\n",
       "      <td>Hargrave</td>\n",
       "      <td>619</td>\n",
       "      <td>France</td>\n",
       "      <td>Female</td>\n",
       "      <td>42</td>\n",
       "      <td>2.0</td>\n",
       "      <td>0.00</td>\n",
       "      <td>1</td>\n",
       "      <td>1</td>\n",
       "      <td>1</td>\n",
       "      <td>101348.88</td>\n",
       "      <td>1</td>\n",
       "    </tr>\n",
       "    <tr>\n",
       "      <th>1</th>\n",
       "      <td>2</td>\n",
       "      <td>15647311</td>\n",
       "      <td>Hill</td>\n",
       "      <td>608</td>\n",
       "      <td>Spain</td>\n",
       "      <td>Female</td>\n",
       "      <td>41</td>\n",
       "      <td>1.0</td>\n",
       "      <td>83807.86</td>\n",
       "      <td>1</td>\n",
       "      <td>0</td>\n",
       "      <td>1</td>\n",
       "      <td>112542.58</td>\n",
       "      <td>0</td>\n",
       "    </tr>\n",
       "    <tr>\n",
       "      <th>2</th>\n",
       "      <td>3</td>\n",
       "      <td>15619304</td>\n",
       "      <td>Onio</td>\n",
       "      <td>502</td>\n",
       "      <td>France</td>\n",
       "      <td>Female</td>\n",
       "      <td>42</td>\n",
       "      <td>8.0</td>\n",
       "      <td>159660.80</td>\n",
       "      <td>3</td>\n",
       "      <td>1</td>\n",
       "      <td>0</td>\n",
       "      <td>113931.57</td>\n",
       "      <td>1</td>\n",
       "    </tr>\n",
       "    <tr>\n",
       "      <th>3</th>\n",
       "      <td>4</td>\n",
       "      <td>15701354</td>\n",
       "      <td>Boni</td>\n",
       "      <td>699</td>\n",
       "      <td>France</td>\n",
       "      <td>Female</td>\n",
       "      <td>39</td>\n",
       "      <td>1.0</td>\n",
       "      <td>0.00</td>\n",
       "      <td>2</td>\n",
       "      <td>0</td>\n",
       "      <td>0</td>\n",
       "      <td>93826.63</td>\n",
       "      <td>0</td>\n",
       "    </tr>\n",
       "    <tr>\n",
       "      <th>4</th>\n",
       "      <td>5</td>\n",
       "      <td>15737888</td>\n",
       "      <td>Mitchell</td>\n",
       "      <td>850</td>\n",
       "      <td>Spain</td>\n",
       "      <td>Female</td>\n",
       "      <td>43</td>\n",
       "      <td>2.0</td>\n",
       "      <td>125510.82</td>\n",
       "      <td>1</td>\n",
       "      <td>1</td>\n",
       "      <td>1</td>\n",
       "      <td>79084.10</td>\n",
       "      <td>0</td>\n",
       "    </tr>\n",
       "  </tbody>\n",
       "</table>\n",
       "</div>"
      ],
      "text/plain": [
       "   RowNumber  CustomerId   Surname  CreditScore Geography  Gender  Age  \\\n",
       "0          1    15634602  Hargrave          619    France  Female   42   \n",
       "1          2    15647311      Hill          608     Spain  Female   41   \n",
       "2          3    15619304      Onio          502    France  Female   42   \n",
       "3          4    15701354      Boni          699    France  Female   39   \n",
       "4          5    15737888  Mitchell          850     Spain  Female   43   \n",
       "\n",
       "   Tenure    Balance  NumOfProducts  HasCrCard  IsActiveMember  \\\n",
       "0     2.0       0.00              1          1               1   \n",
       "1     1.0   83807.86              1          0               1   \n",
       "2     8.0  159660.80              3          1               0   \n",
       "3     1.0       0.00              2          0               0   \n",
       "4     2.0  125510.82              1          1               1   \n",
       "\n",
       "   EstimatedSalary  Exited  \n",
       "0        101348.88       1  \n",
       "1        112542.58       0  \n",
       "2        113931.57       1  \n",
       "3         93826.63       0  \n",
       "4         79084.10       0  "
      ]
     },
     "execution_count": 42,
     "metadata": {},
     "output_type": "execute_result"
    }
   ],
   "source": [
    "#Load Data\n",
    "data = pd.read_csv(\"/datasets/Churn.csv\")\n",
    "data.head()"
   ]
  },
  {
   "cell_type": "code",
   "execution_count": 43,
   "metadata": {},
   "outputs": [
    {
     "name": "stdout",
     "output_type": "stream",
     "text": [
      "<class 'pandas.core.frame.DataFrame'>\n",
      "RangeIndex: 10000 entries, 0 to 9999\n",
      "Data columns (total 14 columns):\n",
      " #   Column           Non-Null Count  Dtype  \n",
      "---  ------           --------------  -----  \n",
      " 0   RowNumber        10000 non-null  int64  \n",
      " 1   CustomerId       10000 non-null  int64  \n",
      " 2   Surname          10000 non-null  object \n",
      " 3   CreditScore      10000 non-null  int64  \n",
      " 4   Geography        10000 non-null  object \n",
      " 5   Gender           10000 non-null  object \n",
      " 6   Age              10000 non-null  int64  \n",
      " 7   Tenure           9091 non-null   float64\n",
      " 8   Balance          10000 non-null  float64\n",
      " 9   NumOfProducts    10000 non-null  int64  \n",
      " 10  HasCrCard        10000 non-null  int64  \n",
      " 11  IsActiveMember   10000 non-null  int64  \n",
      " 12  EstimatedSalary  10000 non-null  float64\n",
      " 13  Exited           10000 non-null  int64  \n",
      "dtypes: float64(3), int64(8), object(3)\n",
      "memory usage: 1.1+ MB\n"
     ]
    }
   ],
   "source": [
    "#prepare the data\n",
    "data.info()"
   ]
  },
  {
   "cell_type": "code",
   "execution_count": 44,
   "metadata": {},
   "outputs": [
    {
     "data": {
      "text/plain": [
       "RowNumber            0\n",
       "CustomerId           0\n",
       "Surname              0\n",
       "CreditScore          0\n",
       "Geography            0\n",
       "Gender               0\n",
       "Age                  0\n",
       "Tenure             909\n",
       "Balance              0\n",
       "NumOfProducts        0\n",
       "HasCrCard            0\n",
       "IsActiveMember       0\n",
       "EstimatedSalary      0\n",
       "Exited               0\n",
       "dtype: int64"
      ]
     },
     "execution_count": 44,
     "metadata": {},
     "output_type": "execute_result"
    }
   ],
   "source": [
    "#we see the column 'Tenure' has 909 missing data \n",
    "data.isna().sum()"
   ]
  },
  {
   "cell_type": "code",
   "execution_count": 45,
   "metadata": {},
   "outputs": [],
   "source": [
    "#Handle Missing Values\n",
    "#data['Tenure'] = data['Tenure'].fillna('Unknown')\n",
    "data['Tenure'] = data['Tenure'].fillna(data['Tenure'].median())"
   ]
  },
  {
   "cell_type": "code",
   "execution_count": 46,
   "metadata": {},
   "outputs": [
    {
     "data": {
      "text/plain": [
       "RowNumber          0\n",
       "CustomerId         0\n",
       "Surname            0\n",
       "CreditScore        0\n",
       "Geography          0\n",
       "Gender             0\n",
       "Age                0\n",
       "Tenure             0\n",
       "Balance            0\n",
       "NumOfProducts      0\n",
       "HasCrCard          0\n",
       "IsActiveMember     0\n",
       "EstimatedSalary    0\n",
       "Exited             0\n",
       "dtype: int64"
      ]
     },
     "execution_count": 46,
     "metadata": {},
     "output_type": "execute_result"
    }
   ],
   "source": [
    "data.isna().sum()"
   ]
  },
  {
   "cell_type": "code",
   "execution_count": 47,
   "metadata": {},
   "outputs": [],
   "source": [
    "#Drop Irrelevant Columns\n",
    "data = data.drop(['RowNumber','CustomerId','Surname'], axis=1)"
   ]
  },
  {
   "cell_type": "code",
   "execution_count": 48,
   "metadata": {},
   "outputs": [
    {
     "name": "stdout",
     "output_type": "stream",
     "text": [
      "<class 'pandas.core.frame.DataFrame'>\n",
      "RangeIndex: 10000 entries, 0 to 9999\n",
      "Data columns (total 11 columns):\n",
      " #   Column           Non-Null Count  Dtype  \n",
      "---  ------           --------------  -----  \n",
      " 0   CreditScore      10000 non-null  int64  \n",
      " 1   Geography        10000 non-null  object \n",
      " 2   Gender           10000 non-null  object \n",
      " 3   Age              10000 non-null  int64  \n",
      " 4   Tenure           10000 non-null  float64\n",
      " 5   Balance          10000 non-null  float64\n",
      " 6   NumOfProducts    10000 non-null  int64  \n",
      " 7   HasCrCard        10000 non-null  int64  \n",
      " 8   IsActiveMember   10000 non-null  int64  \n",
      " 9   EstimatedSalary  10000 non-null  float64\n",
      " 10  Exited           10000 non-null  int64  \n",
      "dtypes: float64(3), int64(6), object(2)\n",
      "memory usage: 859.5+ KB\n"
     ]
    }
   ],
   "source": [
    "data.info()"
   ]
  },
  {
   "cell_type": "code",
   "execution_count": 49,
   "metadata": {},
   "outputs": [],
   "source": [
    "#Encode Categorical Variables\n",
    "data = pd.get_dummies(data, columns=['Gender'] )\n",
    "data = pd.get_dummies(data, columns=['Geography'], drop_first=True)"
   ]
  },
  {
   "cell_type": "code",
   "execution_count": 50,
   "metadata": {},
   "outputs": [
    {
     "data": {
      "text/plain": [
       "Index(['CreditScore', 'Age', 'Tenure', 'Balance', 'NumOfProducts', 'HasCrCard',\n",
       "       'IsActiveMember', 'EstimatedSalary', 'Exited', 'Gender_Female',\n",
       "       'Gender_Male', 'Geography_Germany', 'Geography_Spain'],\n",
       "      dtype='object')"
      ]
     },
     "execution_count": 50,
     "metadata": {},
     "output_type": "execute_result"
    }
   ],
   "source": [
    "data.columns"
   ]
  },
  {
   "cell_type": "code",
   "execution_count": 51,
   "metadata": {},
   "outputs": [],
   "source": [
    "#Separate Features and Target\n",
    "featuer = data.drop('Exited', axis=1)\n",
    "target = data['Exited']"
   ]
  },
  {
   "cell_type": "code",
   "execution_count": 52,
   "metadata": {},
   "outputs": [],
   "source": [
    "#Train-Left Split (60% train, 40% Lfet)\n",
    "featuer_train, featuer_left, target_train, target_left = train_test_split(\n",
    "    featuer, target, test_size= 0.40, random_state=12345)\n",
    "#Valid-test Split (20% valid, 20 test)\n",
    "featuer_valid,featuer_test,target_valid, target_test = train_test_split(\n",
    "    featuer_left, target_left, test_size= 0.50, random_state=12345)"
   ]
  },
  {
   "cell_type": "code",
   "execution_count": 53,
   "metadata": {},
   "outputs": [],
   "source": [
    "#Feature Scaling\n",
    "scaler = StandardScaler()\n",
    "featuer_train_scaled = scaler.fit_transform(featuer_train)\n",
    "featuer_valid_scaled = scaler.transform(featuer_valid)\n",
    "featuer_test_scaled = scaler.transform(featuer_test)"
   ]
  },
  {
   "cell_type": "code",
   "execution_count": 54,
   "metadata": {},
   "outputs": [
    {
     "data": {
      "image/png": "[encoded data removed]",
      "text/plain": [
       "<Figure size 640x480 with 1 Axes>"
      ]
     },
     "metadata": {},
     "output_type": "display_data"
    },
    {
     "name": "stdout",
     "output_type": "stream",
     "text": [
      "0    0.7963\n",
      "1    0.2037\n",
      "Name: Exited, dtype: float64\n"
     ]
    }
   ],
   "source": [
    "#Check Class Balance \n",
    "sns.countplot(x=target)\n",
    "plt.title(\"Class Distribution (Exited)\")\n",
    "plt.show()\n",
    "print(target.value_counts(normalize=True))"
   ]
  },
  {
   "cell_type": "markdown",
   "metadata": {},
   "source": [
    "**The target variable Exited is imbalanced: approximately %79.6 of customers stayed and %20.3 exited. This confirms the need to handle class imbalance later. First, we’ll train baseline models without applying any class balancing techniques.**"
   ]
  },
  {
   "cell_type": "code",
   "execution_count": 55,
   "metadata": {},
   "outputs": [
    {
     "name": "stdout",
     "output_type": "stream",
     "text": [
      "Logistic Regression — F1 Score: 0.331 | AUC-ROC: 0.759\n",
      "Decision Tree — F1 Score: 0.496 | AUC-ROC: 0.681\n",
      "Random Forest — F1 Score: 0.555 | AUC-ROC: 0.838\n"
     ]
    }
   ],
   "source": [
    "#Train Baseline Models (No Balancing techniques)\n",
    "models = {\n",
    "    'Logistic Regression': LogisticRegression(random_state=12345),\n",
    "    'Decision Tree': DecisionTreeClassifier(random_state=12345),\n",
    "    'Random Forest': RandomForestClassifier(random_state=12345)\n",
    "}\n",
    "\n",
    "for name, model in models.items():\n",
    "    model.fit(featuer_train_scaled, target_train)\n",
    "    pred = model.predict(featuer_valid_scaled)\n",
    "    f1 = f1_score(target_valid, pred)\n",
    "    pred_prob = model.predict_proba(featuer_valid_scaled)\n",
    "    roc_auc = roc_auc_score(target_valid, pred_prob [:, 1])\n",
    "    print(f\"{name} — F1 Score: {f1:.3f} | AUC-ROC: {roc_auc:.3f}\")\n"
   ]
  },
  {
   "cell_type": "markdown",
   "metadata": {},
   "source": [
    "**after applying any class imbalance fixes, Random Forest performed the best with an F1 score of approximately 0.55 and an AUC-ROC of 0.84. However, since our F1 score is still close to  0.59, we will apply imbalance handling techniques to improve performance.**"
   ]
  },
  {
   "cell_type": "code",
   "execution_count": 56,
   "metadata": {},
   "outputs": [
    {
     "name": "stdout",
     "output_type": "stream",
     "text": [
      "Results with class_weight='balanced':\n",
      "\n",
      "Logistic Regression — F1 Score: 0.489 | AUC-ROC: 0.764\n",
      "Decision Tree — F1 Score: 0.489 | AUC-ROC: 0.676\n",
      "Random Forest — F1 Score: 0.564 | AUC-ROC: 0.836\n"
     ]
    }
   ],
   "source": [
    "##Train Baseline Models (with Class Imbalance Techniques)\n",
    "#we will use first the Class Weight = 'balanced'\n",
    "balanced_models = {\n",
    "    'Logistic Regression': LogisticRegression(random_state=12345, class_weight = 'balanced'),\n",
    "    'Decision Tree': DecisionTreeClassifier(random_state=12345, class_weight = 'balanced'),\n",
    "    'Random Forest': RandomForestClassifier(random_state=12345, class_weight = 'balanced')\n",
    "}\n",
    "print(\"Results with class_weight='balanced':\\n\")\n",
    "for name, model in balanced_models.items():\n",
    "    model.fit(featuer_train_scaled, target_train)\n",
    "    pred = model.predict(featuer_valid_scaled)\n",
    "    f1 = f1_score(target_valid, pred)\n",
    "    pred_prob = model.predict_proba(featuer_valid_scaled)\n",
    "    roc_auc = roc_auc_score(target_valid, pred_prob [:, 1])\n",
    "    print(f\"{name} — F1 Score: {f1:.3f} | AUC-ROC: {roc_auc:.3f}\")\n"
   ]
  },
  {
   "cell_type": "markdown",
   "metadata": {},
   "source": [
    "**We retrained the models using `class_weight='balanced'` to counter the class imbalance in the training set.**\n",
    "\n",
    "**The Random Forest model showed the best performance among the three, with an F1 score approaching the required threshold (0.59). The AUC-ROC score of 0.836 indicates that the model distinguishes between classes quite well. However, further improvement is still needed.**"
   ]
  },
  {
   "cell_type": "code",
   "execution_count": 57,
   "metadata": {},
   "outputs": [],
   "source": [
    "# Combine features and target\n",
    "train_data = pd.concat([featuer_train, target_train], axis=1)\n",
    "\n",
    "# Split into majority and minority classes\n",
    "majority_class = train_data[train_data['Exited'] == 0]\n",
    "minority_class = train_data[train_data['Exited'] == 1]\n",
    "\n",
    "# Upsample minority class\n",
    "minority_upsampled = minority_class.sample(n=len(majority_class), replace=True, random_state=12345)\n",
    "\n",
    "# Combine and shuffle\n",
    "upsampled_data = pd.concat([majority_class, minority_upsampled]).sample(frac=1, random_state=12345).reset_index(drop=True)\n",
    "\n",
    "# Separate features and target\n",
    "featuer_train_up = upsampled_data.drop('Exited', axis=1)\n",
    "target_train_up = upsampled_data['Exited']\n",
    "\n",
    "# Scale\n",
    "scaler = StandardScaler()\n",
    "featuer_train_up_scaled = scaler.fit_transform(featuer_train_up)"
   ]
  },
  {
   "cell_type": "code",
   "execution_count": 58,
   "metadata": {},
   "outputs": [
    {
     "name": "stdout",
     "output_type": "stream",
     "text": [
      "Logistic Regression: — F1 Score: 0.478 | AUC-ROC: 0.765\n",
      "Decision Tree: — F1 Score: 0.466 | AUC-ROC: 0.665\n",
      "Random Forest: — F1 Score: 0.588 | AUC-ROC: 0.834\n"
     ]
    }
   ],
   "source": [
    "# Logistic Regression\n",
    "lr_model = LogisticRegression(random_state=12345)\n",
    "lr_model.fit(featuer_train_up_scaled, target_train_up)\n",
    "lr_pred = lr_model.predict(featuer_valid_scaled)\n",
    "lr_pred_prob = lr_model.predict_proba(featuer_valid_scaled)\n",
    "print(f\"Logistic Regression: — F1 Score: {f1_score(target_valid, lr_pred):.3f} | AUC-ROC: {roc_auc_score(target_valid,lr_pred_prob [:, 1]):.3f}\")\n",
    "# Decision Tree\n",
    "dt_model = DecisionTreeClassifier(random_state=12345)\n",
    "dt_model.fit(featuer_train_up_scaled, target_train_up)\n",
    "dt_pred = dt_model.predict(featuer_valid_scaled)\n",
    "dt_pred_prob = dt_model.predict_proba(featuer_valid_scaled)\n",
    "print(f\"Decision Tree: — F1 Score: {f1_score(target_valid, dt_pred):.3f} | AUC-ROC: {roc_auc_score(target_valid,dt_pred_prob [:, 1]):.3f}\")\n",
    "# Random Forest\n",
    "rf_model = RandomForestClassifier(random_state=12345)\n",
    "rf_model.fit(featuer_train_up_scaled, target_train_up)\n",
    "rf_pred = rf_model.predict(featuer_valid_scaled)\n",
    "rf_pred_prob = rf_model.predict_proba(featuer_valid_scaled)\n",
    "print(f\"Random Forest: — F1 Score: {f1_score(target_valid, rf_pred):.3f} | AUC-ROC: {roc_auc_score(target_valid,rf_pred_prob [:, 1]):.3f}\")\n"
   ]
  },
  {
   "cell_type": "markdown",
   "metadata": {},
   "source": [
    "**We addressed class imbalance using upsampling  by duplicating samples from the minority class to match the size of the majority class. After retraining the models We observed a performance boost from the upsampling technique, particularly with the Random Forest model, which continues to be the top performer. We will now proceed with hyperparameter tuning and final model selection.**\n",
    "\n",
    "**The Random Forest model is just 0.002 away from the required F1 score of 0.59 — very promising!\n",
    "we do not need to try downsampling, since:\n",
    "Upsampling improved performance\n",
    "it's close to the goal\n",
    "Downsampling could hurt model quality by losing data**"
   ]
  },
  {
   "cell_type": "code",
   "execution_count": 59,
   "metadata": {},
   "outputs": [
    {
     "name": "stdout",
     "output_type": "stream",
     "text": [
      "Model 1: F1 = 0.588 | AUC-ROC = 0.834 | Params = {'n_estimators': 100, 'max_depth': None, 'class_weight': 'balanced'}\n",
      "Model 2: F1 = 0.618 | AUC-ROC = 0.850 | Params = {'n_estimators': 200, 'max_depth': 10, 'min_samples_leaf': 2, 'class_weight': 'balanced'}\n",
      "Model 3: F1 = 0.607 | AUC-ROC = 0.838 | Params = {'n_estimators': 150, 'max_depth': 15, 'min_samples_split': 5, 'min_samples_leaf': 1, 'class_weight': 'balanced'}\n"
     ]
    }
   ],
   "source": [
    "# Define 3 promising configurations\n",
    "param_sets = [\n",
    "    {\"n_estimators\": 100, \"max_depth\": None, \"class_weight\": \"balanced\"},\n",
    "    {\"n_estimators\": 200, \"max_depth\": 10, \"min_samples_leaf\": 2, \"class_weight\": \"balanced\"},\n",
    "    {\"n_estimators\": 150, \"max_depth\": 15, \"min_samples_split\": 5, \"min_samples_leaf\": 1, \"class_weight\": \"balanced\"}\n",
    "]\n",
    "\n",
    "# Loop through and evaluate\n",
    "for i, params in enumerate(param_sets, 1):\n",
    "    model = RandomForestClassifier(**params, random_state=12345)\n",
    "    model.fit(featuer_train_up_scaled, target_train_up)\n",
    "    pred = model.predict(featuer_valid_scaled)\n",
    "    preb_proba = model.predict_proba(featuer_valid_scaled)[:, 1]\n",
    "\n",
    "    f1 = f1_score(target_valid, pred)\n",
    "    auc = roc_auc_score(target_valid, preb_proba)\n",
    "\n",
    "    print(f\"Model {i}: F1 = {f1:.3f} | AUC-ROC = {auc:.3f} | Params = {params}\")"
   ]
  },
  {
   "cell_type": "markdown",
   "metadata": {},
   "source": [
    "\n",
    "We manually tuned the Random Forest model by testing three strong configurations. This gave us flexibility and quick feedback \n",
    "The results shows **Model 2** is the best selection\n",
    "**Model 2: F1 = 0.618 | AUC-ROC = 0.850 |**\n",
    "**Params = {'n_estimators': 200, 'max_depth': 10, 'min_samples_leaf': 2, 'class_weight': 'balanced'}**\n",
    "\n",
    "**Model 2** was selected as the best — it achieved the highest F1 score and AUC-ROC."
   ]
  },
  {
   "cell_type": "code",
   "execution_count": 60,
   "metadata": {},
   "outputs": [
    {
     "name": "stdout",
     "output_type": "stream",
     "text": [
      "Final Test F1 Score: 0.606\n",
      "Final Test AUC-ROC: 0.853\n"
     ]
    }
   ],
   "source": [
    "#Combine training + validation\n",
    "featuer_final_train = pd.concat([featuer_train_up, featuer_valid])\n",
    "target_final_train = pd.concat([target_train_up, target_valid])\n",
    "\n",
    "#Scale features\n",
    "scaler = StandardScaler()\n",
    "featuer_final_train_scaled = scaler.fit_transform(featuer_final_train)\n",
    "featuer_test_scaled = scaler.transform(featuer_test)\n",
    "\n",
    "#Train the final model with best params from Step 4\n",
    "final_model = RandomForestClassifier(\n",
    "    n_estimators=200,\n",
    "    max_depth=10,\n",
    "    min_samples_leaf=2,\n",
    "    class_weight='balanced',\n",
    "    random_state=12345\n",
    ")\n",
    "final_model.fit(featuer_final_train_scaled, target_final_train)\n",
    "\n",
    "#Predict on test set\n",
    "test_pred = final_model.predict(featuer_test_scaled)\n",
    "test_proba = final_model.predict_proba(featuer_test_scaled)[:, 1]\n",
    "\n",
    "#Metrics\n",
    "f1_test = f1_score(target_test, test_pred)\n",
    "roc_auc_test = roc_auc_score(target_test, test_proba)\n",
    "\n",
    "print(f\"Final Test F1 Score: {f1_test:.3f}\")\n",
    "print(f\"Final Test AUC-ROC: {roc_auc_test:.3f}\")"
   ]
  },
  {
   "cell_type": "markdown",
   "metadata": {},
   "source": [
    "**We retrained the best-performing Random Forest model using the combined training and validation sets and evaluated it on the test set.\n",
    "The F1 score exceeds the minimum requirement of 0.59, and the AUC-ROC indicates excellent class separability.**"
   ]
  },
  {
   "cell_type": "markdown",
   "metadata": {},
   "source": [
    "### Overall Conclusion :"
   ]
  },
  {
   "cell_type": "markdown",
   "metadata": {},
   "source": [
    "In this project, we built a machine learning model to predict customer churn for Beta Bank. Our goal was to achieve an F1 score of at least 0.59, allowing the bank to better retain customers and reduce churn-related losses.\n",
    "\n",
    "- **Data Preprocessing**: We loaded and cleaned the data, processed categorical variables using one-hot encoding, and scaled numerical features for optimal model performance.\n",
    "- **Class Imbalance Handling**: We identified an imbalance in the target classes and applied two effective techniques to address it:\n",
    "  - `class_weight='balanced'` in model parameters\n",
    "  - Upsampling the minority class (churned customers)\n",
    "- **Model Training and Selection**: We trained multiple models (Logistic Regression, Decision Tree, Random Forest). The Random Forest model with tuned hyperparameters provided the best results.\n",
    "- **Final Model Evaluation**: The selected model achieved:\n",
    "  - **F1 Score**: `0.606`\n",
    "  - **AUC-ROC**: `0.853`\n",
    "\n",
    "**Conclusion:**\n",
    "\n",
    "The final model exceeded the project's performance requirement with strong F1 and AUC-ROC scores, indicating that it effectively distinguishes between customers who are likely to leave and those who will stay. This model can now be used by Beta Bank to proactively identify high-risk customers and take preventive measures to retain them."
   ]
  }
 ],
 "metadata": {
  "kernelspec": {
   "display_name": "Python 3 (ipykernel)",
   "language": "python",
   "name": "python3"
  },
  "language_info": {
   "codemirror_mode": {
    "name": "ipython",
    "version": 3
   },
   "file_extension": ".py",
   "mimetype": "text/x-python",
   "name": "python",
   "nbconvert_exporter": "python",
   "pygments_lexer": "ipython3",
   "version": "3.9.22"
  }
 },
 "nbformat": 4,
 "nbformat_minor": 4
}
