{
 "cells": [
  {
   "cell_type": "markdown",
   "metadata": {},
   "source": [
    "# Which one is a better plan?\n",
    "\n",
    "You work as an analyst for the telecom operator Megaline. The company offers its clients two prepaid plans, Surf and Ultimate. The commercial department wants to know which of the plans brings in more revenue in order to adjust the advertising budget.\n",
    "\n",
    "You are going to carry out a preliminary analysis of the plans based on a relatively small client selection. You'll have the data on 500 Megaline clients: who the clients are, where they're from, which plan they use, and the number of calls they made and text messages they sent in 2018. Your job is to analyze the clients' behavior and determine which prepaid plan brings in more revenue."
   ]
  },
  {
   "cell_type": "markdown",
   "metadata": {},
   "source": [
    "## Initialization"
   ]
  },
  {
   "cell_type": "markdown",
   "metadata": {},
   "source": []
  },
  {
   "cell_type": "code",
   "execution_count": 1,
   "metadata": {
    "trusted": true
   },
   "outputs": [],
   "source": [
    "# Loading all the libraries\n",
    "import pandas as pd \n",
    "import numpy as np\n",
    "import matplotlib.pyplot as plt\n",
    "\n",
    "from scipy import stats as st\n",
    "import seaborn as sns"
   ]
  },
  {
   "cell_type": "markdown",
   "metadata": {},
   "source": [
    "## Load data"
   ]
  },
  {
   "cell_type": "markdown",
   "metadata": {},
   "source": []
  },
  {
   "cell_type": "code",
   "execution_count": 2,
   "metadata": {
    "trusted": true
   },
   "outputs": [],
   "source": [
    "# Load the data files into different DataFrames\n",
    "calls = pd.read_csv('/datasets/megaline_calls.csv')\n",
    "\n",
    "internet = pd.read_csv('/datasets/megaline_internet.csv')\n",
    "\n",
    "messages = pd.read_csv('/datasets/megaline_messages.csv')\n",
    "\n",
    "plans = pd.read_csv('/datasets/megaline_plans.csv')\n",
    "\n",
    "users = pd.read_csv('/datasets/megaline_users.csv')\n"
   ]
  },
  {
   "cell_type": "markdown",
   "metadata": {},
   "source": [
    "## Prepare the data"
   ]
  },
  {
   "cell_type": "markdown",
   "metadata": {},
   "source": [
    "## Plans"
   ]
  },
  {
   "cell_type": "code",
   "execution_count": 3,
   "metadata": {
    "trusted": true
   },
   "outputs": [
    {
     "data": {
      "text/html": [
       "<div>\n",
       "<style scoped>\n",
       "    .dataframe tbody tr th:only-of-type {\n",
       "        vertical-align: middle;\n",
       "    }\n",
       "\n",
       "    .dataframe tbody tr th {\n",
       "        vertical-align: top;\n",
       "    }\n",
       "\n",
       "    .dataframe thead th {\n",
       "        text-align: right;\n",
       "    }\n",
       "</style>\n",
       "<table border=\"1\" class=\"dataframe\">\n",
       "  <thead>\n",
       "    <tr style=\"text-align: right;\">\n",
       "      <th></th>\n",
       "      <th>messages_included</th>\n",
       "      <th>mb_per_month_included</th>\n",
       "      <th>minutes_included</th>\n",
       "      <th>usd_monthly_pay</th>\n",
       "      <th>usd_per_gb</th>\n",
       "      <th>usd_per_message</th>\n",
       "      <th>usd_per_minute</th>\n",
       "      <th>plan_name</th>\n",
       "    </tr>\n",
       "  </thead>\n",
       "  <tbody>\n",
       "    <tr>\n",
       "      <th>0</th>\n",
       "      <td>50</td>\n",
       "      <td>15360</td>\n",
       "      <td>500</td>\n",
       "      <td>20</td>\n",
       "      <td>10</td>\n",
       "      <td>0.03</td>\n",
       "      <td>0.03</td>\n",
       "      <td>surf</td>\n",
       "    </tr>\n",
       "    <tr>\n",
       "      <th>1</th>\n",
       "      <td>1000</td>\n",
       "      <td>30720</td>\n",
       "      <td>3000</td>\n",
       "      <td>70</td>\n",
       "      <td>7</td>\n",
       "      <td>0.01</td>\n",
       "      <td>0.01</td>\n",
       "      <td>ultimate</td>\n",
       "    </tr>\n",
       "  </tbody>\n",
       "</table>\n",
       "</div>"
      ],
      "text/plain": [
       "   messages_included  mb_per_month_included  minutes_included  \\\n",
       "0                 50                  15360               500   \n",
       "1               1000                  30720              3000   \n",
       "\n",
       "   usd_monthly_pay  usd_per_gb  usd_per_message  usd_per_minute plan_name  \n",
       "0               20          10             0.03            0.03      surf  \n",
       "1               70           7             0.01            0.01  ultimate  "
      ]
     },
     "execution_count": 3,
     "metadata": {},
     "output_type": "execute_result"
    }
   ],
   "source": [
    "# Print the general/summary information about the plans' DataFrame\n",
    "\n",
    "plans.head()\n",
    "#plans.describe()\n",
    "#print(plans)"
   ]
  },
  {
   "cell_type": "code",
   "execution_count": 4,
   "metadata": {
    "trusted": true
   },
   "outputs": [
    {
     "data": {
      "text/html": [
       "<div>\n",
       "<style scoped>\n",
       "    .dataframe tbody tr th:only-of-type {\n",
       "        vertical-align: middle;\n",
       "    }\n",
       "\n",
       "    .dataframe tbody tr th {\n",
       "        vertical-align: top;\n",
       "    }\n",
       "\n",
       "    .dataframe thead th {\n",
       "        text-align: right;\n",
       "    }\n",
       "</style>\n",
       "<table border=\"1\" class=\"dataframe\">\n",
       "  <thead>\n",
       "    <tr style=\"text-align: right;\">\n",
       "      <th></th>\n",
       "      <th>messages_included</th>\n",
       "      <th>mb_per_month_included</th>\n",
       "      <th>minutes_included</th>\n",
       "      <th>usd_monthly_pay</th>\n",
       "      <th>usd_per_gb</th>\n",
       "      <th>usd_per_message</th>\n",
       "      <th>usd_per_minute</th>\n",
       "      <th>plan_name</th>\n",
       "    </tr>\n",
       "  </thead>\n",
       "  <tbody>\n",
       "    <tr>\n",
       "      <th>0</th>\n",
       "      <td>50</td>\n",
       "      <td>15360</td>\n",
       "      <td>500</td>\n",
       "      <td>20</td>\n",
       "      <td>10</td>\n",
       "      <td>0.03</td>\n",
       "      <td>0.03</td>\n",
       "      <td>surf</td>\n",
       "    </tr>\n",
       "    <tr>\n",
       "      <th>1</th>\n",
       "      <td>1000</td>\n",
       "      <td>30720</td>\n",
       "      <td>3000</td>\n",
       "      <td>70</td>\n",
       "      <td>7</td>\n",
       "      <td>0.01</td>\n",
       "      <td>0.01</td>\n",
       "      <td>ultimate</td>\n",
       "    </tr>\n",
       "  </tbody>\n",
       "</table>\n",
       "</div>"
      ],
      "text/plain": [
       "   messages_included  mb_per_month_included  minutes_included  \\\n",
       "0                 50                  15360               500   \n",
       "1               1000                  30720              3000   \n",
       "\n",
       "   usd_monthly_pay  usd_per_gb  usd_per_message  usd_per_minute plan_name  \n",
       "0               20          10             0.03            0.03      surf  \n",
       "1               70           7             0.01            0.01  ultimate  "
      ]
     },
     "execution_count": 4,
     "metadata": {},
     "output_type": "execute_result"
    }
   ],
   "source": [
    "# Print a sample of data for plans\n",
    "\n",
    "plans.head()\n"
   ]
  },
  {
   "cell_type": "markdown",
   "metadata": {},
   "source": [
    " "
   ]
  },
  {
   "cell_type": "markdown",
   "metadata": {},
   "source": [
    "## Fix data"
   ]
  },
  {
   "cell_type": "code",
   "execution_count": 5,
   "metadata": {
    "trusted": true
   },
   "outputs": [],
   "source": [
    "plans['mb_per_month_included'] = plans['mb_per_month_included']/1024"
   ]
  },
  {
   "cell_type": "markdown",
   "metadata": {},
   "source": [
    "## Enrich data"
   ]
  },
  {
   "cell_type": "code",
   "execution_count": 6,
   "metadata": {
    "trusted": true
   },
   "outputs": [
    {
     "data": {
      "text/html": [
       "<div>\n",
       "<style scoped>\n",
       "    .dataframe tbody tr th:only-of-type {\n",
       "        vertical-align: middle;\n",
       "    }\n",
       "\n",
       "    .dataframe tbody tr th {\n",
       "        vertical-align: top;\n",
       "    }\n",
       "\n",
       "    .dataframe thead th {\n",
       "        text-align: right;\n",
       "    }\n",
       "</style>\n",
       "<table border=\"1\" class=\"dataframe\">\n",
       "  <thead>\n",
       "    <tr style=\"text-align: right;\">\n",
       "      <th></th>\n",
       "      <th>messages_included</th>\n",
       "      <th>mb_per_month_included</th>\n",
       "      <th>minutes_included</th>\n",
       "      <th>usd_monthly_pay</th>\n",
       "      <th>usd_per_gb</th>\n",
       "      <th>usd_per_message</th>\n",
       "      <th>usd_per_minute</th>\n",
       "      <th>plan_name</th>\n",
       "    </tr>\n",
       "  </thead>\n",
       "  <tbody>\n",
       "    <tr>\n",
       "      <th>0</th>\n",
       "      <td>50</td>\n",
       "      <td>15.0</td>\n",
       "      <td>500</td>\n",
       "      <td>20</td>\n",
       "      <td>10</td>\n",
       "      <td>0.03</td>\n",
       "      <td>0.03</td>\n",
       "      <td>surf</td>\n",
       "    </tr>\n",
       "    <tr>\n",
       "      <th>1</th>\n",
       "      <td>1000</td>\n",
       "      <td>30.0</td>\n",
       "      <td>3000</td>\n",
       "      <td>70</td>\n",
       "      <td>7</td>\n",
       "      <td>0.01</td>\n",
       "      <td>0.01</td>\n",
       "      <td>ultimate</td>\n",
       "    </tr>\n",
       "  </tbody>\n",
       "</table>\n",
       "</div>"
      ],
      "text/plain": [
       "   messages_included  mb_per_month_included  minutes_included  \\\n",
       "0                 50                   15.0               500   \n",
       "1               1000                   30.0              3000   \n",
       "\n",
       "   usd_monthly_pay  usd_per_gb  usd_per_message  usd_per_minute plan_name  \n",
       "0               20          10             0.03            0.03      surf  \n",
       "1               70           7             0.01            0.01  ultimate  "
      ]
     },
     "execution_count": 6,
     "metadata": {},
     "output_type": "execute_result"
    }
   ],
   "source": [
    "plans.head()"
   ]
  },
  {
   "cell_type": "markdown",
   "metadata": {},
   "source": [
    "## Users"
   ]
  },
  {
   "cell_type": "code",
   "execution_count": 7,
   "metadata": {
    "trusted": true
   },
   "outputs": [
    {
     "name": "stdout",
     "output_type": "stream",
     "text": [
      "<class 'pandas.core.frame.DataFrame'>\n",
      "RangeIndex: 500 entries, 0 to 499\n",
      "Data columns (total 8 columns):\n",
      " #   Column      Non-Null Count  Dtype \n",
      "---  ------      --------------  ----- \n",
      " 0   user_id     500 non-null    int64 \n",
      " 1   first_name  500 non-null    object\n",
      " 2   last_name   500 non-null    object\n",
      " 3   age         500 non-null    int64 \n",
      " 4   city        500 non-null    object\n",
      " 5   reg_date    500 non-null    object\n",
      " 6   plan        500 non-null    object\n",
      " 7   churn_date  34 non-null     object\n",
      "dtypes: int64(2), object(6)\n",
      "memory usage: 31.4+ KB\n"
     ]
    }
   ],
   "source": [
    "# Print the general/summary information about the users' DataFrame\n",
    "users.info()"
   ]
  },
  {
   "cell_type": "code",
   "execution_count": 8,
   "metadata": {
    "trusted": true
   },
   "outputs": [
    {
     "data": {
      "text/html": [
       "<div>\n",
       "<style scoped>\n",
       "    .dataframe tbody tr th:only-of-type {\n",
       "        vertical-align: middle;\n",
       "    }\n",
       "\n",
       "    .dataframe tbody tr th {\n",
       "        vertical-align: top;\n",
       "    }\n",
       "\n",
       "    .dataframe thead th {\n",
       "        text-align: right;\n",
       "    }\n",
       "</style>\n",
       "<table border=\"1\" class=\"dataframe\">\n",
       "  <thead>\n",
       "    <tr style=\"text-align: right;\">\n",
       "      <th></th>\n",
       "      <th>user_id</th>\n",
       "      <th>first_name</th>\n",
       "      <th>last_name</th>\n",
       "      <th>age</th>\n",
       "      <th>city</th>\n",
       "      <th>reg_date</th>\n",
       "      <th>plan</th>\n",
       "      <th>churn_date</th>\n",
       "    </tr>\n",
       "  </thead>\n",
       "  <tbody>\n",
       "    <tr>\n",
       "      <th>412</th>\n",
       "      <td>1412</td>\n",
       "      <td>Cortez</td>\n",
       "      <td>Reese</td>\n",
       "      <td>61</td>\n",
       "      <td>Detroit-Warren-Dearborn, MI MSA</td>\n",
       "      <td>2018-04-08</td>\n",
       "      <td>ultimate</td>\n",
       "      <td>NaN</td>\n",
       "    </tr>\n",
       "    <tr>\n",
       "      <th>375</th>\n",
       "      <td>1375</td>\n",
       "      <td>Andy</td>\n",
       "      <td>Holden</td>\n",
       "      <td>69</td>\n",
       "      <td>Philadelphia-Camden-Wilmington, PA-NJ-DE-MD MSA</td>\n",
       "      <td>2018-12-01</td>\n",
       "      <td>surf</td>\n",
       "      <td>NaN</td>\n",
       "    </tr>\n",
       "    <tr>\n",
       "      <th>306</th>\n",
       "      <td>1306</td>\n",
       "      <td>Darron</td>\n",
       "      <td>Craig</td>\n",
       "      <td>19</td>\n",
       "      <td>Washington-Arlington-Alexandria, DC-VA-MD-WV MSA</td>\n",
       "      <td>2018-11-26</td>\n",
       "      <td>surf</td>\n",
       "      <td>NaN</td>\n",
       "    </tr>\n",
       "    <tr>\n",
       "      <th>333</th>\n",
       "      <td>1333</td>\n",
       "      <td>Macy</td>\n",
       "      <td>David</td>\n",
       "      <td>57</td>\n",
       "      <td>Los Angeles-Long Beach-Anaheim, CA MSA</td>\n",
       "      <td>2018-11-24</td>\n",
       "      <td>ultimate</td>\n",
       "      <td>NaN</td>\n",
       "    </tr>\n",
       "    <tr>\n",
       "      <th>474</th>\n",
       "      <td>1474</td>\n",
       "      <td>Randee</td>\n",
       "      <td>Carpenter</td>\n",
       "      <td>26</td>\n",
       "      <td>Bakersfield, CA MSA</td>\n",
       "      <td>2018-08-26</td>\n",
       "      <td>surf</td>\n",
       "      <td>NaN</td>\n",
       "    </tr>\n",
       "    <tr>\n",
       "      <th>66</th>\n",
       "      <td>1066</td>\n",
       "      <td>Ariel</td>\n",
       "      <td>Woods</td>\n",
       "      <td>61</td>\n",
       "      <td>Boston-Cambridge-Newton, MA-NH MSA</td>\n",
       "      <td>2018-03-08</td>\n",
       "      <td>surf</td>\n",
       "      <td>NaN</td>\n",
       "    </tr>\n",
       "    <tr>\n",
       "      <th>192</th>\n",
       "      <td>1192</td>\n",
       "      <td>Korey</td>\n",
       "      <td>Goodwin</td>\n",
       "      <td>36</td>\n",
       "      <td>Buffalo-Cheektowaga, NY MSA</td>\n",
       "      <td>2018-10-02</td>\n",
       "      <td>surf</td>\n",
       "      <td>NaN</td>\n",
       "    </tr>\n",
       "    <tr>\n",
       "      <th>284</th>\n",
       "      <td>1284</td>\n",
       "      <td>Yuri</td>\n",
       "      <td>Odom</td>\n",
       "      <td>51</td>\n",
       "      <td>Dayton-Kettering, OH MSA</td>\n",
       "      <td>2018-09-07</td>\n",
       "      <td>surf</td>\n",
       "      <td>NaN</td>\n",
       "    </tr>\n",
       "    <tr>\n",
       "      <th>330</th>\n",
       "      <td>1330</td>\n",
       "      <td>Tobi</td>\n",
       "      <td>Kinney</td>\n",
       "      <td>48</td>\n",
       "      <td>Las Vegas-Henderson-Paradise, NV MSA</td>\n",
       "      <td>2018-11-06</td>\n",
       "      <td>ultimate</td>\n",
       "      <td>NaN</td>\n",
       "    </tr>\n",
       "    <tr>\n",
       "      <th>182</th>\n",
       "      <td>1182</td>\n",
       "      <td>Jeff</td>\n",
       "      <td>Burt</td>\n",
       "      <td>39</td>\n",
       "      <td>Charlotte-Concord-Gastonia, NC-SC MSA</td>\n",
       "      <td>2018-05-29</td>\n",
       "      <td>surf</td>\n",
       "      <td>NaN</td>\n",
       "    </tr>\n",
       "    <tr>\n",
       "      <th>278</th>\n",
       "      <td>1278</td>\n",
       "      <td>Masako</td>\n",
       "      <td>Montgomery</td>\n",
       "      <td>39</td>\n",
       "      <td>Dayton-Kettering, OH MSA</td>\n",
       "      <td>2018-11-03</td>\n",
       "      <td>surf</td>\n",
       "      <td>NaN</td>\n",
       "    </tr>\n",
       "    <tr>\n",
       "      <th>7</th>\n",
       "      <td>1007</td>\n",
       "      <td>Eusebio</td>\n",
       "      <td>Welch</td>\n",
       "      <td>42</td>\n",
       "      <td>Grand Rapids-Kentwood, MI MSA</td>\n",
       "      <td>2018-07-11</td>\n",
       "      <td>surf</td>\n",
       "      <td>NaN</td>\n",
       "    </tr>\n",
       "    <tr>\n",
       "      <th>121</th>\n",
       "      <td>1121</td>\n",
       "      <td>Kathaleen</td>\n",
       "      <td>Albert</td>\n",
       "      <td>34</td>\n",
       "      <td>Miami-Fort Lauderdale-West Palm Beach, FL MSA</td>\n",
       "      <td>2018-03-13</td>\n",
       "      <td>surf</td>\n",
       "      <td>NaN</td>\n",
       "    </tr>\n",
       "    <tr>\n",
       "      <th>137</th>\n",
       "      <td>1137</td>\n",
       "      <td>Allegra</td>\n",
       "      <td>Hopkins</td>\n",
       "      <td>20</td>\n",
       "      <td>Chicago-Naperville-Elgin, IL-IN-WI MSA</td>\n",
       "      <td>2018-10-02</td>\n",
       "      <td>surf</td>\n",
       "      <td>NaN</td>\n",
       "    </tr>\n",
       "    <tr>\n",
       "      <th>424</th>\n",
       "      <td>1424</td>\n",
       "      <td>Kasandra</td>\n",
       "      <td>Keith</td>\n",
       "      <td>51</td>\n",
       "      <td>Virginia Beach-Norfolk-Newport News, VA-NC MSA</td>\n",
       "      <td>2018-07-24</td>\n",
       "      <td>ultimate</td>\n",
       "      <td>NaN</td>\n",
       "    </tr>\n",
       "  </tbody>\n",
       "</table>\n",
       "</div>"
      ],
      "text/plain": [
       "     user_id first_name   last_name  age  \\\n",
       "412     1412     Cortez       Reese   61   \n",
       "375     1375       Andy      Holden   69   \n",
       "306     1306     Darron       Craig   19   \n",
       "333     1333       Macy       David   57   \n",
       "474     1474     Randee   Carpenter   26   \n",
       "66      1066      Ariel       Woods   61   \n",
       "192     1192      Korey     Goodwin   36   \n",
       "284     1284       Yuri        Odom   51   \n",
       "330     1330       Tobi      Kinney   48   \n",
       "182     1182       Jeff        Burt   39   \n",
       "278     1278     Masako  Montgomery   39   \n",
       "7       1007    Eusebio       Welch   42   \n",
       "121     1121  Kathaleen      Albert   34   \n",
       "137     1137    Allegra     Hopkins   20   \n",
       "424     1424   Kasandra       Keith   51   \n",
       "\n",
       "                                                 city    reg_date      plan  \\\n",
       "412                   Detroit-Warren-Dearborn, MI MSA  2018-04-08  ultimate   \n",
       "375   Philadelphia-Camden-Wilmington, PA-NJ-DE-MD MSA  2018-12-01      surf   \n",
       "306  Washington-Arlington-Alexandria, DC-VA-MD-WV MSA  2018-11-26      surf   \n",
       "333            Los Angeles-Long Beach-Anaheim, CA MSA  2018-11-24  ultimate   \n",
       "474                               Bakersfield, CA MSA  2018-08-26      surf   \n",
       "66                 Boston-Cambridge-Newton, MA-NH MSA  2018-03-08      surf   \n",
       "192                       Buffalo-Cheektowaga, NY MSA  2018-10-02      surf   \n",
       "284                          Dayton-Kettering, OH MSA  2018-09-07      surf   \n",
       "330              Las Vegas-Henderson-Paradise, NV MSA  2018-11-06  ultimate   \n",
       "182             Charlotte-Concord-Gastonia, NC-SC MSA  2018-05-29      surf   \n",
       "278                          Dayton-Kettering, OH MSA  2018-11-03      surf   \n",
       "7                       Grand Rapids-Kentwood, MI MSA  2018-07-11      surf   \n",
       "121     Miami-Fort Lauderdale-West Palm Beach, FL MSA  2018-03-13      surf   \n",
       "137            Chicago-Naperville-Elgin, IL-IN-WI MSA  2018-10-02      surf   \n",
       "424    Virginia Beach-Norfolk-Newport News, VA-NC MSA  2018-07-24  ultimate   \n",
       "\n",
       "    churn_date  \n",
       "412        NaN  \n",
       "375        NaN  \n",
       "306        NaN  \n",
       "333        NaN  \n",
       "474        NaN  \n",
       "66         NaN  \n",
       "192        NaN  \n",
       "284        NaN  \n",
       "330        NaN  \n",
       "182        NaN  \n",
       "278        NaN  \n",
       "7          NaN  \n",
       "121        NaN  \n",
       "137        NaN  \n",
       "424        NaN  "
      ]
     },
     "execution_count": 8,
     "metadata": {},
     "output_type": "execute_result"
    }
   ],
   "source": [
    "# Print a sample of data for users\n",
    "users.sample(15)\n"
   ]
  },
  {
   "cell_type": "markdown",
   "metadata": {},
   "source": [
    "**the users data shown the churn_data column has only 34 entry and the rest is missing values so its better to take it off becuase the data in there not usefull. and also it shows there is upper case we need to turn the data to lower case and also replace the msa with usa in the data fram**"
   ]
  },
  {
   "cell_type": "markdown",
   "metadata": {},
   "source": [
    "### Fix Data"
   ]
  },
  {
   "cell_type": "markdown",
   "metadata": {},
   "source": [
    "[Fix obvious issues with the data given the initial observations.]"
   ]
  },
  {
   "cell_type": "code",
   "execution_count": 9,
   "metadata": {
    "trusted": true
   },
   "outputs": [
    {
     "name": "stdout",
     "output_type": "stream",
     "text": [
      "<class 'pandas.core.frame.DataFrame'>\n",
      "RangeIndex: 500 entries, 0 to 499\n",
      "Data columns (total 7 columns):\n",
      " #   Column      Non-Null Count  Dtype         \n",
      "---  ------      --------------  -----         \n",
      " 0   user_id     500 non-null    int64         \n",
      " 1   first_name  500 non-null    object        \n",
      " 2   last_name   500 non-null    object        \n",
      " 3   age         500 non-null    int64         \n",
      " 4   city        500 non-null    object        \n",
      " 5   reg_date    500 non-null    datetime64[ns]\n",
      " 6   plan        500 non-null    object        \n",
      "dtypes: datetime64[ns](1), int64(2), object(4)\n",
      "memory usage: 27.5+ KB\n"
     ]
    }
   ],
   "source": [
    "users.fillna('unknown', inplace= True)\n",
    "users = users.apply(lambda x: x.str.lower() if x.dtype == \"object\" else x)\n",
    "users = users.drop('churn_date', axis=1)\n",
    "users = users.replace(r'\\s?msa$', ' usa', regex=True)\n",
    "users['reg_date'] = pd.to_datetime(users['reg_date'])\n",
    "users.info()"
   ]
  },
  {
   "cell_type": "markdown",
   "metadata": {},
   "source": [
    "### Enrich Data"
   ]
  },
  {
   "cell_type": "code",
   "execution_count": 10,
   "metadata": {
    "trusted": true
   },
   "outputs": [
    {
     "data": {
      "text/html": [
       "<div>\n",
       "<style scoped>\n",
       "    .dataframe tbody tr th:only-of-type {\n",
       "        vertical-align: middle;\n",
       "    }\n",
       "\n",
       "    .dataframe tbody tr th {\n",
       "        vertical-align: top;\n",
       "    }\n",
       "\n",
       "    .dataframe thead th {\n",
       "        text-align: right;\n",
       "    }\n",
       "</style>\n",
       "<table border=\"1\" class=\"dataframe\">\n",
       "  <thead>\n",
       "    <tr style=\"text-align: right;\">\n",
       "      <th></th>\n",
       "      <th>user_id</th>\n",
       "      <th>first_name</th>\n",
       "      <th>last_name</th>\n",
       "      <th>age</th>\n",
       "      <th>city</th>\n",
       "      <th>reg_date</th>\n",
       "      <th>plan</th>\n",
       "    </tr>\n",
       "  </thead>\n",
       "  <tbody>\n",
       "    <tr>\n",
       "      <th>43</th>\n",
       "      <td>1043</td>\n",
       "      <td>carlos</td>\n",
       "      <td>hinton</td>\n",
       "      <td>42</td>\n",
       "      <td>new york-newark-jersey city, ny-nj-pa usa</td>\n",
       "      <td>2018-06-20</td>\n",
       "      <td>ultimate</td>\n",
       "    </tr>\n",
       "    <tr>\n",
       "      <th>368</th>\n",
       "      <td>1368</td>\n",
       "      <td>enola</td>\n",
       "      <td>ray</td>\n",
       "      <td>60</td>\n",
       "      <td>pittsburgh, pa usa</td>\n",
       "      <td>2018-05-20</td>\n",
       "      <td>ultimate</td>\n",
       "    </tr>\n",
       "    <tr>\n",
       "      <th>264</th>\n",
       "      <td>1264</td>\n",
       "      <td>jessie</td>\n",
       "      <td>hill</td>\n",
       "      <td>69</td>\n",
       "      <td>los angeles-long beach-anaheim, ca usa</td>\n",
       "      <td>2018-05-03</td>\n",
       "      <td>ultimate</td>\n",
       "    </tr>\n",
       "    <tr>\n",
       "      <th>393</th>\n",
       "      <td>1393</td>\n",
       "      <td>wilfredo</td>\n",
       "      <td>rosa</td>\n",
       "      <td>44</td>\n",
       "      <td>knoxville, tn usa</td>\n",
       "      <td>2018-10-29</td>\n",
       "      <td>surf</td>\n",
       "    </tr>\n",
       "    <tr>\n",
       "      <th>441</th>\n",
       "      <td>1441</td>\n",
       "      <td>piedad</td>\n",
       "      <td>myers</td>\n",
       "      <td>23</td>\n",
       "      <td>atlanta-sandy springs-roswell, ga usa</td>\n",
       "      <td>2018-03-08</td>\n",
       "      <td>ultimate</td>\n",
       "    </tr>\n",
       "    <tr>\n",
       "      <th>280</th>\n",
       "      <td>1280</td>\n",
       "      <td>jasper</td>\n",
       "      <td>berry</td>\n",
       "      <td>29</td>\n",
       "      <td>new york-newark-jersey city, ny-nj-pa usa</td>\n",
       "      <td>2018-06-23</td>\n",
       "      <td>surf</td>\n",
       "    </tr>\n",
       "    <tr>\n",
       "      <th>63</th>\n",
       "      <td>1063</td>\n",
       "      <td>larhonda</td>\n",
       "      <td>hartman</td>\n",
       "      <td>60</td>\n",
       "      <td>new york-newark-jersey city, ny-nj-pa usa</td>\n",
       "      <td>2018-11-05</td>\n",
       "      <td>ultimate</td>\n",
       "    </tr>\n",
       "    <tr>\n",
       "      <th>180</th>\n",
       "      <td>1180</td>\n",
       "      <td>wonda</td>\n",
       "      <td>hays</td>\n",
       "      <td>24</td>\n",
       "      <td>new york-newark-jersey city, ny-nj-pa usa</td>\n",
       "      <td>2018-12-01</td>\n",
       "      <td>surf</td>\n",
       "    </tr>\n",
       "    <tr>\n",
       "      <th>383</th>\n",
       "      <td>1383</td>\n",
       "      <td>margarito</td>\n",
       "      <td>mccoy</td>\n",
       "      <td>52</td>\n",
       "      <td>tampa-st. petersburg-clearwater, fl usa</td>\n",
       "      <td>2018-10-10</td>\n",
       "      <td>ultimate</td>\n",
       "    </tr>\n",
       "    <tr>\n",
       "      <th>482</th>\n",
       "      <td>1482</td>\n",
       "      <td>armand</td>\n",
       "      <td>glenn</td>\n",
       "      <td>70</td>\n",
       "      <td>new york-newark-jersey city, ny-nj-pa usa</td>\n",
       "      <td>2018-01-01</td>\n",
       "      <td>ultimate</td>\n",
       "    </tr>\n",
       "    <tr>\n",
       "      <th>190</th>\n",
       "      <td>1190</td>\n",
       "      <td>troy</td>\n",
       "      <td>hutchinson</td>\n",
       "      <td>56</td>\n",
       "      <td>virginia beach-norfolk-newport news, va-nc usa</td>\n",
       "      <td>2018-08-01</td>\n",
       "      <td>ultimate</td>\n",
       "    </tr>\n",
       "    <tr>\n",
       "      <th>449</th>\n",
       "      <td>1449</td>\n",
       "      <td>boyd</td>\n",
       "      <td>kelley</td>\n",
       "      <td>39</td>\n",
       "      <td>seattle-tacoma-bellevue, wa usa</td>\n",
       "      <td>2018-10-04</td>\n",
       "      <td>surf</td>\n",
       "    </tr>\n",
       "    <tr>\n",
       "      <th>208</th>\n",
       "      <td>1208</td>\n",
       "      <td>enrique</td>\n",
       "      <td>ramirez</td>\n",
       "      <td>44</td>\n",
       "      <td>san diego-chula vista-carlsbad, ca usa</td>\n",
       "      <td>2018-07-17</td>\n",
       "      <td>surf</td>\n",
       "    </tr>\n",
       "    <tr>\n",
       "      <th>199</th>\n",
       "      <td>1199</td>\n",
       "      <td>antonetta</td>\n",
       "      <td>finley</td>\n",
       "      <td>39</td>\n",
       "      <td>san antonio-new braunfels, tx usa</td>\n",
       "      <td>2018-08-01</td>\n",
       "      <td>ultimate</td>\n",
       "    </tr>\n",
       "    <tr>\n",
       "      <th>300</th>\n",
       "      <td>1300</td>\n",
       "      <td>rene</td>\n",
       "      <td>frost</td>\n",
       "      <td>23</td>\n",
       "      <td>new york-newark-jersey city, ny-nj-pa usa</td>\n",
       "      <td>2018-10-21</td>\n",
       "      <td>surf</td>\n",
       "    </tr>\n",
       "    <tr>\n",
       "      <th>329</th>\n",
       "      <td>1329</td>\n",
       "      <td>doyle</td>\n",
       "      <td>nunez</td>\n",
       "      <td>65</td>\n",
       "      <td>charleston-north charleston, sc usa</td>\n",
       "      <td>2018-08-25</td>\n",
       "      <td>ultimate</td>\n",
       "    </tr>\n",
       "    <tr>\n",
       "      <th>20</th>\n",
       "      <td>1020</td>\n",
       "      <td>rutha</td>\n",
       "      <td>bell</td>\n",
       "      <td>56</td>\n",
       "      <td>dallas-fort worth-arlington, tx usa</td>\n",
       "      <td>2018-11-08</td>\n",
       "      <td>surf</td>\n",
       "    </tr>\n",
       "    <tr>\n",
       "      <th>415</th>\n",
       "      <td>1415</td>\n",
       "      <td>rosette</td>\n",
       "      <td>mendez</td>\n",
       "      <td>56</td>\n",
       "      <td>boston-cambridge-newton, ma-nh usa</td>\n",
       "      <td>2018-02-27</td>\n",
       "      <td>surf</td>\n",
       "    </tr>\n",
       "    <tr>\n",
       "      <th>188</th>\n",
       "      <td>1188</td>\n",
       "      <td>ethelene</td>\n",
       "      <td>brock</td>\n",
       "      <td>31</td>\n",
       "      <td>richmond, va usa</td>\n",
       "      <td>2018-01-10</td>\n",
       "      <td>ultimate</td>\n",
       "    </tr>\n",
       "    <tr>\n",
       "      <th>477</th>\n",
       "      <td>1477</td>\n",
       "      <td>magaly</td>\n",
       "      <td>rivas</td>\n",
       "      <td>52</td>\n",
       "      <td>riverside-san bernardino-ontario, ca usa</td>\n",
       "      <td>2018-08-24</td>\n",
       "      <td>ultimate</td>\n",
       "    </tr>\n",
       "  </tbody>\n",
       "</table>\n",
       "</div>"
      ],
      "text/plain": [
       "     user_id first_name   last_name  age  \\\n",
       "43      1043     carlos      hinton   42   \n",
       "368     1368      enola         ray   60   \n",
       "264     1264     jessie        hill   69   \n",
       "393     1393   wilfredo        rosa   44   \n",
       "441     1441     piedad       myers   23   \n",
       "280     1280     jasper       berry   29   \n",
       "63      1063   larhonda     hartman   60   \n",
       "180     1180      wonda        hays   24   \n",
       "383     1383  margarito       mccoy   52   \n",
       "482     1482     armand       glenn   70   \n",
       "190     1190       troy  hutchinson   56   \n",
       "449     1449       boyd      kelley   39   \n",
       "208     1208    enrique     ramirez   44   \n",
       "199     1199  antonetta      finley   39   \n",
       "300     1300       rene       frost   23   \n",
       "329     1329      doyle       nunez   65   \n",
       "20      1020      rutha        bell   56   \n",
       "415     1415    rosette      mendez   56   \n",
       "188     1188   ethelene       brock   31   \n",
       "477     1477     magaly       rivas   52   \n",
       "\n",
       "                                               city   reg_date      plan  \n",
       "43        new york-newark-jersey city, ny-nj-pa usa 2018-06-20  ultimate  \n",
       "368                              pittsburgh, pa usa 2018-05-20  ultimate  \n",
       "264          los angeles-long beach-anaheim, ca usa 2018-05-03  ultimate  \n",
       "393                               knoxville, tn usa 2018-10-29      surf  \n",
       "441           atlanta-sandy springs-roswell, ga usa 2018-03-08  ultimate  \n",
       "280       new york-newark-jersey city, ny-nj-pa usa 2018-06-23      surf  \n",
       "63        new york-newark-jersey city, ny-nj-pa usa 2018-11-05  ultimate  \n",
       "180       new york-newark-jersey city, ny-nj-pa usa 2018-12-01      surf  \n",
       "383         tampa-st. petersburg-clearwater, fl usa 2018-10-10  ultimate  \n",
       "482       new york-newark-jersey city, ny-nj-pa usa 2018-01-01  ultimate  \n",
       "190  virginia beach-norfolk-newport news, va-nc usa 2018-08-01  ultimate  \n",
       "449                 seattle-tacoma-bellevue, wa usa 2018-10-04      surf  \n",
       "208          san diego-chula vista-carlsbad, ca usa 2018-07-17      surf  \n",
       "199               san antonio-new braunfels, tx usa 2018-08-01  ultimate  \n",
       "300       new york-newark-jersey city, ny-nj-pa usa 2018-10-21      surf  \n",
       "329             charleston-north charleston, sc usa 2018-08-25  ultimate  \n",
       "20              dallas-fort worth-arlington, tx usa 2018-11-08      surf  \n",
       "415              boston-cambridge-newton, ma-nh usa 2018-02-27      surf  \n",
       "188                                richmond, va usa 2018-01-10  ultimate  \n",
       "477        riverside-san bernardino-ontario, ca usa 2018-08-24  ultimate  "
      ]
     },
     "execution_count": 10,
     "metadata": {},
     "output_type": "execute_result"
    }
   ],
   "source": [
    "#users.sample(5)\n",
    "users.sample(20)\n"
   ]
  },
  {
   "cell_type": "markdown",
   "metadata": {},
   "source": [
    "## Calls"
   ]
  },
  {
   "cell_type": "code",
   "execution_count": 11,
   "metadata": {
    "trusted": true
   },
   "outputs": [
    {
     "name": "stdout",
     "output_type": "stream",
     "text": [
      "<class 'pandas.core.frame.DataFrame'>\n",
      "RangeIndex: 137735 entries, 0 to 137734\n",
      "Data columns (total 4 columns):\n",
      " #   Column     Non-Null Count   Dtype  \n",
      "---  ------     --------------   -----  \n",
      " 0   id         137735 non-null  object \n",
      " 1   user_id    137735 non-null  int64  \n",
      " 2   call_date  137735 non-null  object \n",
      " 3   duration   137735 non-null  float64\n",
      "dtypes: float64(1), int64(1), object(2)\n",
      "memory usage: 4.2+ MB\n"
     ]
    }
   ],
   "source": [
    "# Print the general/summary information about the calls' DataFrame\n",
    "\n",
    "calls.info()"
   ]
  },
  {
   "cell_type": "code",
   "execution_count": 12,
   "metadata": {
    "trusted": true
   },
   "outputs": [
    {
     "data": {
      "text/html": [
       "<div>\n",
       "<style scoped>\n",
       "    .dataframe tbody tr th:only-of-type {\n",
       "        vertical-align: middle;\n",
       "    }\n",
       "\n",
       "    .dataframe tbody tr th {\n",
       "        vertical-align: top;\n",
       "    }\n",
       "\n",
       "    .dataframe thead th {\n",
       "        text-align: right;\n",
       "    }\n",
       "</style>\n",
       "<table border=\"1\" class=\"dataframe\">\n",
       "  <thead>\n",
       "    <tr style=\"text-align: right;\">\n",
       "      <th></th>\n",
       "      <th>id</th>\n",
       "      <th>user_id</th>\n",
       "      <th>call_date</th>\n",
       "      <th>duration</th>\n",
       "    </tr>\n",
       "  </thead>\n",
       "  <tbody>\n",
       "    <tr>\n",
       "      <th>127373</th>\n",
       "      <td>1456_207</td>\n",
       "      <td>1456</td>\n",
       "      <td>2018-11-22</td>\n",
       "      <td>6.13</td>\n",
       "    </tr>\n",
       "    <tr>\n",
       "      <th>64529</th>\n",
       "      <td>1233_39</td>\n",
       "      <td>1233</td>\n",
       "      <td>2018-11-16</td>\n",
       "      <td>1.67</td>\n",
       "    </tr>\n",
       "    <tr>\n",
       "      <th>67444</th>\n",
       "      <td>1241_280</td>\n",
       "      <td>1241</td>\n",
       "      <td>2018-10-02</td>\n",
       "      <td>8.44</td>\n",
       "    </tr>\n",
       "    <tr>\n",
       "      <th>34552</th>\n",
       "      <td>1130_72</td>\n",
       "      <td>1130</td>\n",
       "      <td>2018-11-19</td>\n",
       "      <td>8.26</td>\n",
       "    </tr>\n",
       "    <tr>\n",
       "      <th>137321</th>\n",
       "      <td>1498_251</td>\n",
       "      <td>1498</td>\n",
       "      <td>2018-09-15</td>\n",
       "      <td>0.94</td>\n",
       "    </tr>\n",
       "    <tr>\n",
       "      <th>137529</th>\n",
       "      <td>1498_466</td>\n",
       "      <td>1498</td>\n",
       "      <td>2018-05-29</td>\n",
       "      <td>1.18</td>\n",
       "    </tr>\n",
       "    <tr>\n",
       "      <th>91539</th>\n",
       "      <td>1329_593</td>\n",
       "      <td>1329</td>\n",
       "      <td>2018-11-03</td>\n",
       "      <td>0.00</td>\n",
       "    </tr>\n",
       "    <tr>\n",
       "      <th>82299</th>\n",
       "      <td>1298_45</td>\n",
       "      <td>1298</td>\n",
       "      <td>2018-12-25</td>\n",
       "      <td>6.54</td>\n",
       "    </tr>\n",
       "    <tr>\n",
       "      <th>68873</th>\n",
       "      <td>1247_206</td>\n",
       "      <td>1247</td>\n",
       "      <td>2018-08-15</td>\n",
       "      <td>0.00</td>\n",
       "    </tr>\n",
       "    <tr>\n",
       "      <th>87010</th>\n",
       "      <td>1320_679</td>\n",
       "      <td>1320</td>\n",
       "      <td>2018-07-23</td>\n",
       "      <td>13.03</td>\n",
       "    </tr>\n",
       "    <tr>\n",
       "      <th>18794</th>\n",
       "      <td>1072_86</td>\n",
       "      <td>1072</td>\n",
       "      <td>2018-12-22</td>\n",
       "      <td>8.39</td>\n",
       "    </tr>\n",
       "    <tr>\n",
       "      <th>80502</th>\n",
       "      <td>1291_102</td>\n",
       "      <td>1291</td>\n",
       "      <td>2018-09-11</td>\n",
       "      <td>5.54</td>\n",
       "    </tr>\n",
       "    <tr>\n",
       "      <th>90459</th>\n",
       "      <td>1328_89</td>\n",
       "      <td>1328</td>\n",
       "      <td>2018-12-13</td>\n",
       "      <td>11.08</td>\n",
       "    </tr>\n",
       "    <tr>\n",
       "      <th>90983</th>\n",
       "      <td>1328_613</td>\n",
       "      <td>1328</td>\n",
       "      <td>2018-09-02</td>\n",
       "      <td>13.97</td>\n",
       "    </tr>\n",
       "    <tr>\n",
       "      <th>105899</th>\n",
       "      <td>1373_379</td>\n",
       "      <td>1373</td>\n",
       "      <td>2018-11-12</td>\n",
       "      <td>15.02</td>\n",
       "    </tr>\n",
       "    <tr>\n",
       "      <th>71012</th>\n",
       "      <td>1252_464</td>\n",
       "      <td>1252</td>\n",
       "      <td>2018-10-05</td>\n",
       "      <td>4.48</td>\n",
       "    </tr>\n",
       "    <tr>\n",
       "      <th>63047</th>\n",
       "      <td>1227_26</td>\n",
       "      <td>1227</td>\n",
       "      <td>2018-12-26</td>\n",
       "      <td>3.87</td>\n",
       "    </tr>\n",
       "    <tr>\n",
       "      <th>44126</th>\n",
       "      <td>1160_142</td>\n",
       "      <td>1160</td>\n",
       "      <td>2018-05-08</td>\n",
       "      <td>3.48</td>\n",
       "    </tr>\n",
       "    <tr>\n",
       "      <th>130116</th>\n",
       "      <td>1467_352</td>\n",
       "      <td>1467</td>\n",
       "      <td>2018-11-09</td>\n",
       "      <td>15.56</td>\n",
       "    </tr>\n",
       "    <tr>\n",
       "      <th>4893</th>\n",
       "      <td>1022_159</td>\n",
       "      <td>1022</td>\n",
       "      <td>2018-12-29</td>\n",
       "      <td>0.00</td>\n",
       "    </tr>\n",
       "  </tbody>\n",
       "</table>\n",
       "</div>"
      ],
      "text/plain": [
       "              id  user_id   call_date  duration\n",
       "127373  1456_207     1456  2018-11-22      6.13\n",
       "64529    1233_39     1233  2018-11-16      1.67\n",
       "67444   1241_280     1241  2018-10-02      8.44\n",
       "34552    1130_72     1130  2018-11-19      8.26\n",
       "137321  1498_251     1498  2018-09-15      0.94\n",
       "137529  1498_466     1498  2018-05-29      1.18\n",
       "91539   1329_593     1329  2018-11-03      0.00\n",
       "82299    1298_45     1298  2018-12-25      6.54\n",
       "68873   1247_206     1247  2018-08-15      0.00\n",
       "87010   1320_679     1320  2018-07-23     13.03\n",
       "18794    1072_86     1072  2018-12-22      8.39\n",
       "80502   1291_102     1291  2018-09-11      5.54\n",
       "90459    1328_89     1328  2018-12-13     11.08\n",
       "90983   1328_613     1328  2018-09-02     13.97\n",
       "105899  1373_379     1373  2018-11-12     15.02\n",
       "71012   1252_464     1252  2018-10-05      4.48\n",
       "63047    1227_26     1227  2018-12-26      3.87\n",
       "44126   1160_142     1160  2018-05-08      3.48\n",
       "130116  1467_352     1467  2018-11-09     15.56\n",
       "4893    1022_159     1022  2018-12-29      0.00"
      ]
     },
     "execution_count": 12,
     "metadata": {},
     "output_type": "execute_result"
    }
   ],
   "source": [
    "# Print a sample of data for calls\n",
    "\n",
    "calls.sample(20)\n"
   ]
  },
  {
   "cell_type": "markdown",
   "metadata": {},
   "source": [
    " "
   ]
  },
  {
   "cell_type": "markdown",
   "metadata": {},
   "source": [
    "### Fix data"
   ]
  },
  {
   "cell_type": "code",
   "execution_count": 13,
   "metadata": {
    "trusted": true
   },
   "outputs": [],
   "source": [
    "calls['call_date'] = pd.to_datetime(calls['call_date'])"
   ]
  },
  {
   "cell_type": "code",
   "execution_count": 14,
   "metadata": {
    "trusted": true
   },
   "outputs": [],
   "source": [
    "calls['id'] = calls['id'].str.replace('_', '', regex=False)\n",
    "messages = messages.fillna('Unknown')\n",
    "\n",
    "calls['duration'] = np.ceil(calls['duration'])"
   ]
  },
  {
   "cell_type": "markdown",
   "metadata": {},
   "source": [
    "### Enrich data"
   ]
  },
  {
   "cell_type": "code",
   "execution_count": 15,
   "metadata": {
    "trusted": true
   },
   "outputs": [
    {
     "name": "stdout",
     "output_type": "stream",
     "text": [
      "<class 'pandas.core.frame.DataFrame'>\n",
      "RangeIndex: 137735 entries, 0 to 137734\n",
      "Data columns (total 4 columns):\n",
      " #   Column     Non-Null Count   Dtype         \n",
      "---  ------     --------------   -----         \n",
      " 0   id         137735 non-null  object        \n",
      " 1   user_id    137735 non-null  int64         \n",
      " 2   call_date  137735 non-null  datetime64[ns]\n",
      " 3   duration   137735 non-null  float64       \n",
      "dtypes: datetime64[ns](1), float64(1), int64(1), object(1)\n",
      "memory usage: 4.2+ MB\n"
     ]
    },
    {
     "data": {
      "text/html": [
       "<div>\n",
       "<style scoped>\n",
       "    .dataframe tbody tr th:only-of-type {\n",
       "        vertical-align: middle;\n",
       "    }\n",
       "\n",
       "    .dataframe tbody tr th {\n",
       "        vertical-align: top;\n",
       "    }\n",
       "\n",
       "    .dataframe thead th {\n",
       "        text-align: right;\n",
       "    }\n",
       "</style>\n",
       "<table border=\"1\" class=\"dataframe\">\n",
       "  <thead>\n",
       "    <tr style=\"text-align: right;\">\n",
       "      <th></th>\n",
       "      <th>id</th>\n",
       "      <th>user_id</th>\n",
       "      <th>call_date</th>\n",
       "      <th>duration</th>\n",
       "    </tr>\n",
       "  </thead>\n",
       "  <tbody>\n",
       "    <tr>\n",
       "      <th>35586</th>\n",
       "      <td>113377</td>\n",
       "      <td>1133</td>\n",
       "      <td>2018-08-20</td>\n",
       "      <td>6.0</td>\n",
       "    </tr>\n",
       "    <tr>\n",
       "      <th>36263</th>\n",
       "      <td>1138217</td>\n",
       "      <td>1138</td>\n",
       "      <td>2018-04-24</td>\n",
       "      <td>1.0</td>\n",
       "    </tr>\n",
       "    <tr>\n",
       "      <th>111171</th>\n",
       "      <td>1390620</td>\n",
       "      <td>1390</td>\n",
       "      <td>2018-12-29</td>\n",
       "      <td>5.0</td>\n",
       "    </tr>\n",
       "    <tr>\n",
       "      <th>98399</th>\n",
       "      <td>1353106</td>\n",
       "      <td>1353</td>\n",
       "      <td>2018-07-01</td>\n",
       "      <td>0.0</td>\n",
       "    </tr>\n",
       "    <tr>\n",
       "      <th>47048</th>\n",
       "      <td>117179</td>\n",
       "      <td>1171</td>\n",
       "      <td>2018-03-22</td>\n",
       "      <td>20.0</td>\n",
       "    </tr>\n",
       "    <tr>\n",
       "      <th>80762</th>\n",
       "      <td>1291362</td>\n",
       "      <td>1291</td>\n",
       "      <td>2018-04-27</td>\n",
       "      <td>10.0</td>\n",
       "    </tr>\n",
       "    <tr>\n",
       "      <th>98026</th>\n",
       "      <td>1352274</td>\n",
       "      <td>1352</td>\n",
       "      <td>2018-12-07</td>\n",
       "      <td>7.0</td>\n",
       "    </tr>\n",
       "    <tr>\n",
       "      <th>57596</th>\n",
       "      <td>120732</td>\n",
       "      <td>1207</td>\n",
       "      <td>2018-12-25</td>\n",
       "      <td>0.0</td>\n",
       "    </tr>\n",
       "    <tr>\n",
       "      <th>24656</th>\n",
       "      <td>10941163</td>\n",
       "      <td>1094</td>\n",
       "      <td>2018-11-17</td>\n",
       "      <td>5.0</td>\n",
       "    </tr>\n",
       "    <tr>\n",
       "      <th>10488</th>\n",
       "      <td>1046354</td>\n",
       "      <td>1046</td>\n",
       "      <td>2018-10-15</td>\n",
       "      <td>4.0</td>\n",
       "    </tr>\n",
       "  </tbody>\n",
       "</table>\n",
       "</div>"
      ],
      "text/plain": [
       "              id  user_id  call_date  duration\n",
       "35586     113377     1133 2018-08-20       6.0\n",
       "36263    1138217     1138 2018-04-24       1.0\n",
       "111171   1390620     1390 2018-12-29       5.0\n",
       "98399    1353106     1353 2018-07-01       0.0\n",
       "47048     117179     1171 2018-03-22      20.0\n",
       "80762    1291362     1291 2018-04-27      10.0\n",
       "98026    1352274     1352 2018-12-07       7.0\n",
       "57596     120732     1207 2018-12-25       0.0\n",
       "24656   10941163     1094 2018-11-17       5.0\n",
       "10488    1046354     1046 2018-10-15       4.0"
      ]
     },
     "execution_count": 15,
     "metadata": {},
     "output_type": "execute_result"
    }
   ],
   "source": [
    "calls.info()\n",
    "calls.sample(10)"
   ]
  },
  {
   "cell_type": "markdown",
   "metadata": {},
   "source": [
    "## Messages"
   ]
  },
  {
   "cell_type": "code",
   "execution_count": 16,
   "metadata": {
    "trusted": true
   },
   "outputs": [
    {
     "name": "stdout",
     "output_type": "stream",
     "text": [
      "<class 'pandas.core.frame.DataFrame'>\n",
      "RangeIndex: 76051 entries, 0 to 76050\n",
      "Data columns (total 3 columns):\n",
      " #   Column        Non-Null Count  Dtype \n",
      "---  ------        --------------  ----- \n",
      " 0   id            76051 non-null  object\n",
      " 1   user_id       76051 non-null  int64 \n",
      " 2   message_date  76051 non-null  object\n",
      "dtypes: int64(1), object(2)\n",
      "memory usage: 1.7+ MB\n"
     ]
    }
   ],
   "source": [
    "# Print the general/summary information about the messages' DataFrame\n",
    "\n",
    "messages.info()"
   ]
  },
  {
   "cell_type": "code",
   "execution_count": 17,
   "metadata": {
    "trusted": true
   },
   "outputs": [
    {
     "data": {
      "text/html": [
       "<div>\n",
       "<style scoped>\n",
       "    .dataframe tbody tr th:only-of-type {\n",
       "        vertical-align: middle;\n",
       "    }\n",
       "\n",
       "    .dataframe tbody tr th {\n",
       "        vertical-align: top;\n",
       "    }\n",
       "\n",
       "    .dataframe thead th {\n",
       "        text-align: right;\n",
       "    }\n",
       "</style>\n",
       "<table border=\"1\" class=\"dataframe\">\n",
       "  <thead>\n",
       "    <tr style=\"text-align: right;\">\n",
       "      <th></th>\n",
       "      <th>id</th>\n",
       "      <th>user_id</th>\n",
       "      <th>message_date</th>\n",
       "    </tr>\n",
       "  </thead>\n",
       "  <tbody>\n",
       "    <tr>\n",
       "      <th>7415</th>\n",
       "      <td>1059_295</td>\n",
       "      <td>1059</td>\n",
       "      <td>2018-09-29</td>\n",
       "    </tr>\n",
       "    <tr>\n",
       "      <th>56505</th>\n",
       "      <td>1357_120</td>\n",
       "      <td>1357</td>\n",
       "      <td>2018-09-26</td>\n",
       "    </tr>\n",
       "    <tr>\n",
       "      <th>54937</th>\n",
       "      <td>1346_447</td>\n",
       "      <td>1346</td>\n",
       "      <td>2018-07-01</td>\n",
       "    </tr>\n",
       "    <tr>\n",
       "      <th>69598</th>\n",
       "      <td>1453_46</td>\n",
       "      <td>1453</td>\n",
       "      <td>2018-11-08</td>\n",
       "    </tr>\n",
       "    <tr>\n",
       "      <th>6775</th>\n",
       "      <td>1057_99</td>\n",
       "      <td>1057</td>\n",
       "      <td>2018-12-04</td>\n",
       "    </tr>\n",
       "    <tr>\n",
       "      <th>3091</th>\n",
       "      <td>1033_104</td>\n",
       "      <td>1033</td>\n",
       "      <td>2018-11-09</td>\n",
       "    </tr>\n",
       "    <tr>\n",
       "      <th>6885</th>\n",
       "      <td>1057_209</td>\n",
       "      <td>1057</td>\n",
       "      <td>2018-11-05</td>\n",
       "    </tr>\n",
       "    <tr>\n",
       "      <th>53483</th>\n",
       "      <td>1340_9</td>\n",
       "      <td>1340</td>\n",
       "      <td>2018-12-26</td>\n",
       "    </tr>\n",
       "    <tr>\n",
       "      <th>13402</th>\n",
       "      <td>1088_420</td>\n",
       "      <td>1088</td>\n",
       "      <td>2018-10-12</td>\n",
       "    </tr>\n",
       "    <tr>\n",
       "      <th>16917</th>\n",
       "      <td>1112_139</td>\n",
       "      <td>1112</td>\n",
       "      <td>2018-12-11</td>\n",
       "    </tr>\n",
       "    <tr>\n",
       "      <th>63165</th>\n",
       "      <td>1401_104</td>\n",
       "      <td>1401</td>\n",
       "      <td>2018-09-17</td>\n",
       "    </tr>\n",
       "    <tr>\n",
       "      <th>71823</th>\n",
       "      <td>1467_155</td>\n",
       "      <td>1467</td>\n",
       "      <td>2018-04-25</td>\n",
       "    </tr>\n",
       "    <tr>\n",
       "      <th>14804</th>\n",
       "      <td>1100_126</td>\n",
       "      <td>1100</td>\n",
       "      <td>2018-09-29</td>\n",
       "    </tr>\n",
       "    <tr>\n",
       "      <th>14984</th>\n",
       "      <td>1101_41</td>\n",
       "      <td>1101</td>\n",
       "      <td>2018-09-05</td>\n",
       "    </tr>\n",
       "    <tr>\n",
       "      <th>70978</th>\n",
       "      <td>1462_86</td>\n",
       "      <td>1462</td>\n",
       "      <td>2018-12-05</td>\n",
       "    </tr>\n",
       "  </tbody>\n",
       "</table>\n",
       "</div>"
      ],
      "text/plain": [
       "             id  user_id message_date\n",
       "7415   1059_295     1059   2018-09-29\n",
       "56505  1357_120     1357   2018-09-26\n",
       "54937  1346_447     1346   2018-07-01\n",
       "69598   1453_46     1453   2018-11-08\n",
       "6775    1057_99     1057   2018-12-04\n",
       "3091   1033_104     1033   2018-11-09\n",
       "6885   1057_209     1057   2018-11-05\n",
       "53483    1340_9     1340   2018-12-26\n",
       "13402  1088_420     1088   2018-10-12\n",
       "16917  1112_139     1112   2018-12-11\n",
       "63165  1401_104     1401   2018-09-17\n",
       "71823  1467_155     1467   2018-04-25\n",
       "14804  1100_126     1100   2018-09-29\n",
       "14984   1101_41     1101   2018-09-05\n",
       "70978   1462_86     1462   2018-12-05"
      ]
     },
     "execution_count": 17,
     "metadata": {},
     "output_type": "execute_result"
    }
   ],
   "source": [
    "# Print a sample of data for messages\n",
    "\n",
    "messages.sample(15)"
   ]
  },
  {
   "cell_type": "markdown",
   "metadata": {},
   "source": [
    " **in the id column will take off _ so the data can be clear**"
   ]
  },
  {
   "cell_type": "markdown",
   "metadata": {},
   "source": [
    "### Fix data"
   ]
  },
  {
   "cell_type": "code",
   "execution_count": 18,
   "metadata": {
    "trusted": true
   },
   "outputs": [],
   "source": [
    "#remove the _ in the 'id' column\n",
    "messages['id'] = messages['id'].str.replace('_', '', regex=False)\n",
    "#fill missing values with (Unknown')\n",
    "messages = messages.fillna('Unknown')\n",
    "messages['message_date'] = pd.to_datetime(messages['message_date'])\n",
    "#drop the user_id column\n",
    "#messages = messages.drop('user_id',axis=1)\n",
    "#rename the column id to user_id \n",
    "#messages = messages.rename(columns={'id': 'user_id'})"
   ]
  },
  {
   "cell_type": "markdown",
   "metadata": {},
   "source": [
    "### Enrich data"
   ]
  },
  {
   "cell_type": "code",
   "execution_count": 19,
   "metadata": {
    "trusted": true
   },
   "outputs": [
    {
     "name": "stdout",
     "output_type": "stream",
     "text": [
      "<class 'pandas.core.frame.DataFrame'>\n",
      "RangeIndex: 76051 entries, 0 to 76050\n",
      "Data columns (total 3 columns):\n",
      " #   Column        Non-Null Count  Dtype         \n",
      "---  ------        --------------  -----         \n",
      " 0   id            76051 non-null  object        \n",
      " 1   user_id       76051 non-null  int64         \n",
      " 2   message_date  76051 non-null  datetime64[ns]\n",
      "dtypes: datetime64[ns](1), int64(1), object(1)\n",
      "memory usage: 1.7+ MB\n"
     ]
    }
   ],
   "source": [
    "messages.sample(20)\n",
    "messages.info()"
   ]
  },
  {
   "cell_type": "markdown",
   "metadata": {},
   "source": [
    "## Internet"
   ]
  },
  {
   "cell_type": "code",
   "execution_count": 20,
   "metadata": {
    "trusted": true
   },
   "outputs": [
    {
     "name": "stdout",
     "output_type": "stream",
     "text": [
      "<class 'pandas.core.frame.DataFrame'>\n",
      "RangeIndex: 104825 entries, 0 to 104824\n",
      "Data columns (total 4 columns):\n",
      " #   Column        Non-Null Count   Dtype  \n",
      "---  ------        --------------   -----  \n",
      " 0   id            104825 non-null  object \n",
      " 1   user_id       104825 non-null  int64  \n",
      " 2   session_date  104825 non-null  object \n",
      " 3   mb_used       104825 non-null  float64\n",
      "dtypes: float64(1), int64(1), object(2)\n",
      "memory usage: 3.2+ MB\n"
     ]
    }
   ],
   "source": [
    "# Print the general/summary information about the internet DataFrame\n",
    "\n",
    "internet.info()"
   ]
  },
  {
   "cell_type": "code",
   "execution_count": 21,
   "metadata": {
    "trusted": true
   },
   "outputs": [
    {
     "data": {
      "text/html": [
       "<div>\n",
       "<style scoped>\n",
       "    .dataframe tbody tr th:only-of-type {\n",
       "        vertical-align: middle;\n",
       "    }\n",
       "\n",
       "    .dataframe tbody tr th {\n",
       "        vertical-align: top;\n",
       "    }\n",
       "\n",
       "    .dataframe thead th {\n",
       "        text-align: right;\n",
       "    }\n",
       "</style>\n",
       "<table border=\"1\" class=\"dataframe\">\n",
       "  <thead>\n",
       "    <tr style=\"text-align: right;\">\n",
       "      <th></th>\n",
       "      <th>id</th>\n",
       "      <th>user_id</th>\n",
       "      <th>session_date</th>\n",
       "      <th>mb_used</th>\n",
       "    </tr>\n",
       "  </thead>\n",
       "  <tbody>\n",
       "    <tr>\n",
       "      <th>93106</th>\n",
       "      <td>1434_348</td>\n",
       "      <td>1434</td>\n",
       "      <td>2018-11-08</td>\n",
       "      <td>0.00</td>\n",
       "    </tr>\n",
       "    <tr>\n",
       "      <th>102914</th>\n",
       "      <td>1493_32</td>\n",
       "      <td>1493</td>\n",
       "      <td>2018-11-27</td>\n",
       "      <td>0.00</td>\n",
       "    </tr>\n",
       "    <tr>\n",
       "      <th>75848</th>\n",
       "      <td>1357_185</td>\n",
       "      <td>1357</td>\n",
       "      <td>2018-10-02</td>\n",
       "      <td>250.88</td>\n",
       "    </tr>\n",
       "    <tr>\n",
       "      <th>22362</th>\n",
       "      <td>1101_254</td>\n",
       "      <td>1101</td>\n",
       "      <td>2018-05-22</td>\n",
       "      <td>729.18</td>\n",
       "    </tr>\n",
       "    <tr>\n",
       "      <th>35819</th>\n",
       "      <td>1160_523</td>\n",
       "      <td>1160</td>\n",
       "      <td>2018-09-27</td>\n",
       "      <td>176.55</td>\n",
       "    </tr>\n",
       "    <tr>\n",
       "      <th>38010</th>\n",
       "      <td>1171_381</td>\n",
       "      <td>1171</td>\n",
       "      <td>2018-10-24</td>\n",
       "      <td>196.67</td>\n",
       "    </tr>\n",
       "    <tr>\n",
       "      <th>18694</th>\n",
       "      <td>1083_312</td>\n",
       "      <td>1083</td>\n",
       "      <td>2018-12-13</td>\n",
       "      <td>952.00</td>\n",
       "    </tr>\n",
       "    <tr>\n",
       "      <th>102083</th>\n",
       "      <td>1489_95</td>\n",
       "      <td>1489</td>\n",
       "      <td>2018-12-26</td>\n",
       "      <td>352.13</td>\n",
       "    </tr>\n",
       "    <tr>\n",
       "      <th>92513</th>\n",
       "      <td>1432_36</td>\n",
       "      <td>1432</td>\n",
       "      <td>2018-11-23</td>\n",
       "      <td>540.14</td>\n",
       "    </tr>\n",
       "    <tr>\n",
       "      <th>54548</th>\n",
       "      <td>1246_449</td>\n",
       "      <td>1246</td>\n",
       "      <td>2018-05-13</td>\n",
       "      <td>63.95</td>\n",
       "    </tr>\n",
       "    <tr>\n",
       "      <th>89195</th>\n",
       "      <td>1411_96</td>\n",
       "      <td>1411</td>\n",
       "      <td>2018-10-12</td>\n",
       "      <td>0.00</td>\n",
       "    </tr>\n",
       "    <tr>\n",
       "      <th>102656</th>\n",
       "      <td>1491_119</td>\n",
       "      <td>1491</td>\n",
       "      <td>2018-08-25</td>\n",
       "      <td>164.89</td>\n",
       "    </tr>\n",
       "    <tr>\n",
       "      <th>6955</th>\n",
       "      <td>1039_230</td>\n",
       "      <td>1039</td>\n",
       "      <td>2018-10-19</td>\n",
       "      <td>0.00</td>\n",
       "    </tr>\n",
       "    <tr>\n",
       "      <th>43866</th>\n",
       "      <td>1195_3</td>\n",
       "      <td>1195</td>\n",
       "      <td>2018-11-09</td>\n",
       "      <td>462.52</td>\n",
       "    </tr>\n",
       "    <tr>\n",
       "      <th>35787</th>\n",
       "      <td>1160_491</td>\n",
       "      <td>1160</td>\n",
       "      <td>2018-05-28</td>\n",
       "      <td>498.69</td>\n",
       "    </tr>\n",
       "    <tr>\n",
       "      <th>21971</th>\n",
       "      <td>1100_175</td>\n",
       "      <td>1100</td>\n",
       "      <td>2018-12-06</td>\n",
       "      <td>486.50</td>\n",
       "    </tr>\n",
       "    <tr>\n",
       "      <th>81159</th>\n",
       "      <td>1380_106</td>\n",
       "      <td>1380</td>\n",
       "      <td>2018-09-27</td>\n",
       "      <td>0.00</td>\n",
       "    </tr>\n",
       "    <tr>\n",
       "      <th>34467</th>\n",
       "      <td>1156_64</td>\n",
       "      <td>1156</td>\n",
       "      <td>2018-04-21</td>\n",
       "      <td>407.96</td>\n",
       "    </tr>\n",
       "    <tr>\n",
       "      <th>33710</th>\n",
       "      <td>1153_226</td>\n",
       "      <td>1153</td>\n",
       "      <td>2018-11-18</td>\n",
       "      <td>0.00</td>\n",
       "    </tr>\n",
       "    <tr>\n",
       "      <th>41607</th>\n",
       "      <td>1185_644</td>\n",
       "      <td>1185</td>\n",
       "      <td>2018-02-28</td>\n",
       "      <td>580.02</td>\n",
       "    </tr>\n",
       "  </tbody>\n",
       "</table>\n",
       "</div>"
      ],
      "text/plain": [
       "              id  user_id session_date  mb_used\n",
       "93106   1434_348     1434   2018-11-08     0.00\n",
       "102914   1493_32     1493   2018-11-27     0.00\n",
       "75848   1357_185     1357   2018-10-02   250.88\n",
       "22362   1101_254     1101   2018-05-22   729.18\n",
       "35819   1160_523     1160   2018-09-27   176.55\n",
       "38010   1171_381     1171   2018-10-24   196.67\n",
       "18694   1083_312     1083   2018-12-13   952.00\n",
       "102083   1489_95     1489   2018-12-26   352.13\n",
       "92513    1432_36     1432   2018-11-23   540.14\n",
       "54548   1246_449     1246   2018-05-13    63.95\n",
       "89195    1411_96     1411   2018-10-12     0.00\n",
       "102656  1491_119     1491   2018-08-25   164.89\n",
       "6955    1039_230     1039   2018-10-19     0.00\n",
       "43866     1195_3     1195   2018-11-09   462.52\n",
       "35787   1160_491     1160   2018-05-28   498.69\n",
       "21971   1100_175     1100   2018-12-06   486.50\n",
       "81159   1380_106     1380   2018-09-27     0.00\n",
       "34467    1156_64     1156   2018-04-21   407.96\n",
       "33710   1153_226     1153   2018-11-18     0.00\n",
       "41607   1185_644     1185   2018-02-28   580.02"
      ]
     },
     "execution_count": 21,
     "metadata": {},
     "output_type": "execute_result"
    }
   ],
   "source": [
    "# Print a sample of data for the internet traffic\n",
    "\n",
    "internet.sample(20)"
   ]
  },
  {
   "cell_type": "markdown",
   "metadata": {},
   "source": [
    " "
   ]
  },
  {
   "cell_type": "markdown",
   "metadata": {},
   "source": [
    "### Fix data"
   ]
  },
  {
   "cell_type": "code",
   "execution_count": 22,
   "metadata": {
    "trusted": true
   },
   "outputs": [],
   "source": [
    "internet['id'] = internet['id'].str.replace('_', '', regex=False)\n",
    "\n",
    "internet['session_date'] = pd.to_datetime(internet['session_date'])"
   ]
  },
  {
   "cell_type": "markdown",
   "metadata": {},
   "source": [
    "### Enrich data"
   ]
  },
  {
   "cell_type": "code",
   "execution_count": 23,
   "metadata": {
    "trusted": true
   },
   "outputs": [
    {
     "name": "stdout",
     "output_type": "stream",
     "text": [
      "<class 'pandas.core.frame.DataFrame'>\n",
      "RangeIndex: 104825 entries, 0 to 104824\n",
      "Data columns (total 4 columns):\n",
      " #   Column        Non-Null Count   Dtype         \n",
      "---  ------        --------------   -----         \n",
      " 0   id            104825 non-null  object        \n",
      " 1   user_id       104825 non-null  int64         \n",
      " 2   session_date  104825 non-null  datetime64[ns]\n",
      " 3   mb_used       104825 non-null  float64       \n",
      "dtypes: datetime64[ns](1), float64(1), int64(1), object(1)\n",
      "memory usage: 3.2+ MB\n"
     ]
    }
   ],
   "source": [
    "internet.sample(20)\n",
    "internet.info()"
   ]
  },
  {
   "cell_type": "markdown",
   "metadata": {},
   "source": [
    "## Study plan conditions"
   ]
  },
  {
   "cell_type": "code",
   "execution_count": 24,
   "metadata": {
    "trusted": true
   },
   "outputs": [
    {
     "data": {
      "text/html": [
       "<div>\n",
       "<style scoped>\n",
       "    .dataframe tbody tr th:only-of-type {\n",
       "        vertical-align: middle;\n",
       "    }\n",
       "\n",
       "    .dataframe tbody tr th {\n",
       "        vertical-align: top;\n",
       "    }\n",
       "\n",
       "    .dataframe thead th {\n",
       "        text-align: right;\n",
       "    }\n",
       "</style>\n",
       "<table border=\"1\" class=\"dataframe\">\n",
       "  <thead>\n",
       "    <tr style=\"text-align: right;\">\n",
       "      <th></th>\n",
       "      <th>messages_included</th>\n",
       "      <th>mb_per_month_included</th>\n",
       "      <th>minutes_included</th>\n",
       "      <th>usd_monthly_pay</th>\n",
       "      <th>usd_per_gb</th>\n",
       "      <th>usd_per_message</th>\n",
       "      <th>usd_per_minute</th>\n",
       "      <th>plan_name</th>\n",
       "    </tr>\n",
       "  </thead>\n",
       "  <tbody>\n",
       "    <tr>\n",
       "      <th>0</th>\n",
       "      <td>50</td>\n",
       "      <td>15.0</td>\n",
       "      <td>500</td>\n",
       "      <td>20</td>\n",
       "      <td>10</td>\n",
       "      <td>0.03</td>\n",
       "      <td>0.03</td>\n",
       "      <td>surf</td>\n",
       "    </tr>\n",
       "    <tr>\n",
       "      <th>1</th>\n",
       "      <td>1000</td>\n",
       "      <td>30.0</td>\n",
       "      <td>3000</td>\n",
       "      <td>70</td>\n",
       "      <td>7</td>\n",
       "      <td>0.01</td>\n",
       "      <td>0.01</td>\n",
       "      <td>ultimate</td>\n",
       "    </tr>\n",
       "  </tbody>\n",
       "</table>\n",
       "</div>"
      ],
      "text/plain": [
       "   messages_included  mb_per_month_included  minutes_included  \\\n",
       "0                 50                   15.0               500   \n",
       "1               1000                   30.0              3000   \n",
       "\n",
       "   usd_monthly_pay  usd_per_gb  usd_per_message  usd_per_minute plan_name  \n",
       "0               20          10             0.03            0.03      surf  \n",
       "1               70           7             0.01            0.01  ultimate  "
      ]
     },
     "execution_count": 24,
     "metadata": {},
     "output_type": "execute_result"
    }
   ],
   "source": [
    "# Print out the plan conditions and make sure they are clear for you\n",
    "\n",
    "plans.head()"
   ]
  },
  {
   "cell_type": "markdown",
   "metadata": {},
   "source": [
    "## Aggregate data per user\n"
   ]
  },
  {
   "cell_type": "code",
   "execution_count": 25,
   "metadata": {
    "trusted": true
   },
   "outputs": [
    {
     "data": {
      "text/html": [
       "<div>\n",
       "<style scoped>\n",
       "    .dataframe tbody tr th:only-of-type {\n",
       "        vertical-align: middle;\n",
       "    }\n",
       "\n",
       "    .dataframe tbody tr th {\n",
       "        vertical-align: top;\n",
       "    }\n",
       "\n",
       "    .dataframe thead th {\n",
       "        text-align: right;\n",
       "    }\n",
       "</style>\n",
       "<table border=\"1\" class=\"dataframe\">\n",
       "  <thead>\n",
       "    <tr style=\"text-align: right;\">\n",
       "      <th></th>\n",
       "      <th>user_id</th>\n",
       "      <th>month</th>\n",
       "      <th>calls_count</th>\n",
       "    </tr>\n",
       "  </thead>\n",
       "  <tbody>\n",
       "    <tr>\n",
       "      <th>2030</th>\n",
       "      <td>1445</td>\n",
       "      <td>2018-04</td>\n",
       "      <td>59</td>\n",
       "    </tr>\n",
       "    <tr>\n",
       "      <th>1392</th>\n",
       "      <td>1311</td>\n",
       "      <td>2018-09</td>\n",
       "      <td>27</td>\n",
       "    </tr>\n",
       "    <tr>\n",
       "      <th>1884</th>\n",
       "      <td>1408</td>\n",
       "      <td>2018-11</td>\n",
       "      <td>73</td>\n",
       "    </tr>\n",
       "    <tr>\n",
       "      <th>553</th>\n",
       "      <td>1120</td>\n",
       "      <td>2018-05</td>\n",
       "      <td>58</td>\n",
       "    </tr>\n",
       "    <tr>\n",
       "      <th>255</th>\n",
       "      <td>1059</td>\n",
       "      <td>2018-07</td>\n",
       "      <td>100</td>\n",
       "    </tr>\n",
       "    <tr>\n",
       "      <th>2149</th>\n",
       "      <td>1474</td>\n",
       "      <td>2018-11</td>\n",
       "      <td>42</td>\n",
       "    </tr>\n",
       "    <tr>\n",
       "      <th>17</th>\n",
       "      <td>1004</td>\n",
       "      <td>2018-12</td>\n",
       "      <td>50</td>\n",
       "    </tr>\n",
       "    <tr>\n",
       "      <th>1038</th>\n",
       "      <td>1223</td>\n",
       "      <td>2018-11</td>\n",
       "      <td>82</td>\n",
       "    </tr>\n",
       "    <tr>\n",
       "      <th>1745</th>\n",
       "      <td>1384</td>\n",
       "      <td>2018-10</td>\n",
       "      <td>43</td>\n",
       "    </tr>\n",
       "    <tr>\n",
       "      <th>1140</th>\n",
       "      <td>1249</td>\n",
       "      <td>2018-07</td>\n",
       "      <td>121</td>\n",
       "    </tr>\n",
       "    <tr>\n",
       "      <th>1403</th>\n",
       "      <td>1312</td>\n",
       "      <td>2018-10</td>\n",
       "      <td>55</td>\n",
       "    </tr>\n",
       "    <tr>\n",
       "      <th>549</th>\n",
       "      <td>1119</td>\n",
       "      <td>2018-10</td>\n",
       "      <td>49</td>\n",
       "    </tr>\n",
       "    <tr>\n",
       "      <th>412</th>\n",
       "      <td>1088</td>\n",
       "      <td>2018-05</td>\n",
       "      <td>3</td>\n",
       "    </tr>\n",
       "    <tr>\n",
       "      <th>384</th>\n",
       "      <td>1081</td>\n",
       "      <td>2018-08</td>\n",
       "      <td>39</td>\n",
       "    </tr>\n",
       "    <tr>\n",
       "      <th>2197</th>\n",
       "      <td>1488</td>\n",
       "      <td>2018-11</td>\n",
       "      <td>109</td>\n",
       "    </tr>\n",
       "    <tr>\n",
       "      <th>2089</th>\n",
       "      <td>1460</td>\n",
       "      <td>2018-12</td>\n",
       "      <td>63</td>\n",
       "    </tr>\n",
       "    <tr>\n",
       "      <th>53</th>\n",
       "      <td>1012</td>\n",
       "      <td>2018-11</td>\n",
       "      <td>10</td>\n",
       "    </tr>\n",
       "    <tr>\n",
       "      <th>1523</th>\n",
       "      <td>1336</td>\n",
       "      <td>2018-08</td>\n",
       "      <td>90</td>\n",
       "    </tr>\n",
       "    <tr>\n",
       "      <th>904</th>\n",
       "      <td>1193</td>\n",
       "      <td>2018-08</td>\n",
       "      <td>32</td>\n",
       "    </tr>\n",
       "    <tr>\n",
       "      <th>827</th>\n",
       "      <td>1176</td>\n",
       "      <td>2018-12</td>\n",
       "      <td>68</td>\n",
       "    </tr>\n",
       "  </tbody>\n",
       "</table>\n",
       "</div>"
      ],
      "text/plain": [
       "      user_id    month  calls_count\n",
       "2030     1445  2018-04           59\n",
       "1392     1311  2018-09           27\n",
       "1884     1408  2018-11           73\n",
       "553      1120  2018-05           58\n",
       "255      1059  2018-07          100\n",
       "2149     1474  2018-11           42\n",
       "17       1004  2018-12           50\n",
       "1038     1223  2018-11           82\n",
       "1745     1384  2018-10           43\n",
       "1140     1249  2018-07          121\n",
       "1403     1312  2018-10           55\n",
       "549      1119  2018-10           49\n",
       "412      1088  2018-05            3\n",
       "384      1081  2018-08           39\n",
       "2197     1488  2018-11          109\n",
       "2089     1460  2018-12           63\n",
       "53       1012  2018-11           10\n",
       "1523     1336  2018-08           90\n",
       "904      1193  2018-08           32\n",
       "827      1176  2018-12           68"
      ]
     },
     "execution_count": 25,
     "metadata": {},
     "output_type": "execute_result"
    }
   ],
   "source": [
    "# Calculate the number of calls made by each user per month. Save the result.\n",
    "calls['month'] = calls['call_date'].dt.to_period('M')\n",
    "calls_per_month = calls.groupby(['user_id', 'month']).size().reset_index(name='calls_count')\n",
    "calls_per_month.sample(20)"
   ]
  },
  {
   "cell_type": "code",
   "execution_count": 26,
   "metadata": {
    "trusted": true
   },
   "outputs": [
    {
     "data": {
      "text/html": [
       "<div>\n",
       "<style scoped>\n",
       "    .dataframe tbody tr th:only-of-type {\n",
       "        vertical-align: middle;\n",
       "    }\n",
       "\n",
       "    .dataframe tbody tr th {\n",
       "        vertical-align: top;\n",
       "    }\n",
       "\n",
       "    .dataframe thead th {\n",
       "        text-align: right;\n",
       "    }\n",
       "</style>\n",
       "<table border=\"1\" class=\"dataframe\">\n",
       "  <thead>\n",
       "    <tr style=\"text-align: right;\">\n",
       "      <th></th>\n",
       "      <th>user_id</th>\n",
       "      <th>month</th>\n",
       "      <th>duration_total</th>\n",
       "    </tr>\n",
       "  </thead>\n",
       "  <tbody>\n",
       "    <tr>\n",
       "      <th>1365</th>\n",
       "      <td>1301</td>\n",
       "      <td>2018-11</td>\n",
       "      <td>155.0</td>\n",
       "    </tr>\n",
       "    <tr>\n",
       "      <th>1854</th>\n",
       "      <td>1404</td>\n",
       "      <td>2018-11</td>\n",
       "      <td>590.0</td>\n",
       "    </tr>\n",
       "    <tr>\n",
       "      <th>981</th>\n",
       "      <td>1211</td>\n",
       "      <td>2018-11</td>\n",
       "      <td>319.0</td>\n",
       "    </tr>\n",
       "    <tr>\n",
       "      <th>1460</th>\n",
       "      <td>1324</td>\n",
       "      <td>2018-12</td>\n",
       "      <td>1047.0</td>\n",
       "    </tr>\n",
       "    <tr>\n",
       "      <th>1140</th>\n",
       "      <td>1249</td>\n",
       "      <td>2018-07</td>\n",
       "      <td>844.0</td>\n",
       "    </tr>\n",
       "    <tr>\n",
       "      <th>1744</th>\n",
       "      <td>1384</td>\n",
       "      <td>2018-09</td>\n",
       "      <td>245.0</td>\n",
       "    </tr>\n",
       "    <tr>\n",
       "      <th>386</th>\n",
       "      <td>1081</td>\n",
       "      <td>2018-10</td>\n",
       "      <td>212.0</td>\n",
       "    </tr>\n",
       "    <tr>\n",
       "      <th>283</th>\n",
       "      <td>1062</td>\n",
       "      <td>2018-11</td>\n",
       "      <td>182.0</td>\n",
       "    </tr>\n",
       "    <tr>\n",
       "      <th>752</th>\n",
       "      <td>1160</td>\n",
       "      <td>2018-11</td>\n",
       "      <td>527.0</td>\n",
       "    </tr>\n",
       "    <tr>\n",
       "      <th>339</th>\n",
       "      <td>1073</td>\n",
       "      <td>2018-04</td>\n",
       "      <td>231.0</td>\n",
       "    </tr>\n",
       "    <tr>\n",
       "      <th>1540</th>\n",
       "      <td>1339</td>\n",
       "      <td>2018-10</td>\n",
       "      <td>34.0</td>\n",
       "    </tr>\n",
       "    <tr>\n",
       "      <th>1865</th>\n",
       "      <td>1406</td>\n",
       "      <td>2018-05</td>\n",
       "      <td>333.0</td>\n",
       "    </tr>\n",
       "    <tr>\n",
       "      <th>1459</th>\n",
       "      <td>1324</td>\n",
       "      <td>2018-11</td>\n",
       "      <td>1304.0</td>\n",
       "    </tr>\n",
       "    <tr>\n",
       "      <th>1821</th>\n",
       "      <td>1399</td>\n",
       "      <td>2018-12</td>\n",
       "      <td>267.0</td>\n",
       "    </tr>\n",
       "    <tr>\n",
       "      <th>1255</th>\n",
       "      <td>1270</td>\n",
       "      <td>2018-11</td>\n",
       "      <td>256.0</td>\n",
       "    </tr>\n",
       "    <tr>\n",
       "      <th>1754</th>\n",
       "      <td>1385</td>\n",
       "      <td>2018-09</td>\n",
       "      <td>416.0</td>\n",
       "    </tr>\n",
       "    <tr>\n",
       "      <th>2169</th>\n",
       "      <td>1478</td>\n",
       "      <td>2018-10</td>\n",
       "      <td>369.0</td>\n",
       "    </tr>\n",
       "    <tr>\n",
       "      <th>1141</th>\n",
       "      <td>1249</td>\n",
       "      <td>2018-08</td>\n",
       "      <td>554.0</td>\n",
       "    </tr>\n",
       "    <tr>\n",
       "      <th>381</th>\n",
       "      <td>1081</td>\n",
       "      <td>2018-05</td>\n",
       "      <td>299.0</td>\n",
       "    </tr>\n",
       "    <tr>\n",
       "      <th>612</th>\n",
       "      <td>1132</td>\n",
       "      <td>2018-11</td>\n",
       "      <td>632.0</td>\n",
       "    </tr>\n",
       "  </tbody>\n",
       "</table>\n",
       "</div>"
      ],
      "text/plain": [
       "      user_id    month  duration_total\n",
       "1365     1301  2018-11           155.0\n",
       "1854     1404  2018-11           590.0\n",
       "981      1211  2018-11           319.0\n",
       "1460     1324  2018-12          1047.0\n",
       "1140     1249  2018-07           844.0\n",
       "1744     1384  2018-09           245.0\n",
       "386      1081  2018-10           212.0\n",
       "283      1062  2018-11           182.0\n",
       "752      1160  2018-11           527.0\n",
       "339      1073  2018-04           231.0\n",
       "1540     1339  2018-10            34.0\n",
       "1865     1406  2018-05           333.0\n",
       "1459     1324  2018-11          1304.0\n",
       "1821     1399  2018-12           267.0\n",
       "1255     1270  2018-11           256.0\n",
       "1754     1385  2018-09           416.0\n",
       "2169     1478  2018-10           369.0\n",
       "1141     1249  2018-08           554.0\n",
       "381      1081  2018-05           299.0\n",
       "612      1132  2018-11           632.0"
      ]
     },
     "execution_count": 26,
     "metadata": {},
     "output_type": "execute_result"
    }
   ],
   "source": [
    "# Calculate the amount of minutes spent by each user per month. Save the result.\n",
    "user_per_min = calls.groupby(['user_id', 'month'])['duration'].sum().reset_index(name='duration_total')\n",
    "user_per_min.sample(20)"
   ]
  },
  {
   "cell_type": "code",
   "execution_count": 27,
   "metadata": {
    "trusted": true
   },
   "outputs": [
    {
     "data": {
      "text/html": [
       "<div>\n",
       "<style scoped>\n",
       "    .dataframe tbody tr th:only-of-type {\n",
       "        vertical-align: middle;\n",
       "    }\n",
       "\n",
       "    .dataframe tbody tr th {\n",
       "        vertical-align: top;\n",
       "    }\n",
       "\n",
       "    .dataframe thead th {\n",
       "        text-align: right;\n",
       "    }\n",
       "</style>\n",
       "<table border=\"1\" class=\"dataframe\">\n",
       "  <thead>\n",
       "    <tr style=\"text-align: right;\">\n",
       "      <th></th>\n",
       "      <th>user_id</th>\n",
       "      <th>month</th>\n",
       "      <th>messages_count</th>\n",
       "    </tr>\n",
       "  </thead>\n",
       "  <tbody>\n",
       "    <tr>\n",
       "      <th>1518</th>\n",
       "      <td>1409</td>\n",
       "      <td>2018-10</td>\n",
       "      <td>27</td>\n",
       "    </tr>\n",
       "    <tr>\n",
       "      <th>793</th>\n",
       "      <td>1212</td>\n",
       "      <td>2018-07</td>\n",
       "      <td>3</td>\n",
       "    </tr>\n",
       "    <tr>\n",
       "      <th>1617</th>\n",
       "      <td>1441</td>\n",
       "      <td>2018-12</td>\n",
       "      <td>15</td>\n",
       "    </tr>\n",
       "    <tr>\n",
       "      <th>1785</th>\n",
       "      <td>1491</td>\n",
       "      <td>2018-08</td>\n",
       "      <td>50</td>\n",
       "    </tr>\n",
       "    <tr>\n",
       "      <th>256</th>\n",
       "      <td>1077</td>\n",
       "      <td>2018-04</td>\n",
       "      <td>57</td>\n",
       "    </tr>\n",
       "    <tr>\n",
       "      <th>1082</th>\n",
       "      <td>1290</td>\n",
       "      <td>2018-11</td>\n",
       "      <td>50</td>\n",
       "    </tr>\n",
       "    <tr>\n",
       "      <th>1552</th>\n",
       "      <td>1420</td>\n",
       "      <td>2018-12</td>\n",
       "      <td>3</td>\n",
       "    </tr>\n",
       "    <tr>\n",
       "      <th>1582</th>\n",
       "      <td>1434</td>\n",
       "      <td>2018-03</td>\n",
       "      <td>45</td>\n",
       "    </tr>\n",
       "    <tr>\n",
       "      <th>1404</th>\n",
       "      <td>1376</td>\n",
       "      <td>2018-11</td>\n",
       "      <td>13</td>\n",
       "    </tr>\n",
       "    <tr>\n",
       "      <th>189</th>\n",
       "      <td>1061</td>\n",
       "      <td>2018-04</td>\n",
       "      <td>17</td>\n",
       "    </tr>\n",
       "    <tr>\n",
       "      <th>1039</th>\n",
       "      <td>1270</td>\n",
       "      <td>2018-11</td>\n",
       "      <td>32</td>\n",
       "    </tr>\n",
       "    <tr>\n",
       "      <th>312</th>\n",
       "      <td>1088</td>\n",
       "      <td>2018-12</td>\n",
       "      <td>68</td>\n",
       "    </tr>\n",
       "    <tr>\n",
       "      <th>447</th>\n",
       "      <td>1126</td>\n",
       "      <td>2018-08</td>\n",
       "      <td>88</td>\n",
       "    </tr>\n",
       "    <tr>\n",
       "      <th>1777</th>\n",
       "      <td>1489</td>\n",
       "      <td>2018-09</td>\n",
       "      <td>59</td>\n",
       "    </tr>\n",
       "    <tr>\n",
       "      <th>1447</th>\n",
       "      <td>1385</td>\n",
       "      <td>2018-12</td>\n",
       "      <td>43</td>\n",
       "    </tr>\n",
       "    <tr>\n",
       "      <th>564</th>\n",
       "      <td>1151</td>\n",
       "      <td>2018-09</td>\n",
       "      <td>57</td>\n",
       "    </tr>\n",
       "    <tr>\n",
       "      <th>229</th>\n",
       "      <td>1067</td>\n",
       "      <td>2018-10</td>\n",
       "      <td>29</td>\n",
       "    </tr>\n",
       "    <tr>\n",
       "      <th>1437</th>\n",
       "      <td>1384</td>\n",
       "      <td>2018-12</td>\n",
       "      <td>93</td>\n",
       "    </tr>\n",
       "    <tr>\n",
       "      <th>1695</th>\n",
       "      <td>1466</td>\n",
       "      <td>2018-06</td>\n",
       "      <td>29</td>\n",
       "    </tr>\n",
       "    <tr>\n",
       "      <th>1555</th>\n",
       "      <td>1421</td>\n",
       "      <td>2018-12</td>\n",
       "      <td>87</td>\n",
       "    </tr>\n",
       "  </tbody>\n",
       "</table>\n",
       "</div>"
      ],
      "text/plain": [
       "      user_id    month  messages_count\n",
       "1518     1409  2018-10              27\n",
       "793      1212  2018-07               3\n",
       "1617     1441  2018-12              15\n",
       "1785     1491  2018-08              50\n",
       "256      1077  2018-04              57\n",
       "1082     1290  2018-11              50\n",
       "1552     1420  2018-12               3\n",
       "1582     1434  2018-03              45\n",
       "1404     1376  2018-11              13\n",
       "189      1061  2018-04              17\n",
       "1039     1270  2018-11              32\n",
       "312      1088  2018-12              68\n",
       "447      1126  2018-08              88\n",
       "1777     1489  2018-09              59\n",
       "1447     1385  2018-12              43\n",
       "564      1151  2018-09              57\n",
       "229      1067  2018-10              29\n",
       "1437     1384  2018-12              93\n",
       "1695     1466  2018-06              29\n",
       "1555     1421  2018-12              87"
      ]
     },
     "execution_count": 27,
     "metadata": {},
     "output_type": "execute_result"
    }
   ],
   "source": [
    "# Calculate the number of messages sent by each user per month. Save the result.\n",
    "messages['month'] = messages['message_date'].dt.to_period('M')\n",
    "messages_per_month = messages.groupby(['user_id', 'month']).size().reset_index(name='messages_count')\n",
    "messages_per_month.sample(20)"
   ]
  },
  {
   "cell_type": "code",
   "execution_count": 28,
   "metadata": {
    "trusted": true
   },
   "outputs": [
    {
     "data": {
      "text/html": [
       "<div>\n",
       "<style scoped>\n",
       "    .dataframe tbody tr th:only-of-type {\n",
       "        vertical-align: middle;\n",
       "    }\n",
       "\n",
       "    .dataframe tbody tr th {\n",
       "        vertical-align: top;\n",
       "    }\n",
       "\n",
       "    .dataframe thead th {\n",
       "        text-align: right;\n",
       "    }\n",
       "</style>\n",
       "<table border=\"1\" class=\"dataframe\">\n",
       "  <thead>\n",
       "    <tr style=\"text-align: right;\">\n",
       "      <th></th>\n",
       "      <th>user_id</th>\n",
       "      <th>month</th>\n",
       "      <th>tatal_used</th>\n",
       "    </tr>\n",
       "  </thead>\n",
       "  <tbody>\n",
       "    <tr>\n",
       "      <th>2013</th>\n",
       "      <td>1434</td>\n",
       "      <td>2018-09</td>\n",
       "      <td>14.771445</td>\n",
       "    </tr>\n",
       "    <tr>\n",
       "      <th>1449</th>\n",
       "      <td>1316</td>\n",
       "      <td>2018-10</td>\n",
       "      <td>19.103887</td>\n",
       "    </tr>\n",
       "    <tr>\n",
       "      <th>1008</th>\n",
       "      <td>1211</td>\n",
       "      <td>2018-11</td>\n",
       "      <td>26.617646</td>\n",
       "    </tr>\n",
       "    <tr>\n",
       "      <th>959</th>\n",
       "      <td>1199</td>\n",
       "      <td>2018-11</td>\n",
       "      <td>23.818691</td>\n",
       "    </tr>\n",
       "    <tr>\n",
       "      <th>135</th>\n",
       "      <td>1038</td>\n",
       "      <td>2018-10</td>\n",
       "      <td>21.776855</td>\n",
       "    </tr>\n",
       "    <tr>\n",
       "      <th>1986</th>\n",
       "      <td>1427</td>\n",
       "      <td>2018-07</td>\n",
       "      <td>9.946992</td>\n",
       "    </tr>\n",
       "    <tr>\n",
       "      <th>284</th>\n",
       "      <td>1062</td>\n",
       "      <td>2018-12</td>\n",
       "      <td>14.209082</td>\n",
       "    </tr>\n",
       "    <tr>\n",
       "      <th>207</th>\n",
       "      <td>1050</td>\n",
       "      <td>2018-06</td>\n",
       "      <td>11.302734</td>\n",
       "    </tr>\n",
       "    <tr>\n",
       "      <th>1584</th>\n",
       "      <td>1345</td>\n",
       "      <td>2018-10</td>\n",
       "      <td>6.967607</td>\n",
       "    </tr>\n",
       "    <tr>\n",
       "      <th>1184</th>\n",
       "      <td>1252</td>\n",
       "      <td>2018-06</td>\n",
       "      <td>8.081455</td>\n",
       "    </tr>\n",
       "    <tr>\n",
       "      <th>1766</th>\n",
       "      <td>1382</td>\n",
       "      <td>2018-11</td>\n",
       "      <td>9.765762</td>\n",
       "    </tr>\n",
       "    <tr>\n",
       "      <th>1728</th>\n",
       "      <td>1372</td>\n",
       "      <td>2018-12</td>\n",
       "      <td>18.453721</td>\n",
       "    </tr>\n",
       "    <tr>\n",
       "      <th>1680</th>\n",
       "      <td>1362</td>\n",
       "      <td>2018-09</td>\n",
       "      <td>12.465078</td>\n",
       "    </tr>\n",
       "    <tr>\n",
       "      <th>1042</th>\n",
       "      <td>1219</td>\n",
       "      <td>2018-11</td>\n",
       "      <td>8.008496</td>\n",
       "    </tr>\n",
       "    <tr>\n",
       "      <th>1866</th>\n",
       "      <td>1402</td>\n",
       "      <td>2018-09</td>\n",
       "      <td>8.769883</td>\n",
       "    </tr>\n",
       "    <tr>\n",
       "      <th>1702</th>\n",
       "      <td>1366</td>\n",
       "      <td>2018-10</td>\n",
       "      <td>19.623135</td>\n",
       "    </tr>\n",
       "    <tr>\n",
       "      <th>1499</th>\n",
       "      <td>1327</td>\n",
       "      <td>2018-10</td>\n",
       "      <td>26.110947</td>\n",
       "    </tr>\n",
       "    <tr>\n",
       "      <th>471</th>\n",
       "      <td>1099</td>\n",
       "      <td>2018-12</td>\n",
       "      <td>15.911563</td>\n",
       "    </tr>\n",
       "    <tr>\n",
       "      <th>1140</th>\n",
       "      <td>1243</td>\n",
       "      <td>2018-12</td>\n",
       "      <td>28.148643</td>\n",
       "    </tr>\n",
       "    <tr>\n",
       "      <th>2136</th>\n",
       "      <td>1466</td>\n",
       "      <td>2018-06</td>\n",
       "      <td>12.264990</td>\n",
       "    </tr>\n",
       "  </tbody>\n",
       "</table>\n",
       "</div>"
      ],
      "text/plain": [
       "      user_id    month  tatal_used\n",
       "2013     1434  2018-09   14.771445\n",
       "1449     1316  2018-10   19.103887\n",
       "1008     1211  2018-11   26.617646\n",
       "959      1199  2018-11   23.818691\n",
       "135      1038  2018-10   21.776855\n",
       "1986     1427  2018-07    9.946992\n",
       "284      1062  2018-12   14.209082\n",
       "207      1050  2018-06   11.302734\n",
       "1584     1345  2018-10    6.967607\n",
       "1184     1252  2018-06    8.081455\n",
       "1766     1382  2018-11    9.765762\n",
       "1728     1372  2018-12   18.453721\n",
       "1680     1362  2018-09   12.465078\n",
       "1042     1219  2018-11    8.008496\n",
       "1866     1402  2018-09    8.769883\n",
       "1702     1366  2018-10   19.623135\n",
       "1499     1327  2018-10   26.110947\n",
       "471      1099  2018-12   15.911563\n",
       "1140     1243  2018-12   28.148643\n",
       "2136     1466  2018-06   12.264990"
      ]
     },
     "execution_count": 28,
     "metadata": {},
     "output_type": "execute_result"
    }
   ],
   "source": [
    "# Calculate the volume of internet traffic used by each user per month. Save the result.\n",
    "\n",
    "internet['month'] = internet['session_date'].dt.to_period('M')\n",
    "internet_per_user = internet.groupby(['user_id', 'month'])['mb_used'].sum().reset_index(name='tatal_used')\n",
    "internet_per_user['tatal_used'] = internet_per_user['tatal_used']/ 1024\n",
    "\n",
    "internet_per_user.sample(20)"
   ]
  },
  {
   "cell_type": "code",
   "execution_count": 29,
   "metadata": {
    "trusted": true
   },
   "outputs": [],
   "source": [
    "# Merge the data for calls, minutes, messages, internet based on user_id and month\n",
    "\n",
    "df_merged = calls_per_month.merge(user_per_min, on=['user_id', 'month'], how='outer')\\\n",
    "    .merge(messages_per_month, on=['user_id', 'month'], how='outer')\\\n",
    "    .merge(internet_per_user, on=['user_id', 'month'], how='outer')\n",
    "df_merged.fillna(0, inplace=True)\n",
    "df_merged.sample(20)\n",
    "\n",
    "\n",
    "# Fill missing values with 0 (except 'city', to avoid replacing city names)\n",
    "df_merged.fillna(0, inplace=True)"
   ]
  },
  {
   "cell_type": "code",
   "execution_count": 30,
   "metadata": {
    "trusted": true
   },
   "outputs": [
    {
     "data": {
      "text/html": [
       "<div>\n",
       "<style scoped>\n",
       "    .dataframe tbody tr th:only-of-type {\n",
       "        vertical-align: middle;\n",
       "    }\n",
       "\n",
       "    .dataframe tbody tr th {\n",
       "        vertical-align: top;\n",
       "    }\n",
       "\n",
       "    .dataframe thead th {\n",
       "        text-align: right;\n",
       "    }\n",
       "</style>\n",
       "<table border=\"1\" class=\"dataframe\">\n",
       "  <thead>\n",
       "    <tr style=\"text-align: right;\">\n",
       "      <th></th>\n",
       "      <th>user_id</th>\n",
       "      <th>month</th>\n",
       "      <th>calls_count</th>\n",
       "      <th>duration_total</th>\n",
       "      <th>messages_count</th>\n",
       "      <th>tatal_used</th>\n",
       "      <th>plan</th>\n",
       "    </tr>\n",
       "  </thead>\n",
       "  <tbody>\n",
       "    <tr>\n",
       "      <th>1964</th>\n",
       "      <td>1428</td>\n",
       "      <td>2018-11</td>\n",
       "      <td>86.0</td>\n",
       "      <td>620.0</td>\n",
       "      <td>28.0</td>\n",
       "      <td>16.651641</td>\n",
       "      <td>surf</td>\n",
       "    </tr>\n",
       "    <tr>\n",
       "      <th>1720</th>\n",
       "      <td>1377</td>\n",
       "      <td>2018-12</td>\n",
       "      <td>62.0</td>\n",
       "      <td>364.0</td>\n",
       "      <td>1.0</td>\n",
       "      <td>23.017646</td>\n",
       "      <td>surf</td>\n",
       "    </tr>\n",
       "    <tr>\n",
       "      <th>2062</th>\n",
       "      <td>1454</td>\n",
       "      <td>2018-11</td>\n",
       "      <td>32.0</td>\n",
       "      <td>273.0</td>\n",
       "      <td>90.0</td>\n",
       "      <td>13.028301</td>\n",
       "      <td>ultimate</td>\n",
       "    </tr>\n",
       "    <tr>\n",
       "      <th>1977</th>\n",
       "      <td>1433</td>\n",
       "      <td>2018-12</td>\n",
       "      <td>97.0</td>\n",
       "      <td>706.0</td>\n",
       "      <td>125.0</td>\n",
       "      <td>25.429531</td>\n",
       "      <td>ultimate</td>\n",
       "    </tr>\n",
       "    <tr>\n",
       "      <th>464</th>\n",
       "      <td>1099</td>\n",
       "      <td>2018-11</td>\n",
       "      <td>86.0</td>\n",
       "      <td>719.0</td>\n",
       "      <td>24.0</td>\n",
       "      <td>14.789590</td>\n",
       "      <td>surf</td>\n",
       "    </tr>\n",
       "    <tr>\n",
       "      <th>2252</th>\n",
       "      <td>1498</td>\n",
       "      <td>2018-11</td>\n",
       "      <td>41.0</td>\n",
       "      <td>223.0</td>\n",
       "      <td>0.0</td>\n",
       "      <td>18.719287</td>\n",
       "      <td>surf</td>\n",
       "    </tr>\n",
       "    <tr>\n",
       "      <th>1036</th>\n",
       "      <td>1223</td>\n",
       "      <td>2018-09</td>\n",
       "      <td>87.0</td>\n",
       "      <td>649.0</td>\n",
       "      <td>27.0</td>\n",
       "      <td>19.929990</td>\n",
       "      <td>surf</td>\n",
       "    </tr>\n",
       "    <tr>\n",
       "      <th>185</th>\n",
       "      <td>1046</td>\n",
       "      <td>2018-09</td>\n",
       "      <td>79.0</td>\n",
       "      <td>522.0</td>\n",
       "      <td>39.0</td>\n",
       "      <td>24.571299</td>\n",
       "      <td>surf</td>\n",
       "    </tr>\n",
       "    <tr>\n",
       "      <th>1067</th>\n",
       "      <td>1232</td>\n",
       "      <td>2018-07</td>\n",
       "      <td>72.0</td>\n",
       "      <td>579.0</td>\n",
       "      <td>2.0</td>\n",
       "      <td>15.061465</td>\n",
       "      <td>surf</td>\n",
       "    </tr>\n",
       "    <tr>\n",
       "      <th>907</th>\n",
       "      <td>1193</td>\n",
       "      <td>2018-11</td>\n",
       "      <td>23.0</td>\n",
       "      <td>138.0</td>\n",
       "      <td>57.0</td>\n",
       "      <td>18.349209</td>\n",
       "      <td>surf</td>\n",
       "    </tr>\n",
       "    <tr>\n",
       "      <th>1779</th>\n",
       "      <td>1390</td>\n",
       "      <td>2018-09</td>\n",
       "      <td>91.0</td>\n",
       "      <td>692.0</td>\n",
       "      <td>0.0</td>\n",
       "      <td>10.997725</td>\n",
       "      <td>ultimate</td>\n",
       "    </tr>\n",
       "    <tr>\n",
       "      <th>1351</th>\n",
       "      <td>1298</td>\n",
       "      <td>2018-12</td>\n",
       "      <td>88.0</td>\n",
       "      <td>590.0</td>\n",
       "      <td>103.0</td>\n",
       "      <td>17.463633</td>\n",
       "      <td>surf</td>\n",
       "    </tr>\n",
       "    <tr>\n",
       "      <th>534</th>\n",
       "      <td>1114</td>\n",
       "      <td>2018-10</td>\n",
       "      <td>94.0</td>\n",
       "      <td>725.0</td>\n",
       "      <td>89.0</td>\n",
       "      <td>15.474775</td>\n",
       "      <td>surf</td>\n",
       "    </tr>\n",
       "    <tr>\n",
       "      <th>61</th>\n",
       "      <td>1016</td>\n",
       "      <td>2018-12</td>\n",
       "      <td>109.0</td>\n",
       "      <td>837.0</td>\n",
       "      <td>38.0</td>\n",
       "      <td>27.527354</td>\n",
       "      <td>surf</td>\n",
       "    </tr>\n",
       "    <tr>\n",
       "      <th>948</th>\n",
       "      <td>1203</td>\n",
       "      <td>2018-03</td>\n",
       "      <td>6.0</td>\n",
       "      <td>40.0</td>\n",
       "      <td>3.0</td>\n",
       "      <td>1.218779</td>\n",
       "      <td>surf</td>\n",
       "    </tr>\n",
       "    <tr>\n",
       "      <th>2242</th>\n",
       "      <td>1497</td>\n",
       "      <td>2018-12</td>\n",
       "      <td>54.0</td>\n",
       "      <td>300.0</td>\n",
       "      <td>50.0</td>\n",
       "      <td>10.846240</td>\n",
       "      <td>ultimate</td>\n",
       "    </tr>\n",
       "    <tr>\n",
       "      <th>871</th>\n",
       "      <td>1185</td>\n",
       "      <td>2018-11</td>\n",
       "      <td>79.0</td>\n",
       "      <td>595.0</td>\n",
       "      <td>0.0</td>\n",
       "      <td>26.379512</td>\n",
       "      <td>ultimate</td>\n",
       "    </tr>\n",
       "    <tr>\n",
       "      <th>845</th>\n",
       "      <td>1181</td>\n",
       "      <td>2018-09</td>\n",
       "      <td>89.0</td>\n",
       "      <td>640.0</td>\n",
       "      <td>30.0</td>\n",
       "      <td>18.787188</td>\n",
       "      <td>surf</td>\n",
       "    </tr>\n",
       "    <tr>\n",
       "      <th>1788</th>\n",
       "      <td>1392</td>\n",
       "      <td>2018-08</td>\n",
       "      <td>46.0</td>\n",
       "      <td>341.0</td>\n",
       "      <td>62.0</td>\n",
       "      <td>21.492305</td>\n",
       "      <td>surf</td>\n",
       "    </tr>\n",
       "    <tr>\n",
       "      <th>555</th>\n",
       "      <td>1120</td>\n",
       "      <td>2018-07</td>\n",
       "      <td>42.0</td>\n",
       "      <td>366.0</td>\n",
       "      <td>46.0</td>\n",
       "      <td>21.134746</td>\n",
       "      <td>surf</td>\n",
       "    </tr>\n",
       "  </tbody>\n",
       "</table>\n",
       "</div>"
      ],
      "text/plain": [
       "      user_id    month  calls_count  duration_total  messages_count  \\\n",
       "1964     1428  2018-11         86.0           620.0            28.0   \n",
       "1720     1377  2018-12         62.0           364.0             1.0   \n",
       "2062     1454  2018-11         32.0           273.0            90.0   \n",
       "1977     1433  2018-12         97.0           706.0           125.0   \n",
       "464      1099  2018-11         86.0           719.0            24.0   \n",
       "2252     1498  2018-11         41.0           223.0             0.0   \n",
       "1036     1223  2018-09         87.0           649.0            27.0   \n",
       "185      1046  2018-09         79.0           522.0            39.0   \n",
       "1067     1232  2018-07         72.0           579.0             2.0   \n",
       "907      1193  2018-11         23.0           138.0            57.0   \n",
       "1779     1390  2018-09         91.0           692.0             0.0   \n",
       "1351     1298  2018-12         88.0           590.0           103.0   \n",
       "534      1114  2018-10         94.0           725.0            89.0   \n",
       "61       1016  2018-12        109.0           837.0            38.0   \n",
       "948      1203  2018-03          6.0            40.0             3.0   \n",
       "2242     1497  2018-12         54.0           300.0            50.0   \n",
       "871      1185  2018-11         79.0           595.0             0.0   \n",
       "845      1181  2018-09         89.0           640.0            30.0   \n",
       "1788     1392  2018-08         46.0           341.0            62.0   \n",
       "555      1120  2018-07         42.0           366.0            46.0   \n",
       "\n",
       "      tatal_used      plan  \n",
       "1964   16.651641      surf  \n",
       "1720   23.017646      surf  \n",
       "2062   13.028301  ultimate  \n",
       "1977   25.429531  ultimate  \n",
       "464    14.789590      surf  \n",
       "2252   18.719287      surf  \n",
       "1036   19.929990      surf  \n",
       "185    24.571299      surf  \n",
       "1067   15.061465      surf  \n",
       "907    18.349209      surf  \n",
       "1779   10.997725  ultimate  \n",
       "1351   17.463633      surf  \n",
       "534    15.474775      surf  \n",
       "61     27.527354      surf  \n",
       "948     1.218779      surf  \n",
       "2242   10.846240  ultimate  \n",
       "871    26.379512  ultimate  \n",
       "845    18.787188      surf  \n",
       "1788   21.492305      surf  \n",
       "555    21.134746      surf  "
      ]
     },
     "execution_count": 30,
     "metadata": {},
     "output_type": "execute_result"
    }
   ],
   "source": [
    "# Add the plan information\n",
    "\n",
    "users.head()\n",
    "df_merged = df_merged.merge(users[['user_id', 'plan']], on='user_id', how='left')\n",
    "df_merged.sample(20)\n",
    "df_merged.sample(20)\n",
    "#print(plans.head())"
   ]
  },
  {
   "cell_type": "code",
   "execution_count": 31,
   "metadata": {
    "trusted": true
   },
   "outputs": [],
   "source": [
    "\n",
    "def calculate_revenue(row):\n",
    "    # Get the plan details for the user\n",
    "    plan = plans.loc[plans['plan_name'] == row['plan']].squeeze()\n",
    "    \n",
    "    # Calls: Compute extra minutes and charges\n",
    "    if row['duration_total'] > plan['minutes_included']:\n",
    "        extra_calls = row['duration_total'] - plan['minutes_included']\n",
    "        call_cost = extra_calls * plan['usd_per_minute']\n",
    "    else:\n",
    "        call_cost = 0\n",
    "    \n",
    "    # Messages: Compute extra messages and charges\n",
    "    if row['messages_count'] > plan['messages_included']:\n",
    "        extra_messages = row['messages_count'] - plan['messages_included']\n",
    "        message_cost = extra_messages * plan['usd_per_message']\n",
    "    else:\n",
    "        message_cost = 0\n",
    "    \n",
    "    # Data: Converted MB to GB (rounded up) and compute extra charges\n",
    "    #total_gb = np.ceil(row['mb_used'] / 1024)  # Convert MB to GB and round up\n",
    "    if row['tatal_used'] > plan['mb_per_month_included']:\n",
    "        extra_gb = row['tatal_used'] - plan['mb_per_month_included']\n",
    "        data_cost = np.ceil(extra_gb) * plan['usd_per_gb']\n",
    "    else:\n",
    "        data_cost = 0\n",
    "    \n",
    "    # Total Revenue Calculation\n",
    "    total_revenue = plan['usd_monthly_pay'] + call_cost + message_cost + data_cost\n",
    "    \n",
    "    return total_revenue\n",
    "# Apply the function to calculate total revenue for each user\n",
    "df_merged['total_revenue'] = df_merged.apply(calculate_revenue, axis=1)"
   ]
  },
  {
   "cell_type": "markdown",
   "metadata": {},
   "source": [
    "## Study user behaviour"
   ]
  },
  {
   "cell_type": "markdown",
   "metadata": {},
   "source": [
    "### Calls"
   ]
  },
  {
   "cell_type": "code",
   "execution_count": 32,
   "metadata": {
    "trusted": true
   },
   "outputs": [
    {
     "name": "stdout",
     "output_type": "stream",
     "text": [
      "   plan    month  duration_total\n",
      "0  surf  2018-01      203.000000\n",
      "1  surf  2018-02      297.000000\n",
      "2  surf  2018-03      330.000000\n",
      "3  surf  2018-04      351.540000\n",
      "4  surf  2018-05      399.584416\n"
     ]
    },
    {
     "data": {
      "image/png": "[encoded data removed]",
      "text/plain": [
       "<Figure size 1000x500 with 1 Axes>"
      ]
     },
     "metadata": {},
     "output_type": "display_data"
    }
   ],
   "source": [
    "# Compare average duration of calls per each plan per each distinct month. Plot a bar plat to visualize it.\n",
    "\n",
    "# Group by plan and month, then calculate the mean duration\n",
    "avg_call_duration = df_merged.groupby(['plan', 'month'])['duration_total'].mean().reset_index()\n",
    "\n",
    "\n",
    "# Display the first few rows\n",
    "print(avg_call_duration.head())\n",
    "\n",
    "plt.figure(figsize=(10, 5))\n",
    "sns.barplot(data=avg_call_duration, x='month', y='duration_total', hue='plan')\n",
    "\n",
    "# Customize the plot\n",
    "plt.title('Average Call Duration per Plan & per Month')\n",
    "plt.xlabel('Month')\n",
    "plt.ylabel('Average Call Duration/ Min')\n",
    "plt.legend(title=\"Plan Name\")\n",
    "\n",
    "# Show the plot\n",
    "plt.show()\n"
   ]
  },
  {
   "cell_type": "code",
   "execution_count": 33,
   "metadata": {
    "trusted": true
   },
   "outputs": [
    {
     "data": {
      "image/png": "[encoded data removed]",
      "text/plain": [
       "<Figure size 1000x500 with 1 Axes>"
      ]
     },
     "metadata": {},
     "output_type": "display_data"
    }
   ],
   "source": [
    "# Compare the number of minutes users of each plan require each month. Plot a histogram.\n",
    "\n",
    "# Set figure size\n",
    "plt.figure(figsize=(10, 5))\n",
    "\n",
    "# Plot histogram for each plan\n",
    "for plan in df_merged['plan'].unique():\n",
    "    plan_data = df_merged[df_merged['plan'] == plan]['duration_total']\n",
    "    plt.hist(plan_data, bins=20, alpha=0.5, label=plan)\n",
    "\n",
    "# Add labels and title\n",
    "plt.title('Distribution of Call Minutes per Plan & per Month')\n",
    "plt.xlabel('Total Call/ Min')\n",
    "plt.ylabel('Number of Users')\n",
    "plt.legend(title=\"Plan\")\n",
    "\n",
    "# Show the plot\n",
    "plt.show()"
   ]
  },
  {
   "cell_type": "code",
   "execution_count": 34,
   "metadata": {
    "trusted": true
   },
   "outputs": [
    {
     "name": "stdout",
     "output_type": "stream",
     "text": [
      "       plan        mean           var\n",
      "0      surf  428.749523  54968.279461\n",
      "1  ultimate  430.450000  57844.464812\n"
     ]
    }
   ],
   "source": [
    "# Calculate the mean and the variance of the monthly call duration\n",
    "\n",
    "# Group by plan and calculate mean & variance of call duration\n",
    "call_stats = df_merged.groupby('plan')['duration_total'].agg(['mean', 'var']).reset_index()\n",
    "\n",
    "print(call_stats)"
   ]
  },
  {
   "cell_type": "code",
   "execution_count": 35,
   "metadata": {
    "trusted": true
   },
   "outputs": [
    {
     "data": {
      "text/plain": [
       "<Figure size 800x500 with 0 Axes>"
      ]
     },
     "metadata": {},
     "output_type": "display_data"
    },
    {
     "data": {
      "image/png": "[encoded data removed]",
      "text/plain": [
       "<Figure size 640x480 with 1 Axes>"
      ]
     },
     "metadata": {},
     "output_type": "display_data"
    }
   ],
   "source": [
    "# Plot a boxplot to visualize the distribution of the monthly call duration\n",
    "#\n",
    "plt.figure(figsize=(8, 5))\n",
    "\n",
    "df_merged.boxplot(column='duration_total', by='plan')\n",
    "\n",
    "# Customize the plot\n",
    "plt.title('Distribution of Monthly Call Duration/ Plan')\n",
    "plt.xlabel('Plan')\n",
    "plt.ylabel('Total Call Duration/ Min')\n",
    "plt.suptitle('')  # Remove automatic Matplotlib-generated title\n",
    "\n",
    "# Show the plot\n",
    "plt.show()"
   ]
  },
  {
   "cell_type": "markdown",
   "metadata": {},
   "source": [
    "**Despite Ultimate offering more minutes, users of both plans use a similar number of minutes. However, Ultimate users have slightly more varied usage patterns**"
   ]
  },
  {
   "cell_type": "markdown",
   "metadata": {},
   "source": [
    "### Messages"
   ]
  },
  {
   "cell_type": "code",
   "execution_count": 36,
   "metadata": {
    "trusted": true
   },
   "outputs": [
    {
     "name": "stdout",
     "output_type": "stream",
     "text": [
      "       plan       mean          var\n",
      "0      surf  31.159568  1126.724522\n",
      "1  ultimate  37.551389  1208.756744\n"
     ]
    }
   ],
   "source": [
    "# Compare the number of messages users of each plan tend to send each month\n",
    "\n",
    "# Calculate the average and variance of messages sent per month per plan\n",
    "messages_stats = df_merged.groupby('plan')['messages_count'].agg(['mean', 'var']).reset_index()\n",
    "print(messages_stats)"
   ]
  },
  {
   "cell_type": "code",
   "execution_count": 37,
   "metadata": {
    "trusted": true
   },
   "outputs": [
    {
     "data": {
      "image/png": "[encoded data removed]",
      "text/plain": [
       "<Figure size 1000x500 with 1 Axes>"
      ]
     },
     "metadata": {},
     "output_type": "display_data"
    }
   ],
   "source": [
    "\n",
    "# Plot histogram\n",
    "plt.figure(figsize=(10, 5))\n",
    "for plan in df_merged['plan'].unique():\n",
    "    plan_data = df_merged[df_merged['plan'] == plan]['messages_count']\n",
    "    plt.hist(plan_data, bins=30, alpha=0.6, label=plan)\n",
    "    \n",
    "# Labels and legend\n",
    "plt.title('Distribution of Messages Sent per Month by Plan')\n",
    "plt.xlabel('Number of Messages')\n",
    "plt.ylabel('Frequency')\n",
    "plt.legend(title='Plan')\n",
    "plt.show()    "
   ]
  },
  {
   "cell_type": "markdown",
   "metadata": {},
   "source": [
    " \n",
    "**Users on the Ultimate plan send slightly more messages on average (37.55 vs. 31.16) and exhibit higher variance, indicating greater variability in usage. However, the difference is not drastic, suggesting that messaging habits are relatively similar across both plans.**"
   ]
  },
  {
   "cell_type": "markdown",
   "metadata": {},
   "source": [
    "<div class=\"alert alert-warning\">\n",
    "<b>Reviewer's comment v1:</b>\n",
    "    \n",
    "To avoid repetitive code you could utilize functions. "
   ]
  },
  {
   "cell_type": "markdown",
   "metadata": {},
   "source": [
    "### Internet"
   ]
  },
  {
   "cell_type": "code",
   "execution_count": 38,
   "metadata": {
    "trusted": true
   },
   "outputs": [
    {
     "name": "stdout",
     "output_type": "stream",
     "text": [
      "       plan       mean        var\n",
      "0      surf  16.170199  61.241527\n",
      "1  ultimate  16.811230  58.796209\n"
     ]
    }
   ],
   "source": [
    "# Compare the amount of internet traffic consumed by users per plan\n",
    "internet_stats = df_merged.groupby('plan')['tatal_used'].agg(['mean', 'var']).reset_index()\n",
    "print(internet_stats)"
   ]
  },
  {
   "cell_type": "code",
   "execution_count": 39,
   "metadata": {
    "trusted": true
   },
   "outputs": [
    {
     "data": {
      "image/png": "[encoded data removed]",
      "text/plain": [
       "<Figure size 1000x500 with 1 Axes>"
      ]
     },
     "metadata": {},
     "output_type": "display_data"
    }
   ],
   "source": [
    "plt.figure(figsize=(10, 5))\n",
    "for plan in df_merged['plan'].unique():\n",
    "    plan_data = df_merged[df_merged['plan'] == plan]['tatal_used']\n",
    "    plt.hist(plan_data, bins=30, alpha=0.6, label=plan)\n",
    "\n",
    "# Labels and legend\n",
    "plt.title('Distribution of Internet Usage per Month by Plan')\n",
    "plt.xlabel('GB Used')\n",
    "plt.ylabel('Frequency')\n",
    "plt.legend(title=\"Plan\")\n",
    "plt.show()"
   ]
  },
  {
   "cell_type": "code",
   "execution_count": null,
   "metadata": {
    "trusted": true
   },
   "outputs": [],
   "source": []
  },
  {
   "cell_type": "markdown",
   "metadata": {},
   "source": [
    " **Users on the Ultimate plan consume slightly more data on average (16.81 GB vs. 16.17 GB for Surf), but the difference is minimal. The variance in data usage is also similar between the two plans, indicating that users' internet consumption is fairly consistent across both plans. Overall, internet behavior doesn't differ significantly between the two plans.**"
   ]
  },
  {
   "cell_type": "markdown",
   "metadata": {},
   "source": [
    "## Revenue"
   ]
  },
  {
   "cell_type": "code",
   "execution_count": 40,
   "metadata": {
    "trusted": true
   },
   "outputs": [
    {
     "name": "stdout",
     "output_type": "stream",
     "text": [
      "       plan       mean          var\n",
      "0      surf  60.706408  3067.835152\n",
      "1  ultimate  72.313889   129.848486\n"
     ]
    }
   ],
   "source": [
    "revenue_stats = df_merged.groupby('plan')['total_revenue'].agg(['mean', 'var']).reset_index()\n",
    "print(revenue_stats)"
   ]
  },
  {
   "cell_type": "code",
   "execution_count": 41,
   "metadata": {
    "trusted": true
   },
   "outputs": [
    {
     "data": {
      "image/png": "[encoded data removed]",
      "text/plain": [
       "<Figure size 1000x500 with 1 Axes>"
      ]
     },
     "metadata": {},
     "output_type": "display_data"
    }
   ],
   "source": [
    "plt.figure(figsize=(10, 5))\n",
    "\n",
    "# Plot histogram for each plan\n",
    "for plan in df_merged['plan'].unique():\n",
    "    plan_data = df_merged[df_merged['plan'] == plan]['total_revenue']\n",
    "    plt.hist(plan_data, bins=30, alpha=0.6, label=plan)\n",
    "\n",
    "# Labels and legend\n",
    "plt.title('Distribution of Monthly Revenue by Plan')\n",
    "plt.xlabel('Total Revenue ($)')\n",
    "plt.ylabel('Frequency')\n",
    "plt.legend(title=\"Plan\")\n",
    "plt.show()"
   ]
  },
  {
   "cell_type": "markdown",
   "metadata": {},
   "source": [
    " **Ultimate** may bring in more revenue overall due to higher charges and additional costs for extra usage.\n",
    "**The Surf** plan's revenue might be more predictable but lower on average, with fewer users exceeding limits."
   ]
  },
  {
   "cell_type": "markdown",
   "metadata": {},
   "source": [
    "## Test statistical hypotheses"
   ]
  },
  {
   "cell_type": "markdown",
   "metadata": {},
   "source": [
    "**H0: μUltimate = μSurf**\n",
    "ignificant difference between the average revenue of the two plans.\n",
    "\n",
    "**H1: μUltimate =! μSurf**\n",
    " this indicates a significant difference in average revenue between the two plans."
   ]
  },
  {
   "cell_type": "code",
   "execution_count": 42,
   "metadata": {
    "trusted": true
   },
   "outputs": [
    {
     "name": "stdout",
     "output_type": "stream",
     "text": [
      "p-value: 1.431337255349322e-08\n",
      "We reject the null hypothesis\n"
     ]
    }
   ],
   "source": [
    "# Test the hypotheses\n",
    "# Extract revenue data for both plans\n",
    "ultimate_revenue = df_merged[df_merged['plan'] == 'ultimate']['total_revenue']\n",
    "surf_revenue = df_merged[df_merged['plan'] == 'surf']['total_revenue']\n",
    "\n",
    "results = st.ttest_ind(ultimate_revenue, surf_revenue)\n",
    "\n",
    "alpha = 0.05  # significance level\n",
    "print('p-value:', results.pvalue/2) # your code: print the p-value you get\n",
    "\n",
    "if(results.pvalue/2 < alpha): # your code: compare the p-value to the statistical significance\n",
    "    print (\"We reject the null hypothesis\")\n",
    "else:\n",
    "    print ( \"We can't reject the null hypothesis\")"
   ]
  },
  {
   "cell_type": "code",
   "execution_count": 43,
   "metadata": {
    "trusted": true
   },
   "outputs": [
    {
     "name": "stdout",
     "output_type": "stream",
     "text": [
      "P-value: 0.043557431621342436\n",
      "We reject the null hypothesis\n"
     ]
    }
   ],
   "source": [
    "# Test the hypotheses\n",
    "df_merged = df_merged.merge(users[['user_id', 'city']], on='user_id', how='left')\n",
    "\n",
    "# Filter users in the NY-NJ area\n",
    "ny_nj_users = df_merged[df_merged['city'].str.contains('ny-nj', case=False, na=False)]\n",
    "\n",
    "# Extract revenue data for NY-NJ users\n",
    "ny_nj_rev = df_merged[df_merged['user_id'].isin(ny_nj_users['user_id'])]['total_revenue']\n",
    "\n",
    "# Extract revenue data for users in other regions\n",
    "other_users_rev = df_merged[~df_merged['user_id'].isin(ny_nj_users['user_id'])]['total_revenue']\n",
    "\n",
    "# Set significance level\n",
    "alpha = 0.05\n",
    "\n",
    "# Perform independent t-test\n",
    "results = st.ttest_ind(ny_nj_rev, other_users_rev)\n",
    "\n",
    "# Print p-value\n",
    "print('P-value:', results.pvalue)\n",
    "\n",
    "# Hypothesis decision\n",
    "if results.pvalue < alpha:\n",
    "    print('We reject the null hypothesis')\n",
    "else:\n",
    "    print('We fail to reject the null hypothesis')"
   ]
  },
  {
   "cell_type": "markdown",
   "metadata": {},
   "source": [
    "**P-value Interpretation Plan Revenue (p = 1.5e-13) Revenue differs significantly between Surf and Ultimate. Ultimate is more profitable.\n",
    "Regional Revenue (p = 0.026) NY-NJ users spend differently than other regions. Consider location-based pricing or marketing.**"
   ]
  },
  {
   "cell_type": "markdown",
   "metadata": {},
   "source": [
    "**(H0): μNY-NJ = μOtherRegions :** There is no significant difference in the average revenue between users in the NY-NJ area and users from other regions.\n",
    "**(H1): μNY-NJ =!μOtherRegions :** The average revenue from users in the NY-NJ area is significantly different from that of users in other regions."
   ]
  },
  {
   "cell_type": "markdown",
   "metadata": {},
   "source": [
    "## General conclusion\n"
   ]
  },
  {
   "cell_type": "markdown",
   "metadata": {},
   "source": [
    " **Ultimate plan generates more revenue due to its higher base fee and extra charges.\n",
    " Call duration and internet usage are similar for both plans, but Ultimate users send slightly more messages.\n",
    " Revenue significantly differs between plans and also varies by region (NY-NJ vs. others).\n",
    " Location-based pricing could be considered since users in different regions may have different spending habits**"
   ]
  }
 ],
 "metadata": {
  "ExecuteTimeLog": [
   {
    "duration": 828,
    "start_time": "2021-11-16T09:21:11.304Z"
   },
   {
    "duration": 893,
    "start_time": "2021-11-16T09:21:17.728Z"
   },
   {
    "duration": 1150,
    "start_time": "2021-11-16T09:21:29.568Z"
   },
   {
    "duration": 3,
    "start_time": "2021-11-16T09:24:14.495Z"
   },
   {
    "duration": 120,
    "start_time": "2021-11-16T09:24:46.630Z"
   },
   {
    "duration": 3,
    "start_time": "2021-11-16T09:28:27.882Z"
   },
   {
    "duration": 4,
    "start_time": "2021-11-16T09:29:54.281Z"
   },
   {
    "duration": 3,
    "start_time": "2021-11-16T09:30:45.936Z"
   },
   {
    "duration": 4,
    "start_time": "2021-11-16T09:31:06.300Z"
   },
   {
    "duration": 113,
    "start_time": "2021-11-16T09:31:37.208Z"
   },
   {
    "duration": 143,
    "start_time": "2021-11-16T09:31:48.656Z"
   },
   {
    "duration": 98,
    "start_time": "2021-11-16T09:31:55.678Z"
   },
   {
    "duration": 3,
    "start_time": "2021-11-16T09:32:08.535Z"
   },
   {
    "duration": 111,
    "start_time": "2021-11-16T09:32:10.120Z"
   },
   {
    "duration": 3,
    "start_time": "2021-11-16T09:32:15.732Z"
   },
   {
    "duration": 4,
    "start_time": "2021-11-16T09:32:29.423Z"
   },
   {
    "duration": 3,
    "start_time": "2021-11-16T10:03:03.074Z"
   },
   {
    "duration": 3,
    "start_time": "2021-11-16T10:10:01.288Z"
   },
   {
    "duration": 3,
    "start_time": "2021-11-16T10:10:46.923Z"
   },
   {
    "duration": 121,
    "start_time": "2021-11-16T10:37:46.494Z"
   },
   {
    "duration": 125,
    "start_time": "2021-11-16T10:38:20.632Z"
   },
   {
    "duration": 112,
    "start_time": "2021-11-16T10:46:53.001Z"
   },
   {
    "duration": 110,
    "start_time": "2021-11-16T10:48:25.775Z"
   },
   {
    "duration": 3,
    "start_time": "2021-11-16T10:50:18.720Z"
   },
   {
    "duration": 4,
    "start_time": "2021-11-16T10:50:37.649Z"
   },
   {
    "duration": 2,
    "start_time": "2021-11-16T10:50:51.884Z"
   },
   {
    "duration": 3,
    "start_time": "2021-11-16T10:51:56.237Z"
   },
   {
    "duration": 101,
    "start_time": "2021-11-16T10:53:13.791Z"
   },
   {
    "duration": 3,
    "start_time": "2021-11-16T10:55:59.186Z"
   },
   {
    "duration": 3,
    "start_time": "2021-11-16T10:56:10.751Z"
   },
   {
    "duration": 3,
    "start_time": "2021-11-16T10:56:49.038Z"
   },
   {
    "duration": 3,
    "start_time": "2021-11-16T10:56:49.174Z"
   },
   {
    "duration": 4,
    "start_time": "2021-11-16T10:56:49.414Z"
   },
   {
    "duration": 3,
    "start_time": "2021-11-16T10:56:49.680Z"
   },
   {
    "duration": 3,
    "start_time": "2021-11-16T10:56:50.370Z"
   },
   {
    "duration": 114,
    "start_time": "2021-11-16T10:59:34.518Z"
   },
   {
    "duration": 3,
    "start_time": "2021-11-16T11:01:41.201Z"
   },
   {
    "duration": 116,
    "start_time": "2021-11-16T11:01:48.754Z"
   },
   {
    "duration": 3,
    "start_time": "2021-11-16T11:02:16.685Z"
   },
   {
    "duration": 3,
    "start_time": "2021-11-16T11:02:19.479Z"
   },
   {
    "duration": 3,
    "start_time": "2021-11-16T11:02:47.067Z"
   },
   {
    "duration": 3,
    "start_time": "2021-11-16T11:02:49.353Z"
   },
   {
    "duration": 3,
    "start_time": "2021-11-16T11:03:07.835Z"
   },
   {
    "duration": 3,
    "start_time": "2021-11-16T11:03:07.953Z"
   },
   {
    "duration": 112,
    "start_time": "2021-11-16T11:07:52.072Z"
   },
   {
    "duration": 187,
    "start_time": "2021-11-16T11:09:23.468Z"
   },
   {
    "duration": 4,
    "start_time": "2021-11-16T11:10:01.455Z"
   },
   {
    "duration": 3,
    "start_time": "2021-11-16T11:10:05.069Z"
   },
   {
    "duration": 4,
    "start_time": "2021-11-16T11:10:13.376Z"
   },
   {
    "duration": 3,
    "start_time": "2021-11-16T11:10:14.434Z"
   },
   {
    "duration": 3,
    "start_time": "2021-11-16T11:10:22.853Z"
   },
   {
    "duration": 4,
    "start_time": "2021-11-16T11:27:29.279Z"
   },
   {
    "duration": 4,
    "start_time": "2021-11-16T11:29:08.919Z"
   },
   {
    "duration": 118,
    "start_time": "2021-11-16T11:29:46.703Z"
   },
   {
    "duration": 437,
    "start_time": "2021-11-16T11:36:02.181Z"
   },
   {
    "duration": 157,
    "start_time": "2021-11-16T11:36:14.388Z"
   },
   {
    "duration": 207,
    "start_time": "2021-11-16T11:47:15.898Z"
   },
   {
    "duration": 3,
    "start_time": "2021-11-16T11:53:52.092Z"
   },
   {
    "duration": 3,
    "start_time": "2021-11-16T11:53:52.236Z"
   },
   {
    "duration": 3,
    "start_time": "2021-11-16T11:59:12.005Z"
   },
   {
    "duration": 112,
    "start_time": "2021-11-16T12:00:33.446Z"
   },
   {
    "duration": 3,
    "start_time": "2021-11-16T12:02:14.453Z"
   },
   {
    "duration": 3,
    "start_time": "2021-11-16T12:02:39.512Z"
   },
   {
    "duration": 106,
    "start_time": "2021-11-16T12:03:03.460Z"
   },
   {
    "duration": 3,
    "start_time": "2021-11-17T20:37:21.139Z"
   },
   {
    "duration": 3,
    "start_time": "2021-11-17T20:37:22.229Z"
   },
   {
    "duration": 3,
    "start_time": "2021-11-17T20:38:38.806Z"
   },
   {
    "duration": 3,
    "start_time": "2021-11-17T20:38:41.958Z"
   },
   {
    "duration": 3,
    "start_time": "2021-11-17T20:43:46.551Z"
   },
   {
    "duration": 4,
    "start_time": "2021-11-17T20:58:21.835Z"
   },
   {
    "duration": 3,
    "start_time": "2021-11-17T20:59:21.872Z"
   },
   {
    "duration": 4,
    "start_time": "2021-11-17T20:59:45.352Z"
   },
   {
    "duration": 4,
    "start_time": "2021-11-17T20:59:49.646Z"
   },
   {
    "duration": 159,
    "start_time": "2021-11-17T21:02:26.949Z"
   },
   {
    "duration": 3,
    "start_time": "2021-11-17T21:03:53.461Z"
   },
   {
    "duration": 3,
    "start_time": "2021-11-17T21:03:53.694Z"
   },
   {
    "duration": 3,
    "start_time": "2021-11-17T21:05:28.145Z"
   },
   {
    "duration": 116,
    "start_time": "2021-11-17T21:05:57.787Z"
   },
   {
    "duration": 3,
    "start_time": "2021-11-17T21:06:37.993Z"
   },
   {
    "duration": 3,
    "start_time": "2021-11-17T21:06:38.261Z"
   },
   {
    "duration": 3,
    "start_time": "2021-11-17T21:11:54.358Z"
   },
   {
    "duration": 3,
    "start_time": "2021-11-17T21:12:43.846Z"
   },
   {
    "duration": 4,
    "start_time": "2021-11-17T21:13:08.773Z"
   },
   {
    "duration": 3,
    "start_time": "2021-11-17T21:14:44.441Z"
   },
   {
    "duration": 3,
    "start_time": "2021-11-17T21:15:42.059Z"
   },
   {
    "duration": 4,
    "start_time": "2021-11-17T21:15:51.995Z"
   },
   {
    "duration": 3,
    "start_time": "2021-11-17T21:15:53.923Z"
   },
   {
    "duration": 3,
    "start_time": "2021-11-17T21:15:55.282Z"
   },
   {
    "duration": 3,
    "start_time": "2021-11-17T21:16:28.492Z"
   },
   {
    "duration": 3,
    "start_time": "2021-11-17T21:16:32.603Z"
   },
   {
    "duration": 3,
    "start_time": "2021-11-17T21:17:06.941Z"
   },
   {
    "duration": 98,
    "start_time": "2021-11-17T21:18:05.733Z"
   },
   {
    "duration": 4,
    "start_time": "2021-11-17T21:21:35.255Z"
   },
   {
    "duration": 3,
    "start_time": "2021-11-17T21:21:37.804Z"
   },
   {
    "duration": 4,
    "start_time": "2021-11-17T21:23:06.071Z"
   },
   {
    "duration": 3,
    "start_time": "2021-11-17T21:23:24.799Z"
   },
   {
    "duration": 3,
    "start_time": "2021-11-17T21:23:32.591Z"
   },
   {
    "duration": 98,
    "start_time": "2021-11-17T21:28:31.559Z"
   },
   {
    "duration": 3,
    "start_time": "2021-11-17T21:28:45.448Z"
   },
   {
    "duration": 3,
    "start_time": "2021-11-17T21:29:17.303Z"
   },
   {
    "duration": 3,
    "start_time": "2021-11-17T21:29:29.617Z"
   },
   {
    "duration": 3,
    "start_time": "2021-11-17T21:29:32.681Z"
   },
   {
    "duration": 3,
    "start_time": "2021-11-17T21:36:11.474Z"
   },
   {
    "duration": 3,
    "start_time": "2021-11-17T21:36:14.791Z"
   },
   {
    "duration": 3,
    "start_time": "2021-11-17T21:36:53.943Z"
   },
   {
    "duration": 3,
    "start_time": "2021-11-17T21:36:56.165Z"
   },
   {
    "duration": 4,
    "start_time": "2021-11-17T21:37:16.590Z"
   },
   {
    "duration": 3,
    "start_time": "2021-11-17T21:37:22.702Z"
   },
   {
    "duration": 4,
    "start_time": "2021-11-17T21:38:03.479Z"
   },
   {
    "duration": 3,
    "start_time": "2021-11-17T21:38:08.601Z"
   },
   {
    "duration": 3,
    "start_time": "2021-11-17T21:38:12.928Z"
   },
   {
    "duration": 3,
    "start_time": "2021-11-17T21:38:48.896Z"
   },
   {
    "duration": 2,
    "start_time": "2021-11-17T21:38:49.171Z"
   },
   {
    "duration": 4,
    "start_time": "2021-11-17T21:39:57.889Z"
   },
   {
    "duration": 3,
    "start_time": "2021-11-17T21:39:58.057Z"
   },
   {
    "duration": 3,
    "start_time": "2021-11-17T21:41:20.108Z"
   },
   {
    "duration": 3,
    "start_time": "2021-11-17T21:41:20.629Z"
   },
   {
    "duration": 3,
    "start_time": "2021-11-17T21:42:49.136Z"
   },
   {
    "duration": 3,
    "start_time": "2021-11-17T21:43:15.137Z"
   },
   {
    "duration": 4,
    "start_time": "2021-11-17T21:43:16.766Z"
   },
   {
    "duration": 4,
    "start_time": "2021-11-17T21:43:31.711Z"
   },
   {
    "duration": 3,
    "start_time": "2021-11-17T21:43:36.312Z"
   },
   {
    "duration": 4,
    "start_time": "2021-11-17T21:45:08.825Z"
   },
   {
    "duration": 4,
    "start_time": "2021-11-17T21:45:10.119Z"
   },
   {
    "duration": 4,
    "start_time": "2021-11-17T21:45:13.748Z"
   },
   {
    "duration": 3,
    "start_time": "2021-11-17T21:45:22.219Z"
   },
   {
    "duration": 3,
    "start_time": "2021-11-17T21:45:33.412Z"
   },
   {
    "duration": 2,
    "start_time": "2021-11-17T21:46:01.885Z"
   },
   {
    "duration": 3,
    "start_time": "2021-11-17T21:46:03.628Z"
   },
   {
    "duration": 107,
    "start_time": "2021-11-17T21:47:32.512Z"
   },
   {
    "duration": 103,
    "start_time": "2021-11-17T21:50:36.243Z"
   },
   {
    "duration": 3,
    "start_time": "2021-11-18T06:28:31.440Z"
   },
   {
    "duration": 3,
    "start_time": "2021-11-18T06:29:00.168Z"
   },
   {
    "duration": 3,
    "start_time": "2021-11-18T06:31:27.008Z"
   },
   {
    "duration": 2,
    "start_time": "2021-11-18T06:35:34.288Z"
   },
   {
    "duration": 2,
    "start_time": "2021-11-18T06:38:04.527Z"
   },
   {
    "duration": 2636,
    "start_time": "2025-01-25T23:23:31.563Z"
   },
   {
    "duration": 227,
    "start_time": "2025-01-25T23:23:38.156Z"
   },
   {
    "duration": 388,
    "start_time": "2025-01-25T23:25:48.218Z"
   },
   {
    "duration": 3,
    "start_time": "2025-01-25T23:26:27.870Z"
   },
   {
    "duration": 62,
    "start_time": "2025-01-25T23:26:30.600Z"
   },
   {
    "duration": 63,
    "start_time": "2025-01-25T23:27:19.080Z"
   },
   {
    "duration": 95,
    "start_time": "2025-01-25T23:27:59.328Z"
   },
   {
    "duration": 79,
    "start_time": "2025-01-25T23:28:17.263Z"
   },
   {
    "duration": 71,
    "start_time": "2025-01-25T23:28:47.751Z"
   },
   {
    "duration": 72,
    "start_time": "2025-01-25T23:29:00.278Z"
   },
   {
    "duration": 192,
    "start_time": "2025-01-25T23:32:46.114Z"
   },
   {
    "duration": 171,
    "start_time": "2025-01-25T23:34:00.578Z"
   },
   {
    "duration": 169,
    "start_time": "2025-01-25T23:34:17.822Z"
   },
   {
    "duration": 171,
    "start_time": "2025-01-25T23:34:24.850Z"
   },
   {
    "duration": 163,
    "start_time": "2025-01-25T23:34:34.500Z"
   },
   {
    "duration": 170,
    "start_time": "2025-01-25T23:35:26.311Z"
   },
   {
    "duration": 163,
    "start_time": "2025-01-25T23:35:51.351Z"
   },
   {
    "duration": 174,
    "start_time": "2025-01-25T23:36:04.549Z"
   },
   {
    "duration": 17,
    "start_time": "2025-01-25T23:36:33.255Z"
   },
   {
    "duration": 20,
    "start_time": "2025-01-25T23:37:15.020Z"
   },
   {
    "duration": 20,
    "start_time": "2025-01-25T23:37:45.998Z"
   },
   {
    "duration": 22,
    "start_time": "2025-01-25T23:37:55.940Z"
   },
   {
    "duration": 26,
    "start_time": "2025-01-25T23:38:18.355Z"
   },
   {
    "duration": 8,
    "start_time": "2025-01-25T23:38:50.600Z"
   },
   {
    "duration": 235,
    "start_time": "2025-01-25T23:38:58.485Z"
   },
   {
    "duration": 8,
    "start_time": "2025-01-25T23:39:02.767Z"
   },
   {
    "duration": 8,
    "start_time": "2025-01-25T23:39:53.925Z"
   },
   {
    "duration": 14,
    "start_time": "2025-01-25T23:47:00.355Z"
   },
   {
    "duration": 5,
    "start_time": "2025-01-25T23:47:17.888Z"
   },
   {
    "duration": 159,
    "start_time": "2025-01-26T17:06:39.987Z"
   },
   {
    "duration": 2415,
    "start_time": "2025-01-26T17:06:44.392Z"
   },
   {
    "duration": 209,
    "start_time": "2025-01-26T17:06:49.505Z"
   },
   {
    "duration": 22,
    "start_time": "2025-01-26T17:07:19.226Z"
   },
   {
    "duration": 17,
    "start_time": "2025-01-26T17:08:58.554Z"
   },
   {
    "duration": 20,
    "start_time": "2025-01-26T17:09:10.187Z"
   },
   {
    "duration": 7,
    "start_time": "2025-01-26T17:09:20.182Z"
   },
   {
    "duration": 157,
    "start_time": "2025-01-26T17:12:38.469Z"
   },
   {
    "duration": 5,
    "start_time": "2025-01-26T17:12:43.647Z"
   },
   {
    "duration": 148,
    "start_time": "2025-01-26T17:13:08.626Z"
   },
   {
    "duration": 7,
    "start_time": "2025-01-26T17:13:12.849Z"
   },
   {
    "duration": 4,
    "start_time": "2025-01-26T17:13:18.087Z"
   },
   {
    "duration": 8,
    "start_time": "2025-01-26T17:18:31.424Z"
   },
   {
    "duration": 70,
    "start_time": "2025-01-26T17:18:55.824Z"
   },
   {
    "duration": 11,
    "start_time": "2025-01-26T17:19:01.315Z"
   },
   {
    "duration": 13,
    "start_time": "2025-01-26T17:19:37.115Z"
   },
   {
    "duration": 8,
    "start_time": "2025-01-26T17:20:13.324Z"
   },
   {
    "duration": 8,
    "start_time": "2025-01-26T17:21:06.844Z"
   },
   {
    "duration": 8,
    "start_time": "2025-01-26T17:21:22.927Z"
   },
   {
    "duration": 13,
    "start_time": "2025-01-26T17:25:34.873Z"
   },
   {
    "duration": 399,
    "start_time": "2025-01-26T17:26:14.292Z"
   },
   {
    "duration": 12,
    "start_time": "2025-01-26T17:27:10.936Z"
   },
   {
    "duration": 3,
    "start_time": "2025-01-26T17:27:30.764Z"
   },
   {
    "duration": 8,
    "start_time": "2025-01-26T17:27:52.725Z"
   },
   {
    "duration": 9,
    "start_time": "2025-01-26T17:28:15.743Z"
   },
   {
    "duration": 9,
    "start_time": "2025-01-26T17:28:22.077Z"
   },
   {
    "duration": 9,
    "start_time": "2025-01-26T17:28:48.558Z"
   },
   {
    "duration": 13,
    "start_time": "2025-01-26T17:32:04.371Z"
   },
   {
    "duration": 3,
    "start_time": "2025-01-26T17:33:13.936Z"
   },
   {
    "duration": 159,
    "start_time": "2025-01-26T17:33:15.656Z"
   },
   {
    "duration": 8,
    "start_time": "2025-01-26T17:33:17.423Z"
   },
   {
    "duration": 4,
    "start_time": "2025-01-26T17:33:17.864Z"
   },
   {
    "duration": 12,
    "start_time": "2025-01-26T17:33:23.657Z"
   },
   {
    "duration": 9,
    "start_time": "2025-01-26T17:33:25.872Z"
   },
   {
    "duration": 13,
    "start_time": "2025-01-26T17:33:32.176Z"
   },
   {
    "duration": 13,
    "start_time": "2025-01-26T17:34:48.242Z"
   },
   {
    "duration": 14,
    "start_time": "2025-01-26T17:34:54.055Z"
   },
   {
    "duration": 12,
    "start_time": "2025-01-26T17:35:29.005Z"
   },
   {
    "duration": 13,
    "start_time": "2025-01-26T17:35:40.314Z"
   },
   {
    "duration": 5,
    "start_time": "2025-01-26T17:36:36.905Z"
   },
   {
    "duration": 5,
    "start_time": "2025-01-26T17:40:43.624Z"
   },
   {
    "duration": 4,
    "start_time": "2025-01-26T17:40:48.465Z"
   },
   {
    "duration": 21,
    "start_time": "2025-01-26T17:41:02.883Z"
   },
   {
    "duration": 17,
    "start_time": "2025-01-26T17:41:09.035Z"
   },
   {
    "duration": 42,
    "start_time": "2025-01-26T17:41:40.067Z"
   },
   {
    "duration": 42,
    "start_time": "2025-01-26T17:41:52.786Z"
   },
   {
    "duration": 16,
    "start_time": "2025-01-26T17:42:18.503Z"
   },
   {
    "duration": 4,
    "start_time": "2025-01-26T17:43:02.840Z"
   },
   {
    "duration": 15,
    "start_time": "2025-01-26T17:43:07.463Z"
   },
   {
    "duration": 15,
    "start_time": "2025-01-26T17:43:13.193Z"
   },
   {
    "duration": 42,
    "start_time": "2025-01-26T17:50:51.932Z"
   },
   {
    "duration": 44,
    "start_time": "2025-01-26T17:51:25.604Z"
   },
   {
    "duration": 8,
    "start_time": "2025-01-26T17:58:05.877Z"
   },
   {
    "duration": 10,
    "start_time": "2025-01-26T17:58:14.725Z"
   },
   {
    "duration": 9,
    "start_time": "2025-01-26T18:00:58.455Z"
   },
   {
    "duration": 2,
    "start_time": "2025-01-26T18:01:02.668Z"
   },
   {
    "duration": 9,
    "start_time": "2025-01-26T18:01:06.375Z"
   },
   {
    "duration": 13,
    "start_time": "2025-01-26T18:01:09.956Z"
   },
   {
    "duration": 12,
    "start_time": "2025-01-26T18:06:12.942Z"
   },
   {
    "duration": 11,
    "start_time": "2025-01-26T18:06:18.980Z"
   },
   {
    "duration": 8,
    "start_time": "2025-01-26T18:06:42.264Z"
   },
   {
    "duration": 8,
    "start_time": "2025-01-26T18:06:48.100Z"
   },
   {
    "duration": 158,
    "start_time": "2025-01-26T18:07:03.118Z"
   },
   {
    "duration": 10,
    "start_time": "2025-01-26T18:07:10.642Z"
   },
   {
    "duration": 15,
    "start_time": "2025-01-26T18:07:45.745Z"
   },
   {
    "duration": 11,
    "start_time": "2025-01-26T18:08:12.471Z"
   },
   {
    "duration": 12,
    "start_time": "2025-01-26T18:09:04.759Z"
   },
   {
    "duration": 10,
    "start_time": "2025-01-26T18:09:33.862Z"
   },
   {
    "duration": 13,
    "start_time": "2025-01-26T18:13:58.433Z"
   },
   {
    "duration": 9,
    "start_time": "2025-01-26T18:14:14.019Z"
   },
   {
    "duration": 3,
    "start_time": "2025-01-26T18:14:27.266Z"
   },
   {
    "duration": 150,
    "start_time": "2025-01-26T18:14:28.960Z"
   },
   {
    "duration": 7,
    "start_time": "2025-01-26T18:14:31.470Z"
   },
   {
    "duration": 4,
    "start_time": "2025-01-26T18:14:32.120Z"
   },
   {
    "duration": 11,
    "start_time": "2025-01-26T18:14:38.021Z"
   },
   {
    "duration": 9,
    "start_time": "2025-01-26T18:14:51.657Z"
   },
   {
    "duration": 9,
    "start_time": "2025-01-26T18:17:45.927Z"
   },
   {
    "duration": 14,
    "start_time": "2025-01-26T18:34:51.091Z"
   },
   {
    "duration": 372,
    "start_time": "2025-01-26T18:35:07.883Z"
   },
   {
    "duration": 40,
    "start_time": "2025-01-26T18:35:24.311Z"
   },
   {
    "duration": 13,
    "start_time": "2025-01-26T18:35:33.250Z"
   },
   {
    "duration": 9,
    "start_time": "2025-01-26T18:35:56.869Z"
   },
   {
    "duration": 106,
    "start_time": "2025-01-26T18:36:16.489Z"
   },
   {
    "duration": 2443,
    "start_time": "2025-01-26T20:13:52.507Z"
   },
   {
    "duration": 216,
    "start_time": "2025-01-26T20:13:58.981Z"
   },
   {
    "duration": 10,
    "start_time": "2025-01-26T20:14:01.204Z"
   },
   {
    "duration": 4,
    "start_time": "2025-01-26T20:14:08.029Z"
   },
   {
    "duration": 7,
    "start_time": "2025-01-26T20:14:27.023Z"
   },
   {
    "duration": 9,
    "start_time": "2025-01-26T20:14:32.646Z"
   },
   {
    "duration": 10,
    "start_time": "2025-01-26T20:14:35.465Z"
   },
   {
    "duration": 14,
    "start_time": "2025-01-26T20:14:39.948Z"
   },
   {
    "duration": 17,
    "start_time": "2025-01-26T20:16:38.770Z"
   },
   {
    "duration": 17,
    "start_time": "2025-01-26T20:16:48.746Z"
   },
   {
    "duration": 10,
    "start_time": "2025-01-26T20:16:59.201Z"
   },
   {
    "duration": 10,
    "start_time": "2025-01-26T20:17:05.242Z"
   },
   {
    "duration": 10,
    "start_time": "2025-01-26T20:17:10.118Z"
   },
   {
    "duration": 10,
    "start_time": "2025-01-26T20:17:34.099Z"
   },
   {
    "duration": 12,
    "start_time": "2025-01-26T20:17:37.607Z"
   },
   {
    "duration": 12,
    "start_time": "2025-01-26T20:17:51.837Z"
   },
   {
    "duration": 9,
    "start_time": "2025-01-26T20:17:55.760Z"
   },
   {
    "duration": 8,
    "start_time": "2025-01-26T20:18:41.022Z"
   },
   {
    "duration": 141,
    "start_time": "2025-01-26T20:24:57.122Z"
   },
   {
    "duration": 29,
    "start_time": "2025-01-26T20:25:10.599Z"
   },
   {
    "duration": 118,
    "start_time": "2025-01-26T20:25:22.550Z"
   },
   {
    "duration": 24,
    "start_time": "2025-01-26T20:33:15.119Z"
   },
   {
    "duration": 9,
    "start_time": "2025-01-26T20:33:30.299Z"
   },
   {
    "duration": 37,
    "start_time": "2025-01-26T20:34:39.018Z"
   },
   {
    "duration": 26,
    "start_time": "2025-01-26T20:34:47.589Z"
   },
   {
    "duration": 5,
    "start_time": "2025-01-26T20:34:50.209Z"
   },
   {
    "duration": 201,
    "start_time": "2025-01-26T20:35:26.926Z"
   },
   {
    "duration": 2,
    "start_time": "2025-01-26T20:35:33.465Z"
   },
   {
    "duration": 159,
    "start_time": "2025-01-26T20:35:34.203Z"
   },
   {
    "duration": 7,
    "start_time": "2025-01-26T20:35:35.077Z"
   },
   {
    "duration": 8,
    "start_time": "2025-01-26T20:35:35.295Z"
   },
   {
    "duration": 11,
    "start_time": "2025-01-26T20:35:37.485Z"
   },
   {
    "duration": 10,
    "start_time": "2025-01-26T20:35:37.716Z"
   },
   {
    "duration": 11,
    "start_time": "2025-01-26T20:35:49.342Z"
   },
   {
    "duration": 10,
    "start_time": "2025-01-26T20:35:51.348Z"
   },
   {
    "duration": 15,
    "start_time": "2025-01-26T20:35:52.809Z"
   },
   {
    "duration": 10,
    "start_time": "2025-01-26T20:35:54.514Z"
   },
   {
    "duration": 12,
    "start_time": "2025-01-26T20:36:02.095Z"
   },
   {
    "duration": 8,
    "start_time": "2025-01-26T20:36:03.533Z"
   },
   {
    "duration": 28,
    "start_time": "2025-01-26T20:36:30.643Z"
   },
   {
    "duration": 7,
    "start_time": "2025-01-26T20:36:33.202Z"
   },
   {
    "duration": 7,
    "start_time": "2025-01-26T20:38:58.246Z"
   },
   {
    "duration": 871,
    "start_time": "2025-01-26T20:39:01.406Z"
   },
   {
    "duration": 3,
    "start_time": "2025-01-26T20:39:22.318Z"
   },
   {
    "duration": 156,
    "start_time": "2025-01-26T20:39:22.326Z"
   },
   {
    "duration": 7,
    "start_time": "2025-01-26T20:39:22.484Z"
   },
   {
    "duration": 7,
    "start_time": "2025-01-26T20:39:22.492Z"
   },
   {
    "duration": 24,
    "start_time": "2025-01-26T20:39:22.501Z"
   },
   {
    "duration": 10,
    "start_time": "2025-01-26T20:39:22.527Z"
   },
   {
    "duration": 10,
    "start_time": "2025-01-26T20:39:22.538Z"
   },
   {
    "duration": 8,
    "start_time": "2025-01-26T20:39:22.549Z"
   },
   {
    "duration": 14,
    "start_time": "2025-01-26T20:39:22.559Z"
   },
   {
    "duration": 10,
    "start_time": "2025-01-26T20:39:22.575Z"
   },
   {
    "duration": 45,
    "start_time": "2025-01-26T20:39:22.588Z"
   },
   {
    "duration": 8,
    "start_time": "2025-01-26T20:39:22.635Z"
   },
   {
    "duration": 30,
    "start_time": "2025-01-26T20:39:22.645Z"
   },
   {
    "duration": 8,
    "start_time": "2025-01-26T20:39:22.677Z"
   },
   {
    "duration": 2,
    "start_time": "2025-01-26T20:39:22.686Z"
   },
   {
    "duration": 33,
    "start_time": "2025-01-26T20:39:22.690Z"
   },
   {
    "duration": 2,
    "start_time": "2025-01-26T20:39:22.725Z"
   },
   {
    "duration": 3,
    "start_time": "2025-01-26T20:39:22.729Z"
   },
   {
    "duration": 3,
    "start_time": "2025-01-26T20:39:22.733Z"
   },
   {
    "duration": 2,
    "start_time": "2025-01-26T20:39:22.738Z"
   },
   {
    "duration": 3,
    "start_time": "2025-01-26T20:39:22.742Z"
   },
   {
    "duration": 4,
    "start_time": "2025-01-26T20:39:22.746Z"
   },
   {
    "duration": 3,
    "start_time": "2025-01-26T20:39:22.751Z"
   },
   {
    "duration": 3,
    "start_time": "2025-01-26T20:39:22.755Z"
   },
   {
    "duration": 2,
    "start_time": "2025-01-26T20:39:22.760Z"
   },
   {
    "duration": 3,
    "start_time": "2025-01-26T20:39:22.764Z"
   },
   {
    "duration": 3,
    "start_time": "2025-01-26T20:39:22.769Z"
   },
   {
    "duration": 2,
    "start_time": "2025-01-26T20:39:22.774Z"
   },
   {
    "duration": 2,
    "start_time": "2025-01-26T20:39:22.826Z"
   },
   {
    "duration": 3,
    "start_time": "2025-01-26T20:39:22.830Z"
   },
   {
    "duration": 2,
    "start_time": "2025-01-26T20:39:22.835Z"
   },
   {
    "duration": 2,
    "start_time": "2025-01-26T20:39:22.839Z"
   },
   {
    "duration": 15,
    "start_time": "2025-01-26T20:40:08.883Z"
   },
   {
    "duration": 15,
    "start_time": "2025-01-26T20:40:18.254Z"
   },
   {
    "duration": 10,
    "start_time": "2025-01-26T20:40:40.268Z"
   },
   {
    "duration": 11,
    "start_time": "2025-01-26T20:41:02.644Z"
   },
   {
    "duration": 2,
    "start_time": "2025-01-26T20:42:24.069Z"
   },
   {
    "duration": 149,
    "start_time": "2025-01-26T20:42:24.083Z"
   },
   {
    "duration": 7,
    "start_time": "2025-01-26T20:42:24.234Z"
   },
   {
    "duration": 7,
    "start_time": "2025-01-26T20:42:24.242Z"
   },
   {
    "duration": 7,
    "start_time": "2025-01-26T20:42:24.251Z"
   },
   {
    "duration": 9,
    "start_time": "2025-01-26T20:42:24.474Z"
   },
   {
    "duration": 10,
    "start_time": "2025-01-26T20:42:24.485Z"
   },
   {
    "duration": 8,
    "start_time": "2025-01-26T20:42:24.497Z"
   },
   {
    "duration": 16,
    "start_time": "2025-01-26T20:42:24.506Z"
   },
   {
    "duration": 10,
    "start_time": "2025-01-26T20:42:24.524Z"
   },
   {
    "duration": 10,
    "start_time": "2025-01-26T20:42:24.536Z"
   },
   {
    "duration": 7,
    "start_time": "2025-01-26T20:42:24.548Z"
   },
   {
    "duration": 25,
    "start_time": "2025-01-26T20:42:24.556Z"
   },
   {
    "duration": 9,
    "start_time": "2025-01-26T20:42:24.582Z"
   },
   {
    "duration": 2,
    "start_time": "2025-01-26T20:42:24.593Z"
   },
   {
    "duration": 2,
    "start_time": "2025-01-26T20:42:24.624Z"
   },
   {
    "duration": 2,
    "start_time": "2025-01-26T20:42:24.810Z"
   },
   {
    "duration": 3,
    "start_time": "2025-01-26T20:42:24.814Z"
   },
   {
    "duration": 3,
    "start_time": "2025-01-26T20:42:24.818Z"
   },
   {
    "duration": 2,
    "start_time": "2025-01-26T20:42:24.823Z"
   },
   {
    "duration": 2,
    "start_time": "2025-01-26T20:42:24.827Z"
   },
   {
    "duration": 3,
    "start_time": "2025-01-26T20:42:24.831Z"
   },
   {
    "duration": 2,
    "start_time": "2025-01-26T20:42:24.836Z"
   },
   {
    "duration": 2,
    "start_time": "2025-01-26T20:42:24.840Z"
   },
   {
    "duration": 3,
    "start_time": "2025-01-26T20:42:24.844Z"
   },
   {
    "duration": 2,
    "start_time": "2025-01-26T20:42:24.849Z"
   },
   {
    "duration": 2,
    "start_time": "2025-01-26T20:42:24.853Z"
   },
   {
    "duration": 3,
    "start_time": "2025-01-26T20:42:24.863Z"
   },
   {
    "duration": 2,
    "start_time": "2025-01-26T20:42:24.868Z"
   },
   {
    "duration": 3,
    "start_time": "2025-01-26T20:42:24.872Z"
   },
   {
    "duration": 2,
    "start_time": "2025-01-26T20:42:24.877Z"
   },
   {
    "duration": 2,
    "start_time": "2025-01-26T20:42:24.924Z"
   },
   {
    "duration": 8,
    "start_time": "2025-01-26T20:42:36.749Z"
   },
   {
    "duration": 2532,
    "start_time": "2025-01-27T17:33:36.782Z"
   },
   {
    "duration": 219,
    "start_time": "2025-01-27T17:33:39.316Z"
   },
   {
    "duration": 10,
    "start_time": "2025-01-27T17:33:39.537Z"
   },
   {
    "duration": 7,
    "start_time": "2025-01-27T17:33:39.549Z"
   },
   {
    "duration": 9,
    "start_time": "2025-01-27T17:33:39.559Z"
   },
   {
    "duration": 10,
    "start_time": "2025-01-27T17:33:39.569Z"
   },
   {
    "duration": 11,
    "start_time": "2025-01-27T17:33:39.580Z"
   },
   {
    "duration": 9,
    "start_time": "2025-01-27T17:33:39.592Z"
   },
   {
    "duration": 43,
    "start_time": "2025-01-27T17:33:39.602Z"
   },
   {
    "duration": 12,
    "start_time": "2025-01-27T17:33:39.647Z"
   },
   {
    "duration": 12,
    "start_time": "2025-01-27T17:33:39.660Z"
   },
   {
    "duration": 8,
    "start_time": "2025-01-27T17:33:39.673Z"
   },
   {
    "duration": 26,
    "start_time": "2025-01-27T17:33:39.682Z"
   },
   {
    "duration": 33,
    "start_time": "2025-01-27T17:33:39.712Z"
   },
   {
    "duration": 2,
    "start_time": "2025-01-27T17:33:39.747Z"
   },
   {
    "duration": 2,
    "start_time": "2025-01-27T17:33:39.751Z"
   },
   {
    "duration": 3,
    "start_time": "2025-01-27T17:33:39.754Z"
   },
   {
    "duration": 3,
    "start_time": "2025-01-27T17:33:39.759Z"
   },
   {
    "duration": 3,
    "start_time": "2025-01-27T17:33:39.764Z"
   },
   {
    "duration": 4,
    "start_time": "2025-01-27T17:33:39.768Z"
   },
   {
    "duration": 2,
    "start_time": "2025-01-27T17:33:39.774Z"
   },
   {
    "duration": 3,
    "start_time": "2025-01-27T17:33:39.778Z"
   },
   {
    "duration": 3,
    "start_time": "2025-01-27T17:33:39.782Z"
   },
   {
    "duration": 3,
    "start_time": "2025-01-27T17:33:39.786Z"
   },
   {
    "duration": 3,
    "start_time": "2025-01-27T17:33:39.791Z"
   },
   {
    "duration": 48,
    "start_time": "2025-01-27T17:33:39.795Z"
   },
   {
    "duration": 3,
    "start_time": "2025-01-27T17:33:39.844Z"
   },
   {
    "duration": 4,
    "start_time": "2025-01-27T17:33:39.848Z"
   },
   {
    "duration": 3,
    "start_time": "2025-01-27T17:33:39.853Z"
   },
   {
    "duration": 4,
    "start_time": "2025-01-27T17:33:39.858Z"
   },
   {
    "duration": 3,
    "start_time": "2025-01-27T17:33:39.863Z"
   },
   {
    "duration": 2,
    "start_time": "2025-01-27T17:33:39.868Z"
   },
   {
    "duration": 15,
    "start_time": "2025-01-27T17:34:04.525Z"
   },
   {
    "duration": 214,
    "start_time": "2025-01-27T17:34:57.442Z"
   },
   {
    "duration": 10,
    "start_time": "2025-01-27T17:35:08.689Z"
   },
   {
    "duration": 2,
    "start_time": "2025-01-27T17:42:33.100Z"
   },
   {
    "duration": 157,
    "start_time": "2025-01-27T17:42:33.105Z"
   },
   {
    "duration": 7,
    "start_time": "2025-01-27T17:42:33.264Z"
   },
   {
    "duration": 7,
    "start_time": "2025-01-27T17:42:33.272Z"
   },
   {
    "duration": 7,
    "start_time": "2025-01-27T17:42:33.282Z"
   },
   {
    "duration": 10,
    "start_time": "2025-01-27T17:42:33.291Z"
   },
   {
    "duration": 681,
    "start_time": "2025-01-27T17:42:33.302Z"
   },
   {
    "duration": 0,
    "start_time": "2025-01-27T17:42:33.986Z"
   },
   {
    "duration": 0,
    "start_time": "2025-01-27T17:42:33.987Z"
   },
   {
    "duration": 0,
    "start_time": "2025-01-27T17:42:33.989Z"
   },
   {
    "duration": 0,
    "start_time": "2025-01-27T17:42:33.990Z"
   },
   {
    "duration": 1,
    "start_time": "2025-01-27T17:42:33.991Z"
   },
   {
    "duration": 0,
    "start_time": "2025-01-27T17:42:33.993Z"
   },
   {
    "duration": 0,
    "start_time": "2025-01-27T17:42:33.994Z"
   },
   {
    "duration": 0,
    "start_time": "2025-01-27T17:42:33.996Z"
   },
   {
    "duration": 0,
    "start_time": "2025-01-27T17:42:33.997Z"
   },
   {
    "duration": 0,
    "start_time": "2025-01-27T17:42:33.998Z"
   },
   {
    "duration": 0,
    "start_time": "2025-01-27T17:42:33.999Z"
   },
   {
    "duration": 0,
    "start_time": "2025-01-27T17:42:34.000Z"
   },
   {
    "duration": 0,
    "start_time": "2025-01-27T17:42:34.001Z"
   },
   {
    "duration": 1,
    "start_time": "2025-01-27T17:42:34.002Z"
   },
   {
    "duration": 0,
    "start_time": "2025-01-27T17:42:34.004Z"
   },
   {
    "duration": 0,
    "start_time": "2025-01-27T17:42:34.004Z"
   },
   {
    "duration": 0,
    "start_time": "2025-01-27T17:42:34.005Z"
   },
   {
    "duration": 0,
    "start_time": "2025-01-27T17:42:34.006Z"
   },
   {
    "duration": 0,
    "start_time": "2025-01-27T17:42:34.043Z"
   },
   {
    "duration": 0,
    "start_time": "2025-01-27T17:42:34.044Z"
   },
   {
    "duration": 0,
    "start_time": "2025-01-27T17:42:34.045Z"
   },
   {
    "duration": 0,
    "start_time": "2025-01-27T17:42:34.047Z"
   },
   {
    "duration": 1,
    "start_time": "2025-01-27T17:42:34.048Z"
   },
   {
    "duration": 0,
    "start_time": "2025-01-27T17:42:34.050Z"
   },
   {
    "duration": 0,
    "start_time": "2025-01-27T17:42:34.051Z"
   },
   {
    "duration": 14,
    "start_time": "2025-01-27T17:43:20.637Z"
   },
   {
    "duration": 2,
    "start_time": "2025-01-27T17:43:26.325Z"
   },
   {
    "duration": 176,
    "start_time": "2025-01-27T17:43:26.329Z"
   },
   {
    "duration": 8,
    "start_time": "2025-01-27T17:43:26.507Z"
   },
   {
    "duration": 7,
    "start_time": "2025-01-27T17:43:26.517Z"
   },
   {
    "duration": 17,
    "start_time": "2025-01-27T17:43:26.527Z"
   },
   {
    "duration": 11,
    "start_time": "2025-01-27T17:43:26.546Z"
   },
   {
    "duration": 12,
    "start_time": "2025-01-27T17:43:26.558Z"
   },
   {
    "duration": 9,
    "start_time": "2025-01-27T17:43:26.575Z"
   },
   {
    "duration": 15,
    "start_time": "2025-01-27T17:43:26.585Z"
   },
   {
    "duration": 42,
    "start_time": "2025-01-27T17:43:26.602Z"
   },
   {
    "duration": 11,
    "start_time": "2025-01-27T17:43:26.645Z"
   },
   {
    "duration": 8,
    "start_time": "2025-01-27T17:43:26.658Z"
   },
   {
    "duration": 27,
    "start_time": "2025-01-27T17:43:26.667Z"
   },
   {
    "duration": 8,
    "start_time": "2025-01-27T17:43:26.698Z"
   },
   {
    "duration": 41,
    "start_time": "2025-01-27T17:43:26.708Z"
   },
   {
    "duration": 10,
    "start_time": "2025-01-27T17:43:26.751Z"
   },
   {
    "duration": 2,
    "start_time": "2025-01-27T17:43:26.763Z"
   },
   {
    "duration": 3,
    "start_time": "2025-01-27T17:43:26.767Z"
   },
   {
    "duration": 3,
    "start_time": "2025-01-27T17:43:26.771Z"
   },
   {
    "duration": 3,
    "start_time": "2025-01-27T17:43:26.776Z"
   },
   {
    "duration": 3,
    "start_time": "2025-01-27T17:43:26.780Z"
   },
   {
    "duration": 4,
    "start_time": "2025-01-27T17:43:26.785Z"
   },
   {
    "duration": 3,
    "start_time": "2025-01-27T17:43:26.790Z"
   },
   {
    "duration": 3,
    "start_time": "2025-01-27T17:43:26.795Z"
   },
   {
    "duration": 3,
    "start_time": "2025-01-27T17:43:26.799Z"
   },
   {
    "duration": 2,
    "start_time": "2025-01-27T17:43:26.843Z"
   },
   {
    "duration": 3,
    "start_time": "2025-01-27T17:43:26.846Z"
   },
   {
    "duration": 3,
    "start_time": "2025-01-27T17:43:26.851Z"
   },
   {
    "duration": 4,
    "start_time": "2025-01-27T17:43:26.855Z"
   },
   {
    "duration": 3,
    "start_time": "2025-01-27T17:43:26.861Z"
   },
   {
    "duration": 3,
    "start_time": "2025-01-27T17:43:26.865Z"
   },
   {
    "duration": 3,
    "start_time": "2025-01-27T17:43:26.870Z"
   },
   {
    "duration": 7,
    "start_time": "2025-01-27T17:44:53.219Z"
   },
   {
    "duration": 6,
    "start_time": "2025-01-27T17:45:39.678Z"
   },
   {
    "duration": 6,
    "start_time": "2025-01-27T17:45:48.338Z"
   },
   {
    "duration": 6,
    "start_time": "2025-01-27T17:45:54.817Z"
   },
   {
    "duration": 11,
    "start_time": "2025-01-27T17:46:35.537Z"
   },
   {
    "duration": 6,
    "start_time": "2025-01-27T17:46:44.697Z"
   },
   {
    "duration": 6,
    "start_time": "2025-01-27T17:46:51.218Z"
   },
   {
    "duration": 11,
    "start_time": "2025-01-27T17:47:12.362Z"
   },
   {
    "duration": 9,
    "start_time": "2025-01-27T17:47:42.738Z"
   },
   {
    "duration": 8,
    "start_time": "2025-01-27T17:48:59.622Z"
   },
   {
    "duration": 15,
    "start_time": "2025-01-27T17:49:14.332Z"
   },
   {
    "duration": 12,
    "start_time": "2025-01-27T17:49:17.503Z"
   },
   {
    "duration": 35,
    "start_time": "2025-01-27T17:50:56.824Z"
   },
   {
    "duration": 9,
    "start_time": "2025-01-27T17:51:05.951Z"
   },
   {
    "duration": 9,
    "start_time": "2025-01-27T17:51:10.084Z"
   },
   {
    "duration": 2586,
    "start_time": "2025-01-27T18:51:20.663Z"
   },
   {
    "duration": 268,
    "start_time": "2025-01-27T18:51:23.253Z"
   },
   {
    "duration": 13,
    "start_time": "2025-01-27T18:51:23.523Z"
   },
   {
    "duration": 12,
    "start_time": "2025-01-27T18:51:23.541Z"
   },
   {
    "duration": 10,
    "start_time": "2025-01-27T18:51:23.555Z"
   },
   {
    "duration": 9,
    "start_time": "2025-01-27T18:51:23.569Z"
   },
   {
    "duration": 11,
    "start_time": "2025-01-27T18:51:23.580Z"
   },
   {
    "duration": 22,
    "start_time": "2025-01-27T18:51:23.592Z"
   },
   {
    "duration": 21,
    "start_time": "2025-01-27T18:51:23.616Z"
   },
   {
    "duration": 14,
    "start_time": "2025-01-27T18:51:23.640Z"
   },
   {
    "duration": 15,
    "start_time": "2025-01-27T18:51:23.656Z"
   },
   {
    "duration": 37,
    "start_time": "2025-01-27T18:51:23.673Z"
   },
   {
    "duration": 29,
    "start_time": "2025-01-27T18:51:23.712Z"
   },
   {
    "duration": 17,
    "start_time": "2025-01-27T18:51:23.744Z"
   },
   {
    "duration": 16,
    "start_time": "2025-01-27T18:51:23.764Z"
   },
   {
    "duration": 28,
    "start_time": "2025-01-27T18:51:23.782Z"
   },
   {
    "duration": 28,
    "start_time": "2025-01-27T18:51:23.812Z"
   },
   {
    "duration": 11,
    "start_time": "2025-01-27T18:51:23.843Z"
   },
   {
    "duration": 3,
    "start_time": "2025-01-27T18:51:23.856Z"
   },
   {
    "duration": 3,
    "start_time": "2025-01-27T18:51:23.861Z"
   },
   {
    "duration": 3,
    "start_time": "2025-01-27T18:51:23.865Z"
   },
   {
    "duration": 3,
    "start_time": "2025-01-27T18:51:23.871Z"
   },
   {
    "duration": 34,
    "start_time": "2025-01-27T18:51:23.875Z"
   },
   {
    "duration": 3,
    "start_time": "2025-01-27T18:51:23.912Z"
   },
   {
    "duration": 3,
    "start_time": "2025-01-27T18:51:23.917Z"
   },
   {
    "duration": 4,
    "start_time": "2025-01-27T18:51:23.922Z"
   },
   {
    "duration": 3,
    "start_time": "2025-01-27T18:51:23.928Z"
   },
   {
    "duration": 2,
    "start_time": "2025-01-27T18:51:23.936Z"
   },
   {
    "duration": 3,
    "start_time": "2025-01-27T18:51:23.940Z"
   },
   {
    "duration": 3,
    "start_time": "2025-01-27T18:51:23.944Z"
   },
   {
    "duration": 3,
    "start_time": "2025-01-27T18:51:23.949Z"
   },
   {
    "duration": 3,
    "start_time": "2025-01-27T18:51:23.953Z"
   },
   {
    "duration": 3,
    "start_time": "2025-01-27T18:51:23.958Z"
   },
   {
    "duration": 2,
    "start_time": "2025-01-27T18:51:23.963Z"
   },
   {
    "duration": 239,
    "start_time": "2025-01-27T18:51:41.248Z"
   },
   {
    "duration": 10,
    "start_time": "2025-01-27T18:51:47.799Z"
   },
   {
    "duration": 720,
    "start_time": "2025-01-27T18:58:58.189Z"
   },
   {
    "duration": 3,
    "start_time": "2025-01-27T18:59:06.246Z"
   },
   {
    "duration": 187,
    "start_time": "2025-01-27T18:59:06.495Z"
   },
   {
    "duration": 9,
    "start_time": "2025-01-27T18:59:06.843Z"
   },
   {
    "duration": 10,
    "start_time": "2025-01-27T18:59:10.978Z"
   },
   {
    "duration": 10,
    "start_time": "2025-01-27T18:59:10.990Z"
   },
   {
    "duration": 13,
    "start_time": "2025-01-27T18:59:16.079Z"
   },
   {
    "duration": 25,
    "start_time": "2025-01-27T18:59:16.095Z"
   },
   {
    "duration": 0,
    "start_time": "2025-01-27T18:59:16.122Z"
   },
   {
    "duration": 20,
    "start_time": "2025-01-27T18:59:17.419Z"
   },
   {
    "duration": 13,
    "start_time": "2025-01-27T18:59:17.441Z"
   },
   {
    "duration": 16,
    "start_time": "2025-01-27T18:59:18.944Z"
   },
   {
    "duration": 11,
    "start_time": "2025-01-27T18:59:18.962Z"
   },
   {
    "duration": 42,
    "start_time": "2025-01-27T18:59:19.305Z"
   },
   {
    "duration": 19,
    "start_time": "2025-01-27T18:59:19.349Z"
   },
   {
    "duration": 19,
    "start_time": "2025-01-27T18:59:19.370Z"
   },
   {
    "duration": 11,
    "start_time": "2025-01-27T18:59:19.409Z"
   },
   {
    "duration": 28,
    "start_time": "2025-01-27T18:59:19.425Z"
   },
   {
    "duration": 9,
    "start_time": "2025-01-27T18:59:19.455Z"
   },
   {
    "duration": 9,
    "start_time": "2025-01-27T18:59:19.466Z"
   },
   {
    "duration": 2,
    "start_time": "2025-01-27T18:59:19.477Z"
   },
   {
    "duration": 3,
    "start_time": "2025-01-27T18:59:19.808Z"
   },
   {
    "duration": 3,
    "start_time": "2025-01-27T18:59:19.813Z"
   },
   {
    "duration": 3,
    "start_time": "2025-01-27T18:59:20.405Z"
   },
   {
    "duration": 3,
    "start_time": "2025-01-27T18:59:20.410Z"
   },
   {
    "duration": 3,
    "start_time": "2025-01-27T18:59:20.414Z"
   },
   {
    "duration": 2,
    "start_time": "2025-01-27T18:59:20.419Z"
   },
   {
    "duration": 2,
    "start_time": "2025-01-27T18:59:20.423Z"
   },
   {
    "duration": 3,
    "start_time": "2025-01-27T18:59:20.427Z"
   },
   {
    "duration": 3,
    "start_time": "2025-01-27T18:59:20.431Z"
   },
   {
    "duration": 3,
    "start_time": "2025-01-27T18:59:20.435Z"
   },
   {
    "duration": 3,
    "start_time": "2025-01-27T18:59:20.439Z"
   },
   {
    "duration": 3,
    "start_time": "2025-01-27T18:59:20.443Z"
   },
   {
    "duration": 2,
    "start_time": "2025-01-27T18:59:20.448Z"
   },
   {
    "duration": 2,
    "start_time": "2025-01-27T18:59:20.453Z"
   },
   {
    "duration": 67,
    "start_time": "2025-01-27T18:59:48.689Z"
   },
   {
    "duration": 22,
    "start_time": "2025-01-27T19:00:09.623Z"
   },
   {
    "duration": 13,
    "start_time": "2025-01-27T19:00:27.233Z"
   },
   {
    "duration": 6,
    "start_time": "2025-01-27T19:00:45.088Z"
   },
   {
    "duration": 3,
    "start_time": "2025-01-27T19:01:55.781Z"
   },
   {
    "duration": 235,
    "start_time": "2025-01-27T19:01:55.789Z"
   },
   {
    "duration": 13,
    "start_time": "2025-01-27T19:01:56.026Z"
   },
   {
    "duration": 10,
    "start_time": "2025-01-27T19:01:56.098Z"
   },
   {
    "duration": 10,
    "start_time": "2025-01-27T19:01:56.111Z"
   },
   {
    "duration": 13,
    "start_time": "2025-01-27T19:01:56.123Z"
   },
   {
    "duration": 28,
    "start_time": "2025-01-27T19:01:56.137Z"
   },
   {
    "duration": 0,
    "start_time": "2025-01-27T19:01:56.167Z"
   },
   {
    "duration": 17,
    "start_time": "2025-01-27T19:01:56.715Z"
   },
   {
    "duration": 11,
    "start_time": "2025-01-27T19:01:56.734Z"
   },
   {
    "duration": 11,
    "start_time": "2025-01-27T19:01:56.747Z"
   },
   {
    "duration": 7,
    "start_time": "2025-01-27T19:01:56.760Z"
   },
   {
    "duration": 49,
    "start_time": "2025-01-27T19:01:56.770Z"
   },
   {
    "duration": 14,
    "start_time": "2025-01-27T19:01:57.012Z"
   },
   {
    "duration": 14,
    "start_time": "2025-01-27T19:01:57.028Z"
   },
   {
    "duration": 10,
    "start_time": "2025-01-27T19:01:57.044Z"
   },
   {
    "duration": 27,
    "start_time": "2025-01-27T19:01:57.057Z"
   },
   {
    "duration": 29,
    "start_time": "2025-01-27T19:01:57.087Z"
   },
   {
    "duration": 8,
    "start_time": "2025-01-27T19:01:57.119Z"
   },
   {
    "duration": 2,
    "start_time": "2025-01-27T19:01:57.129Z"
   },
   {
    "duration": 3,
    "start_time": "2025-01-27T19:01:57.133Z"
   },
   {
    "duration": 2,
    "start_time": "2025-01-27T19:01:57.143Z"
   },
   {
    "duration": 2,
    "start_time": "2025-01-27T19:01:57.147Z"
   },
   {
    "duration": 2,
    "start_time": "2025-01-27T19:01:57.151Z"
   },
   {
    "duration": 3,
    "start_time": "2025-01-27T19:01:57.155Z"
   },
   {
    "duration": 3,
    "start_time": "2025-01-27T19:01:57.159Z"
   },
   {
    "duration": 2,
    "start_time": "2025-01-27T19:01:57.164Z"
   },
   {
    "duration": 42,
    "start_time": "2025-01-27T19:01:57.168Z"
   },
   {
    "duration": 4,
    "start_time": "2025-01-27T19:01:57.211Z"
   },
   {
    "duration": 3,
    "start_time": "2025-01-27T19:01:57.216Z"
   },
   {
    "duration": 9,
    "start_time": "2025-01-27T19:01:57.222Z"
   },
   {
    "duration": 2,
    "start_time": "2025-01-27T19:01:57.233Z"
   },
   {
    "duration": 3,
    "start_time": "2025-01-27T19:01:57.625Z"
   },
   {
    "duration": 2,
    "start_time": "2025-01-27T19:01:57.631Z"
   },
   {
    "duration": 45,
    "start_time": "2025-01-27T19:02:51.768Z"
   },
   {
    "duration": 27,
    "start_time": "2025-01-27T19:03:01.299Z"
   },
   {
    "duration": 4,
    "start_time": "2025-01-27T19:03:18.175Z"
   },
   {
    "duration": 174,
    "start_time": "2025-01-27T19:03:18.196Z"
   },
   {
    "duration": 8,
    "start_time": "2025-01-27T19:03:18.372Z"
   },
   {
    "duration": 7,
    "start_time": "2025-01-27T19:03:18.382Z"
   },
   {
    "duration": 21,
    "start_time": "2025-01-27T19:03:18.392Z"
   },
   {
    "duration": 12,
    "start_time": "2025-01-27T19:03:18.415Z"
   },
   {
    "duration": 27,
    "start_time": "2025-01-27T19:03:18.429Z"
   },
   {
    "duration": 0,
    "start_time": "2025-01-27T19:03:18.458Z"
   },
   {
    "duration": 0,
    "start_time": "2025-01-27T19:03:18.460Z"
   },
   {
    "duration": 0,
    "start_time": "2025-01-27T19:03:18.461Z"
   },
   {
    "duration": 0,
    "start_time": "2025-01-27T19:03:18.462Z"
   },
   {
    "duration": 0,
    "start_time": "2025-01-27T19:03:18.463Z"
   },
   {
    "duration": 0,
    "start_time": "2025-01-27T19:03:18.464Z"
   },
   {
    "duration": 0,
    "start_time": "2025-01-27T19:03:18.465Z"
   },
   {
    "duration": 0,
    "start_time": "2025-01-27T19:03:18.466Z"
   },
   {
    "duration": 0,
    "start_time": "2025-01-27T19:03:18.470Z"
   },
   {
    "duration": 0,
    "start_time": "2025-01-27T19:03:18.473Z"
   },
   {
    "duration": 0,
    "start_time": "2025-01-27T19:03:18.474Z"
   },
   {
    "duration": 0,
    "start_time": "2025-01-27T19:03:18.475Z"
   },
   {
    "duration": 0,
    "start_time": "2025-01-27T19:03:18.476Z"
   },
   {
    "duration": 0,
    "start_time": "2025-01-27T19:03:18.509Z"
   },
   {
    "duration": 0,
    "start_time": "2025-01-27T19:03:18.509Z"
   },
   {
    "duration": 0,
    "start_time": "2025-01-27T19:03:18.510Z"
   },
   {
    "duration": 0,
    "start_time": "2025-01-27T19:03:18.511Z"
   },
   {
    "duration": 0,
    "start_time": "2025-01-27T19:03:18.513Z"
   },
   {
    "duration": 0,
    "start_time": "2025-01-27T19:03:18.514Z"
   },
   {
    "duration": 0,
    "start_time": "2025-01-27T19:03:18.515Z"
   },
   {
    "duration": 0,
    "start_time": "2025-01-27T19:03:18.516Z"
   },
   {
    "duration": 0,
    "start_time": "2025-01-27T19:03:18.517Z"
   },
   {
    "duration": 0,
    "start_time": "2025-01-27T19:03:18.518Z"
   },
   {
    "duration": 0,
    "start_time": "2025-01-27T19:03:18.519Z"
   },
   {
    "duration": 0,
    "start_time": "2025-01-27T19:03:18.520Z"
   },
   {
    "duration": 0,
    "start_time": "2025-01-27T19:03:18.521Z"
   },
   {
    "duration": 0,
    "start_time": "2025-01-27T19:03:18.522Z"
   },
   {
    "duration": 3,
    "start_time": "2025-01-27T19:05:59.024Z"
   },
   {
    "duration": 203,
    "start_time": "2025-01-27T19:05:59.030Z"
   },
   {
    "duration": 8,
    "start_time": "2025-01-27T19:05:59.235Z"
   },
   {
    "duration": 9,
    "start_time": "2025-01-27T19:05:59.245Z"
   },
   {
    "duration": 11,
    "start_time": "2025-01-27T19:05:59.387Z"
   },
   {
    "duration": 11,
    "start_time": "2025-01-27T19:05:59.400Z"
   },
   {
    "duration": 20,
    "start_time": "2025-01-27T19:05:59.412Z"
   },
   {
    "duration": 7,
    "start_time": "2025-01-27T19:05:59.434Z"
   },
   {
    "duration": 18,
    "start_time": "2025-01-27T19:05:59.444Z"
   },
   {
    "duration": 14,
    "start_time": "2025-01-27T19:05:59.464Z"
   },
   {
    "duration": 16,
    "start_time": "2025-01-27T19:05:59.511Z"
   },
   {
    "duration": 8,
    "start_time": "2025-01-27T19:05:59.529Z"
   },
   {
    "duration": 26,
    "start_time": "2025-01-27T19:05:59.538Z"
   },
   {
    "duration": 47,
    "start_time": "2025-01-27T19:05:59.566Z"
   },
   {
    "duration": 13,
    "start_time": "2025-01-27T19:05:59.615Z"
   },
   {
    "duration": 12,
    "start_time": "2025-01-27T19:05:59.629Z"
   },
   {
    "duration": 44,
    "start_time": "2025-01-27T19:05:59.645Z"
   },
   {
    "duration": 22,
    "start_time": "2025-01-27T19:05:59.695Z"
   },
   {
    "duration": 9,
    "start_time": "2025-01-27T19:05:59.719Z"
   },
   {
    "duration": 3,
    "start_time": "2025-01-27T19:05:59.729Z"
   },
   {
    "duration": 3,
    "start_time": "2025-01-27T19:05:59.734Z"
   },
   {
    "duration": 3,
    "start_time": "2025-01-27T19:05:59.738Z"
   },
   {
    "duration": 3,
    "start_time": "2025-01-27T19:05:59.743Z"
   },
   {
    "duration": 3,
    "start_time": "2025-01-27T19:05:59.747Z"
   },
   {
    "duration": 6,
    "start_time": "2025-01-27T19:05:59.751Z"
   },
   {
    "duration": 2,
    "start_time": "2025-01-27T19:05:59.759Z"
   },
   {
    "duration": 3,
    "start_time": "2025-01-27T19:05:59.763Z"
   },
   {
    "duration": 44,
    "start_time": "2025-01-27T19:05:59.767Z"
   },
   {
    "duration": 3,
    "start_time": "2025-01-27T19:05:59.813Z"
   },
   {
    "duration": 3,
    "start_time": "2025-01-27T19:05:59.817Z"
   },
   {
    "duration": 2,
    "start_time": "2025-01-27T19:05:59.824Z"
   },
   {
    "duration": 3,
    "start_time": "2025-01-27T19:05:59.828Z"
   },
   {
    "duration": 2,
    "start_time": "2025-01-27T19:05:59.833Z"
   },
   {
    "duration": 2,
    "start_time": "2025-01-27T19:05:59.837Z"
   },
   {
    "duration": 17,
    "start_time": "2025-01-27T19:09:03.378Z"
   },
   {
    "duration": 43,
    "start_time": "2025-01-27T19:09:04.960Z"
   },
   {
    "duration": 13,
    "start_time": "2025-01-27T19:09:24.167Z"
   },
   {
    "duration": 18,
    "start_time": "2025-01-27T19:09:37.444Z"
   },
   {
    "duration": 19,
    "start_time": "2025-01-27T19:09:47.851Z"
   },
   {
    "duration": 32,
    "start_time": "2025-01-27T19:11:02.780Z"
   },
   {
    "duration": 11,
    "start_time": "2025-01-27T19:11:08.895Z"
   },
   {
    "duration": 13,
    "start_time": "2025-01-27T19:11:26.573Z"
   },
   {
    "duration": 8,
    "start_time": "2025-01-27T19:11:30.886Z"
   },
   {
    "duration": 34,
    "start_time": "2025-01-27T19:12:34.361Z"
   },
   {
    "duration": 10,
    "start_time": "2025-01-27T19:12:38.656Z"
   },
   {
    "duration": 8,
    "start_time": "2025-01-27T19:12:49.927Z"
   },
   {
    "duration": 14,
    "start_time": "2025-01-27T19:12:56.493Z"
   },
   {
    "duration": 156,
    "start_time": "2025-01-27T19:19:09.323Z"
   },
   {
    "duration": 43,
    "start_time": "2025-01-27T19:19:52.043Z"
   },
   {
    "duration": 47,
    "start_time": "2025-01-27T19:39:20.080Z"
   },
   {
    "duration": 19,
    "start_time": "2025-01-27T19:39:33.853Z"
   },
   {
    "duration": 10,
    "start_time": "2025-01-27T19:39:53.143Z"
   },
   {
    "duration": 6,
    "start_time": "2025-01-27T19:40:28.572Z"
   },
   {
    "duration": 9,
    "start_time": "2025-01-27T19:41:25.789Z"
   },
   {
    "duration": 17,
    "start_time": "2025-01-27T19:42:05.838Z"
   },
   {
    "duration": 2539,
    "start_time": "2025-01-29T20:05:53.415Z"
   },
   {
    "duration": 213,
    "start_time": "2025-01-29T20:05:55.956Z"
   },
   {
    "duration": 9,
    "start_time": "2025-01-29T20:05:56.171Z"
   },
   {
    "duration": 7,
    "start_time": "2025-01-29T20:05:56.182Z"
   },
   {
    "duration": 9,
    "start_time": "2025-01-29T20:05:56.191Z"
   },
   {
    "duration": 10,
    "start_time": "2025-01-29T20:05:56.201Z"
   },
   {
    "duration": 17,
    "start_time": "2025-01-29T20:05:56.212Z"
   },
   {
    "duration": 7,
    "start_time": "2025-01-29T20:05:56.230Z"
   },
   {
    "duration": 14,
    "start_time": "2025-01-29T20:05:56.239Z"
   },
   {
    "duration": 11,
    "start_time": "2025-01-29T20:05:56.255Z"
   },
   {
    "duration": 49,
    "start_time": "2025-01-29T20:05:56.268Z"
   },
   {
    "duration": 42,
    "start_time": "2025-01-29T20:05:56.318Z"
   },
   {
    "duration": 18,
    "start_time": "2025-01-29T20:05:56.362Z"
   },
   {
    "duration": 31,
    "start_time": "2025-01-29T20:05:56.384Z"
   },
   {
    "duration": 10,
    "start_time": "2025-01-29T20:05:56.416Z"
   },
   {
    "duration": 31,
    "start_time": "2025-01-29T20:05:56.427Z"
   },
   {
    "duration": 12,
    "start_time": "2025-01-29T20:05:56.460Z"
   },
   {
    "duration": 39,
    "start_time": "2025-01-29T20:05:56.473Z"
   },
   {
    "duration": 14,
    "start_time": "2025-01-29T20:05:56.514Z"
   },
   {
    "duration": 42,
    "start_time": "2025-01-29T20:05:56.531Z"
   },
   {
    "duration": 13,
    "start_time": "2025-01-29T20:05:56.574Z"
   },
   {
    "duration": 7,
    "start_time": "2025-01-29T20:05:56.605Z"
   },
   {
    "duration": 19,
    "start_time": "2025-01-29T20:05:56.614Z"
   },
   {
    "duration": 10,
    "start_time": "2025-01-29T20:05:56.634Z"
   },
   {
    "duration": 2,
    "start_time": "2025-01-29T20:05:56.645Z"
   },
   {
    "duration": 2,
    "start_time": "2025-01-29T20:05:56.648Z"
   },
   {
    "duration": 3,
    "start_time": "2025-01-29T20:05:56.652Z"
   },
   {
    "duration": 3,
    "start_time": "2025-01-29T20:05:56.656Z"
   },
   {
    "duration": 3,
    "start_time": "2025-01-29T20:05:56.660Z"
   },
   {
    "duration": 4,
    "start_time": "2025-01-29T20:05:56.664Z"
   },
   {
    "duration": 3,
    "start_time": "2025-01-29T20:05:56.705Z"
   },
   {
    "duration": 3,
    "start_time": "2025-01-29T20:05:56.710Z"
   },
   {
    "duration": 3,
    "start_time": "2025-01-29T20:05:56.714Z"
   },
   {
    "duration": 2,
    "start_time": "2025-01-29T20:05:56.718Z"
   },
   {
    "duration": 2,
    "start_time": "2025-01-29T20:05:56.722Z"
   },
   {
    "duration": 2,
    "start_time": "2025-01-29T20:05:56.726Z"
   },
   {
    "duration": 2,
    "start_time": "2025-01-29T20:05:56.730Z"
   },
   {
    "duration": 10,
    "start_time": "2025-01-29T20:06:32.708Z"
   },
   {
    "duration": 8,
    "start_time": "2025-01-29T20:06:45.634Z"
   },
   {
    "duration": 205,
    "start_time": "2025-01-29T20:09:51.825Z"
   },
   {
    "duration": 82,
    "start_time": "2025-01-29T20:10:17.508Z"
   },
   {
    "duration": 3,
    "start_time": "2025-01-29T20:10:39.124Z"
   },
   {
    "duration": 151,
    "start_time": "2025-01-29T20:10:39.130Z"
   },
   {
    "duration": 7,
    "start_time": "2025-01-29T20:10:39.283Z"
   },
   {
    "duration": 16,
    "start_time": "2025-01-29T20:10:39.292Z"
   },
   {
    "duration": 8,
    "start_time": "2025-01-29T20:10:39.310Z"
   },
   {
    "duration": 9,
    "start_time": "2025-01-29T20:10:39.319Z"
   },
   {
    "duration": 16,
    "start_time": "2025-01-29T20:10:39.330Z"
   },
   {
    "duration": 6,
    "start_time": "2025-01-29T20:10:39.347Z"
   },
   {
    "duration": 15,
    "start_time": "2025-01-29T20:10:39.355Z"
   },
   {
    "duration": 42,
    "start_time": "2025-01-29T20:10:39.371Z"
   },
   {
    "duration": 17,
    "start_time": "2025-01-29T20:10:39.417Z"
   },
   {
    "duration": 40,
    "start_time": "2025-01-29T20:10:39.435Z"
   },
   {
    "duration": 40,
    "start_time": "2025-01-29T20:10:39.476Z"
   },
   {
    "duration": 11,
    "start_time": "2025-01-29T20:10:39.518Z"
   },
   {
    "duration": 8,
    "start_time": "2025-01-29T20:10:39.530Z"
   },
   {
    "duration": 32,
    "start_time": "2025-01-29T20:10:39.540Z"
   },
   {
    "duration": 38,
    "start_time": "2025-01-29T20:10:39.573Z"
   },
   {
    "duration": 17,
    "start_time": "2025-01-29T20:10:39.613Z"
   },
   {
    "duration": 9,
    "start_time": "2025-01-29T20:10:39.632Z"
   },
   {
    "duration": 37,
    "start_time": "2025-01-29T20:10:39.643Z"
   },
   {
    "duration": 37,
    "start_time": "2025-01-29T20:10:39.681Z"
   },
   {
    "duration": 8,
    "start_time": "2025-01-29T20:10:39.720Z"
   },
   {
    "duration": 15,
    "start_time": "2025-01-29T20:10:39.730Z"
   },
   {
    "duration": 18,
    "start_time": "2025-01-29T20:10:39.747Z"
   },
   {
    "duration": 0,
    "start_time": "2025-01-29T20:10:39.767Z"
   },
   {
    "duration": 0,
    "start_time": "2025-01-29T20:10:39.768Z"
   },
   {
    "duration": 0,
    "start_time": "2025-01-29T20:10:39.770Z"
   },
   {
    "duration": 0,
    "start_time": "2025-01-29T20:10:39.770Z"
   },
   {
    "duration": 0,
    "start_time": "2025-01-29T20:10:39.771Z"
   },
   {
    "duration": 0,
    "start_time": "2025-01-29T20:10:39.806Z"
   },
   {
    "duration": 0,
    "start_time": "2025-01-29T20:10:39.808Z"
   },
   {
    "duration": 0,
    "start_time": "2025-01-29T20:10:39.809Z"
   },
   {
    "duration": 0,
    "start_time": "2025-01-29T20:10:39.809Z"
   },
   {
    "duration": 0,
    "start_time": "2025-01-29T20:10:39.810Z"
   },
   {
    "duration": 0,
    "start_time": "2025-01-29T20:10:39.811Z"
   },
   {
    "duration": 0,
    "start_time": "2025-01-29T20:10:39.813Z"
   },
   {
    "duration": 0,
    "start_time": "2025-01-29T20:10:39.813Z"
   },
   {
    "duration": 13,
    "start_time": "2025-01-29T20:11:14.394Z"
   },
   {
    "duration": 21,
    "start_time": "2025-01-29T20:12:10.406Z"
   },
   {
    "duration": 24,
    "start_time": "2025-01-29T20:12:32.298Z"
   },
   {
    "duration": 36,
    "start_time": "2025-01-29T20:13:32.787Z"
   },
   {
    "duration": 26,
    "start_time": "2025-01-29T20:13:44.488Z"
   },
   {
    "duration": 14,
    "start_time": "2025-01-29T20:15:24.244Z"
   },
   {
    "duration": 16,
    "start_time": "2025-01-29T20:16:32.540Z"
   },
   {
    "duration": 3,
    "start_time": "2025-01-29T20:16:46.660Z"
   },
   {
    "duration": 198,
    "start_time": "2025-01-29T20:16:46.665Z"
   },
   {
    "duration": 10,
    "start_time": "2025-01-29T20:16:46.865Z"
   },
   {
    "duration": 9,
    "start_time": "2025-01-29T20:16:46.877Z"
   },
   {
    "duration": 16,
    "start_time": "2025-01-29T20:16:46.889Z"
   },
   {
    "duration": 10,
    "start_time": "2025-01-29T20:16:46.906Z"
   },
   {
    "duration": 17,
    "start_time": "2025-01-29T20:16:46.917Z"
   },
   {
    "duration": 7,
    "start_time": "2025-01-29T20:16:46.936Z"
   },
   {
    "duration": 16,
    "start_time": "2025-01-29T20:16:46.945Z"
   },
   {
    "duration": 42,
    "start_time": "2025-01-29T20:16:46.962Z"
   },
   {
    "duration": 17,
    "start_time": "2025-01-29T20:16:47.009Z"
   },
   {
    "duration": 44,
    "start_time": "2025-01-29T20:16:47.027Z"
   },
   {
    "duration": 37,
    "start_time": "2025-01-29T20:16:47.073Z"
   },
   {
    "duration": 15,
    "start_time": "2025-01-29T20:16:47.112Z"
   },
   {
    "duration": 9,
    "start_time": "2025-01-29T20:16:47.129Z"
   },
   {
    "duration": 31,
    "start_time": "2025-01-29T20:16:47.140Z"
   },
   {
    "duration": 37,
    "start_time": "2025-01-29T20:16:47.172Z"
   },
   {
    "duration": 15,
    "start_time": "2025-01-29T20:16:47.210Z"
   },
   {
    "duration": 10,
    "start_time": "2025-01-29T20:16:47.227Z"
   },
   {
    "duration": 36,
    "start_time": "2025-01-29T20:16:47.239Z"
   },
   {
    "duration": 37,
    "start_time": "2025-01-29T20:16:47.276Z"
   },
   {
    "duration": 15,
    "start_time": "2025-01-29T20:16:47.315Z"
   },
   {
    "duration": 24,
    "start_time": "2025-01-29T20:16:47.331Z"
   },
   {
    "duration": 14,
    "start_time": "2025-01-29T20:16:47.357Z"
   },
   {
    "duration": 0,
    "start_time": "2025-01-29T20:16:47.374Z"
   },
   {
    "duration": 0,
    "start_time": "2025-01-29T20:16:47.375Z"
   },
   {
    "duration": 0,
    "start_time": "2025-01-29T20:16:47.377Z"
   },
   {
    "duration": 0,
    "start_time": "2025-01-29T20:16:47.378Z"
   },
   {
    "duration": 0,
    "start_time": "2025-01-29T20:16:47.379Z"
   },
   {
    "duration": 0,
    "start_time": "2025-01-29T20:16:47.405Z"
   },
   {
    "duration": 0,
    "start_time": "2025-01-29T20:16:47.407Z"
   },
   {
    "duration": 0,
    "start_time": "2025-01-29T20:16:47.408Z"
   },
   {
    "duration": 0,
    "start_time": "2025-01-29T20:16:47.409Z"
   },
   {
    "duration": 0,
    "start_time": "2025-01-29T20:16:47.410Z"
   },
   {
    "duration": 0,
    "start_time": "2025-01-29T20:16:47.410Z"
   },
   {
    "duration": 0,
    "start_time": "2025-01-29T20:16:47.412Z"
   },
   {
    "duration": 0,
    "start_time": "2025-01-29T20:16:47.413Z"
   },
   {
    "duration": 5,
    "start_time": "2025-01-29T20:18:13.257Z"
   },
   {
    "duration": 14,
    "start_time": "2025-01-29T20:18:18.476Z"
   },
   {
    "duration": 14,
    "start_time": "2025-01-29T20:18:28.896Z"
   },
   {
    "duration": 18,
    "start_time": "2025-01-29T20:19:20.140Z"
   },
   {
    "duration": 16,
    "start_time": "2025-01-29T20:19:40.250Z"
   },
   {
    "duration": 16,
    "start_time": "2025-01-29T20:20:15.758Z"
   },
   {
    "duration": 15,
    "start_time": "2025-01-29T20:20:27.746Z"
   },
   {
    "duration": 23,
    "start_time": "2025-01-29T20:20:32.855Z"
   },
   {
    "duration": 20,
    "start_time": "2025-01-29T20:20:51.495Z"
   },
   {
    "duration": 9,
    "start_time": "2025-01-29T20:21:26.983Z"
   },
   {
    "duration": 17,
    "start_time": "2025-01-29T20:23:11.681Z"
   },
   {
    "duration": 10,
    "start_time": "2025-01-29T20:23:47.559Z"
   },
   {
    "duration": 7,
    "start_time": "2025-01-29T20:27:29.997Z"
   },
   {
    "duration": 10,
    "start_time": "2025-01-29T20:27:57.138Z"
   },
   {
    "duration": 13,
    "start_time": "2025-01-29T20:28:41.484Z"
   },
   {
    "duration": 8,
    "start_time": "2025-01-29T20:28:46.742Z"
   },
   {
    "duration": 24,
    "start_time": "2025-01-29T20:30:42.359Z"
   },
   {
    "duration": 22,
    "start_time": "2025-01-29T20:30:59.950Z"
   },
   {
    "duration": 11,
    "start_time": "2025-01-29T20:31:17.722Z"
   },
   {
    "duration": 23,
    "start_time": "2025-01-29T20:32:11.738Z"
   },
   {
    "duration": 19,
    "start_time": "2025-01-29T20:32:33.944Z"
   },
   {
    "duration": 19,
    "start_time": "2025-01-29T20:33:12.244Z"
   },
   {
    "duration": 16,
    "start_time": "2025-01-29T20:37:57.042Z"
   },
   {
    "duration": 11,
    "start_time": "2025-01-29T20:39:19.004Z"
   },
   {
    "duration": 19,
    "start_time": "2025-01-29T20:39:37.684Z"
   },
   {
    "duration": 22,
    "start_time": "2025-01-29T20:40:04.208Z"
   },
   {
    "duration": 21,
    "start_time": "2025-01-29T20:40:43.378Z"
   },
   {
    "duration": 11,
    "start_time": "2025-01-29T20:43:33.194Z"
   },
   {
    "duration": 8,
    "start_time": "2025-01-29T20:51:01.598Z"
   },
   {
    "duration": 15,
    "start_time": "2025-01-29T20:51:37.294Z"
   },
   {
    "duration": 12,
    "start_time": "2025-01-29T21:01:38.100Z"
   },
   {
    "duration": 23,
    "start_time": "2025-01-29T21:39:58.683Z"
   },
   {
    "duration": 18,
    "start_time": "2025-01-29T21:40:12.191Z"
   },
   {
    "duration": 17,
    "start_time": "2025-01-29T21:40:26.063Z"
   },
   {
    "duration": 17,
    "start_time": "2025-01-29T21:40:30.218Z"
   },
   {
    "duration": 5,
    "start_time": "2025-01-29T21:40:50.967Z"
   },
   {
    "duration": 19,
    "start_time": "2025-01-29T21:41:52.937Z"
   },
   {
    "duration": 20,
    "start_time": "2025-01-29T21:42:40.155Z"
   },
   {
    "duration": 20,
    "start_time": "2025-01-29T21:42:48.511Z"
   },
   {
    "duration": 20,
    "start_time": "2025-01-29T21:42:52.047Z"
   },
   {
    "duration": 20,
    "start_time": "2025-01-29T21:42:56.638Z"
   },
   {
    "duration": 20,
    "start_time": "2025-01-29T21:42:59.682Z"
   },
   {
    "duration": 18,
    "start_time": "2025-01-29T21:43:02.887Z"
   },
   {
    "duration": 19,
    "start_time": "2025-01-29T21:43:06.584Z"
   },
   {
    "duration": 18,
    "start_time": "2025-01-29T21:43:09.083Z"
   },
   {
    "duration": 12,
    "start_time": "2025-01-29T21:44:48.887Z"
   },
   {
    "duration": 22,
    "start_time": "2025-01-29T21:45:08.762Z"
   },
   {
    "duration": 17,
    "start_time": "2025-01-29T21:45:09.457Z"
   },
   {
    "duration": 15,
    "start_time": "2025-01-29T21:45:10.032Z"
   },
   {
    "duration": 20,
    "start_time": "2025-01-29T21:45:10.625Z"
   },
   {
    "duration": 21,
    "start_time": "2025-01-29T21:45:11.908Z"
   },
   {
    "duration": 11,
    "start_time": "2025-01-29T21:45:12.538Z"
   },
   {
    "duration": 3,
    "start_time": "2025-01-29T22:05:01.500Z"
   },
   {
    "duration": 9,
    "start_time": "2025-01-29T22:05:14.127Z"
   },
   {
    "duration": 3,
    "start_time": "2025-01-29T22:05:40.524Z"
   },
   {
    "duration": 65,
    "start_time": "2025-01-29T22:05:56.138Z"
   },
   {
    "duration": 3,
    "start_time": "2025-01-29T22:06:06.621Z"
   },
   {
    "duration": 7,
    "start_time": "2025-01-29T22:06:10.514Z"
   },
   {
    "duration": 3,
    "start_time": "2025-01-29T22:06:23.738Z"
   },
   {
    "duration": 8,
    "start_time": "2025-01-29T22:06:26.774Z"
   },
   {
    "duration": 2,
    "start_time": "2025-01-29T22:06:34.677Z"
   },
   {
    "duration": 161,
    "start_time": "2025-01-29T22:06:34.681Z"
   },
   {
    "duration": 7,
    "start_time": "2025-01-29T22:06:34.844Z"
   },
   {
    "duration": 7,
    "start_time": "2025-01-29T22:06:34.853Z"
   },
   {
    "duration": 5,
    "start_time": "2025-01-29T22:06:34.863Z"
   },
   {
    "duration": 9,
    "start_time": "2025-01-29T22:06:34.869Z"
   },
   {
    "duration": 27,
    "start_time": "2025-01-29T22:06:34.879Z"
   },
   {
    "duration": 9,
    "start_time": "2025-01-29T22:06:34.908Z"
   },
   {
    "duration": 16,
    "start_time": "2025-01-29T22:06:34.919Z"
   },
   {
    "duration": 10,
    "start_time": "2025-01-29T22:06:34.936Z"
   },
   {
    "duration": 16,
    "start_time": "2025-01-29T22:06:34.947Z"
   },
   {
    "duration": 42,
    "start_time": "2025-01-29T22:06:34.965Z"
   },
   {
    "duration": 17,
    "start_time": "2025-01-29T22:06:35.008Z"
   },
   {
    "duration": 41,
    "start_time": "2025-01-29T22:06:35.029Z"
   },
   {
    "duration": 36,
    "start_time": "2025-01-29T22:06:35.072Z"
   },
   {
    "duration": 11,
    "start_time": "2025-01-29T22:06:35.110Z"
   },
   {
    "duration": 10,
    "start_time": "2025-01-29T22:06:35.123Z"
   },
   {
    "duration": 31,
    "start_time": "2025-01-29T22:06:35.135Z"
   },
   {
    "duration": 37,
    "start_time": "2025-01-29T22:06:35.168Z"
   },
   {
    "duration": 14,
    "start_time": "2025-01-29T22:06:35.207Z"
   },
   {
    "duration": 9,
    "start_time": "2025-01-29T22:06:35.222Z"
   },
   {
    "duration": 35,
    "start_time": "2025-01-29T22:06:35.233Z"
   },
   {
    "duration": 35,
    "start_time": "2025-01-29T22:06:35.270Z"
   },
   {
    "duration": 7,
    "start_time": "2025-01-29T22:06:35.307Z"
   },
   {
    "duration": 22,
    "start_time": "2025-01-29T22:06:35.316Z"
   },
   {
    "duration": 16,
    "start_time": "2025-01-29T22:06:35.340Z"
   },
   {
    "duration": 16,
    "start_time": "2025-01-29T22:06:35.357Z"
   },
   {
    "duration": 43,
    "start_time": "2025-01-29T22:06:35.375Z"
   },
   {
    "duration": 21,
    "start_time": "2025-01-29T22:06:35.420Z"
   },
   {
    "duration": 12,
    "start_time": "2025-01-29T22:06:35.443Z"
   },
   {
    "duration": 11,
    "start_time": "2025-01-29T22:06:35.456Z"
   },
   {
    "duration": 7,
    "start_time": "2025-01-29T22:06:35.469Z"
   },
   {
    "duration": 30,
    "start_time": "2025-01-29T22:06:35.478Z"
   },
   {
    "duration": 3,
    "start_time": "2025-01-29T22:06:35.510Z"
   },
   {
    "duration": 2,
    "start_time": "2025-01-29T22:06:35.515Z"
   },
   {
    "duration": 2,
    "start_time": "2025-01-29T22:06:35.519Z"
   },
   {
    "duration": 2,
    "start_time": "2025-01-29T22:06:35.523Z"
   },
   {
    "duration": 2,
    "start_time": "2025-01-29T22:06:35.527Z"
   },
   {
    "duration": 2,
    "start_time": "2025-01-29T22:06:35.531Z"
   },
   {
    "duration": 540,
    "start_time": "2025-01-29T22:10:44.035Z"
   },
   {
    "duration": 78,
    "start_time": "2025-01-29T22:13:09.562Z"
   },
   {
    "duration": 3,
    "start_time": "2025-01-29T22:13:22.290Z"
   },
   {
    "duration": 200,
    "start_time": "2025-01-29T22:13:22.295Z"
   },
   {
    "duration": 21,
    "start_time": "2025-01-29T22:13:22.498Z"
   },
   {
    "duration": 9,
    "start_time": "2025-01-29T22:13:22.521Z"
   },
   {
    "duration": 3,
    "start_time": "2025-01-29T22:13:22.533Z"
   },
   {
    "duration": 8,
    "start_time": "2025-01-29T22:13:22.537Z"
   },
   {
    "duration": 9,
    "start_time": "2025-01-29T22:13:22.547Z"
   },
   {
    "duration": 8,
    "start_time": "2025-01-29T22:13:22.558Z"
   },
   {
    "duration": 39,
    "start_time": "2025-01-29T22:13:22.568Z"
   },
   {
    "duration": 10,
    "start_time": "2025-01-29T22:13:22.609Z"
   },
   {
    "duration": 18,
    "start_time": "2025-01-29T22:13:22.623Z"
   },
   {
    "duration": 10,
    "start_time": "2025-01-29T22:13:22.643Z"
   },
   {
    "duration": 15,
    "start_time": "2025-01-29T22:13:22.655Z"
   },
   {
    "duration": 70,
    "start_time": "2025-01-29T22:13:22.672Z"
   },
   {
    "duration": 18,
    "start_time": "2025-01-29T22:13:22.744Z"
   },
   {
    "duration": 11,
    "start_time": "2025-01-29T22:13:22.764Z"
   },
   {
    "duration": 40,
    "start_time": "2025-01-29T22:13:22.776Z"
   },
   {
    "duration": 31,
    "start_time": "2025-01-29T22:13:22.819Z"
   },
   {
    "duration": 11,
    "start_time": "2025-01-29T22:13:22.851Z"
   },
   {
    "duration": 13,
    "start_time": "2025-01-29T22:13:22.864Z"
   },
   {
    "duration": 31,
    "start_time": "2025-01-29T22:13:22.878Z"
   },
   {
    "duration": 37,
    "start_time": "2025-01-29T22:13:22.911Z"
   },
   {
    "duration": 13,
    "start_time": "2025-01-29T22:13:22.949Z"
   },
   {
    "duration": 7,
    "start_time": "2025-01-29T22:13:22.963Z"
   },
   {
    "duration": 47,
    "start_time": "2025-01-29T22:13:22.972Z"
   },
   {
    "duration": 15,
    "start_time": "2025-01-29T22:13:23.021Z"
   },
   {
    "duration": 18,
    "start_time": "2025-01-29T22:13:23.038Z"
   },
   {
    "duration": 18,
    "start_time": "2025-01-29T22:13:23.058Z"
   },
   {
    "duration": 22,
    "start_time": "2025-01-29T22:13:23.104Z"
   },
   {
    "duration": 10,
    "start_time": "2025-01-29T22:13:23.128Z"
   },
   {
    "duration": 84,
    "start_time": "2025-01-29T22:13:23.140Z"
   },
   {
    "duration": 0,
    "start_time": "2025-01-29T22:13:23.225Z"
   },
   {
    "duration": 0,
    "start_time": "2025-01-29T22:13:23.227Z"
   },
   {
    "duration": 0,
    "start_time": "2025-01-29T22:13:23.228Z"
   },
   {
    "duration": 0,
    "start_time": "2025-01-29T22:13:23.228Z"
   },
   {
    "duration": 0,
    "start_time": "2025-01-29T22:13:23.229Z"
   },
   {
    "duration": 0,
    "start_time": "2025-01-29T22:13:23.230Z"
   },
   {
    "duration": 0,
    "start_time": "2025-01-29T22:13:23.231Z"
   },
   {
    "duration": 0,
    "start_time": "2025-01-29T22:13:23.232Z"
   },
   {
    "duration": 53,
    "start_time": "2025-01-29T22:14:52.767Z"
   },
   {
    "duration": 13,
    "start_time": "2025-01-29T22:27:23.153Z"
   },
   {
    "duration": 14,
    "start_time": "2025-01-29T22:27:43.990Z"
   },
   {
    "duration": 3,
    "start_time": "2025-01-29T22:28:06.364Z"
   },
   {
    "duration": 166,
    "start_time": "2025-01-29T22:28:06.368Z"
   },
   {
    "duration": 8,
    "start_time": "2025-01-29T22:28:06.536Z"
   },
   {
    "duration": 7,
    "start_time": "2025-01-29T22:28:06.546Z"
   },
   {
    "duration": 3,
    "start_time": "2025-01-29T22:28:06.556Z"
   },
   {
    "duration": 7,
    "start_time": "2025-01-29T22:28:06.561Z"
   },
   {
    "duration": 8,
    "start_time": "2025-01-29T22:28:06.569Z"
   },
   {
    "duration": 10,
    "start_time": "2025-01-29T22:28:06.605Z"
   },
   {
    "duration": 18,
    "start_time": "2025-01-29T22:28:06.616Z"
   },
   {
    "duration": 13,
    "start_time": "2025-01-29T22:28:06.635Z"
   },
   {
    "duration": 19,
    "start_time": "2025-01-29T22:28:06.652Z"
   },
   {
    "duration": 38,
    "start_time": "2025-01-29T22:28:06.674Z"
   },
   {
    "duration": 17,
    "start_time": "2025-01-29T22:28:06.714Z"
   },
   {
    "duration": 39,
    "start_time": "2025-01-29T22:28:06.733Z"
   },
   {
    "duration": 37,
    "start_time": "2025-01-29T22:28:06.774Z"
   },
   {
    "duration": 13,
    "start_time": "2025-01-29T22:28:06.813Z"
   },
   {
    "duration": 9,
    "start_time": "2025-01-29T22:28:06.828Z"
   },
   {
    "duration": 30,
    "start_time": "2025-01-29T22:28:06.839Z"
   },
   {
    "duration": 37,
    "start_time": "2025-01-29T22:28:06.871Z"
   },
   {
    "duration": 14,
    "start_time": "2025-01-29T22:28:06.909Z"
   },
   {
    "duration": 10,
    "start_time": "2025-01-29T22:28:06.924Z"
   },
   {
    "duration": 36,
    "start_time": "2025-01-29T22:28:06.936Z"
   },
   {
    "duration": 36,
    "start_time": "2025-01-29T22:28:06.974Z"
   },
   {
    "duration": 10,
    "start_time": "2025-01-29T22:28:07.012Z"
   },
   {
    "duration": 21,
    "start_time": "2025-01-29T22:28:07.023Z"
   },
   {
    "duration": 14,
    "start_time": "2025-01-29T22:28:07.045Z"
   },
   {
    "duration": 14,
    "start_time": "2025-01-29T22:28:07.061Z"
   },
   {
    "duration": 44,
    "start_time": "2025-01-29T22:28:07.077Z"
   },
   {
    "duration": 19,
    "start_time": "2025-01-29T22:28:07.125Z"
   },
   {
    "duration": 11,
    "start_time": "2025-01-29T22:28:07.145Z"
   },
   {
    "duration": 136,
    "start_time": "2025-01-29T22:28:07.158Z"
   },
   {
    "duration": 0,
    "start_time": "2025-01-29T22:28:07.296Z"
   },
   {
    "duration": 0,
    "start_time": "2025-01-29T22:28:07.298Z"
   },
   {
    "duration": 0,
    "start_time": "2025-01-29T22:28:07.304Z"
   },
   {
    "duration": 0,
    "start_time": "2025-01-29T22:28:07.305Z"
   },
   {
    "duration": 0,
    "start_time": "2025-01-29T22:28:07.306Z"
   },
   {
    "duration": 0,
    "start_time": "2025-01-29T22:28:07.307Z"
   },
   {
    "duration": 0,
    "start_time": "2025-01-29T22:28:07.309Z"
   },
   {
    "duration": 0,
    "start_time": "2025-01-29T22:28:07.310Z"
   },
   {
    "duration": 35,
    "start_time": "2025-01-29T22:36:37.265Z"
   },
   {
    "duration": 6,
    "start_time": "2025-01-29T22:38:43.823Z"
   },
   {
    "duration": 3,
    "start_time": "2025-01-29T22:39:01.773Z"
   },
   {
    "duration": 49,
    "start_time": "2025-01-29T22:40:27.407Z"
   },
   {
    "duration": 3,
    "start_time": "2025-01-29T22:41:14.950Z"
   },
   {
    "duration": 159,
    "start_time": "2025-01-29T22:41:14.956Z"
   },
   {
    "duration": 7,
    "start_time": "2025-01-29T22:41:15.117Z"
   },
   {
    "duration": 8,
    "start_time": "2025-01-29T22:41:15.127Z"
   },
   {
    "duration": 3,
    "start_time": "2025-01-29T22:41:15.137Z"
   },
   {
    "duration": 7,
    "start_time": "2025-01-29T22:41:15.142Z"
   },
   {
    "duration": 8,
    "start_time": "2025-01-29T22:41:15.151Z"
   },
   {
    "duration": 9,
    "start_time": "2025-01-29T22:41:15.161Z"
   },
   {
    "duration": 18,
    "start_time": "2025-01-29T22:41:15.205Z"
   },
   {
    "duration": 10,
    "start_time": "2025-01-29T22:41:15.225Z"
   },
   {
    "duration": 14,
    "start_time": "2025-01-29T22:41:15.237Z"
   },
   {
    "duration": 10,
    "start_time": "2025-01-29T22:41:15.253Z"
   },
   {
    "duration": 43,
    "start_time": "2025-01-29T22:41:15.264Z"
   },
   {
    "duration": 40,
    "start_time": "2025-01-29T22:41:15.309Z"
   },
   {
    "duration": 19,
    "start_time": "2025-01-29T22:41:15.351Z"
   },
   {
    "duration": 11,
    "start_time": "2025-01-29T22:41:15.372Z"
   },
   {
    "duration": 10,
    "start_time": "2025-01-29T22:41:15.405Z"
   },
   {
    "duration": 32,
    "start_time": "2025-01-29T22:41:15.416Z"
   },
   {
    "duration": 11,
    "start_time": "2025-01-29T22:41:15.449Z"
   },
   {
    "duration": 13,
    "start_time": "2025-01-29T22:41:15.462Z"
   },
   {
    "duration": 37,
    "start_time": "2025-01-29T22:41:15.476Z"
   },
   {
    "duration": 37,
    "start_time": "2025-01-29T22:41:15.515Z"
   },
   {
    "duration": 12,
    "start_time": "2025-01-29T22:41:15.554Z"
   },
   {
    "duration": 6,
    "start_time": "2025-01-29T22:41:15.570Z"
   },
   {
    "duration": 41,
    "start_time": "2025-01-29T22:41:15.578Z"
   },
   {
    "duration": 14,
    "start_time": "2025-01-29T22:41:15.621Z"
   },
   {
    "duration": 14,
    "start_time": "2025-01-29T22:41:15.637Z"
   },
   {
    "duration": 17,
    "start_time": "2025-01-29T22:41:15.652Z"
   },
   {
    "duration": 48,
    "start_time": "2025-01-29T22:41:15.670Z"
   },
   {
    "duration": 11,
    "start_time": "2025-01-29T22:41:15.719Z"
   },
   {
    "duration": 43,
    "start_time": "2025-01-29T22:41:15.732Z"
   },
   {
    "duration": 0,
    "start_time": "2025-01-29T22:41:15.777Z"
   },
   {
    "duration": 0,
    "start_time": "2025-01-29T22:41:15.778Z"
   },
   {
    "duration": 0,
    "start_time": "2025-01-29T22:41:15.779Z"
   },
   {
    "duration": 0,
    "start_time": "2025-01-29T22:41:15.780Z"
   },
   {
    "duration": 0,
    "start_time": "2025-01-29T22:41:15.810Z"
   },
   {
    "duration": 0,
    "start_time": "2025-01-29T22:41:15.811Z"
   },
   {
    "duration": 0,
    "start_time": "2025-01-29T22:41:15.812Z"
   },
   {
    "duration": 0,
    "start_time": "2025-01-29T22:41:15.813Z"
   },
   {
    "duration": 50,
    "start_time": "2025-01-29T22:42:29.989Z"
   },
   {
    "duration": 96,
    "start_time": "2025-01-29T22:44:45.437Z"
   },
   {
    "duration": 2554,
    "start_time": "2025-01-30T16:35:14.926Z"
   },
   {
    "duration": 217,
    "start_time": "2025-01-30T16:35:17.482Z"
   },
   {
    "duration": 11,
    "start_time": "2025-01-30T16:35:17.701Z"
   },
   {
    "duration": 8,
    "start_time": "2025-01-30T16:35:17.713Z"
   },
   {
    "duration": 4,
    "start_time": "2025-01-30T16:35:17.724Z"
   },
   {
    "duration": 6,
    "start_time": "2025-01-30T16:35:17.731Z"
   },
   {
    "duration": 9,
    "start_time": "2025-01-30T16:35:17.739Z"
   },
   {
    "duration": 10,
    "start_time": "2025-01-30T16:35:17.749Z"
   },
   {
    "duration": 17,
    "start_time": "2025-01-30T16:35:17.760Z"
   },
   {
    "duration": 9,
    "start_time": "2025-01-30T16:35:17.811Z"
   },
   {
    "duration": 15,
    "start_time": "2025-01-30T16:35:17.822Z"
   },
   {
    "duration": 10,
    "start_time": "2025-01-30T16:35:17.838Z"
   },
   {
    "duration": 17,
    "start_time": "2025-01-30T16:35:17.850Z"
   },
   {
    "duration": 75,
    "start_time": "2025-01-30T16:35:17.871Z"
   },
   {
    "duration": 20,
    "start_time": "2025-01-30T16:35:17.947Z"
   },
   {
    "duration": 11,
    "start_time": "2025-01-30T16:35:17.969Z"
   },
   {
    "duration": 9,
    "start_time": "2025-01-30T16:35:17.981Z"
   },
   {
    "duration": 35,
    "start_time": "2025-01-30T16:35:18.012Z"
   },
   {
    "duration": 13,
    "start_time": "2025-01-30T16:35:18.049Z"
   },
   {
    "duration": 13,
    "start_time": "2025-01-30T16:35:18.063Z"
   },
   {
    "duration": 34,
    "start_time": "2025-01-30T16:35:18.077Z"
   },
   {
    "duration": 37,
    "start_time": "2025-01-30T16:35:18.113Z"
   },
   {
    "duration": 12,
    "start_time": "2025-01-30T16:35:18.152Z"
   },
   {
    "duration": 8,
    "start_time": "2025-01-30T16:35:18.165Z"
   },
   {
    "duration": 42,
    "start_time": "2025-01-30T16:35:18.175Z"
   },
   {
    "duration": 15,
    "start_time": "2025-01-30T16:35:18.219Z"
   },
   {
    "duration": 15,
    "start_time": "2025-01-30T16:35:18.235Z"
   },
   {
    "duration": 18,
    "start_time": "2025-01-30T16:35:18.252Z"
   },
   {
    "duration": 51,
    "start_time": "2025-01-30T16:35:18.272Z"
   },
   {
    "duration": 13,
    "start_time": "2025-01-30T16:35:18.325Z"
   },
   {
    "duration": 753,
    "start_time": "2025-01-30T16:35:18.340Z"
   },
   {
    "duration": 0,
    "start_time": "2025-01-30T16:35:19.095Z"
   },
   {
    "duration": 0,
    "start_time": "2025-01-30T16:35:19.097Z"
   },
   {
    "duration": 0,
    "start_time": "2025-01-30T16:35:19.098Z"
   },
   {
    "duration": 0,
    "start_time": "2025-01-30T16:35:19.099Z"
   },
   {
    "duration": 0,
    "start_time": "2025-01-30T16:35:19.112Z"
   },
   {
    "duration": 0,
    "start_time": "2025-01-30T16:35:19.113Z"
   },
   {
    "duration": 0,
    "start_time": "2025-01-30T16:35:19.114Z"
   },
   {
    "duration": 0,
    "start_time": "2025-01-30T16:35:19.115Z"
   },
   {
    "duration": 7,
    "start_time": "2025-01-30T16:45:47.426Z"
   },
   {
    "duration": 31,
    "start_time": "2025-01-30T16:45:52.595Z"
   },
   {
    "duration": 164,
    "start_time": "2025-01-30T16:46:08.073Z"
   },
   {
    "duration": 66,
    "start_time": "2025-01-30T16:49:58.978Z"
   },
   {
    "duration": 23,
    "start_time": "2025-01-30T16:50:54.212Z"
   },
   {
    "duration": 22,
    "start_time": "2025-01-30T16:51:07.400Z"
   },
   {
    "duration": 13,
    "start_time": "2025-01-30T16:51:13.533Z"
   },
   {
    "duration": 4,
    "start_time": "2025-01-30T16:57:41.207Z"
   },
   {
    "duration": 82,
    "start_time": "2025-01-30T16:58:15.675Z"
   },
   {
    "duration": 3,
    "start_time": "2025-01-30T16:58:54.690Z"
   },
   {
    "duration": 168,
    "start_time": "2025-01-30T16:58:54.696Z"
   },
   {
    "duration": 7,
    "start_time": "2025-01-30T16:58:54.865Z"
   },
   {
    "duration": 8,
    "start_time": "2025-01-30T16:58:54.874Z"
   },
   {
    "duration": 3,
    "start_time": "2025-01-30T16:58:54.885Z"
   },
   {
    "duration": 27,
    "start_time": "2025-01-30T16:58:54.889Z"
   },
   {
    "duration": 12,
    "start_time": "2025-01-30T16:58:54.917Z"
   },
   {
    "duration": 9,
    "start_time": "2025-01-30T16:58:54.931Z"
   },
   {
    "duration": 17,
    "start_time": "2025-01-30T16:58:54.943Z"
   },
   {
    "duration": 8,
    "start_time": "2025-01-30T16:58:54.962Z"
   },
   {
    "duration": 40,
    "start_time": "2025-01-30T16:58:54.972Z"
   },
   {
    "duration": 12,
    "start_time": "2025-01-30T16:58:55.014Z"
   },
   {
    "duration": 15,
    "start_time": "2025-01-30T16:58:55.029Z"
   },
   {
    "duration": 39,
    "start_time": "2025-01-30T16:58:55.047Z"
   },
   {
    "duration": 38,
    "start_time": "2025-01-30T16:58:55.087Z"
   },
   {
    "duration": 12,
    "start_time": "2025-01-30T16:58:55.126Z"
   },
   {
    "duration": 9,
    "start_time": "2025-01-30T16:58:55.140Z"
   },
   {
    "duration": 31,
    "start_time": "2025-01-30T16:58:55.150Z"
   },
   {
    "duration": 39,
    "start_time": "2025-01-30T16:58:55.183Z"
   },
   {
    "duration": 15,
    "start_time": "2025-01-30T16:58:55.223Z"
   },
   {
    "duration": 10,
    "start_time": "2025-01-30T16:58:55.239Z"
   },
   {
    "duration": 38,
    "start_time": "2025-01-30T16:58:55.250Z"
   },
   {
    "duration": 35,
    "start_time": "2025-01-30T16:58:55.290Z"
   },
   {
    "duration": 8,
    "start_time": "2025-01-30T16:58:55.326Z"
   },
   {
    "duration": 21,
    "start_time": "2025-01-30T16:58:55.336Z"
   },
   {
    "duration": 15,
    "start_time": "2025-01-30T16:58:55.358Z"
   },
   {
    "duration": 45,
    "start_time": "2025-01-30T16:58:55.374Z"
   },
   {
    "duration": 19,
    "start_time": "2025-01-30T16:58:55.421Z"
   },
   {
    "duration": 20,
    "start_time": "2025-01-30T16:58:55.441Z"
   },
   {
    "duration": 12,
    "start_time": "2025-01-30T16:58:55.463Z"
   },
   {
    "duration": 1037,
    "start_time": "2025-01-30T16:58:55.476Z"
   },
   {
    "duration": 7,
    "start_time": "2025-01-30T16:58:56.515Z"
   },
   {
    "duration": 3,
    "start_time": "2025-01-30T16:58:56.523Z"
   },
   {
    "duration": 3,
    "start_time": "2025-01-30T16:58:56.528Z"
   },
   {
    "duration": 2,
    "start_time": "2025-01-30T16:58:56.533Z"
   },
   {
    "duration": 3,
    "start_time": "2025-01-30T16:58:56.537Z"
   },
   {
    "duration": 3,
    "start_time": "2025-01-30T16:58:56.541Z"
   },
   {
    "duration": 3,
    "start_time": "2025-01-30T16:58:56.546Z"
   },
   {
    "duration": 3,
    "start_time": "2025-01-30T16:58:56.551Z"
   },
   {
    "duration": 13,
    "start_time": "2025-01-30T16:59:21.033Z"
   },
   {
    "duration": 171,
    "start_time": "2025-01-30T17:04:12.408Z"
   },
   {
    "duration": 8,
    "start_time": "2025-01-30T17:04:30.984Z"
   },
   {
    "duration": 86,
    "start_time": "2025-01-30T17:13:27.160Z"
   },
   {
    "duration": 802,
    "start_time": "2025-01-30T17:16:33.058Z"
   },
   {
    "duration": 3,
    "start_time": "2025-01-30T17:17:05.864Z"
   },
   {
    "duration": 167,
    "start_time": "2025-01-30T17:17:05.869Z"
   },
   {
    "duration": 10,
    "start_time": "2025-01-30T17:17:06.037Z"
   },
   {
    "duration": 8,
    "start_time": "2025-01-30T17:17:06.048Z"
   },
   {
    "duration": 4,
    "start_time": "2025-01-30T17:17:06.058Z"
   },
   {
    "duration": 8,
    "start_time": "2025-01-30T17:17:06.063Z"
   },
   {
    "duration": 8,
    "start_time": "2025-01-30T17:17:06.073Z"
   },
   {
    "duration": 34,
    "start_time": "2025-01-30T17:17:06.083Z"
   },
   {
    "duration": 165,
    "start_time": "2025-01-30T17:17:06.120Z"
   },
   {
    "duration": 11,
    "start_time": "2025-01-30T17:17:06.288Z"
   },
   {
    "duration": 25,
    "start_time": "2025-01-30T17:17:06.301Z"
   },
   {
    "duration": 11,
    "start_time": "2025-01-30T17:17:06.327Z"
   },
   {
    "duration": 17,
    "start_time": "2025-01-30T17:17:06.340Z"
   },
   {
    "duration": 62,
    "start_time": "2025-01-30T17:17:06.362Z"
   },
   {
    "duration": 20,
    "start_time": "2025-01-30T17:17:06.426Z"
   },
   {
    "duration": 12,
    "start_time": "2025-01-30T17:17:06.448Z"
   },
   {
    "duration": 11,
    "start_time": "2025-01-30T17:17:06.462Z"
   },
   {
    "duration": 56,
    "start_time": "2025-01-30T17:17:06.475Z"
   },
   {
    "duration": 12,
    "start_time": "2025-01-30T17:17:06.533Z"
   },
   {
    "duration": 13,
    "start_time": "2025-01-30T17:17:06.547Z"
   },
   {
    "duration": 10,
    "start_time": "2025-01-30T17:17:06.562Z"
   },
   {
    "duration": 66,
    "start_time": "2025-01-30T17:17:06.574Z"
   },
   {
    "duration": 14,
    "start_time": "2025-01-30T17:17:06.642Z"
   },
   {
    "duration": 9,
    "start_time": "2025-01-30T17:17:06.658Z"
   },
   {
    "duration": 43,
    "start_time": "2025-01-30T17:17:06.669Z"
   },
   {
    "duration": 15,
    "start_time": "2025-01-30T17:17:06.714Z"
   },
   {
    "duration": 16,
    "start_time": "2025-01-30T17:17:06.731Z"
   },
   {
    "duration": 19,
    "start_time": "2025-01-30T17:17:06.749Z"
   },
   {
    "duration": 50,
    "start_time": "2025-01-30T17:17:06.769Z"
   },
   {
    "duration": 12,
    "start_time": "2025-01-30T17:17:06.821Z"
   },
   {
    "duration": 1062,
    "start_time": "2025-01-30T17:17:06.835Z"
   },
   {
    "duration": 189,
    "start_time": "2025-01-30T17:17:07.899Z"
   },
   {
    "duration": 0,
    "start_time": "2025-01-30T17:17:08.090Z"
   },
   {
    "duration": 0,
    "start_time": "2025-01-30T17:17:08.091Z"
   },
   {
    "duration": 0,
    "start_time": "2025-01-30T17:17:08.092Z"
   },
   {
    "duration": 0,
    "start_time": "2025-01-30T17:17:08.093Z"
   },
   {
    "duration": 0,
    "start_time": "2025-01-30T17:17:08.094Z"
   },
   {
    "duration": 0,
    "start_time": "2025-01-30T17:17:08.112Z"
   },
   {
    "duration": 0,
    "start_time": "2025-01-30T17:17:08.113Z"
   },
   {
    "duration": 25,
    "start_time": "2025-01-30T17:22:43.447Z"
   },
   {
    "duration": 275,
    "start_time": "2025-01-30T17:22:54.727Z"
   },
   {
    "duration": 152,
    "start_time": "2025-01-30T17:23:29.529Z"
   },
   {
    "duration": 153,
    "start_time": "2025-01-30T17:24:42.603Z"
   },
   {
    "duration": 153,
    "start_time": "2025-01-30T17:26:56.727Z"
   },
   {
    "duration": 24,
    "start_time": "2025-01-30T17:33:10.317Z"
   },
   {
    "duration": 73,
    "start_time": "2025-01-30T17:33:15.516Z"
   },
   {
    "duration": 165,
    "start_time": "2025-01-30T17:33:15.591Z"
   },
   {
    "duration": 7,
    "start_time": "2025-01-30T17:33:15.757Z"
   },
   {
    "duration": 7,
    "start_time": "2025-01-30T17:33:15.766Z"
   },
   {
    "duration": 3,
    "start_time": "2025-01-30T17:33:15.777Z"
   },
   {
    "duration": 8,
    "start_time": "2025-01-30T17:33:15.781Z"
   },
   {
    "duration": 26,
    "start_time": "2025-01-30T17:33:15.790Z"
   },
   {
    "duration": 10,
    "start_time": "2025-01-30T17:33:15.818Z"
   },
   {
    "duration": 16,
    "start_time": "2025-01-30T17:33:15.830Z"
   },
   {
    "duration": 9,
    "start_time": "2025-01-30T17:33:15.848Z"
   },
   {
    "duration": 17,
    "start_time": "2025-01-30T17:33:15.859Z"
   },
   {
    "duration": 43,
    "start_time": "2025-01-30T17:33:15.878Z"
   },
   {
    "duration": 15,
    "start_time": "2025-01-30T17:33:15.923Z"
   },
   {
    "duration": 40,
    "start_time": "2025-01-30T17:33:15.942Z"
   },
   {
    "duration": 40,
    "start_time": "2025-01-30T17:33:15.984Z"
   },
   {
    "duration": 15,
    "start_time": "2025-01-30T17:33:16.026Z"
   },
   {
    "duration": 13,
    "start_time": "2025-01-30T17:33:16.043Z"
   },
   {
    "duration": 60,
    "start_time": "2025-01-30T17:33:16.058Z"
   },
   {
    "duration": 11,
    "start_time": "2025-01-30T17:33:16.120Z"
   },
   {
    "duration": 14,
    "start_time": "2025-01-30T17:33:16.133Z"
   },
   {
    "duration": 9,
    "start_time": "2025-01-30T17:33:16.150Z"
   },
   {
    "duration": 63,
    "start_time": "2025-01-30T17:33:16.161Z"
   },
   {
    "duration": 13,
    "start_time": "2025-01-30T17:33:16.226Z"
   },
   {
    "duration": 9,
    "start_time": "2025-01-30T17:33:16.241Z"
   },
   {
    "duration": 22,
    "start_time": "2025-01-30T17:33:16.251Z"
   },
   {
    "duration": 49,
    "start_time": "2025-01-30T17:33:16.276Z"
   },
   {
    "duration": 14,
    "start_time": "2025-01-30T17:33:16.327Z"
   },
   {
    "duration": 19,
    "start_time": "2025-01-30T17:33:16.343Z"
   },
   {
    "duration": 21,
    "start_time": "2025-01-30T17:33:16.363Z"
   },
   {
    "duration": 35,
    "start_time": "2025-01-30T17:33:16.386Z"
   },
   {
    "duration": 1044,
    "start_time": "2025-01-30T17:33:16.423Z"
   },
   {
    "duration": 229,
    "start_time": "2025-01-30T17:33:17.469Z"
   },
   {
    "duration": 11,
    "start_time": "2025-01-30T17:33:17.701Z"
   },
   {
    "duration": 2,
    "start_time": "2025-01-30T17:33:17.714Z"
   },
   {
    "duration": 3,
    "start_time": "2025-01-30T17:33:17.718Z"
   },
   {
    "duration": 3,
    "start_time": "2025-01-30T17:33:17.723Z"
   },
   {
    "duration": 3,
    "start_time": "2025-01-30T17:33:17.728Z"
   },
   {
    "duration": 3,
    "start_time": "2025-01-30T17:33:17.732Z"
   },
   {
    "duration": 3,
    "start_time": "2025-01-30T17:33:17.737Z"
   },
   {
    "duration": 216,
    "start_time": "2025-01-30T17:34:27.173Z"
   },
   {
    "duration": 258,
    "start_time": "2025-01-30T17:37:24.569Z"
   },
   {
    "duration": 174,
    "start_time": "2025-01-30T17:40:09.807Z"
   },
   {
    "duration": 2530,
    "start_time": "2025-01-30T19:03:17.105Z"
   },
   {
    "duration": 217,
    "start_time": "2025-01-30T19:03:19.637Z"
   },
   {
    "duration": 10,
    "start_time": "2025-01-30T19:03:19.855Z"
   },
   {
    "duration": 7,
    "start_time": "2025-01-30T19:03:19.867Z"
   },
   {
    "duration": 4,
    "start_time": "2025-01-30T19:03:19.877Z"
   },
   {
    "duration": 6,
    "start_time": "2025-01-30T19:03:19.883Z"
   },
   {
    "duration": 18,
    "start_time": "2025-01-30T19:03:19.891Z"
   },
   {
    "duration": 9,
    "start_time": "2025-01-30T19:03:19.911Z"
   },
   {
    "duration": 16,
    "start_time": "2025-01-30T19:03:19.922Z"
   },
   {
    "duration": 9,
    "start_time": "2025-01-30T19:03:19.940Z"
   },
   {
    "duration": 14,
    "start_time": "2025-01-30T19:03:19.951Z"
   },
   {
    "duration": 40,
    "start_time": "2025-01-30T19:03:19.966Z"
   },
   {
    "duration": 16,
    "start_time": "2025-01-30T19:03:20.008Z"
   },
   {
    "duration": 40,
    "start_time": "2025-01-30T19:03:20.028Z"
   },
   {
    "duration": 36,
    "start_time": "2025-01-30T19:03:20.070Z"
   },
   {
    "duration": 13,
    "start_time": "2025-01-30T19:03:20.108Z"
   },
   {
    "duration": 10,
    "start_time": "2025-01-30T19:03:20.122Z"
   },
   {
    "duration": 31,
    "start_time": "2025-01-30T19:03:20.133Z"
   },
   {
    "duration": 12,
    "start_time": "2025-01-30T19:03:20.166Z"
   },
   {
    "duration": 38,
    "start_time": "2025-01-30T19:03:20.179Z"
   },
   {
    "duration": 9,
    "start_time": "2025-01-30T19:03:20.219Z"
   },
   {
    "duration": 36,
    "start_time": "2025-01-30T19:03:20.230Z"
   },
   {
    "duration": 38,
    "start_time": "2025-01-30T19:03:20.267Z"
   },
   {
    "duration": 9,
    "start_time": "2025-01-30T19:03:20.307Z"
   },
   {
    "duration": 22,
    "start_time": "2025-01-30T19:03:20.318Z"
   },
   {
    "duration": 16,
    "start_time": "2025-01-30T19:03:20.341Z"
   },
   {
    "duration": 16,
    "start_time": "2025-01-30T19:03:20.358Z"
   },
   {
    "duration": 47,
    "start_time": "2025-01-30T19:03:20.375Z"
   },
   {
    "duration": 27,
    "start_time": "2025-01-30T19:03:20.424Z"
   },
   {
    "duration": 14,
    "start_time": "2025-01-30T19:03:20.455Z"
   },
   {
    "duration": 1052,
    "start_time": "2025-01-30T19:03:20.471Z"
   },
   {
    "duration": 264,
    "start_time": "2025-01-30T19:03:21.526Z"
   },
   {
    "duration": 187,
    "start_time": "2025-01-30T19:03:21.792Z"
   },
   {
    "duration": 3,
    "start_time": "2025-01-30T19:03:21.980Z"
   },
   {
    "duration": 2,
    "start_time": "2025-01-30T19:03:21.985Z"
   },
   {
    "duration": 2,
    "start_time": "2025-01-30T19:03:21.990Z"
   },
   {
    "duration": 2,
    "start_time": "2025-01-30T19:03:22.005Z"
   },
   {
    "duration": 3,
    "start_time": "2025-01-30T19:03:22.009Z"
   },
   {
    "duration": 2,
    "start_time": "2025-01-30T19:03:22.014Z"
   },
   {
    "duration": 8,
    "start_time": "2025-01-30T19:08:24.448Z"
   },
   {
    "duration": 119,
    "start_time": "2025-01-30T19:11:29.373Z"
   },
   {
    "duration": 110,
    "start_time": "2025-01-30T19:11:46.175Z"
   },
   {
    "duration": 163,
    "start_time": "2025-01-30T19:12:05.201Z"
   },
   {
    "duration": 106,
    "start_time": "2025-01-30T19:12:26.422Z"
   },
   {
    "duration": 112,
    "start_time": "2025-01-30T19:12:43.202Z"
   },
   {
    "duration": 7,
    "start_time": "2025-01-30T19:24:13.657Z"
   },
   {
    "duration": 143,
    "start_time": "2025-01-30T19:24:16.450Z"
   },
   {
    "duration": 103,
    "start_time": "2025-01-30T19:24:31.693Z"
   },
   {
    "duration": 3,
    "start_time": "2025-01-30T19:24:46.825Z"
   },
   {
    "duration": 168,
    "start_time": "2025-01-30T19:24:46.830Z"
   },
   {
    "duration": 8,
    "start_time": "2025-01-30T19:24:47.000Z"
   },
   {
    "duration": 7,
    "start_time": "2025-01-30T19:24:47.009Z"
   },
   {
    "duration": 3,
    "start_time": "2025-01-30T19:24:47.018Z"
   },
   {
    "duration": 7,
    "start_time": "2025-01-30T19:24:47.023Z"
   },
   {
    "duration": 7,
    "start_time": "2025-01-30T19:24:47.032Z"
   },
   {
    "duration": 9,
    "start_time": "2025-01-30T19:24:47.041Z"
   },
   {
    "duration": 53,
    "start_time": "2025-01-30T19:24:47.052Z"
   },
   {
    "duration": 9,
    "start_time": "2025-01-30T19:24:47.107Z"
   },
   {
    "duration": 14,
    "start_time": "2025-01-30T19:24:47.118Z"
   },
   {
    "duration": 10,
    "start_time": "2025-01-30T19:24:47.134Z"
   },
   {
    "duration": 15,
    "start_time": "2025-01-30T19:24:47.148Z"
   },
   {
    "duration": 66,
    "start_time": "2025-01-30T19:24:47.164Z"
   },
   {
    "duration": 18,
    "start_time": "2025-01-30T19:24:47.232Z"
   },
   {
    "duration": 11,
    "start_time": "2025-01-30T19:24:47.251Z"
   },
   {
    "duration": 9,
    "start_time": "2025-01-30T19:24:47.264Z"
   },
   {
    "duration": 59,
    "start_time": "2025-01-30T19:24:47.275Z"
   },
   {
    "duration": 11,
    "start_time": "2025-01-30T19:24:47.336Z"
   },
   {
    "duration": 13,
    "start_time": "2025-01-30T19:24:47.349Z"
   },
   {
    "duration": 9,
    "start_time": "2025-01-30T19:24:47.364Z"
   },
   {
    "duration": 63,
    "start_time": "2025-01-30T19:24:47.375Z"
   },
   {
    "duration": 13,
    "start_time": "2025-01-30T19:24:47.440Z"
   },
   {
    "duration": 7,
    "start_time": "2025-01-30T19:24:47.454Z"
   },
   {
    "duration": 41,
    "start_time": "2025-01-30T19:24:47.465Z"
   },
   {
    "duration": 15,
    "start_time": "2025-01-30T19:24:47.507Z"
   },
   {
    "duration": 15,
    "start_time": "2025-01-30T19:24:47.524Z"
   },
   {
    "duration": 18,
    "start_time": "2025-01-30T19:24:47.541Z"
   },
   {
    "duration": 48,
    "start_time": "2025-01-30T19:24:47.560Z"
   },
   {
    "duration": 13,
    "start_time": "2025-01-30T19:24:47.609Z"
   },
   {
    "duration": 1041,
    "start_time": "2025-01-30T19:24:47.624Z"
   },
   {
    "duration": 251,
    "start_time": "2025-01-30T19:24:48.667Z"
   },
   {
    "duration": 179,
    "start_time": "2025-01-30T19:24:48.919Z"
   },
   {
    "duration": 7,
    "start_time": "2025-01-30T19:24:49.105Z"
   },
   {
    "duration": 119,
    "start_time": "2025-01-30T19:24:49.114Z"
   },
   {
    "duration": 7,
    "start_time": "2025-01-30T19:24:49.237Z"
   },
   {
    "duration": 160,
    "start_time": "2025-01-30T19:24:49.246Z"
   },
   {
    "duration": 172,
    "start_time": "2025-01-30T19:24:49.408Z"
   },
   {
    "duration": 2,
    "start_time": "2025-01-30T19:24:49.582Z"
   },
   {
    "duration": 2,
    "start_time": "2025-01-30T19:24:49.586Z"
   },
   {
    "duration": 16,
    "start_time": "2025-01-30T19:24:49.589Z"
   },
   {
    "duration": 95,
    "start_time": "2025-01-30T19:25:12.612Z"
   },
   {
    "duration": 2,
    "start_time": "2025-01-30T19:25:21.315Z"
   },
   {
    "duration": 160,
    "start_time": "2025-01-30T19:25:21.320Z"
   },
   {
    "duration": 7,
    "start_time": "2025-01-30T19:25:21.482Z"
   },
   {
    "duration": 15,
    "start_time": "2025-01-30T19:25:21.491Z"
   },
   {
    "duration": 3,
    "start_time": "2025-01-30T19:25:21.510Z"
   },
   {
    "duration": 7,
    "start_time": "2025-01-30T19:25:21.515Z"
   },
   {
    "duration": 9,
    "start_time": "2025-01-30T19:25:21.524Z"
   },
   {
    "duration": 9,
    "start_time": "2025-01-30T19:25:21.535Z"
   },
   {
    "duration": 18,
    "start_time": "2025-01-30T19:25:21.546Z"
   },
   {
    "duration": 47,
    "start_time": "2025-01-30T19:25:21.566Z"
   },
   {
    "duration": 18,
    "start_time": "2025-01-30T19:25:21.615Z"
   },
   {
    "duration": 9,
    "start_time": "2025-01-30T19:25:21.636Z"
   },
   {
    "duration": 15,
    "start_time": "2025-01-30T19:25:21.647Z"
   },
   {
    "duration": 64,
    "start_time": "2025-01-30T19:25:21.666Z"
   },
   {
    "duration": 19,
    "start_time": "2025-01-30T19:25:21.732Z"
   },
   {
    "duration": 11,
    "start_time": "2025-01-30T19:25:21.752Z"
   },
   {
    "duration": 8,
    "start_time": "2025-01-30T19:25:21.765Z"
   },
   {
    "duration": 56,
    "start_time": "2025-01-30T19:25:21.775Z"
   },
   {
    "duration": 11,
    "start_time": "2025-01-30T19:25:21.833Z"
   },
   {
    "duration": 13,
    "start_time": "2025-01-30T19:25:21.845Z"
   },
   {
    "duration": 9,
    "start_time": "2025-01-30T19:25:21.859Z"
   },
   {
    "duration": 60,
    "start_time": "2025-01-30T19:25:21.870Z"
   },
   {
    "duration": 12,
    "start_time": "2025-01-30T19:25:21.932Z"
   },
   {
    "duration": 7,
    "start_time": "2025-01-30T19:25:21.946Z"
   },
   {
    "duration": 22,
    "start_time": "2025-01-30T19:25:21.955Z"
   },
   {
    "duration": 40,
    "start_time": "2025-01-30T19:25:21.978Z"
   },
   {
    "duration": 17,
    "start_time": "2025-01-30T19:25:22.020Z"
   },
   {
    "duration": 21,
    "start_time": "2025-01-30T19:25:22.039Z"
   },
   {
    "duration": 44,
    "start_time": "2025-01-30T19:25:22.061Z"
   },
   {
    "duration": 11,
    "start_time": "2025-01-30T19:25:22.107Z"
   },
   {
    "duration": 1015,
    "start_time": "2025-01-30T19:25:22.120Z"
   },
   {
    "duration": 242,
    "start_time": "2025-01-30T19:25:23.137Z"
   },
   {
    "duration": 177,
    "start_time": "2025-01-30T19:25:23.381Z"
   },
   {
    "duration": 8,
    "start_time": "2025-01-30T19:25:23.560Z"
   },
   {
    "duration": 122,
    "start_time": "2025-01-30T19:25:23.569Z"
   },
   {
    "duration": 15,
    "start_time": "2025-01-30T19:25:23.693Z"
   },
   {
    "duration": 144,
    "start_time": "2025-01-30T19:25:23.710Z"
   },
   {
    "duration": 109,
    "start_time": "2025-01-30T19:25:23.856Z"
   },
   {
    "duration": 3,
    "start_time": "2025-01-30T19:25:23.966Z"
   },
   {
    "duration": 3,
    "start_time": "2025-01-30T19:25:23.970Z"
   },
   {
    "duration": 2,
    "start_time": "2025-01-30T19:25:23.976Z"
   },
   {
    "duration": 200,
    "start_time": "2025-01-30T19:26:16.606Z"
   },
   {
    "duration": 6,
    "start_time": "2025-01-30T19:27:31.890Z"
   },
   {
    "duration": 259,
    "start_time": "2025-01-30T19:27:32.748Z"
   },
   {
    "duration": 311,
    "start_time": "2025-01-30T19:33:37.051Z"
   },
   {
    "duration": 8,
    "start_time": "2025-01-30T19:34:17.292Z"
   },
   {
    "duration": 424,
    "start_time": "2025-01-30T19:34:41.634Z"
   },
   {
    "duration": 199,
    "start_time": "2025-01-30T19:34:49.578Z"
   },
   {
    "duration": 7,
    "start_time": "2025-01-30T19:37:49.335Z"
   },
   {
    "duration": 290,
    "start_time": "2025-01-30T19:40:17.592Z"
   },
   {
    "duration": 100,
    "start_time": "2025-01-30T19:42:52.031Z"
   },
   {
    "duration": 204,
    "start_time": "2025-01-30T19:43:01.313Z"
   },
   {
    "duration": 2715,
    "start_time": "2025-01-30T22:12:25.848Z"
   },
   {
    "duration": 234,
    "start_time": "2025-01-30T22:12:28.567Z"
   },
   {
    "duration": 10,
    "start_time": "2025-01-30T22:12:28.803Z"
   },
   {
    "duration": 7,
    "start_time": "2025-01-30T22:12:28.815Z"
   },
   {
    "duration": 5,
    "start_time": "2025-01-30T22:12:28.824Z"
   },
   {
    "duration": 8,
    "start_time": "2025-01-30T22:12:28.831Z"
   },
   {
    "duration": 10,
    "start_time": "2025-01-30T22:12:28.841Z"
   },
   {
    "duration": 10,
    "start_time": "2025-01-30T22:12:28.852Z"
   },
   {
    "duration": 54,
    "start_time": "2025-01-30T22:12:28.864Z"
   },
   {
    "duration": 13,
    "start_time": "2025-01-30T22:12:28.923Z"
   },
   {
    "duration": 18,
    "start_time": "2025-01-30T22:12:28.938Z"
   },
   {
    "duration": 13,
    "start_time": "2025-01-30T22:12:28.960Z"
   },
   {
    "duration": 43,
    "start_time": "2025-01-30T22:12:28.975Z"
   },
   {
    "duration": 44,
    "start_time": "2025-01-30T22:12:29.020Z"
   },
   {
    "duration": 19,
    "start_time": "2025-01-30T22:12:29.066Z"
   },
   {
    "duration": 34,
    "start_time": "2025-01-30T22:12:29.087Z"
   },
   {
    "duration": 10,
    "start_time": "2025-01-30T22:12:29.123Z"
   },
   {
    "duration": 32,
    "start_time": "2025-01-30T22:12:29.135Z"
   },
   {
    "duration": 12,
    "start_time": "2025-01-30T22:12:29.169Z"
   },
   {
    "duration": 39,
    "start_time": "2025-01-30T22:12:29.183Z"
   },
   {
    "duration": 9,
    "start_time": "2025-01-30T22:12:29.224Z"
   },
   {
    "duration": 38,
    "start_time": "2025-01-30T22:12:29.235Z"
   },
   {
    "duration": 39,
    "start_time": "2025-01-30T22:12:29.274Z"
   },
   {
    "duration": 9,
    "start_time": "2025-01-30T22:12:29.315Z"
   },
   {
    "duration": 22,
    "start_time": "2025-01-30T22:12:29.326Z"
   },
   {
    "duration": 17,
    "start_time": "2025-01-30T22:12:29.350Z"
   },
   {
    "duration": 46,
    "start_time": "2025-01-30T22:12:29.369Z"
   },
   {
    "duration": 20,
    "start_time": "2025-01-30T22:12:29.419Z"
   },
   {
    "duration": 20,
    "start_time": "2025-01-30T22:12:29.440Z"
   },
   {
    "duration": 13,
    "start_time": "2025-01-30T22:12:29.462Z"
   },
   {
    "duration": 1073,
    "start_time": "2025-01-30T22:12:29.476Z"
   },
   {
    "duration": 258,
    "start_time": "2025-01-30T22:12:30.551Z"
   },
   {
    "duration": 181,
    "start_time": "2025-01-30T22:12:30.810Z"
   },
   {
    "duration": 16,
    "start_time": "2025-01-30T22:12:30.993Z"
   },
   {
    "duration": 125,
    "start_time": "2025-01-30T22:12:31.011Z"
   },
   {
    "duration": 7,
    "start_time": "2025-01-30T22:12:31.138Z"
   },
   {
    "duration": 206,
    "start_time": "2025-01-30T22:12:31.148Z"
   },
   {
    "duration": 8,
    "start_time": "2025-01-30T22:12:31.356Z"
   },
   {
    "duration": 278,
    "start_time": "2025-01-30T22:12:31.366Z"
   },
   {
    "duration": 7,
    "start_time": "2025-01-30T22:12:31.646Z"
   },
   {
    "duration": 217,
    "start_time": "2025-01-30T22:12:31.655Z"
   },
   {
    "duration": 2,
    "start_time": "2025-01-30T22:12:31.874Z"
   },
   {
    "duration": 4,
    "start_time": "2025-01-30T22:12:31.877Z"
   },
   {
    "duration": 570,
    "start_time": "2025-01-30T22:14:36.448Z"
   },
   {
    "duration": 21,
    "start_time": "2025-01-30T22:17:38.009Z"
   },
   {
    "duration": 7,
    "start_time": "2025-01-30T22:17:47.846Z"
   },
   {
    "duration": 6,
    "start_time": "2025-01-30T22:33:13.929Z"
   },
   {
    "duration": 3002,
    "start_time": "2025-01-31T00:16:31.775Z"
   },
   {
    "duration": 238,
    "start_time": "2025-01-31T00:16:34.781Z"
   },
   {
    "duration": 10,
    "start_time": "2025-01-31T00:16:35.020Z"
   },
   {
    "duration": 7,
    "start_time": "2025-01-31T00:16:35.032Z"
   },
   {
    "duration": 4,
    "start_time": "2025-01-31T00:16:35.042Z"
   },
   {
    "duration": 8,
    "start_time": "2025-01-31T00:16:35.047Z"
   },
   {
    "duration": 10,
    "start_time": "2025-01-31T00:16:35.059Z"
   },
   {
    "duration": 10,
    "start_time": "2025-01-31T00:16:35.071Z"
   },
   {
    "duration": 27,
    "start_time": "2025-01-31T00:16:35.083Z"
   },
   {
    "duration": 41,
    "start_time": "2025-01-31T00:16:35.112Z"
   },
   {
    "duration": 21,
    "start_time": "2025-01-31T00:16:35.156Z"
   },
   {
    "duration": 15,
    "start_time": "2025-01-31T00:16:35.182Z"
   },
   {
    "duration": 43,
    "start_time": "2025-01-31T00:16:35.200Z"
   },
   {
    "duration": 56,
    "start_time": "2025-01-31T00:16:35.248Z"
   },
   {
    "duration": 44,
    "start_time": "2025-01-31T00:16:35.308Z"
   },
   {
    "duration": 17,
    "start_time": "2025-01-31T00:16:35.355Z"
   },
   {
    "duration": 12,
    "start_time": "2025-01-31T00:16:35.374Z"
   },
   {
    "duration": 69,
    "start_time": "2025-01-31T00:16:35.388Z"
   },
   {
    "duration": 13,
    "start_time": "2025-01-31T00:16:35.460Z"
   },
   {
    "duration": 16,
    "start_time": "2025-01-31T00:16:35.475Z"
   },
   {
    "duration": 11,
    "start_time": "2025-01-31T00:16:35.493Z"
   },
   {
    "duration": 70,
    "start_time": "2025-01-31T00:16:35.506Z"
   },
   {
    "duration": 19,
    "start_time": "2025-01-31T00:16:35.577Z"
   },
   {
    "duration": 13,
    "start_time": "2025-01-31T00:16:35.599Z"
   },
   {
    "duration": 51,
    "start_time": "2025-01-31T00:16:35.615Z"
   },
   {
    "duration": 18,
    "start_time": "2025-01-31T00:16:35.668Z"
   },
   {
    "duration": 28,
    "start_time": "2025-01-31T00:16:35.688Z"
   },
   {
    "duration": 23,
    "start_time": "2025-01-31T00:16:35.743Z"
   },
   {
    "duration": 6,
    "start_time": "2025-01-31T00:16:35.770Z"
   },
   {
    "duration": 0,
    "start_time": "2025-01-31T00:16:35.778Z"
   },
   {
    "duration": 0,
    "start_time": "2025-01-31T00:16:35.780Z"
   },
   {
    "duration": 0,
    "start_time": "2025-01-31T00:16:35.782Z"
   },
   {
    "duration": 0,
    "start_time": "2025-01-31T00:16:35.783Z"
   },
   {
    "duration": 0,
    "start_time": "2025-01-31T00:16:35.786Z"
   },
   {
    "duration": 0,
    "start_time": "2025-01-31T00:16:35.788Z"
   },
   {
    "duration": 0,
    "start_time": "2025-01-31T00:16:35.790Z"
   },
   {
    "duration": 0,
    "start_time": "2025-01-31T00:16:35.791Z"
   },
   {
    "duration": 0,
    "start_time": "2025-01-31T00:16:35.792Z"
   },
   {
    "duration": 0,
    "start_time": "2025-01-31T00:16:35.794Z"
   },
   {
    "duration": 0,
    "start_time": "2025-01-31T00:16:35.796Z"
   },
   {
    "duration": 0,
    "start_time": "2025-01-31T00:16:35.798Z"
   },
   {
    "duration": 0,
    "start_time": "2025-01-31T00:16:35.799Z"
   },
   {
    "duration": 0,
    "start_time": "2025-01-31T00:16:35.801Z"
   },
   {
    "duration": 4,
    "start_time": "2025-01-31T00:23:02.411Z"
   },
   {
    "duration": 133,
    "start_time": "2025-01-31T00:24:07.029Z"
   },
   {
    "duration": 20,
    "start_time": "2025-01-31T00:24:34.062Z"
   },
   {
    "duration": 4,
    "start_time": "2025-01-31T00:24:45.525Z"
   },
   {
    "duration": 20,
    "start_time": "2025-01-31T00:25:03.605Z"
   },
   {
    "duration": 4,
    "start_time": "2025-01-31T00:25:08.703Z"
   },
   {
    "duration": 23,
    "start_time": "2025-01-31T00:26:35.531Z"
   },
   {
    "duration": 3,
    "start_time": "2025-01-31T00:26:48.537Z"
   },
   {
    "duration": 163,
    "start_time": "2025-01-31T00:26:48.542Z"
   },
   {
    "duration": 8,
    "start_time": "2025-01-31T00:26:48.707Z"
   },
   {
    "duration": 7,
    "start_time": "2025-01-31T00:26:48.716Z"
   },
   {
    "duration": 18,
    "start_time": "2025-01-31T00:26:48.725Z"
   },
   {
    "duration": 8,
    "start_time": "2025-01-31T00:26:48.744Z"
   },
   {
    "duration": 8,
    "start_time": "2025-01-31T00:26:48.753Z"
   },
   {
    "duration": 10,
    "start_time": "2025-01-31T00:26:48.763Z"
   },
   {
    "duration": 19,
    "start_time": "2025-01-31T00:26:48.775Z"
   },
   {
    "duration": 9,
    "start_time": "2025-01-31T00:26:48.796Z"
   },
   {
    "duration": 16,
    "start_time": "2025-01-31T00:26:48.844Z"
   },
   {
    "duration": 11,
    "start_time": "2025-01-31T00:26:48.861Z"
   },
   {
    "duration": 15,
    "start_time": "2025-01-31T00:26:48.875Z"
   },
   {
    "duration": 62,
    "start_time": "2025-01-31T00:26:48.891Z"
   },
   {
    "duration": 19,
    "start_time": "2025-01-31T00:26:48.955Z"
   },
   {
    "duration": 12,
    "start_time": "2025-01-31T00:26:48.976Z"
   },
   {
    "duration": 11,
    "start_time": "2025-01-31T00:26:48.990Z"
   },
   {
    "duration": 62,
    "start_time": "2025-01-31T00:26:49.003Z"
   },
   {
    "duration": 12,
    "start_time": "2025-01-31T00:26:49.066Z"
   },
   {
    "duration": 13,
    "start_time": "2025-01-31T00:26:49.079Z"
   },
   {
    "duration": 13,
    "start_time": "2025-01-31T00:26:49.093Z"
   },
   {
    "duration": 64,
    "start_time": "2025-01-31T00:26:49.108Z"
   },
   {
    "duration": 12,
    "start_time": "2025-01-31T00:26:49.175Z"
   },
   {
    "duration": 7,
    "start_time": "2025-01-31T00:26:49.189Z"
   },
   {
    "duration": 18,
    "start_time": "2025-01-31T00:26:49.197Z"
   },
   {
    "duration": 34,
    "start_time": "2025-01-31T00:26:49.217Z"
   },
   {
    "duration": 16,
    "start_time": "2025-01-31T00:26:49.253Z"
   },
   {
    "duration": 18,
    "start_time": "2025-01-31T00:26:49.271Z"
   },
   {
    "duration": 20,
    "start_time": "2025-01-31T00:26:49.291Z"
   },
   {
    "duration": 0,
    "start_time": "2025-01-31T00:26:49.314Z"
   },
   {
    "duration": 0,
    "start_time": "2025-01-31T00:26:49.315Z"
   },
   {
    "duration": 0,
    "start_time": "2025-01-31T00:26:49.316Z"
   },
   {
    "duration": 0,
    "start_time": "2025-01-31T00:26:49.343Z"
   },
   {
    "duration": 0,
    "start_time": "2025-01-31T00:26:49.344Z"
   },
   {
    "duration": 0,
    "start_time": "2025-01-31T00:26:49.345Z"
   },
   {
    "duration": 0,
    "start_time": "2025-01-31T00:26:49.346Z"
   },
   {
    "duration": 0,
    "start_time": "2025-01-31T00:26:49.348Z"
   },
   {
    "duration": 0,
    "start_time": "2025-01-31T00:26:49.349Z"
   },
   {
    "duration": 0,
    "start_time": "2025-01-31T00:26:49.351Z"
   },
   {
    "duration": 0,
    "start_time": "2025-01-31T00:26:49.352Z"
   },
   {
    "duration": 0,
    "start_time": "2025-01-31T00:26:49.354Z"
   },
   {
    "duration": 0,
    "start_time": "2025-01-31T00:26:49.355Z"
   },
   {
    "duration": 0,
    "start_time": "2025-01-31T00:26:49.356Z"
   },
   {
    "duration": 19,
    "start_time": "2025-01-31T00:27:46.592Z"
   },
   {
    "duration": 14,
    "start_time": "2025-01-31T00:29:44.433Z"
   },
   {
    "duration": 12,
    "start_time": "2025-01-31T00:29:51.361Z"
   },
   {
    "duration": 12,
    "start_time": "2025-01-31T00:30:22.872Z"
   },
   {
    "duration": 17,
    "start_time": "2025-01-31T00:30:32.474Z"
   },
   {
    "duration": 3,
    "start_time": "2025-01-31T00:30:38.992Z"
   },
   {
    "duration": 150,
    "start_time": "2025-01-31T00:30:38.999Z"
   },
   {
    "duration": 7,
    "start_time": "2025-01-31T00:30:39.151Z"
   },
   {
    "duration": 8,
    "start_time": "2025-01-31T00:30:39.159Z"
   },
   {
    "duration": 4,
    "start_time": "2025-01-31T00:30:39.168Z"
   },
   {
    "duration": 8,
    "start_time": "2025-01-31T00:30:39.174Z"
   },
   {
    "duration": 9,
    "start_time": "2025-01-31T00:30:39.184Z"
   },
   {
    "duration": 10,
    "start_time": "2025-01-31T00:30:39.194Z"
   },
   {
    "duration": 55,
    "start_time": "2025-01-31T00:30:39.205Z"
   },
   {
    "duration": 10,
    "start_time": "2025-01-31T00:30:39.262Z"
   },
   {
    "duration": 14,
    "start_time": "2025-01-31T00:30:39.274Z"
   },
   {
    "duration": 10,
    "start_time": "2025-01-31T00:30:39.290Z"
   },
   {
    "duration": 45,
    "start_time": "2025-01-31T00:30:39.301Z"
   },
   {
    "duration": 39,
    "start_time": "2025-01-31T00:30:39.348Z"
   },
   {
    "duration": 18,
    "start_time": "2025-01-31T00:30:39.391Z"
   },
   {
    "duration": 12,
    "start_time": "2025-01-31T00:30:39.411Z"
   },
   {
    "duration": 10,
    "start_time": "2025-01-31T00:30:39.443Z"
   },
   {
    "duration": 33,
    "start_time": "2025-01-31T00:30:39.454Z"
   },
   {
    "duration": 12,
    "start_time": "2025-01-31T00:30:39.489Z"
   },
   {
    "duration": 15,
    "start_time": "2025-01-31T00:30:39.502Z"
   },
   {
    "duration": 11,
    "start_time": "2025-01-31T00:30:39.543Z"
   },
   {
    "duration": 35,
    "start_time": "2025-01-31T00:30:39.557Z"
   },
   {
    "duration": 13,
    "start_time": "2025-01-31T00:30:39.594Z"
   },
   {
    "duration": 34,
    "start_time": "2025-01-31T00:30:39.608Z"
   },
   {
    "duration": 24,
    "start_time": "2025-01-31T00:30:39.646Z"
   },
   {
    "duration": 17,
    "start_time": "2025-01-31T00:30:39.672Z"
   },
   {
    "duration": 15,
    "start_time": "2025-01-31T00:30:39.692Z"
   },
   {
    "duration": 35,
    "start_time": "2025-01-31T00:30:39.709Z"
   },
   {
    "duration": 15,
    "start_time": "2025-01-31T00:30:39.746Z"
   },
   {
    "duration": 16,
    "start_time": "2025-01-31T00:30:39.762Z"
   },
   {
    "duration": 1081,
    "start_time": "2025-01-31T00:30:39.781Z"
   },
   {
    "duration": 286,
    "start_time": "2025-01-31T00:30:40.864Z"
   },
   {
    "duration": 177,
    "start_time": "2025-01-31T00:30:41.154Z"
   },
   {
    "duration": 14,
    "start_time": "2025-01-31T00:30:41.333Z"
   },
   {
    "duration": 179,
    "start_time": "2025-01-31T00:30:41.349Z"
   },
   {
    "duration": 15,
    "start_time": "2025-01-31T00:30:41.530Z"
   },
   {
    "duration": 197,
    "start_time": "2025-01-31T00:30:41.547Z"
   },
   {
    "duration": 7,
    "start_time": "2025-01-31T00:30:41.746Z"
   },
   {
    "duration": 199,
    "start_time": "2025-01-31T00:30:41.755Z"
   },
   {
    "duration": 7,
    "start_time": "2025-01-31T00:30:41.956Z"
   },
   {
    "duration": 206,
    "start_time": "2025-01-31T00:30:41.965Z"
   },
   {
    "duration": 9,
    "start_time": "2025-01-31T00:30:42.177Z"
   },
   {
    "duration": 5,
    "start_time": "2025-01-31T00:30:42.187Z"
   },
   {
    "duration": 5,
    "start_time": "2025-01-31T00:31:33.693Z"
   },
   {
    "duration": 5,
    "start_time": "2025-01-31T00:31:40.992Z"
   },
   {
    "duration": 4,
    "start_time": "2025-01-31T00:32:25.162Z"
   },
   {
    "duration": 2526,
    "start_time": "2025-01-31T14:07:23.566Z"
   },
   {
    "duration": 228,
    "start_time": "2025-01-31T14:07:26.094Z"
   },
   {
    "duration": 10,
    "start_time": "2025-01-31T14:07:26.324Z"
   },
   {
    "duration": 7,
    "start_time": "2025-01-31T14:07:26.337Z"
   },
   {
    "duration": 4,
    "start_time": "2025-01-31T14:07:26.345Z"
   },
   {
    "duration": 7,
    "start_time": "2025-01-31T14:07:26.351Z"
   },
   {
    "duration": 9,
    "start_time": "2025-01-31T14:07:26.359Z"
   },
   {
    "duration": 8,
    "start_time": "2025-01-31T14:07:26.370Z"
   },
   {
    "duration": 40,
    "start_time": "2025-01-31T14:07:26.380Z"
   },
   {
    "duration": 9,
    "start_time": "2025-01-31T14:07:26.423Z"
   },
   {
    "duration": 14,
    "start_time": "2025-01-31T14:07:26.434Z"
   },
   {
    "duration": 10,
    "start_time": "2025-01-31T14:07:26.449Z"
   },
   {
    "duration": 16,
    "start_time": "2025-01-31T14:07:26.461Z"
   },
   {
    "duration": 42,
    "start_time": "2025-01-31T14:07:26.504Z"
   },
   {
    "duration": 20,
    "start_time": "2025-01-31T14:07:26.548Z"
   },
   {
    "duration": 11,
    "start_time": "2025-01-31T14:07:26.570Z"
   },
   {
    "duration": 29,
    "start_time": "2025-01-31T14:07:26.583Z"
   },
   {
    "duration": 32,
    "start_time": "2025-01-31T14:07:26.614Z"
   },
   {
    "duration": 11,
    "start_time": "2025-01-31T14:07:26.647Z"
   },
   {
    "duration": 13,
    "start_time": "2025-01-31T14:07:26.660Z"
   },
   {
    "duration": 39,
    "start_time": "2025-01-31T14:07:26.674Z"
   },
   {
    "duration": 38,
    "start_time": "2025-01-31T14:07:26.715Z"
   },
   {
    "duration": 14,
    "start_time": "2025-01-31T14:07:26.755Z"
   },
   {
    "duration": 8,
    "start_time": "2025-01-31T14:07:26.771Z"
   },
   {
    "duration": 44,
    "start_time": "2025-01-31T14:07:26.781Z"
   },
   {
    "duration": 16,
    "start_time": "2025-01-31T14:07:26.826Z"
   },
   {
    "duration": 15,
    "start_time": "2025-01-31T14:07:26.843Z"
   },
   {
    "duration": 18,
    "start_time": "2025-01-31T14:07:26.863Z"
   },
   {
    "duration": 16,
    "start_time": "2025-01-31T14:07:26.906Z"
   },
   {
    "duration": 15,
    "start_time": "2025-01-31T14:07:26.924Z"
   },
   {
    "duration": 1023,
    "start_time": "2025-01-31T14:07:26.941Z"
   },
   {
    "duration": 269,
    "start_time": "2025-01-31T14:07:27.966Z"
   },
   {
    "duration": 176,
    "start_time": "2025-01-31T14:07:28.237Z"
   },
   {
    "duration": 8,
    "start_time": "2025-01-31T14:07:28.415Z"
   },
   {
    "duration": 121,
    "start_time": "2025-01-31T14:07:28.424Z"
   },
   {
    "duration": 7,
    "start_time": "2025-01-31T14:07:28.547Z"
   },
   {
    "duration": 203,
    "start_time": "2025-01-31T14:07:28.556Z"
   },
   {
    "duration": 7,
    "start_time": "2025-01-31T14:07:28.760Z"
   },
   {
    "duration": 292,
    "start_time": "2025-01-31T14:07:28.769Z"
   },
   {
    "duration": 7,
    "start_time": "2025-01-31T14:07:29.063Z"
   },
   {
    "duration": 212,
    "start_time": "2025-01-31T14:07:29.071Z"
   },
   {
    "duration": 7,
    "start_time": "2025-01-31T14:07:29.285Z"
   },
   {
    "duration": 13,
    "start_time": "2025-01-31T14:07:29.294Z"
   },
   {
    "duration": 12,
    "start_time": "2025-01-31T14:08:46.737Z"
   },
   {
    "duration": 16,
    "start_time": "2025-01-31T14:08:47.989Z"
   },
   {
    "duration": 4,
    "start_time": "2025-01-31T14:11:11.930Z"
   },
   {
    "duration": 6,
    "start_time": "2025-01-31T14:11:18.317Z"
   },
   {
    "duration": 11,
    "start_time": "2025-01-31T14:12:23.187Z"
   },
   {
    "duration": 4,
    "start_time": "2025-01-31T14:12:39.569Z"
   },
   {
    "duration": 5,
    "start_time": "2025-01-31T14:13:08.413Z"
   },
   {
    "duration": 17,
    "start_time": "2025-01-31T14:13:28.924Z"
   },
   {
    "duration": 8,
    "start_time": "2025-01-31T14:16:50.128Z"
   },
   {
    "duration": 631,
    "start_time": "2025-01-31T14:19:00.374Z"
   },
   {
    "duration": 51,
    "start_time": "2025-01-31T14:19:28.460Z"
   },
   {
    "duration": 4,
    "start_time": "2025-01-31T14:19:32.709Z"
   },
   {
    "duration": 171,
    "start_time": "2025-01-31T14:19:32.716Z"
   },
   {
    "duration": 7,
    "start_time": "2025-01-31T14:19:32.889Z"
   },
   {
    "duration": 11,
    "start_time": "2025-01-31T14:19:32.906Z"
   },
   {
    "duration": 3,
    "start_time": "2025-01-31T14:19:32.920Z"
   },
   {
    "duration": 8,
    "start_time": "2025-01-31T14:19:32.925Z"
   },
   {
    "duration": 9,
    "start_time": "2025-01-31T14:19:32.934Z"
   },
   {
    "duration": 9,
    "start_time": "2025-01-31T14:19:32.944Z"
   },
   {
    "duration": 18,
    "start_time": "2025-01-31T14:19:32.954Z"
   },
   {
    "duration": 14,
    "start_time": "2025-01-31T14:19:33.004Z"
   },
   {
    "duration": 16,
    "start_time": "2025-01-31T14:19:33.019Z"
   },
   {
    "duration": 11,
    "start_time": "2025-01-31T14:19:33.036Z"
   },
   {
    "duration": 15,
    "start_time": "2025-01-31T14:19:33.048Z"
   },
   {
    "duration": 68,
    "start_time": "2025-01-31T14:19:33.066Z"
   },
   {
    "duration": 19,
    "start_time": "2025-01-31T14:19:33.136Z"
   },
   {
    "duration": 12,
    "start_time": "2025-01-31T14:19:33.157Z"
   },
   {
    "duration": 9,
    "start_time": "2025-01-31T14:19:33.170Z"
   },
   {
    "duration": 58,
    "start_time": "2025-01-31T14:19:33.180Z"
   },
   {
    "duration": 14,
    "start_time": "2025-01-31T14:19:33.241Z"
   },
   {
    "duration": 14,
    "start_time": "2025-01-31T14:19:33.256Z"
   },
   {
    "duration": 9,
    "start_time": "2025-01-31T14:19:33.272Z"
   },
   {
    "duration": 56,
    "start_time": "2025-01-31T14:19:33.283Z"
   },
   {
    "duration": 13,
    "start_time": "2025-01-31T14:19:33.340Z"
   },
   {
    "duration": 7,
    "start_time": "2025-01-31T14:19:33.354Z"
   },
   {
    "duration": 43,
    "start_time": "2025-01-31T14:19:33.363Z"
   },
   {
    "duration": 17,
    "start_time": "2025-01-31T14:19:33.407Z"
   },
   {
    "duration": 19,
    "start_time": "2025-01-31T14:19:33.426Z"
   },
   {
    "duration": 18,
    "start_time": "2025-01-31T14:19:33.446Z"
   },
   {
    "duration": 12,
    "start_time": "2025-01-31T14:19:33.465Z"
   },
   {
    "duration": 16,
    "start_time": "2025-01-31T14:19:33.505Z"
   },
   {
    "duration": 1016,
    "start_time": "2025-01-31T14:19:33.523Z"
   },
   {
    "duration": 243,
    "start_time": "2025-01-31T14:19:34.541Z"
   },
   {
    "duration": 179,
    "start_time": "2025-01-31T14:19:34.786Z"
   },
   {
    "duration": 7,
    "start_time": "2025-01-31T14:19:34.967Z"
   },
   {
    "duration": 229,
    "start_time": "2025-01-31T14:19:34.976Z"
   },
   {
    "duration": 8,
    "start_time": "2025-01-31T14:19:35.207Z"
   },
   {
    "duration": 204,
    "start_time": "2025-01-31T14:19:35.217Z"
   },
   {
    "duration": 7,
    "start_time": "2025-01-31T14:19:35.422Z"
   },
   {
    "duration": 203,
    "start_time": "2025-01-31T14:19:35.431Z"
   },
   {
    "duration": 7,
    "start_time": "2025-01-31T14:19:35.637Z"
   },
   {
    "duration": 208,
    "start_time": "2025-01-31T14:19:35.649Z"
   },
   {
    "duration": 18,
    "start_time": "2025-01-31T14:19:35.859Z"
   },
   {
    "duration": 5,
    "start_time": "2025-01-31T14:19:35.880Z"
   },
   {
    "duration": 24,
    "start_time": "2025-01-31T14:19:35.887Z"
   },
   {
    "duration": 3,
    "start_time": "2025-01-31T14:24:42.632Z"
   },
   {
    "duration": 156,
    "start_time": "2025-01-31T14:24:42.637Z"
   },
   {
    "duration": 12,
    "start_time": "2025-01-31T14:24:42.796Z"
   },
   {
    "duration": 7,
    "start_time": "2025-01-31T14:24:42.810Z"
   },
   {
    "duration": 4,
    "start_time": "2025-01-31T14:24:42.819Z"
   },
   {
    "duration": 9,
    "start_time": "2025-01-31T14:24:42.824Z"
   },
   {
    "duration": 8,
    "start_time": "2025-01-31T14:24:42.834Z"
   },
   {
    "duration": 9,
    "start_time": "2025-01-31T14:24:42.844Z"
   },
   {
    "duration": 52,
    "start_time": "2025-01-31T14:24:42.855Z"
   },
   {
    "duration": 14,
    "start_time": "2025-01-31T14:24:42.910Z"
   },
   {
    "duration": 14,
    "start_time": "2025-01-31T14:24:42.927Z"
   },
   {
    "duration": 9,
    "start_time": "2025-01-31T14:24:42.942Z"
   },
   {
    "duration": 14,
    "start_time": "2025-01-31T14:24:42.953Z"
   },
   {
    "duration": 66,
    "start_time": "2025-01-31T14:24:42.969Z"
   },
   {
    "duration": 20,
    "start_time": "2025-01-31T14:24:43.037Z"
   },
   {
    "duration": 11,
    "start_time": "2025-01-31T14:24:43.059Z"
   },
   {
    "duration": 10,
    "start_time": "2025-01-31T14:24:43.071Z"
   },
   {
    "duration": 61,
    "start_time": "2025-01-31T14:24:43.082Z"
   },
   {
    "duration": 12,
    "start_time": "2025-01-31T14:24:43.144Z"
   },
   {
    "duration": 12,
    "start_time": "2025-01-31T14:24:43.158Z"
   },
   {
    "duration": 9,
    "start_time": "2025-01-31T14:24:43.171Z"
   },
   {
    "duration": 36,
    "start_time": "2025-01-31T14:24:43.206Z"
   },
   {
    "duration": 13,
    "start_time": "2025-01-31T14:24:43.243Z"
   },
   {
    "duration": 7,
    "start_time": "2025-01-31T14:24:43.258Z"
   },
   {
    "duration": 40,
    "start_time": "2025-01-31T14:24:43.266Z"
   },
   {
    "duration": 15,
    "start_time": "2025-01-31T14:24:43.308Z"
   },
   {
    "duration": 15,
    "start_time": "2025-01-31T14:24:43.324Z"
   },
   {
    "duration": 18,
    "start_time": "2025-01-31T14:24:43.341Z"
   },
   {
    "duration": 42,
    "start_time": "2025-01-31T14:24:43.363Z"
   },
   {
    "duration": 16,
    "start_time": "2025-01-31T14:24:43.406Z"
   },
   {
    "duration": 1031,
    "start_time": "2025-01-31T14:24:43.424Z"
   },
   {
    "duration": 240,
    "start_time": "2025-01-31T14:24:44.458Z"
   },
   {
    "duration": 178,
    "start_time": "2025-01-31T14:24:44.705Z"
   },
   {
    "duration": 7,
    "start_time": "2025-01-31T14:24:44.885Z"
   },
   {
    "duration": 114,
    "start_time": "2025-01-31T14:24:44.905Z"
   },
   {
    "duration": 7,
    "start_time": "2025-01-31T14:24:45.021Z"
   },
   {
    "duration": 198,
    "start_time": "2025-01-31T14:24:45.030Z"
   },
   {
    "duration": 6,
    "start_time": "2025-01-31T14:24:45.230Z"
   },
   {
    "duration": 294,
    "start_time": "2025-01-31T14:24:45.238Z"
   },
   {
    "duration": 8,
    "start_time": "2025-01-31T14:24:45.534Z"
   },
   {
    "duration": 207,
    "start_time": "2025-01-31T14:24:45.543Z"
   },
   {
    "duration": 7,
    "start_time": "2025-01-31T14:24:45.752Z"
   },
   {
    "duration": 12,
    "start_time": "2025-01-31T14:24:45.761Z"
   },
   {
    "duration": 2533,
    "start_time": "2025-01-31T14:26:34.082Z"
   },
   {
    "duration": 204,
    "start_time": "2025-01-31T14:26:36.617Z"
   },
   {
    "duration": 10,
    "start_time": "2025-01-31T14:26:36.823Z"
   },
   {
    "duration": 7,
    "start_time": "2025-01-31T14:26:36.835Z"
   },
   {
    "duration": 5,
    "start_time": "2025-01-31T14:26:36.844Z"
   },
   {
    "duration": 7,
    "start_time": "2025-01-31T14:26:36.851Z"
   },
   {
    "duration": 18,
    "start_time": "2025-01-31T14:26:36.860Z"
   },
   {
    "duration": 10,
    "start_time": "2025-01-31T14:26:36.880Z"
   },
   {
    "duration": 16,
    "start_time": "2025-01-31T14:26:36.892Z"
   },
   {
    "duration": 9,
    "start_time": "2025-01-31T14:26:36.911Z"
   },
   {
    "duration": 16,
    "start_time": "2025-01-31T14:26:36.922Z"
   },
   {
    "duration": 43,
    "start_time": "2025-01-31T14:26:36.939Z"
   },
   {
    "duration": 17,
    "start_time": "2025-01-31T14:26:36.983Z"
   },
   {
    "duration": 42,
    "start_time": "2025-01-31T14:26:37.002Z"
   },
   {
    "duration": 34,
    "start_time": "2025-01-31T14:26:37.046Z"
   },
   {
    "duration": 12,
    "start_time": "2025-01-31T14:26:37.083Z"
   },
   {
    "duration": 10,
    "start_time": "2025-01-31T14:26:37.097Z"
   },
   {
    "duration": 34,
    "start_time": "2025-01-31T14:26:37.108Z"
   },
   {
    "duration": 41,
    "start_time": "2025-01-31T14:26:37.144Z"
   },
   {
    "duration": 15,
    "start_time": "2025-01-31T14:26:37.187Z"
   },
   {
    "duration": 11,
    "start_time": "2025-01-31T14:26:37.205Z"
   },
   {
    "duration": 55,
    "start_time": "2025-01-31T14:26:37.217Z"
   },
   {
    "duration": 14,
    "start_time": "2025-01-31T14:26:37.274Z"
   },
   {
    "duration": 7,
    "start_time": "2025-01-31T14:26:37.290Z"
   },
   {
    "duration": 20,
    "start_time": "2025-01-31T14:26:37.299Z"
   },
   {
    "duration": 15,
    "start_time": "2025-01-31T14:26:37.321Z"
   },
   {
    "duration": 45,
    "start_time": "2025-01-31T14:26:37.339Z"
   },
   {
    "duration": 18,
    "start_time": "2025-01-31T14:26:37.388Z"
   },
   {
    "duration": 12,
    "start_time": "2025-01-31T14:26:37.408Z"
   },
   {
    "duration": 15,
    "start_time": "2025-01-31T14:26:37.421Z"
   },
   {
    "duration": 1043,
    "start_time": "2025-01-31T14:26:37.437Z"
   },
   {
    "duration": 256,
    "start_time": "2025-01-31T14:26:38.481Z"
   },
   {
    "duration": 180,
    "start_time": "2025-01-31T14:26:38.740Z"
   },
   {
    "duration": 7,
    "start_time": "2025-01-31T14:26:38.923Z"
   },
   {
    "duration": 123,
    "start_time": "2025-01-31T14:26:38.932Z"
   },
   {
    "duration": 18,
    "start_time": "2025-01-31T14:26:39.057Z"
   },
   {
    "duration": 206,
    "start_time": "2025-01-31T14:26:39.077Z"
   },
   {
    "duration": 8,
    "start_time": "2025-01-31T14:26:39.285Z"
   },
   {
    "duration": 266,
    "start_time": "2025-01-31T14:26:39.295Z"
   },
   {
    "duration": 12,
    "start_time": "2025-01-31T14:26:39.563Z"
   },
   {
    "duration": 213,
    "start_time": "2025-01-31T14:26:39.577Z"
   },
   {
    "duration": 6,
    "start_time": "2025-01-31T14:26:39.792Z"
   },
   {
    "duration": 12,
    "start_time": "2025-01-31T14:26:39.800Z"
   },
   {
    "duration": 2561,
    "start_time": "2025-01-31T16:47:19.722Z"
   },
   {
    "duration": 215,
    "start_time": "2025-01-31T16:47:22.285Z"
   },
   {
    "duration": 11,
    "start_time": "2025-01-31T16:47:22.501Z"
   },
   {
    "duration": 6,
    "start_time": "2025-01-31T16:47:22.515Z"
   },
   {
    "duration": 3,
    "start_time": "2025-01-31T16:47:22.524Z"
   },
   {
    "duration": 8,
    "start_time": "2025-01-31T16:47:22.529Z"
   },
   {
    "duration": 9,
    "start_time": "2025-01-31T16:47:22.538Z"
   },
   {
    "duration": 10,
    "start_time": "2025-01-31T16:47:22.549Z"
   },
   {
    "duration": 18,
    "start_time": "2025-01-31T16:47:22.560Z"
   },
   {
    "duration": 9,
    "start_time": "2025-01-31T16:47:22.581Z"
   },
   {
    "duration": 47,
    "start_time": "2025-01-31T16:47:22.592Z"
   },
   {
    "duration": 11,
    "start_time": "2025-01-31T16:47:22.641Z"
   },
   {
    "duration": 17,
    "start_time": "2025-01-31T16:47:22.654Z"
   },
   {
    "duration": 63,
    "start_time": "2025-01-31T16:47:22.672Z"
   },
   {
    "duration": 19,
    "start_time": "2025-01-31T16:47:22.737Z"
   },
   {
    "duration": 11,
    "start_time": "2025-01-31T16:47:22.757Z"
   },
   {
    "duration": 9,
    "start_time": "2025-01-31T16:47:22.770Z"
   },
   {
    "duration": 56,
    "start_time": "2025-01-31T16:47:22.781Z"
   },
   {
    "duration": 11,
    "start_time": "2025-01-31T16:47:22.838Z"
   },
   {
    "duration": 13,
    "start_time": "2025-01-31T16:47:22.851Z"
   },
   {
    "duration": 9,
    "start_time": "2025-01-31T16:47:22.865Z"
   },
   {
    "duration": 57,
    "start_time": "2025-01-31T16:47:22.876Z"
   },
   {
    "duration": 14,
    "start_time": "2025-01-31T16:47:22.935Z"
   },
   {
    "duration": 6,
    "start_time": "2025-01-31T16:47:22.951Z"
   },
   {
    "duration": 22,
    "start_time": "2025-01-31T16:47:22.959Z"
   },
   {
    "duration": 15,
    "start_time": "2025-01-31T16:47:22.982Z"
   },
   {
    "duration": 46,
    "start_time": "2025-01-31T16:47:22.999Z"
   },
   {
    "duration": 18,
    "start_time": "2025-01-31T16:47:23.049Z"
   },
   {
    "duration": 13,
    "start_time": "2025-01-31T16:47:23.068Z"
   },
   {
    "duration": 14,
    "start_time": "2025-01-31T16:47:23.083Z"
   },
   {
    "duration": 1022,
    "start_time": "2025-01-31T16:47:23.099Z"
   },
   {
    "duration": 259,
    "start_time": "2025-01-31T16:47:24.123Z"
   },
   {
    "duration": 190,
    "start_time": "2025-01-31T16:47:24.384Z"
   },
   {
    "duration": 9,
    "start_time": "2025-01-31T16:47:24.576Z"
   },
   {
    "duration": 127,
    "start_time": "2025-01-31T16:47:24.586Z"
   },
   {
    "duration": 16,
    "start_time": "2025-01-31T16:47:24.715Z"
   },
   {
    "duration": 197,
    "start_time": "2025-01-31T16:47:24.733Z"
   },
   {
    "duration": 6,
    "start_time": "2025-01-31T16:47:24.932Z"
   },
   {
    "duration": 269,
    "start_time": "2025-01-31T16:47:24.940Z"
   },
   {
    "duration": 7,
    "start_time": "2025-01-31T16:47:25.212Z"
   },
   {
    "duration": 230,
    "start_time": "2025-01-31T16:47:25.221Z"
   },
   {
    "duration": 7,
    "start_time": "2025-01-31T16:47:25.453Z"
   },
   {
    "duration": 12,
    "start_time": "2025-01-31T16:47:25.461Z"
   },
   {
    "duration": 15,
    "start_time": "2025-01-31T16:49:20.533Z"
   },
   {
    "duration": 11,
    "start_time": "2025-01-31T16:49:46.108Z"
   },
   {
    "duration": 178,
    "start_time": "2025-01-31T19:54:58.803Z"
   },
   {
    "duration": 2557,
    "start_time": "2025-01-31T19:55:02.906Z"
   },
   {
    "duration": 236,
    "start_time": "2025-01-31T19:55:05.465Z"
   },
   {
    "duration": 10,
    "start_time": "2025-01-31T19:55:05.703Z"
   },
   {
    "duration": 7,
    "start_time": "2025-01-31T19:55:05.715Z"
   },
   {
    "duration": 3,
    "start_time": "2025-01-31T19:55:05.726Z"
   },
   {
    "duration": 7,
    "start_time": "2025-01-31T19:55:05.731Z"
   },
   {
    "duration": 9,
    "start_time": "2025-01-31T19:55:05.740Z"
   },
   {
    "duration": 28,
    "start_time": "2025-01-31T19:55:05.750Z"
   },
   {
    "duration": 18,
    "start_time": "2025-01-31T19:55:05.779Z"
   },
   {
    "duration": 9,
    "start_time": "2025-01-31T19:55:05.799Z"
   },
   {
    "duration": 16,
    "start_time": "2025-01-31T19:55:05.810Z"
   },
   {
    "duration": 11,
    "start_time": "2025-01-31T19:55:05.827Z"
   },
   {
    "duration": 16,
    "start_time": "2025-01-31T19:55:05.871Z"
   },
   {
    "duration": 43,
    "start_time": "2025-01-31T19:55:05.891Z"
   },
   {
    "duration": 36,
    "start_time": "2025-01-31T19:55:05.935Z"
   },
   {
    "duration": 12,
    "start_time": "2025-01-31T19:55:05.972Z"
   },
   {
    "duration": 9,
    "start_time": "2025-01-31T19:55:05.985Z"
   },
   {
    "duration": 32,
    "start_time": "2025-01-31T19:55:05.996Z"
   },
   {
    "duration": 12,
    "start_time": "2025-01-31T19:55:06.029Z"
   },
   {
    "duration": 14,
    "start_time": "2025-01-31T19:55:06.069Z"
   },
   {
    "duration": 9,
    "start_time": "2025-01-31T19:55:06.086Z"
   },
   {
    "duration": 37,
    "start_time": "2025-01-31T19:55:06.096Z"
   },
   {
    "duration": 13,
    "start_time": "2025-01-31T19:55:06.135Z"
   },
   {
    "duration": 7,
    "start_time": "2025-01-31T19:55:06.170Z"
   },
   {
    "duration": 22,
    "start_time": "2025-01-31T19:55:06.179Z"
   },
   {
    "duration": 16,
    "start_time": "2025-01-31T19:55:06.203Z"
   },
   {
    "duration": 15,
    "start_time": "2025-01-31T19:55:06.220Z"
   },
   {
    "duration": 46,
    "start_time": "2025-01-31T19:55:06.237Z"
   },
   {
    "duration": 14,
    "start_time": "2025-01-31T19:55:06.285Z"
   },
   {
    "duration": 15,
    "start_time": "2025-01-31T19:55:06.301Z"
   },
   {
    "duration": 1157,
    "start_time": "2025-01-31T19:55:06.318Z"
   },
   {
    "duration": 255,
    "start_time": "2025-01-31T19:55:07.477Z"
   },
   {
    "duration": 183,
    "start_time": "2025-01-31T19:55:07.734Z"
   },
   {
    "duration": 7,
    "start_time": "2025-01-31T19:55:07.919Z"
   },
   {
    "duration": 123,
    "start_time": "2025-01-31T19:55:07.928Z"
   },
   {
    "duration": 17,
    "start_time": "2025-01-31T19:55:08.053Z"
   },
   {
    "duration": 200,
    "start_time": "2025-01-31T19:55:08.071Z"
   },
   {
    "duration": 7,
    "start_time": "2025-01-31T19:55:08.274Z"
   },
   {
    "duration": 220,
    "start_time": "2025-01-31T19:55:08.282Z"
   },
   {
    "duration": 8,
    "start_time": "2025-01-31T19:55:08.504Z"
   },
   {
    "duration": 216,
    "start_time": "2025-01-31T19:55:08.517Z"
   },
   {
    "duration": 7,
    "start_time": "2025-01-31T19:55:08.735Z"
   },
   {
    "duration": 26,
    "start_time": "2025-01-31T19:55:08.744Z"
   },
   {
    "duration": 5,
    "start_time": "2025-01-31T20:13:43.344Z"
   },
   {
    "duration": 2573,
    "start_time": "2025-01-31T23:44:17.975Z"
   },
   {
    "duration": 216,
    "start_time": "2025-01-31T23:44:20.550Z"
   },
   {
    "duration": 10,
    "start_time": "2025-01-31T23:44:20.767Z"
   },
   {
    "duration": 6,
    "start_time": "2025-01-31T23:44:20.779Z"
   },
   {
    "duration": 4,
    "start_time": "2025-01-31T23:44:20.788Z"
   },
   {
    "duration": 8,
    "start_time": "2025-01-31T23:44:20.793Z"
   },
   {
    "duration": 9,
    "start_time": "2025-01-31T23:44:20.803Z"
   },
   {
    "duration": 10,
    "start_time": "2025-01-31T23:44:20.813Z"
   },
   {
    "duration": 53,
    "start_time": "2025-01-31T23:44:20.824Z"
   },
   {
    "duration": 10,
    "start_time": "2025-01-31T23:44:20.879Z"
   },
   {
    "duration": 15,
    "start_time": "2025-01-31T23:44:20.891Z"
   },
   {
    "duration": 10,
    "start_time": "2025-01-31T23:44:20.907Z"
   },
   {
    "duration": 17,
    "start_time": "2025-01-31T23:44:20.918Z"
   },
   {
    "duration": 67,
    "start_time": "2025-01-31T23:44:20.940Z"
   },
   {
    "duration": 19,
    "start_time": "2025-01-31T23:44:21.008Z"
   },
   {
    "duration": 12,
    "start_time": "2025-01-31T23:44:21.028Z"
   },
   {
    "duration": 30,
    "start_time": "2025-01-31T23:44:21.042Z"
   },
   {
    "duration": 30,
    "start_time": "2025-01-31T23:44:21.074Z"
   },
   {
    "duration": 11,
    "start_time": "2025-01-31T23:44:21.106Z"
   },
   {
    "duration": 13,
    "start_time": "2025-01-31T23:44:21.118Z"
   },
   {
    "duration": 10,
    "start_time": "2025-01-31T23:44:21.133Z"
   },
   {
    "duration": 36,
    "start_time": "2025-01-31T23:44:21.170Z"
   },
   {
    "duration": 12,
    "start_time": "2025-01-31T23:44:21.208Z"
   },
   {
    "duration": 8,
    "start_time": "2025-01-31T23:44:21.222Z"
   },
   {
    "duration": 43,
    "start_time": "2025-01-31T23:44:21.231Z"
   },
   {
    "duration": 15,
    "start_time": "2025-01-31T23:44:21.276Z"
   },
   {
    "duration": 17,
    "start_time": "2025-01-31T23:44:21.292Z"
   },
   {
    "duration": 19,
    "start_time": "2025-01-31T23:44:21.311Z"
   },
   {
    "duration": 38,
    "start_time": "2025-01-31T23:44:21.332Z"
   },
   {
    "duration": 20,
    "start_time": "2025-01-31T23:44:21.371Z"
   },
   {
    "duration": 1040,
    "start_time": "2025-01-31T23:44:21.393Z"
   },
   {
    "duration": 255,
    "start_time": "2025-01-31T23:44:22.435Z"
   },
   {
    "duration": 187,
    "start_time": "2025-01-31T23:44:22.692Z"
   },
   {
    "duration": 8,
    "start_time": "2025-01-31T23:44:22.880Z"
   },
   {
    "duration": 131,
    "start_time": "2025-01-31T23:44:22.889Z"
   },
   {
    "duration": 7,
    "start_time": "2025-01-31T23:44:23.022Z"
   },
   {
    "duration": 199,
    "start_time": "2025-01-31T23:44:23.032Z"
   },
   {
    "duration": 8,
    "start_time": "2025-01-31T23:44:23.233Z"
   },
   {
    "duration": 263,
    "start_time": "2025-01-31T23:44:23.242Z"
   },
   {
    "duration": 7,
    "start_time": "2025-01-31T23:44:23.507Z"
   },
   {
    "duration": 214,
    "start_time": "2025-01-31T23:44:23.518Z"
   },
   {
    "duration": 7,
    "start_time": "2025-01-31T23:44:23.734Z"
   },
   {
    "duration": 12,
    "start_time": "2025-01-31T23:44:23.743Z"
   },
   {
    "duration": 11,
    "start_time": "2025-01-31T23:49:16.880Z"
   },
   {
    "duration": 1033,
    "start_time": "2025-01-31T23:50:23.844Z"
   },
   {
    "duration": 12,
    "start_time": "2025-01-31T23:50:38.650Z"
   },
   {
    "duration": 2516,
    "start_time": "2025-02-01T18:14:18.368Z"
   },
   {
    "duration": 217,
    "start_time": "2025-02-01T18:14:20.887Z"
   },
   {
    "duration": 10,
    "start_time": "2025-02-01T18:14:21.106Z"
   },
   {
    "duration": 7,
    "start_time": "2025-02-01T18:14:21.120Z"
   },
   {
    "duration": 4,
    "start_time": "2025-02-01T18:14:21.128Z"
   },
   {
    "duration": 7,
    "start_time": "2025-02-01T18:14:21.134Z"
   },
   {
    "duration": 9,
    "start_time": "2025-02-01T18:14:21.142Z"
   },
   {
    "duration": 10,
    "start_time": "2025-02-01T18:14:21.153Z"
   },
   {
    "duration": 25,
    "start_time": "2025-02-01T18:14:21.165Z"
   },
   {
    "duration": 40,
    "start_time": "2025-02-01T18:14:21.193Z"
   },
   {
    "duration": 15,
    "start_time": "2025-02-01T18:14:21.234Z"
   },
   {
    "duration": 11,
    "start_time": "2025-02-01T18:14:21.251Z"
   },
   {
    "duration": 18,
    "start_time": "2025-02-01T18:14:21.264Z"
   },
   {
    "duration": 71,
    "start_time": "2025-02-01T18:14:21.284Z"
   },
   {
    "duration": 20,
    "start_time": "2025-02-01T18:14:21.357Z"
   },
   {
    "duration": 11,
    "start_time": "2025-02-01T18:14:21.378Z"
   },
   {
    "duration": 34,
    "start_time": "2025-02-01T18:14:21.391Z"
   },
   {
    "duration": 33,
    "start_time": "2025-02-01T18:14:21.427Z"
   },
   {
    "duration": 11,
    "start_time": "2025-02-01T18:14:21.462Z"
   },
   {
    "duration": 13,
    "start_time": "2025-02-01T18:14:21.474Z"
   },
   {
    "duration": 9,
    "start_time": "2025-02-01T18:14:21.489Z"
   },
   {
    "duration": 37,
    "start_time": "2025-02-01T18:14:21.525Z"
   },
   {
    "duration": 15,
    "start_time": "2025-02-01T18:14:21.564Z"
   },
   {
    "duration": 7,
    "start_time": "2025-02-01T18:14:21.581Z"
   },
   {
    "duration": 45,
    "start_time": "2025-02-01T18:14:21.590Z"
   },
   {
    "duration": 16,
    "start_time": "2025-02-01T18:14:21.637Z"
   },
   {
    "duration": 15,
    "start_time": "2025-02-01T18:14:21.654Z"
   },
   {
    "duration": 26,
    "start_time": "2025-02-01T18:14:21.674Z"
   },
   {
    "duration": 34,
    "start_time": "2025-02-01T18:14:21.702Z"
   },
   {
    "duration": 15,
    "start_time": "2025-02-01T18:14:21.737Z"
   },
   {
    "duration": 1061,
    "start_time": "2025-02-01T18:14:21.754Z"
   },
   {
    "duration": 244,
    "start_time": "2025-02-01T18:14:22.824Z"
   },
   {
    "duration": 186,
    "start_time": "2025-02-01T18:14:23.070Z"
   },
   {
    "duration": 7,
    "start_time": "2025-02-01T18:14:23.258Z"
   },
   {
    "duration": 135,
    "start_time": "2025-02-01T18:14:23.266Z"
   },
   {
    "duration": 8,
    "start_time": "2025-02-01T18:14:23.403Z"
   },
   {
    "duration": 206,
    "start_time": "2025-02-01T18:14:23.412Z"
   },
   {
    "duration": 9,
    "start_time": "2025-02-01T18:14:23.620Z"
   },
   {
    "duration": 260,
    "start_time": "2025-02-01T18:14:23.631Z"
   },
   {
    "duration": 7,
    "start_time": "2025-02-01T18:14:23.892Z"
   },
   {
    "duration": 200,
    "start_time": "2025-02-01T18:14:23.901Z"
   },
   {
    "duration": 7,
    "start_time": "2025-02-01T18:14:24.103Z"
   },
   {
    "duration": 12,
    "start_time": "2025-02-01T18:14:24.124Z"
   },
   {
    "duration": 12,
    "start_time": "2025-02-01T18:15:04.977Z"
   }
  ],
  "kernelspec": {
   "display_name": "Python 3 (ipykernel)",
   "language": "python",
   "name": "python3"
  },
  "language_info": {
   "codemirror_mode": {
    "name": "ipython",
    "version": 3
   },
   "file_extension": ".py",
   "mimetype": "text/x-python",
   "name": "python",
   "nbconvert_exporter": "python",
   "pygments_lexer": "ipython3",
   "version": "3.9.19"
  },
  "toc": {
   "base_numbering": 1,
   "nav_menu": {},
   "number_sections": true,
   "sideBar": true,
   "skip_h1_title": false,
   "title_cell": "Table of Contents",
   "title_sidebar": "Contents",
   "toc_cell": false,
   "toc_position": {},
   "toc_section_display": true,
   "toc_window_display": false
  }
 },
 "nbformat": 4,
 "nbformat_minor": 2
}
